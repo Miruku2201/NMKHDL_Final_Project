{
 "cells": [
  {
   "cell_type": "markdown",
   "metadata": {},
   "source": [
    "#### **Install các thư viện cần thiết**"
   ]
  },
  {
   "cell_type": "code",
   "execution_count": null,
   "metadata": {},
   "outputs": [],
   "source": [
    "!pip install scrapy\n",
    "!pip install spider3"
   ]
  },
  {
   "cell_type": "markdown",
   "metadata": {},
   "source": [
    "#### **Import packages**"
   ]
  },
  {
   "cell_type": "code",
   "execution_count": 1,
   "metadata": {},
   "outputs": [],
   "source": [
    "import json\n",
    "import re\n",
    "import pandas as pd\n",
    "import scrapy"
   ]
  },
  {
   "cell_type": "markdown",
   "metadata": {},
   "source": [
    "#### **Tạo project với scrapy**"
   ]
  },
  {
   "cell_type": "code",
   "execution_count": null,
   "metadata": {},
   "outputs": [],
   "source": [
    "!scrapy startproject laptopmedia"
   ]
  },
  {
   "cell_type": "markdown",
   "metadata": {},
   "source": [
    "#### **Viết class để parse url của từng trang**"
   ]
  },
  {
   "cell_type": "code",
   "execution_count": null,
   "metadata": {},
   "outputs": [],
   "source": [
    "import scrapy\n",
    "import re \n",
    "\n",
    "class collect_laptop_url(scrapy.Spider):\n",
    "  name='laptop_urls' \n",
    "  custom_settings = {\n",
    "        'CONCURRENT_REQUESTS_PER_DOMAIN': 1,\n",
    "        'DOWNLOAD_DELAY': 1\n",
    "        }\n",
    "  handle_httpstatus_list = [403]\n",
    "  \n",
    "  def start_requests(self):\n",
    "    urls = ['https://laptopmedia.com/specs/?q=&hPP=1000&idx=laptops&p=0']\n",
    "    yield scrapy.Request(url=urls[0], callback = self.parse)\n",
    "  def parse(self, response):\n",
    "    for href in response.xpath('//*[@id=\"results_container\"]/div/div/article/a[1]/@href').extract():\n",
    "        yield {\n",
    "          'laptop_url': href\n",
    "        }\n",
    "    offset = re.findall(r'p=(\\d+)', response.url)[0]\n",
    "    if int(offset) < 20:\n",
    "      next_url = 'https://laptopmedia.com/specs/?q=&hPP=20&idx=laptops&p=' + str(int(offset)+1) \n",
    "      yield response.follow(next_url, callback = self.parse, dont_filter=True)"
   ]
  },
  {
   "cell_type": "code",
   "execution_count": null,
   "metadata": {},
   "outputs": [],
   "source": [
    "!pwd"
   ]
  },
  {
   "cell_type": "code",
   "execution_count": null,
   "metadata": {},
   "outputs": [],
   "source": [
    "!cd laptopmedia/laptopmedia\n",
    "!scrapy crawl laptop_urls -o dataset/laptop_urls.json"
   ]
  },
  {
   "cell_type": "code",
   "execution_count": 2,
   "metadata": {},
   "outputs": [],
   "source": [
    "import requests\n",
    "from selenium.webdriver.common.by import By\n",
    "from selenium import webdriver\n",
    "from selenium.webdriver.chrome.service import Service\n",
    "from webdriver_manager.chrome import ChromeDriverManager\n",
    "from selenium.webdriver.support import expected_conditions as EC\n",
    "from selenium.webdriver.support.ui import WebDriverWait\n",
    "from lxml import html\n",
    "import json\n",
    "import httpx\n",
    "import urllib.request\n",
    "from time import sleep\n",
    "\n"
   ]
  },
  {
   "cell_type": "code",
   "execution_count": 36,
   "metadata": {},
   "outputs": [
    {
     "name": "stdout",
     "output_type": "stream",
     "text": [
      "{'count': 14195, 'display_value': 'Sách kinh tế', 'query_value': 846, 'url_key': 'sach-kinh-te'}\n",
      "100\n"
     ]
    }
   ],
   "source": [
    "import pandas as pd\n",
    "def url_generator(page_path, cat_id, page):\n",
    "    return f\"https://tiki.vn/api/personalish/v1/blocks/listings?limit=100&is_mweb=1&aggregations=2&sort=top_seller&urlKey={page_path}&category={cat_id}&page={page}\"\n",
    "\n",
    "page = httpx.get(url_generator('sach_truyen_tieng_viet', '316', '1')).json()\n",
    "for i in page['filters']:\n",
    "    if i['display_name'] == 'Danh Mục Sản Phẩm':\n",
    "        categories = i['values']\n",
    "\n",
    "print(categories[1])        \n",
    "       \n",
    "df = []\n",
    "    \n",
    "all_categories = []\n",
    "for cat in categories:\n",
    "    cat_data = httpx.get(url_generator(cat['url_key'], cat['query_value'], '1')).json()\n",
    "    df.append(pd.DataFrame(cat_data['data']))\n",
    "    has_child = False\n",
    "    for i in cat_data['filters']: \n",
    "        if i['display_name'] == 'Danh Mục Sản Phẩm': # Nếu chứa danh mục con thì thêm vào\n",
    "            #print(i['display_name'])\n",
    "            all_categories.extend(i['values'])\n",
    "            has_child = True\n",
    "    \n",
    "    if not has_child: \n",
    "        all_categories.append(cat)\n",
    "        \n",
    "print(len(all_categories))\n"
   ]
  },
  {
   "cell_type": "code",
   "execution_count": 27,
   "metadata": {},
   "outputs": [
    {
     "data": {
      "text/plain": [
       "{'count': 198,\n",
       " 'display_value': 'Du ký',\n",
       " 'query_value': 4933,\n",
       " 'url_key': 'du-ky'}"
      ]
     },
     "execution_count": 27,
     "metadata": {},
     "output_type": "execute_result"
    }
   ],
   "source": [
    "all_categories[0]"
   ]
  },
  {
   "cell_type": "code",
   "execution_count": 31,
   "metadata": {},
   "outputs": [
    {
     "data": {
      "text/plain": [
       "{'count': 27211,\n",
       " 'display_value': 'Sách văn học',\n",
       " 'query_value': 839,\n",
       " 'url_key': 'sach-van-hoc'}"
      ]
     },
     "execution_count": 31,
     "metadata": {},
     "output_type": "execute_result"
    }
   ],
   "source": [
    "categories[0]"
   ]
  },
  {
   "cell_type": "markdown",
   "metadata": {},
   "source": [
    "api limit = 100 -> Mỗi lần request lấy được 100 giá trị</br>\n",
    "Cần lấy giá trị tối đa của số sách có thể có trong một thể loại "
   ]
  },
  {
   "cell_type": "code",
   "execution_count": 61,
   "metadata": {},
   "outputs": [
    {
     "data": {
      "text/plain": [
       "{'count': 198,\n",
       " 'display_value': 'Du ký',\n",
       " 'query_value': 4933,\n",
       " 'url_key': 'du-ky'}"
      ]
     },
     "execution_count": 61,
     "metadata": {},
     "output_type": "execute_result"
    }
   ],
   "source": [
    "all_categories[0]"
   ]
  },
  {
   "cell_type": "markdown",
   "metadata": {},
   "source": [
    "**Lấy id của các cuốn sách ở từng thể loại**"
   ]
  },
  {
   "cell_type": "code",
   "execution_count": 58,
   "metadata": {},
   "outputs": [],
   "source": [
    "# all_categories = pd.DataFrame(all_categories)\n",
    "# display(all_categories)\n",
    "def get_books_id(cat):\n",
    "    n = (cat['count']//100) + 2\n",
    "    books = {\n",
    "        'Thể loại': cat['display_value'],\n",
    "        'Book_id': []\n",
    "    }\n",
    "    for i in range(1, n):\n",
    "        response = httpx.get(url_generator(cat['url_key'], cat['query_value'], i)).json()\n",
    "        for book in response['data']:\n",
    "            books['Book_id'].append({'id': book['id']})\n",
    "    \n",
    "    return books\n"
   ]
  },
  {
   "cell_type": "code",
   "execution_count": 59,
   "metadata": {},
   "outputs": [
    {
     "data": {
      "text/plain": [
       "{'Thể loại': 'Du ký',\n",
       " 'Book_id': [{'id': 204317934},\n",
       "  {'id': 193209826},\n",
       "  {'id': 205279963},\n",
       "  {'id': 3577373},\n",
       "  {'id': 204649516},\n",
       "  {'id': 548212},\n",
       "  {'id': 113353587},\n",
       "  {'id': 77160746},\n",
       "  {'id': 205508265},\n",
       "  {'id': 23943907},\n",
       "  {'id': 135552449},\n",
       "  {'id': 32314535},\n",
       "  {'id': 205288789},\n",
       "  {'id': 189588167},\n",
       "  {'id': 206715176},\n",
       "  {'id': 387725},\n",
       "  {'id': 205293454},\n",
       "  {'id': 644149},\n",
       "  {'id': 14684956},\n",
       "  {'id': 177315574},\n",
       "  {'id': 129866864},\n",
       "  {'id': 196902142},\n",
       "  {'id': 109982962},\n",
       "  {'id': 164044346},\n",
       "  {'id': 26412706},\n",
       "  {'id': 1256325},\n",
       "  {'id': 111582626},\n",
       "  {'id': 72882541},\n",
       "  {'id': 159917640},\n",
       "  {'id': 10190801},\n",
       "  {'id': 193209819},\n",
       "  {'id': 15867080},\n",
       "  {'id': 62349850},\n",
       "  {'id': 1058052},\n",
       "  {'id': 48481757},\n",
       "  {'id': 5995385},\n",
       "  {'id': 192333128},\n",
       "  {'id': 1667509},\n",
       "  {'id': 15592527},\n",
       "  {'id': 171580723},\n",
       "  {'id': 197897214},\n",
       "  {'id': 4708867},\n",
       "  {'id': 127170159},\n",
       "  {'id': 53720985},\n",
       "  {'id': 8011013},\n",
       "  {'id': 51550236},\n",
       "  {'id': 71353257},\n",
       "  {'id': 50214757},\n",
       "  {'id': 178761417},\n",
       "  {'id': 117595287},\n",
       "  {'id': 174283444},\n",
       "  {'id': 57771248},\n",
       "  {'id': 11491784},\n",
       "  {'id': 10707066},\n",
       "  {'id': 587908},\n",
       "  {'id': 41294584},\n",
       "  {'id': 15592528},\n",
       "  {'id': 204416968},\n",
       "  {'id': 48753010},\n",
       "  {'id': 15686464},\n",
       "  {'id': 23870341},\n",
       "  {'id': 181991026},\n",
       "  {'id': 164209952},\n",
       "  {'id': 14523892},\n",
       "  {'id': 195715683},\n",
       "  {'id': 167462132},\n",
       "  {'id': 174182720},\n",
       "  {'id': 507422},\n",
       "  {'id': 25286390},\n",
       "  {'id': 565422},\n",
       "  {'id': 137941512},\n",
       "  {'id': 193900116},\n",
       "  {'id': 127692271},\n",
       "  {'id': 14660324},\n",
       "  {'id': 70844535},\n",
       "  {'id': 163576673},\n",
       "  {'id': 643674},\n",
       "  {'id': 186277183},\n",
       "  {'id': 115254287},\n",
       "  {'id': 33765288},\n",
       "  {'id': 68844180},\n",
       "  {'id': 54426455},\n",
       "  {'id': 107059011},\n",
       "  {'id': 143144165},\n",
       "  {'id': 10738152},\n",
       "  {'id': 36313879},\n",
       "  {'id': 174003699},\n",
       "  {'id': 196543551},\n",
       "  {'id': 162399299},\n",
       "  {'id': 22367423},\n",
       "  {'id': 68855044},\n",
       "  {'id': 202643085},\n",
       "  {'id': 14996962},\n",
       "  {'id': 10767349},\n",
       "  {'id': 14100924},\n",
       "  {'id': 25731220},\n",
       "  {'id': 5745743},\n",
       "  {'id': 19761828},\n",
       "  {'id': 189940023},\n",
       "  {'id': 5440965},\n",
       "  {'id': 550683},\n",
       "  {'id': 1061576},\n",
       "  {'id': 202025036},\n",
       "  {'id': 202494072},\n",
       "  {'id': 198524212},\n",
       "  {'id': 137941513},\n",
       "  {'id': 127692573},\n",
       "  {'id': 77222459},\n",
       "  {'id': 189466097},\n",
       "  {'id': 200855706},\n",
       "  {'id': 34816865},\n",
       "  {'id': 190252219},\n",
       "  {'id': 177860498},\n",
       "  {'id': 200849353},\n",
       "  {'id': 190321223},\n",
       "  {'id': 77204234},\n",
       "  {'id': 197546438},\n",
       "  {'id': 34180377},\n",
       "  {'id': 34816996},\n",
       "  {'id': 190298290},\n",
       "  {'id': 15734744},\n",
       "  {'id': 163579698},\n",
       "  {'id': 117029310},\n",
       "  {'id': 192295472},\n",
       "  {'id': 127033451},\n",
       "  {'id': 195832987},\n",
       "  {'id': 113583666},\n",
       "  {'id': 165038801},\n",
       "  {'id': 105278809},\n",
       "  {'id': 195304647},\n",
       "  {'id': 8234987},\n",
       "  {'id': 77221042},\n",
       "  {'id': 190230191},\n",
       "  {'id': 178033006},\n",
       "  {'id': 196514680},\n",
       "  {'id': 179196335},\n",
       "  {'id': 54144906},\n",
       "  {'id': 109862021},\n",
       "  {'id': 361817},\n",
       "  {'id': 34755580},\n",
       "  {'id': 33402238},\n",
       "  {'id': 173266960},\n",
       "  {'id': 77220902},\n",
       "  {'id': 22080359},\n",
       "  {'id': 196190353},\n",
       "  {'id': 477659},\n",
       "  {'id': 142251471},\n",
       "  {'id': 76527163},\n",
       "  {'id': 22080381},\n",
       "  {'id': 121971063},\n",
       "  {'id': 31690412},\n",
       "  {'id': 177197790},\n",
       "  {'id': 41135529},\n",
       "  {'id': 127692400},\n",
       "  {'id': 197824337},\n",
       "  {'id': 201385946},\n",
       "  {'id': 195663576},\n",
       "  {'id': 137941433},\n",
       "  {'id': 121972969},\n",
       "  {'id': 127591608},\n",
       "  {'id': 202475564},\n",
       "  {'id': 201477264},\n",
       "  {'id': 200848871},\n",
       "  {'id': 127692348},\n",
       "  {'id': 160622208},\n",
       "  {'id': 10104837},\n",
       "  {'id': 27597754},\n",
       "  {'id': 192950635},\n",
       "  {'id': 77220985},\n",
       "  {'id': 202604261},\n",
       "  {'id': 93215668},\n",
       "  {'id': 179952982},\n",
       "  {'id': 200848880},\n",
       "  {'id': 192950215},\n",
       "  {'id': 127591566},\n",
       "  {'id': 201693429},\n",
       "  {'id': 186693758},\n",
       "  {'id': 127591555},\n",
       "  {'id': 109535389},\n",
       "  {'id': 199977068},\n",
       "  {'id': 32426241},\n",
       "  {'id': 202961583},\n",
       "  {'id': 195863346},\n",
       "  {'id': 200848499},\n",
       "  {'id': 115482831},\n",
       "  {'id': 127591107},\n",
       "  {'id': 195304614},\n",
       "  {'id': 195832814},\n",
       "  {'id': 195663567},\n",
       "  {'id': 202996462},\n",
       "  {'id': 166315538},\n",
       "  {'id': 95163489},\n",
       "  {'id': 137941545},\n",
       "  {'id': 201308024},\n",
       "  {'id': 176937926},\n",
       "  {'id': 195304645},\n",
       "  {'id': 143144257}]}"
      ]
     },
     "metadata": {},
     "output_type": "display_data"
    }
   ],
   "source": [
    "for cate in all_categories:\n",
    "    "
   ]
  }
 ],
 "metadata": {
  "kernelspec": {
   "display_name": "Python 3.10.6 64-bit",
   "language": "python",
   "name": "python3"
  },
  "language_info": {
   "codemirror_mode": {
    "name": "ipython",
    "version": 3
   },
   "file_extension": ".py",
   "mimetype": "text/x-python",
   "name": "python",
   "nbconvert_exporter": "python",
   "pygments_lexer": "ipython3",
   "version": "3.10.6"
  },
  "orig_nbformat": 4,
  "vscode": {
   "interpreter": {
    "hash": "a42ccb73e7d9bfdf27e036f1d2b8b681e55fc0743cc5586bc2474d4a60f4b886"
   }
  }
 },
 "nbformat": 4,
 "nbformat_minor": 2
}
