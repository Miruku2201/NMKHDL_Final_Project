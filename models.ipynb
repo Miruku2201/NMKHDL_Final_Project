{
 "cells": [
  {
   "attachments": {},
   "cell_type": "markdown",
   "metadata": {},
   "source": [
    "# **PHẦN 2: MÔ HÌNH HOÁ DỮ LIỆU**"
   ]
  },
  {
   "attachments": {},
   "cell_type": "markdown",
   "metadata": {},
   "source": [
    "## **1. Import các packages cần thiết**"
   ]
  },
  {
   "cell_type": "code",
   "execution_count": 151,
   "metadata": {},
   "outputs": [],
   "source": [
    "import pandas as pd\n",
    "import numpy as np\n",
    "import matplotlib.pyplot as plt\n",
    "%matplotlib inline\n",
    "import seaborn as sns\n",
    "import datetime \n",
    "from sklearn.preprocessing import LabelEncoder\n",
    "from sklearn.model_selection import train_test_split\n",
    "from sklearn.preprocessing import OneHotEncoder, StandardScaler, MinMaxScaler\n",
    "from sklearn.impute import SimpleImputer, KNNImputer\n",
    "from sklearn.pipeline import Pipeline\n",
    "from sklearn.compose import ColumnTransformer, make_column_transformer\n",
    "from sklearn.preprocessing import FunctionTransformer\n",
    "\n",
    "from sklearn.linear_model import LinearRegression\n",
    "from sklearn.neural_network import MLPRegressor\n",
    "from sklearn.ensemble import RandomForestRegressor\n",
    "from sklearn.ensemble import GradientBoostingRegressor\n",
    "from sklearn.metrics import accuracy_score\n",
    "from sklearn.model_selection import cross_val_score, RepeatedStratifiedKFold\n",
    "from sklearn.metrics import mean_squared_error, mean_absolute_error\n",
    "\n",
    "pd.set_option('display.max_columns', None)\n",
    "import warnings\n",
    "warnings.filterwarnings(\"ignore\")"
   ]
  },
  {
   "attachments": {},
   "cell_type": "markdown",
   "metadata": {},
   "source": [
    "## **2. Đọc dữ liệu từ file csv**"
   ]
  },
  {
   "cell_type": "code",
   "execution_count": 101,
   "metadata": {},
   "outputs": [
    {
     "data": {
      "text/plain": [
       "(48291, 24)"
      ]
     },
     "execution_count": 101,
     "metadata": {},
     "output_type": "execute_result"
    }
   ],
   "source": [
    "df = pd.read_csv('./features/processed.csv')\n",
    "df.shape"
   ]
  },
  {
   "cell_type": "code",
   "execution_count": 102,
   "metadata": {},
   "outputs": [
    {
     "data": {
      "text/html": [
       "<div>\n",
       "<style scoped>\n",
       "    .dataframe tbody tr th:only-of-type {\n",
       "        vertical-align: middle;\n",
       "    }\n",
       "\n",
       "    .dataframe tbody tr th {\n",
       "        vertical-align: top;\n",
       "    }\n",
       "\n",
       "    .dataframe thead th {\n",
       "        text-align: right;\n",
       "    }\n",
       "</style>\n",
       "<table border=\"1\" class=\"dataframe\">\n",
       "  <thead>\n",
       "    <tr style=\"text-align: right;\">\n",
       "      <th></th>\n",
       "      <th>id</th>\n",
       "      <th>sku</th>\n",
       "      <th>name</th>\n",
       "      <th>short_url</th>\n",
       "      <th>book_cover</th>\n",
       "      <th>price</th>\n",
       "      <th>original_price</th>\n",
       "      <th>discount_rate</th>\n",
       "      <th>rating_average</th>\n",
       "      <th>review_count</th>\n",
       "      <th>inventory_type</th>\n",
       "      <th>productset_group_name</th>\n",
       "      <th>day_ago_created</th>\n",
       "      <th>categories</th>\n",
       "      <th>all_time_quantity_sold</th>\n",
       "      <th>authors</th>\n",
       "      <th>publisher_vn</th>\n",
       "      <th>publication_date</th>\n",
       "      <th>dimensions</th>\n",
       "      <th>manufacturer</th>\n",
       "      <th>number_of_page</th>\n",
       "      <th>dich_gia</th>\n",
       "      <th>edition</th>\n",
       "      <th>luu_y</th>\n",
       "    </tr>\n",
       "  </thead>\n",
       "  <tbody>\n",
       "    <tr>\n",
       "      <th>28995</th>\n",
       "      <td>173632013</td>\n",
       "      <td>7685856876337</td>\n",
       "      <td>Combo Giáo Trình Hán ngữ Boya Sơ Cấp 1 + 2 Kè...</td>\n",
       "      <td>https://tiki.vn/product-p173632013.html?spid=1...</td>\n",
       "      <td>NaN</td>\n",
       "      <td>340900</td>\n",
       "      <td>487000</td>\n",
       "      <td>30</td>\n",
       "      <td>0.0</td>\n",
       "      <td>0</td>\n",
       "      <td>backorder</td>\n",
       "      <td>Nhà Sách Tiki/Sách tiếng Việt/Sách Học Ngoại N...</td>\n",
       "      <td>244</td>\n",
       "      <td>Sách Học Tiếng Hoa</td>\n",
       "      <td>1</td>\n",
       "      <td>NaN</td>\n",
       "      <td>MCBOOKS</td>\n",
       "      <td>NaN</td>\n",
       "      <td>NaN</td>\n",
       "      <td>hong duc</td>\n",
       "      <td>0</td>\n",
       "      <td>NaN</td>\n",
       "      <td>NaN</td>\n",
       "      <td>NaN</td>\n",
       "    </tr>\n",
       "    <tr>\n",
       "      <th>17660</th>\n",
       "      <td>198823396</td>\n",
       "      <td>5085709454175</td>\n",
       "      <td>COMBO BẢNG CHỮ CÁI IN HOA-IN THƯỜNG VÀ BẢNG CH...</td>\n",
       "      <td>https://tiki.vn/product-p198823396.html?spid=1...</td>\n",
       "      <td>Bìa mềm</td>\n",
       "      <td>12480</td>\n",
       "      <td>16000</td>\n",
       "      <td>22</td>\n",
       "      <td>0.0</td>\n",
       "      <td>0</td>\n",
       "      <td>backorder</td>\n",
       "      <td>Nhà Sách Tiki/Sách tiếng Việt/Sách thiếu nhi /...</td>\n",
       "      <td>66</td>\n",
       "      <td>Tô màu - Luyện chữ</td>\n",
       "      <td>0</td>\n",
       "      <td>NaN</td>\n",
       "      <td>ABBOOKS</td>\n",
       "      <td>NaN</td>\n",
       "      <td>NaN</td>\n",
       "      <td>Nhà Xuất Bản Đồng Nai</td>\n",
       "      <td>0</td>\n",
       "      <td>NaN</td>\n",
       "      <td>NaN</td>\n",
       "      <td>NaN</td>\n",
       "    </tr>\n",
       "    <tr>\n",
       "      <th>24469</th>\n",
       "      <td>117926962</td>\n",
       "      <td>8711965761024</td>\n",
       "      <td>Sách - Bẻ Khóa Bí Mật Triệu Phú</td>\n",
       "      <td>https://tiki.vn/product-p117926962.html?spid=1...</td>\n",
       "      <td>NaN</td>\n",
       "      <td>70399</td>\n",
       "      <td>70399</td>\n",
       "      <td>0</td>\n",
       "      <td>0.0</td>\n",
       "      <td>0</td>\n",
       "      <td>backorder</td>\n",
       "      <td>Nhà Sách Tiki/Sách tiếng Việt/Sách kỹ năng sốn...</td>\n",
       "      <td>475</td>\n",
       "      <td>Sách hướng nghiệp - Kỹ năng mềm</td>\n",
       "      <td>0</td>\n",
       "      <td>NaN</td>\n",
       "      <td>FIRST NEWS</td>\n",
       "      <td>NaN</td>\n",
       "      <td>NaN</td>\n",
       "      <td>Nhà Xuất Bản Tổng hợp TP.HCM</td>\n",
       "      <td>0</td>\n",
       "      <td>NaN</td>\n",
       "      <td>NaN</td>\n",
       "      <td>NaN</td>\n",
       "    </tr>\n",
       "    <tr>\n",
       "      <th>31137</th>\n",
       "      <td>191780411</td>\n",
       "      <td>1395313936365</td>\n",
       "      <td>Nâng cao và Phát triển Toán 3</td>\n",
       "      <td>https://tiki.vn/product-p191780411.html?spid=1...</td>\n",
       "      <td>NaN</td>\n",
       "      <td>45000</td>\n",
       "      <td>76000</td>\n",
       "      <td>41</td>\n",
       "      <td>0.0</td>\n",
       "      <td>0</td>\n",
       "      <td>backorder</td>\n",
       "      <td>Nhà Sách Tiki/Sách tiếng Việt/Sách Tham Khảo/S...</td>\n",
       "      <td>136</td>\n",
       "      <td>Sách tham khảo cấp I</td>\n",
       "      <td>3</td>\n",
       "      <td>Nguyễn Đức Tấn</td>\n",
       "      <td>Khang Việt Book</td>\n",
       "      <td>NaN</td>\n",
       "      <td>NaN</td>\n",
       "      <td>Nhà Xuất Bản Tổng hợp TP.HCM</td>\n",
       "      <td>245</td>\n",
       "      <td>NaN</td>\n",
       "      <td>NaN</td>\n",
       "      <td>NaN</td>\n",
       "    </tr>\n",
       "    <tr>\n",
       "      <th>5664</th>\n",
       "      <td>169264272</td>\n",
       "      <td>5074532950632</td>\n",
       "      <td>Phạm Đức Lộc - Tuyết Đỏ</td>\n",
       "      <td>https://tiki.vn/product-p169264272.html?spid=1...</td>\n",
       "      <td>NaN</td>\n",
       "      <td>69000</td>\n",
       "      <td>98000</td>\n",
       "      <td>30</td>\n",
       "      <td>0.0</td>\n",
       "      <td>0</td>\n",
       "      <td>backorder</td>\n",
       "      <td>Nhà Sách Tiki/Sách tiếng Việt/Sách văn học/Tru...</td>\n",
       "      <td>266</td>\n",
       "      <td>Truyện dài</td>\n",
       "      <td>0</td>\n",
       "      <td>NaN</td>\n",
       "      <td>SBOOKS</td>\n",
       "      <td>NaN</td>\n",
       "      <td>NaN</td>\n",
       "      <td>oem</td>\n",
       "      <td>0</td>\n",
       "      <td>NaN</td>\n",
       "      <td>NaN</td>\n",
       "      <td>NaN</td>\n",
       "    </tr>\n",
       "  </tbody>\n",
       "</table>\n",
       "</div>"
      ],
      "text/plain": [
       "              id            sku  \\\n",
       "28995  173632013  7685856876337   \n",
       "17660  198823396  5085709454175   \n",
       "24469  117926962  8711965761024   \n",
       "31137  191780411  1395313936365   \n",
       "5664   169264272  5074532950632   \n",
       "\n",
       "                                                    name  \\\n",
       "28995   Combo Giáo Trình Hán ngữ Boya Sơ Cấp 1 + 2 Kè...   \n",
       "17660  COMBO BẢNG CHỮ CÁI IN HOA-IN THƯỜNG VÀ BẢNG CH...   \n",
       "24469                    Sách - Bẻ Khóa Bí Mật Triệu Phú   \n",
       "31137                      Nâng cao và Phát triển Toán 3   \n",
       "5664                             Phạm Đức Lộc - Tuyết Đỏ   \n",
       "\n",
       "                                               short_url book_cover   price  \\\n",
       "28995  https://tiki.vn/product-p173632013.html?spid=1...        NaN  340900   \n",
       "17660  https://tiki.vn/product-p198823396.html?spid=1...    Bìa mềm   12480   \n",
       "24469  https://tiki.vn/product-p117926962.html?spid=1...        NaN   70399   \n",
       "31137  https://tiki.vn/product-p191780411.html?spid=1...        NaN   45000   \n",
       "5664   https://tiki.vn/product-p169264272.html?spid=1...        NaN   69000   \n",
       "\n",
       "       original_price  discount_rate  rating_average  review_count  \\\n",
       "28995          487000             30             0.0             0   \n",
       "17660           16000             22             0.0             0   \n",
       "24469           70399              0             0.0             0   \n",
       "31137           76000             41             0.0             0   \n",
       "5664            98000             30             0.0             0   \n",
       "\n",
       "      inventory_type                              productset_group_name  \\\n",
       "28995      backorder  Nhà Sách Tiki/Sách tiếng Việt/Sách Học Ngoại N...   \n",
       "17660      backorder  Nhà Sách Tiki/Sách tiếng Việt/Sách thiếu nhi /...   \n",
       "24469      backorder  Nhà Sách Tiki/Sách tiếng Việt/Sách kỹ năng sốn...   \n",
       "31137      backorder  Nhà Sách Tiki/Sách tiếng Việt/Sách Tham Khảo/S...   \n",
       "5664       backorder  Nhà Sách Tiki/Sách tiếng Việt/Sách văn học/Tru...   \n",
       "\n",
       "       day_ago_created                       categories  \\\n",
       "28995              244               Sách Học Tiếng Hoa   \n",
       "17660               66             Tô màu - Luyện chữ     \n",
       "24469              475  Sách hướng nghiệp - Kỹ năng mềm   \n",
       "31137              136             Sách tham khảo cấp I   \n",
       "5664               266                       Truyện dài   \n",
       "\n",
       "       all_time_quantity_sold            authors     publisher_vn  \\\n",
       "28995                       1                NaN          MCBOOKS   \n",
       "17660                       0                NaN          ABBOOKS   \n",
       "24469                       0                NaN       FIRST NEWS   \n",
       "31137                       3     Nguyễn Đức Tấn  Khang Việt Book   \n",
       "5664                        0                NaN           SBOOKS   \n",
       "\n",
       "      publication_date dimensions                  manufacturer  \\\n",
       "28995              NaN        NaN                      hong duc   \n",
       "17660              NaN        NaN         Nhà Xuất Bản Đồng Nai   \n",
       "24469              NaN        NaN  Nhà Xuất Bản Tổng hợp TP.HCM   \n",
       "31137              NaN        NaN  Nhà Xuất Bản Tổng hợp TP.HCM   \n",
       "5664               NaN        NaN                           oem   \n",
       "\n",
       "       number_of_page dich_gia edition luu_y  \n",
       "28995               0      NaN     NaN   NaN  \n",
       "17660               0      NaN     NaN   NaN  \n",
       "24469               0      NaN     NaN   NaN  \n",
       "31137             245      NaN     NaN   NaN  \n",
       "5664                0      NaN     NaN   NaN  "
      ]
     },
     "execution_count": 102,
     "metadata": {},
     "output_type": "execute_result"
    }
   ],
   "source": [
    "df.sample(5)"
   ]
  },
  {
   "attachments": {},
   "cell_type": "markdown",
   "metadata": {},
   "source": [
    "## **3. Xác định câu hỏi cần trả lời:**\n",
    "- Bài toán dự đoán `discount_rate` dựa trên các đặc trưng.\n",
    "- Đây là một bài toán hồi quy.\n",
    "- Input là các đặc trưng ảnh hưởng đến tỉ lệ giảm giá của một mặt hàng sách.\n",
    "- Output là tỉ lệ giảm giá của sách. "
   ]
  },
  {
   "attachments": {},
   "cell_type": "markdown",
   "metadata": {},
   "source": [
    "Trả lời được câu hỏi này sẽ giúp cho khách hàng và nhà bán có những quyết định phù hợp, mang lại lợi ích "
   ]
  },
  {
   "attachments": {},
   "cell_type": "markdown",
   "metadata": {},
   "source": [
    "## **4. Phân tích, xử lý và chuẩn bị dữ liệu cho bước mô hình hoá**"
   ]
  },
  {
   "attachments": {},
   "cell_type": "markdown",
   "metadata": {},
   "source": [
    "Các cột có kiểu dữ liệu là numeric "
   ]
  },
  {
   "cell_type": "code",
   "execution_count": 103,
   "metadata": {},
   "outputs": [
    {
     "data": {
      "text/plain": [
       "Index(['id', 'sku', 'price', 'original_price', 'discount_rate',\n",
       "       'rating_average', 'review_count', 'day_ago_created',\n",
       "       'all_time_quantity_sold', 'number_of_page'],\n",
       "      dtype='object')"
      ]
     },
     "execution_count": 103,
     "metadata": {},
     "output_type": "execute_result"
    }
   ],
   "source": [
    "numeric_cols = df.select_dtypes(include=np.number).columns\n",
    "numeric_cols"
   ]
  },
  {
   "cell_type": "code",
   "execution_count": 104,
   "metadata": {},
   "outputs": [
    {
     "data": {
      "text/html": [
       "<div>\n",
       "<style scoped>\n",
       "    .dataframe tbody tr th:only-of-type {\n",
       "        vertical-align: middle;\n",
       "    }\n",
       "\n",
       "    .dataframe tbody tr th {\n",
       "        vertical-align: top;\n",
       "    }\n",
       "\n",
       "    .dataframe thead th {\n",
       "        text-align: right;\n",
       "    }\n",
       "</style>\n",
       "<table border=\"1\" class=\"dataframe\">\n",
       "  <thead>\n",
       "    <tr style=\"text-align: right;\">\n",
       "      <th></th>\n",
       "      <th>id</th>\n",
       "      <th>sku</th>\n",
       "      <th>price</th>\n",
       "      <th>original_price</th>\n",
       "      <th>discount_rate</th>\n",
       "      <th>rating_average</th>\n",
       "      <th>review_count</th>\n",
       "      <th>day_ago_created</th>\n",
       "      <th>all_time_quantity_sold</th>\n",
       "      <th>number_of_page</th>\n",
       "    </tr>\n",
       "  </thead>\n",
       "  <tbody>\n",
       "    <tr>\n",
       "      <th>missing_ratio</th>\n",
       "      <td>0.0</td>\n",
       "      <td>0.000000e+00</td>\n",
       "      <td>0.0</td>\n",
       "      <td>0.0</td>\n",
       "      <td>0.0</td>\n",
       "      <td>0.0</td>\n",
       "      <td>0.0</td>\n",
       "      <td>0.0</td>\n",
       "      <td>0.0</td>\n",
       "      <td>0.000000e+00</td>\n",
       "    </tr>\n",
       "    <tr>\n",
       "      <th>min</th>\n",
       "      <td>148562.0</td>\n",
       "      <td>1.000110e+12</td>\n",
       "      <td>0.0</td>\n",
       "      <td>0.0</td>\n",
       "      <td>0.0</td>\n",
       "      <td>0.0</td>\n",
       "      <td>0.0</td>\n",
       "      <td>0.0</td>\n",
       "      <td>0.0</td>\n",
       "      <td>0.000000e+00</td>\n",
       "    </tr>\n",
       "    <tr>\n",
       "      <th>max</th>\n",
       "      <td>207990688.0</td>\n",
       "      <td>9.999995e+12</td>\n",
       "      <td>6000000.0</td>\n",
       "      <td>6950000.0</td>\n",
       "      <td>91.0</td>\n",
       "      <td>5.0</td>\n",
       "      <td>6306.0</td>\n",
       "      <td>2689.0</td>\n",
       "      <td>32323.0</td>\n",
       "      <td>9.786049e+12</td>\n",
       "    </tr>\n",
       "  </tbody>\n",
       "</table>\n",
       "</div>"
      ],
      "text/plain": [
       "                        id           sku      price  original_price  \\\n",
       "missing_ratio          0.0  0.000000e+00        0.0             0.0   \n",
       "min               148562.0  1.000110e+12        0.0             0.0   \n",
       "max            207990688.0  9.999995e+12  6000000.0       6950000.0   \n",
       "\n",
       "               discount_rate  rating_average  review_count  day_ago_created  \\\n",
       "missing_ratio            0.0             0.0           0.0              0.0   \n",
       "min                      0.0             0.0           0.0              0.0   \n",
       "max                     91.0             5.0        6306.0           2689.0   \n",
       "\n",
       "               all_time_quantity_sold  number_of_page  \n",
       "missing_ratio                     0.0    0.000000e+00  \n",
       "min                               0.0    0.000000e+00  \n",
       "max                           32323.0    9.786049e+12  "
      ]
     },
     "execution_count": 104,
     "metadata": {},
     "output_type": "execute_result"
    }
   ],
   "source": [
    "numeric_profiles = {'missing_ratio': df[numeric_cols].isna().sum() * 100.0/len(df[numeric_cols]),\n",
    "                        'min': df[numeric_cols].min(),\n",
    "                        'max': df[numeric_cols].max()}\n",
    "nume_col_profiles_df = pd.DataFrame(numeric_profiles).transpose()\n",
    "nume_col_profiles_df"
   ]
  },
  {
   "cell_type": "code",
   "execution_count": 105,
   "metadata": {},
   "outputs": [
    {
     "data": {
      "image/png": "[encoded data removed]",
      "text/plain": [
       "<Figure size 1200x800 with 2 Axes>"
      ]
     },
     "metadata": {},
     "output_type": "display_data"
    }
   ],
   "source": [
    "plt.figure(figsize=(12,8))\n",
    "sns.heatmap(df[set(numeric_cols) - {'id', 'sku'}].corr(), annot=True, fmt='.2f')\n",
    "plt.xticks(rotation=30)\n",
    "plt.title('Tương quan giữa các đặc trưng')\n",
    "plt.show()"
   ]
  },
  {
   "cell_type": "code",
   "execution_count": 106,
   "metadata": {},
   "outputs": [
    {
     "data": {
      "text/html": [
       "<div>\n",
       "<style scoped>\n",
       "    .dataframe tbody tr th:only-of-type {\n",
       "        vertical-align: middle;\n",
       "    }\n",
       "\n",
       "    .dataframe tbody tr th {\n",
       "        vertical-align: top;\n",
       "    }\n",
       "\n",
       "    .dataframe thead th {\n",
       "        text-align: right;\n",
       "    }\n",
       "</style>\n",
       "<table border=\"1\" class=\"dataframe\">\n",
       "  <thead>\n",
       "    <tr style=\"text-align: right;\">\n",
       "      <th></th>\n",
       "      <th>authors</th>\n",
       "      <th>book_cover</th>\n",
       "      <th>categories</th>\n",
       "      <th>dich_gia</th>\n",
       "      <th>dimensions</th>\n",
       "      <th>edition</th>\n",
       "      <th>inventory_type</th>\n",
       "      <th>luu_y</th>\n",
       "      <th>manufacturer</th>\n",
       "      <th>name</th>\n",
       "      <th>productset_group_name</th>\n",
       "      <th>publication_date</th>\n",
       "      <th>publisher_vn</th>\n",
       "      <th>short_url</th>\n",
       "    </tr>\n",
       "  </thead>\n",
       "  <tbody>\n",
       "    <tr>\n",
       "      <th>missing_ratio</th>\n",
       "      <td>48.804125</td>\n",
       "      <td>35.358555</td>\n",
       "      <td>0.0</td>\n",
       "      <td>85.686774</td>\n",
       "      <td>82.744197</td>\n",
       "      <td>96.931105</td>\n",
       "      <td>0.0</td>\n",
       "      <td>99.995858</td>\n",
       "      <td>0.550827</td>\n",
       "      <td>0.0</td>\n",
       "      <td>0.0</td>\n",
       "      <td>61.158394</td>\n",
       "      <td>0.035203</td>\n",
       "      <td>0.0</td>\n",
       "    </tr>\n",
       "    <tr>\n",
       "      <th>num_diff_vals</th>\n",
       "      <td>9094</td>\n",
       "      <td>17</td>\n",
       "      <td>100</td>\n",
       "      <td>3110</td>\n",
       "      <td>1051</td>\n",
       "      <td>364</td>\n",
       "      <td>3</td>\n",
       "      <td>1</td>\n",
       "      <td>168</td>\n",
       "      <td>44424</td>\n",
       "      <td>101</td>\n",
       "      <td>10896</td>\n",
       "      <td>852</td>\n",
       "      <td>48288</td>\n",
       "    </tr>\n",
       "    <tr>\n",
       "      <th>diff_vals</th>\n",
       "      <td>[Trần Đặng Đăng Khoa, Trần Hồng Ngọc, Lê Quang...</td>\n",
       "      <td>[Bìa mềm, Bìa Da, Bìa cứng, Bìa gập, Bìa rời, ...</td>\n",
       "      <td>[Du ký, Light novel, Phê Bình - Lý Luận Văn Họ...</td>\n",
       "      <td>[Khánh Vân, Phan Quang, Nguyễn Thị Bạch Tuyết,...</td>\n",
       "      <td>[13 x 20, 14,5 x 20,5 cm, 13.5 x 20.5 cm, 15 x...</td>\n",
       "      <td>[bìa mềm, BÌA MỀM, Tiếng Việt, Tặng kèm bookma...</td>\n",
       "      <td>[instock, backorder, preorder]</td>\n",
       "      <td>[Sách không còn kèm CD mà thay bằng ứng dụng t...</td>\n",
       "      <td>[NXB Trẻ, Nhà Xuất Bản Lao Động, Nhà Xuất Bản ...</td>\n",
       "      <td>[1111 - Nhật Ký Sáu Vạn Dặm Trên Yên Xe Cà Tàn...</td>\n",
       "      <td>[Nhà Sách Tiki/Sách tiếng Việt/Sách văn học/Du...</td>\n",
       "      <td>[2022-11-10 00:00:00, 2022-11-11 17:44:46, 202...</td>\n",
       "      <td>[NXB Trẻ, Chibooks, Văn Lang, Edibooks, NXB Ph...</td>\n",
       "      <td>[https://tiki.vn/product-p204317934.html?spid=...</td>\n",
       "    </tr>\n",
       "  </tbody>\n",
       "</table>\n",
       "</div>"
      ],
      "text/plain": [
       "                                                         authors  \\\n",
       "missing_ratio                                          48.804125   \n",
       "num_diff_vals                                               9094   \n",
       "diff_vals      [Trần Đặng Đăng Khoa, Trần Hồng Ngọc, Lê Quang...   \n",
       "\n",
       "                                                      book_cover  \\\n",
       "missing_ratio                                          35.358555   \n",
       "num_diff_vals                                                 17   \n",
       "diff_vals      [Bìa mềm, Bìa Da, Bìa cứng, Bìa gập, Bìa rời, ...   \n",
       "\n",
       "                                                      categories  \\\n",
       "missing_ratio                                                0.0   \n",
       "num_diff_vals                                                100   \n",
       "diff_vals      [Du ký, Light novel, Phê Bình - Lý Luận Văn Họ...   \n",
       "\n",
       "                                                        dich_gia  \\\n",
       "missing_ratio                                          85.686774   \n",
       "num_diff_vals                                               3110   \n",
       "diff_vals      [Khánh Vân, Phan Quang, Nguyễn Thị Bạch Tuyết,...   \n",
       "\n",
       "                                                      dimensions  \\\n",
       "missing_ratio                                          82.744197   \n",
       "num_diff_vals                                               1051   \n",
       "diff_vals      [13 x 20, 14,5 x 20,5 cm, 13.5 x 20.5 cm, 15 x...   \n",
       "\n",
       "                                                         edition  \\\n",
       "missing_ratio                                          96.931105   \n",
       "num_diff_vals                                                364   \n",
       "diff_vals      [bìa mềm, BÌA MỀM, Tiếng Việt, Tặng kèm bookma...   \n",
       "\n",
       "                               inventory_type  \\\n",
       "missing_ratio                             0.0   \n",
       "num_diff_vals                               3   \n",
       "diff_vals      [instock, backorder, preorder]   \n",
       "\n",
       "                                                           luu_y  \\\n",
       "missing_ratio                                          99.995858   \n",
       "num_diff_vals                                                  1   \n",
       "diff_vals      [Sách không còn kèm CD mà thay bằng ứng dụng t...   \n",
       "\n",
       "                                                    manufacturer  \\\n",
       "missing_ratio                                           0.550827   \n",
       "num_diff_vals                                                168   \n",
       "diff_vals      [NXB Trẻ, Nhà Xuất Bản Lao Động, Nhà Xuất Bản ...   \n",
       "\n",
       "                                                            name  \\\n",
       "missing_ratio                                                0.0   \n",
       "num_diff_vals                                              44424   \n",
       "diff_vals      [1111 - Nhật Ký Sáu Vạn Dặm Trên Yên Xe Cà Tàn...   \n",
       "\n",
       "                                           productset_group_name  \\\n",
       "missing_ratio                                                0.0   \n",
       "num_diff_vals                                                101   \n",
       "diff_vals      [Nhà Sách Tiki/Sách tiếng Việt/Sách văn học/Du...   \n",
       "\n",
       "                                                publication_date  \\\n",
       "missing_ratio                                          61.158394   \n",
       "num_diff_vals                                              10896   \n",
       "diff_vals      [2022-11-10 00:00:00, 2022-11-11 17:44:46, 202...   \n",
       "\n",
       "                                                    publisher_vn  \\\n",
       "missing_ratio                                           0.035203   \n",
       "num_diff_vals                                                852   \n",
       "diff_vals      [NXB Trẻ, Chibooks, Văn Lang, Edibooks, NXB Ph...   \n",
       "\n",
       "                                                       short_url  \n",
       "missing_ratio                                                0.0  \n",
       "num_diff_vals                                              48288  \n",
       "diff_vals      [https://tiki.vn/product-p204317934.html?spid=...  "
      ]
     },
     "execution_count": 106,
     "metadata": {},
     "output_type": "execute_result"
    }
   ],
   "source": [
    "cate_cols = set(df.columns) - set(numeric_cols)\n",
    "cate_profiles = {'missing_ratio': df[cate_cols].isna().sum() * 100.0/len(df[cate_cols]),\n",
    "               #   'zero_values_ratio':  df[cate_cols].eq(0).sum(axis=1) * 100.0/len(df[cate_cols]),\n",
    "                      'num_diff_vals': df[cate_cols].nunique(dropna=True),\n",
    "                      'diff_vals': df[cate_cols].stack(dropna=True).groupby(level=[1]).unique(),\n",
    "                      }\n",
    "cate_col_profiles_df = pd.DataFrame(cate_profiles).transpose()\n",
    "cate_col_profiles_df"
   ]
  },
  {
   "cell_type": "code",
   "execution_count": 107,
   "metadata": {},
   "outputs": [
    {
     "data": {
      "text/plain": [
       "'13x18x2.5 cm'"
      ]
     },
     "execution_count": 107,
     "metadata": {},
     "output_type": "execute_result"
    }
   ],
   "source": [
    "df['dimensions'][df['dimensions'].str.contains('(\\d+).?[xX].?(\\d+).?[(cm)(CM)]?', na=False)].loc[1100]"
   ]
  },
  {
   "cell_type": "code",
   "execution_count": 108,
   "metadata": {},
   "outputs": [
    {
     "data": {
      "text/html": [
       "<div>\n",
       "<style scoped>\n",
       "    .dataframe tbody tr th:only-of-type {\n",
       "        vertical-align: middle;\n",
       "    }\n",
       "\n",
       "    .dataframe tbody tr th {\n",
       "        vertical-align: top;\n",
       "    }\n",
       "\n",
       "    .dataframe thead th {\n",
       "        text-align: right;\n",
       "    }\n",
       "</style>\n",
       "<table border=\"1\" class=\"dataframe\">\n",
       "  <thead>\n",
       "    <tr style=\"text-align: right;\">\n",
       "      <th></th>\n",
       "      <th></th>\n",
       "      <th>0</th>\n",
       "      <th>1</th>\n",
       "    </tr>\n",
       "    <tr>\n",
       "      <th></th>\n",
       "      <th>match</th>\n",
       "      <th></th>\n",
       "      <th></th>\n",
       "    </tr>\n",
       "  </thead>\n",
       "  <tbody>\n",
       "    <tr>\n",
       "      <th>0</th>\n",
       "      <th>0</th>\n",
       "      <td>13</td>\n",
       "      <td>20</td>\n",
       "    </tr>\n",
       "    <tr>\n",
       "      <th>2</th>\n",
       "      <th>0</th>\n",
       "      <td>14,5</td>\n",
       "      <td>20,5</td>\n",
       "    </tr>\n",
       "    <tr>\n",
       "      <th>6</th>\n",
       "      <th>0</th>\n",
       "      <td>13.5</td>\n",
       "      <td>20.5</td>\n",
       "    </tr>\n",
       "    <tr>\n",
       "      <th>11</th>\n",
       "      <th>0</th>\n",
       "      <td>14,5</td>\n",
       "      <td>20,5</td>\n",
       "    </tr>\n",
       "    <tr>\n",
       "      <th>14</th>\n",
       "      <th>0</th>\n",
       "      <td>15</td>\n",
       "      <td>23</td>\n",
       "    </tr>\n",
       "    <tr>\n",
       "      <th>...</th>\n",
       "      <th>...</th>\n",
       "      <td>...</td>\n",
       "      <td>...</td>\n",
       "    </tr>\n",
       "    <tr>\n",
       "      <th>47966</th>\n",
       "      <th>0</th>\n",
       "      <td>14</td>\n",
       "      <td>14</td>\n",
       "    </tr>\n",
       "    <tr>\n",
       "      <th>47967</th>\n",
       "      <th>0</th>\n",
       "      <td>14.5</td>\n",
       "      <td>20.5</td>\n",
       "    </tr>\n",
       "    <tr>\n",
       "      <th>48087</th>\n",
       "      <th>0</th>\n",
       "      <td>15</td>\n",
       "      <td>23</td>\n",
       "    </tr>\n",
       "    <tr>\n",
       "      <th>48102</th>\n",
       "      <th>0</th>\n",
       "      <td>14.5</td>\n",
       "      <td>20.5</td>\n",
       "    </tr>\n",
       "    <tr>\n",
       "      <th>48139</th>\n",
       "      <th>0</th>\n",
       "      <td>13.5</td>\n",
       "      <td>21</td>\n",
       "    </tr>\n",
       "  </tbody>\n",
       "</table>\n",
       "<p>8143 rows × 2 columns</p>\n",
       "</div>"
      ],
      "text/plain": [
       "                0     1\n",
       "      match            \n",
       "0     0        13    20\n",
       "2     0      14,5  20,5\n",
       "6     0      13.5  20.5\n",
       "11    0      14,5  20,5\n",
       "14    0        15    23\n",
       "...           ...   ...\n",
       "47966 0        14    14\n",
       "47967 0      14.5  20.5\n",
       "48087 0        15    23\n",
       "48102 0      14.5  20.5\n",
       "48139 0      13.5    21\n",
       "\n",
       "[8143 rows x 2 columns]"
      ]
     },
     "execution_count": 108,
     "metadata": {},
     "output_type": "execute_result"
    }
   ],
   "source": [
    "df['dimensions'].str.extractall('(\\d+[.,]?\\d+.?.?[xX]?.?.?\\d+[.,]?\\d+)').loc[39592]\n",
    "df['dimensions'].str.extractall(r'(\\d+.?,?\\d+).?x.?(\\d+.?,?\\d+)[.?x.?(\\d+.?,?\\d+)]?')#['dimensions']"
   ]
  },
  {
   "cell_type": "code",
   "execution_count": 109,
   "metadata": {},
   "outputs": [
    {
     "data": {
      "text/plain": [
       "dimensions    [<, =\", /, \"><!--, {, :, 1, #, ;}, {, -, -, :,...\n",
       "Name: 39592, dtype: object"
      ]
     },
     "execution_count": 109,
     "metadata": {},
     "output_type": "execute_result"
    }
   ],
   "source": [
    "dimen = pd.DataFrame(df['dimensions'][df['dimensions'].notna()].str.replace('[a-zA-Z]', ' ').str.replace(',', '.').str.split())\n",
    "# dimen['area'] = dimen['dimensions'].apply(lambda x: list(map(float, x))).apply(lambda x: np.prod(x))\n",
    "dimen.loc[39592]"
   ]
  },
  {
   "cell_type": "code",
   "execution_count": 110,
   "metadata": {},
   "outputs": [
    {
     "data": {
      "text/plain": [
       "array(['Du ký', 'Light novel', 'Phê Bình - Lý Luận Văn Học',\n",
       "       'Phóng sự - Ký sự - Bút ký', 'Tác phẩm kinh điển', 'Thơ',\n",
       "       'Tiểu sử - Hồi ký', 'Tiểu Thuyết',\n",
       "       'Truyện Giả tưởng - Huyền Bí - Phiêu Lưu', 'Tranh Truyện',\n",
       "       'Truyện cổ tích - Ngụ ngôn', 'Truyện cười', 'Truyện dài',\n",
       "       'Bài học kinh doanh', 'Truyện đam mỹ', 'Truyện kiếm hiệp',\n",
       "       'Truyện kinh dị', 'Truyện ngắn - Tản văn - Tạp Văn',\n",
       "       'Truyện ngôn tình', 'Truyện trinh thám', 'Ca dao - Tục ngữ',\n",
       "       'Sách ảnh', 'Sách doanh nhân', 'Sách khởi nghiệp',\n",
       "       'Sách kinh tế học', 'Sách kỹ năng làm việc',\n",
       "       'Sách Marketing - Bán hàng ', 'Sách quản trị, lãnh đạo',\n",
       "       'Sách quản trị nhân lực', 'Sách tài chính, kế toán',\n",
       "       'Sách tài chính, tiền tệ', 'Đạo đức - Kỹ năng sống',\n",
       "       'Kiến thức - Bách khoa', 'Tô màu - Luyện chữ  ', 'Truyện cổ tích',\n",
       "       'Truyện kể cho bé', 'Truyện tranh Ehon', 'Truyện tranh thiếu nhi',\n",
       "       'Văn học thiếu nhi', 'Sách tư duy - Kỹ năng sống',\n",
       "       'Sách nghệ thuật sống đẹp', 'Sách hướng nghiệp - Kỹ năng mềm',\n",
       "       'Sách Thai Giáo', 'Sách Kiến Thức - Kỹ Năng Cho Trẻ',\n",
       "       'Sách Làm Cha Mẹ', 'Sách Dinh Dưỡng - Sức Khỏe Cho Bé',\n",
       "       'Sách Giáo Khoa Cấp 1', 'Sách Giáo Khoa Cấp 2',\n",
       "       'Sách Giáo Khoa Cấp 3', 'Giáo Trình Đại Học - Cao Đẳng',\n",
       "       'Sách Học Tiếng Anh', 'Sách Học Tiếng Nhật', 'Sách Học Tiếng Hàn',\n",
       "       'Sách tham khảo cấp I', 'Sách Học Tiếng Hoa', 'Ngoại Ngữ Khác',\n",
       "       'Sách tham khảo cấp II', 'Sách tham khảo cấp III',\n",
       "       'Sách Luyện Thi Đại Học - Cao Đẳng', 'Thẻ luyện thi',\n",
       "       'Sách chuyên đề', 'Từ Điển Tiếng Anh', 'Từ Điển Tiếng Trung',\n",
       "       'Từ Điển Tiếng Hàn', 'Từ Điển Tiếng Nhật', 'Từ Điển Tiếng Pháp',\n",
       "       'Từ Điển Tiếng Việt', 'Từ Điển Ngôn Ngữ Khác',\n",
       "       'Kiến Thức Bách Khoa', 'Lĩnh vực khác',\n",
       "       'Sách Chiêm Tinh - Horoscope', 'Sách giáo dục',\n",
       "       'Truyện Tranh, Manga, Comic', 'Sách Phong Thủy - Kinh Dịch',\n",
       "       'Triết Học', 'Sách Khoa Học - Kỹ Thuật', 'Lịch Sử Việt Nam',\n",
       "       'Lịch Sử Thế Giới', 'Âm Nhạc - Điện Ảnh', 'Mỹ Thuật - Kiến Trúc',\n",
       "       'Sách Tô Màu Dành Cho Người Lớn', 'Sách Tôn Giáo - Tâm Linh',\n",
       "       'Sách Danh Nhân', 'Sách Địa Danh - Du Lịch',\n",
       "       'Sách Phong Tục - Tập Quán', 'Luật - Văn Bản Luật',\n",
       "       'Lý Luận Chính Trị', 'Sách Nông - Lâm - Ngư Nghiệp',\n",
       "       'Tin Học Văn Phòng', 'Lập Trình', 'Thiết Kế - Đồ Họa',\n",
       "       'Sách Y Học', 'Tạp Chí - Catalogue', 'Sách Tâm Lý Tuổi Teen',\n",
       "       'Sách Hôn Nhân - Giới Tính', 'Chăm sóc sức khỏe',\n",
       "       'May - Thêu - Thời Trang', 'Sách Làm Đẹp', 'Sách Nấu ăn',\n",
       "       'Thể Dục - Thể Thao'], dtype=object)"
      ]
     },
     "execution_count": 110,
     "metadata": {},
     "output_type": "execute_result"
    }
   ],
   "source": [
    "cate_col_profiles_df.loc['diff_vals', 'categories']"
   ]
  },
  {
   "attachments": {},
   "cell_type": "markdown",
   "metadata": {},
   "source": [
    "Chọn ra các features phù hợp/ có ảnh hưởng đến yêu cầu bài toán làm đầu vào cho mô hình "
   ]
  },
  {
   "cell_type": "code",
   "execution_count": 111,
   "metadata": {},
   "outputs": [],
   "source": [
    "cols = ['original_price', 'discount_rate',\n",
    "       'rating_average', 'review_count', 'day_ago_created',\n",
    "       'all_time_quantity_sold', 'number_of_page']\n",
    "# Thêm một vài cột categories có ý nghĩa đối với output\n",
    "cate = ['book_cover', 'categories', 'inventory_type', 'manufacturer', 'publication_date']\n",
    "cols.extend(cate)"
   ]
  },
  {
   "attachments": {},
   "cell_type": "markdown",
   "metadata": {},
   "source": [
    "Xem qua kiểu dữ liệu của các cột"
   ]
  },
  {
   "cell_type": "code",
   "execution_count": 112,
   "metadata": {},
   "outputs": [
    {
     "data": {
      "text/plain": [
       "original_price              int64\n",
       "discount_rate               int64\n",
       "rating_average            float64\n",
       "review_count                int64\n",
       "day_ago_created             int64\n",
       "all_time_quantity_sold      int64\n",
       "number_of_page              int64\n",
       "book_cover                 object\n",
       "categories                 object\n",
       "inventory_type             object\n",
       "manufacturer               object\n",
       "publication_date           object\n",
       "dtype: object"
      ]
     },
     "execution_count": 112,
     "metadata": {},
     "output_type": "execute_result"
    }
   ],
   "source": [
    "df[cols].dtypes"
   ]
  },
  {
   "cell_type": "code",
   "execution_count": 113,
   "metadata": {},
   "outputs": [
    {
     "data": {
      "text/html": [
       "<div>\n",
       "<style scoped>\n",
       "    .dataframe tbody tr th:only-of-type {\n",
       "        vertical-align: middle;\n",
       "    }\n",
       "\n",
       "    .dataframe tbody tr th {\n",
       "        vertical-align: top;\n",
       "    }\n",
       "\n",
       "    .dataframe thead th {\n",
       "        text-align: right;\n",
       "    }\n",
       "</style>\n",
       "<table border=\"1\" class=\"dataframe\">\n",
       "  <thead>\n",
       "    <tr style=\"text-align: right;\">\n",
       "      <th></th>\n",
       "      <th>categories</th>\n",
       "      <th>inventory_type</th>\n",
       "      <th>manufacturer</th>\n",
       "    </tr>\n",
       "  </thead>\n",
       "  <tbody>\n",
       "    <tr>\n",
       "      <th>0</th>\n",
       "      <td>Du ký</td>\n",
       "      <td>instock</td>\n",
       "      <td>NXB Trẻ</td>\n",
       "    </tr>\n",
       "    <tr>\n",
       "      <th>1</th>\n",
       "      <td>Du ký</td>\n",
       "      <td>backorder</td>\n",
       "      <td>NXB Trẻ</td>\n",
       "    </tr>\n",
       "    <tr>\n",
       "      <th>2</th>\n",
       "      <td>Du ký</td>\n",
       "      <td>instock</td>\n",
       "      <td>Nhà Xuất Bản Lao Động</td>\n",
       "    </tr>\n",
       "    <tr>\n",
       "      <th>3</th>\n",
       "      <td>Du ký</td>\n",
       "      <td>backorder</td>\n",
       "      <td>Nhà Xuất Bản Hồng Đức</td>\n",
       "    </tr>\n",
       "    <tr>\n",
       "      <th>4</th>\n",
       "      <td>Du ký</td>\n",
       "      <td>backorder</td>\n",
       "      <td>NXB Trẻ</td>\n",
       "    </tr>\n",
       "    <tr>\n",
       "      <th>...</th>\n",
       "      <td>...</td>\n",
       "      <td>...</td>\n",
       "      <td>...</td>\n",
       "    </tr>\n",
       "    <tr>\n",
       "      <th>48286</th>\n",
       "      <td>Thể Dục - Thể Thao</td>\n",
       "      <td>backorder</td>\n",
       "      <td>Nhà Xuất Bản Hà Nội</td>\n",
       "    </tr>\n",
       "    <tr>\n",
       "      <th>48287</th>\n",
       "      <td>Thể Dục - Thể Thao</td>\n",
       "      <td>backorder</td>\n",
       "      <td>NXB Trẻ</td>\n",
       "    </tr>\n",
       "    <tr>\n",
       "      <th>48288</th>\n",
       "      <td>Thể Dục - Thể Thao</td>\n",
       "      <td>backorder</td>\n",
       "      <td>Nhà Xuất Bản Đại Học Quốc Gia Hà Nội</td>\n",
       "    </tr>\n",
       "    <tr>\n",
       "      <th>48289</th>\n",
       "      <td>Thể Dục - Thể Thao</td>\n",
       "      <td>backorder</td>\n",
       "      <td>Nhà Xuất Bản Thể Thao Và Du Lịch</td>\n",
       "    </tr>\n",
       "    <tr>\n",
       "      <th>48290</th>\n",
       "      <td>Thể Dục - Thể Thao</td>\n",
       "      <td>backorder</td>\n",
       "      <td>nxb thanh nien</td>\n",
       "    </tr>\n",
       "  </tbody>\n",
       "</table>\n",
       "<p>48291 rows × 3 columns</p>\n",
       "</div>"
      ],
      "text/plain": [
       "               categories inventory_type                          manufacturer\n",
       "0                   Du ký        instock                               NXB Trẻ\n",
       "1                   Du ký      backorder                               NXB Trẻ\n",
       "2                   Du ký        instock                 Nhà Xuất Bản Lao Động\n",
       "3                   Du ký      backorder                 Nhà Xuất Bản Hồng Đức\n",
       "4                   Du ký      backorder                               NXB Trẻ\n",
       "...                   ...            ...                                   ...\n",
       "48286  Thể Dục - Thể Thao      backorder                   Nhà Xuất Bản Hà Nội\n",
       "48287  Thể Dục - Thể Thao      backorder                               NXB Trẻ\n",
       "48288  Thể Dục - Thể Thao      backorder  Nhà Xuất Bản Đại Học Quốc Gia Hà Nội\n",
       "48289  Thể Dục - Thể Thao      backorder      Nhà Xuất Bản Thể Thao Và Du Lịch\n",
       "48290  Thể Dục - Thể Thao      backorder                        nxb thanh nien\n",
       "\n",
       "[48291 rows x 3 columns]"
      ]
     },
     "execution_count": 113,
     "metadata": {},
     "output_type": "execute_result"
    }
   ],
   "source": [
    "df[['categories', 'inventory_type', 'manufacturer']] = df[['categories', 'inventory_type', 'manufacturer']].astype(str)\n",
    "df[['categories', 'inventory_type', 'manufacturer']]"
   ]
  },
  {
   "attachments": {},
   "cell_type": "markdown",
   "metadata": {},
   "source": [
    "Cột `publication_date` đang có kiểu dữ liệu là object, ta cũng cần chuyển về datetime cho phù hợp"
   ]
  },
  {
   "cell_type": "code",
   "execution_count": 114,
   "metadata": {},
   "outputs": [],
   "source": [
    "df['publication_date'] = pd.to_datetime(df.publication_date, format = \"%Y-%m-%d %H:%M:%S\", errors = \"coerce\")"
   ]
  },
  {
   "attachments": {},
   "cell_type": "markdown",
   "metadata": {},
   "source": [
    "Có lẽ ta không cần cột này trong đầu vào của mô hình vì cột `day_ago_created` đã có ý nghĩa tương tự"
   ]
  },
  {
   "cell_type": "code",
   "execution_count": 115,
   "metadata": {},
   "outputs": [],
   "source": [
    "cols.remove('publication_date')"
   ]
  },
  {
   "attachments": {},
   "cell_type": "markdown",
   "metadata": {},
   "source": [
    "**Xem một vài phân bố của các đặc trưng, từ đó giúp ta quan sát outliers, độ tập trung của dữ liệu**"
   ]
  },
  {
   "cell_type": "code",
   "execution_count": 116,
   "metadata": {},
   "outputs": [
    {
     "data": {
      "image/png": "[encoded data removed]",
      "text/plain": [
       "<Figure size 1000x1000 with 8 Axes>"
      ]
     },
     "metadata": {},
     "output_type": "display_data"
    }
   ],
   "source": [
    "# df_cont = df.select_dtypes([int,float]) \n",
    "numeric_df = df[set(numeric_cols) - {'id', 'sku'}]\n",
    "\n",
    "fig = plt.figure(figsize=(10, 10))\n",
    "fig.suptitle('Phân bố của các đặc trưng')\n",
    "for i,col in enumerate(numeric_df.columns, 1): \n",
    "    ax = plt.subplot(4,3,i) \n",
    "    sns.boxenplot(data = numeric_df, x=numeric_df[col]) \n",
    "    plt.xlabel(None)\n",
    "    plt.title(col, fontsize='small')\n",
    "    plt.tight_layout(w_pad=3) \n",
    "\n",
    "plt.show() "
   ]
  },
  {
   "attachments": {},
   "cell_type": "markdown",
   "metadata": {},
   "source": [
    "Hầu như các cột dữ liệu đều bị lệch phải (right-skewed)\n",
    "- <font color=bone>*original_price*</font> và <font color=bone>*price*</font> có phân bố khá giống nhau, có vài điểm outliers khá lớn\n",
    "- <font color=bone>*day_ago_created*</font> thì phân bố tập trung trong khoảng 0-500 và giảm dần về 2000\n",
    "- <font color=bone>*rating_average*</font> phân bố khá đồng đều từ 0 đến 5\n",
    "- <font color=bone>*all_time_quantity_sold*</font> phân bố chủ yếu ở giá trị 0, xấp xỉ 0 và rải rác từ 0 đến hơn 30000\n",
    "- <font color=bone>*review_count*</font> cũng tương tự, tuy nhiên nằm rải rác từ 0 đến hơn 6000\n",
    "- <font color=bone>*discount_rate*</font> chủ yếu phân bố từ 0-40 và thưa thớt ở các giá trị rate cao hơn\n",
    "- Riêng với <font color=bone>*number_of_page*</font> có outlier khá \"khủng\" nên ta sẽ xử lý riêng và vẽ lại biểu đồ của cột này"
   ]
  },
  {
   "cell_type": "code",
   "execution_count": 172,
   "metadata": {},
   "outputs": [
    {
     "data": {
      "text/plain": [
       "Text(0.5, 1.0, 'Phân bố của number_of_page sau khi clip các giá trị ngoại lệ')"
      ]
     },
     "execution_count": 172,
     "metadata": {},
     "output_type": "execute_result"
    },
    {
     "data": {
      "image/png": "[encoded data removed]",
      "text/plain": [
       "<Figure size 640x480 with 1 Axes>"
      ]
     },
     "metadata": {},
     "output_type": "display_data"
    }
   ],
   "source": [
    "# ref: https://machinelearningcoban.com/tabml_book/ch_data_processing/process_outliers.html\n",
    "from typing import Tuple\n",
    "from sklearn.base import BaseEstimator, TransformerMixin\n",
    "def find_boundaries(col: pd.Series, whisker_coeff: float = 1.5\n",
    ") -> Tuple[float, float]:\n",
    "    Q1 = col.quantile(0.25)\n",
    "    Q3 = col.quantile(0.75)\n",
    "    IQR = Q3 - Q1\n",
    "    lower = Q1 - whisker_coeff * IQR\n",
    "    upper = Q3 + whisker_coeff * IQR\n",
    "    return lower, upper\n",
    "\n",
    "class BoxplotOutlierClipper(BaseEstimator, TransformerMixin):\n",
    "    def __init__(self, whisker_coeff: float = 1.5):\n",
    "        self.whisker = whisker_coeff\n",
    "        self.lower = None\n",
    "        self.upper = None\n",
    "\n",
    "    def fit(self, X: pd.Series):\n",
    "        self.lower, self.upper = find_boundaries(X, self.whisker)\n",
    "        return self\n",
    "\n",
    "    def transform(self, X):\n",
    "        return X.clip(self.lower, self.upper)\n",
    "\n",
    "numeric_df['number_of_page_clipped'] = BoxplotOutlierClipper().fit_transform(numeric_df['number_of_page'])\n",
    "# print(numeric_df['number_of_page'].sort_values(ascending=False)[30:60])\n",
    "sns.boxplot(data = numeric_df['number_of_page_clipped'].reset_index(drop=True)\n",
    "              , orient='h')\n",
    "plt.title('Phân bố của number_of_page sau khi clip các giá trị ngoại lệ') \n",
    "# plt.xlim(0, 1e4)"
   ]
  },
  {
   "attachments": {},
   "cell_type": "markdown",
   "metadata": {},
   "source": [
    "**Các cột có giá trị thiếu hay không? Nếu thiếu thì xử lý như thế nào?**"
   ]
  },
  {
   "cell_type": "code",
   "execution_count": 118,
   "metadata": {},
   "outputs": [
    {
     "data": {
      "text/plain": [
       "original_price                0\n",
       "discount_rate                 0\n",
       "rating_average                0\n",
       "review_count                  0\n",
       "day_ago_created               0\n",
       "all_time_quantity_sold        0\n",
       "number_of_page                0\n",
       "book_cover                17075\n",
       "categories                    0\n",
       "inventory_type                0\n",
       "manufacturer                  0\n",
       "dtype: int64"
      ]
     },
     "execution_count": 118,
     "metadata": {},
     "output_type": "execute_result"
    }
   ],
   "source": [
    "df[cols].isna().sum()"
   ]
  },
  {
   "attachments": {},
   "cell_type": "markdown",
   "metadata": {},
   "source": [
    "Cột `book_cover` thiếu khá nhiều, ta sẽ xem qua các giá trị của cột này"
   ]
  },
  {
   "cell_type": "code",
   "execution_count": 119,
   "metadata": {},
   "outputs": [
    {
     "data": {
      "text/plain": [
       "Bìa mềm                                     27766\n",
       "Bìa cứng                                     2922\n",
       "Bìa gập                                       366\n",
       "Bìa Da                                         43\n",
       "Bìa rời                                        26\n",
       "B Format Paperback                             22\n",
       "Bìa Da Công Nghiệp Microfiber                  21\n",
       "Box                                            14\n",
       "Boxset                                         12\n",
       "Tùy chọn phiên bản bìa cứng hoặc bìa mềm        9\n",
       "Paperback                                       7\n",
       "Board book                                      2\n",
       "Mix Media Pack                                  2\n",
       "Jigsaw box                                      1\n",
       "Counterpack holds 48 Mini Activity Books        1\n",
       "B-format Paperback                              1\n",
       "Hardcover                                       1\n",
       "Name: book_cover, dtype: int64"
      ]
     },
     "execution_count": 119,
     "metadata": {},
     "output_type": "execute_result"
    }
   ],
   "source": [
    "df['book_cover'].value_counts()"
   ]
  },
  {
   "attachments": {},
   "cell_type": "markdown",
   "metadata": {},
   "source": [
    "Ngoài ra, cột <font color=bone>number_of_page</font> chứa các giá trị 0 cũng khá vô lý (cuốn sách có 0 trang?), một suy đoán cho những giá trị này có thể là do thiếu dữ liệu về số trang nên sẽ mặc định là 0. \n",
    "- Có thể phải bỏ các dòng có giá trị này để tránh thêm vào điểm dữ liệu bất hợp lý?\n",
    "- Một cách khác là điền vào các giá trị theo mật độ xuất hiện của các giá trị đã biết?"
   ]
  },
  {
   "cell_type": "code",
   "execution_count": 120,
   "metadata": {},
   "outputs": [
    {
     "data": {
      "text/html": [
       "<div>\n",
       "<style scoped>\n",
       "    .dataframe tbody tr th:only-of-type {\n",
       "        vertical-align: middle;\n",
       "    }\n",
       "\n",
       "    .dataframe tbody tr th {\n",
       "        vertical-align: top;\n",
       "    }\n",
       "\n",
       "    .dataframe thead th {\n",
       "        text-align: right;\n",
       "    }\n",
       "</style>\n",
       "<table border=\"1\" class=\"dataframe\">\n",
       "  <thead>\n",
       "    <tr style=\"text-align: right;\">\n",
       "      <th></th>\n",
       "      <th>id</th>\n",
       "      <th>sku</th>\n",
       "      <th>name</th>\n",
       "      <th>short_url</th>\n",
       "      <th>book_cover</th>\n",
       "      <th>price</th>\n",
       "      <th>original_price</th>\n",
       "      <th>discount_rate</th>\n",
       "      <th>rating_average</th>\n",
       "      <th>review_count</th>\n",
       "      <th>inventory_type</th>\n",
       "      <th>productset_group_name</th>\n",
       "      <th>day_ago_created</th>\n",
       "      <th>categories</th>\n",
       "      <th>all_time_quantity_sold</th>\n",
       "      <th>authors</th>\n",
       "      <th>publisher_vn</th>\n",
       "      <th>publication_date</th>\n",
       "      <th>dimensions</th>\n",
       "      <th>manufacturer</th>\n",
       "      <th>number_of_page</th>\n",
       "      <th>dich_gia</th>\n",
       "      <th>edition</th>\n",
       "      <th>luu_y</th>\n",
       "    </tr>\n",
       "  </thead>\n",
       "  <tbody>\n",
       "    <tr>\n",
       "      <th>24831</th>\n",
       "      <td>175445768</td>\n",
       "      <td>7666711340027</td>\n",
       "      <td>Sách 97 thử thách cùng con số, phát triển tư d...</td>\n",
       "      <td>https://tiki.vn/product-p175445768.html?spid=1...</td>\n",
       "      <td>NaN</td>\n",
       "      <td>41000</td>\n",
       "      <td>65000</td>\n",
       "      <td>37</td>\n",
       "      <td>0.0</td>\n",
       "      <td>0</td>\n",
       "      <td>backorder</td>\n",
       "      <td>Nhà Sách Tiki/Sách tiếng Việt/Sách Bà mẹ - Em ...</td>\n",
       "      <td>229</td>\n",
       "      <td>Sách Kiến Thức - Kỹ Năng Cho Trẻ</td>\n",
       "      <td>7</td>\n",
       "      <td>NaN</td>\n",
       "      <td>Công ty cổ phần đầu tư và phát triển giáo dục ...</td>\n",
       "      <td>NaT</td>\n",
       "      <td>NaN</td>\n",
       "      <td>Nhà Xuất Bản Lao Động</td>\n",
       "      <td>0</td>\n",
       "      <td>NaN</td>\n",
       "      <td>NaN</td>\n",
       "      <td>NaN</td>\n",
       "    </tr>\n",
       "    <tr>\n",
       "      <th>35159</th>\n",
       "      <td>200672455</td>\n",
       "      <td>6337502891010</td>\n",
       "      <td>Khoa Học Khám Phá - Sinh Vào Ngày Xanh</td>\n",
       "      <td>https://tiki.vn/product-p200672455.html?spid=2...</td>\n",
       "      <td>NaN</td>\n",
       "      <td>119000</td>\n",
       "      <td>119000</td>\n",
       "      <td>0</td>\n",
       "      <td>0.0</td>\n",
       "      <td>0</td>\n",
       "      <td>backorder</td>\n",
       "      <td>Nhà Sách Tiki/Sách tiếng Việt/Sách Kiến Thức T...</td>\n",
       "      <td>53</td>\n",
       "      <td>Kiến Thức Bách Khoa</td>\n",
       "      <td>0</td>\n",
       "      <td>NaN</td>\n",
       "      <td>Bloomsbury Childrens - NXB Trẻ</td>\n",
       "      <td>NaT</td>\n",
       "      <td>NaN</td>\n",
       "      <td>NXB Trẻ</td>\n",
       "      <td>0</td>\n",
       "      <td>NaN</td>\n",
       "      <td>NaN</td>\n",
       "      <td>NaN</td>\n",
       "    </tr>\n",
       "    <tr>\n",
       "      <th>37101</th>\n",
       "      <td>193702983</td>\n",
       "      <td>2271455632516</td>\n",
       "      <td>Gia Phả Dòng Tộc - Bìa Cứng</td>\n",
       "      <td>https://tiki.vn/product-p193702983.html?spid=1...</td>\n",
       "      <td>NaN</td>\n",
       "      <td>150000</td>\n",
       "      <td>150000</td>\n",
       "      <td>0</td>\n",
       "      <td>0.0</td>\n",
       "      <td>0</td>\n",
       "      <td>backorder</td>\n",
       "      <td>Nhà Sách Tiki/Sách tiếng Việt/Sách Kiến Thức T...</td>\n",
       "      <td>120</td>\n",
       "      <td>Sách Phong Thủy - Kinh Dịch</td>\n",
       "      <td>0</td>\n",
       "      <td>Gia Cát,  Minh Lâm</td>\n",
       "      <td>Cty TNHH Văn hóa Minh Lâm</td>\n",
       "      <td>NaT</td>\n",
       "      <td>NaN</td>\n",
       "      <td>Nhà Xuất Bản Đại Học Quốc Gia Hà Nội</td>\n",
       "      <td>0</td>\n",
       "      <td>NaN</td>\n",
       "      <td>NaN</td>\n",
       "      <td>NaN</td>\n",
       "    </tr>\n",
       "    <tr>\n",
       "      <th>15267</th>\n",
       "      <td>201073663</td>\n",
       "      <td>8916671346245</td>\n",
       "      <td>Sách - Vỡ lòng về tiền tệ Money for Beginners</td>\n",
       "      <td>https://tiki.vn/product-p201073663.html?spid=2...</td>\n",
       "      <td>NaN</td>\n",
       "      <td>128000</td>\n",
       "      <td>150000</td>\n",
       "      <td>15</td>\n",
       "      <td>0.0</td>\n",
       "      <td>0</td>\n",
       "      <td>backorder</td>\n",
       "      <td>Nhà Sách Tiki/Sách tiếng Việt/Sách kinh tế/Sác...</td>\n",
       "      <td>37</td>\n",
       "      <td>Sách tài chính, tiền tệ</td>\n",
       "      <td>0</td>\n",
       "      <td>NaN</td>\n",
       "      <td>Nhã Nam</td>\n",
       "      <td>NaT</td>\n",
       "      <td>NaN</td>\n",
       "      <td>Nhà Xuất Bản Thế Giới</td>\n",
       "      <td>0</td>\n",
       "      <td>NaN</td>\n",
       "      <td>NaN</td>\n",
       "      <td>NaN</td>\n",
       "    </tr>\n",
       "    <tr>\n",
       "      <th>11963</th>\n",
       "      <td>166340275</td>\n",
       "      <td>4611314966173</td>\n",
       "      <td>Sách Kinh Tế Học :  Kiếm Hơn Triệu Đô</td>\n",
       "      <td>https://tiki.vn/product-p166340275.html?spid=1...</td>\n",
       "      <td>NaN</td>\n",
       "      <td>110400</td>\n",
       "      <td>138000</td>\n",
       "      <td>20</td>\n",
       "      <td>0.0</td>\n",
       "      <td>0</td>\n",
       "      <td>backorder</td>\n",
       "      <td>Nhà Sách Tiki/Sách tiếng Việt/Sách kinh tế/Sác...</td>\n",
       "      <td>275</td>\n",
       "      <td>Sách kinh tế học</td>\n",
       "      <td>0</td>\n",
       "      <td>NaN</td>\n",
       "      <td>Alphabooks</td>\n",
       "      <td>NaT</td>\n",
       "      <td>NaN</td>\n",
       "      <td>Nhà Xuất Bản Công Thương</td>\n",
       "      <td>0</td>\n",
       "      <td>NaN</td>\n",
       "      <td>NaN</td>\n",
       "      <td>NaN</td>\n",
       "    </tr>\n",
       "  </tbody>\n",
       "</table>\n",
       "</div>"
      ],
      "text/plain": [
       "              id            sku  \\\n",
       "24831  175445768  7666711340027   \n",
       "35159  200672455  6337502891010   \n",
       "37101  193702983  2271455632516   \n",
       "15267  201073663  8916671346245   \n",
       "11963  166340275  4611314966173   \n",
       "\n",
       "                                                    name  \\\n",
       "24831  Sách 97 thử thách cùng con số, phát triển tư d...   \n",
       "35159             Khoa Học Khám Phá - Sinh Vào Ngày Xanh   \n",
       "37101                        Gia Phả Dòng Tộc - Bìa Cứng   \n",
       "15267      Sách - Vỡ lòng về tiền tệ Money for Beginners   \n",
       "11963              Sách Kinh Tế Học :  Kiếm Hơn Triệu Đô   \n",
       "\n",
       "                                               short_url book_cover   price  \\\n",
       "24831  https://tiki.vn/product-p175445768.html?spid=1...        NaN   41000   \n",
       "35159  https://tiki.vn/product-p200672455.html?spid=2...        NaN  119000   \n",
       "37101  https://tiki.vn/product-p193702983.html?spid=1...        NaN  150000   \n",
       "15267  https://tiki.vn/product-p201073663.html?spid=2...        NaN  128000   \n",
       "11963  https://tiki.vn/product-p166340275.html?spid=1...        NaN  110400   \n",
       "\n",
       "       original_price  discount_rate  rating_average  review_count  \\\n",
       "24831           65000             37             0.0             0   \n",
       "35159          119000              0             0.0             0   \n",
       "37101          150000              0             0.0             0   \n",
       "15267          150000             15             0.0             0   \n",
       "11963          138000             20             0.0             0   \n",
       "\n",
       "      inventory_type                              productset_group_name  \\\n",
       "24831      backorder  Nhà Sách Tiki/Sách tiếng Việt/Sách Bà mẹ - Em ...   \n",
       "35159      backorder  Nhà Sách Tiki/Sách tiếng Việt/Sách Kiến Thức T...   \n",
       "37101      backorder  Nhà Sách Tiki/Sách tiếng Việt/Sách Kiến Thức T...   \n",
       "15267      backorder  Nhà Sách Tiki/Sách tiếng Việt/Sách kinh tế/Sác...   \n",
       "11963      backorder  Nhà Sách Tiki/Sách tiếng Việt/Sách kinh tế/Sác...   \n",
       "\n",
       "       day_ago_created                        categories  \\\n",
       "24831              229  Sách Kiến Thức - Kỹ Năng Cho Trẻ   \n",
       "35159               53               Kiến Thức Bách Khoa   \n",
       "37101              120       Sách Phong Thủy - Kinh Dịch   \n",
       "15267               37           Sách tài chính, tiền tệ   \n",
       "11963              275                  Sách kinh tế học   \n",
       "\n",
       "       all_time_quantity_sold             authors  \\\n",
       "24831                       7                 NaN   \n",
       "35159                       0                 NaN   \n",
       "37101                       0  Gia Cát,  Minh Lâm   \n",
       "15267                       0                 NaN   \n",
       "11963                       0                 NaN   \n",
       "\n",
       "                                            publisher_vn publication_date  \\\n",
       "24831  Công ty cổ phần đầu tư và phát triển giáo dục ...              NaT   \n",
       "35159                     Bloomsbury Childrens - NXB Trẻ              NaT   \n",
       "37101                          Cty TNHH Văn hóa Minh Lâm              NaT   \n",
       "15267                                            Nhã Nam              NaT   \n",
       "11963                                         Alphabooks              NaT   \n",
       "\n",
       "      dimensions                          manufacturer  number_of_page  \\\n",
       "24831        NaN                 Nhà Xuất Bản Lao Động               0   \n",
       "35159        NaN                               NXB Trẻ               0   \n",
       "37101        NaN  Nhà Xuất Bản Đại Học Quốc Gia Hà Nội               0   \n",
       "15267        NaN                 Nhà Xuất Bản Thế Giới               0   \n",
       "11963        NaN              Nhà Xuất Bản Công Thương               0   \n",
       "\n",
       "      dich_gia edition luu_y  \n",
       "24831      NaN     NaN   NaN  \n",
       "35159      NaN     NaN   NaN  \n",
       "37101      NaN     NaN   NaN  \n",
       "15267      NaN     NaN   NaN  \n",
       "11963      NaN     NaN   NaN  "
      ]
     },
     "execution_count": 120,
     "metadata": {},
     "output_type": "execute_result"
    }
   ],
   "source": [
    "df[df['book_cover'].isna()].sample(5)"
   ]
  },
  {
   "attachments": {},
   "cell_type": "markdown",
   "metadata": {},
   "source": [
    "Thay các giá trị 0 thành nan để phục vụ cho giai đoạn xử lý missing value "
   ]
  },
  {
   "cell_type": "code",
   "execution_count": 121,
   "metadata": {},
   "outputs": [],
   "source": [
    "df['number_of_page'].replace(0, np.nan, inplace=True)"
   ]
  },
  {
   "cell_type": "code",
   "execution_count": 122,
   "metadata": {},
   "outputs": [],
   "source": [
    "features = df[cols].copy()"
   ]
  },
  {
   "attachments": {},
   "cell_type": "markdown",
   "metadata": {},
   "source": [
    "#### **Phân chia tập train/val/test**"
   ]
  },
  {
   "cell_type": "code",
   "execution_count": 123,
   "metadata": {},
   "outputs": [],
   "source": [
    "x_df = features[set(cols) - {'discount_rate'}]\n",
    "y_df = features['discount_rate']\n",
    "\n",
    "x_train, x_test, y_train, y_test = train_test_split(x_df, y_df, test_size=0.2, random_state=5) # Tách tập test/train\n",
    "# x_train, x_val, y_train, y_val = train_test_split(x_train, y_train, test_size=0.2, random_state=5) # Tách tập train/val từ tập train\n"
   ]
  },
  {
   "attachments": {},
   "cell_type": "markdown",
   "metadata": {},
   "source": [
    "#### **Pipeline cho bước tiền xử lý**"
   ]
  },
  {
   "cell_type": "code",
   "execution_count": 173,
   "metadata": {},
   "outputs": [],
   "source": [
    "# df['book_cover'].fillna('Không có bìa', inplace=True)\n",
    "cate = [ 'book_cover', 'categories','inventory_type', 'manufacturer']\n",
    "nume = ['original_price', 'rating_average', 'review_count', 'day_ago_created','all_time_quantity_sold',\n",
    "        'number_of_page']\n",
    "\n",
    "# Pipeline xử lý cho các cột category\n",
    "cate_transformer = Pipeline(steps= [('imputer', SimpleImputer(strategy='most_frequent')), # Thay thế missing value bằng giá trị có tần suất xuất hiện cao\n",
    "                               ('OneHotEncoder', OneHotEncoder(handle_unknown='ignore'))]) # biểu diễn one hot cho các cột category\n",
    "                                                                                # đối với các giá trị mà model chưa từng thấy bao giờ (trong tập test) thì ta bỏ qua\n",
    "# Pipeline xử lý cho các cột numeric\n",
    "nume_transfomer = Pipeline(steps= [('imputer', KNNImputer(n_neighbors=10)), # thay thế missing value bằng thuật toán k-nearest với số lượng láng giềng là 10\n",
    "                                   ('scaler', MinMaxScaler())])  # scale các giá trị về miền giá trị trong khoảng 0 đến 1 \n",
    "\n",
    "# Pipeline cho bước tiền xử lý chung \n",
    "preprocessor = ColumnTransformer(transformers=[('cate_transformer', cate_transformer, cate),\n",
    "                                                ('nume_transfomer',nume_transfomer, nume)])"
   ]
  },
  {
   "attachments": {},
   "cell_type": "markdown",
   "metadata": {},
   "source": [
    "## **5. Huấn luyện mô hình**"
   ]
  },
  {
   "attachments": {},
   "cell_type": "markdown",
   "metadata": {},
   "source": [
    "#### **Linear Regression**"
   ]
  },
  {
   "cell_type": "code",
   "execution_count": 171,
   "metadata": {},
   "outputs": [
    {
     "ename": "AttributeError",
     "evalue": "'BoxplotOutlierClipper' object has no attribute 'whisker_coeff'",
     "output_type": "error",
     "traceback": [
      "\u001b[1;31m---------------------------------------------------------------------------\u001b[0m",
      "\u001b[1;31mEmpty\u001b[0m                                     Traceback (most recent call last)",
      "File \u001b[1;32mc:\\Users\\Admin\\miniconda3\\envs\\myenv\\lib\\site-packages\\joblib\\parallel.py:862\u001b[0m, in \u001b[0;36mParallel.dispatch_one_batch\u001b[1;34m(self, iterator)\u001b[0m\n\u001b[0;32m    861\u001b[0m \u001b[39mtry\u001b[39;00m:\n\u001b[1;32m--> 862\u001b[0m     tasks \u001b[39m=\u001b[39m \u001b[39mself\u001b[39;49m\u001b[39m.\u001b[39;49m_ready_batches\u001b[39m.\u001b[39;49mget(block\u001b[39m=\u001b[39;49m\u001b[39mFalse\u001b[39;49;00m)\n\u001b[0;32m    863\u001b[0m \u001b[39mexcept\u001b[39;00m queue\u001b[39m.\u001b[39mEmpty:\n\u001b[0;32m    864\u001b[0m     \u001b[39m# slice the iterator n_jobs * batchsize items at a time. If the\u001b[39;00m\n\u001b[0;32m    865\u001b[0m     \u001b[39m# slice returns less than that, then the current batchsize puts\u001b[39;00m\n\u001b[1;32m   (...)\u001b[0m\n\u001b[0;32m    868\u001b[0m     \u001b[39m# accordingly to distribute evenly the last items between all\u001b[39;00m\n\u001b[0;32m    869\u001b[0m     \u001b[39m# workers.\u001b[39;00m\n",
      "File \u001b[1;32mc:\\Users\\Admin\\miniconda3\\envs\\myenv\\lib\\queue.py:168\u001b[0m, in \u001b[0;36mQueue.get\u001b[1;34m(self, block, timeout)\u001b[0m\n\u001b[0;32m    167\u001b[0m     \u001b[39mif\u001b[39;00m \u001b[39mnot\u001b[39;00m \u001b[39mself\u001b[39m\u001b[39m.\u001b[39m_qsize():\n\u001b[1;32m--> 168\u001b[0m         \u001b[39mraise\u001b[39;00m Empty\n\u001b[0;32m    169\u001b[0m \u001b[39melif\u001b[39;00m timeout \u001b[39mis\u001b[39;00m \u001b[39mNone\u001b[39;00m:\n",
      "\u001b[1;31mEmpty\u001b[0m: ",
      "\nDuring handling of the above exception, another exception occurred:\n",
      "\u001b[1;31mAttributeError\u001b[0m                            Traceback (most recent call last)",
      "Cell \u001b[1;32mIn[171], line 6\u001b[0m\n\u001b[0;32m      1\u001b[0m model \u001b[39m=\u001b[39m LinearRegression()\n\u001b[0;32m      2\u001b[0m comp_pipeline \u001b[39m=\u001b[39m Pipeline(steps\u001b[39m=\u001b[39m[(\u001b[39m'\u001b[39m\u001b[39mpreprocessor\u001b[39m\u001b[39m'\u001b[39m, preprocessor),\n\u001b[0;32m      3\u001b[0m                                 (\u001b[39m'\u001b[39m\u001b[39mlinear_regression\u001b[39m\u001b[39m'\u001b[39m, model)])\n\u001b[1;32m----> 6\u001b[0m comp_pipeline\u001b[39m.\u001b[39;49mfit(x_train, y_train)\n\u001b[0;32m      7\u001b[0m y_train_pred \u001b[39m=\u001b[39m comp_pipeline\u001b[39m.\u001b[39mpredict(x_train)\n\u001b[0;32m      8\u001b[0m \u001b[39m# rfe = RFE(comp_pipeline, n_features_to_select=10)             \u001b[39;00m\n\u001b[0;32m      9\u001b[0m \u001b[39m# rfe = rfe.fit(x_train, y_train)\u001b[39;00m\n\u001b[0;32m     10\u001b[0m \u001b[39m# list(zip(x_train.columns,rfe.support_,rfe.ranking_))\u001b[39;00m\n",
      "File \u001b[1;32mc:\\Users\\Admin\\miniconda3\\envs\\myenv\\lib\\site-packages\\sklearn\\pipeline.py:378\u001b[0m, in \u001b[0;36mPipeline.fit\u001b[1;34m(self, X, y, **fit_params)\u001b[0m\n\u001b[0;32m    352\u001b[0m \u001b[39m\"\"\"Fit the model.\u001b[39;00m\n\u001b[0;32m    353\u001b[0m \n\u001b[0;32m    354\u001b[0m \u001b[39mFit all the transformers one after the other and transform the\u001b[39;00m\n\u001b[1;32m   (...)\u001b[0m\n\u001b[0;32m    375\u001b[0m \u001b[39m    Pipeline with fitted steps.\u001b[39;00m\n\u001b[0;32m    376\u001b[0m \u001b[39m\"\"\"\u001b[39;00m\n\u001b[0;32m    377\u001b[0m fit_params_steps \u001b[39m=\u001b[39m \u001b[39mself\u001b[39m\u001b[39m.\u001b[39m_check_fit_params(\u001b[39m*\u001b[39m\u001b[39m*\u001b[39mfit_params)\n\u001b[1;32m--> 378\u001b[0m Xt \u001b[39m=\u001b[39m \u001b[39mself\u001b[39m\u001b[39m.\u001b[39m_fit(X, y, \u001b[39m*\u001b[39m\u001b[39m*\u001b[39mfit_params_steps)\n\u001b[0;32m    379\u001b[0m \u001b[39mwith\u001b[39;00m _print_elapsed_time(\u001b[39m\"\u001b[39m\u001b[39mPipeline\u001b[39m\u001b[39m\"\u001b[39m, \u001b[39mself\u001b[39m\u001b[39m.\u001b[39m_log_message(\u001b[39mlen\u001b[39m(\u001b[39mself\u001b[39m\u001b[39m.\u001b[39msteps) \u001b[39m-\u001b[39m \u001b[39m1\u001b[39m)):\n\u001b[0;32m    380\u001b[0m     \u001b[39mif\u001b[39;00m \u001b[39mself\u001b[39m\u001b[39m.\u001b[39m_final_estimator \u001b[39m!=\u001b[39m \u001b[39m\"\u001b[39m\u001b[39mpassthrough\u001b[39m\u001b[39m\"\u001b[39m:\n",
      "File \u001b[1;32mc:\\Users\\Admin\\miniconda3\\envs\\myenv\\lib\\site-packages\\sklearn\\pipeline.py:336\u001b[0m, in \u001b[0;36mPipeline._fit\u001b[1;34m(self, X, y, **fit_params_steps)\u001b[0m\n\u001b[0;32m    334\u001b[0m     cloned_transformer \u001b[39m=\u001b[39m clone(transformer)\n\u001b[0;32m    335\u001b[0m \u001b[39m# Fit or load from cache the current transformer\u001b[39;00m\n\u001b[1;32m--> 336\u001b[0m X, fitted_transformer \u001b[39m=\u001b[39m fit_transform_one_cached(\n\u001b[0;32m    337\u001b[0m     cloned_transformer,\n\u001b[0;32m    338\u001b[0m     X,\n\u001b[0;32m    339\u001b[0m     y,\n\u001b[0;32m    340\u001b[0m     \u001b[39mNone\u001b[39;00m,\n\u001b[0;32m    341\u001b[0m     message_clsname\u001b[39m=\u001b[39m\u001b[39m\"\u001b[39m\u001b[39mPipeline\u001b[39m\u001b[39m\"\u001b[39m,\n\u001b[0;32m    342\u001b[0m     message\u001b[39m=\u001b[39m\u001b[39mself\u001b[39m\u001b[39m.\u001b[39m_log_message(step_idx),\n\u001b[0;32m    343\u001b[0m     \u001b[39m*\u001b[39m\u001b[39m*\u001b[39mfit_params_steps[name],\n\u001b[0;32m    344\u001b[0m )\n\u001b[0;32m    345\u001b[0m \u001b[39m# Replace the transformer of the step with the fitted\u001b[39;00m\n\u001b[0;32m    346\u001b[0m \u001b[39m# transformer. This is necessary when loading the transformer\u001b[39;00m\n\u001b[0;32m    347\u001b[0m \u001b[39m# from the cache.\u001b[39;00m\n\u001b[0;32m    348\u001b[0m \u001b[39mself\u001b[39m\u001b[39m.\u001b[39msteps[step_idx] \u001b[39m=\u001b[39m (name, fitted_transformer)\n",
      "File \u001b[1;32mc:\\Users\\Admin\\miniconda3\\envs\\myenv\\lib\\site-packages\\joblib\\memory.py:349\u001b[0m, in \u001b[0;36mNotMemorizedFunc.__call__\u001b[1;34m(self, *args, **kwargs)\u001b[0m\n\u001b[0;32m    348\u001b[0m \u001b[39mdef\u001b[39;00m \u001b[39m__call__\u001b[39m(\u001b[39mself\u001b[39m, \u001b[39m*\u001b[39margs, \u001b[39m*\u001b[39m\u001b[39m*\u001b[39mkwargs):\n\u001b[1;32m--> 349\u001b[0m     \u001b[39mreturn\u001b[39;00m \u001b[39mself\u001b[39m\u001b[39m.\u001b[39mfunc(\u001b[39m*\u001b[39margs, \u001b[39m*\u001b[39m\u001b[39m*\u001b[39mkwargs)\n",
      "File \u001b[1;32mc:\\Users\\Admin\\miniconda3\\envs\\myenv\\lib\\site-packages\\sklearn\\pipeline.py:870\u001b[0m, in \u001b[0;36m_fit_transform_one\u001b[1;34m(transformer, X, y, weight, message_clsname, message, **fit_params)\u001b[0m\n\u001b[0;32m    868\u001b[0m \u001b[39mwith\u001b[39;00m _print_elapsed_time(message_clsname, message):\n\u001b[0;32m    869\u001b[0m     \u001b[39mif\u001b[39;00m \u001b[39mhasattr\u001b[39m(transformer, \u001b[39m\"\u001b[39m\u001b[39mfit_transform\u001b[39m\u001b[39m\"\u001b[39m):\n\u001b[1;32m--> 870\u001b[0m         res \u001b[39m=\u001b[39m transformer\u001b[39m.\u001b[39mfit_transform(X, y, \u001b[39m*\u001b[39m\u001b[39m*\u001b[39mfit_params)\n\u001b[0;32m    871\u001b[0m     \u001b[39melse\u001b[39;00m:\n\u001b[0;32m    872\u001b[0m         res \u001b[39m=\u001b[39m transformer\u001b[39m.\u001b[39mfit(X, y, \u001b[39m*\u001b[39m\u001b[39m*\u001b[39mfit_params)\u001b[39m.\u001b[39mtransform(X)\n",
      "File \u001b[1;32mc:\\Users\\Admin\\miniconda3\\envs\\myenv\\lib\\site-packages\\sklearn\\compose\\_column_transformer.py:690\u001b[0m, in \u001b[0;36mColumnTransformer.fit_transform\u001b[1;34m(self, X, y)\u001b[0m\n\u001b[0;32m    687\u001b[0m \u001b[39mself\u001b[39m\u001b[39m.\u001b[39m_validate_column_callables(X)\n\u001b[0;32m    688\u001b[0m \u001b[39mself\u001b[39m\u001b[39m.\u001b[39m_validate_remainder(X)\n\u001b[1;32m--> 690\u001b[0m result \u001b[39m=\u001b[39m \u001b[39mself\u001b[39;49m\u001b[39m.\u001b[39;49m_fit_transform(X, y, _fit_transform_one)\n\u001b[0;32m    692\u001b[0m \u001b[39mif\u001b[39;00m \u001b[39mnot\u001b[39;00m result:\n\u001b[0;32m    693\u001b[0m     \u001b[39mself\u001b[39m\u001b[39m.\u001b[39m_update_fitted_transformers([])\n",
      "File \u001b[1;32mc:\\Users\\Admin\\miniconda3\\envs\\myenv\\lib\\site-packages\\sklearn\\compose\\_column_transformer.py:621\u001b[0m, in \u001b[0;36mColumnTransformer._fit_transform\u001b[1;34m(self, X, y, func, fitted, column_as_strings)\u001b[0m\n\u001b[0;32m    615\u001b[0m transformers \u001b[39m=\u001b[39m \u001b[39mlist\u001b[39m(\n\u001b[0;32m    616\u001b[0m     \u001b[39mself\u001b[39m\u001b[39m.\u001b[39m_iter(\n\u001b[0;32m    617\u001b[0m         fitted\u001b[39m=\u001b[39mfitted, replace_strings\u001b[39m=\u001b[39m\u001b[39mTrue\u001b[39;00m, column_as_strings\u001b[39m=\u001b[39mcolumn_as_strings\n\u001b[0;32m    618\u001b[0m     )\n\u001b[0;32m    619\u001b[0m )\n\u001b[0;32m    620\u001b[0m \u001b[39mtry\u001b[39;00m:\n\u001b[1;32m--> 621\u001b[0m     \u001b[39mreturn\u001b[39;00m Parallel(n_jobs\u001b[39m=\u001b[39;49m\u001b[39mself\u001b[39;49m\u001b[39m.\u001b[39;49mn_jobs)(\n\u001b[0;32m    622\u001b[0m         delayed(func)(\n\u001b[0;32m    623\u001b[0m             transformer\u001b[39m=\u001b[39;49mclone(trans) \u001b[39mif\u001b[39;49;00m \u001b[39mnot\u001b[39;49;00m fitted \u001b[39melse\u001b[39;49;00m trans,\n\u001b[0;32m    624\u001b[0m             X\u001b[39m=\u001b[39;49m_safe_indexing(X, column, axis\u001b[39m=\u001b[39;49m\u001b[39m1\u001b[39;49m),\n\u001b[0;32m    625\u001b[0m             y\u001b[39m=\u001b[39;49my,\n\u001b[0;32m    626\u001b[0m             weight\u001b[39m=\u001b[39;49mweight,\n\u001b[0;32m    627\u001b[0m             message_clsname\u001b[39m=\u001b[39;49m\u001b[39m\"\u001b[39;49m\u001b[39mColumnTransformer\u001b[39;49m\u001b[39m\"\u001b[39;49m,\n\u001b[0;32m    628\u001b[0m             message\u001b[39m=\u001b[39;49m\u001b[39mself\u001b[39;49m\u001b[39m.\u001b[39;49m_log_message(name, idx, \u001b[39mlen\u001b[39;49m(transformers)),\n\u001b[0;32m    629\u001b[0m         )\n\u001b[0;32m    630\u001b[0m         \u001b[39mfor\u001b[39;49;00m idx, (name, trans, column, weight) \u001b[39min\u001b[39;49;00m \u001b[39menumerate\u001b[39;49m(transformers, \u001b[39m1\u001b[39;49m)\n\u001b[0;32m    631\u001b[0m     )\n\u001b[0;32m    632\u001b[0m \u001b[39mexcept\u001b[39;00m \u001b[39mValueError\u001b[39;00m \u001b[39mas\u001b[39;00m e:\n\u001b[0;32m    633\u001b[0m     \u001b[39mif\u001b[39;00m \u001b[39m\"\u001b[39m\u001b[39mExpected 2D array, got 1D array instead\u001b[39m\u001b[39m\"\u001b[39m \u001b[39min\u001b[39;00m \u001b[39mstr\u001b[39m(e):\n",
      "File \u001b[1;32mc:\\Users\\Admin\\miniconda3\\envs\\myenv\\lib\\site-packages\\joblib\\parallel.py:1085\u001b[0m, in \u001b[0;36mParallel.__call__\u001b[1;34m(self, iterable)\u001b[0m\n\u001b[0;32m   1076\u001b[0m \u001b[39mtry\u001b[39;00m:\n\u001b[0;32m   1077\u001b[0m     \u001b[39m# Only set self._iterating to True if at least a batch\u001b[39;00m\n\u001b[0;32m   1078\u001b[0m     \u001b[39m# was dispatched. In particular this covers the edge\u001b[39;00m\n\u001b[1;32m   (...)\u001b[0m\n\u001b[0;32m   1082\u001b[0m     \u001b[39m# was very quick and its callback already dispatched all the\u001b[39;00m\n\u001b[0;32m   1083\u001b[0m     \u001b[39m# remaining jobs.\u001b[39;00m\n\u001b[0;32m   1084\u001b[0m     \u001b[39mself\u001b[39m\u001b[39m.\u001b[39m_iterating \u001b[39m=\u001b[39m \u001b[39mFalse\u001b[39;00m\n\u001b[1;32m-> 1085\u001b[0m     \u001b[39mif\u001b[39;00m \u001b[39mself\u001b[39;49m\u001b[39m.\u001b[39;49mdispatch_one_batch(iterator):\n\u001b[0;32m   1086\u001b[0m         \u001b[39mself\u001b[39m\u001b[39m.\u001b[39m_iterating \u001b[39m=\u001b[39m \u001b[39mself\u001b[39m\u001b[39m.\u001b[39m_original_iterator \u001b[39mis\u001b[39;00m \u001b[39mnot\u001b[39;00m \u001b[39mNone\u001b[39;00m\n\u001b[0;32m   1088\u001b[0m     \u001b[39mwhile\u001b[39;00m \u001b[39mself\u001b[39m\u001b[39m.\u001b[39mdispatch_one_batch(iterator):\n",
      "File \u001b[1;32mc:\\Users\\Admin\\miniconda3\\envs\\myenv\\lib\\site-packages\\joblib\\parallel.py:873\u001b[0m, in \u001b[0;36mParallel.dispatch_one_batch\u001b[1;34m(self, iterator)\u001b[0m\n\u001b[0;32m    870\u001b[0m n_jobs \u001b[39m=\u001b[39m \u001b[39mself\u001b[39m\u001b[39m.\u001b[39m_cached_effective_n_jobs\n\u001b[0;32m    871\u001b[0m big_batch_size \u001b[39m=\u001b[39m batch_size \u001b[39m*\u001b[39m n_jobs\n\u001b[1;32m--> 873\u001b[0m islice \u001b[39m=\u001b[39m \u001b[39mlist\u001b[39;49m(itertools\u001b[39m.\u001b[39;49mislice(iterator, big_batch_size))\n\u001b[0;32m    874\u001b[0m \u001b[39mif\u001b[39;00m \u001b[39mlen\u001b[39m(islice) \u001b[39m==\u001b[39m \u001b[39m0\u001b[39m:\n\u001b[0;32m    875\u001b[0m     \u001b[39mreturn\u001b[39;00m \u001b[39mFalse\u001b[39;00m\n",
      "File \u001b[1;32mc:\\Users\\Admin\\miniconda3\\envs\\myenv\\lib\\site-packages\\sklearn\\compose\\_column_transformer.py:623\u001b[0m, in \u001b[0;36m<genexpr>\u001b[1;34m(.0)\u001b[0m\n\u001b[0;32m    615\u001b[0m transformers \u001b[39m=\u001b[39m \u001b[39mlist\u001b[39m(\n\u001b[0;32m    616\u001b[0m     \u001b[39mself\u001b[39m\u001b[39m.\u001b[39m_iter(\n\u001b[0;32m    617\u001b[0m         fitted\u001b[39m=\u001b[39mfitted, replace_strings\u001b[39m=\u001b[39m\u001b[39mTrue\u001b[39;00m, column_as_strings\u001b[39m=\u001b[39mcolumn_as_strings\n\u001b[0;32m    618\u001b[0m     )\n\u001b[0;32m    619\u001b[0m )\n\u001b[0;32m    620\u001b[0m \u001b[39mtry\u001b[39;00m:\n\u001b[0;32m    621\u001b[0m     \u001b[39mreturn\u001b[39;00m Parallel(n_jobs\u001b[39m=\u001b[39m\u001b[39mself\u001b[39m\u001b[39m.\u001b[39mn_jobs)(\n\u001b[0;32m    622\u001b[0m         delayed(func)(\n\u001b[1;32m--> 623\u001b[0m             transformer\u001b[39m=\u001b[39mclone(trans) \u001b[39mif\u001b[39;00m \u001b[39mnot\u001b[39;00m fitted \u001b[39melse\u001b[39;00m trans,\n\u001b[0;32m    624\u001b[0m             X\u001b[39m=\u001b[39m_safe_indexing(X, column, axis\u001b[39m=\u001b[39m\u001b[39m1\u001b[39m),\n\u001b[0;32m    625\u001b[0m             y\u001b[39m=\u001b[39my,\n\u001b[0;32m    626\u001b[0m             weight\u001b[39m=\u001b[39mweight,\n\u001b[0;32m    627\u001b[0m             message_clsname\u001b[39m=\u001b[39m\u001b[39m\"\u001b[39m\u001b[39mColumnTransformer\u001b[39m\u001b[39m\"\u001b[39m,\n\u001b[0;32m    628\u001b[0m             message\u001b[39m=\u001b[39m\u001b[39mself\u001b[39m\u001b[39m.\u001b[39m_log_message(name, idx, \u001b[39mlen\u001b[39m(transformers)),\n\u001b[0;32m    629\u001b[0m         )\n\u001b[0;32m    630\u001b[0m         \u001b[39mfor\u001b[39;00m idx, (name, trans, column, weight) \u001b[39min\u001b[39;00m \u001b[39menumerate\u001b[39m(transformers, \u001b[39m1\u001b[39m)\n\u001b[0;32m    631\u001b[0m     )\n\u001b[0;32m    632\u001b[0m \u001b[39mexcept\u001b[39;00m \u001b[39mValueError\u001b[39;00m \u001b[39mas\u001b[39;00m e:\n\u001b[0;32m    633\u001b[0m     \u001b[39mif\u001b[39;00m \u001b[39m\"\u001b[39m\u001b[39mExpected 2D array, got 1D array instead\u001b[39m\u001b[39m\"\u001b[39m \u001b[39min\u001b[39;00m \u001b[39mstr\u001b[39m(e):\n",
      "File \u001b[1;32mc:\\Users\\Admin\\miniconda3\\envs\\myenv\\lib\\site-packages\\sklearn\\base.py:85\u001b[0m, in \u001b[0;36mclone\u001b[1;34m(estimator, safe)\u001b[0m\n\u001b[0;32m     77\u001b[0m             \u001b[39mraise\u001b[39;00m \u001b[39mTypeError\u001b[39;00m(\n\u001b[0;32m     78\u001b[0m                 \u001b[39m\"\u001b[39m\u001b[39mCannot clone object \u001b[39m\u001b[39m'\u001b[39m\u001b[39m%s\u001b[39;00m\u001b[39m'\u001b[39m\u001b[39m (type \u001b[39m\u001b[39m%s\u001b[39;00m\u001b[39m): \u001b[39m\u001b[39m\"\u001b[39m\n\u001b[0;32m     79\u001b[0m                 \u001b[39m\"\u001b[39m\u001b[39mit does not seem to be a scikit-learn \u001b[39m\u001b[39m\"\u001b[39m\n\u001b[0;32m     80\u001b[0m                 \u001b[39m\"\u001b[39m\u001b[39mestimator as it does not implement a \u001b[39m\u001b[39m\"\u001b[39m\n\u001b[0;32m     81\u001b[0m                 \u001b[39m\"\u001b[39m\u001b[39m'\u001b[39m\u001b[39mget_params\u001b[39m\u001b[39m'\u001b[39m\u001b[39m method.\u001b[39m\u001b[39m\"\u001b[39m \u001b[39m%\u001b[39m (\u001b[39mrepr\u001b[39m(estimator), \u001b[39mtype\u001b[39m(estimator))\n\u001b[0;32m     82\u001b[0m             )\n\u001b[0;32m     84\u001b[0m klass \u001b[39m=\u001b[39m estimator\u001b[39m.\u001b[39m\u001b[39m__class__\u001b[39m\n\u001b[1;32m---> 85\u001b[0m new_object_params \u001b[39m=\u001b[39m estimator\u001b[39m.\u001b[39;49mget_params(deep\u001b[39m=\u001b[39;49m\u001b[39mFalse\u001b[39;49;00m)\n\u001b[0;32m     86\u001b[0m \u001b[39mfor\u001b[39;00m name, param \u001b[39min\u001b[39;00m new_object_params\u001b[39m.\u001b[39mitems():\n\u001b[0;32m     87\u001b[0m     new_object_params[name] \u001b[39m=\u001b[39m clone(param, safe\u001b[39m=\u001b[39m\u001b[39mFalse\u001b[39;00m)\n",
      "File \u001b[1;32mc:\\Users\\Admin\\miniconda3\\envs\\myenv\\lib\\site-packages\\sklearn\\base.py:211\u001b[0m, in \u001b[0;36mBaseEstimator.get_params\u001b[1;34m(self, deep)\u001b[0m\n\u001b[0;32m    209\u001b[0m out \u001b[39m=\u001b[39m \u001b[39mdict\u001b[39m()\n\u001b[0;32m    210\u001b[0m \u001b[39mfor\u001b[39;00m key \u001b[39min\u001b[39;00m \u001b[39mself\u001b[39m\u001b[39m.\u001b[39m_get_param_names():\n\u001b[1;32m--> 211\u001b[0m     value \u001b[39m=\u001b[39m \u001b[39mgetattr\u001b[39;49m(\u001b[39mself\u001b[39;49m, key)\n\u001b[0;32m    212\u001b[0m     \u001b[39mif\u001b[39;00m deep \u001b[39mand\u001b[39;00m \u001b[39mhasattr\u001b[39m(value, \u001b[39m\"\u001b[39m\u001b[39mget_params\u001b[39m\u001b[39m\"\u001b[39m) \u001b[39mand\u001b[39;00m \u001b[39mnot\u001b[39;00m \u001b[39misinstance\u001b[39m(value, \u001b[39mtype\u001b[39m):\n\u001b[0;32m    213\u001b[0m         deep_items \u001b[39m=\u001b[39m value\u001b[39m.\u001b[39mget_params()\u001b[39m.\u001b[39mitems()\n",
      "\u001b[1;31mAttributeError\u001b[0m: 'BoxplotOutlierClipper' object has no attribute 'whisker_coeff'"
     ]
    }
   ],
   "source": [
    "model = LinearRegression()\n",
    "comp_pipeline = Pipeline(steps=[('preprocessor', preprocessor),\n",
    "                                ('linear_regression', model)])\n",
    "\n",
    "\n",
    "comp_pipeline.fit(x_train, y_train)\n",
    "y_train_pred = comp_pipeline.predict(x_train)\n",
    "# rfe = RFE(comp_pipeline, n_features_to_select=10)             \n",
    "# rfe = rfe.fit(x_train, y_train)\n",
    "# list(zip(x_train.columns,rfe.support_,rfe.ranking_))"
   ]
  },
  {
   "cell_type": "code",
   "execution_count": 135,
   "metadata": {},
   "outputs": [],
   "source": [
    "y_test_pred = comp_pipeline.predict(x_test)"
   ]
  },
  {
   "cell_type": "code",
   "execution_count": 138,
   "metadata": {},
   "outputs": [
    {
     "name": "stdout",
     "output_type": "stream",
     "text": [
      "MSE: 107.62\n",
      "MAE: 8.06\n",
      "MSE: 107.64\n",
      "MAE: 8.05\n"
     ]
    }
   ],
   "source": [
    "print(f'MSE: {mean_squared_error(y_train, y_train_pred):.2f}')\n",
    "print(f'MAE: {mean_absolute_error(y_train, y_train_pred):.2f}')\n",
    "print(f'MSE: {mean_squared_error(y_test, y_test_pred):.2f}')\n",
    "print(f'MAE: {mean_absolute_error(y_test, y_test_pred):.2f}')\n"
   ]
  },
  {
   "attachments": {},
   "cell_type": "markdown",
   "metadata": {},
   "source": [
    "#### **Cross validation**"
   ]
  },
  {
   "cell_type": "code",
   "execution_count": 139,
   "metadata": {},
   "outputs": [],
   "source": [
    "# Xác định KFold\n",
    "# cv = RepeatedStratifiedKFold(n_splits=5, n_repeats=3, random_state=1)\n",
    "models = [LinearRegression(), MLPRegressor(), RandomForestRegressor()]\n",
    "\n",
    "completed_pl = Pipeline(\n",
    "    steps=[(\"preprocessor\", preprocessor), ('regression', LinearRegression())])\n",
    "\n",
    "scores = cross_val_score(completed_pl, x_train, y_train, scoring='neg_mean_absolute_error', cv=cv, error_score='raise')\n",
    " "
   ]
  },
  {
   "cell_type": "code",
   "execution_count": 174,
   "metadata": {},
   "outputs": [
    {
     "data": {
      "text/plain": [
       "array([-8.14006638, -8.14899239, -8.12416818, -8.17134076, -8.06910642])"
      ]
     },
     "execution_count": 174,
     "metadata": {},
     "output_type": "execute_result"
    }
   ],
   "source": [
    "scores"
   ]
  }
 ],
 "metadata": {
  "kernelspec": {
   "display_name": "myenv",
   "language": "python",
   "name": "python3"
  },
  "language_info": {
   "codemirror_mode": {
    "name": "ipython",
    "version": 3
   },
   "file_extension": ".py",
   "mimetype": "text/x-python",
   "name": "python",
   "nbconvert_exporter": "python",
   "pygments_lexer": "ipython3",
   "version": "3.9.13"
  },
  "orig_nbformat": 4,
  "vscode": {
   "interpreter": {
    "hash": "17b49a1913d9be682908a9e6ac75a9b3bca45cee2e4d43cdb55ba78702e35dcb"
   }
  }
 },
 "nbformat": 4,
 "nbformat_minor": 2
}
