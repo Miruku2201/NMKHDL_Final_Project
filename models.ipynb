{
 "cells": [
  {
   "attachments": {},
   "cell_type": "markdown",
   "metadata": {},
   "source": [
    "# **PHẦN 2: MÔ HÌNH HOÁ DỮ LIỆU**"
   ]
  },
  {
   "attachments": {},
   "cell_type": "markdown",
   "metadata": {},
   "source": [
    "## **1. Import các packages cần thiết**"
   ]
  },
  {
   "cell_type": "code",
   "execution_count": 2,
   "metadata": {},
   "outputs": [],
   "source": [
    "import pandas as pd\n",
    "import numpy as np\n",
    "import matplotlib.pyplot as plt\n",
    "%matplotlib inline\n",
    "import seaborn as sns\n",
    "import datetime \n",
    "import os\n",
    "from sklearn.preprocessing import LabelEncoder\n",
    "from sklearn.model_selection import train_test_split\n",
    "from sklearn.preprocessing import OneHotEncoder, StandardScaler, MinMaxScaler\n",
    "from sklearn.impute import SimpleImputer, KNNImputer\n",
    "from sklearn.pipeline import Pipeline\n",
    "from sklearn.compose import ColumnTransformer, make_column_transformer\n",
    "from sklearn.preprocessing import FunctionTransformer\n",
    "\n",
    "# from keras.layers import Dense\n",
    "# from keras.models import Sequential\n",
    "# from keras.optimizers import SGD\n",
    "from sklearn.linear_model import LinearRegression\n",
    "from sklearn.neural_network import MLPRegressor\n",
    "from sklearn.ensemble import RandomForestRegressor\n",
    "from sklearn.ensemble import GradientBoostingRegressor\n",
    "from sklearn.compose import TransformedTargetRegressor\n",
    "from sklearn.model_selection import cross_val_score, RepeatedStratifiedKFold, cross_validate\n",
    "from sklearn.metrics import mean_squared_error, mean_absolute_error\n",
    "\n",
    "pd.set_option('display.max_columns', None)\n",
    "import warnings \n",
    "warnings.filterwarnings(\"ignore\")"
   ]
  },
  {
   "attachments": {},
   "cell_type": "markdown",
   "metadata": {},
   "source": [
    "## **2. Đọc dữ liệu từ file csv**"
   ]
  },
  {
   "cell_type": "code",
   "execution_count": 3,
   "metadata": {},
   "outputs": [
    {
     "data": {
      "text/plain": [
       "(48291, 24)"
      ]
     },
     "execution_count": 3,
     "metadata": {},
     "output_type": "execute_result"
    }
   ],
   "source": [
    "df = pd.read_csv('./features/processed.csv')\n",
    "df.shape"
   ]
  },
  {
   "cell_type": "code",
   "execution_count": 4,
   "metadata": {},
   "outputs": [
    {
     "data": {
      "text/html": [
       "<div>\n",
       "<style scoped>\n",
       "    .dataframe tbody tr th:only-of-type {\n",
       "        vertical-align: middle;\n",
       "    }\n",
       "\n",
       "    .dataframe tbody tr th {\n",
       "        vertical-align: top;\n",
       "    }\n",
       "\n",
       "    .dataframe thead th {\n",
       "        text-align: right;\n",
       "    }\n",
       "</style>\n",
       "<table border=\"1\" class=\"dataframe\">\n",
       "  <thead>\n",
       "    <tr style=\"text-align: right;\">\n",
       "      <th></th>\n",
       "      <th>id</th>\n",
       "      <th>sku</th>\n",
       "      <th>name</th>\n",
       "      <th>short_url</th>\n",
       "      <th>book_cover</th>\n",
       "      <th>price</th>\n",
       "      <th>original_price</th>\n",
       "      <th>discount_rate</th>\n",
       "      <th>rating_average</th>\n",
       "      <th>review_count</th>\n",
       "      <th>inventory_type</th>\n",
       "      <th>productset_group_name</th>\n",
       "      <th>day_ago_created</th>\n",
       "      <th>categories</th>\n",
       "      <th>all_time_quantity_sold</th>\n",
       "      <th>authors</th>\n",
       "      <th>publisher_vn</th>\n",
       "      <th>publication_date</th>\n",
       "      <th>dimensions</th>\n",
       "      <th>manufacturer</th>\n",
       "      <th>number_of_page</th>\n",
       "      <th>dich_gia</th>\n",
       "      <th>edition</th>\n",
       "      <th>luu_y</th>\n",
       "    </tr>\n",
       "  </thead>\n",
       "  <tbody>\n",
       "    <tr>\n",
       "      <th>32167</th>\n",
       "      <td>68283266</td>\n",
       "      <td>1697415549980</td>\n",
       "      <td>BỒI DƯỠNG HỌC SINH GIỎI VẬT LÍ 12 ( trọn bộ 3 ...</td>\n",
       "      <td>https://tiki.vn/product-p68283266.html?spid=68...</td>\n",
       "      <td>NaN</td>\n",
       "      <td>112200</td>\n",
       "      <td>187000</td>\n",
       "      <td>40</td>\n",
       "      <td>4.7</td>\n",
       "      <td>92</td>\n",
       "      <td>backorder</td>\n",
       "      <td>Nhà Sách Tiki/Sách tiếng Việt/Sách Tham Khảo/S...</td>\n",
       "      <td>738</td>\n",
       "      <td>Sách tham khảo cấp III</td>\n",
       "      <td>345</td>\n",
       "      <td>Nguyễn Phú Đồng</td>\n",
       "      <td>Khang Việt Book</td>\n",
       "      <td>2020-09-15 16:08:40</td>\n",
       "      <td>NaN</td>\n",
       "      <td>Nhà Xuất Bản Tổng hợp TP.HCM</td>\n",
       "      <td>0</td>\n",
       "      <td>NaN</td>\n",
       "      <td>NaN</td>\n",
       "      <td>NaN</td>\n",
       "    </tr>\n",
       "    <tr>\n",
       "      <th>36186</th>\n",
       "      <td>180967902</td>\n",
       "      <td>4335301308347</td>\n",
       "      <td>Chiêm Tinh Cho Công Sở (Bìa Cứng)</td>\n",
       "      <td>https://tiki.vn/product-p180967902.html?spid=1...</td>\n",
       "      <td>NaN</td>\n",
       "      <td>300000</td>\n",
       "      <td>300000</td>\n",
       "      <td>0</td>\n",
       "      <td>0.0</td>\n",
       "      <td>0</td>\n",
       "      <td>backorder</td>\n",
       "      <td>Nhà Sách Tiki/Sách tiếng Việt/Sách Kiến Thức T...</td>\n",
       "      <td>201</td>\n",
       "      <td>Sách Chiêm Tinh - Horoscope</td>\n",
       "      <td>0</td>\n",
       "      <td>NaN</td>\n",
       "      <td>Saigonbook</td>\n",
       "      <td>NaN</td>\n",
       "      <td>NaN</td>\n",
       "      <td>Nhà Xuất Bản Đại Học Quốc Gia Hà Nội</td>\n",
       "      <td>0</td>\n",
       "      <td>NaN</td>\n",
       "      <td>NaN</td>\n",
       "      <td>NaN</td>\n",
       "    </tr>\n",
       "    <tr>\n",
       "      <th>3914</th>\n",
       "      <td>202849076</td>\n",
       "      <td>8622881048627</td>\n",
       "      <td>Chiến Lược Chăn Voi _BV</td>\n",
       "      <td>https://tiki.vn/product-p202849076.html?spid=2...</td>\n",
       "      <td>Bìa mềm</td>\n",
       "      <td>111360</td>\n",
       "      <td>128000</td>\n",
       "      <td>13</td>\n",
       "      <td>0.0</td>\n",
       "      <td>0</td>\n",
       "      <td>backorder</td>\n",
       "      <td>Nhà Sách Tiki/Sách tiếng Việt/Sách văn học/Tiể...</td>\n",
       "      <td>37</td>\n",
       "      <td>Tiểu sử - Hồi ký</td>\n",
       "      <td>0</td>\n",
       "      <td>Robert Steven Kaplan</td>\n",
       "      <td>Bách Việt</td>\n",
       "      <td>NaN</td>\n",
       "      <td>NaN</td>\n",
       "      <td>Nhà Xuất Bản Thanh Hóa</td>\n",
       "      <td>349</td>\n",
       "      <td>NaN</td>\n",
       "      <td>NaN</td>\n",
       "      <td>NaN</td>\n",
       "    </tr>\n",
       "    <tr>\n",
       "      <th>31275</th>\n",
       "      <td>179368213</td>\n",
       "      <td>7377735410047</td>\n",
       "      <td>Sách - Rèn Kĩ Năng Giải Toán Lớp 6 - Tập 2</td>\n",
       "      <td>https://tiki.vn/product-p179368213.html?spid=1...</td>\n",
       "      <td>Bìa mềm</td>\n",
       "      <td>68000</td>\n",
       "      <td>85000</td>\n",
       "      <td>20</td>\n",
       "      <td>5.0</td>\n",
       "      <td>2</td>\n",
       "      <td>instock</td>\n",
       "      <td>Nhà Sách Tiki/Sách tiếng Việt/Sách Tham Khảo/S...</td>\n",
       "      <td>207</td>\n",
       "      <td>Sách tham khảo cấp II</td>\n",
       "      <td>11</td>\n",
       "      <td>nhieu tac gia</td>\n",
       "      <td>Minh Long</td>\n",
       "      <td>2022-04-01 08:51:02</td>\n",
       "      <td>NaN</td>\n",
       "      <td>Nhà Xuất Bản Đại Học Quốc Gia Hà Nội</td>\n",
       "      <td>200</td>\n",
       "      <td>NaN</td>\n",
       "      <td>NaN</td>\n",
       "      <td>NaN</td>\n",
       "    </tr>\n",
       "    <tr>\n",
       "      <th>26398</th>\n",
       "      <td>175533224</td>\n",
       "      <td>1898949070403</td>\n",
       "      <td>100 Bí Quyết Nuôi Dạy Con Trai Thành Công</td>\n",
       "      <td>https://tiki.vn/product-p175533224.html?spid=1...</td>\n",
       "      <td>Bìa mềm</td>\n",
       "      <td>89250</td>\n",
       "      <td>105000</td>\n",
       "      <td>15</td>\n",
       "      <td>0.0</td>\n",
       "      <td>0</td>\n",
       "      <td>backorder</td>\n",
       "      <td>Nhà Sách Tiki/Sách tiếng Việt/Sách Bà mẹ - Em ...</td>\n",
       "      <td>220</td>\n",
       "      <td>Sách Làm Cha Mẹ</td>\n",
       "      <td>0</td>\n",
       "      <td>NaN</td>\n",
       "      <td>Nhà xuất bản Phụ Nữ</td>\n",
       "      <td>NaN</td>\n",
       "      <td>NaN</td>\n",
       "      <td>Nhà Xuất Bản Phụ Nữ</td>\n",
       "      <td>296</td>\n",
       "      <td>NaN</td>\n",
       "      <td>NaN</td>\n",
       "      <td>NaN</td>\n",
       "    </tr>\n",
       "  </tbody>\n",
       "</table>\n",
       "</div>"
      ],
      "text/plain": [
       "              id            sku  \\\n",
       "32167   68283266  1697415549980   \n",
       "36186  180967902  4335301308347   \n",
       "3914   202849076  8622881048627   \n",
       "31275  179368213  7377735410047   \n",
       "26398  175533224  1898949070403   \n",
       "\n",
       "                                                    name  \\\n",
       "32167  BỒI DƯỠNG HỌC SINH GIỎI VẬT LÍ 12 ( trọn bộ 3 ...   \n",
       "36186                  Chiêm Tinh Cho Công Sở (Bìa Cứng)   \n",
       "3914                             Chiến Lược Chăn Voi _BV   \n",
       "31275         Sách - Rèn Kĩ Năng Giải Toán Lớp 6 - Tập 2   \n",
       "26398          100 Bí Quyết Nuôi Dạy Con Trai Thành Công   \n",
       "\n",
       "                                               short_url book_cover   price  \\\n",
       "32167  https://tiki.vn/product-p68283266.html?spid=68...        NaN  112200   \n",
       "36186  https://tiki.vn/product-p180967902.html?spid=1...        NaN  300000   \n",
       "3914   https://tiki.vn/product-p202849076.html?spid=2...    Bìa mềm  111360   \n",
       "31275  https://tiki.vn/product-p179368213.html?spid=1...    Bìa mềm   68000   \n",
       "26398  https://tiki.vn/product-p175533224.html?spid=1...    Bìa mềm   89250   \n",
       "\n",
       "       original_price  discount_rate  rating_average  review_count  \\\n",
       "32167          187000             40             4.7            92   \n",
       "36186          300000              0             0.0             0   \n",
       "3914           128000             13             0.0             0   \n",
       "31275           85000             20             5.0             2   \n",
       "26398          105000             15             0.0             0   \n",
       "\n",
       "      inventory_type                              productset_group_name  \\\n",
       "32167      backorder  Nhà Sách Tiki/Sách tiếng Việt/Sách Tham Khảo/S...   \n",
       "36186      backorder  Nhà Sách Tiki/Sách tiếng Việt/Sách Kiến Thức T...   \n",
       "3914       backorder  Nhà Sách Tiki/Sách tiếng Việt/Sách văn học/Tiể...   \n",
       "31275        instock  Nhà Sách Tiki/Sách tiếng Việt/Sách Tham Khảo/S...   \n",
       "26398      backorder  Nhà Sách Tiki/Sách tiếng Việt/Sách Bà mẹ - Em ...   \n",
       "\n",
       "       day_ago_created                   categories  all_time_quantity_sold  \\\n",
       "32167              738       Sách tham khảo cấp III                     345   \n",
       "36186              201  Sách Chiêm Tinh - Horoscope                       0   \n",
       "3914                37             Tiểu sử - Hồi ký                       0   \n",
       "31275              207        Sách tham khảo cấp II                      11   \n",
       "26398              220              Sách Làm Cha Mẹ                       0   \n",
       "\n",
       "                    authors         publisher_vn     publication_date  \\\n",
       "32167       Nguyễn Phú Đồng      Khang Việt Book  2020-09-15 16:08:40   \n",
       "36186                   NaN           Saigonbook                  NaN   \n",
       "3914   Robert Steven Kaplan            Bách Việt                  NaN   \n",
       "31275         nhieu tac gia            Minh Long  2022-04-01 08:51:02   \n",
       "26398                   NaN  Nhà xuất bản Phụ Nữ                  NaN   \n",
       "\n",
       "      dimensions                          manufacturer  number_of_page  \\\n",
       "32167        NaN          Nhà Xuất Bản Tổng hợp TP.HCM               0   \n",
       "36186        NaN  Nhà Xuất Bản Đại Học Quốc Gia Hà Nội               0   \n",
       "3914         NaN                Nhà Xuất Bản Thanh Hóa             349   \n",
       "31275        NaN  Nhà Xuất Bản Đại Học Quốc Gia Hà Nội             200   \n",
       "26398        NaN                   Nhà Xuất Bản Phụ Nữ             296   \n",
       "\n",
       "      dich_gia edition luu_y  \n",
       "32167      NaN     NaN   NaN  \n",
       "36186      NaN     NaN   NaN  \n",
       "3914       NaN     NaN   NaN  \n",
       "31275      NaN     NaN   NaN  \n",
       "26398      NaN     NaN   NaN  "
      ]
     },
     "execution_count": 4,
     "metadata": {},
     "output_type": "execute_result"
    }
   ],
   "source": [
    "df.sample(5)"
   ]
  },
  {
   "attachments": {},
   "cell_type": "markdown",
   "metadata": {},
   "source": [
    "## **3. Xác định câu hỏi cần trả lời:**\n",
    "**Bài toán dự đoán `discount_rate` dựa trên các đặc trưng của sản phẩm.**\n",
    "- Đây là một bài toán hồi quy.\n",
    "- Input là các đặc trưng ảnh hưởng đến tỉ lệ giảm giá của một mặt hàng sách.\n",
    "- Output là tỉ lệ giảm giá của sách. "
   ]
  },
  {
   "attachments": {},
   "cell_type": "markdown",
   "metadata": {},
   "source": [
    "**Trả lời được câu hỏi này sẽ giúp cho cả khách hàng và nhà bán có những lợi ích sau:**\n",
    "- Nhà bán quyết định mức sale phù hợp với thị trường, từ đó bán được nhiều sản phẩm hơn.\n",
    "- Người mua chọn được sản phẩm giá rẻ, có mức sale cao, dựa vào việc xem xét qua các đặc trưng khác."
   ]
  },
  {
   "attachments": {},
   "cell_type": "markdown",
   "metadata": {},
   "source": [
    "## **4. Phân tích, xử lý và chuẩn bị dữ liệu cho bước mô hình hoá**"
   ]
  },
  {
   "attachments": {},
   "cell_type": "markdown",
   "metadata": {},
   "source": [
    "Các cột có kiểu dữ liệu là numeric "
   ]
  },
  {
   "cell_type": "code",
   "execution_count": 5,
   "metadata": {},
   "outputs": [
    {
     "data": {
      "text/plain": [
       "Index(['id', 'sku', 'price', 'original_price', 'discount_rate',\n",
       "       'rating_average', 'review_count', 'day_ago_created',\n",
       "       'all_time_quantity_sold', 'number_of_page'],\n",
       "      dtype='object')"
      ]
     },
     "execution_count": 5,
     "metadata": {},
     "output_type": "execute_result"
    }
   ],
   "source": [
    "numeric_cols = df.select_dtypes(include=np.number).columns\n",
    "numeric_cols"
   ]
  },
  {
   "cell_type": "code",
   "execution_count": 6,
   "metadata": {},
   "outputs": [
    {
     "data": {
      "text/html": [
       "<div>\n",
       "<style scoped>\n",
       "    .dataframe tbody tr th:only-of-type {\n",
       "        vertical-align: middle;\n",
       "    }\n",
       "\n",
       "    .dataframe tbody tr th {\n",
       "        vertical-align: top;\n",
       "    }\n",
       "\n",
       "    .dataframe thead th {\n",
       "        text-align: right;\n",
       "    }\n",
       "</style>\n",
       "<table border=\"1\" class=\"dataframe\">\n",
       "  <thead>\n",
       "    <tr style=\"text-align: right;\">\n",
       "      <th></th>\n",
       "      <th>id</th>\n",
       "      <th>sku</th>\n",
       "      <th>price</th>\n",
       "      <th>original_price</th>\n",
       "      <th>discount_rate</th>\n",
       "      <th>rating_average</th>\n",
       "      <th>review_count</th>\n",
       "      <th>day_ago_created</th>\n",
       "      <th>all_time_quantity_sold</th>\n",
       "      <th>number_of_page</th>\n",
       "    </tr>\n",
       "  </thead>\n",
       "  <tbody>\n",
       "    <tr>\n",
       "      <th>missing_ratio</th>\n",
       "      <td>0.0</td>\n",
       "      <td>0.000000e+00</td>\n",
       "      <td>0.0</td>\n",
       "      <td>0.0</td>\n",
       "      <td>0.0</td>\n",
       "      <td>0.0</td>\n",
       "      <td>0.0</td>\n",
       "      <td>0.0</td>\n",
       "      <td>0.0</td>\n",
       "      <td>0.000000e+00</td>\n",
       "    </tr>\n",
       "    <tr>\n",
       "      <th>min</th>\n",
       "      <td>148562.0</td>\n",
       "      <td>1.000110e+12</td>\n",
       "      <td>0.0</td>\n",
       "      <td>0.0</td>\n",
       "      <td>0.0</td>\n",
       "      <td>0.0</td>\n",
       "      <td>0.0</td>\n",
       "      <td>0.0</td>\n",
       "      <td>0.0</td>\n",
       "      <td>0.000000e+00</td>\n",
       "    </tr>\n",
       "    <tr>\n",
       "      <th>max</th>\n",
       "      <td>207990688.0</td>\n",
       "      <td>9.999995e+12</td>\n",
       "      <td>6000000.0</td>\n",
       "      <td>6950000.0</td>\n",
       "      <td>91.0</td>\n",
       "      <td>5.0</td>\n",
       "      <td>6306.0</td>\n",
       "      <td>2689.0</td>\n",
       "      <td>32323.0</td>\n",
       "      <td>9.786049e+12</td>\n",
       "    </tr>\n",
       "  </tbody>\n",
       "</table>\n",
       "</div>"
      ],
      "text/plain": [
       "                        id           sku      price  original_price  \\\n",
       "missing_ratio          0.0  0.000000e+00        0.0             0.0   \n",
       "min               148562.0  1.000110e+12        0.0             0.0   \n",
       "max            207990688.0  9.999995e+12  6000000.0       6950000.0   \n",
       "\n",
       "               discount_rate  rating_average  review_count  day_ago_created  \\\n",
       "missing_ratio            0.0             0.0           0.0              0.0   \n",
       "min                      0.0             0.0           0.0              0.0   \n",
       "max                     91.0             5.0        6306.0           2689.0   \n",
       "\n",
       "               all_time_quantity_sold  number_of_page  \n",
       "missing_ratio                     0.0    0.000000e+00  \n",
       "min                               0.0    0.000000e+00  \n",
       "max                           32323.0    9.786049e+12  "
      ]
     },
     "execution_count": 6,
     "metadata": {},
     "output_type": "execute_result"
    }
   ],
   "source": [
    "numeric_profiles = {'missing_ratio': df[numeric_cols].isna().sum() * 100.0/len(df[numeric_cols]),\n",
    "                        'min': df[numeric_cols].min(),\n",
    "                        'max': df[numeric_cols].max()}\n",
    "nume_col_profiles_df = pd.DataFrame(numeric_profiles).transpose()\n",
    "nume_col_profiles_df"
   ]
  },
  {
   "cell_type": "code",
   "execution_count": 7,
   "metadata": {},
   "outputs": [
    {
     "data": {
      "image/png": "[encoded data removed]",
      "text/plain": [
       "<Figure size 1200x800 with 2 Axes>"
      ]
     },
     "metadata": {},
     "output_type": "display_data"
    }
   ],
   "source": [
    "plt.figure(figsize=(12,8))\n",
    "sns.heatmap(df[set(numeric_cols) - {'id', 'sku'}].corr(), annot=True, fmt='.2f')\n",
    "plt.xticks(rotation=30)\n",
    "plt.title('Tương quan giữa các đặc trưng')\n",
    "plt.show()"
   ]
  },
  {
   "cell_type": "code",
   "execution_count": 8,
   "metadata": {},
   "outputs": [
    {
     "data": {
      "text/html": [
       "<div>\n",
       "<style scoped>\n",
       "    .dataframe tbody tr th:only-of-type {\n",
       "        vertical-align: middle;\n",
       "    }\n",
       "\n",
       "    .dataframe tbody tr th {\n",
       "        vertical-align: top;\n",
       "    }\n",
       "\n",
       "    .dataframe thead th {\n",
       "        text-align: right;\n",
       "    }\n",
       "</style>\n",
       "<table border=\"1\" class=\"dataframe\">\n",
       "  <thead>\n",
       "    <tr style=\"text-align: right;\">\n",
       "      <th></th>\n",
       "      <th>authors</th>\n",
       "      <th>book_cover</th>\n",
       "      <th>categories</th>\n",
       "      <th>dich_gia</th>\n",
       "      <th>dimensions</th>\n",
       "      <th>edition</th>\n",
       "      <th>inventory_type</th>\n",
       "      <th>luu_y</th>\n",
       "      <th>manufacturer</th>\n",
       "      <th>name</th>\n",
       "      <th>productset_group_name</th>\n",
       "      <th>publication_date</th>\n",
       "      <th>publisher_vn</th>\n",
       "      <th>short_url</th>\n",
       "    </tr>\n",
       "  </thead>\n",
       "  <tbody>\n",
       "    <tr>\n",
       "      <th>missing_ratio</th>\n",
       "      <td>48.804125</td>\n",
       "      <td>35.358555</td>\n",
       "      <td>0.0</td>\n",
       "      <td>85.686774</td>\n",
       "      <td>82.744197</td>\n",
       "      <td>96.931105</td>\n",
       "      <td>0.0</td>\n",
       "      <td>99.995858</td>\n",
       "      <td>0.550827</td>\n",
       "      <td>0.0</td>\n",
       "      <td>0.0</td>\n",
       "      <td>61.158394</td>\n",
       "      <td>0.035203</td>\n",
       "      <td>0.0</td>\n",
       "    </tr>\n",
       "    <tr>\n",
       "      <th>num_diff_vals</th>\n",
       "      <td>9094</td>\n",
       "      <td>17</td>\n",
       "      <td>100</td>\n",
       "      <td>3110</td>\n",
       "      <td>1051</td>\n",
       "      <td>364</td>\n",
       "      <td>3</td>\n",
       "      <td>1</td>\n",
       "      <td>168</td>\n",
       "      <td>44424</td>\n",
       "      <td>101</td>\n",
       "      <td>10896</td>\n",
       "      <td>852</td>\n",
       "      <td>48288</td>\n",
       "    </tr>\n",
       "    <tr>\n",
       "      <th>diff_vals</th>\n",
       "      <td>[Trần Đặng Đăng Khoa, Trần Hồng Ngọc, Lê Quang...</td>\n",
       "      <td>[Bìa mềm, Bìa Da, Bìa cứng, Bìa gập, Bìa rời, ...</td>\n",
       "      <td>[Du ký, Light novel, Phê Bình - Lý Luận Văn Họ...</td>\n",
       "      <td>[Khánh Vân, Phan Quang, Nguyễn Thị Bạch Tuyết,...</td>\n",
       "      <td>[13 x 20, 14,5 x 20,5 cm, 13.5 x 20.5 cm, 15 x...</td>\n",
       "      <td>[bìa mềm, BÌA MỀM, Tiếng Việt, Tặng kèm bookma...</td>\n",
       "      <td>[instock, backorder, preorder]</td>\n",
       "      <td>[Sách không còn kèm CD mà thay bằng ứng dụng t...</td>\n",
       "      <td>[NXB Trẻ, Nhà Xuất Bản Lao Động, Nhà Xuất Bản ...</td>\n",
       "      <td>[1111 - Nhật Ký Sáu Vạn Dặm Trên Yên Xe Cà Tàn...</td>\n",
       "      <td>[Nhà Sách Tiki/Sách tiếng Việt/Sách văn học/Du...</td>\n",
       "      <td>[2022-11-10 00:00:00, 2022-11-11 17:44:46, 202...</td>\n",
       "      <td>[NXB Trẻ, Chibooks, Văn Lang, Edibooks, NXB Ph...</td>\n",
       "      <td>[https://tiki.vn/product-p204317934.html?spid=...</td>\n",
       "    </tr>\n",
       "  </tbody>\n",
       "</table>\n",
       "</div>"
      ],
      "text/plain": [
       "                                                         authors  \\\n",
       "missing_ratio                                          48.804125   \n",
       "num_diff_vals                                               9094   \n",
       "diff_vals      [Trần Đặng Đăng Khoa, Trần Hồng Ngọc, Lê Quang...   \n",
       "\n",
       "                                                      book_cover  \\\n",
       "missing_ratio                                          35.358555   \n",
       "num_diff_vals                                                 17   \n",
       "diff_vals      [Bìa mềm, Bìa Da, Bìa cứng, Bìa gập, Bìa rời, ...   \n",
       "\n",
       "                                                      categories  \\\n",
       "missing_ratio                                                0.0   \n",
       "num_diff_vals                                                100   \n",
       "diff_vals      [Du ký, Light novel, Phê Bình - Lý Luận Văn Họ...   \n",
       "\n",
       "                                                        dich_gia  \\\n",
       "missing_ratio                                          85.686774   \n",
       "num_diff_vals                                               3110   \n",
       "diff_vals      [Khánh Vân, Phan Quang, Nguyễn Thị Bạch Tuyết,...   \n",
       "\n",
       "                                                      dimensions  \\\n",
       "missing_ratio                                          82.744197   \n",
       "num_diff_vals                                               1051   \n",
       "diff_vals      [13 x 20, 14,5 x 20,5 cm, 13.5 x 20.5 cm, 15 x...   \n",
       "\n",
       "                                                         edition  \\\n",
       "missing_ratio                                          96.931105   \n",
       "num_diff_vals                                                364   \n",
       "diff_vals      [bìa mềm, BÌA MỀM, Tiếng Việt, Tặng kèm bookma...   \n",
       "\n",
       "                               inventory_type  \\\n",
       "missing_ratio                             0.0   \n",
       "num_diff_vals                               3   \n",
       "diff_vals      [instock, backorder, preorder]   \n",
       "\n",
       "                                                           luu_y  \\\n",
       "missing_ratio                                          99.995858   \n",
       "num_diff_vals                                                  1   \n",
       "diff_vals      [Sách không còn kèm CD mà thay bằng ứng dụng t...   \n",
       "\n",
       "                                                    manufacturer  \\\n",
       "missing_ratio                                           0.550827   \n",
       "num_diff_vals                                                168   \n",
       "diff_vals      [NXB Trẻ, Nhà Xuất Bản Lao Động, Nhà Xuất Bản ...   \n",
       "\n",
       "                                                            name  \\\n",
       "missing_ratio                                                0.0   \n",
       "num_diff_vals                                              44424   \n",
       "diff_vals      [1111 - Nhật Ký Sáu Vạn Dặm Trên Yên Xe Cà Tàn...   \n",
       "\n",
       "                                           productset_group_name  \\\n",
       "missing_ratio                                                0.0   \n",
       "num_diff_vals                                                101   \n",
       "diff_vals      [Nhà Sách Tiki/Sách tiếng Việt/Sách văn học/Du...   \n",
       "\n",
       "                                                publication_date  \\\n",
       "missing_ratio                                          61.158394   \n",
       "num_diff_vals                                              10896   \n",
       "diff_vals      [2022-11-10 00:00:00, 2022-11-11 17:44:46, 202...   \n",
       "\n",
       "                                                    publisher_vn  \\\n",
       "missing_ratio                                           0.035203   \n",
       "num_diff_vals                                                852   \n",
       "diff_vals      [NXB Trẻ, Chibooks, Văn Lang, Edibooks, NXB Ph...   \n",
       "\n",
       "                                                       short_url  \n",
       "missing_ratio                                                0.0  \n",
       "num_diff_vals                                              48288  \n",
       "diff_vals      [https://tiki.vn/product-p204317934.html?spid=...  "
      ]
     },
     "execution_count": 8,
     "metadata": {},
     "output_type": "execute_result"
    }
   ],
   "source": [
    "cate_cols = set(df.columns) - set(numeric_cols)\n",
    "cate_profiles = {'missing_ratio': df[cate_cols].isna().sum() * 100.0/len(df[cate_cols]),\n",
    "               #   'zero_values_ratio':  df[cate_cols].eq(0).sum(axis=1) * 100.0/len(df[cate_cols]),\n",
    "                      'num_diff_vals': df[cate_cols].nunique(dropna=True),\n",
    "                      'diff_vals': df[cate_cols].stack(dropna=True).groupby(level=[1]).unique(),\n",
    "                      }\n",
    "cate_col_profiles_df = pd.DataFrame(cate_profiles).transpose()\n",
    "cate_col_profiles_df"
   ]
  },
  {
   "cell_type": "code",
   "execution_count": 9,
   "metadata": {},
   "outputs": [
    {
     "data": {
      "text/plain": [
       "array(['Du ký', 'Light novel', 'Phê Bình - Lý Luận Văn Học',\n",
       "       'Phóng sự - Ký sự - Bút ký', 'Tác phẩm kinh điển', 'Thơ',\n",
       "       'Tiểu sử - Hồi ký', 'Tiểu Thuyết',\n",
       "       'Truyện Giả tưởng - Huyền Bí - Phiêu Lưu', 'Tranh Truyện',\n",
       "       'Truyện cổ tích - Ngụ ngôn', 'Truyện cười', 'Truyện dài',\n",
       "       'Bài học kinh doanh', 'Truyện đam mỹ', 'Truyện kiếm hiệp',\n",
       "       'Truyện kinh dị', 'Truyện ngắn - Tản văn - Tạp Văn',\n",
       "       'Truyện ngôn tình', 'Truyện trinh thám', 'Ca dao - Tục ngữ',\n",
       "       'Sách ảnh', 'Sách doanh nhân', 'Sách khởi nghiệp',\n",
       "       'Sách kinh tế học', 'Sách kỹ năng làm việc',\n",
       "       'Sách Marketing - Bán hàng ', 'Sách quản trị, lãnh đạo',\n",
       "       'Sách quản trị nhân lực', 'Sách tài chính, kế toán',\n",
       "       'Sách tài chính, tiền tệ', 'Đạo đức - Kỹ năng sống',\n",
       "       'Kiến thức - Bách khoa', 'Tô màu - Luyện chữ  ', 'Truyện cổ tích',\n",
       "       'Truyện kể cho bé', 'Truyện tranh Ehon', 'Truyện tranh thiếu nhi',\n",
       "       'Văn học thiếu nhi', 'Sách tư duy - Kỹ năng sống',\n",
       "       'Sách nghệ thuật sống đẹp', 'Sách hướng nghiệp - Kỹ năng mềm',\n",
       "       'Sách Thai Giáo', 'Sách Kiến Thức - Kỹ Năng Cho Trẻ',\n",
       "       'Sách Làm Cha Mẹ', 'Sách Dinh Dưỡng - Sức Khỏe Cho Bé',\n",
       "       'Sách Giáo Khoa Cấp 1', 'Sách Giáo Khoa Cấp 2',\n",
       "       'Sách Giáo Khoa Cấp 3', 'Giáo Trình Đại Học - Cao Đẳng',\n",
       "       'Sách Học Tiếng Anh', 'Sách Học Tiếng Nhật', 'Sách Học Tiếng Hàn',\n",
       "       'Sách tham khảo cấp I', 'Sách Học Tiếng Hoa', 'Ngoại Ngữ Khác',\n",
       "       'Sách tham khảo cấp II', 'Sách tham khảo cấp III',\n",
       "       'Sách Luyện Thi Đại Học - Cao Đẳng', 'Thẻ luyện thi',\n",
       "       'Sách chuyên đề', 'Từ Điển Tiếng Anh', 'Từ Điển Tiếng Trung',\n",
       "       'Từ Điển Tiếng Hàn', 'Từ Điển Tiếng Nhật', 'Từ Điển Tiếng Pháp',\n",
       "       'Từ Điển Tiếng Việt', 'Từ Điển Ngôn Ngữ Khác',\n",
       "       'Kiến Thức Bách Khoa', 'Lĩnh vực khác',\n",
       "       'Sách Chiêm Tinh - Horoscope', 'Sách giáo dục',\n",
       "       'Truyện Tranh, Manga, Comic', 'Sách Phong Thủy - Kinh Dịch',\n",
       "       'Triết Học', 'Sách Khoa Học - Kỹ Thuật', 'Lịch Sử Việt Nam',\n",
       "       'Lịch Sử Thế Giới', 'Âm Nhạc - Điện Ảnh', 'Mỹ Thuật - Kiến Trúc',\n",
       "       'Sách Tô Màu Dành Cho Người Lớn', 'Sách Tôn Giáo - Tâm Linh',\n",
       "       'Sách Danh Nhân', 'Sách Địa Danh - Du Lịch',\n",
       "       'Sách Phong Tục - Tập Quán', 'Luật - Văn Bản Luật',\n",
       "       'Lý Luận Chính Trị', 'Sách Nông - Lâm - Ngư Nghiệp',\n",
       "       'Tin Học Văn Phòng', 'Lập Trình', 'Thiết Kế - Đồ Họa',\n",
       "       'Sách Y Học', 'Tạp Chí - Catalogue', 'Sách Tâm Lý Tuổi Teen',\n",
       "       'Sách Hôn Nhân - Giới Tính', 'Chăm sóc sức khỏe',\n",
       "       'May - Thêu - Thời Trang', 'Sách Làm Đẹp', 'Sách Nấu ăn',\n",
       "       'Thể Dục - Thể Thao'], dtype=object)"
      ]
     },
     "execution_count": 9,
     "metadata": {},
     "output_type": "execute_result"
    }
   ],
   "source": [
    "cate_col_profiles_df.loc['diff_vals', 'categories']"
   ]
  },
  {
   "attachments": {},
   "cell_type": "markdown",
   "metadata": {},
   "source": [
    "Chọn ra các features phù hợp/ có ảnh hưởng đến yêu cầu bài toán làm đầu vào cho mô hình "
   ]
  },
  {
   "cell_type": "code",
   "execution_count": 10,
   "metadata": {},
   "outputs": [],
   "source": [
    "cols = ['original_price', 'discount_rate',\n",
    "       'rating_average', 'review_count', 'day_ago_created',\n",
    "       'all_time_quantity_sold', 'number_of_page']\n",
    "# Thêm một vài cột categories có ý nghĩa đối với output\n",
    "cate = ['book_cover', 'categories', 'inventory_type', 'manufacturer', 'publication_date']\n",
    "cols.extend(cate)"
   ]
  },
  {
   "attachments": {},
   "cell_type": "markdown",
   "metadata": {},
   "source": [
    "Xem qua kiểu dữ liệu của các cột"
   ]
  },
  {
   "cell_type": "code",
   "execution_count": 11,
   "metadata": {},
   "outputs": [
    {
     "data": {
      "text/plain": [
       "original_price              int64\n",
       "discount_rate               int64\n",
       "rating_average            float64\n",
       "review_count                int64\n",
       "day_ago_created             int64\n",
       "all_time_quantity_sold      int64\n",
       "number_of_page              int64\n",
       "book_cover                 object\n",
       "categories                 object\n",
       "inventory_type             object\n",
       "manufacturer               object\n",
       "publication_date           object\n",
       "dtype: object"
      ]
     },
     "execution_count": 11,
     "metadata": {},
     "output_type": "execute_result"
    }
   ],
   "source": [
    "df[cols].dtypes"
   ]
  },
  {
   "cell_type": "code",
   "execution_count": 12,
   "metadata": {},
   "outputs": [
    {
     "data": {
      "text/html": [
       "<div>\n",
       "<style scoped>\n",
       "    .dataframe tbody tr th:only-of-type {\n",
       "        vertical-align: middle;\n",
       "    }\n",
       "\n",
       "    .dataframe tbody tr th {\n",
       "        vertical-align: top;\n",
       "    }\n",
       "\n",
       "    .dataframe thead th {\n",
       "        text-align: right;\n",
       "    }\n",
       "</style>\n",
       "<table border=\"1\" class=\"dataframe\">\n",
       "  <thead>\n",
       "    <tr style=\"text-align: right;\">\n",
       "      <th></th>\n",
       "      <th>categories</th>\n",
       "      <th>inventory_type</th>\n",
       "      <th>manufacturer</th>\n",
       "    </tr>\n",
       "  </thead>\n",
       "  <tbody>\n",
       "    <tr>\n",
       "      <th>0</th>\n",
       "      <td>Du ký</td>\n",
       "      <td>instock</td>\n",
       "      <td>NXB Trẻ</td>\n",
       "    </tr>\n",
       "    <tr>\n",
       "      <th>1</th>\n",
       "      <td>Du ký</td>\n",
       "      <td>backorder</td>\n",
       "      <td>NXB Trẻ</td>\n",
       "    </tr>\n",
       "    <tr>\n",
       "      <th>2</th>\n",
       "      <td>Du ký</td>\n",
       "      <td>instock</td>\n",
       "      <td>Nhà Xuất Bản Lao Động</td>\n",
       "    </tr>\n",
       "    <tr>\n",
       "      <th>3</th>\n",
       "      <td>Du ký</td>\n",
       "      <td>backorder</td>\n",
       "      <td>Nhà Xuất Bản Hồng Đức</td>\n",
       "    </tr>\n",
       "    <tr>\n",
       "      <th>4</th>\n",
       "      <td>Du ký</td>\n",
       "      <td>backorder</td>\n",
       "      <td>NXB Trẻ</td>\n",
       "    </tr>\n",
       "    <tr>\n",
       "      <th>...</th>\n",
       "      <td>...</td>\n",
       "      <td>...</td>\n",
       "      <td>...</td>\n",
       "    </tr>\n",
       "    <tr>\n",
       "      <th>48286</th>\n",
       "      <td>Thể Dục - Thể Thao</td>\n",
       "      <td>backorder</td>\n",
       "      <td>Nhà Xuất Bản Hà Nội</td>\n",
       "    </tr>\n",
       "    <tr>\n",
       "      <th>48287</th>\n",
       "      <td>Thể Dục - Thể Thao</td>\n",
       "      <td>backorder</td>\n",
       "      <td>NXB Trẻ</td>\n",
       "    </tr>\n",
       "    <tr>\n",
       "      <th>48288</th>\n",
       "      <td>Thể Dục - Thể Thao</td>\n",
       "      <td>backorder</td>\n",
       "      <td>Nhà Xuất Bản Đại Học Quốc Gia Hà Nội</td>\n",
       "    </tr>\n",
       "    <tr>\n",
       "      <th>48289</th>\n",
       "      <td>Thể Dục - Thể Thao</td>\n",
       "      <td>backorder</td>\n",
       "      <td>Nhà Xuất Bản Thể Thao Và Du Lịch</td>\n",
       "    </tr>\n",
       "    <tr>\n",
       "      <th>48290</th>\n",
       "      <td>Thể Dục - Thể Thao</td>\n",
       "      <td>backorder</td>\n",
       "      <td>nxb thanh nien</td>\n",
       "    </tr>\n",
       "  </tbody>\n",
       "</table>\n",
       "<p>48291 rows × 3 columns</p>\n",
       "</div>"
      ],
      "text/plain": [
       "               categories inventory_type                          manufacturer\n",
       "0                   Du ký        instock                               NXB Trẻ\n",
       "1                   Du ký      backorder                               NXB Trẻ\n",
       "2                   Du ký        instock                 Nhà Xuất Bản Lao Động\n",
       "3                   Du ký      backorder                 Nhà Xuất Bản Hồng Đức\n",
       "4                   Du ký      backorder                               NXB Trẻ\n",
       "...                   ...            ...                                   ...\n",
       "48286  Thể Dục - Thể Thao      backorder                   Nhà Xuất Bản Hà Nội\n",
       "48287  Thể Dục - Thể Thao      backorder                               NXB Trẻ\n",
       "48288  Thể Dục - Thể Thao      backorder  Nhà Xuất Bản Đại Học Quốc Gia Hà Nội\n",
       "48289  Thể Dục - Thể Thao      backorder      Nhà Xuất Bản Thể Thao Và Du Lịch\n",
       "48290  Thể Dục - Thể Thao      backorder                        nxb thanh nien\n",
       "\n",
       "[48291 rows x 3 columns]"
      ]
     },
     "execution_count": 12,
     "metadata": {},
     "output_type": "execute_result"
    }
   ],
   "source": [
    "df[['categories', 'inventory_type', 'manufacturer']] = df[['categories', 'inventory_type', 'manufacturer']].astype(str)\n",
    "df[['categories', 'inventory_type', 'manufacturer']]"
   ]
  },
  {
   "attachments": {},
   "cell_type": "markdown",
   "metadata": {},
   "source": [
    "Cột `publication_date` đang có kiểu dữ liệu là object, ta cũng cần chuyển về datetime cho phù hợp"
   ]
  },
  {
   "cell_type": "code",
   "execution_count": 13,
   "metadata": {},
   "outputs": [],
   "source": [
    "df['publication_date'] = pd.to_datetime(df.publication_date, format = \"%Y-%m-%d %H:%M:%S\", errors = \"coerce\")"
   ]
  },
  {
   "attachments": {},
   "cell_type": "markdown",
   "metadata": {},
   "source": [
    "Có lẽ ta không cần cột này trong đầu vào của mô hình vì cột `day_ago_created` đã có ý nghĩa tương tự"
   ]
  },
  {
   "cell_type": "code",
   "execution_count": 14,
   "metadata": {},
   "outputs": [],
   "source": [
    "cols.remove('publication_date')"
   ]
  },
  {
   "attachments": {},
   "cell_type": "markdown",
   "metadata": {},
   "source": [
    "**Xem một vài phân bố của các đặc trưng, từ đó giúp ta quan sát outliers, độ tập trung của dữ liệu**"
   ]
  },
  {
   "cell_type": "code",
   "execution_count": 15,
   "metadata": {},
   "outputs": [
    {
     "data": {
      "image/png": "[encoded data removed]",
      "text/plain": [
       "<Figure size 1000x1000 with 8 Axes>"
      ]
     },
     "metadata": {},
     "output_type": "display_data"
    }
   ],
   "source": [
    "# df_cont = df.select_dtypes([int,float]) \n",
    "numeric_df = df[set(numeric_cols) - {'id', 'sku'}]\n",
    "\n",
    "fig = plt.figure(figsize=(10, 10))\n",
    "fig.suptitle('Phân bố của các đặc trưng')\n",
    "for i,col in enumerate(numeric_df.columns, 1): \n",
    "    ax = plt.subplot(4,3,i) \n",
    "    sns.boxenplot(data = numeric_df, x=numeric_df[col]) \n",
    "    plt.xlabel(None)\n",
    "    plt.title(col, fontsize='small')\n",
    "    plt.tight_layout(w_pad=3) \n",
    "\n",
    "plt.show() "
   ]
  },
  {
   "attachments": {},
   "cell_type": "markdown",
   "metadata": {},
   "source": [
    "Hầu như các cột dữ liệu đều bị lệch phải (right-skewed)\n",
    "- <font color=bone>*original_price*</font> và <font color=bone>*price*</font> có phân bố khá giống nhau, có vài điểm outliers khá lớn\n",
    "- <font color=bone>*day_ago_created*</font> thì phân bố tập trung trong khoảng 0-500 và giảm dần về 2000\n",
    "- <font color=bone>*rating_average*</font> phân bố khá đồng đều từ 0 đến 5\n",
    "- <font color=bone>*all_time_quantity_sold*</font> phân bố chủ yếu ở giá trị 0, xấp xỉ 0 và rải rác từ 0 đến hơn 30000\n",
    "- <font color=bone>*review_count*</font> cũng tương tự, tuy nhiên nằm rải rác từ 0 đến hơn 6000\n",
    "- <font color=bone>*discount_rate*</font> chủ yếu phân bố từ 0-40 và thưa thớt ở các giá trị rate cao hơn\n",
    "- Riêng với <font color=bone>*number_of_page*</font> có outlier khá \"khủng\" nên ta sẽ xử lý riêng và vẽ lại biểu đồ của cột này"
   ]
  },
  {
   "cell_type": "code",
   "execution_count": 16,
   "metadata": {},
   "outputs": [
    {
     "data": {
      "text/plain": [
       "Text(0.5, 1.0, 'Phân bố của number_of_page sau khi clip các giá trị ngoại lệ')"
      ]
     },
     "execution_count": 16,
     "metadata": {},
     "output_type": "execute_result"
    },
    {
     "data": {
      "image/png": "[encoded data removed]",
      "text/plain": [
       "<Figure size 640x480 with 1 Axes>"
      ]
     },
     "metadata": {},
     "output_type": "display_data"
    }
   ],
   "source": [
    "# ref: https://machinelearningcoban.com/tabml_book/ch_data_processing/process_outliers.html\n",
    "from typing import Tuple\n",
    "from sklearn.base import BaseEstimator, TransformerMixin\n",
    "def find_boundaries(col: pd.Series, whisker_coeff: float = 1.5\n",
    ") -> Tuple[float, float]:\n",
    "    Q1 = col.quantile(0.25)\n",
    "    Q3 = col.quantile(0.75)\n",
    "    IQR = Q3 - Q1\n",
    "    lower = Q1 - whisker_coeff * IQR\n",
    "    upper = Q3 + whisker_coeff * IQR\n",
    "    return lower, upper\n",
    "\n",
    "class BoxplotOutlierClipper(BaseEstimator, TransformerMixin):\n",
    "    def __init__(self, whisker_coeff: float = 1.5):\n",
    "        self.whisker = whisker_coeff\n",
    "        self.lower = None\n",
    "        self.upper = None\n",
    "\n",
    "    def fit(self, X: pd.Series):\n",
    "        self.lower, self.upper = find_boundaries(X, self.whisker)\n",
    "        return self\n",
    "\n",
    "    def transform(self, X):\n",
    "        return X.clip(self.lower, self.upper)\n",
    "\n",
    "numeric_df['number_of_page_clipped'] = BoxplotOutlierClipper().fit_transform(numeric_df['number_of_page'])\n",
    "# print(numeric_df['number_of_page'].sort_values(ascending=False)[30:60])\n",
    "sns.boxplot(data = numeric_df['number_of_page_clipped'].reset_index(drop=True)\n",
    "              , orient='h')\n",
    "plt.title('Phân bố của number_of_page sau khi clip các giá trị ngoại lệ') \n",
    "# plt.xlim(0, 1e4)"
   ]
  },
  {
   "attachments": {},
   "cell_type": "markdown",
   "metadata": {},
   "source": [
    "**Các cột có giá trị thiếu hay không? Nếu thiếu thì xử lý như thế nào?**"
   ]
  },
  {
   "cell_type": "code",
   "execution_count": 17,
   "metadata": {},
   "outputs": [
    {
     "data": {
      "text/plain": [
       "original_price                0\n",
       "discount_rate                 0\n",
       "rating_average                0\n",
       "review_count                  0\n",
       "day_ago_created               0\n",
       "all_time_quantity_sold        0\n",
       "number_of_page                0\n",
       "book_cover                17075\n",
       "categories                    0\n",
       "inventory_type                0\n",
       "manufacturer                  0\n",
       "dtype: int64"
      ]
     },
     "execution_count": 17,
     "metadata": {},
     "output_type": "execute_result"
    }
   ],
   "source": [
    "df[cols].isna().sum()"
   ]
  },
  {
   "attachments": {},
   "cell_type": "markdown",
   "metadata": {},
   "source": [
    "Cột `book_cover` thiếu khá nhiều, ta sẽ xem qua các giá trị của cột này"
   ]
  },
  {
   "cell_type": "code",
   "execution_count": 18,
   "metadata": {},
   "outputs": [
    {
     "data": {
      "text/plain": [
       "Bìa mềm                                     27766\n",
       "Bìa cứng                                     2922\n",
       "Bìa gập                                       366\n",
       "Bìa Da                                         43\n",
       "Bìa rời                                        26\n",
       "B Format Paperback                             22\n",
       "Bìa Da Công Nghiệp Microfiber                  21\n",
       "Box                                            14\n",
       "Boxset                                         12\n",
       "Tùy chọn phiên bản bìa cứng hoặc bìa mềm        9\n",
       "Paperback                                       7\n",
       "Board book                                      2\n",
       "Mix Media Pack                                  2\n",
       "Jigsaw box                                      1\n",
       "Counterpack holds 48 Mini Activity Books        1\n",
       "B-format Paperback                              1\n",
       "Hardcover                                       1\n",
       "Name: book_cover, dtype: int64"
      ]
     },
     "execution_count": 18,
     "metadata": {},
     "output_type": "execute_result"
    }
   ],
   "source": [
    "df['book_cover'].value_counts()"
   ]
  },
  {
   "attachments": {},
   "cell_type": "markdown",
   "metadata": {},
   "source": [
    "Ngoài ra, cột <font color=bone>number_of_page</font> chứa các giá trị 0 cũng khá vô lý (cuốn sách có 0 trang?), một suy đoán cho những giá trị này có thể là do thiếu dữ liệu về số trang nên sẽ mặc định là 0. \n",
    "- Có thể phải bỏ các dòng có giá trị này để tránh thêm vào điểm dữ liệu bất hợp lý?\n",
    "- Một cách khác là điền vào các giá trị theo mật độ xuất hiện của các giá trị đã biết?"
   ]
  },
  {
   "cell_type": "code",
   "execution_count": 19,
   "metadata": {},
   "outputs": [
    {
     "data": {
      "text/html": [
       "<div>\n",
       "<style scoped>\n",
       "    .dataframe tbody tr th:only-of-type {\n",
       "        vertical-align: middle;\n",
       "    }\n",
       "\n",
       "    .dataframe tbody tr th {\n",
       "        vertical-align: top;\n",
       "    }\n",
       "\n",
       "    .dataframe thead th {\n",
       "        text-align: right;\n",
       "    }\n",
       "</style>\n",
       "<table border=\"1\" class=\"dataframe\">\n",
       "  <thead>\n",
       "    <tr style=\"text-align: right;\">\n",
       "      <th></th>\n",
       "      <th>id</th>\n",
       "      <th>sku</th>\n",
       "      <th>name</th>\n",
       "      <th>short_url</th>\n",
       "      <th>book_cover</th>\n",
       "      <th>price</th>\n",
       "      <th>original_price</th>\n",
       "      <th>discount_rate</th>\n",
       "      <th>rating_average</th>\n",
       "      <th>review_count</th>\n",
       "      <th>inventory_type</th>\n",
       "      <th>productset_group_name</th>\n",
       "      <th>day_ago_created</th>\n",
       "      <th>categories</th>\n",
       "      <th>all_time_quantity_sold</th>\n",
       "      <th>authors</th>\n",
       "      <th>publisher_vn</th>\n",
       "      <th>publication_date</th>\n",
       "      <th>dimensions</th>\n",
       "      <th>manufacturer</th>\n",
       "      <th>number_of_page</th>\n",
       "      <th>dich_gia</th>\n",
       "      <th>edition</th>\n",
       "      <th>luu_y</th>\n",
       "    </tr>\n",
       "  </thead>\n",
       "  <tbody>\n",
       "    <tr>\n",
       "      <th>8953</th>\n",
       "      <td>201430946</td>\n",
       "      <td>8135580509178</td>\n",
       "      <td>Combo 4 cuốn trinh thám Michel Bussi: Vết Khắc...</td>\n",
       "      <td>https://tiki.vn/product-p201430946.html?spid=2...</td>\n",
       "      <td>NaN</td>\n",
       "      <td>437000</td>\n",
       "      <td>437000</td>\n",
       "      <td>0</td>\n",
       "      <td>0.0</td>\n",
       "      <td>0</td>\n",
       "      <td>backorder</td>\n",
       "      <td>Nhà Sách Tiki/Sách tiếng Việt/Sách văn học/Tru...</td>\n",
       "      <td>46</td>\n",
       "      <td>Truyện trinh thám</td>\n",
       "      <td>0</td>\n",
       "      <td>Michel Bussi</td>\n",
       "      <td>Nhã Nam</td>\n",
       "      <td>NaT</td>\n",
       "      <td>NaN</td>\n",
       "      <td>Nhà Xuất Bản Hội Nhà Văn</td>\n",
       "      <td>0</td>\n",
       "      <td>NaN</td>\n",
       "      <td>NaN</td>\n",
       "      <td>NaN</td>\n",
       "    </tr>\n",
       "    <tr>\n",
       "      <th>3593</th>\n",
       "      <td>129138336</td>\n",
       "      <td>2162456634707</td>\n",
       "      <td>Sách - Tôi là Bêtô</td>\n",
       "      <td>https://tiki.vn/product-p129138336.html?spid=1...</td>\n",
       "      <td>NaN</td>\n",
       "      <td>83000</td>\n",
       "      <td>83000</td>\n",
       "      <td>0</td>\n",
       "      <td>0.0</td>\n",
       "      <td>0</td>\n",
       "      <td>backorder</td>\n",
       "      <td>Nhà Sách Tiki/Sách tiếng Việt/Sách văn học/Tiể...</td>\n",
       "      <td>392</td>\n",
       "      <td>Tiểu sử - Hồi ký</td>\n",
       "      <td>0</td>\n",
       "      <td>NaN</td>\n",
       "      <td>NXB Trẻ</td>\n",
       "      <td>NaT</td>\n",
       "      <td>NaN</td>\n",
       "      <td>NXB Trẻ</td>\n",
       "      <td>0</td>\n",
       "      <td>NaN</td>\n",
       "      <td>NaN</td>\n",
       "      <td>NaN</td>\n",
       "    </tr>\n",
       "    <tr>\n",
       "      <th>7495</th>\n",
       "      <td>109641024</td>\n",
       "      <td>2247936116426</td>\n",
       "      <td>Sách - Cái Bóng Của Bí Mật</td>\n",
       "      <td>https://tiki.vn/product-p109641024.html?spid=1...</td>\n",
       "      <td>NaN</td>\n",
       "      <td>106000</td>\n",
       "      <td>106000</td>\n",
       "      <td>0</td>\n",
       "      <td>0.0</td>\n",
       "      <td>0</td>\n",
       "      <td>backorder</td>\n",
       "      <td>Nhà Sách Tiki/Sách tiếng Việt/Sách văn học/Tru...</td>\n",
       "      <td>519</td>\n",
       "      <td>Truyện kinh dị</td>\n",
       "      <td>0</td>\n",
       "      <td>NaN</td>\n",
       "      <td>Nhã Nam</td>\n",
       "      <td>NaT</td>\n",
       "      <td>NaN</td>\n",
       "      <td>Nhà Xuất Bản Hà Nội</td>\n",
       "      <td>0</td>\n",
       "      <td>NaN</td>\n",
       "      <td>NaN</td>\n",
       "      <td>NaN</td>\n",
       "    </tr>\n",
       "    <tr>\n",
       "      <th>5552</th>\n",
       "      <td>169263656</td>\n",
       "      <td>9934672471377</td>\n",
       "      <td>Kẻ Cắp Xe Đạp</td>\n",
       "      <td>https://tiki.vn/product-p169263656.html?spid=1...</td>\n",
       "      <td>NaN</td>\n",
       "      <td>112000</td>\n",
       "      <td>112000</td>\n",
       "      <td>0</td>\n",
       "      <td>0.0</td>\n",
       "      <td>0</td>\n",
       "      <td>backorder</td>\n",
       "      <td>Nhà Sách Tiki/Sách tiếng Việt/Sách văn học/Tru...</td>\n",
       "      <td>266</td>\n",
       "      <td>Truyện dài</td>\n",
       "      <td>0</td>\n",
       "      <td>NaN</td>\n",
       "      <td>NXB Phụ Nữ</td>\n",
       "      <td>NaT</td>\n",
       "      <td>NaN</td>\n",
       "      <td>oem</td>\n",
       "      <td>0</td>\n",
       "      <td>NaN</td>\n",
       "      <td>NaN</td>\n",
       "      <td>NaN</td>\n",
       "    </tr>\n",
       "    <tr>\n",
       "      <th>5618</th>\n",
       "      <td>188960198</td>\n",
       "      <td>5007989409144</td>\n",
       "      <td>Combo 2 Cuốn Sách Văn Học Hay : Yêu Những Điều...</td>\n",
       "      <td>https://tiki.vn/product-p188960198.html?spid=1...</td>\n",
       "      <td>NaN</td>\n",
       "      <td>210000</td>\n",
       "      <td>210000</td>\n",
       "      <td>0</td>\n",
       "      <td>0.0</td>\n",
       "      <td>0</td>\n",
       "      <td>backorder</td>\n",
       "      <td>Nhà Sách Tiki/Sách tiếng Việt/Sách văn học/Tru...</td>\n",
       "      <td>156</td>\n",
       "      <td>Truyện dài</td>\n",
       "      <td>0</td>\n",
       "      <td>NaN</td>\n",
       "      <td>Nhã Nam</td>\n",
       "      <td>NaT</td>\n",
       "      <td>NaN</td>\n",
       "      <td>Nhiều Nhà Xuất Bản</td>\n",
       "      <td>0</td>\n",
       "      <td>NaN</td>\n",
       "      <td>NaN</td>\n",
       "      <td>NaN</td>\n",
       "    </tr>\n",
       "  </tbody>\n",
       "</table>\n",
       "</div>"
      ],
      "text/plain": [
       "             id            sku  \\\n",
       "8953  201430946  8135580509178   \n",
       "3593  129138336  2162456634707   \n",
       "7495  109641024  2247936116426   \n",
       "5552  169263656  9934672471377   \n",
       "5618  188960198  5007989409144   \n",
       "\n",
       "                                                   name  \\\n",
       "8953  Combo 4 cuốn trinh thám Michel Bussi: Vết Khắc...   \n",
       "3593                                 Sách - Tôi là Bêtô   \n",
       "7495                         Sách - Cái Bóng Của Bí Mật   \n",
       "5552                                      Kẻ Cắp Xe Đạp   \n",
       "5618  Combo 2 Cuốn Sách Văn Học Hay : Yêu Những Điều...   \n",
       "\n",
       "                                              short_url book_cover   price  \\\n",
       "8953  https://tiki.vn/product-p201430946.html?spid=2...        NaN  437000   \n",
       "3593  https://tiki.vn/product-p129138336.html?spid=1...        NaN   83000   \n",
       "7495  https://tiki.vn/product-p109641024.html?spid=1...        NaN  106000   \n",
       "5552  https://tiki.vn/product-p169263656.html?spid=1...        NaN  112000   \n",
       "5618  https://tiki.vn/product-p188960198.html?spid=1...        NaN  210000   \n",
       "\n",
       "      original_price  discount_rate  rating_average  review_count  \\\n",
       "8953          437000              0             0.0             0   \n",
       "3593           83000              0             0.0             0   \n",
       "7495          106000              0             0.0             0   \n",
       "5552          112000              0             0.0             0   \n",
       "5618          210000              0             0.0             0   \n",
       "\n",
       "     inventory_type                              productset_group_name  \\\n",
       "8953      backorder  Nhà Sách Tiki/Sách tiếng Việt/Sách văn học/Tru...   \n",
       "3593      backorder  Nhà Sách Tiki/Sách tiếng Việt/Sách văn học/Tiể...   \n",
       "7495      backorder  Nhà Sách Tiki/Sách tiếng Việt/Sách văn học/Tru...   \n",
       "5552      backorder  Nhà Sách Tiki/Sách tiếng Việt/Sách văn học/Tru...   \n",
       "5618      backorder  Nhà Sách Tiki/Sách tiếng Việt/Sách văn học/Tru...   \n",
       "\n",
       "      day_ago_created         categories  all_time_quantity_sold  \\\n",
       "8953               46  Truyện trinh thám                       0   \n",
       "3593              392   Tiểu sử - Hồi ký                       0   \n",
       "7495              519     Truyện kinh dị                       0   \n",
       "5552              266         Truyện dài                       0   \n",
       "5618              156         Truyện dài                       0   \n",
       "\n",
       "           authors publisher_vn publication_date dimensions  \\\n",
       "8953  Michel Bussi      Nhã Nam              NaT        NaN   \n",
       "3593           NaN      NXB Trẻ              NaT        NaN   \n",
       "7495           NaN      Nhã Nam              NaT        NaN   \n",
       "5552           NaN   NXB Phụ Nữ              NaT        NaN   \n",
       "5618           NaN      Nhã Nam              NaT        NaN   \n",
       "\n",
       "                  manufacturer  number_of_page dich_gia edition luu_y  \n",
       "8953  Nhà Xuất Bản Hội Nhà Văn               0      NaN     NaN   NaN  \n",
       "3593                   NXB Trẻ               0      NaN     NaN   NaN  \n",
       "7495       Nhà Xuất Bản Hà Nội               0      NaN     NaN   NaN  \n",
       "5552                       oem               0      NaN     NaN   NaN  \n",
       "5618        Nhiều Nhà Xuất Bản               0      NaN     NaN   NaN  "
      ]
     },
     "execution_count": 19,
     "metadata": {},
     "output_type": "execute_result"
    }
   ],
   "source": [
    "df[df['book_cover'].isna()].sample(5)"
   ]
  },
  {
   "attachments": {},
   "cell_type": "markdown",
   "metadata": {},
   "source": [
    "Thay các giá trị 0 thành nan để phục vụ cho giai đoạn xử lý missing value "
   ]
  },
  {
   "cell_type": "code",
   "execution_count": 20,
   "metadata": {},
   "outputs": [],
   "source": [
    "df['number_of_page'].replace(0, np.nan, inplace=True)"
   ]
  },
  {
   "attachments": {},
   "cell_type": "markdown",
   "metadata": {},
   "source": [
    "### **Xử lý các giá trị ngoại lệ**"
   ]
  },
  {
   "cell_type": "code",
   "execution_count": 21,
   "metadata": {},
   "outputs": [],
   "source": [
    "df['number_of_page'] = BoxplotOutlierClipper().fit_transform(df['number_of_page'])"
   ]
  },
  {
   "cell_type": "code",
   "execution_count": 22,
   "metadata": {},
   "outputs": [],
   "source": [
    "features = df[cols].copy()"
   ]
  },
  {
   "attachments": {},
   "cell_type": "markdown",
   "metadata": {},
   "source": [
    "#### **Phân chia tập train/val/test**"
   ]
  },
  {
   "cell_type": "code",
   "execution_count": 23,
   "metadata": {},
   "outputs": [],
   "source": [
    "x_df = features[set(cols) - {'discount_rate'}]\n",
    "y_df = features['discount_rate']\n",
    "\n",
    "x_train, x_test, y_train, y_test = train_test_split(x_df, y_df, test_size=0.2, random_state=5) # Tách tập test/train\n",
    "# x_train, x_val, y_train, y_val = train_test_split(x_train, y_train, test_size=0.2, random_state=5) # Tách tập train/val từ tập train\n"
   ]
  },
  {
   "attachments": {},
   "cell_type": "markdown",
   "metadata": {},
   "source": [
    "#### **Pipeline cho bước tiền xử lý**"
   ]
  },
  {
   "cell_type": "code",
   "execution_count": 24,
   "metadata": {},
   "outputs": [],
   "source": [
    "# df['book_cover'].fillna('Không có bìa', inplace=True)\n",
    "cate = [ 'book_cover', 'categories','inventory_type', 'manufacturer']\n",
    "nume = ['original_price', 'rating_average', 'review_count', 'day_ago_created','all_time_quantity_sold',\n",
    "        'number_of_page']\n",
    "\n",
    "# Pipeline xử lý cho các cột category\n",
    "cate_transformer = Pipeline(steps= [('imputer', SimpleImputer(strategy='most_frequent')), # Thay thế missing value bằng giá trị có tần suất xuất hiện cao\n",
    "                               ('OneHotEncoder', OneHotEncoder(handle_unknown='ignore'))]) # biểu diễn one hot cho các cột category\n",
    "                                                                                # đối với các giá trị mà model chưa từng thấy bao giờ (trong tập test) thì ta bỏ qua\n",
    "# Pipeline xử lý cho các cột numeric\n",
    "nume_transfomer = Pipeline(steps= [('imputer', KNNImputer(n_neighbors=10)), # thay thế missing value bằng thuật toán k-nearest với số lượng láng giềng là 10\n",
    "                                   ('scaler', MinMaxScaler())])  # scale các giá trị về miền giá trị trong khoảng 0 đến 1 \n",
    "\n",
    "# Pipeline cho bước tiền xử lý chung \n",
    "preprocessor = ColumnTransformer(transformers=[('cate_transformer', cate_transformer, cate),\n",
    "                                                ('nume_transfomer',nume_transfomer, nume)])"
   ]
  },
  {
   "attachments": {},
   "cell_type": "markdown",
   "metadata": {},
   "source": [
    "## **5. Huấn luyện mô hình**"
   ]
  },
  {
   "attachments": {},
   "cell_type": "markdown",
   "metadata": {},
   "source": [
    "#### **Linear Regression**"
   ]
  },
  {
   "cell_type": "code",
   "execution_count": null,
   "metadata": {},
   "outputs": [],
   "source": [
    "model = LinearRegression()\n",
    "comp_pipeline = Pipeline(steps=[('preprocessor', preprocessor),\n",
    "                                ('linear_regression', model)])\n",
    "\n",
    "\n",
    "comp_pipeline.fit(x_train, y_train)\n",
    "y_train_pred = comp_pipeline.predict(x_train)"
   ]
  },
  {
   "cell_type": "code",
   "execution_count": null,
   "metadata": {},
   "outputs": [],
   "source": [
    "y_test_pred = comp_pipeline.predict(x_test)"
   ]
  },
  {
   "cell_type": "code",
   "execution_count": null,
   "metadata": {},
   "outputs": [
    {
     "name": "stdout",
     "output_type": "stream",
     "text": [
      "Train set: [MSE: 108.656, MAE: 8.093]\n",
      "Test set: [MSE: 109.089, MAE: 8.093]\n"
     ]
    }
   ],
   "source": [
    "print(f'Train set: [MSE: {mean_squared_error(y_train, y_train_pred):.3f}, MAE: {mean_absolute_error(y_train, y_train_pred):.3f}]')\n",
    "print(f'Test set: [MSE: {mean_squared_error(y_test, y_test_pred):.3f}, MAE: {mean_absolute_error(y_test, y_test_pred):.3f}]')\n"
   ]
  },
  {
   "attachments": {},
   "cell_type": "markdown",
   "metadata": {},
   "source": [
    "Mô hình này cho ra độ lỗi khá tốt"
   ]
  },
  {
   "attachments": {},
   "cell_type": "markdown",
   "metadata": {},
   "source": [
    "#### **Cross validation**"
   ]
  },
  {
   "cell_type": "code",
   "execution_count": null,
   "metadata": {},
   "outputs": [],
   "source": [
    "# Xác định KFold\n",
    "cv = RepeatedStratifiedKFold(n_splits=10, n_repeats=3, random_state=1)\n",
    "\n",
    "completed_pl = Pipeline(\n",
    "    steps=[(\"preprocessor\", preprocessor), ('regression', LinearRegression())])\n",
    "\n",
    "scores = cross_val_score(completed_pl, x_train, y_train, scoring='neg_mean_absolute_error', cv=cv, error_score='raise')\n",
    " "
   ]
  },
  {
   "cell_type": "code",
   "execution_count": null,
   "metadata": {},
   "outputs": [
    {
     "name": "stdout",
     "output_type": "stream",
     "text": [
      "Mean MAE: -8.152, Std: 0.057\n"
     ]
    }
   ],
   "source": [
    "print('Mean MAE: {:.03f}, Std: {:.03f}'.format(np.mean(scores, dtype=np.float64), np.std(scores)))"
   ]
  },
  {
   "attachments": {},
   "cell_type": "markdown",
   "metadata": {},
   "source": [
    "#### **Đánh giá nhiều mô hình với nhiều metric khác nhau**"
   ]
  },
  {
   "cell_type": "code",
   "execution_count": null,
   "metadata": {},
   "outputs": [
    {
     "name": "stdout",
     "output_type": "stream",
     "text": [
      "LinearRegression() done!\n",
      "RandomForestRegressor() done!\n",
      "GradientBoostingRegressor() done!\n",
      "TransformedTargetRegressor() done!\n"
     ]
    }
   ],
   "source": [
    "models = [LinearRegression(), RandomForestRegressor(), GradientBoostingRegressor(), TransformedTargetRegressor()]\n",
    "\n",
    "cv = RepeatedStratifiedKFold(n_splits=10, n_repeats=3, random_state=1)\n",
    "\n",
    "all_scores = []\n",
    "metric = ['neg_mean_squared_error', 'neg_mean_absolute_error', 'neg_root_mean_squared_error', 'neg_mean_absolute_percentage_error']\n",
    "# Đánh giá toàn bộ các mô hình trên tập K-Fold đã chia\n",
    "for model in models:\n",
    "  completed_pl = Pipeline(\n",
    "    steps=[(\"preprocessor\", preprocessor), ('regression', model)]\n",
    "  )\n",
    "\n",
    "  scores = cross_validate(completed_pl, x_train, y_train, scoring=metric, cv=cv)\n",
    "  print(str(model) + ' done!')\n",
    "  all_scores.append(scores)"
   ]
  },
  {
   "cell_type": "code",
   "execution_count": null,
   "metadata": {},
   "outputs": [
    {
     "data": {
      "text/html": [
       "<div>\n",
       "<style scoped>\n",
       "    .dataframe tbody tr th:only-of-type {\n",
       "        vertical-align: middle;\n",
       "    }\n",
       "\n",
       "    .dataframe tbody tr th {\n",
       "        vertical-align: top;\n",
       "    }\n",
       "\n",
       "    .dataframe thead th {\n",
       "        text-align: right;\n",
       "    }\n",
       "</style>\n",
       "<table border=\"1\" class=\"dataframe\">\n",
       "  <thead>\n",
       "    <tr style=\"text-align: right;\">\n",
       "      <th></th>\n",
       "      <th>fit_time</th>\n",
       "      <th>score_time</th>\n",
       "      <th>test_neg_mean_squared_error</th>\n",
       "      <th>test_neg_mean_absolute_error</th>\n",
       "      <th>test_neg_root_mean_squared_error</th>\n",
       "      <th>test_neg_mean_absolute_percentage_error</th>\n",
       "    </tr>\n",
       "  </thead>\n",
       "  <tbody>\n",
       "    <tr>\n",
       "      <th>0</th>\n",
       "      <td>[23.312170028686523, 22.876126766204834, 22.98...</td>\n",
       "      <td>[2.395737886428833, 2.393214225769043, 2.45576...</td>\n",
       "      <td>[-108.49431020998469, -110.61168466203866, -11...</td>\n",
       "      <td>[-8.068175005041342, -8.176933494496154, -8.19...</td>\n",
       "      <td>[-10.416060205758447, -10.517208976816931, -10...</td>\n",
       "      <td>[-1.5807477747016212e+16, -1.5958350179071636e...</td>\n",
       "    </tr>\n",
       "    <tr>\n",
       "      <th>1</th>\n",
       "      <td>[184.1718807220459, 181.8738989830017, 183.235...</td>\n",
       "      <td>[2.513406753540039, 2.512331008911133, 2.54115...</td>\n",
       "      <td>[-86.00159129069658, -83.7345231017329, -87.11...</td>\n",
       "      <td>[-6.610416148807536, -6.510329628227904, -6.65...</td>\n",
       "      <td>[-9.273704291743218, -9.150656976509003, -9.33...</td>\n",
       "      <td>[-1.1500228791554498e+16, -1.148519984985426e+...</td>\n",
       "    </tr>\n",
       "    <tr>\n",
       "      <th>2</th>\n",
       "      <td>[26.608525037765503, 26.215320348739624, 26.47...</td>\n",
       "      <td>[2.3495771884918213, 2.4147627353668213, 2.451...</td>\n",
       "      <td>[-108.16637771813022, -110.26080413748359, -11...</td>\n",
       "      <td>[-8.3321176586201, -8.428623314242971, -8.4651...</td>\n",
       "      <td>[-10.400306616544063, -10.500514470133528, -10...</td>\n",
       "      <td>[-1.6448658196644306e+16, -1.6579092606309984e...</td>\n",
       "    </tr>\n",
       "    <tr>\n",
       "      <th>3</th>\n",
       "      <td>[23.164755821228027, 22.792680501937866, 22.93...</td>\n",
       "      <td>[2.3884265422821045, 2.430955410003662, 2.4752...</td>\n",
       "      <td>[-108.49431020998469, -110.61168466203866, -11...</td>\n",
       "      <td>[-8.068175005041342, -8.176933494496154, -8.19...</td>\n",
       "      <td>[-10.416060205758447, -10.517208976816931, -10...</td>\n",
       "      <td>[-1.5807477747016212e+16, -1.5958350179071636e...</td>\n",
       "    </tr>\n",
       "  </tbody>\n",
       "</table>\n",
       "</div>"
      ],
      "text/plain": [
       "                                            fit_time  \\\n",
       "0  [23.312170028686523, 22.876126766204834, 22.98...   \n",
       "1  [184.1718807220459, 181.8738989830017, 183.235...   \n",
       "2  [26.608525037765503, 26.215320348739624, 26.47...   \n",
       "3  [23.164755821228027, 22.792680501937866, 22.93...   \n",
       "\n",
       "                                          score_time  \\\n",
       "0  [2.395737886428833, 2.393214225769043, 2.45576...   \n",
       "1  [2.513406753540039, 2.512331008911133, 2.54115...   \n",
       "2  [2.3495771884918213, 2.4147627353668213, 2.451...   \n",
       "3  [2.3884265422821045, 2.430955410003662, 2.4752...   \n",
       "\n",
       "                         test_neg_mean_squared_error  \\\n",
       "0  [-108.49431020998469, -110.61168466203866, -11...   \n",
       "1  [-86.00159129069658, -83.7345231017329, -87.11...   \n",
       "2  [-108.16637771813022, -110.26080413748359, -11...   \n",
       "3  [-108.49431020998469, -110.61168466203866, -11...   \n",
       "\n",
       "                        test_neg_mean_absolute_error  \\\n",
       "0  [-8.068175005041342, -8.176933494496154, -8.19...   \n",
       "1  [-6.610416148807536, -6.510329628227904, -6.65...   \n",
       "2  [-8.3321176586201, -8.428623314242971, -8.4651...   \n",
       "3  [-8.068175005041342, -8.176933494496154, -8.19...   \n",
       "\n",
       "                    test_neg_root_mean_squared_error  \\\n",
       "0  [-10.416060205758447, -10.517208976816931, -10...   \n",
       "1  [-9.273704291743218, -9.150656976509003, -9.33...   \n",
       "2  [-10.400306616544063, -10.500514470133528, -10...   \n",
       "3  [-10.416060205758447, -10.517208976816931, -10...   \n",
       "\n",
       "             test_neg_mean_absolute_percentage_error  \n",
       "0  [-1.5807477747016212e+16, -1.5958350179071636e...  \n",
       "1  [-1.1500228791554498e+16, -1.148519984985426e+...  \n",
       "2  [-1.6448658196644306e+16, -1.6579092606309984e...  \n",
       "3  [-1.5807477747016212e+16, -1.5958350179071636e...  "
      ]
     },
     "execution_count": 215,
     "metadata": {},
     "output_type": "execute_result"
    }
   ],
   "source": [
    "all_scores_df = pd.DataFrame(all_scores)\n",
    "# os.mkdir('./evaluating')\n",
    "all_scores_df.to_csv('./evaluating/all_scores_2.csv', index_label=False)\n",
    "all_scores_df.head()"
   ]
  },
  {
   "attachments": {},
   "cell_type": "markdown",
   "metadata": {},
   "source": [
    "Tính mean và standard deviation của từng giá trị trong `all_scores_df`"
   ]
  },
  {
   "cell_type": "code",
   "execution_count": null,
   "metadata": {},
   "outputs": [
    {
     "data": {
      "text/html": [
       "<div>\n",
       "<style scoped>\n",
       "    .dataframe tbody tr th:only-of-type {\n",
       "        vertical-align: middle;\n",
       "    }\n",
       "\n",
       "    .dataframe tbody tr th {\n",
       "        vertical-align: top;\n",
       "    }\n",
       "\n",
       "    .dataframe thead th {\n",
       "        text-align: right;\n",
       "    }\n",
       "</style>\n",
       "<table border=\"1\" class=\"dataframe\">\n",
       "  <thead>\n",
       "    <tr style=\"text-align: right;\">\n",
       "      <th></th>\n",
       "      <th>fit_time</th>\n",
       "      <th>score_time</th>\n",
       "      <th>test_neg_mean_squared_error</th>\n",
       "      <th>test_neg_mean_absolute_error</th>\n",
       "      <th>test_neg_root_mean_squared_error</th>\n",
       "      <th>test_neg_mean_absolute_percentage_error</th>\n",
       "    </tr>\n",
       "  </thead>\n",
       "  <tbody>\n",
       "    <tr>\n",
       "      <th>LinearRegression</th>\n",
       "      <td>(23.109579157829284, 0.16926244182368733)</td>\n",
       "      <td>(2.440258995691935, 0.06592849870651057)</td>\n",
       "      <td>(-110.26660911992305, 1.608490562922346)</td>\n",
       "      <td>(-8.152232468420163, 0.05723434077172916)</td>\n",
       "      <td>(-10.500511684441957, 0.07657339499468194)</td>\n",
       "      <td>(-1.5833819243690518e+16, 225181131234008.78)</td>\n",
       "    </tr>\n",
       "    <tr>\n",
       "      <th>RandomForestRegressor</th>\n",
       "      <td>(182.87535212834675, 0.981111731535767)</td>\n",
       "      <td>(2.5250494480133057, 0.05029153834398033)</td>\n",
       "      <td>(-84.1534765538921, 2.311366045233903)</td>\n",
       "      <td>(-6.5542600152863075, 0.09246448172290758)</td>\n",
       "      <td>(-9.172652091628594, 0.12621473699094893)</td>\n",
       "      <td>(-1.144544918703714e+16, 263220264700897.3)</td>\n",
       "    </tr>\n",
       "    <tr>\n",
       "      <th>GradientBoostingRegressor</th>\n",
       "      <td>(26.533608690897623, 0.20741685372344104)</td>\n",
       "      <td>(2.4252702792485556, 0.04344605700192196)</td>\n",
       "      <td>(-109.16312969486415, 1.4044267952642726)</td>\n",
       "      <td>(-8.362560233774358, 0.051281974292333166)</td>\n",
       "      <td>(-10.447900209135417, 0.06716334426018852)</td>\n",
       "      <td>(-1.6354739970187866e+16, 160030219922749.16)</td>\n",
       "    </tr>\n",
       "    <tr>\n",
       "      <th>TransformedTargetRegressor</th>\n",
       "      <td>(23.04924136797587, 0.18316851613277468)</td>\n",
       "      <td>(2.431480956077576, 0.0487366018024075)</td>\n",
       "      <td>(-110.26660911992305, 1.608490562922346)</td>\n",
       "      <td>(-8.152232468420163, 0.05723434077172916)</td>\n",
       "      <td>(-10.500511684441957, 0.07657339499468194)</td>\n",
       "      <td>(-1.5833819243690518e+16, 225181131234008.78)</td>\n",
       "    </tr>\n",
       "  </tbody>\n",
       "</table>\n",
       "</div>"
      ],
      "text/plain": [
       "                                                             fit_time  \\\n",
       "LinearRegression            (23.109579157829284, 0.16926244182368733)   \n",
       "RandomForestRegressor         (182.87535212834675, 0.981111731535767)   \n",
       "GradientBoostingRegressor   (26.533608690897623, 0.20741685372344104)   \n",
       "TransformedTargetRegressor   (23.04924136797587, 0.18316851613277468)   \n",
       "\n",
       "                                                           score_time  \\\n",
       "LinearRegression             (2.440258995691935, 0.06592849870651057)   \n",
       "RandomForestRegressor       (2.5250494480133057, 0.05029153834398033)   \n",
       "GradientBoostingRegressor   (2.4252702792485556, 0.04344605700192196)   \n",
       "TransformedTargetRegressor    (2.431480956077576, 0.0487366018024075)   \n",
       "\n",
       "                                          test_neg_mean_squared_error  \\\n",
       "LinearRegression             (-110.26660911992305, 1.608490562922346)   \n",
       "RandomForestRegressor          (-84.1534765538921, 2.311366045233903)   \n",
       "GradientBoostingRegressor   (-109.16312969486415, 1.4044267952642726)   \n",
       "TransformedTargetRegressor   (-110.26660911992305, 1.608490562922346)   \n",
       "\n",
       "                                          test_neg_mean_absolute_error  \\\n",
       "LinearRegression             (-8.152232468420163, 0.05723434077172916)   \n",
       "RandomForestRegressor       (-6.5542600152863075, 0.09246448172290758)   \n",
       "GradientBoostingRegressor   (-8.362560233774358, 0.051281974292333166)   \n",
       "TransformedTargetRegressor   (-8.152232468420163, 0.05723434077172916)   \n",
       "\n",
       "                                      test_neg_root_mean_squared_error  \\\n",
       "LinearRegression            (-10.500511684441957, 0.07657339499468194)   \n",
       "RandomForestRegressor        (-9.172652091628594, 0.12621473699094893)   \n",
       "GradientBoostingRegressor   (-10.447900209135417, 0.06716334426018852)   \n",
       "TransformedTargetRegressor  (-10.500511684441957, 0.07657339499468194)   \n",
       "\n",
       "                                  test_neg_mean_absolute_percentage_error  \n",
       "LinearRegression            (-1.5833819243690518e+16, 225181131234008.78)  \n",
       "RandomForestRegressor         (-1.144544918703714e+16, 263220264700897.3)  \n",
       "GradientBoostingRegressor   (-1.6354739970187866e+16, 160030219922749.16)  \n",
       "TransformedTargetRegressor  (-1.5833819243690518e+16, 225181131234008.78)  "
      ]
     },
     "execution_count": 241,
     "metadata": {},
     "output_type": "execute_result"
    }
   ],
   "source": [
    "models = ['LinearRegression', 'RandomForestRegressor', 'GradientBoostingRegressor', 'TransformedTargetRegressor']\n",
    "def get_mean_std(x):\n",
    "    return x.mean(), x.std()\n",
    "\n",
    "all_scores_df.index = models\n",
    "all_scores_df.applymap(get_mean_std)"
   ]
  },
  {
   "attachments": {},
   "cell_type": "markdown",
   "metadata": {},
   "source": [
    "Dựa vào bảng có thể thấy mô hình <font color=bone>RandomForest</font> cho độ lỗi tốt nhất, tuy nhiên <font color=bone>fit_time</font> và <font color=bone>score_time</font> là cao nhất."
   ]
  },
  {
   "cell_type": "code",
   "execution_count": null,
   "metadata": {},
   "outputs": [
    {
     "data": {
      "image/png": "[encoded data removed]",
      "text/plain": [
       "<Figure size 2000x2000 with 6 Axes>"
      ]
     },
     "metadata": {},
     "output_type": "display_data"
    }
   ],
   "source": [
    "plt.figure(figsize=(20, 20))\n",
    "plt.suptitle(\"Scores Metrics\")\n",
    "for i,col in enumerate(all_scores_df.columns, 1): \n",
    "    ax = plt.subplot(5,3,i) \n",
    "    sns.boxplot(all_scores_df[col])\n",
    "    plt.title(col, fontsize='small')\n",
    "    plt.tight_layout(w_pad=3) "
   ]
  },
  {
   "attachments": {},
   "cell_type": "markdown",
   "metadata": {},
   "source": [
    "Vậy mô hình được chọn là: RandomForestRegression"
   ]
  },
  {
   "cell_type": "code",
   "execution_count": 26,
   "metadata": {},
   "outputs": [],
   "source": [
    "completed_pl = Pipeline(\n",
    "    steps=[(\"preprocessor\", preprocessor), ('RandomForestRegression', RandomForestRegressor())])\n",
    "\n",
    "completed_pl.fit(x_train, y_train)\n",
    "y_train_pred = completed_pl.predict(x_train)"
   ]
  },
  {
   "cell_type": "code",
   "execution_count": null,
   "metadata": {},
   "outputs": [],
   "source": [
    "y_test_pred = completed_pl.predict(x_test)"
   ]
  },
  {
   "cell_type": "code",
   "execution_count": null,
   "metadata": {},
   "outputs": [
    {
     "name": "stdout",
     "output_type": "stream",
     "text": [
      "Train set: [MSE: 108.656, MAE: 8.093]\n",
      "Test set: [MSE: 109.089, MAE: 8.093]\n"
     ]
    }
   ],
   "source": [
    "print(f'Train set: [MSE: {mean_squared_error(y_train, y_train_pred):.3f}, MAE: {mean_absolute_error(y_train, y_train_pred):.3f}]')\n",
    "print(f'Test set: [MSE: {mean_squared_error(y_test, y_test_pred):.3f}, MAE: {mean_absolute_error(y_test, y_test_pred):.3f}]')"
   ]
  },
  {
   "attachments": {},
   "cell_type": "markdown",
   "metadata": {},
   "source": [
    "Có thể thấy độ lỗi cũng không khác gì mấy so với linear regression ở trường hợp bên trên."
   ]
  }
 ],
 "metadata": {
  "kernelspec": {
   "display_name": "Python 3",
   "language": "python",
   "name": "python3"
  },
  "language_info": {
   "codemirror_mode": {
    "name": "ipython",
    "version": 3
   },
   "file_extension": ".py",
   "mimetype": "text/x-python",
   "name": "python",
   "nbconvert_exporter": "python",
   "pygments_lexer": "ipython3",
   "version": "3.11.0"
  },
  "orig_nbformat": 4,
  "vscode": {
   "interpreter": {
    "hash": "5f80c455da1dc101d9f66a16923589bd6dbb3429340af280f1efed2f72025e97"
   }
  }
 },
 "nbformat": 4,
 "nbformat_minor": 2
}
