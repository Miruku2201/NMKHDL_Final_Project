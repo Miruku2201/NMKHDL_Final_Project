{
 "cells": [
  {
   "attachments": {},
   "cell_type": "markdown",
   "metadata": {},
   "source": [
    "# **PHẦN 2: MÔ HÌNH HOÁ DỮ LIỆU**"
   ]
  },
  {
   "attachments": {},
   "cell_type": "markdown",
   "metadata": {},
   "source": [
    "## **1. Import các packages cần thiết**"
   ]
  },
  {
   "cell_type": "code",
   "execution_count": 130,
   "metadata": {},
   "outputs": [],
   "source": [
    "import pandas as pd\n",
    "import numpy as np\n",
    "import matplotlib.pyplot as plt\n",
    "%matplotlib inline\n",
    "import seaborn as sns\n",
    "import datetime \n",
    "import os\n",
    "from sklearn.preprocessing import LabelEncoder\n",
    "from sklearn.model_selection import train_test_split\n",
    "from sklearn.preprocessing import OneHotEncoder, StandardScaler, MinMaxScaler\n",
    "from sklearn.impute import SimpleImputer, KNNImputer\n",
    "from sklearn.pipeline import Pipeline\n",
    "from sklearn.compose import ColumnTransformer, make_column_transformer\n",
    "from sklearn.preprocessing import FunctionTransformer\n",
    "\n",
    "# from keras.layers import Dense\n",
    "# from keras.models import Sequential\n",
    "# from keras.optimizers import SGD\n",
    "from sklearn.linear_model import LinearRegression\n",
    "from sklearn.neural_network import MLPRegressor\n",
    "from sklearn.ensemble import RandomForestRegressor\n",
    "from sklearn.ensemble import GradientBoostingRegressor\n",
    "from sklearn.compose import TransformedTargetRegressor\n",
    "from sklearn.model_selection import cross_val_score, RepeatedStratifiedKFold, cross_validate, KFold\n",
    "from sklearn.model_selection import RandomizedSearchCV\n",
    "from sklearn.metrics import mean_squared_error, mean_absolute_error\n",
    "\n",
    "pd.set_option('display.max_columns', None)\n",
    "import warnings \n",
    "warnings.filterwarnings(\"ignore\")"
   ]
  },
  {
   "attachments": {},
   "cell_type": "markdown",
   "metadata": {},
   "source": [
    "## **2. Đọc dữ liệu từ file csv**"
   ]
  },
  {
   "cell_type": "code",
   "execution_count": 131,
   "metadata": {},
   "outputs": [
    {
     "data": {
      "text/plain": [
       "(48291, 24)"
      ]
     },
     "execution_count": 131,
     "metadata": {},
     "output_type": "execute_result"
    }
   ],
   "source": [
    "df = pd.read_csv('../features/processed.csv')\n",
    "df.shape"
   ]
  },
  {
   "cell_type": "code",
   "execution_count": 132,
   "metadata": {},
   "outputs": [
    {
     "data": {
      "text/html": [
       "<div>\n",
       "<style scoped>\n",
       "    .dataframe tbody tr th:only-of-type {\n",
       "        vertical-align: middle;\n",
       "    }\n",
       "\n",
       "    .dataframe tbody tr th {\n",
       "        vertical-align: top;\n",
       "    }\n",
       "\n",
       "    .dataframe thead th {\n",
       "        text-align: right;\n",
       "    }\n",
       "</style>\n",
       "<table border=\"1\" class=\"dataframe\">\n",
       "  <thead>\n",
       "    <tr style=\"text-align: right;\">\n",
       "      <th></th>\n",
       "      <th>id</th>\n",
       "      <th>sku</th>\n",
       "      <th>name</th>\n",
       "      <th>short_url</th>\n",
       "      <th>book_cover</th>\n",
       "      <th>price</th>\n",
       "      <th>original_price</th>\n",
       "      <th>discount_rate</th>\n",
       "      <th>rating_average</th>\n",
       "      <th>review_count</th>\n",
       "      <th>inventory_type</th>\n",
       "      <th>productset_group_name</th>\n",
       "      <th>day_ago_created</th>\n",
       "      <th>categories</th>\n",
       "      <th>all_time_quantity_sold</th>\n",
       "      <th>authors</th>\n",
       "      <th>publisher_vn</th>\n",
       "      <th>publication_date</th>\n",
       "      <th>dimensions</th>\n",
       "      <th>manufacturer</th>\n",
       "      <th>number_of_page</th>\n",
       "      <th>dich_gia</th>\n",
       "      <th>edition</th>\n",
       "      <th>luu_y</th>\n",
       "    </tr>\n",
       "  </thead>\n",
       "  <tbody>\n",
       "    <tr>\n",
       "      <th>39832</th>\n",
       "      <td>186677830</td>\n",
       "      <td>7823425372366</td>\n",
       "      <td>Sách Bí Ẩn Của Lịch Sử - Mysteries In History</td>\n",
       "      <td>https://tiki.vn/product-p186677830.html?spid=1...</td>\n",
       "      <td>Bìa cứng</td>\n",
       "      <td>499000</td>\n",
       "      <td>499000</td>\n",
       "      <td>0</td>\n",
       "      <td>0.0</td>\n",
       "      <td>0</td>\n",
       "      <td>backorder</td>\n",
       "      <td>Nhà Sách Tiki/Sách tiếng Việt/Sách Lịch sử/Lịc...</td>\n",
       "      <td>166</td>\n",
       "      <td>Lịch Sử Thế Giới</td>\n",
       "      <td>0</td>\n",
       "      <td>NaN</td>\n",
       "      <td>Công ty cổ phần đầu tư và phát triển giáo dục ...</td>\n",
       "      <td>2021-11-15 06:53:53</td>\n",
       "      <td>NaN</td>\n",
       "      <td>Nhà Xuất Bản Lao Động</td>\n",
       "      <td>256</td>\n",
       "      <td>NaN</td>\n",
       "      <td>NaN</td>\n",
       "      <td>NaN</td>\n",
       "    </tr>\n",
       "    <tr>\n",
       "      <th>23954</th>\n",
       "      <td>183540566</td>\n",
       "      <td>4985955766222</td>\n",
       "      <td>Quy Trình Kỹ Thuật Nhân Giống, Trồng Và Sơ Chế...</td>\n",
       "      <td>https://tiki.vn/product-p183540566.html?spid=1...</td>\n",
       "      <td>Bìa cứng</td>\n",
       "      <td>426000</td>\n",
       "      <td>426000</td>\n",
       "      <td>0</td>\n",
       "      <td>0.0</td>\n",
       "      <td>0</td>\n",
       "      <td>backorder</td>\n",
       "      <td>Nhà Sách Tiki/Sách tiếng Việt/Sách kỹ năng sốn...</td>\n",
       "      <td>186</td>\n",
       "      <td>Sách hướng nghiệp - Kỹ năng mềm</td>\n",
       "      <td>0</td>\n",
       "      <td>NaN</td>\n",
       "      <td>Trung Tâm Phát Hành Sách Và Văn Hóa Phẩm Khoa ...</td>\n",
       "      <td>NaN</td>\n",
       "      <td>NaN</td>\n",
       "      <td>Nhà Xuất Bản Khoa học &amp; kỹ thuật</td>\n",
       "      <td>392</td>\n",
       "      <td>NaN</td>\n",
       "      <td>NaN</td>\n",
       "      <td>NaN</td>\n",
       "    </tr>\n",
       "    <tr>\n",
       "      <th>35420</th>\n",
       "      <td>192862164</td>\n",
       "      <td>2612655313671</td>\n",
       "      <td>Giải Mã Ngành Công Nghiệp Âm Nhạc</td>\n",
       "      <td>https://tiki.vn/product-p192862164.html?spid=2...</td>\n",
       "      <td>Bìa mềm</td>\n",
       "      <td>209000</td>\n",
       "      <td>209000</td>\n",
       "      <td>0</td>\n",
       "      <td>0.0</td>\n",
       "      <td>0</td>\n",
       "      <td>backorder</td>\n",
       "      <td>Nhà Sách Tiki/Sách tiếng Việt/Sách Kiến Thức T...</td>\n",
       "      <td>127</td>\n",
       "      <td>Lĩnh vực khác</td>\n",
       "      <td>0</td>\n",
       "      <td>Donald S.Passman</td>\n",
       "      <td>Alpha Books</td>\n",
       "      <td>2022-07-05 00:00:00</td>\n",
       "      <td>NaN</td>\n",
       "      <td>Nhà Xuất Bản Lao Động</td>\n",
       "      <td>490</td>\n",
       "      <td>NaN</td>\n",
       "      <td>NaN</td>\n",
       "      <td>NaN</td>\n",
       "    </tr>\n",
       "    <tr>\n",
       "      <th>30420</th>\n",
       "      <td>194200737</td>\n",
       "      <td>8458067879118</td>\n",
       "      <td>Sách Bài Tập Hằng Ngày Tiếng Việt 3 - Cánh Diề...</td>\n",
       "      <td>https://tiki.vn/product-p194200737.html?spid=1...</td>\n",
       "      <td>NaN</td>\n",
       "      <td>48000</td>\n",
       "      <td>60000</td>\n",
       "      <td>20</td>\n",
       "      <td>0.0</td>\n",
       "      <td>0</td>\n",
       "      <td>backorder</td>\n",
       "      <td>Nhà Sách Tiki/Sách tiếng Việt/Sách Tham Khảo/S...</td>\n",
       "      <td>113</td>\n",
       "      <td>Sách tham khảo cấp I</td>\n",
       "      <td>2</td>\n",
       "      <td>NaN</td>\n",
       "      <td>Công ty cổ phần sách Qbooks</td>\n",
       "      <td>NaN</td>\n",
       "      <td>NaN</td>\n",
       "      <td>Nhà Xuất Bản Hà Nội</td>\n",
       "      <td>100</td>\n",
       "      <td>NaN</td>\n",
       "      <td>NaN</td>\n",
       "      <td>NaN</td>\n",
       "    </tr>\n",
       "    <tr>\n",
       "      <th>44102</th>\n",
       "      <td>192560885</td>\n",
       "      <td>7126767635881</td>\n",
       "      <td>Hướng Dẫn Thi Hành Luật Xử Lý Vi Phạm Hành Chí...</td>\n",
       "      <td>https://tiki.vn/product-p192560885.html?spid=1...</td>\n",
       "      <td>Bìa mềm</td>\n",
       "      <td>381500</td>\n",
       "      <td>545000</td>\n",
       "      <td>30</td>\n",
       "      <td>0.0</td>\n",
       "      <td>0</td>\n",
       "      <td>backorder</td>\n",
       "      <td>Nhà Sách Tiki/Sách tiếng Việt/Sách Chính Trị -...</td>\n",
       "      <td>129</td>\n",
       "      <td>Luật - Văn Bản Luật</td>\n",
       "      <td>0</td>\n",
       "      <td>Vũ Thu Phương</td>\n",
       "      <td>Pháp luật Sài Gòn - Hà Nội</td>\n",
       "      <td>NaN</td>\n",
       "      <td>NaN</td>\n",
       "      <td>Nhà Xuất Bản Công An Nhân Dân</td>\n",
       "      <td>600</td>\n",
       "      <td>NaN</td>\n",
       "      <td>NaN</td>\n",
       "      <td>NaN</td>\n",
       "    </tr>\n",
       "  </tbody>\n",
       "</table>\n",
       "</div>"
      ],
      "text/plain": [
       "              id            sku  \\\n",
       "39832  186677830  7823425372366   \n",
       "23954  183540566  4985955766222   \n",
       "35420  192862164  2612655313671   \n",
       "30420  194200737  8458067879118   \n",
       "44102  192560885  7126767635881   \n",
       "\n",
       "                                                    name  \\\n",
       "39832      Sách Bí Ẩn Của Lịch Sử - Mysteries In History   \n",
       "23954  Quy Trình Kỹ Thuật Nhân Giống, Trồng Và Sơ Chế...   \n",
       "35420                  Giải Mã Ngành Công Nghiệp Âm Nhạc   \n",
       "30420  Sách Bài Tập Hằng Ngày Tiếng Việt 3 - Cánh Diề...   \n",
       "44102  Hướng Dẫn Thi Hành Luật Xử Lý Vi Phạm Hành Chí...   \n",
       "\n",
       "                                               short_url book_cover   price  \\\n",
       "39832  https://tiki.vn/product-p186677830.html?spid=1...   Bìa cứng  499000   \n",
       "23954  https://tiki.vn/product-p183540566.html?spid=1...   Bìa cứng  426000   \n",
       "35420  https://tiki.vn/product-p192862164.html?spid=2...    Bìa mềm  209000   \n",
       "30420  https://tiki.vn/product-p194200737.html?spid=1...        NaN   48000   \n",
       "44102  https://tiki.vn/product-p192560885.html?spid=1...    Bìa mềm  381500   \n",
       "\n",
       "       original_price  discount_rate  rating_average  review_count  \\\n",
       "39832          499000              0             0.0             0   \n",
       "23954          426000              0             0.0             0   \n",
       "35420          209000              0             0.0             0   \n",
       "30420           60000             20             0.0             0   \n",
       "44102          545000             30             0.0             0   \n",
       "\n",
       "      inventory_type                              productset_group_name  \\\n",
       "39832      backorder  Nhà Sách Tiki/Sách tiếng Việt/Sách Lịch sử/Lịc...   \n",
       "23954      backorder  Nhà Sách Tiki/Sách tiếng Việt/Sách kỹ năng sốn...   \n",
       "35420      backorder  Nhà Sách Tiki/Sách tiếng Việt/Sách Kiến Thức T...   \n",
       "30420      backorder  Nhà Sách Tiki/Sách tiếng Việt/Sách Tham Khảo/S...   \n",
       "44102      backorder  Nhà Sách Tiki/Sách tiếng Việt/Sách Chính Trị -...   \n",
       "\n",
       "       day_ago_created                       categories  \\\n",
       "39832              166                 Lịch Sử Thế Giới   \n",
       "23954              186  Sách hướng nghiệp - Kỹ năng mềm   \n",
       "35420              127                    Lĩnh vực khác   \n",
       "30420              113             Sách tham khảo cấp I   \n",
       "44102              129              Luật - Văn Bản Luật   \n",
       "\n",
       "       all_time_quantity_sold           authors  \\\n",
       "39832                       0               NaN   \n",
       "23954                       0               NaN   \n",
       "35420                       0  Donald S.Passman   \n",
       "30420                       2               NaN   \n",
       "44102                       0     Vũ Thu Phương   \n",
       "\n",
       "                                            publisher_vn     publication_date  \\\n",
       "39832  Công ty cổ phần đầu tư và phát triển giáo dục ...  2021-11-15 06:53:53   \n",
       "23954  Trung Tâm Phát Hành Sách Và Văn Hóa Phẩm Khoa ...                  NaN   \n",
       "35420                                        Alpha Books  2022-07-05 00:00:00   \n",
       "30420                        Công ty cổ phần sách Qbooks                  NaN   \n",
       "44102                         Pháp luật Sài Gòn - Hà Nội                  NaN   \n",
       "\n",
       "      dimensions                      manufacturer  number_of_page dich_gia  \\\n",
       "39832        NaN             Nhà Xuất Bản Lao Động             256      NaN   \n",
       "23954        NaN  Nhà Xuất Bản Khoa học & kỹ thuật             392      NaN   \n",
       "35420        NaN             Nhà Xuất Bản Lao Động             490      NaN   \n",
       "30420        NaN               Nhà Xuất Bản Hà Nội             100      NaN   \n",
       "44102        NaN     Nhà Xuất Bản Công An Nhân Dân             600      NaN   \n",
       "\n",
       "      edition luu_y  \n",
       "39832     NaN   NaN  \n",
       "23954     NaN   NaN  \n",
       "35420     NaN   NaN  \n",
       "30420     NaN   NaN  \n",
       "44102     NaN   NaN  "
      ]
     },
     "execution_count": 132,
     "metadata": {},
     "output_type": "execute_result"
    }
   ],
   "source": [
    "df.sample(5)"
   ]
  },
  {
   "attachments": {},
   "cell_type": "markdown",
   "metadata": {},
   "source": [
    "## **3. Xác định câu hỏi cần trả lời:**\n",
    "**Bài toán dự đoán `discount_rate` dựa trên các đặc trưng của sản phẩm.**\n",
    "- Đây là một bài toán hồi quy.\n",
    "- Input là các đặc trưng ảnh hưởng đến tỉ lệ giảm giá của một mặt hàng sách.\n",
    "- Output là tỉ lệ giảm giá của sách. "
   ]
  },
  {
   "attachments": {},
   "cell_type": "markdown",
   "metadata": {},
   "source": [
    "**Trả lời được câu hỏi này sẽ giúp cho cả khách hàng và nhà bán có những lợi ích sau:**\n",
    "- Nhà bán quyết định mức sale phù hợp với thị trường, từ đó bán được nhiều sản phẩm hơn.\n",
    "- Người mua chọn được sản phẩm giá rẻ, có mức sale cao, dựa vào việc xem xét qua các đặc trưng khác."
   ]
  },
  {
   "attachments": {},
   "cell_type": "markdown",
   "metadata": {},
   "source": [
    "## **4. Phân tích, xử lý và chuẩn bị dữ liệu cho bước mô hình hoá**"
   ]
  },
  {
   "attachments": {},
   "cell_type": "markdown",
   "metadata": {},
   "source": [
    "Các cột có kiểu dữ liệu là numeric "
   ]
  },
  {
   "cell_type": "code",
   "execution_count": 133,
   "metadata": {},
   "outputs": [
    {
     "data": {
      "text/plain": [
       "Index(['id', 'sku', 'price', 'original_price', 'discount_rate',\n",
       "       'rating_average', 'review_count', 'day_ago_created',\n",
       "       'all_time_quantity_sold', 'number_of_page'],\n",
       "      dtype='object')"
      ]
     },
     "execution_count": 133,
     "metadata": {},
     "output_type": "execute_result"
    }
   ],
   "source": [
    "numeric_cols = df.select_dtypes(include=np.number).columns\n",
    "numeric_cols"
   ]
  },
  {
   "cell_type": "code",
   "execution_count": 134,
   "metadata": {},
   "outputs": [
    {
     "data": {
      "text/html": [
       "<div>\n",
       "<style scoped>\n",
       "    .dataframe tbody tr th:only-of-type {\n",
       "        vertical-align: middle;\n",
       "    }\n",
       "\n",
       "    .dataframe tbody tr th {\n",
       "        vertical-align: top;\n",
       "    }\n",
       "\n",
       "    .dataframe thead th {\n",
       "        text-align: right;\n",
       "    }\n",
       "</style>\n",
       "<table border=\"1\" class=\"dataframe\">\n",
       "  <thead>\n",
       "    <tr style=\"text-align: right;\">\n",
       "      <th></th>\n",
       "      <th>id</th>\n",
       "      <th>sku</th>\n",
       "      <th>price</th>\n",
       "      <th>original_price</th>\n",
       "      <th>discount_rate</th>\n",
       "      <th>rating_average</th>\n",
       "      <th>review_count</th>\n",
       "      <th>day_ago_created</th>\n",
       "      <th>all_time_quantity_sold</th>\n",
       "      <th>number_of_page</th>\n",
       "    </tr>\n",
       "  </thead>\n",
       "  <tbody>\n",
       "    <tr>\n",
       "      <th>missing_ratio</th>\n",
       "      <td>0.0</td>\n",
       "      <td>0.000000e+00</td>\n",
       "      <td>0.0</td>\n",
       "      <td>0.0</td>\n",
       "      <td>0.0</td>\n",
       "      <td>0.0</td>\n",
       "      <td>0.0</td>\n",
       "      <td>0.0</td>\n",
       "      <td>0.0</td>\n",
       "      <td>0.000000e+00</td>\n",
       "    </tr>\n",
       "    <tr>\n",
       "      <th>min</th>\n",
       "      <td>148562.0</td>\n",
       "      <td>1.000110e+12</td>\n",
       "      <td>0.0</td>\n",
       "      <td>0.0</td>\n",
       "      <td>0.0</td>\n",
       "      <td>0.0</td>\n",
       "      <td>0.0</td>\n",
       "      <td>0.0</td>\n",
       "      <td>0.0</td>\n",
       "      <td>0.000000e+00</td>\n",
       "    </tr>\n",
       "    <tr>\n",
       "      <th>max</th>\n",
       "      <td>207990688.0</td>\n",
       "      <td>9.999995e+12</td>\n",
       "      <td>6000000.0</td>\n",
       "      <td>6950000.0</td>\n",
       "      <td>91.0</td>\n",
       "      <td>5.0</td>\n",
       "      <td>6306.0</td>\n",
       "      <td>2689.0</td>\n",
       "      <td>32323.0</td>\n",
       "      <td>9.786049e+12</td>\n",
       "    </tr>\n",
       "  </tbody>\n",
       "</table>\n",
       "</div>"
      ],
      "text/plain": [
       "                        id           sku      price  original_price  \\\n",
       "missing_ratio          0.0  0.000000e+00        0.0             0.0   \n",
       "min               148562.0  1.000110e+12        0.0             0.0   \n",
       "max            207990688.0  9.999995e+12  6000000.0       6950000.0   \n",
       "\n",
       "               discount_rate  rating_average  review_count  day_ago_created  \\\n",
       "missing_ratio            0.0             0.0           0.0              0.0   \n",
       "min                      0.0             0.0           0.0              0.0   \n",
       "max                     91.0             5.0        6306.0           2689.0   \n",
       "\n",
       "               all_time_quantity_sold  number_of_page  \n",
       "missing_ratio                     0.0    0.000000e+00  \n",
       "min                               0.0    0.000000e+00  \n",
       "max                           32323.0    9.786049e+12  "
      ]
     },
     "execution_count": 134,
     "metadata": {},
     "output_type": "execute_result"
    }
   ],
   "source": [
    "numeric_profiles = {'missing_ratio': df[numeric_cols].isna().sum() * 100.0/len(df[numeric_cols]),\n",
    "                        'min': df[numeric_cols].min(),\n",
    "                        'max': df[numeric_cols].max()}\n",
    "nume_col_profiles_df = pd.DataFrame(numeric_profiles).transpose()\n",
    "nume_col_profiles_df"
   ]
  },
  {
   "cell_type": "code",
   "execution_count": 135,
   "metadata": {},
   "outputs": [
    {
     "data": {
      "image/png": "[encoded data removed]",
      "text/plain": [
       "<Figure size 1200x800 with 2 Axes>"
      ]
     },
     "metadata": {},
     "output_type": "display_data"
    }
   ],
   "source": [
    "plt.figure(figsize=(12,8))\n",
    "sns.heatmap(df[set(numeric_cols) - {'id', 'sku'}].corr(), annot=True, fmt='.2f')\n",
    "plt.xticks(rotation=30)\n",
    "plt.title('Tương quan giữa các đặc trưng')\n",
    "plt.show()"
   ]
  },
  {
   "cell_type": "code",
   "execution_count": 136,
   "metadata": {},
   "outputs": [
    {
     "data": {
      "text/html": [
       "<div>\n",
       "<style scoped>\n",
       "    .dataframe tbody tr th:only-of-type {\n",
       "        vertical-align: middle;\n",
       "    }\n",
       "\n",
       "    .dataframe tbody tr th {\n",
       "        vertical-align: top;\n",
       "    }\n",
       "\n",
       "    .dataframe thead th {\n",
       "        text-align: right;\n",
       "    }\n",
       "</style>\n",
       "<table border=\"1\" class=\"dataframe\">\n",
       "  <thead>\n",
       "    <tr style=\"text-align: right;\">\n",
       "      <th></th>\n",
       "      <th>authors</th>\n",
       "      <th>book_cover</th>\n",
       "      <th>categories</th>\n",
       "      <th>dich_gia</th>\n",
       "      <th>dimensions</th>\n",
       "      <th>edition</th>\n",
       "      <th>inventory_type</th>\n",
       "      <th>luu_y</th>\n",
       "      <th>manufacturer</th>\n",
       "      <th>name</th>\n",
       "      <th>productset_group_name</th>\n",
       "      <th>publication_date</th>\n",
       "      <th>publisher_vn</th>\n",
       "      <th>short_url</th>\n",
       "    </tr>\n",
       "  </thead>\n",
       "  <tbody>\n",
       "    <tr>\n",
       "      <th>missing_ratio</th>\n",
       "      <td>48.804125</td>\n",
       "      <td>35.358555</td>\n",
       "      <td>0.0</td>\n",
       "      <td>85.686774</td>\n",
       "      <td>82.744197</td>\n",
       "      <td>96.931105</td>\n",
       "      <td>0.0</td>\n",
       "      <td>99.995858</td>\n",
       "      <td>0.550827</td>\n",
       "      <td>0.0</td>\n",
       "      <td>0.0</td>\n",
       "      <td>61.158394</td>\n",
       "      <td>0.035203</td>\n",
       "      <td>0.0</td>\n",
       "    </tr>\n",
       "    <tr>\n",
       "      <th>num_diff_vals</th>\n",
       "      <td>9094</td>\n",
       "      <td>17</td>\n",
       "      <td>100</td>\n",
       "      <td>3110</td>\n",
       "      <td>1051</td>\n",
       "      <td>364</td>\n",
       "      <td>3</td>\n",
       "      <td>1</td>\n",
       "      <td>168</td>\n",
       "      <td>44424</td>\n",
       "      <td>101</td>\n",
       "      <td>10896</td>\n",
       "      <td>852</td>\n",
       "      <td>48288</td>\n",
       "    </tr>\n",
       "    <tr>\n",
       "      <th>diff_vals</th>\n",
       "      <td>[Trần Đặng Đăng Khoa, Trần Hồng Ngọc, Lê Quang...</td>\n",
       "      <td>[Bìa mềm, Bìa Da, Bìa cứng, Bìa gập, Bìa rời, ...</td>\n",
       "      <td>[Du ký, Light novel, Phê Bình - Lý Luận Văn Họ...</td>\n",
       "      <td>[Khánh Vân, Phan Quang, Nguyễn Thị Bạch Tuyết,...</td>\n",
       "      <td>[13 x 20, 14,5 x 20,5 cm, 13.5 x 20.5 cm, 15 x...</td>\n",
       "      <td>[bìa mềm, BÌA MỀM, Tiếng Việt, Tặng kèm bookma...</td>\n",
       "      <td>[instock, backorder, preorder]</td>\n",
       "      <td>[Sách không còn kèm CD mà thay bằng ứng dụng t...</td>\n",
       "      <td>[NXB Trẻ, Nhà Xuất Bản Lao Động, Nhà Xuất Bản ...</td>\n",
       "      <td>[1111 - Nhật Ký Sáu Vạn Dặm Trên Yên Xe Cà Tàn...</td>\n",
       "      <td>[Nhà Sách Tiki/Sách tiếng Việt/Sách văn học/Du...</td>\n",
       "      <td>[2022-11-10 00:00:00, 2022-11-11 17:44:46, 202...</td>\n",
       "      <td>[NXB Trẻ, Chibooks, Văn Lang, Edibooks, NXB Ph...</td>\n",
       "      <td>[https://tiki.vn/product-p204317934.html?spid=...</td>\n",
       "    </tr>\n",
       "  </tbody>\n",
       "</table>\n",
       "</div>"
      ],
      "text/plain": [
       "                                                         authors  \\\n",
       "missing_ratio                                          48.804125   \n",
       "num_diff_vals                                               9094   \n",
       "diff_vals      [Trần Đặng Đăng Khoa, Trần Hồng Ngọc, Lê Quang...   \n",
       "\n",
       "                                                      book_cover  \\\n",
       "missing_ratio                                          35.358555   \n",
       "num_diff_vals                                                 17   \n",
       "diff_vals      [Bìa mềm, Bìa Da, Bìa cứng, Bìa gập, Bìa rời, ...   \n",
       "\n",
       "                                                      categories  \\\n",
       "missing_ratio                                                0.0   \n",
       "num_diff_vals                                                100   \n",
       "diff_vals      [Du ký, Light novel, Phê Bình - Lý Luận Văn Họ...   \n",
       "\n",
       "                                                        dich_gia  \\\n",
       "missing_ratio                                          85.686774   \n",
       "num_diff_vals                                               3110   \n",
       "diff_vals      [Khánh Vân, Phan Quang, Nguyễn Thị Bạch Tuyết,...   \n",
       "\n",
       "                                                      dimensions  \\\n",
       "missing_ratio                                          82.744197   \n",
       "num_diff_vals                                               1051   \n",
       "diff_vals      [13 x 20, 14,5 x 20,5 cm, 13.5 x 20.5 cm, 15 x...   \n",
       "\n",
       "                                                         edition  \\\n",
       "missing_ratio                                          96.931105   \n",
       "num_diff_vals                                                364   \n",
       "diff_vals      [bìa mềm, BÌA MỀM, Tiếng Việt, Tặng kèm bookma...   \n",
       "\n",
       "                               inventory_type  \\\n",
       "missing_ratio                             0.0   \n",
       "num_diff_vals                               3   \n",
       "diff_vals      [instock, backorder, preorder]   \n",
       "\n",
       "                                                           luu_y  \\\n",
       "missing_ratio                                          99.995858   \n",
       "num_diff_vals                                                  1   \n",
       "diff_vals      [Sách không còn kèm CD mà thay bằng ứng dụng t...   \n",
       "\n",
       "                                                    manufacturer  \\\n",
       "missing_ratio                                           0.550827   \n",
       "num_diff_vals                                                168   \n",
       "diff_vals      [NXB Trẻ, Nhà Xuất Bản Lao Động, Nhà Xuất Bản ...   \n",
       "\n",
       "                                                            name  \\\n",
       "missing_ratio                                                0.0   \n",
       "num_diff_vals                                              44424   \n",
       "diff_vals      [1111 - Nhật Ký Sáu Vạn Dặm Trên Yên Xe Cà Tàn...   \n",
       "\n",
       "                                           productset_group_name  \\\n",
       "missing_ratio                                                0.0   \n",
       "num_diff_vals                                                101   \n",
       "diff_vals      [Nhà Sách Tiki/Sách tiếng Việt/Sách văn học/Du...   \n",
       "\n",
       "                                                publication_date  \\\n",
       "missing_ratio                                          61.158394   \n",
       "num_diff_vals                                              10896   \n",
       "diff_vals      [2022-11-10 00:00:00, 2022-11-11 17:44:46, 202...   \n",
       "\n",
       "                                                    publisher_vn  \\\n",
       "missing_ratio                                           0.035203   \n",
       "num_diff_vals                                                852   \n",
       "diff_vals      [NXB Trẻ, Chibooks, Văn Lang, Edibooks, NXB Ph...   \n",
       "\n",
       "                                                       short_url  \n",
       "missing_ratio                                                0.0  \n",
       "num_diff_vals                                              48288  \n",
       "diff_vals      [https://tiki.vn/product-p204317934.html?spid=...  "
      ]
     },
     "execution_count": 136,
     "metadata": {},
     "output_type": "execute_result"
    }
   ],
   "source": [
    "cate_cols = set(df.columns) - set(numeric_cols)\n",
    "cate_profiles = {'missing_ratio': df[cate_cols].isna().sum() * 100.0/len(df[cate_cols]),\n",
    "               #   'zero_values_ratio':  df[cate_cols].eq(0).sum(axis=1) * 100.0/len(df[cate_cols]),\n",
    "                      'num_diff_vals': df[cate_cols].nunique(dropna=True),\n",
    "                      'diff_vals': df[cate_cols].stack(dropna=True).groupby(level=[1]).unique(),\n",
    "                      }\n",
    "cate_col_profiles_df = pd.DataFrame(cate_profiles).transpose()\n",
    "cate_col_profiles_df"
   ]
  },
  {
   "cell_type": "code",
   "execution_count": 137,
   "metadata": {},
   "outputs": [
    {
     "data": {
      "text/plain": [
       "array(['Du ký', 'Light novel', 'Phê Bình - Lý Luận Văn Học',\n",
       "       'Phóng sự - Ký sự - Bút ký', 'Tác phẩm kinh điển', 'Thơ',\n",
       "       'Tiểu sử - Hồi ký', 'Tiểu Thuyết',\n",
       "       'Truyện Giả tưởng - Huyền Bí - Phiêu Lưu', 'Tranh Truyện',\n",
       "       'Truyện cổ tích - Ngụ ngôn', 'Truyện cười', 'Truyện dài',\n",
       "       'Bài học kinh doanh', 'Truyện đam mỹ', 'Truyện kiếm hiệp',\n",
       "       'Truyện kinh dị', 'Truyện ngắn - Tản văn - Tạp Văn',\n",
       "       'Truyện ngôn tình', 'Truyện trinh thám', 'Ca dao - Tục ngữ',\n",
       "       'Sách ảnh', 'Sách doanh nhân', 'Sách khởi nghiệp',\n",
       "       'Sách kinh tế học', 'Sách kỹ năng làm việc',\n",
       "       'Sách Marketing - Bán hàng ', 'Sách quản trị, lãnh đạo',\n",
       "       'Sách quản trị nhân lực', 'Sách tài chính, kế toán',\n",
       "       'Sách tài chính, tiền tệ', 'Đạo đức - Kỹ năng sống',\n",
       "       'Kiến thức - Bách khoa', 'Tô màu - Luyện chữ  ', 'Truyện cổ tích',\n",
       "       'Truyện kể cho bé', 'Truyện tranh Ehon', 'Truyện tranh thiếu nhi',\n",
       "       'Văn học thiếu nhi', 'Sách tư duy - Kỹ năng sống',\n",
       "       'Sách nghệ thuật sống đẹp', 'Sách hướng nghiệp - Kỹ năng mềm',\n",
       "       'Sách Thai Giáo', 'Sách Kiến Thức - Kỹ Năng Cho Trẻ',\n",
       "       'Sách Làm Cha Mẹ', 'Sách Dinh Dưỡng - Sức Khỏe Cho Bé',\n",
       "       'Sách Giáo Khoa Cấp 1', 'Sách Giáo Khoa Cấp 2',\n",
       "       'Sách Giáo Khoa Cấp 3', 'Giáo Trình Đại Học - Cao Đẳng',\n",
       "       'Sách Học Tiếng Anh', 'Sách Học Tiếng Nhật', 'Sách Học Tiếng Hàn',\n",
       "       'Sách tham khảo cấp I', 'Sách Học Tiếng Hoa', 'Ngoại Ngữ Khác',\n",
       "       'Sách tham khảo cấp II', 'Sách tham khảo cấp III',\n",
       "       'Sách Luyện Thi Đại Học - Cao Đẳng', 'Thẻ luyện thi',\n",
       "       'Sách chuyên đề', 'Từ Điển Tiếng Anh', 'Từ Điển Tiếng Trung',\n",
       "       'Từ Điển Tiếng Hàn', 'Từ Điển Tiếng Nhật', 'Từ Điển Tiếng Pháp',\n",
       "       'Từ Điển Tiếng Việt', 'Từ Điển Ngôn Ngữ Khác',\n",
       "       'Kiến Thức Bách Khoa', 'Lĩnh vực khác',\n",
       "       'Sách Chiêm Tinh - Horoscope', 'Sách giáo dục',\n",
       "       'Truyện Tranh, Manga, Comic', 'Sách Phong Thủy - Kinh Dịch',\n",
       "       'Triết Học', 'Sách Khoa Học - Kỹ Thuật', 'Lịch Sử Việt Nam',\n",
       "       'Lịch Sử Thế Giới', 'Âm Nhạc - Điện Ảnh', 'Mỹ Thuật - Kiến Trúc',\n",
       "       'Sách Tô Màu Dành Cho Người Lớn', 'Sách Tôn Giáo - Tâm Linh',\n",
       "       'Sách Danh Nhân', 'Sách Địa Danh - Du Lịch',\n",
       "       'Sách Phong Tục - Tập Quán', 'Luật - Văn Bản Luật',\n",
       "       'Lý Luận Chính Trị', 'Sách Nông - Lâm - Ngư Nghiệp',\n",
       "       'Tin Học Văn Phòng', 'Lập Trình', 'Thiết Kế - Đồ Họa',\n",
       "       'Sách Y Học', 'Tạp Chí - Catalogue', 'Sách Tâm Lý Tuổi Teen',\n",
       "       'Sách Hôn Nhân - Giới Tính', 'Chăm sóc sức khỏe',\n",
       "       'May - Thêu - Thời Trang', 'Sách Làm Đẹp', 'Sách Nấu ăn',\n",
       "       'Thể Dục - Thể Thao'], dtype=object)"
      ]
     },
     "execution_count": 137,
     "metadata": {},
     "output_type": "execute_result"
    }
   ],
   "source": [
    "cate_col_profiles_df.loc['diff_vals', 'categories']"
   ]
  },
  {
   "attachments": {},
   "cell_type": "markdown",
   "metadata": {},
   "source": [
    "Chọn ra các features phù hợp/ có ảnh hưởng đến yêu cầu bài toán làm đầu vào cho mô hình "
   ]
  },
  {
   "cell_type": "code",
   "execution_count": 138,
   "metadata": {},
   "outputs": [],
   "source": [
    "cols = ['original_price', 'discount_rate',\n",
    "       'rating_average', 'review_count', 'day_ago_created',\n",
    "       'all_time_quantity_sold', 'number_of_page']\n",
    "# Thêm một vài cột categories có ý nghĩa đối với output\n",
    "cate = ['book_cover', 'categories', 'inventory_type', 'manufacturer', 'publication_date']\n",
    "cols.extend(cate)"
   ]
  },
  {
   "attachments": {},
   "cell_type": "markdown",
   "metadata": {},
   "source": [
    "Xem qua kiểu dữ liệu của các cột"
   ]
  },
  {
   "cell_type": "code",
   "execution_count": 139,
   "metadata": {},
   "outputs": [
    {
     "data": {
      "text/plain": [
       "original_price              int64\n",
       "discount_rate               int64\n",
       "rating_average            float64\n",
       "review_count                int64\n",
       "day_ago_created             int64\n",
       "all_time_quantity_sold      int64\n",
       "number_of_page              int64\n",
       "book_cover                 object\n",
       "categories                 object\n",
       "inventory_type             object\n",
       "manufacturer               object\n",
       "publication_date           object\n",
       "dtype: object"
      ]
     },
     "execution_count": 139,
     "metadata": {},
     "output_type": "execute_result"
    }
   ],
   "source": [
    "df[cols].dtypes"
   ]
  },
  {
   "cell_type": "code",
   "execution_count": 140,
   "metadata": {},
   "outputs": [
    {
     "data": {
      "text/html": [
       "<div>\n",
       "<style scoped>\n",
       "    .dataframe tbody tr th:only-of-type {\n",
       "        vertical-align: middle;\n",
       "    }\n",
       "\n",
       "    .dataframe tbody tr th {\n",
       "        vertical-align: top;\n",
       "    }\n",
       "\n",
       "    .dataframe thead th {\n",
       "        text-align: right;\n",
       "    }\n",
       "</style>\n",
       "<table border=\"1\" class=\"dataframe\">\n",
       "  <thead>\n",
       "    <tr style=\"text-align: right;\">\n",
       "      <th></th>\n",
       "      <th>categories</th>\n",
       "      <th>inventory_type</th>\n",
       "      <th>manufacturer</th>\n",
       "    </tr>\n",
       "  </thead>\n",
       "  <tbody>\n",
       "    <tr>\n",
       "      <th>0</th>\n",
       "      <td>Du ký</td>\n",
       "      <td>instock</td>\n",
       "      <td>NXB Trẻ</td>\n",
       "    </tr>\n",
       "    <tr>\n",
       "      <th>1</th>\n",
       "      <td>Du ký</td>\n",
       "      <td>backorder</td>\n",
       "      <td>NXB Trẻ</td>\n",
       "    </tr>\n",
       "    <tr>\n",
       "      <th>2</th>\n",
       "      <td>Du ký</td>\n",
       "      <td>instock</td>\n",
       "      <td>Nhà Xuất Bản Lao Động</td>\n",
       "    </tr>\n",
       "    <tr>\n",
       "      <th>3</th>\n",
       "      <td>Du ký</td>\n",
       "      <td>backorder</td>\n",
       "      <td>Nhà Xuất Bản Hồng Đức</td>\n",
       "    </tr>\n",
       "    <tr>\n",
       "      <th>4</th>\n",
       "      <td>Du ký</td>\n",
       "      <td>backorder</td>\n",
       "      <td>NXB Trẻ</td>\n",
       "    </tr>\n",
       "    <tr>\n",
       "      <th>...</th>\n",
       "      <td>...</td>\n",
       "      <td>...</td>\n",
       "      <td>...</td>\n",
       "    </tr>\n",
       "    <tr>\n",
       "      <th>48286</th>\n",
       "      <td>Thể Dục - Thể Thao</td>\n",
       "      <td>backorder</td>\n",
       "      <td>Nhà Xuất Bản Hà Nội</td>\n",
       "    </tr>\n",
       "    <tr>\n",
       "      <th>48287</th>\n",
       "      <td>Thể Dục - Thể Thao</td>\n",
       "      <td>backorder</td>\n",
       "      <td>NXB Trẻ</td>\n",
       "    </tr>\n",
       "    <tr>\n",
       "      <th>48288</th>\n",
       "      <td>Thể Dục - Thể Thao</td>\n",
       "      <td>backorder</td>\n",
       "      <td>Nhà Xuất Bản Đại Học Quốc Gia Hà Nội</td>\n",
       "    </tr>\n",
       "    <tr>\n",
       "      <th>48289</th>\n",
       "      <td>Thể Dục - Thể Thao</td>\n",
       "      <td>backorder</td>\n",
       "      <td>Nhà Xuất Bản Thể Thao Và Du Lịch</td>\n",
       "    </tr>\n",
       "    <tr>\n",
       "      <th>48290</th>\n",
       "      <td>Thể Dục - Thể Thao</td>\n",
       "      <td>backorder</td>\n",
       "      <td>nxb thanh nien</td>\n",
       "    </tr>\n",
       "  </tbody>\n",
       "</table>\n",
       "<p>48291 rows × 3 columns</p>\n",
       "</div>"
      ],
      "text/plain": [
       "               categories inventory_type                          manufacturer\n",
       "0                   Du ký        instock                               NXB Trẻ\n",
       "1                   Du ký      backorder                               NXB Trẻ\n",
       "2                   Du ký        instock                 Nhà Xuất Bản Lao Động\n",
       "3                   Du ký      backorder                 Nhà Xuất Bản Hồng Đức\n",
       "4                   Du ký      backorder                               NXB Trẻ\n",
       "...                   ...            ...                                   ...\n",
       "48286  Thể Dục - Thể Thao      backorder                   Nhà Xuất Bản Hà Nội\n",
       "48287  Thể Dục - Thể Thao      backorder                               NXB Trẻ\n",
       "48288  Thể Dục - Thể Thao      backorder  Nhà Xuất Bản Đại Học Quốc Gia Hà Nội\n",
       "48289  Thể Dục - Thể Thao      backorder      Nhà Xuất Bản Thể Thao Và Du Lịch\n",
       "48290  Thể Dục - Thể Thao      backorder                        nxb thanh nien\n",
       "\n",
       "[48291 rows x 3 columns]"
      ]
     },
     "execution_count": 140,
     "metadata": {},
     "output_type": "execute_result"
    }
   ],
   "source": [
    "df[['categories', 'inventory_type', 'manufacturer']] = df[['categories', 'inventory_type', 'manufacturer']].astype(str)\n",
    "df[['categories', 'inventory_type', 'manufacturer']]"
   ]
  },
  {
   "attachments": {},
   "cell_type": "markdown",
   "metadata": {},
   "source": [
    "Cột `publication_date` đang có kiểu dữ liệu là object, ta cũng cần chuyển về datetime cho phù hợp"
   ]
  },
  {
   "cell_type": "code",
   "execution_count": 141,
   "metadata": {},
   "outputs": [],
   "source": [
    "df['publication_date'] = pd.to_datetime(df.publication_date, format = \"%Y-%m-%d %H:%M:%S\", errors = \"coerce\")"
   ]
  },
  {
   "attachments": {},
   "cell_type": "markdown",
   "metadata": {},
   "source": [
    "Có lẽ ta không cần cột này trong đầu vào của mô hình vì cột `day_ago_created` đã có ý nghĩa tương tự"
   ]
  },
  {
   "cell_type": "code",
   "execution_count": 142,
   "metadata": {},
   "outputs": [],
   "source": [
    "cols.remove('publication_date')"
   ]
  },
  {
   "attachments": {},
   "cell_type": "markdown",
   "metadata": {},
   "source": [
    "**Xem một vài phân bố của các đặc trưng, từ đó giúp ta quan sát outliers, độ tập trung của dữ liệu**"
   ]
  },
  {
   "cell_type": "code",
   "execution_count": 143,
   "metadata": {},
   "outputs": [
    {
     "data": {
      "image/png": "[encoded data removed]",
      "text/plain": [
       "<Figure size 1000x1000 with 8 Axes>"
      ]
     },
     "metadata": {},
     "output_type": "display_data"
    }
   ],
   "source": [
    "# df_cont = df.select_dtypes([int,float]) \n",
    "numeric_df = df[set(numeric_cols) - {'id', 'sku'}]\n",
    "\n",
    "fig = plt.figure(figsize=(10, 10))\n",
    "fig.suptitle('Phân bố của các đặc trưng')\n",
    "for i,col in enumerate(numeric_df.columns, 1): \n",
    "    ax = plt.subplot(4,3,i) \n",
    "    sns.boxenplot(data = numeric_df, x=numeric_df[col]) \n",
    "    plt.xlabel(None)\n",
    "    plt.title(col, fontsize='small')\n",
    "    plt.tight_layout(w_pad=3) \n",
    "\n",
    "plt.show() "
   ]
  },
  {
   "attachments": {},
   "cell_type": "markdown",
   "metadata": {},
   "source": [
    "Hầu như các cột dữ liệu đều bị lệch phải (right-skewed)\n",
    "- <font color=bone>*original_price*</font> và <font color=bone>*price*</font> có phân bố khá giống nhau, có vài điểm outliers khá lớn\n",
    "- <font color=bone>*day_ago_created*</font> thì phân bố tập trung trong khoảng 0-500 và giảm dần về 2000\n",
    "- <font color=bone>*rating_average*</font> phân bố khá đồng đều từ 0 đến 5\n",
    "- <font color=bone>*all_time_quantity_sold*</font> phân bố chủ yếu ở giá trị 0, xấp xỉ 0 và rải rác từ 0 đến hơn 30000\n",
    "- <font color=bone>*review_count*</font> cũng tương tự, tuy nhiên nằm rải rác từ 0 đến hơn 6000\n",
    "- <font color=bone>*discount_rate*</font> chủ yếu phân bố từ 0-40 và thưa thớt ở các giá trị rate cao hơn\n",
    "- Riêng với <font color=bone>*number_of_page*</font> có outlier khá \"khủng\" nên ta sẽ xử lý riêng và vẽ lại biểu đồ của cột này"
   ]
  },
  {
   "cell_type": "code",
   "execution_count": 144,
   "metadata": {},
   "outputs": [
    {
     "data": {
      "text/plain": [
       "Text(0.5, 1.0, 'Phân bố của number_of_page sau khi clip các giá trị ngoại lệ')"
      ]
     },
     "execution_count": 144,
     "metadata": {},
     "output_type": "execute_result"
    },
    {
     "data": {
      "image/png": "[encoded data removed]",
      "text/plain": [
       "<Figure size 640x480 with 1 Axes>"
      ]
     },
     "metadata": {},
     "output_type": "display_data"
    }
   ],
   "source": [
    "# ref: https://machinelearningcoban.com/tabml_book/ch_data_processing/process_outliers.html\n",
    "from typing import Tuple\n",
    "from sklearn.base import BaseEstimator, TransformerMixin\n",
    "def find_boundaries(col: pd.Series, whisker_coeff: float = 1.5\n",
    ") -> Tuple[float, float]:\n",
    "    Q1 = col.quantile(0.25)\n",
    "    Q3 = col.quantile(0.75)\n",
    "    IQR = Q3 - Q1\n",
    "    lower = Q1 - whisker_coeff * IQR\n",
    "    upper = Q3 + whisker_coeff * IQR\n",
    "    return lower, upper\n",
    "\n",
    "class BoxplotOutlierClipper(BaseEstimator, TransformerMixin):\n",
    "    def __init__(self, whisker_coeff: float = 1.5):\n",
    "        self.whisker = whisker_coeff\n",
    "        self.lower = None\n",
    "        self.upper = None\n",
    "\n",
    "    def fit(self, X: pd.Series):\n",
    "        self.lower, self.upper = find_boundaries(X, self.whisker)\n",
    "        return self\n",
    "\n",
    "    def transform(self, X):\n",
    "        return X.clip(self.lower, self.upper)\n",
    "\n",
    "numeric_df['number_of_page_clipped'] = BoxplotOutlierClipper().fit_transform(numeric_df['number_of_page'])\n",
    "# print(numeric_df['number_of_page'].sort_values(ascending=False)[30:60])\n",
    "sns.boxplot(data = numeric_df['number_of_page_clipped'].reset_index(drop=True)\n",
    "              , orient='h')\n",
    "plt.title('Phân bố của number_of_page sau khi clip các giá trị ngoại lệ') \n",
    "# plt.xlim(0, 1e4)"
   ]
  },
  {
   "attachments": {},
   "cell_type": "markdown",
   "metadata": {},
   "source": [
    "**Các cột có giá trị thiếu hay không? Nếu thiếu thì xử lý như thế nào?**"
   ]
  },
  {
   "cell_type": "code",
   "execution_count": 145,
   "metadata": {},
   "outputs": [
    {
     "data": {
      "text/plain": [
       "original_price                0\n",
       "discount_rate                 0\n",
       "rating_average                0\n",
       "review_count                  0\n",
       "day_ago_created               0\n",
       "all_time_quantity_sold        0\n",
       "number_of_page                0\n",
       "book_cover                17075\n",
       "categories                    0\n",
       "inventory_type                0\n",
       "manufacturer                  0\n",
       "dtype: int64"
      ]
     },
     "execution_count": 145,
     "metadata": {},
     "output_type": "execute_result"
    }
   ],
   "source": [
    "df[cols].isna().sum()"
   ]
  },
  {
   "attachments": {},
   "cell_type": "markdown",
   "metadata": {},
   "source": [
    "Cột `book_cover` thiếu khá nhiều, ta sẽ xem qua các giá trị của cột này"
   ]
  },
  {
   "cell_type": "code",
   "execution_count": 146,
   "metadata": {},
   "outputs": [
    {
     "data": {
      "text/plain": [
       "Bìa mềm                                     27766\n",
       "Bìa cứng                                     2922\n",
       "Bìa gập                                       366\n",
       "Bìa Da                                         43\n",
       "Bìa rời                                        26\n",
       "B Format Paperback                             22\n",
       "Bìa Da Công Nghiệp Microfiber                  21\n",
       "Box                                            14\n",
       "Boxset                                         12\n",
       "Tùy chọn phiên bản bìa cứng hoặc bìa mềm        9\n",
       "Paperback                                       7\n",
       "Board book                                      2\n",
       "Mix Media Pack                                  2\n",
       "Jigsaw box                                      1\n",
       "Counterpack holds 48 Mini Activity Books        1\n",
       "B-format Paperback                              1\n",
       "Hardcover                                       1\n",
       "Name: book_cover, dtype: int64"
      ]
     },
     "execution_count": 146,
     "metadata": {},
     "output_type": "execute_result"
    }
   ],
   "source": [
    "df['book_cover'].value_counts()"
   ]
  },
  {
   "attachments": {},
   "cell_type": "markdown",
   "metadata": {},
   "source": [
    "Ngoài ra, cột <font color=bone>number_of_page</font> chứa các giá trị 0 cũng khá vô lý (cuốn sách có 0 trang?), một suy đoán cho những giá trị này có thể là do thiếu dữ liệu về số trang nên sẽ mặc định là 0. \n",
    "- Có thể phải bỏ các dòng có giá trị này để tránh thêm vào điểm dữ liệu bất hợp lý?\n",
    "- Một cách khác là điền vào các giá trị theo mật độ xuất hiện của các giá trị đã biết?"
   ]
  },
  {
   "cell_type": "code",
   "execution_count": 147,
   "metadata": {},
   "outputs": [
    {
     "data": {
      "text/html": [
       "<div>\n",
       "<style scoped>\n",
       "    .dataframe tbody tr th:only-of-type {\n",
       "        vertical-align: middle;\n",
       "    }\n",
       "\n",
       "    .dataframe tbody tr th {\n",
       "        vertical-align: top;\n",
       "    }\n",
       "\n",
       "    .dataframe thead th {\n",
       "        text-align: right;\n",
       "    }\n",
       "</style>\n",
       "<table border=\"1\" class=\"dataframe\">\n",
       "  <thead>\n",
       "    <tr style=\"text-align: right;\">\n",
       "      <th></th>\n",
       "      <th>id</th>\n",
       "      <th>sku</th>\n",
       "      <th>name</th>\n",
       "      <th>short_url</th>\n",
       "      <th>book_cover</th>\n",
       "      <th>price</th>\n",
       "      <th>original_price</th>\n",
       "      <th>discount_rate</th>\n",
       "      <th>rating_average</th>\n",
       "      <th>review_count</th>\n",
       "      <th>inventory_type</th>\n",
       "      <th>productset_group_name</th>\n",
       "      <th>day_ago_created</th>\n",
       "      <th>categories</th>\n",
       "      <th>all_time_quantity_sold</th>\n",
       "      <th>authors</th>\n",
       "      <th>publisher_vn</th>\n",
       "      <th>publication_date</th>\n",
       "      <th>dimensions</th>\n",
       "      <th>manufacturer</th>\n",
       "      <th>number_of_page</th>\n",
       "      <th>dich_gia</th>\n",
       "      <th>edition</th>\n",
       "      <th>luu_y</th>\n",
       "    </tr>\n",
       "  </thead>\n",
       "  <tbody>\n",
       "    <tr>\n",
       "      <th>6347</th>\n",
       "      <td>200918645</td>\n",
       "      <td>6858158570594</td>\n",
       "      <td>Sách - Hy vọng mong manh</td>\n",
       "      <td>https://tiki.vn/product-p200918645.html?spid=2...</td>\n",
       "      <td>NaN</td>\n",
       "      <td>144000</td>\n",
       "      <td>158000</td>\n",
       "      <td>9</td>\n",
       "      <td>0.0</td>\n",
       "      <td>0</td>\n",
       "      <td>backorder</td>\n",
       "      <td>Nhà Sách Tiki/Sách tiếng Việt/Sách văn học/Tru...</td>\n",
       "      <td>50</td>\n",
       "      <td>Truyện dài</td>\n",
       "      <td>0</td>\n",
       "      <td>NaN</td>\n",
       "      <td>Nhã Nam</td>\n",
       "      <td>NaT</td>\n",
       "      <td>NaN</td>\n",
       "      <td>Nhà Xuất Bản Hà Nội</td>\n",
       "      <td>0</td>\n",
       "      <td>NaN</td>\n",
       "      <td>NaN</td>\n",
       "      <td>NaN</td>\n",
       "    </tr>\n",
       "    <tr>\n",
       "      <th>10675</th>\n",
       "      <td>77855700</td>\n",
       "      <td>7733640048051</td>\n",
       "      <td>Combo 2 cuốn sách: Sốc sự trỗi dậy của chủ n g...</td>\n",
       "      <td>https://tiki.vn/product-p77855700.html?spid=12...</td>\n",
       "      <td>NaN</td>\n",
       "      <td>290000</td>\n",
       "      <td>290000</td>\n",
       "      <td>0</td>\n",
       "      <td>0.0</td>\n",
       "      <td>0</td>\n",
       "      <td>backorder</td>\n",
       "      <td>Nhà Sách Tiki/Sách tiếng Việt/Sách kinh tế/Bài...</td>\n",
       "      <td>648</td>\n",
       "      <td>Bài học kinh doanh</td>\n",
       "      <td>1</td>\n",
       "      <td>NaN</td>\n",
       "      <td>Nhã Nam</td>\n",
       "      <td>NaT</td>\n",
       "      <td>NaN</td>\n",
       "      <td>Nhà Xuất Bản Thế Giới</td>\n",
       "      <td>0</td>\n",
       "      <td>NaN</td>\n",
       "      <td>NaN</td>\n",
       "      <td>NaN</td>\n",
       "    </tr>\n",
       "    <tr>\n",
       "      <th>40639</th>\n",
       "      <td>90984943</td>\n",
       "      <td>5987615782190</td>\n",
       "      <td>Siêu Phẩm Tranh Tô Màu: Mình Chỉ Là Người Bình...</td>\n",
       "      <td>https://tiki.vn/product-p90984943.html?spid=90...</td>\n",
       "      <td>NaN</td>\n",
       "      <td>103500</td>\n",
       "      <td>103500</td>\n",
       "      <td>0</td>\n",
       "      <td>4.8</td>\n",
       "      <td>44</td>\n",
       "      <td>backorder</td>\n",
       "      <td>Nhà Sách Tiki/Sách tiếng Việt/Điện Ảnh - Nhạc ...</td>\n",
       "      <td>599</td>\n",
       "      <td>Sách Tô Màu Dành Cho Người Lớn</td>\n",
       "      <td>127</td>\n",
       "      <td>NaN</td>\n",
       "      <td>Skybook</td>\n",
       "      <td>NaT</td>\n",
       "      <td>NaN</td>\n",
       "      <td>Nhà Xuất Bản Phụ Nữ Việt Nam</td>\n",
       "      <td>0</td>\n",
       "      <td>NaN</td>\n",
       "      <td>NaN</td>\n",
       "      <td>NaN</td>\n",
       "    </tr>\n",
       "    <tr>\n",
       "      <th>28727</th>\n",
       "      <td>130390308</td>\n",
       "      <td>8323208400892</td>\n",
       "      <td>Combo 4 Cuốn Tiếng Hàn Tổng Hợp Sơ Cấp 1 và 2 ...</td>\n",
       "      <td>https://tiki.vn/product-p130390308.html?spid=1...</td>\n",
       "      <td>NaN</td>\n",
       "      <td>308000</td>\n",
       "      <td>440000</td>\n",
       "      <td>30</td>\n",
       "      <td>5.0</td>\n",
       "      <td>66</td>\n",
       "      <td>instock</td>\n",
       "      <td>Nhà Sách Tiki/Sách tiếng Việt/Sách Học Ngoại N...</td>\n",
       "      <td>414</td>\n",
       "      <td>Sách Học Tiếng Hàn</td>\n",
       "      <td>261</td>\n",
       "      <td>NaN</td>\n",
       "      <td>MCBOOKS</td>\n",
       "      <td>NaT</td>\n",
       "      <td>NaN</td>\n",
       "      <td>Nhà Xuất Bản Đại Học Quốc Gia Hà Nội</td>\n",
       "      <td>0</td>\n",
       "      <td>NaN</td>\n",
       "      <td>NaN</td>\n",
       "      <td>NaN</td>\n",
       "    </tr>\n",
       "    <tr>\n",
       "      <th>41846</th>\n",
       "      <td>198746477</td>\n",
       "      <td>8851510568518</td>\n",
       "      <td>Đức phật và Phật pháp</td>\n",
       "      <td>https://tiki.vn/product-p198746477.html?spid=1...</td>\n",
       "      <td>NaN</td>\n",
       "      <td>216000</td>\n",
       "      <td>250000</td>\n",
       "      <td>14</td>\n",
       "      <td>0.0</td>\n",
       "      <td>0</td>\n",
       "      <td>backorder</td>\n",
       "      <td>Nhà Sách Tiki/Sách tiếng Việt/Sách Tôn Giáo - ...</td>\n",
       "      <td>61</td>\n",
       "      <td>Sách Tôn Giáo - Tâm Linh</td>\n",
       "      <td>20</td>\n",
       "      <td>NaN</td>\n",
       "      <td>Cty Cửu Đức</td>\n",
       "      <td>NaT</td>\n",
       "      <td>NaN</td>\n",
       "      <td>Nhà Xuất Bản Hồng Đức</td>\n",
       "      <td>540</td>\n",
       "      <td>NaN</td>\n",
       "      <td>NaN</td>\n",
       "      <td>NaN</td>\n",
       "    </tr>\n",
       "  </tbody>\n",
       "</table>\n",
       "</div>"
      ],
      "text/plain": [
       "              id            sku  \\\n",
       "6347   200918645  6858158570594   \n",
       "10675   77855700  7733640048051   \n",
       "40639   90984943  5987615782190   \n",
       "28727  130390308  8323208400892   \n",
       "41846  198746477  8851510568518   \n",
       "\n",
       "                                                    name  \\\n",
       "6347                            Sách - Hy vọng mong manh   \n",
       "10675  Combo 2 cuốn sách: Sốc sự trỗi dậy của chủ n g...   \n",
       "40639  Siêu Phẩm Tranh Tô Màu: Mình Chỉ Là Người Bình...   \n",
       "28727  Combo 4 Cuốn Tiếng Hàn Tổng Hợp Sơ Cấp 1 và 2 ...   \n",
       "41846                              Đức phật và Phật pháp   \n",
       "\n",
       "                                               short_url book_cover   price  \\\n",
       "6347   https://tiki.vn/product-p200918645.html?spid=2...        NaN  144000   \n",
       "10675  https://tiki.vn/product-p77855700.html?spid=12...        NaN  290000   \n",
       "40639  https://tiki.vn/product-p90984943.html?spid=90...        NaN  103500   \n",
       "28727  https://tiki.vn/product-p130390308.html?spid=1...        NaN  308000   \n",
       "41846  https://tiki.vn/product-p198746477.html?spid=1...        NaN  216000   \n",
       "\n",
       "       original_price  discount_rate  rating_average  review_count  \\\n",
       "6347           158000              9             0.0             0   \n",
       "10675          290000              0             0.0             0   \n",
       "40639          103500              0             4.8            44   \n",
       "28727          440000             30             5.0            66   \n",
       "41846          250000             14             0.0             0   \n",
       "\n",
       "      inventory_type                              productset_group_name  \\\n",
       "6347       backorder  Nhà Sách Tiki/Sách tiếng Việt/Sách văn học/Tru...   \n",
       "10675      backorder  Nhà Sách Tiki/Sách tiếng Việt/Sách kinh tế/Bài...   \n",
       "40639      backorder  Nhà Sách Tiki/Sách tiếng Việt/Điện Ảnh - Nhạc ...   \n",
       "28727        instock  Nhà Sách Tiki/Sách tiếng Việt/Sách Học Ngoại N...   \n",
       "41846      backorder  Nhà Sách Tiki/Sách tiếng Việt/Sách Tôn Giáo - ...   \n",
       "\n",
       "       day_ago_created                      categories  \\\n",
       "6347                50                      Truyện dài   \n",
       "10675              648              Bài học kinh doanh   \n",
       "40639              599  Sách Tô Màu Dành Cho Người Lớn   \n",
       "28727              414              Sách Học Tiếng Hàn   \n",
       "41846               61        Sách Tôn Giáo - Tâm Linh   \n",
       "\n",
       "       all_time_quantity_sold authors publisher_vn publication_date  \\\n",
       "6347                        0     NaN      Nhã Nam              NaT   \n",
       "10675                       1     NaN      Nhã Nam              NaT   \n",
       "40639                     127     NaN      Skybook              NaT   \n",
       "28727                     261     NaN      MCBOOKS              NaT   \n",
       "41846                      20     NaN  Cty Cửu Đức              NaT   \n",
       "\n",
       "      dimensions                          manufacturer  number_of_page  \\\n",
       "6347         NaN                   Nhà Xuất Bản Hà Nội               0   \n",
       "10675        NaN                 Nhà Xuất Bản Thế Giới               0   \n",
       "40639        NaN          Nhà Xuất Bản Phụ Nữ Việt Nam               0   \n",
       "28727        NaN  Nhà Xuất Bản Đại Học Quốc Gia Hà Nội               0   \n",
       "41846        NaN                 Nhà Xuất Bản Hồng Đức             540   \n",
       "\n",
       "      dich_gia edition luu_y  \n",
       "6347       NaN     NaN   NaN  \n",
       "10675      NaN     NaN   NaN  \n",
       "40639      NaN     NaN   NaN  \n",
       "28727      NaN     NaN   NaN  \n",
       "41846      NaN     NaN   NaN  "
      ]
     },
     "execution_count": 147,
     "metadata": {},
     "output_type": "execute_result"
    }
   ],
   "source": [
    "df[df['book_cover'].isna()].sample(5)"
   ]
  },
  {
   "attachments": {},
   "cell_type": "markdown",
   "metadata": {},
   "source": [
    "Thay các giá trị 0 thành nan để phục vụ cho giai đoạn xử lý missing value "
   ]
  },
  {
   "cell_type": "code",
   "execution_count": 148,
   "metadata": {},
   "outputs": [],
   "source": [
    "df['number_of_page'].replace(0, np.nan, inplace=True)"
   ]
  },
  {
   "attachments": {},
   "cell_type": "markdown",
   "metadata": {},
   "source": [
    "### **Xử lý các giá trị ngoại lệ**"
   ]
  },
  {
   "cell_type": "code",
   "execution_count": 149,
   "metadata": {},
   "outputs": [],
   "source": [
    "df['number_of_page'] = BoxplotOutlierClipper().fit_transform(df['number_of_page'])"
   ]
  },
  {
   "cell_type": "code",
   "execution_count": 150,
   "metadata": {},
   "outputs": [],
   "source": [
    "features = df[cols].copy()"
   ]
  },
  {
   "attachments": {},
   "cell_type": "markdown",
   "metadata": {},
   "source": [
    "#### **Phân chia tập train/val/test**"
   ]
  },
  {
   "cell_type": "code",
   "execution_count": 151,
   "metadata": {},
   "outputs": [],
   "source": [
    "x_df = features[set(cols) - {'discount_rate'}]\n",
    "y_df = features['discount_rate']\n",
    "\n",
    "x_train, x_test, y_train, y_test = train_test_split(x_df, y_df, test_size=0.2, random_state=5) # Tách tập test/train\n",
    "# x_train, x_val, y_train, y_val = train_test_split(x_train, y_train, test_size=0.2, random_state=5) # Tách tập train/val từ tập train\n"
   ]
  },
  {
   "attachments": {},
   "cell_type": "markdown",
   "metadata": {},
   "source": [
    "#### **Pipeline cho bước tiền xử lý**"
   ]
  },
  {
   "cell_type": "code",
   "execution_count": 152,
   "metadata": {},
   "outputs": [],
   "source": [
    "# df['book_cover'].fillna('Không có bìa', inplace=True)\n",
    "cate = [ 'book_cover', 'categories','inventory_type', 'manufacturer']\n",
    "nume = ['original_price', 'rating_average', 'review_count', 'day_ago_created','all_time_quantity_sold',\n",
    "        'number_of_page']\n",
    "\n",
    "# Pipeline xử lý cho các cột category\n",
    "cate_transformer = Pipeline(steps= [('imputer', SimpleImputer(strategy='most_frequent')), # Thay thế missing value bằng giá trị có tần suất xuất hiện cao\n",
    "                               ('OneHotEncoder', OneHotEncoder(handle_unknown='ignore'))]) # biểu diễn one hot cho các cột category\n",
    "                                                                                # đối với các giá trị mà model chưa từng thấy bao giờ (trong tập test) thì ta bỏ qua\n",
    "# Pipeline xử lý cho các cột numeric\n",
    "nume_transfomer = Pipeline(steps= [('imputer', KNNImputer(n_neighbors=10)), # thay thế missing value bằng thuật toán k-nearest với số lượng láng giềng là 10\n",
    "                                   ('scaler', MinMaxScaler())])  # scale các giá trị về miền giá trị trong khoảng 0 đến 1 \n",
    "\n",
    "# Pipeline cho bước tiền xử lý chung \n",
    "preprocessor = ColumnTransformer(transformers=[('cate_transformer', cate_transformer, cate),\n",
    "                                                ('nume_transfomer',nume_transfomer, nume)])"
   ]
  },
  {
   "attachments": {},
   "cell_type": "markdown",
   "metadata": {},
   "source": [
    "## **5. Huấn luyện mô hình**"
   ]
  },
  {
   "attachments": {},
   "cell_type": "markdown",
   "metadata": {},
   "source": [
    "#### **Linear Regression**"
   ]
  },
  {
   "cell_type": "code",
   "execution_count": 153,
   "metadata": {},
   "outputs": [],
   "source": [
    "model = LinearRegression()\n",
    "lr_pl = Pipeline(steps=[('preprocessor', preprocessor),\n",
    "                                ('linear_regression', model)])\n",
    "\n",
    "\n",
    "lr_pl.fit(x_train, y_train)\n",
    "y_train_pred = lr_pl.predict(x_train)"
   ]
  },
  {
   "cell_type": "code",
   "execution_count": 154,
   "metadata": {},
   "outputs": [],
   "source": [
    "y_test_pred = lr_pl.predict(x_test)"
   ]
  },
  {
   "cell_type": "code",
   "execution_count": 155,
   "metadata": {},
   "outputs": [
    {
     "name": "stdout",
     "output_type": "stream",
     "text": [
      "Train set: [MSE: 108.656, MAE: 8.093]\n",
      "Test set: [MSE: 109.089, MAE: 8.093]\n"
     ]
    }
   ],
   "source": [
    "print(f'Train set: [MSE: {mean_squared_error(y_train, y_train_pred):.3f}, MAE: {mean_absolute_error(y_train, y_train_pred):.3f}]')\n",
    "print(f'Test set: [MSE: {mean_squared_error(y_test, y_test_pred):.3f}, MAE: {mean_absolute_error(y_test, y_test_pred):.3f}]')\n"
   ]
  },
  {
   "attachments": {},
   "cell_type": "markdown",
   "metadata": {},
   "source": [
    "Mô hình này cho ra độ lỗi khá tốt"
   ]
  },
  {
   "attachments": {},
   "cell_type": "markdown",
   "metadata": {},
   "source": [
    "#### **Cross validation**"
   ]
  },
  {
   "cell_type": "code",
   "execution_count": 156,
   "metadata": {},
   "outputs": [],
   "source": [
    "# Xác định KFold\n",
    "# cv = RepeatedStratifiedKFold(n_splits=10, n_repeats=3, random_state=1)\n",
    "cv = KFold(n_splits = 5, shuffle = True, random_state = 100)\n",
    "\n",
    "cv_pl = Pipeline(\n",
    "    steps=[(\"preprocessor\", preprocessor), ('regression', LinearRegression())])\n",
    "\n",
    "scores_cv = cross_validate(cv_pl, x_train, y_train, scoring=['neg_mean_absolute_error','neg_mean_squared_error'], \n",
    "                           cv=cv, error_score='raise')\n",
    " "
   ]
  },
  {
   "cell_type": "code",
   "execution_count": 157,
   "metadata": {},
   "outputs": [
    {
     "data": {
      "text/plain": [
       "{'fit_time': array([21.32269502, 21.20814848, 21.15967679, 21.05442786, 21.22999907]),\n",
       " 'score_time': array([5.0442698 , 5.22315907, 5.15110135, 5.13811898, 5.08177447]),\n",
       " 'test_neg_mean_absolute_error': array([-8.09780729, -8.14291943, -8.14661257, -8.26680874, -8.13795453]),\n",
       " 'test_neg_mean_squared_error': array([-107.44886289, -110.21544083, -111.09801375, -111.47541862,\n",
       "        -112.0272968 ])}"
      ]
     },
     "execution_count": 157,
     "metadata": {},
     "output_type": "execute_result"
    }
   ],
   "source": [
    "scores_cv"
   ]
  },
  {
   "cell_type": "code",
   "execution_count": 158,
   "metadata": {},
   "outputs": [
    {
     "name": "stdout",
     "output_type": "stream",
     "text": [
      "Mean NMAE: -8.158, Std: 0.057\n",
      "Mean NMSE: -110.453, Std: 1.614\n"
     ]
    }
   ],
   "source": [
    "print('Mean NMAE: {:.03f}, Std: {:.03f}'\n",
    "      .format(np.mean(scores_cv['test_neg_mean_absolute_error'], dtype=np.float64), np.std(scores_cv['test_neg_mean_absolute_error'])))\n",
    "print('Mean NMSE: {:.03f}, Std: {:.03f}'\n",
    "      .format(np.mean(scores_cv['test_neg_mean_squared_error'], dtype=np.float64), np.std(scores_cv['test_neg_mean_squared_error'])))"
   ]
  },
  {
   "attachments": {},
   "cell_type": "markdown",
   "metadata": {},
   "source": [
    "#### **Đánh giá nhiều mô hình với nhiều metric khác nhau**"
   ]
  },
  {
   "cell_type": "code",
   "execution_count": 159,
   "metadata": {},
   "outputs": [
    {
     "name": "stdout",
     "output_type": "stream",
     "text": [
      "LinearRegression() done!\n",
      "RandomForestRegressor() done!\n",
      "GradientBoostingRegressor() done!\n",
      "TransformedTargetRegressor() done!\n"
     ]
    }
   ],
   "source": [
    "models = [LinearRegression(), RandomForestRegressor(), GradientBoostingRegressor(), TransformedTargetRegressor()]\n",
    "\n",
    "# cv = RepeatedStratifiedKFold(n_splits=10, n_repeats=3, random_state=1)\n",
    "cv = KFold(n_splits = 5, shuffle = True, random_state = 100)\n",
    "\n",
    "all_scores = []\n",
    "metric = ['neg_mean_squared_error', 'neg_mean_absolute_error', 'neg_root_mean_squared_error', 'neg_mean_absolute_percentage_error']\n",
    "# Đánh giá toàn bộ các mô hình trên tập K-Fold đã chia\n",
    "for model in models:\n",
    "  multi_model_pl = Pipeline(\n",
    "    steps=[(\"preprocessor\", preprocessor), ('regression', model)]\n",
    "  )\n",
    "\n",
    "  scores = cross_validate(multi_model_pl, x_train, y_train, scoring=metric, cv=cv)\n",
    "  print(str(model) + ' done!')\n",
    "  all_scores.append(scores)"
   ]
  },
  {
   "cell_type": "code",
   "execution_count": 160,
   "metadata": {},
   "outputs": [
    {
     "data": {
      "text/html": [
       "<div>\n",
       "<style scoped>\n",
       "    .dataframe tbody tr th:only-of-type {\n",
       "        vertical-align: middle;\n",
       "    }\n",
       "\n",
       "    .dataframe tbody tr th {\n",
       "        vertical-align: top;\n",
       "    }\n",
       "\n",
       "    .dataframe thead th {\n",
       "        text-align: right;\n",
       "    }\n",
       "</style>\n",
       "<table border=\"1\" class=\"dataframe\">\n",
       "  <thead>\n",
       "    <tr style=\"text-align: right;\">\n",
       "      <th></th>\n",
       "      <th>fit_time</th>\n",
       "      <th>score_time</th>\n",
       "      <th>test_neg_mean_squared_error</th>\n",
       "      <th>test_neg_mean_absolute_error</th>\n",
       "      <th>test_neg_root_mean_squared_error</th>\n",
       "      <th>test_neg_mean_absolute_percentage_error</th>\n",
       "    </tr>\n",
       "  </thead>\n",
       "  <tbody>\n",
       "    <tr>\n",
       "      <th>0</th>\n",
       "      <td>[21.265028476715088, 21.407465934753418, 21.34...</td>\n",
       "      <td>[5.1576128005981445, 5.215100526809692, 5.1141...</td>\n",
       "      <td>[-107.44886289396524, -110.21544082960116, -11...</td>\n",
       "      <td>[-8.097807285939364, -8.142919430442728, -8.14...</td>\n",
       "      <td>[-10.365754333089573, -10.498354196234816, -10...</td>\n",
       "      <td>[-1.5898539144158372e+16, -1.5981910727277648e...</td>\n",
       "    </tr>\n",
       "    <tr>\n",
       "      <th>1</th>\n",
       "      <td>[198.69463276863098, 195.0876293182373, 198.01...</td>\n",
       "      <td>[5.294825077056885, 5.441352844238281, 5.66604...</td>\n",
       "      <td>[-84.03725515270729, -83.4268322912946, -88.15...</td>\n",
       "      <td>[-6.585242854062154, -6.547787710918746, -6.70...</td>\n",
       "      <td>[-9.167183599814464, -9.133829004929675, -9.38...</td>\n",
       "      <td>[-1.142358524208342e+16, -1.174745446331924e+1...</td>\n",
       "    </tr>\n",
       "    <tr>\n",
       "      <th>2</th>\n",
       "      <td>[25.13448143005371, 25.29457449913025, 25.4351...</td>\n",
       "      <td>[5.076120376586914, 5.283234596252441, 5.16953...</td>\n",
       "      <td>[-107.65843259174753, -108.48024760314328, -10...</td>\n",
       "      <td>[-8.316522055700643, -8.323245186828705, -8.36...</td>\n",
       "      <td>[-10.375858161701496, -10.415385139453235, -10...</td>\n",
       "      <td>[-1.6283554341251592e+16, -1.652765471495658e+...</td>\n",
       "    </tr>\n",
       "    <tr>\n",
       "      <th>3</th>\n",
       "      <td>[21.226370334625244, 21.36617112159729, 21.120...</td>\n",
       "      <td>[5.1163880825042725, 5.161198616027832, 5.1090...</td>\n",
       "      <td>[-107.44886289396524, -110.21544082960116, -11...</td>\n",
       "      <td>[-8.097807285939364, -8.142919430442728, -8.14...</td>\n",
       "      <td>[-10.365754333089573, -10.498354196234816, -10...</td>\n",
       "      <td>[-1.5898539144158372e+16, -1.5981910727277648e...</td>\n",
       "    </tr>\n",
       "  </tbody>\n",
       "</table>\n",
       "</div>"
      ],
      "text/plain": [
       "                                            fit_time  \\\n",
       "0  [21.265028476715088, 21.407465934753418, 21.34...   \n",
       "1  [198.69463276863098, 195.0876293182373, 198.01...   \n",
       "2  [25.13448143005371, 25.29457449913025, 25.4351...   \n",
       "3  [21.226370334625244, 21.36617112159729, 21.120...   \n",
       "\n",
       "                                          score_time  \\\n",
       "0  [5.1576128005981445, 5.215100526809692, 5.1141...   \n",
       "1  [5.294825077056885, 5.441352844238281, 5.66604...   \n",
       "2  [5.076120376586914, 5.283234596252441, 5.16953...   \n",
       "3  [5.1163880825042725, 5.161198616027832, 5.1090...   \n",
       "\n",
       "                         test_neg_mean_squared_error  \\\n",
       "0  [-107.44886289396524, -110.21544082960116, -11...   \n",
       "1  [-84.03725515270729, -83.4268322912946, -88.15...   \n",
       "2  [-107.65843259174753, -108.48024760314328, -10...   \n",
       "3  [-107.44886289396524, -110.21544082960116, -11...   \n",
       "\n",
       "                        test_neg_mean_absolute_error  \\\n",
       "0  [-8.097807285939364, -8.142919430442728, -8.14...   \n",
       "1  [-6.585242854062154, -6.547787710918746, -6.70...   \n",
       "2  [-8.316522055700643, -8.323245186828705, -8.36...   \n",
       "3  [-8.097807285939364, -8.142919430442728, -8.14...   \n",
       "\n",
       "                    test_neg_root_mean_squared_error  \\\n",
       "0  [-10.365754333089573, -10.498354196234816, -10...   \n",
       "1  [-9.167183599814464, -9.133829004929675, -9.38...   \n",
       "2  [-10.375858161701496, -10.415385139453235, -10...   \n",
       "3  [-10.365754333089573, -10.498354196234816, -10...   \n",
       "\n",
       "             test_neg_mean_absolute_percentage_error  \n",
       "0  [-1.5898539144158372e+16, -1.5981910727277648e...  \n",
       "1  [-1.142358524208342e+16, -1.174745446331924e+1...  \n",
       "2  [-1.6283554341251592e+16, -1.652765471495658e+...  \n",
       "3  [-1.5898539144158372e+16, -1.5981910727277648e...  "
      ]
     },
     "execution_count": 160,
     "metadata": {},
     "output_type": "execute_result"
    }
   ],
   "source": [
    "all_scores_df = pd.DataFrame(all_scores)\n",
    "# os.mkdir('./evaluating')\n",
    "all_scores_df.to_csv('../evaluating/all_scores.csv', index_label=False)\n",
    "all_scores_df.head()"
   ]
  },
  {
   "attachments": {},
   "cell_type": "markdown",
   "metadata": {},
   "source": [
    "Tính mean và standard deviation của từng giá trị trong `all_scores_df`"
   ]
  },
  {
   "cell_type": "code",
   "execution_count": 161,
   "metadata": {},
   "outputs": [
    {
     "data": {
      "text/html": [
       "<div>\n",
       "<style scoped>\n",
       "    .dataframe tbody tr th:only-of-type {\n",
       "        vertical-align: middle;\n",
       "    }\n",
       "\n",
       "    .dataframe tbody tr th {\n",
       "        vertical-align: top;\n",
       "    }\n",
       "\n",
       "    .dataframe thead th {\n",
       "        text-align: right;\n",
       "    }\n",
       "</style>\n",
       "<table border=\"1\" class=\"dataframe\">\n",
       "  <thead>\n",
       "    <tr style=\"text-align: right;\">\n",
       "      <th></th>\n",
       "      <th>fit_time</th>\n",
       "      <th>score_time</th>\n",
       "      <th>test_neg_mean_squared_error</th>\n",
       "      <th>test_neg_mean_absolute_error</th>\n",
       "      <th>test_neg_root_mean_squared_error</th>\n",
       "      <th>test_neg_mean_absolute_percentage_error</th>\n",
       "    </tr>\n",
       "  </thead>\n",
       "  <tbody>\n",
       "    <tr>\n",
       "      <th>LinearRegression</th>\n",
       "      <td>(21.26108589172363, 0.10672700660664831)</td>\n",
       "      <td>(5.157839012145996, 0.05481046223420004)</td>\n",
       "      <td>(-110.45300657878252, 1.6137575463328362)</td>\n",
       "      <td>(-8.15842051368069, 0.05695707030104924)</td>\n",
       "      <td>(-10.50937992310838, 0.077072761394665)</td>\n",
       "      <td>(-1.5835003223297856e+16, 318908958653418.75)</td>\n",
       "    </tr>\n",
       "    <tr>\n",
       "      <th>RandomForestRegressor</th>\n",
       "      <td>(197.7618579864502, 1.3602663130030668)</td>\n",
       "      <td>(5.451717185974121, 0.1207729781962087)</td>\n",
       "      <td>(-85.34594751810144, 1.7928897536019563)</td>\n",
       "      <td>(-6.625639258505643, 0.05519103253957648)</td>\n",
       "      <td>(-9.237780029323428, 0.09678661030684575)</td>\n",
       "      <td>(-1.1593199437449684e+16, 220496994003945.66)</td>\n",
       "    </tr>\n",
       "    <tr>\n",
       "      <th>GradientBoostingRegressor</th>\n",
       "      <td>(25.22551589012146, 0.1343232975688086)</td>\n",
       "      <td>(5.165443801879883, 0.06721225715013691)</td>\n",
       "      <td>(-109.43036215433676, 1.1836446839293895)</td>\n",
       "      <td>(-8.372662693361198, 0.054265532354632676)</td>\n",
       "      <td>(-10.460743550808306, 0.05662612965049182)</td>\n",
       "      <td>(-1.6376414272568394e+16, 193006170269138.1)</td>\n",
       "    </tr>\n",
       "    <tr>\n",
       "      <th>TransformedTargetRegressor</th>\n",
       "      <td>(21.28240180015564, 0.27061145817285737)</td>\n",
       "      <td>(5.148399448394775, 0.04020287558776939)</td>\n",
       "      <td>(-110.45300657878252, 1.6137575463328362)</td>\n",
       "      <td>(-8.15842051368069, 0.05695707030104924)</td>\n",
       "      <td>(-10.50937992310838, 0.077072761394665)</td>\n",
       "      <td>(-1.5835003223297856e+16, 318908958653418.75)</td>\n",
       "    </tr>\n",
       "  </tbody>\n",
       "</table>\n",
       "</div>"
      ],
      "text/plain": [
       "                                                            fit_time  \\\n",
       "LinearRegression            (21.26108589172363, 0.10672700660664831)   \n",
       "RandomForestRegressor        (197.7618579864502, 1.3602663130030668)   \n",
       "GradientBoostingRegressor    (25.22551589012146, 0.1343232975688086)   \n",
       "TransformedTargetRegressor  (21.28240180015564, 0.27061145817285737)   \n",
       "\n",
       "                                                          score_time  \\\n",
       "LinearRegression            (5.157839012145996, 0.05481046223420004)   \n",
       "RandomForestRegressor        (5.451717185974121, 0.1207729781962087)   \n",
       "GradientBoostingRegressor   (5.165443801879883, 0.06721225715013691)   \n",
       "TransformedTargetRegressor  (5.148399448394775, 0.04020287558776939)   \n",
       "\n",
       "                                          test_neg_mean_squared_error  \\\n",
       "LinearRegression            (-110.45300657878252, 1.6137575463328362)   \n",
       "RandomForestRegressor        (-85.34594751810144, 1.7928897536019563)   \n",
       "GradientBoostingRegressor   (-109.43036215433676, 1.1836446839293895)   \n",
       "TransformedTargetRegressor  (-110.45300657878252, 1.6137575463328362)   \n",
       "\n",
       "                                          test_neg_mean_absolute_error  \\\n",
       "LinearRegression              (-8.15842051368069, 0.05695707030104924)   \n",
       "RandomForestRegressor        (-6.625639258505643, 0.05519103253957648)   \n",
       "GradientBoostingRegressor   (-8.372662693361198, 0.054265532354632676)   \n",
       "TransformedTargetRegressor    (-8.15842051368069, 0.05695707030104924)   \n",
       "\n",
       "                                      test_neg_root_mean_squared_error  \\\n",
       "LinearRegression               (-10.50937992310838, 0.077072761394665)   \n",
       "RandomForestRegressor        (-9.237780029323428, 0.09678661030684575)   \n",
       "GradientBoostingRegressor   (-10.460743550808306, 0.05662612965049182)   \n",
       "TransformedTargetRegressor     (-10.50937992310838, 0.077072761394665)   \n",
       "\n",
       "                                  test_neg_mean_absolute_percentage_error  \n",
       "LinearRegression            (-1.5835003223297856e+16, 318908958653418.75)  \n",
       "RandomForestRegressor       (-1.1593199437449684e+16, 220496994003945.66)  \n",
       "GradientBoostingRegressor    (-1.6376414272568394e+16, 193006170269138.1)  \n",
       "TransformedTargetRegressor  (-1.5835003223297856e+16, 318908958653418.75)  "
      ]
     },
     "execution_count": 161,
     "metadata": {},
     "output_type": "execute_result"
    }
   ],
   "source": [
    "models = ['LinearRegression', 'RandomForestRegressor', 'GradientBoostingRegressor', 'TransformedTargetRegressor']\n",
    "def get_mean_std(x):\n",
    "    return x.mean(), x.std()\n",
    "\n",
    "all_scores_df.index = models\n",
    "all_scores_df.applymap(get_mean_std)"
   ]
  },
  {
   "attachments": {},
   "cell_type": "markdown",
   "metadata": {},
   "source": [
    "Dựa vào bảng có thể thấy mô hình <font color=bone>RandomForest</font> cho độ lỗi tốt nhất, tuy nhiên <font color=bone>fit_time</font> và <font color=bone>score_time</font> là cao nhất."
   ]
  },
  {
   "cell_type": "code",
   "execution_count": 162,
   "metadata": {},
   "outputs": [
    {
     "data": {
      "image/png": "[encoded data removed]",
      "text/plain": [
       "<Figure size 2000x2000 with 6 Axes>"
      ]
     },
     "metadata": {},
     "output_type": "display_data"
    }
   ],
   "source": [
    "plt.figure(figsize=(20, 20))\n",
    "plt.suptitle(\"Scores Metrics\")\n",
    "for i,col in enumerate(all_scores_df.columns, 1): \n",
    "    ax = plt.subplot(4,3,i) \n",
    "    sns.boxplot(all_scores_df[col])\n",
    "    plt.title(col, fontsize='small')\n",
    "    # plt.tight_layout(w_pad=3) "
   ]
  },
  {
   "attachments": {},
   "cell_type": "markdown",
   "metadata": {},
   "source": [
    "Vậy mô hình được chọn là: RandomForestRegression"
   ]
  },
  {
   "cell_type": "code",
   "execution_count": 163,
   "metadata": {},
   "outputs": [],
   "source": [
    "rf_pl = Pipeline(\n",
    "    steps=[(\"preprocessor\", preprocessor), ('RandomForestRegression', RandomForestRegressor())])\n",
    "\n",
    "rf_pl.fit(x_train, y_train)\n",
    "y_train_pred = rf_pl.predict(x_train)"
   ]
  },
  {
   "cell_type": "code",
   "execution_count": 164,
   "metadata": {},
   "outputs": [],
   "source": [
    "y_test_pred = rf_pl.predict(x_test)"
   ]
  },
  {
   "cell_type": "code",
   "execution_count": 165,
   "metadata": {},
   "outputs": [
    {
     "name": "stdout",
     "output_type": "stream",
     "text": [
      "Train set: [MSE: 12.337, MAE: 2.444]\n",
      "Test set: [MSE: 81.455, MAE: 6.460]\n"
     ]
    }
   ],
   "source": [
    "print(f'Train set: [MSE: {mean_squared_error(y_train, y_train_pred):.3f}, MAE: {mean_absolute_error(y_train, y_train_pred):.3f}]')\n",
    "print(f'Test set: [MSE: {mean_squared_error(y_test, y_test_pred):.3f}, MAE: {mean_absolute_error(y_test, y_test_pred):.3f}]')"
   ]
  },
  {
   "attachments": {},
   "cell_type": "markdown",
   "metadata": {},
   "source": [
    "Có thể thấy độ lỗi trên tập train và tập test đều cải thiện khá nhiều so với các mô hình trên"
   ]
  },
  {
   "attachments": {},
   "cell_type": "markdown",
   "metadata": {},
   "source": [
    "### **Fine-tuning process**"
   ]
  },
  {
   "attachments": {},
   "cell_type": "markdown",
   "metadata": {},
   "source": [
    "Sử dụng kĩ thuật RandomizedSearchCV()\n",
    "\n",
    "Phương pháp này tìm kiếm ngẫu nhiên trên không gian tham số, kết hợp với KFold và chọn ra bộ tham số tốt nhất cho mô hình. "
   ]
  },
  {
   "cell_type": "code",
   "execution_count": 166,
   "metadata": {},
   "outputs": [],
   "source": [
    "n_estimators = [200 , 400, 600, 800, 1000, 1200] # số lượng cây \n",
    "# max_features = ['auto', 'sqrt'] # cách tính số lượng đặc trưng mỗi lần split\n",
    "max_depth = [int(x) for x in np.linspace(10, 100, num = 10)] # độ sâu tối đa của cây\n",
    "min_samples_split = [2, 6, 10] # số lượng mẫu tối thiểu trong một node\n",
    "min_samples_leaf = [1, 3, 4] # số lượng mẫu tối thiểu trong một node lá\n",
    "bootstrap = [True, False] # cách lấy mẫu (có hoàn lại hay không)\n",
    "\n",
    "random_grid = {'n_estimators': n_estimators,\n",
    "\n",
    "# 'max_features': max_features,\n",
    "\n",
    "'max_depth': max_depth,\n",
    "\n",
    "'min_samples_split': min_samples_split,\n",
    "\n",
    "'min_samples_leaf': min_samples_leaf,\n",
    "\n",
    "'bootstrap': bootstrap}"
   ]
  },
  {
   "cell_type": "code",
   "execution_count": 167,
   "metadata": {},
   "outputs": [
    {
     "name": "stdout",
     "output_type": "stream",
     "text": [
      "Fitting 5 folds for each of 100 candidates, totalling 500 fits\n"
     ]
    }
   ],
   "source": [
    "rf = RandomForestRegressor()\n",
    "\n",
    "rf_random = RandomizedSearchCV(estimator = rf, param_distributions = random_grid, \n",
    "                               scoring='neg_mean_absolute_error', #return_train_score=True,\n",
    "                               n_iter = 100, cv = 5, verbose=2, random_state=10, n_jobs = 10)\n",
    "\n",
    "completed_pl = Pipeline(\n",
    "    steps=[(\"preprocessor\", preprocessor), ('model', rf_random)])\n",
    "\n",
    "completed_pl.fit(x_train, y_train)\n",
    "y_train_pred = completed_pl.predict(x_train)\n"
   ]
  },
  {
   "attachments": {},
   "cell_type": "markdown",
   "metadata": {},
   "source": [
    "Mất gần 10 tiếng để train.. 😅😢"
   ]
  },
  {
   "cell_type": "code",
   "execution_count": 168,
   "metadata": {},
   "outputs": [],
   "source": [
    "y_test_pred = completed_pl.predict(x_test)"
   ]
  },
  {
   "cell_type": "code",
   "execution_count": 169,
   "metadata": {},
   "outputs": [
    {
     "name": "stdout",
     "output_type": "stream",
     "text": [
      "Pipeline(steps=[('preprocessor',\n",
      "                 ColumnTransformer(transformers=[('cate_transformer',\n",
      "                                                  Pipeline(steps=[('imputer',\n",
      "                                                                   SimpleImputer(strategy='most_frequent')),\n",
      "                                                                  ('OneHotEncoder',\n",
      "                                                                   OneHotEncoder(handle_unknown='ignore'))]),\n",
      "                                                  ['book_cover', 'categories',\n",
      "                                                   'inventory_type',\n",
      "                                                   'manufacturer']),\n",
      "                                                 ('nume_transfomer',\n",
      "                                                  Pipeline(steps=[('imputer',\n",
      "                                                                   KNNImputer(n_neighbors=10)),\n",
      "                                                                  ('sc...\n",
      "                 RandomizedSearchCV(cv=5, estimator=RandomForestRegressor(),\n",
      "                                    n_iter=100, n_jobs=10,\n",
      "                                    param_distributions={'bootstrap': [True,\n",
      "                                                                       False],\n",
      "                                                         'max_depth': [10, 20,\n",
      "                                                                       30, 40,\n",
      "                                                                       50, 60,\n",
      "                                                                       70, 80,\n",
      "                                                                       90,\n",
      "                                                                       100],\n",
      "                                                         'min_samples_leaf': [1,\n",
      "                                                                              3,\n",
      "                                                                              4],\n",
      "                                                         'min_samples_split': [2,\n",
      "                                                                               6,\n",
      "                                                                               10],\n",
      "                                                         'n_estimators': [200,\n",
      "                                                                          400,\n",
      "                                                                          600,\n",
      "                                                                          800,\n",
      "                                                                          1000,\n",
      "                                                                          1200]},\n",
      "                                    random_state=10, return_train_score=True,\n",
      "                                    scoring='neg_mean_absolute_error',\n",
      "                                    verbose=2))])\n"
     ]
    }
   ],
   "source": [
    "print(completed_pl)"
   ]
  },
  {
   "attachments": {},
   "cell_type": "markdown",
   "metadata": {},
   "source": [
    "**Siêu tham số cho kết quả tốt nhất là:**"
   ]
  },
  {
   "cell_type": "code",
   "execution_count": 170,
   "metadata": {},
   "outputs": [
    {
     "name": "stdout",
     "output_type": "stream",
     "text": [
      "Random grid:  {'n_estimators': [200, 400, 600, 800, 1000, 1200], 'max_depth': [10, 20, 30, 40, 50, 60, 70, 80, 90, 100], 'min_samples_split': [2, 6, 10], 'min_samples_leaf': [1, 3, 4], 'bootstrap': [True, False]} \n",
      "\n",
      "Best Parameters:  {'n_estimators': 1200, 'min_samples_split': 2, 'min_samples_leaf': 1, 'max_depth': 70, 'bootstrap': True}  \n",
      "\n"
     ]
    }
   ],
   "source": [
    "print ('Random grid: ', random_grid, '\\n')\n",
    "print ('Best Parameters: ', completed_pl['model'].best_params_, ' \\n')"
   ]
  },
  {
   "cell_type": "code",
   "execution_count": 175,
   "metadata": {},
   "outputs": [
    {
     "data": {
      "text/html": [
       "<div>\n",
       "<style scoped>\n",
       "    .dataframe tbody tr th:only-of-type {\n",
       "        vertical-align: middle;\n",
       "    }\n",
       "\n",
       "    .dataframe tbody tr th {\n",
       "        vertical-align: top;\n",
       "    }\n",
       "\n",
       "    .dataframe thead th {\n",
       "        text-align: right;\n",
       "    }\n",
       "</style>\n",
       "<table border=\"1\" class=\"dataframe\">\n",
       "  <thead>\n",
       "    <tr style=\"text-align: right;\">\n",
       "      <th></th>\n",
       "      <th>mean_fit_time</th>\n",
       "      <th>std_fit_time</th>\n",
       "      <th>mean_score_time</th>\n",
       "      <th>std_score_time</th>\n",
       "      <th>param_n_estimators</th>\n",
       "      <th>param_min_samples_split</th>\n",
       "      <th>param_min_samples_leaf</th>\n",
       "      <th>param_max_depth</th>\n",
       "      <th>param_bootstrap</th>\n",
       "      <th>params</th>\n",
       "      <th>split0_test_score</th>\n",
       "      <th>split1_test_score</th>\n",
       "      <th>split2_test_score</th>\n",
       "      <th>split3_test_score</th>\n",
       "      <th>split4_test_score</th>\n",
       "      <th>mean_test_score</th>\n",
       "      <th>std_test_score</th>\n",
       "      <th>rank_test_score</th>\n",
       "      <th>split0_train_score</th>\n",
       "      <th>split1_train_score</th>\n",
       "      <th>split2_train_score</th>\n",
       "      <th>split3_train_score</th>\n",
       "      <th>split4_train_score</th>\n",
       "      <th>mean_train_score</th>\n",
       "      <th>std_train_score</th>\n",
       "    </tr>\n",
       "  </thead>\n",
       "  <tbody>\n",
       "    <tr>\n",
       "      <th>0</th>\n",
       "      <td>1867.801343</td>\n",
       "      <td>34.284947</td>\n",
       "      <td>1.659517</td>\n",
       "      <td>0.043342</td>\n",
       "      <td>800</td>\n",
       "      <td>6</td>\n",
       "      <td>1</td>\n",
       "      <td>50</td>\n",
       "      <td>False</td>\n",
       "      <td>{'n_estimators': 800, 'min_samples_split': 6, ...</td>\n",
       "      <td>-7.547958</td>\n",
       "      <td>-7.483357</td>\n",
       "      <td>-7.611376</td>\n",
       "      <td>-7.507266</td>\n",
       "      <td>-7.387860</td>\n",
       "      <td>-7.507563</td>\n",
       "      <td>0.073924</td>\n",
       "      <td>52</td>\n",
       "      <td>-1.955676</td>\n",
       "      <td>-2.000692</td>\n",
       "      <td>-1.979601</td>\n",
       "      <td>-2.135737</td>\n",
       "      <td>-2.029928</td>\n",
       "      <td>-2.020327</td>\n",
       "      <td>0.062667</td>\n",
       "    </tr>\n",
       "    <tr>\n",
       "      <th>1</th>\n",
       "      <td>1164.991161</td>\n",
       "      <td>38.124311</td>\n",
       "      <td>1.203465</td>\n",
       "      <td>0.035082</td>\n",
       "      <td>800</td>\n",
       "      <td>6</td>\n",
       "      <td>3</td>\n",
       "      <td>30</td>\n",
       "      <td>False</td>\n",
       "      <td>{'n_estimators': 800, 'min_samples_split': 6, ...</td>\n",
       "      <td>-7.918296</td>\n",
       "      <td>-7.617036</td>\n",
       "      <td>-7.720379</td>\n",
       "      <td>-7.620284</td>\n",
       "      <td>-7.607896</td>\n",
       "      <td>-7.696778</td>\n",
       "      <td>0.118099</td>\n",
       "      <td>76</td>\n",
       "      <td>-4.779714</td>\n",
       "      <td>-4.762907</td>\n",
       "      <td>-4.528400</td>\n",
       "      <td>-4.725739</td>\n",
       "      <td>-4.667259</td>\n",
       "      <td>-4.692804</td>\n",
       "      <td>0.090812</td>\n",
       "    </tr>\n",
       "    <tr>\n",
       "      <th>2</th>\n",
       "      <td>541.546468</td>\n",
       "      <td>13.720680</td>\n",
       "      <td>0.642490</td>\n",
       "      <td>0.023635</td>\n",
       "      <td>400</td>\n",
       "      <td>2</td>\n",
       "      <td>1</td>\n",
       "      <td>30</td>\n",
       "      <td>True</td>\n",
       "      <td>{'n_estimators': 400, 'min_samples_split': 2, ...</td>\n",
       "      <td>-7.023543</td>\n",
       "      <td>-6.919772</td>\n",
       "      <td>-6.920233</td>\n",
       "      <td>-6.992489</td>\n",
       "      <td>-6.942119</td>\n",
       "      <td>-6.959631</td>\n",
       "      <td>0.041502</td>\n",
       "      <td>23</td>\n",
       "      <td>-4.303534</td>\n",
       "      <td>-4.489461</td>\n",
       "      <td>-4.336861</td>\n",
       "      <td>-4.383871</td>\n",
       "      <td>-4.395273</td>\n",
       "      <td>-4.381800</td>\n",
       "      <td>0.063122</td>\n",
       "    </tr>\n",
       "    <tr>\n",
       "      <th>3</th>\n",
       "      <td>1464.216083</td>\n",
       "      <td>9.291610</td>\n",
       "      <td>1.917505</td>\n",
       "      <td>0.029350</td>\n",
       "      <td>1200</td>\n",
       "      <td>10</td>\n",
       "      <td>4</td>\n",
       "      <td>100</td>\n",
       "      <td>True</td>\n",
       "      <td>{'n_estimators': 1200, 'min_samples_split': 10...</td>\n",
       "      <td>-7.096164</td>\n",
       "      <td>-6.918870</td>\n",
       "      <td>-7.023065</td>\n",
       "      <td>-7.049139</td>\n",
       "      <td>-6.997834</td>\n",
       "      <td>-7.017014</td>\n",
       "      <td>0.058878</td>\n",
       "      <td>31</td>\n",
       "      <td>-4.826481</td>\n",
       "      <td>-4.842707</td>\n",
       "      <td>-4.849623</td>\n",
       "      <td>-4.812656</td>\n",
       "      <td>-4.858663</td>\n",
       "      <td>-4.838026</td>\n",
       "      <td>0.016488</td>\n",
       "    </tr>\n",
       "    <tr>\n",
       "      <th>4</th>\n",
       "      <td>1462.887115</td>\n",
       "      <td>4.331047</td>\n",
       "      <td>1.878275</td>\n",
       "      <td>0.022403</td>\n",
       "      <td>1200</td>\n",
       "      <td>10</td>\n",
       "      <td>4</td>\n",
       "      <td>90</td>\n",
       "      <td>True</td>\n",
       "      <td>{'n_estimators': 1200, 'min_samples_split': 10...</td>\n",
       "      <td>-7.093834</td>\n",
       "      <td>-6.919668</td>\n",
       "      <td>-7.022833</td>\n",
       "      <td>-7.053399</td>\n",
       "      <td>-6.995312</td>\n",
       "      <td>-7.017009</td>\n",
       "      <td>0.058662</td>\n",
       "      <td>30</td>\n",
       "      <td>-4.823958</td>\n",
       "      <td>-4.843258</td>\n",
       "      <td>-4.853259</td>\n",
       "      <td>-4.814806</td>\n",
       "      <td>-4.858094</td>\n",
       "      <td>-4.838675</td>\n",
       "      <td>0.016716</td>\n",
       "    </tr>\n",
       "  </tbody>\n",
       "</table>\n",
       "</div>"
      ],
      "text/plain": [
       "   mean_fit_time  std_fit_time  mean_score_time  std_score_time  \\\n",
       "0    1867.801343     34.284947         1.659517        0.043342   \n",
       "1    1164.991161     38.124311         1.203465        0.035082   \n",
       "2     541.546468     13.720680         0.642490        0.023635   \n",
       "3    1464.216083      9.291610         1.917505        0.029350   \n",
       "4    1462.887115      4.331047         1.878275        0.022403   \n",
       "\n",
       "  param_n_estimators param_min_samples_split param_min_samples_leaf  \\\n",
       "0                800                       6                      1   \n",
       "1                800                       6                      3   \n",
       "2                400                       2                      1   \n",
       "3               1200                      10                      4   \n",
       "4               1200                      10                      4   \n",
       "\n",
       "  param_max_depth param_bootstrap  \\\n",
       "0              50           False   \n",
       "1              30           False   \n",
       "2              30            True   \n",
       "3             100            True   \n",
       "4              90            True   \n",
       "\n",
       "                                              params  split0_test_score  \\\n",
       "0  {'n_estimators': 800, 'min_samples_split': 6, ...          -7.547958   \n",
       "1  {'n_estimators': 800, 'min_samples_split': 6, ...          -7.918296   \n",
       "2  {'n_estimators': 400, 'min_samples_split': 2, ...          -7.023543   \n",
       "3  {'n_estimators': 1200, 'min_samples_split': 10...          -7.096164   \n",
       "4  {'n_estimators': 1200, 'min_samples_split': 10...          -7.093834   \n",
       "\n",
       "   split1_test_score  split2_test_score  split3_test_score  split4_test_score  \\\n",
       "0          -7.483357          -7.611376          -7.507266          -7.387860   \n",
       "1          -7.617036          -7.720379          -7.620284          -7.607896   \n",
       "2          -6.919772          -6.920233          -6.992489          -6.942119   \n",
       "3          -6.918870          -7.023065          -7.049139          -6.997834   \n",
       "4          -6.919668          -7.022833          -7.053399          -6.995312   \n",
       "\n",
       "   mean_test_score  std_test_score  rank_test_score  split0_train_score  \\\n",
       "0        -7.507563        0.073924               52           -1.955676   \n",
       "1        -7.696778        0.118099               76           -4.779714   \n",
       "2        -6.959631        0.041502               23           -4.303534   \n",
       "3        -7.017014        0.058878               31           -4.826481   \n",
       "4        -7.017009        0.058662               30           -4.823958   \n",
       "\n",
       "   split1_train_score  split2_train_score  split3_train_score  \\\n",
       "0           -2.000692           -1.979601           -2.135737   \n",
       "1           -4.762907           -4.528400           -4.725739   \n",
       "2           -4.489461           -4.336861           -4.383871   \n",
       "3           -4.842707           -4.849623           -4.812656   \n",
       "4           -4.843258           -4.853259           -4.814806   \n",
       "\n",
       "   split4_train_score  mean_train_score  std_train_score  \n",
       "0           -2.029928         -2.020327         0.062667  \n",
       "1           -4.667259         -4.692804         0.090812  \n",
       "2           -4.395273         -4.381800         0.063122  \n",
       "3           -4.858663         -4.838026         0.016488  \n",
       "4           -4.858094         -4.838675         0.016716  "
      ]
     },
     "execution_count": 175,
     "metadata": {},
     "output_type": "execute_result"
    }
   ],
   "source": [
    "result = pd.DataFrame(completed_pl['model'].cv_results_)\n",
    "result.to_csv('../evaluating/result.csv')\n",
    "result.head()"
   ]
  },
  {
   "attachments": {},
   "cell_type": "markdown",
   "metadata": {},
   "source": [
    "Mô hình hoàn chỉnh với best parameters từ kỹ thuật Randomized search CV"
   ]
  },
  {
   "cell_type": "code",
   "execution_count": 176,
   "metadata": {},
   "outputs": [],
   "source": [
    "rf = RandomForestRegressor(n_estimators=1200, min_samples_split=2, min_samples_leaf=1, \n",
    "                           max_features=None, max_depth=70, bootstrap=True)\n",
    "\n",
    "last_pl = Pipeline(\n",
    "    steps=[(\"preprocessor\", preprocessor), ('model', rf)])\n",
    "\n",
    "last_pl.fit(x_train, y_train)\n",
    "y_train_pred = last_pl.predict(x_train)"
   ]
  },
  {
   "cell_type": "code",
   "execution_count": 177,
   "metadata": {},
   "outputs": [],
   "source": [
    "y_test_pred = last_pl.predict(x_test)"
   ]
  },
  {
   "cell_type": "code",
   "execution_count": 178,
   "metadata": {},
   "outputs": [
    {
     "name": "stdout",
     "output_type": "stream",
     "text": [
      "Train set: [MSE: 11.929, MAE: 2.435]\n",
      "Test set: [MSE: 80.722, MAE: 6.446]\n"
     ]
    }
   ],
   "source": [
    "print(f'Train set: [MSE: {mean_squared_error(y_train, y_train_pred):.3f}, MAE: {mean_absolute_error(y_train, y_train_pred):.3f}]')\n",
    "print(f'Test set: [MSE: {mean_squared_error(y_test, y_test_pred):.3f}, MAE: {mean_absolute_error(y_test, y_test_pred):.3f}]')"
   ]
  },
  {
   "attachments": {},
   "cell_type": "markdown",
   "metadata": {},
   "source": [
    "Không cải thiện nhiều lắm so với khi ta sử dụng thuật toán Random Forest mặc định (không tinh chỉnh các siêu tham số).\n",
    "\n",
    "Vậy ta sẽ chọn RandomForestRegression với tham số mặc định để tối ưu thời gian chạy và độ lỗi của mô hình."
   ]
  },
  {
   "cell_type": "code",
   "execution_count": 179,
   "metadata": {},
   "outputs": [],
   "source": [
    "cv = KFold(n_splits = 5, shuffle = True, random_state = 100)\n",
    "rf_pl = Pipeline(\n",
    "    steps=[(\"preprocessor\", preprocessor), ('RandomForestRegression', RandomForestRegressor())])\n",
    "\n",
    "scores_rf = cross_validate(rf_pl, x_train, y_train, scoring=['neg_mean_absolute_error','neg_mean_squared_error'], \n",
    "                           cv=cv, error_score='raise')\n",
    "\n",
    "# y_test_pred = rf_pl.predict(x_test)"
   ]
  },
  {
   "cell_type": "code",
   "execution_count": 180,
   "metadata": {},
   "outputs": [
    {
     "data": {
      "text/plain": [
       "{'fit_time': array([199.18840861, 195.72181177, 199.62304211, 197.37192154,\n",
       "        199.98024821]),\n",
       " 'score_time': array([5.40556192, 5.64786363, 5.39790964, 5.88061094, 5.47071266]),\n",
       " 'test_neg_mean_absolute_error': array([-6.61171408, -6.56938425, -6.71282797, -6.67745098, -6.65631803]),\n",
       " 'test_neg_mean_squared_error': array([-84.63116823, -84.01721827, -88.38633296, -84.88035362,\n",
       "        -87.00844512])}"
      ]
     },
     "execution_count": 180,
     "metadata": {},
     "output_type": "execute_result"
    }
   ],
   "source": [
    "scores_rf"
   ]
  },
  {
   "cell_type": "code",
   "execution_count": 181,
   "metadata": {},
   "outputs": [
    {
     "name": "stdout",
     "output_type": "stream",
     "text": [
      "Mean NMAE: -6.646, Std: 0.050\n",
      "Mean NMSE: -85.785, Std: 1.646\n"
     ]
    }
   ],
   "source": [
    "print('Mean NMAE: {:.03f}, Std: {:.03f}'\n",
    "      .format(np.mean(scores_rf['test_neg_mean_absolute_error'], dtype=np.float64), np.std(scores_rf['test_neg_mean_absolute_error'])))\n",
    " \n",
    "print('Mean NMSE: {:.03f}, Std: {:.03f}'\n",
    "      .format(np.mean(scores_rf['test_neg_mean_squared_error'], dtype=np.float64), np.std(scores_rf['test_neg_mean_squared_error'])))"
   ]
  }
 ],
 "metadata": {
  "kernelspec": {
   "display_name": "Python 3",
   "language": "python",
   "name": "python3"
  },
  "language_info": {
   "codemirror_mode": {
    "name": "ipython",
    "version": 3
   },
   "file_extension": ".py",
   "mimetype": "text/x-python",
   "name": "python",
   "nbconvert_exporter": "python",
   "pygments_lexer": "ipython3",
   "version": "3.10.6 (tags/v3.10.6:9c7b4bd, Aug  1 2022, 21:53:49) [MSC v.1932 64 bit (AMD64)]"
  },
  "orig_nbformat": 4,
  "vscode": {
   "interpreter": {
    "hash": "a42ccb73e7d9bfdf27e036f1d2b8b681e55fc0743cc5586bc2474d4a60f4b886"
   }
  }
 },
 "nbformat": 4,
 "nbformat_minor": 2
}
