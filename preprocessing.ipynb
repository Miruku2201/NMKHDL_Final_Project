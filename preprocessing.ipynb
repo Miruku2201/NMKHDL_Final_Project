{
 "cells": [
  {
   "cell_type": "markdown",
   "metadata": {},
   "source": [
    "**<p style = \"text-align: center\">TRƯỜNG ĐẠI HỌC KHOA HỌC TỰ NHIÊN - ĐẠI HỌC QUỐC GIA TPHCM</p>**"
   ]
  },
  {
   "cell_type": "markdown",
   "metadata": {},
   "source": [
    "# **<p style = \"text-align: center\">NHẬP MÔN KHOA HỌC DỮ LIỆU</p>**\n",
    "## **<p style = \"text-align: center\">Đồ án Cuối kì</p>**\n",
    "### <p style = \"text-align: center\"> <b>Đề tài:</b> Phân tích, khám phá dữ liệu về sách trên web thương mại điện tử (tiki)</p>\n",
    "**Sinh viên thực hiện**\n",
    "\n",
    "| Mã số sinh viên | Họ và tên |\n",
    "| --- | --- |\n",
    "| 20120040 | Nguyễn Quang Gia Bảo |\n",
    "| 20120136 | Huỳnh Tuấn Nam |\n",
    "| 20120158 | Trần Hoàng Anh Phi |"
   ]
  },
  {
   "cell_type": "markdown",
   "metadata": {},
   "source": [
    "---"
   ]
  },
  {
   "cell_type": "markdown",
   "metadata": {},
   "source": [
    "# **1. Thông tin về dữ liệu**<br>\n",
    "Dữ liệu được sử dụng trong bài được lấy từ trang: <a href = \"https://tiki.vn/sach-truyen-tieng-viet/c316\"> https://tiki.vn/sach-truyen-tieng-viet/c316</a><br>\n",
    "\n",
    "Vì website <a href = 'https://tiki.vn/'> https://tiki.vn/ </a> có khá là nhiều mặt hàng nên nhóm chỉ chọn ra danh mục <font color=red>sách tiếng Việt</font> để crawl và thực hiện đồ án này.\n"
   ]
  },
  {
   "cell_type": "markdown",
   "metadata": {},
   "source": [
    "# **2. Khám phá dữ liệu**<br>"
   ]
  },
  {
   "cell_type": "markdown",
   "metadata": {},
   "source": [
    "#### Cài đặt các thư viện cần thiết"
   ]
  },
  {
   "cell_type": "code",
   "execution_count": null,
   "metadata": {},
   "outputs": [],
   "source": [
    "# !pip install fuzzywuzzy\n",
    "# !pip install python-Levenshtein"
   ]
  },
  {
   "cell_type": "markdown",
   "metadata": {},
   "source": [
    "#### Import các package cần thiết"
   ]
  },
  {
   "cell_type": "code",
   "execution_count": null,
   "metadata": {},
   "outputs": [],
   "source": [
    "import pandas as pd\n",
    "import numpy as np"
   ]
  },
  {
   "cell_type": "markdown",
   "metadata": {},
   "source": [
    "#### Đọc dữ liệu đã thu thập từ file csv "
   ]
  },
  {
   "cell_type": "code",
   "execution_count": null,
   "metadata": {},
   "outputs": [],
   "source": [
    "df = pd.read_csv('full_data/data.csv')\n",
    "print(df.shape)\n",
    "display(df.head())"
   ]
  },
  {
   "cell_type": "code",
   "execution_count": null,
   "metadata": {},
   "outputs": [],
   "source": [
    "df.info()"
   ]
  },
  {
   "cell_type": "markdown",
   "metadata": {},
   "source": [
    "***"
   ]
  },
  {
   "attachments": {},
   "cell_type": "markdown",
   "metadata": {},
   "source": [
    "## **Cleaning data**"
   ]
  },
  {
   "cell_type": "markdown",
   "metadata": {},
   "source": [
    "Drop cột 'Unnamed: 0'"
   ]
  },
  {
   "cell_type": "code",
   "execution_count": null,
   "metadata": {},
   "outputs": [],
   "source": [
    "df = df.drop(columns='Unnamed: 0')\n",
    "df.head()"
   ]
  },
  {
   "cell_type": "markdown",
   "metadata": {},
   "source": [
    "Xem thử dữ liệu có bị trùng hay không?"
   ]
  },
  {
   "cell_type": "code",
   "execution_count": null,
   "metadata": {},
   "outputs": [],
   "source": [
    "df.duplicated().sum()"
   ]
  },
  {
   "cell_type": "markdown",
   "metadata": {},
   "source": [
    "Vậy là dữ liệu có 8294 dòng trùng nhau, ta sẽ tiến hành xoá những dòng này"
   ]
  },
  {
   "cell_type": "code",
   "execution_count": null,
   "metadata": {},
   "outputs": [],
   "source": [
    "df = df.drop_duplicates(ignore_index=True)\n",
    "df.shape"
   ]
  },
  {
   "attachments": {},
   "cell_type": "markdown",
   "metadata": {},
   "source": [
    "#### **Mỗi dòng có ý nghĩa gì? Có các dòng có ý nghĩa khác nhau hay không?**"
   ]
  },
  {
   "attachments": {},
   "cell_type": "markdown",
   "metadata": {},
   "source": [
    "Mỗi dòng cho biết thông tin về một sản phẩm sách.\n",
    "\n",
    "Vì khi thu thập dữ liệu, có những sản phẩm khác loại bị tiki xếp vào chung danh mục nên ta thấy những columns lạ bị thêm vào, ta phải tiến hành xoá những columns này và những sản phẩm (dòng) <font color =red>lạc loài </font>"
   ]
  },
  {
   "cell_type": "code",
   "execution_count": null,
   "metadata": {},
   "outputs": [],
   "source": [
    "df.columns"
   ]
  },
  {
   "cell_type": "code",
   "execution_count": null,
   "metadata": {},
   "outputs": [],
   "source": [
    "df[~df['material'].isna()]"
   ]
  },
  {
   "cell_type": "markdown",
   "metadata": {},
   "source": [
    "Các `features` được sử dụng"
   ]
  },
  {
   "cell_type": "code",
   "execution_count": null,
   "metadata": {},
   "outputs": [],
   "source": [
    "features = ['id', 'master_id', 'sku', 'name', 'short_url', 'book_cover', 'price',\n",
    "       'original_price', 'discount_rate', 'rating_average', 'review_count',\n",
    "       'inventory_type', 'productset_group_name', 'day_ago_created',\n",
    "       'categories', 'all_time_quantity_sold', 'authors', 'publisher_vn',\n",
    "       'publication_date', 'dimensions', 'manufacturer', 'number_of_page',\n",
    "       'dich_gia', 'edition', 'luu_y']"
   ]
  },
  {
   "cell_type": "markdown",
   "metadata": {},
   "source": [
    "Một số `features` không hợp lệ với yêu cầu bài toán"
   ]
  },
  {
   "cell_type": "code",
   "execution_count": null,
   "metadata": {},
   "outputs": [],
   "source": [
    "unvalid_cols = list(set(df.columns) - set(features))\n",
    "print(unvalid_cols)"
   ]
  },
  {
   "cell_type": "markdown",
   "metadata": {},
   "source": [
    "Thử lấy các sản phẩm thuộc ngoài những `categories` của danh mục sách (mà ta đã thu thập)"
   ]
  },
  {
   "cell_type": "code",
   "execution_count": null,
   "metadata": {},
   "outputs": [],
   "source": [
    "valid_categories = pd.read_csv('id_data/categories_id.csv')['categories'] \n",
    "valid_categories = '|'.join(list(valid_categories)) #+ ['Root', 'Sách tiếng Việt', 'Nhà Sách Tiki'])\n",
    "# df[df[unvalid_cols].notna().any(axis=1)].to_csv('not_books.csv', encoding='utf-8-sig')\n",
    "# df[df['publisher_vn'].isna()].to_csv('not_publiser.csv', encoding='utf-8-sig')\n",
    "# df[df['categories'].str.contains(valid_categories, na=False)]\n",
    "\n",
    "#Chọn những categories không phải sách\n",
    "df[~df['categories'].str.contains(valid_categories, na=False)]['categories'].value_counts()"
   ]
  },
  {
   "cell_type": "markdown",
   "metadata": {},
   "source": [
    "Và ta chỉ lấy những giá trị hợp lệ "
   ]
  },
  {
   "cell_type": "code",
   "execution_count": null,
   "metadata": {},
   "outputs": [],
   "source": [
    "df = df[df['categories'].str.contains(valid_categories, na=False)]\n",
    "# df.shape\n",
    "df.shape"
   ]
  },
  {
   "cell_type": "markdown",
   "metadata": {},
   "source": [
    "Có thể vẫn còn, ta sẽ xem những features bị <font color=red>lạc loài</font> (khác giá trị nan):"
   ]
  },
  {
   "cell_type": "code",
   "execution_count": null,
   "metadata": {},
   "outputs": [],
   "source": [
    "unvalid_products = df[df[unvalid_cols].notna().any(axis=1)]\n",
    "# display(unvalid_products)"
   ]
  },
  {
   "cell_type": "markdown",
   "metadata": {},
   "source": [
    "Tiếp tục bỏ đi những sản phẩm này."
   ]
  },
  {
   "cell_type": "code",
   "execution_count": null,
   "metadata": {},
   "outputs": [],
   "source": [
    "df = df.drop(unvalid_products.index).reset_index(drop=True)\n",
    "df[df[unvalid_cols].notna().any(axis=1)] # test lại"
   ]
  },
  {
   "cell_type": "code",
   "execution_count": null,
   "metadata": {},
   "outputs": [],
   "source": [
    "df.index.max()"
   ]
  },
  {
   "cell_type": "markdown",
   "metadata": {},
   "source": [
    "Có thể vẫn còn những sản phẩm <font color=red>lạc loài</font> khác, tuy nhiên khó có thể nhận biết và loại bỏ được."
   ]
  },
  {
   "cell_type": "markdown",
   "metadata": {},
   "source": [
    "Xóa đi các cột <font color =red> lạc loài </font> đi thôi!"
   ]
  },
  {
   "cell_type": "code",
   "execution_count": null,
   "metadata": {},
   "outputs": [],
   "source": [
    "df = df.drop(unvalid_cols, axis = 1)\n",
    "df.shape"
   ]
  },
  {
   "cell_type": "markdown",
   "metadata": {},
   "source": [
    "##### Kiểm tra lại thông tin của các cột trước khi bước qua **KHÁM PHÁ DỮ LIỆU**"
   ]
  },
  {
   "cell_type": "markdown",
   "metadata": {},
   "source": [
    "> Mô tả thông tin của các cột\n"
   ]
  },
  {
   "cell_type": "code",
   "execution_count": null,
   "metadata": {},
   "outputs": [],
   "source": [
    "pd.read_csv(\"column/Columns.csv\")"
   ]
  },
  {
   "cell_type": "markdown",
   "metadata": {},
   "source": [
    "Cột `id` và `master_id` hoàn toàn giống nhau ở từng dòng. Vì thế ta sẽ xóa đi cột `master_id` <br>\n",
    "Cột `publication_date` cần thay đổi `dtype` thành `datetime`"
   ]
  },
  {
   "cell_type": "markdown",
   "metadata": {},
   "source": [
    "- Loại bỏ cột `master_id`"
   ]
  },
  {
   "cell_type": "code",
   "execution_count": null,
   "metadata": {},
   "outputs": [],
   "source": [
    "df = df.drop(\"master_id\", axis = 1)"
   ]
  },
  {
   "attachments": {},
   "cell_type": "markdown",
   "metadata": {},
   "source": [
    "- Xem thông tin kiểu dữ liệu của mỗi cột"
   ]
  },
  {
   "cell_type": "code",
   "execution_count": null,
   "metadata": {},
   "outputs": [],
   "source": [
    "df.dtypes"
   ]
  },
  {
   "attachments": {},
   "cell_type": "markdown",
   "metadata": {},
   "source": [
    "Ta thấy cột `number_of_page` có kiểu dữ liệu là object chưa phù hợp (lẽ ra phải là interger), ta sẽ chuyển về đúng kiểu dữ liệu"
   ]
  },
  {
   "cell_type": "code",
   "execution_count": null,
   "metadata": {},
   "outputs": [],
   "source": [
    "# df['number_of_page'].fillna(0).astype(np.int64)\n",
    "# df['number_of_page'].unique()\n",
    "set(df['number_of_page'].apply(lambda x: type(x)))"
   ]
  },
  {
   "attachments": {},
   "cell_type": "markdown",
   "metadata": {},
   "source": [
    "Cột này chứa 2 kiểu dữ liệu là `str` (?) và `float`:\n",
    "- Tại sao lại chứa kiểu dữ liệu string?"
   ]
  },
  {
   "cell_type": "code",
   "execution_count": null,
   "metadata": {},
   "outputs": [],
   "source": [
    "df[df['number_of_page'].apply(lambda x: isinstance(x, str))]['number_of_page'].unique()"
   ]
  },
  {
   "cell_type": "code",
   "execution_count": null,
   "metadata": {},
   "outputs": [],
   "source": [
    "df[df['number_of_page'].str.contains(r'[a-zA-Z]', na=False)]['number_of_page'].unique()"
   ]
  },
  {
   "attachments": {},
   "cell_type": "markdown",
   "metadata": {},
   "source": [
    "- Thì ra các giá trị `integer` đã bị chuyển thành string.\n",
    "- Một vài giá trị string <font color=red>lạc loài</font> (\"Cuốn\", \"80x2\", \"mềm\") đã làm kiểu dữ liệu bị thay đổi. Ta sẽ chuyển các giá trị này về nan."
   ]
  },
  {
   "cell_type": "code",
   "execution_count": null,
   "metadata": {},
   "outputs": [],
   "source": [
    "df.loc[df['number_of_page'].str.contains(r'[a-zA-Z]', na=False), 'number_of_page'] = np.nan"
   ]
  },
  {
   "cell_type": "code",
   "execution_count": null,
   "metadata": {},
   "outputs": [],
   "source": [
    "df['number_of_page'] = df['number_of_page'].fillna(0).astype(np.int64)\n",
    "df['number_of_page'].dtype"
   ]
  },
  {
   "attachments": {},
   "cell_type": "markdown",
   "metadata": {},
   "source": [
    "Đổi dtype của cột `publication_date` thành datetime"
   ]
  },
  {
   "cell_type": "code",
   "execution_count": null,
   "metadata": {},
   "outputs": [],
   "source": [
    "df.publication_date = pd.to_datetime(df.publication_date, format = \"%Y-%m-%d %H:%M:%S\", errors = \"coerce\")"
   ]
  },
  {
   "cell_type": "markdown",
   "metadata": {},
   "source": [
    "Gần hơn 1 nửa dữ liệu bị lỗi hoặc thiếu datetime."
   ]
  },
  {
   "cell_type": "markdown",
   "metadata": {},
   "source": [
    "---"
   ]
  },
  {
   "cell_type": "markdown",
   "metadata": {},
   "source": [
    "#### **Exploratory Data Analysis**"
   ]
  },
  {
   "cell_type": "markdown",
   "metadata": {},
   "source": [
    "##### **Đặt câu hỏi** <br>\n",
    "Một câu hỏi gồm có 3 ý:\n",
    "- Câu hỏi là gì ?\n",
    "- Trả lời câu hỏi sẽ có lợi ích gì ?\n",
    "- Nguồn cảm hứng của câu hỏi ? (tự nghĩ hoặc tham khảo)"
   ]
  },
  {
   "cell_type": "code",
   "execution_count": null,
   "metadata": {},
   "outputs": [],
   "source": [
    "df.columns"
   ]
  },
  {
   "cell_type": "markdown",
   "metadata": {},
   "source": [
    "---"
   ]
  },
  {
   "cell_type": "markdown",
   "metadata": {},
   "source": [
    "##### **Câu 1** <br> \n",
    "- Ở mỗi thể loại sách có rất nhiều sách khác nhau. Có nhiều sách cùng tên với nhau hay không? Tại sao lại như vậy?\n"
   ]
  },
  {
   "cell_type": "markdown",
   "metadata": {},
   "source": [
    "**Trả lời câu hỏi thành công** <br>\n",
    "Nếu trả lời được câu hỏi bạn sẽ hiểu tại sao trong bộ dữ liệu lại có nhiều sách có cùng tên (Nếu có)<br>\n"
   ]
  },
  {
   "cell_type": "markdown",
   "metadata": {},
   "source": [
    "<font color = red>Khó khăn </font>: \n",
    "+ Tên của những quyển sách lại được đặt khác nhau. Ảnh hưởng đến quá trình gom nhóm. Cần xử lí vấn đề khó này cho một bộ dữ liệu gần 40 ngàn dữ liệu.<br>\n",
    "+ Không có các yếu tố để phân biệt tên của sách."
   ]
  },
  {
   "cell_type": "markdown",
   "metadata": {},
   "source": [
    "<font color = red>Hướng giải quyết </font>: \n",
    "+ Thay vì xử lí một lúc 40 ngàn dữ liệu, ta sẽ sử dụng cột `categories` để phân loại thành từng loại sách, rồi tiếp tục phân loại theo tên.\n",
    "+ Ta sử dụng `Ratio Matching` - Độ tương thích của 2 string, để phán đoán series của cuốn truyện."
   ]
  },
  {
   "cell_type": "markdown",
   "metadata": {},
   "source": [
    "Dùng thử viện `fuzzywuzzy` để tìm mức độ tương thích, lọc ra các nhóm có mức độ tương thích cao."
   ]
  },
  {
   "cell_type": "code",
   "execution_count": null,
   "metadata": {},
   "outputs": [],
   "source": [
    "from fuzzywuzzy import fuzz, process"
   ]
  },
  {
   "cell_type": "markdown",
   "metadata": {},
   "source": [
    "##### Viết các hàm xử lí "
   ]
  },
  {
   "cell_type": "markdown",
   "metadata": {},
   "source": [
    " - Hàm lấy các dòng thuộc `categories` mà ta yêu cầu."
   ]
  },
  {
   "cell_type": "code",
   "execution_count": null,
   "metadata": {},
   "outputs": [],
   "source": [
    "def get_df_by_categories(categories):\n",
    "    categories_book_df = df[df.categories == categories]\n",
    "    return categories_book_df"
   ]
  },
  {
   "cell_type": "markdown",
   "metadata": {},
   "source": [
    "- Sử dụng Data Frame mà ta vừa lấy được từ `categories` mà ta chọn, tiến hành phân theo mức độ tương thích của các tên với nhau.\n"
   ]
  },
  {
   "cell_type": "markdown",
   "metadata": {},
   "source": [
    "Ví dụ sử dụng fuzzywuzzy để đánh giá mức tương thích:"
   ]
  },
  {
   "cell_type": "code",
   "execution_count": null,
   "metadata": {},
   "outputs": [],
   "source": [
    "# Ta có 2 string:\n",
    "a = \"Xin Cảm ơn\"\n",
    "b = \"Xin Chào\"\n",
    "\n",
    "fuzz.ratio(a,b) # Độ giống nhau là 48%\n",
    "# Độ tương thích này được xét theo các yếu tố như:\n",
    "# Số lượng từ ở trong hai câu\n",
    "# Vị trí từ\n",
    "# Kiểu viết của chữ (hoa hoặc thường)\n",
    "# ....."
   ]
  },
  {
   "cell_type": "code",
   "execution_count": null,
   "metadata": {},
   "outputs": [],
   "source": [
    "a = \"Xin Cảm ơn\"\n",
    "b = \"Xin Chào\"\n",
    "\n",
    "fuzz.partial_ratio(a ,b) # có bao nhiêu % của a trong b hoặc b trong a, dù đổi vị trí các parameter cũng không làm thay đổi giá trị %.\n",
    "# Ở câu này do vị trí của từ Xin C"
   ]
  },
  {
   "cell_type": "markdown",
   "metadata": {},
   "source": [
    "- Viết hàm phân nhóm theo series của các sách trong 1 categories.<br>\n",
    "<br>\n",
    "<font color = red>Cách làm </font>:<br>\n",
    "- Ta sẽ kiểm tra có 1 `list` để chứa các series và sẽ dùng `list` này để đi so sánh với tên của các cuốn sách khác.\n",
    "- So sánh cuốn sách với từng series bên trong list. Nếu độ tương thích dưới 80% sẽ add tên đó vào series. Ngược lại ta sẽ thêm vào thì ta không thêm vào.\n",
    "- Với mỗi series trong list sẽ được đánh dấu 1 index, ta gọi hàm index của list để lấy index đó và gán cho dòng của cuốn sách đó.<br>\n",
    "<font color = red>Hàm trả về</font>:<br> Hàm trả về list là index của series mà cuốn sách thuộc về"
   ]
  },
  {
   "cell_type": "code",
   "execution_count": null,
   "metadata": {},
   "outputs": [],
   "source": [
    "# ulen_names = lightnovel_df.name.nunique() # number of unique names\n",
    "# u_names = list(map(lambda x: x.upper(), lightnovel_df.name.unique())) #array unique names\n",
    "\n",
    "\n",
    "# ln_series = []\n",
    "# series_Series = []\n",
    "# ln_series.append(u_names[0])\n",
    "# for name in u_names:\n",
    "#     ratio_series = []\n",
    "#     for series in ln_series:\n",
    "#         ratio_series.append(SequenceMatcher(None, series, name).ratio())\n",
    "#     max_ratio = max(ratio_series)\n",
    "#     if max_ratio < 0.6:\n",
    "#         ln_series.append(name)\n",
    "#         series_Series.append(ln_series.index(name))\n",
    "#     else:\n",
    "#         series_Series.append(ratio_series.index(max_ratio))\n",
    "def categoricate_book_name(book_df):\n",
    "    u_names = list(map(lambda x: x.upper(), list(book_df.name)))\n",
    "    book_series = []\n",
    "    series = []\n",
    "    book_series.append(u_names[0])\n",
    "    for name in u_names:\n",
    "        ratio_series = process.extract(name, book_series, scorer = fuzz.token_sort_ratio)\n",
    "        best_ratio_series = ratio_series[0]\n",
    "        if best_ratio_series[-1] < 65: # Xét tỉ lệ hợp lệ cao hơn 80%\n",
    "            book_series.append(name)\n",
    "            series.append(book_series.index(name))\n",
    "        else:\n",
    "            series.append(book_series.index(best_ratio_series[0]))\n",
    "    return series"
   ]
  },
  {
   "cell_type": "markdown",
   "metadata": {},
   "source": [
    "Tên các loại sách"
   ]
  },
  {
   "cell_type": "code",
   "execution_count": null,
   "metadata": {},
   "outputs": [],
   "source": [
    "list(df.categories.unique())"
   ]
  },
  {
   "cell_type": "markdown",
   "metadata": {},
   "source": [
    "Thử với loại sách là `Light Novel`"
   ]
  },
  {
   "cell_type": "code",
   "execution_count": null,
   "metadata": {},
   "outputs": [],
   "source": [
    "lightnovel_df = get_df_by_categories(\"Light novel\")\n",
    "# list(lightnovel_df.name)"
   ]
  },
  {
   "cell_type": "code",
   "execution_count": null,
   "metadata": {},
   "outputs": [],
   "source": [
    "series = categoricate_book_name(lightnovel_df)"
   ]
  },
  {
   "cell_type": "code",
   "execution_count": null,
   "metadata": {},
   "outputs": [],
   "source": [
    "# series = pd.DataFrame({\"Series\": list(categoricate_book_name(lightnovel_df))})"
   ]
  },
  {
   "cell_type": "code",
   "execution_count": null,
   "metadata": {},
   "outputs": [],
   "source": [
    "lightnovel_df.insert(len(lightnovel_df.columns), \"Series\", series)\n",
    "# lightnovel_df = pd.concat([lightnovel_df, series], axis = 1 ,ignore_index=True)"
   ]
  },
  {
   "cell_type": "code",
   "execution_count": null,
   "metadata": {},
   "outputs": [],
   "source": [
    "lightnovel_df[lightnovel_df.Series == 0]"
   ]
  },
  {
   "cell_type": "markdown",
   "metadata": {},
   "source": [
    "Thử loại sách `Du ký`"
   ]
  },
  {
   "cell_type": "code",
   "execution_count": null,
   "metadata": {},
   "outputs": [],
   "source": [
    "duky_df = get_df_by_categories(\"Du ký\")"
   ]
  },
  {
   "cell_type": "code",
   "execution_count": null,
   "metadata": {},
   "outputs": [],
   "source": [
    "series = categoricate_book_name(duky_df)"
   ]
  },
  {
   "cell_type": "code",
   "execution_count": null,
   "metadata": {},
   "outputs": [],
   "source": [
    "duky_df.insert(len(duky_df.columns), \"Series\", series)"
   ]
  },
  {
   "cell_type": "code",
   "execution_count": null,
   "metadata": {},
   "outputs": [],
   "source": [
    "duky_df[duky_df.Series == 0]"
   ]
  },
  {
   "cell_type": "markdown",
   "metadata": {},
   "source": [
    "Tuy cùng là một cuốn sách, nhưng có nhiều shop khác nhau bán, có mức độ đánh giá trung bình, review của khách hàng, mức khuyến mãi, giá cả khác nhau... dẫn đến việc lựa chọn nên mua ở shop nào."
   ]
  },
  {
   "cell_type": "markdown",
   "metadata": {},
   "source": [
    "---"
   ]
  },
  {
   "cell_type": "markdown",
   "metadata": {},
   "source": [
    "##### **Câu 2**"
   ]
  },
  {
   "cell_type": "markdown",
   "metadata": {},
   "source": [
    "- `rating-average` (Mức độ đánh giá trung bình), `original_price` (Giá gốc sản phẩm), `all_time_quanity_sold` (số lượng sản phẩm bán ra) có liên quan gì đến nhau ?\n",
    "- Ở câu 1 đã cho biết, có các sản phẩm cùng tên nhưng shop khác nhau, dự đoán lí do tại sao có shop bán được nhiều hàng, có shop bán không được nhiều mấy?"
   ]
  },
  {
   "cell_type": "markdown",
   "metadata": {},
   "source": [
    "**Trả lời câu hỏi thành công:** <br>\n",
    "Sẽ hiểu được việc đánh giá của khách hàng sẽ có ảnh hưởng như thế nào đến việc bán sản phẩm của shop.<br>"
   ]
  },
  {
   "cell_type": "code",
   "execution_count": null,
   "metadata": {},
   "outputs": [],
   "source": [
    "cols_work = [\"rating_average\", \"categories\", \"price\", \"original_price\" ,\"all_time_quantity_sold\"]\n",
    "rcp_df = df[cols_work]"
   ]
  },
  {
   "cell_type": "markdown",
   "metadata": {},
   "source": [
    "`rating_average` được phân bố cho như thế nào? "
   ]
  },
  {
   "cell_type": "code",
   "execution_count": null,
   "metadata": {},
   "outputs": [],
   "source": [
    "len(df[df.rating_average > 0])"
   ]
  },
  {
   "cell_type": "code",
   "execution_count": null,
   "metadata": {},
   "outputs": [],
   "source": [
    "from matplotlib import pyplot as plt\n",
    "import seaborn as sns\n",
    "import math\n",
    "%matplotlib inline"
   ]
  },
  {
   "cell_type": "markdown",
   "metadata": {},
   "source": [
    "Tạo ra một khoảng dữ liệu mức rating: <br>\n",
    "**(0,0)** ứng với 0 sao <br>\n",
    "**(0,1)** ứng với (0,1) <br>\n",
    "**(1,2)** ứng với [1,2) <br>\n",
    "**(2,3)** ứng với [2,3) <br>\n",
    "**(3,4)** ứng với [3,4) <br>\n",
    "**(4,5)** ứng với [4,5) <br>\n",
    "**(5,5)** ứng với 5 sao <br>\n",
    "\n"
   ]
  },
  {
   "cell_type": "code",
   "execution_count": null,
   "metadata": {},
   "outputs": [],
   "source": [
    "def rating_range(x):\n",
    "    if (x == 0.0):\n",
    "        return (0,0)\n",
    "    elif (x == 5.0):\n",
    "        return (5,5)\n",
    "    else:\n",
    "        return (math.floor(x), math.floor(x+1))"
   ]
  },
  {
   "cell_type": "code",
   "execution_count": null,
   "metadata": {},
   "outputs": [],
   "source": [
    "rating_range_series = pd.DataFrame({\"rating_range\": rcp_df.rating_average.apply(rating_range)})\n",
    "rcp_df = pd.concat([rcp_df, rating_range_series], axis = 1)\n",
    "# rcp.set_axis([*df.columns[:-1], 'Test'], axis=1, inplace=False)\n"
   ]
  },
  {
   "cell_type": "markdown",
   "metadata": {},
   "source": [
    "Trực quan hóa dữ thông tin lên đồ thị để quan sát dễ dàng."
   ]
  },
  {
   "cell_type": "code",
   "execution_count": null,
   "metadata": {},
   "outputs": [],
   "source": [
    "def pie_chart(x,y, title):\n",
    "    c = ['lightcoral', 'rosybrown', 'sandybrown', 'navajowhite', 'gold',\n",
    "            'khaki', 'lightskyblue', 'turquoise', 'lightslategrey', 'thistle', 'pink']\n",
    "    plt.figure(figsize=(7,5))\n",
    "    plt.title(title, size=10)\n",
    "#     plt.pie(rcp_df.rating_range.value_counts().sort_index().values, colors=c,shadow=True)\n",
    "    plt.pie(y, colors=c,shadow=True)\n",
    "#     plt.legend(rcp_df.rating_range.value_counts().sort_index().index, loc='best', fontsize=12)\n",
    "    plt.legend(x, loc='best', fontsize=12)"
   ]
  },
  {
   "cell_type": "code",
   "execution_count": null,
   "metadata": {},
   "outputs": [],
   "source": [
    "x = rcp_df.rating_range.value_counts().sort_index().index\n",
    "y = rcp_df.rating_range.value_counts().sort_index().values\n",
    "pie_chart(x, y, \"Pie chart show percentage of rating range\")"
   ]
  },
  {
   "cell_type": "markdown",
   "metadata": {},
   "source": [
    "Qua biểu đồ trên, nhận thấy các đánh giá của khách hàng về sản phẩm không nhiều. Vẫn có nhiều mặt hàng được đánh giá là 0 sao.<br>\n",
    "##### Xem thử mối quan hệ giữa `rating_range`, `original_price`, `all_time_quantity_sold`"
   ]
  },
  {
   "cell_type": "code",
   "execution_count": null,
   "metadata": {},
   "outputs": [],
   "source": [
    "def build_scatterplot(data, x, y, hue: None, ax, title):\n",
    "    sns.scatterplot(data = data, x = x, y = y, ax = ax)\n",
    "    plt.title(title, size = 10)"
   ]
  },
  {
   "cell_type": "code",
   "execution_count": null,
   "metadata": {},
   "outputs": [],
   "source": [
    "fig, axs = plt.subplots(2,1, figsize = (10,10))\n",
    "build_scatterplot(rcp_df, x = \"rating_average\", y = \"original_price\", ax=axs[0], title = \"Dispersion of rating_average by original_price\", hue = None)\n",
    "build_scatterplot(rcp_df, x = \"rating_average\", y = \"all_time_quantity_sold\", ax=axs[1], title = \"Dispersion of rating_average by all_time_quantity_sold\", hue = None)\n",
    "plt.tight_layout()"
   ]
  },
  {
   "cell_type": "markdown",
   "metadata": {},
   "source": [
    "###### Đánh giá câu hỏi\n",
    "Với đồ thị theo giá gốc của các quyển sách, hầu như tất cả giá trị đều trong vùng từ 0 đến 300 ngàn đồng là chủ yếu. Tuy nhiên với độ đánh giá là `0 sao`, hầu như số lượt mua hàng xấp xỉ hoặc hoàn toàn là 0 mặc dù sách ở mức đánh giá `0 sao` có tương đối nhiều sách được bán <br>\n",
    "<br>\n",
    "Việc có thể có được mức đánh giá trung bình cao nhưng lại khá ít đơn đặt hàng, theo em dự đoán rằng:<br>\n",
    "Việc mua hàng đối với các khách hàng đầu tiên đã xảy ra 1 vài trục trặc (như hư hỏng, không đúng như trong mô tả sản phẩm,...), dẫn tới sự kém tin tưởng của shop, nên dẫn đến mức đánh giá trung bình ngày một thấp đi. Số khách hàng đến sau dựa vào 1 số bình luận, số lượt đánh giá có trên tiki đưa ra quyết định mua hàng của mình.<br>\n",
    "Ngoài ra, thông tin được tìm kiếm ở câu 1, có một số cuốn sách bị trùng tên nhưng có nhiều shop bán. Việc một shop đầy sự tin tưởng trong suốt quá trình bán online trên tiki, dẫn đến việc khách hàng cũ sẽ ưu tiên mua sách ở shop quen thuộc hơn là mua ở một shop có lượt rating thấp."
   ]
  },
  {
   "cell_type": "markdown",
   "metadata": {},
   "source": [
    "---"
   ]
  },
  {
   "cell_type": "markdown",
   "metadata": {},
   "source": [
    "##### **Câu 3**"
   ]
  },
  {
   "cell_type": "markdown",
   "metadata": {},
   "source": [
    "- Khách hàng có thật sự quan trọng để ý đến loại phiên bản và bìa sách?"
   ]
  },
  {
   "cell_type": "markdown",
   "metadata": {},
   "source": [
    "**Trả lời câu hỏi thành công** <br>\n",
    "Nếu chúng ta biết được nhu cầu của khách hàng, việc sản xuất cho nhà nhà sản xuất sẽ thuận tiện hơn, đáp ứng dược cung cầu của thị trường. Từ đó sẽ phát triển hơn trong việc phát hành sách"
   ]
  },
  {
   "cell_type": "markdown",
   "metadata": {},
   "source": [
    "Nhiều thể loại sách khác nhau sẽ có những loại `book_cover` và `edition` khác nhau.\n",
    "Ta vẫn tiếp tục thử với thể loại `Light novel` "
   ]
  },
  {
   "cell_type": "code",
   "execution_count": null,
   "metadata": {},
   "outputs": [],
   "source": [
    "new_df = get_df_by_categories('Light novel')\n",
    "print(list(new_df.edition.unique()))\n",
    "print(list(new_df.book_cover.unique()))"
   ]
  },
  {
   "cell_type": "markdown",
   "metadata": {},
   "source": [
    "Hmm ta vẫn còn thấy dữ liệu chưa được xử lý để phục vụ cho câu hỏi này. Ta sẽ thay đổi các `nan` thành `None`"
   ]
  },
  {
   "cell_type": "code",
   "execution_count": null,
   "metadata": {},
   "outputs": [],
   "source": [
    "new_df.loc[new_df.edition.isnull(), 'edition'] = 'None'\n",
    "new_df.loc[new_df.book_cover.isnull(), 'book_cover'] = 'None'"
   ]
  },
  {
   "cell_type": "markdown",
   "metadata": {},
   "source": [
    "Ta sẽ trực quan hoá bằng biểu đồ đễ tiện quan sát hơn"
   ]
  },
  {
   "cell_type": "code",
   "execution_count": null,
   "metadata": {},
   "outputs": [],
   "source": [
    "plot_df = new_df.groupby(['edition', 'book_cover'])['all_time_quantity_sold'].sum()\n",
    "plot_df\n",
    "plt.style.use('ggplot')\n",
    "fig, ax = plt.subplots(figsize=(15, 8))\n",
    "ax = plot_df.plot(kind = 'bar', rot = 45)\n",
    "ax.set_title('The quantity sold categorized by Edition and Book cover')\n",
    "ax.set(xlabel = 'Edition & Book Cover', ylabel = 'Quantity Sold')\n"
   ]
  },
  {
   "cell_type": "markdown",
   "metadata": {},
   "source": [
    "Hmm ta có thể thấy rõ rằng là mọi người mua thể loại `Light novel` này đa số là quan tâm bản thường và có loại bìa mềm, chiếm hơn thể loại bản thường và không có bìa"
   ]
  },
  {
   "cell_type": "markdown",
   "metadata": {},
   "source": [
    "---"
   ]
  },
  {
   "attachments": {},
   "cell_type": "markdown",
   "metadata": {},
   "source": [
    "##### **Câu 4**"
   ]
  },
  {
   "attachments": {},
   "cell_type": "markdown",
   "metadata": {},
   "source": [
    "- Có phải khi sự đánh giá (`rating_average`) của 1 cuốn sách nào đó cao thì shop sẽ khuyến mãi ưu đãi nhiều (`discount_rate`) cho khách hàng?"
   ]
  },
  {
   "attachments": {},
   "cell_type": "markdown",
   "metadata": {},
   "source": [
    "**Trả lời câu hỏi thành công**\n",
    "\n",
    "Tìm hiểu được về việc đánh giá của khách hàng có ảnh hưởng đến giảm giá của shop không? từ đó shop có thể có ra thêm các loại event sale hợp lý để tăng sự tin tưởng của khách hàng và lấy được thêm các rating cao"
   ]
  },
  {
   "attachments": {},
   "cell_type": "markdown",
   "metadata": {},
   "source": [
    "Vẫn tiếp tục với 1 thể loại sách để xem rõ ràng hơn về `discount_rate`, ta sẽ chọn thể loại `Light novel`"
   ]
  },
  {
   "attachments": {},
   "cell_type": "markdown",
   "metadata": {},
   "source": [
    "<font color=red>Khó khăn</font>:\n",
    "- Quan sát toàn bộ số lượng sẽ dẫn đến chúng ta khó thấy sự khác biệt trong thay đổi tỉ lệ `discount_rate`. Ta sẽ số liệu thành thành sách dược bán vào năm 2021 và năm 2022.\n",
    "- Ngoài ra, ta cũng sẽ tạo 1 khoảng mức ratings:"
   ]
  },
  {
   "attachments": {},
   "cell_type": "markdown",
   "metadata": {},
   "source": [
    "**(0,0)** ứng với 0 sao <br>\n",
    "**(0,1)** ứng với (0,1) <br>\n",
    "**(1,2)** ứng với [1,2) <br>\n",
    "**(2,3)** ứng với [2,3) <br>\n",
    "**(3,4)** ứng với [3,4) <br>\n",
    "**(4,5)** ứng với [4,5) <br>\n",
    "**(5,5)** ứng với 5 sao <br>"
   ]
  },
  {
   "cell_type": "code",
   "execution_count": 64,
   "metadata": {},
   "outputs": [],
   "source": [
    "df_2021 = new_df.loc[(new_df['day_ago_created'] > 365) & (new_df['day_ago_created'] <= 730)]\n",
    "df_2022 = new_df.loc[new_df['day_ago_created'] <= 365]\n",
    "\n",
    "new_df_2021 = df_2021[['discount_rate', 'rating_average']]\n",
    "new_df_2022 = df_2022[['discount_rate', 'rating_average']]\n",
    "\n",
    "temp_df_2021 = pd.DataFrame({\"rating_range\": new_df_2021.rating_average.apply(rating_range)})\n",
    "temp_df_2022 = pd.DataFrame({\"rating_range\": new_df_2022.rating_average.apply(rating_range)})\n",
    "\n",
    "new_df_2021 = pd.concat([new_df_2021, temp_df_2021], axis= 1)\n",
    "new_df_2022 = pd.concat([new_df_2022, temp_df_2022], axis= 1)\n"
   ]
  },
  {
   "attachments": {},
   "cell_type": "markdown",
   "metadata": {},
   "source": [
    "Ta sẽ trực quan hoá dữ liệu để tiện quan sát hơn"
   ]
  },
  {
   "cell_type": "code",
   "execution_count": 65,
   "metadata": {},
   "outputs": [
    {
     "data": {
      "text/plain": [
       "[Text(0.5, 0, 'Rating Range'), Text(0, 0.5, 'Discount Rate')]"
      ]
     },
     "execution_count": 65,
     "metadata": {},
     "output_type": "execute_result"
    },
    {
     "data": {
      "image/png": "[encoded data removed]",
      "text/plain": [
       "<Figure size 1500x800 with 2 Axes>"
      ]
     },
     "metadata": {},
     "output_type": "display_data"
    }
   ],
   "source": [
    "new_df_2021 = new_df_2021.sort_values('rating_range')\n",
    "new_df_2022 = new_df_2022.sort_values('rating_range')\n",
    "\n",
    "fig, axes = plt.subplots(nrows = 2, ncols = 1, figsize=(15, 8))\n",
    "plt.subplots_adjust(hspace = 1)\n",
    "\n",
    "sns.boxenplot(data = new_df_2021, x = 'rating_range', y = 'discount_rate', ax = axes[0])\n",
    "axes[0].set_title('The discount rate of the rating range from 2021')\n",
    "axes[0].set(xlabel = 'Rating Range', ylabel = 'Discount Rate')\n",
    "\n",
    "sns.boxenplot(data = new_df_2022, x = 'rating_range', y = 'discount_rate', ax = axes[1])\n",
    "axes[1].set_title('The discount rate of the rating range from 2022')\n",
    "axes[1].set(xlabel = 'Rating Range', ylabel = 'Discount Rate')"
   ]
  },
  {
   "attachments": {},
   "cell_type": "markdown",
   "metadata": {},
   "source": [
    " Ta cảm thấy xu hướng năm 2022 càng ngày càng rõ rệt hơn về mức giảm giá. Năm 2021 thì discount_rate còn trải dài đều từ 10% đến 30% vào những sản phẩm từ 4 sao đến 5 sao và những mặt hàng 0 sao thì chưa đa dạng về discount_rate. Vào năm 2022 thì các shop đã cho ra những mức discount_rate ở những sản phẩm 4 sao đến 5 sao càng rơi vào mức 15% đến 25% và những mặt hàng 0 sao thì đa dạng hơn về discount_rate. Qua đây thì ta dự đoán thêm về xu hướng năm 2023 chăng?\n",
    "\n"
   ]
  },
  {
   "attachments": {},
   "cell_type": "markdown",
   "metadata": {},
   "source": [
    "##### **Câu 5**"
   ]
  },
  {
   "attachments": {},
   "cell_type": "markdown",
   "metadata": {},
   "source": [
    "- Dự đoán giá của một sản phẩm sách dựa vào các đặc trưng: rating_average, review_count, inventory_type,.."
   ]
  },
  {
   "cell_type": "markdown",
   "metadata": {},
   "source": [
    "**Trả lời câu hỏi thành công** <br>\n"
   ]
  },
  {
   "cell_type": "code",
   "execution_count": null,
   "metadata": {},
   "outputs": [],
   "source": [
    "pd.set_option('display.max_columns', None)\n",
    "import warnings\n",
    "warnings.filterwarnings(\"ignore\")"
   ]
  },
  {
   "cell_type": "code",
   "execution_count": null,
   "metadata": {},
   "outputs": [],
   "source": [
    "df.isna().sum()"
   ]
  },
  {
   "cell_type": "code",
   "execution_count": null,
   "metadata": {},
   "outputs": [],
   "source": [
    "numeric_cols = df.select_dtypes(include=np.number).columns\n",
    "numeric_cols"
   ]
  },
  {
   "cell_type": "code",
   "execution_count": null,
   "metadata": {},
   "outputs": [],
   "source": [
    "numeric_profiles = {'missing_ratio': df[numeric_cols].isna().sum() * 100.0/len(df[numeric_cols]),\n",
    "                        'min': df[numeric_cols].min(),\n",
    "                        'max': df[numeric_cols].max()}\n",
    "nume_col_profiles_df = pd.DataFrame(numeric_profiles).transpose()\n",
    "nume_col_profiles_df"
   ]
  },
  {
   "cell_type": "code",
   "execution_count": null,
   "metadata": {},
   "outputs": [],
   "source": [
    "cate_cols = set(df.columns) - set(numeric_cols)\n",
    "cate_profiles = {'missing_ratio': df[cate_cols].isna().sum() * 100.0/len(df[cate_cols]),\n",
    "               #   'zero_values_ratio':  df[cate_cols].eq(0).sum(axis=1) * 100.0/len(df[cate_cols]),\n",
    "                      'num_diff_vals': df[cate_cols].nunique(dropna=True),\n",
    "                      'diff_vals': df[cate_cols].stack(dropna=True).groupby(level=[1]).unique()}\n",
    "cate_col_profiles_df = pd.DataFrame(cate_profiles).transpose()\n",
    "cate_col_profiles_df"
   ]
  },
  {
   "cell_type": "code",
   "execution_count": null,
   "metadata": {},
   "outputs": [],
   "source": [
    "cate_col_profiles_df.loc['diff_vals','book_cover']"
   ]
  },
  {
   "cell_type": "code",
   "execution_count": null,
   "metadata": {},
   "outputs": [],
   "source": [
    "df.loc[df['number_of_page'].max() == df['number_of_page']]"
   ]
  },
  {
   "cell_type": "code",
   "execution_count": null,
   "metadata": {},
   "outputs": [],
   "source": [
    "df.loc[df['rating_average'] == 0.0]"
   ]
  },
  {
   "cell_type": "markdown",
   "metadata": {},
   "source": [
    "---"
   ]
  }
 ],
 "metadata": {
  "kernelspec": {
   "display_name": "myenv",
   "language": "python",
   "name": "python3"
  },
  "language_info": {
   "codemirror_mode": {
    "name": "ipython",
    "version": 3
   },
   "file_extension": ".py",
   "mimetype": "text/x-python",
   "name": "python",
   "nbconvert_exporter": "python",
   "pygments_lexer": "ipython3",
   "version": "3.9.13"
  },
  "vscode": {
   "interpreter": {
    "hash": "17b49a1913d9be682908a9e6ac75a9b3bca45cee2e4d43cdb55ba78702e35dcb"
   }
  }
 },
 "nbformat": 4,
 "nbformat_minor": 2
}
