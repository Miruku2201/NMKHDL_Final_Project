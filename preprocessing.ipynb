{
 "cells": [
  {
   "cell_type": "markdown",
   "metadata": {},
   "source": [
    "**<p style = \"text-align: center\">TRƯỜNG ĐẠI HỌC KHOA HỌC TỰ NHIÊN - ĐẠI HỌC QUỐC GIA TPHCM</p>**"
   ]
  },
  {
   "cell_type": "markdown",
   "metadata": {},
   "source": [
    "# **<p style = \"text-align: center\">NHẬP MÔN KHOA HỌC DỮ LIỆU</p>**\n",
    "## **<p style = \"text-align: center\">Đồ án Cuối kì</p>**\n",
    "### <p style = \"text-align: center\"> <b>Đề tài:</b> Phân tích, khám phá dữ liệu về sách trên web thương mại điện tử (tiki)</p>\n",
    "**Sinh viên thực hiện**\n",
    "\n",
    "| Mã số sinh viên | Họ và tên |\n",
    "| --- | --- |\n",
    "| 20120040 | Nguyễn Quang Gia Bảo |\n",
    "| 20120136 | Huỳnh Tuấn Nam |\n",
    "| 20120158 | Trần Hoàng Anh Phi |"
   ]
  },
  {
   "cell_type": "markdown",
   "metadata": {},
   "source": [
    "---"
   ]
  },
  {
   "cell_type": "markdown",
   "metadata": {},
   "source": [
    "# **1. Thông tin về dữ liệu**<br>\n",
    "Dữ liệu được sử dụng trong bài được lấy từ trang: <a href = \"https://tiki.vn/sach-truyen-tieng-viet/c316\"> https://tiki.vn/sach-truyen-tieng-viet/c316</a><br>\n",
    "\n",
    "Vì website <a href = 'https://tiki.vn/'> https://tiki.vn/ </a> có khá là nhiều mặt hàng nên nhóm chỉ chọn ra danh mục <font color=red>sách tiếng Việt</font> để crawl và thực hiện đồ án này.\n"
   ]
  },
  {
   "cell_type": "markdown",
   "metadata": {},
   "source": [
    "# **2. Khám phá dữ liệu**<br>"
   ]
  },
  {
   "cell_type": "markdown",
   "metadata": {},
   "source": [
    "#### Cài đặt các thư viện cần thiết"
   ]
  },
  {
   "cell_type": "code",
   "execution_count": 1,
   "metadata": {},
   "outputs": [],
   "source": [
    "# !pip install fuzzywuzzy\n",
    "# !pip install python-Levenshtein"
   ]
  },
  {
   "cell_type": "markdown",
   "metadata": {},
   "source": [
    "#### Import các package cần thiết"
   ]
  },
  {
   "cell_type": "code",
   "execution_count": 2,
   "metadata": {},
   "outputs": [],
   "source": [
    "import pandas as pd\n",
    "import numpy as np"
   ]
  },
  {
   "cell_type": "markdown",
   "metadata": {},
   "source": [
    "#### Đọc dữ liệu đã thu thập từ file csv "
   ]
  },
  {
   "cell_type": "code",
   "execution_count": 3,
   "metadata": {},
   "outputs": [
    {
     "name": "stderr",
     "output_type": "stream",
     "text": [
      "C:\\Users\\Admin\\AppData\\Local\\Temp\\ipykernel_16944\\906639567.py:1: DtypeWarning: Columns (22,27,29,30,31,32,33,34,35,36,37,38,39,40,41,43,45,46,47,48,49,50,51,52,53,54,56,57,58,59,60,61,62,63,64,65,67,68,69,70,71,72,73,74,75,76,77,78,79,80,81,82,83) have mixed types. Specify dtype option on import or set low_memory=False.\n",
      "  df = pd.read_csv('full_data/data.csv')\n"
     ]
    },
    {
     "name": "stdout",
     "output_type": "stream",
     "text": [
      "(96647, 84)\n"
      "/var/folders/gg/4_1r0r1n6nn2sslng47v_j180000gn/T/ipykernel_74980/906639567.py:1: DtypeWarning: Columns (22,27,29,30,31,32,33,34,35,36,37,38,39,40,41,43,45,46,47,48,49,50,51,52,53,54,56,57,58,59,60,61,62,63,64,65,67,68,69,70,71,72,73,74,75,76,77,78,79,80,81,82,83) have mixed types. Specify dtype option on import or set low_memory=False.\n",
      "  df = pd.read_csv('full_data/data.csv')\n"
     ]
    },
    {
     "data": {
      "text/html": [
       "<div>\n",
       "<style scoped>\n",
       "    .dataframe tbody tr th:only-of-type {\n",
       "        vertical-align: middle;\n",
       "    }\n",
       "\n",
       "    .dataframe tbody tr th {\n",
       "        vertical-align: top;\n",
       "    }\n",
       "\n",
       "    .dataframe thead th {\n",
       "        text-align: right;\n",
       "    }\n",
       "</style>\n",
       "<table border=\"1\" class=\"dataframe\">\n",
       "  <thead>\n",
       "    <tr style=\"text-align: right;\">\n",
       "      <th></th>\n",
       "      <th>Unnamed: 0</th>\n",
       "      <th>id</th>\n",
       "      <th>master_id</th>\n",
       "      <th>sku</th>\n",
       "      <th>name</th>\n",
       "      <th>short_url</th>\n",
       "      <th>book_cover</th>\n",
       "      <th>price</th>\n",
       "      <th>original_price</th>\n",
       "      <th>discount_rate</th>\n",
       "      <th>...</th>\n",
       "      <th>kich_thuoc</th>\n",
       "      <th>tai_trong</th>\n",
       "      <th>device_brand</th>\n",
       "      <th>do_nhay</th>\n",
       "      <th>tan_so</th>\n",
       "      <th>huong_dan_bao_quan</th>\n",
       "      <th>dac_diem_noi_bat</th>\n",
       "      <th>dieu_kien_su_dung</th>\n",
       "      <th>dia_chi_su_dung</th>\n",
       "      <th>bluetooth</th>\n",
       "    </tr>\n",
       "  </thead>\n",
       "  <tbody>\n",
       "    <tr>\n",
       "      <th>0</th>\n",
       "      <td>0</td>\n",
       "      <td>204317934</td>\n",
       "      <td>204317934</td>\n",
       "      <td>9972713357587</td>\n",
       "      <td>1111 - Nhật Ký Sáu Vạn Dặm Trên Yên Xe Cà Tàng</td>\n",
       "      <td>https://tiki.vn/product-p204317934.html?spid=2...</td>\n",
       "      <td>NaN</td>\n",
       "      <td>262000</td>\n",
       "      <td>325000</td>\n",
       "      <td>19</td>\n",
       "      <td>...</td>\n",
       "      <td>NaN</td>\n",
       "      <td>NaN</td>\n",
       "      <td>NaN</td>\n",
       "      <td>NaN</td>\n",
       "      <td>NaN</td>\n",
       "      <td>NaN</td>\n",
       "      <td>NaN</td>\n",
       "      <td>NaN</td>\n",
       "      <td>NaN</td>\n",
       "      <td>NaN</td>\n",
       "    </tr>\n",
       "    <tr>\n",
       "      <th>1</th>\n",
       "      <td>1</td>\n",
       "      <td>205279963</td>\n",
       "      <td>205279963</td>\n",
       "      <td>7618382614299</td>\n",
       "      <td>1111 - Nhật Ký Sáu Vạn Dặm Trên Yên Xe Cà Tàng</td>\n",
       "      <td>https://tiki.vn/product-p205279963.html?spid=2...</td>\n",
       "      <td>Bìa mềm</td>\n",
       "      <td>256750</td>\n",
       "      <td>325000</td>\n",
       "      <td>21</td>\n",
       "      <td>...</td>\n",
       "      <td>NaN</td>\n",
       "      <td>NaN</td>\n",
       "      <td>NaN</td>\n",
       "      <td>NaN</td>\n",
       "      <td>NaN</td>\n",
       "      <td>NaN</td>\n",
       "      <td>NaN</td>\n",
       "      <td>NaN</td>\n",
       "      <td>NaN</td>\n",
       "      <td>NaN</td>\n",
       "    </tr>\n",
       "    <tr>\n",
       "      <th>2</th>\n",
       "      <td>2</td>\n",
       "      <td>193209826</td>\n",
       "      <td>193209826</td>\n",
       "      <td>5001141446127</td>\n",
       "      <td>Con Đường Tơ Lụa - Vạn Dặm Xa Từ Pakistan Tới ...</td>\n",
       "      <td>https://tiki.vn/product-p193209826.html?spid=1...</td>\n",
       "      <td>Bìa mềm</td>\n",
       "      <td>95100</td>\n",
       "      <td>129000</td>\n",
       "      <td>26</td>\n",
       "      <td>...</td>\n",
       "      <td>NaN</td>\n",
       "      <td>NaN</td>\n",
       "      <td>NaN</td>\n",
       "      <td>NaN</td>\n",
       "      <td>NaN</td>\n",
       "      <td>NaN</td>\n",
       "      <td>NaN</td>\n",
       "      <td>NaN</td>\n",
       "      <td>NaN</td>\n",
       "      <td>NaN</td>\n",
       "    </tr>\n",
       "    <tr>\n",
       "      <th>3</th>\n",
       "      <td>3</td>\n",
       "      <td>205288789</td>\n",
       "      <td>205288789</td>\n",
       "      <td>9035774965791</td>\n",
       "      <td>1111 - Nhật Ký Sáu Vạn Dặm Trên Yên Xe Cà Tàng</td>\n",
       "      <td>https://tiki.vn/product-p205288789.html?spid=2...</td>\n",
       "      <td>Bìa mềm</td>\n",
       "      <td>292500</td>\n",
       "      <td>325000</td>\n",
       "      <td>10</td>\n",
       "      <td>...</td>\n",
       "      <td>NaN</td>\n",
       "      <td>NaN</td>\n",
       "      <td>NaN</td>\n",
       "      <td>NaN</td>\n",
       "      <td>NaN</td>\n",
       "      <td>NaN</td>\n",
       "      <td>NaN</td>\n",
       "      <td>NaN</td>\n",
       "      <td>NaN</td>\n",
       "      <td>NaN</td>\n",
       "    </tr>\n",
       "    <tr>\n",
       "      <th>4</th>\n",
       "      <td>4</td>\n",
       "      <td>204649516</td>\n",
       "      <td>204649516</td>\n",
       "      <td>8708257676679</td>\n",
       "      <td>Sách - 1111 - NHẬT KÝ SÁU VẠN DẶM TRÊN YÊN XE ...</td>\n",
       "      <td>https://tiki.vn/product-p204649516.html?spid=2...</td>\n",
       "      <td>NaN</td>\n",
       "      <td>292500</td>\n",
       "      <td>325000</td>\n",
       "      <td>10</td>\n",
       "      <td>...</td>\n",
       "      <td>NaN</td>\n",
       "      <td>NaN</td>\n",
       "      <td>NaN</td>\n",
       "      <td>NaN</td>\n",
       "      <td>NaN</td>\n",
       "      <td>NaN</td>\n",
       "      <td>NaN</td>\n",
       "      <td>NaN</td>\n",
       "      <td>NaN</td>\n",
       "      <td>NaN</td>\n",
       "    </tr>\n",
       "  </tbody>\n",
       "</table>\n",
       "<p>5 rows × 84 columns</p>\n",
       "</div>"
      ],
      "text/plain": [
       "   Unnamed: 0         id  master_id            sku  \\\n",
       "0           0  204317934  204317934  9972713357587   \n",
       "1           1  205279963  205279963  7618382614299   \n",
       "2           2  193209826  193209826  5001141446127   \n",
       "3           3  205288789  205288789  9035774965791   \n",
       "4           4  204649516  204649516  8708257676679   \n",
       "\n",
       "                                                name  \\\n",
       "0     1111 - Nhật Ký Sáu Vạn Dặm Trên Yên Xe Cà Tàng   \n",
       "1     1111 - Nhật Ký Sáu Vạn Dặm Trên Yên Xe Cà Tàng   \n",
       "2  Con Đường Tơ Lụa - Vạn Dặm Xa Từ Pakistan Tới ...   \n",
       "3     1111 - Nhật Ký Sáu Vạn Dặm Trên Yên Xe Cà Tàng   \n",
       "4  Sách - 1111 - NHẬT KÝ SÁU VẠN DẶM TRÊN YÊN XE ...   \n",
       "\n",
       "                                           short_url book_cover   price  \\\n",
       "0  https://tiki.vn/product-p204317934.html?spid=2...        NaN  262000   \n",
       "1  https://tiki.vn/product-p205279963.html?spid=2...    Bìa mềm  256750   \n",
       "2  https://tiki.vn/product-p193209826.html?spid=1...    Bìa mềm   95100   \n",
       "3  https://tiki.vn/product-p205288789.html?spid=2...    Bìa mềm  292500   \n",
       "4  https://tiki.vn/product-p204649516.html?spid=2...        NaN  292500   \n",
       "\n",
       "   original_price  discount_rate  ...  kich_thuoc  tai_trong device_brand  \\\n",
       "0          325000             19  ...         NaN        NaN          NaN   \n",
       "1          325000             21  ...         NaN        NaN          NaN   \n",
       "2          129000             26  ...         NaN        NaN          NaN   \n",
       "3          325000             10  ...         NaN        NaN          NaN   \n",
       "4          325000             10  ...         NaN        NaN          NaN   \n",
       "\n",
       "  do_nhay  tan_so huong_dan_bao_quan  dac_diem_noi_bat dieu_kien_su_dung  \\\n",
       "0     NaN     NaN                NaN               NaN               NaN   \n",
       "1     NaN     NaN                NaN               NaN               NaN   \n",
       "2     NaN     NaN                NaN               NaN               NaN   \n",
       "3     NaN     NaN                NaN               NaN               NaN   \n",
       "4     NaN     NaN                NaN               NaN               NaN   \n",
       "\n",
       "  dia_chi_su_dung bluetooth  \n",
       "0             NaN       NaN  \n",
       "1             NaN       NaN  \n",
       "2             NaN       NaN  \n",
       "3             NaN       NaN  \n",
       "4             NaN       NaN  \n",
       "\n",
       "[5 rows x 84 columns]"
      ]
     },
     "metadata": {},
     "output_type": "display_data"
    }
   ],
   "source": [
    "df = pd.read_csv('full_data/data.csv')\n",
    "print(df.shape)\n",
    "display(df.head())"
   ]
  },
  {
   "cell_type": "code",
   "execution_count": 4,
   "metadata": {},
   "outputs": [
    {
     "name": "stdout",
     "output_type": "stream",
     "text": [
      "<class 'pandas.core.frame.DataFrame'>\n",
      "RangeIndex: 96647 entries, 0 to 96646\n",
      "Data columns (total 84 columns):\n",
      " #   Column                        Non-Null Count  Dtype  \n",
      "---  ------                        --------------  -----  \n",
      " 0   Unnamed: 0                    96647 non-null  int64  \n",
      " 1   id                            96647 non-null  int64  \n",
      " 2   master_id                     96647 non-null  int64  \n",
      " 3   sku                           96647 non-null  int64  \n",
      " 4   name                          96647 non-null  object \n",
      " 5   short_url                     96647 non-null  object \n",
      " 6   book_cover                    66029 non-null  object \n",
      " 7   price                         96647 non-null  int64  \n",
      " 8   original_price                96647 non-null  int64  \n",
      " 9   discount_rate                 96647 non-null  int64  \n",
      " 10  rating_average                96647 non-null  float64\n",
      " 11  review_count                  96647 non-null  int64  \n",
      " 12  inventory_type                96647 non-null  object \n",
      " 13  productset_group_name         96647 non-null  object \n",
      " 14  day_ago_created               96647 non-null  int64  \n",
      " 15  categories                    96284 non-null  object \n",
      " 16  all_time_quantity_sold        96647 non-null  int64  \n",
      " 17  authors                       62554 non-null  object \n",
      " 18  publisher_vn                  96159 non-null  object \n",
      " 19  publication_date              44148 non-null  object \n",
      " 20  dimensions                    32987 non-null  object \n",
      " 21  manufacturer                  80200 non-null  object \n",
      " 22  number_of_page                54673 non-null  object \n",
      " 23  dich_gia                      13726 non-null  object \n",
      " 24  edition                       2161 non-null   object \n",
      " 25  brand                         69 non-null     object \n",
      " 26  brand_country                 49 non-null     object \n",
      " 27  item_model_number             13 non-null     object \n",
      " 28  origin                        58 non-null     object \n",
      " 29  product_weight                10 non-null     object \n",
      " 30  battery_capacity              2 non-null      object \n",
      " 31  camera                        1 non-null      object \n",
      " 32  chong_nuoc                    1 non-null      object \n",
      " 33  loai_day                      2 non-null      object \n",
      " 34  san_pham                      2 non-null      object \n",
      " 35  storage                       1 non-null      object \n",
      " 36  battery_life                  1 non-null      object \n",
      " 37  charge_time                   1 non-null      object \n",
      " 38  do_chiu_nuoc                  1 non-null      object \n",
      " 39  included_accessories          2 non-null      object \n",
      " 40  material                      7 non-null      object \n",
      " 41  luu_y                         20 non-null     object \n",
      " 42  minimum_inbound_policy_days   1 non-null      float64\n",
      " 43  expiry_time                   10 non-null     object \n",
      " 44  shelf_life_days               2 non-null      float64\n",
      " 45  chat_lieu                     2 non-null      object \n",
      " 46  audio_power_output            1 non-null      object \n",
      " 47  audio_technology              1 non-null      object \n",
      " 48  dieu_khien_bang_giong_noi     1 non-null      object \n",
      " 49  dieu_khien_tivi               1 non-null      object \n",
      " 50  digital_tivi_dvb_t2           1 non-null      object \n",
      " 51  display_type                  1 non-null      object \n",
      " 52  frequency                     1 non-null      object \n",
      " 53  hdh_giao_dien                 1 non-null      object \n",
      " 54  image_processing_technology   1 non-null      object \n",
      " 55  network_hdmi                  1 non-null      float64\n",
      " 56  network_internet              1 non-null      object \n",
      " 57  network_wifi                  1 non-null      object \n",
      " 58  remote_thong_minh             1 non-null      object \n",
      " 59  resolution                    1 non-null      object \n",
      " 60  screen_mirroring              1 non-null      object \n",
      " 61  screen_size                   1 non-null      object \n",
      " 62  size_without_stand_table_top  1 non-null      object \n",
      " 63  size_with_stand_table_top     1 non-null      object \n",
      " 64  tivi_type                     1 non-null      object \n",
      " 65  ung_dung                      1 non-null      object \n",
      " 66  usb                           1 non-null      float64\n",
      " 67  weight_without_stand          1 non-null      object \n",
      " 68  weight_with_stand             1 non-null      object \n",
      " 69  size                          2 non-null      object \n",
      " 70  loai_pin                      1 non-null      object \n",
      " 71  thoi_gian_su_dung             1 non-null      object \n",
      " 72  capacity                      3 non-null      object \n",
      " 73  huong_dan_su_dung             5 non-null      object \n",
      " 74  kich_thuoc                    4 non-null      object \n",
      " 75  tai_trong                     1 non-null      object \n",
      " 76  device_brand                  1 non-null      object \n",
      " 77  do_nhay                       1 non-null      object \n",
      " 78  tan_so                        2 non-null      object \n",
      " 79  huong_dan_bao_quan            3 non-null      object \n",
      " 80  dac_diem_noi_bat              1 non-null      object \n",
      " 81  dieu_kien_su_dung             1 non-null      object \n",
      " 82  dia_chi_su_dung               1 non-null      object \n",
      " 83  bluetooth                     1 non-null      object \n",
      "dtypes: float64(5), int64(10), object(69)\n",
      "memory usage: 61.9+ MB\n"
     ]
    }
   ],
   "source": [
    "df.info()"
   ]
  },
  {
   "cell_type": "markdown",
   "metadata": {},
   "source": [
    "***"
   ]
  },
  {
   "attachments": {},
   "cell_type": "markdown",
   "metadata": {},
   "source": [
    "## **Cleaning data**"
   ]
  },
  {
   "cell_type": "markdown",
   "metadata": {},
   "source": [
    "Drop cột 'Unnamed: 0'"
   ]
  },
  {
   "cell_type": "code",
   "execution_count": 5,
   "metadata": {},
   "outputs": [
    {
     "data": {
      "text/html": [
       "<div>\n",
       "<style scoped>\n",
       "    .dataframe tbody tr th:only-of-type {\n",
       "        vertical-align: middle;\n",
       "    }\n",
       "\n",
       "    .dataframe tbody tr th {\n",
       "        vertical-align: top;\n",
       "    }\n",
       "\n",
       "    .dataframe thead th {\n",
       "        text-align: right;\n",
       "    }\n",
       "</style>\n",
       "<table border=\"1\" class=\"dataframe\">\n",
       "  <thead>\n",
       "    <tr style=\"text-align: right;\">\n",
       "      <th></th>\n",
       "      <th>id</th>\n",
       "      <th>master_id</th>\n",
       "      <th>sku</th>\n",
       "      <th>name</th>\n",
       "      <th>short_url</th>\n",
       "      <th>book_cover</th>\n",
       "      <th>price</th>\n",
       "      <th>original_price</th>\n",
       "      <th>discount_rate</th>\n",
       "      <th>rating_average</th>\n",
       "      <th>...</th>\n",
       "      <th>kich_thuoc</th>\n",
       "      <th>tai_trong</th>\n",
       "      <th>device_brand</th>\n",
       "      <th>do_nhay</th>\n",
       "      <th>tan_so</th>\n",
       "      <th>huong_dan_bao_quan</th>\n",
       "      <th>dac_diem_noi_bat</th>\n",
       "      <th>dieu_kien_su_dung</th>\n",
       "      <th>dia_chi_su_dung</th>\n",
       "      <th>bluetooth</th>\n",
       "    </tr>\n",
       "  </thead>\n",
       "  <tbody>\n",
       "    <tr>\n",
       "      <th>0</th>\n",
       "      <td>204317934</td>\n",
       "      <td>204317934</td>\n",
       "      <td>9972713357587</td>\n",
       "      <td>1111 - Nhật Ký Sáu Vạn Dặm Trên Yên Xe Cà Tàng</td>\n",
       "      <td>https://tiki.vn/product-p204317934.html?spid=2...</td>\n",
       "      <td>NaN</td>\n",
       "      <td>262000</td>\n",
       "      <td>325000</td>\n",
       "      <td>19</td>\n",
       "      <td>5.0</td>\n",
       "      <td>...</td>\n",
       "      <td>NaN</td>\n",
       "      <td>NaN</td>\n",
       "      <td>NaN</td>\n",
       "      <td>NaN</td>\n",
       "      <td>NaN</td>\n",
       "      <td>NaN</td>\n",
       "      <td>NaN</td>\n",
       "      <td>NaN</td>\n",
       "      <td>NaN</td>\n",
       "      <td>NaN</td>\n",
       "    </tr>\n",
       "    <tr>\n",
       "      <th>1</th>\n",
       "      <td>205279963</td>\n",
       "      <td>205279963</td>\n",
       "      <td>7618382614299</td>\n",
       "      <td>1111 - Nhật Ký Sáu Vạn Dặm Trên Yên Xe Cà Tàng</td>\n",
       "      <td>https://tiki.vn/product-p205279963.html?spid=2...</td>\n",
       "      <td>Bìa mềm</td>\n",
       "      <td>256750</td>\n",
       "      <td>325000</td>\n",
       "      <td>21</td>\n",
       "      <td>0.0</td>\n",
       "      <td>...</td>\n",
       "      <td>NaN</td>\n",
       "      <td>NaN</td>\n",
       "      <td>NaN</td>\n",
       "      <td>NaN</td>\n",
       "      <td>NaN</td>\n",
       "      <td>NaN</td>\n",
       "      <td>NaN</td>\n",
       "      <td>NaN</td>\n",
       "      <td>NaN</td>\n",
       "      <td>NaN</td>\n",
       "    </tr>\n",
       "    <tr>\n",
       "      <th>2</th>\n",
       "      <td>193209826</td>\n",
       "      <td>193209826</td>\n",
       "      <td>5001141446127</td>\n",
       "      <td>Con Đường Tơ Lụa - Vạn Dặm Xa Từ Pakistan Tới ...</td>\n",
       "      <td>https://tiki.vn/product-p193209826.html?spid=1...</td>\n",
       "      <td>Bìa mềm</td>\n",
       "      <td>95100</td>\n",
       "      <td>129000</td>\n",
       "      <td>26</td>\n",
       "      <td>4.8</td>\n",
       "      <td>...</td>\n",
       "      <td>NaN</td>\n",
       "      <td>NaN</td>\n",
       "      <td>NaN</td>\n",
       "      <td>NaN</td>\n",
       "      <td>NaN</td>\n",
       "      <td>NaN</td>\n",
       "      <td>NaN</td>\n",
       "      <td>NaN</td>\n",
       "      <td>NaN</td>\n",
       "      <td>NaN</td>\n",
       "    </tr>\n",
       "    <tr>\n",
       "      <th>3</th>\n",
       "      <td>205288789</td>\n",
       "      <td>205288789</td>\n",
       "      <td>9035774965791</td>\n",
       "      <td>1111 - Nhật Ký Sáu Vạn Dặm Trên Yên Xe Cà Tàng</td>\n",
       "      <td>https://tiki.vn/product-p205288789.html?spid=2...</td>\n",
       "      <td>Bìa mềm</td>\n",
       "      <td>292500</td>\n",
       "      <td>325000</td>\n",
       "      <td>10</td>\n",
       "      <td>0.0</td>\n",
       "      <td>...</td>\n",
       "      <td>NaN</td>\n",
       "      <td>NaN</td>\n",
       "      <td>NaN</td>\n",
       "      <td>NaN</td>\n",
       "      <td>NaN</td>\n",
       "      <td>NaN</td>\n",
       "      <td>NaN</td>\n",
       "      <td>NaN</td>\n",
       "      <td>NaN</td>\n",
       "      <td>NaN</td>\n",
       "    </tr>\n",
       "    <tr>\n",
       "      <th>4</th>\n",
       "      <td>204649516</td>\n",
       "      <td>204649516</td>\n",
       "      <td>8708257676679</td>\n",
       "      <td>Sách - 1111 - NHẬT KÝ SÁU VẠN DẶM TRÊN YÊN XE ...</td>\n",
       "      <td>https://tiki.vn/product-p204649516.html?spid=2...</td>\n",
       "      <td>NaN</td>\n",
       "      <td>292500</td>\n",
       "      <td>325000</td>\n",
       "      <td>10</td>\n",
       "      <td>0.0</td>\n",
       "      <td>...</td>\n",
       "      <td>NaN</td>\n",
       "      <td>NaN</td>\n",
       "      <td>NaN</td>\n",
       "      <td>NaN</td>\n",
       "      <td>NaN</td>\n",
       "      <td>NaN</td>\n",
       "      <td>NaN</td>\n",
       "      <td>NaN</td>\n",
       "      <td>NaN</td>\n",
       "      <td>NaN</td>\n",
       "    </tr>\n",
       "  </tbody>\n",
       "</table>\n",
       "<p>5 rows × 83 columns</p>\n",
       "</div>"
      ],
      "text/plain": [
       "          id  master_id            sku  \\\n",
       "0  204317934  204317934  9972713357587   \n",
       "1  205279963  205279963  7618382614299   \n",
       "2  193209826  193209826  5001141446127   \n",
       "3  205288789  205288789  9035774965791   \n",
       "4  204649516  204649516  8708257676679   \n",
       "\n",
       "                                                name  \\\n",
       "0     1111 - Nhật Ký Sáu Vạn Dặm Trên Yên Xe Cà Tàng   \n",
       "1     1111 - Nhật Ký Sáu Vạn Dặm Trên Yên Xe Cà Tàng   \n",
       "2  Con Đường Tơ Lụa - Vạn Dặm Xa Từ Pakistan Tới ...   \n",
       "3     1111 - Nhật Ký Sáu Vạn Dặm Trên Yên Xe Cà Tàng   \n",
       "4  Sách - 1111 - NHẬT KÝ SÁU VẠN DẶM TRÊN YÊN XE ...   \n",
       "\n",
       "                                           short_url book_cover   price  \\\n",
       "0  https://tiki.vn/product-p204317934.html?spid=2...        NaN  262000   \n",
       "1  https://tiki.vn/product-p205279963.html?spid=2...    Bìa mềm  256750   \n",
       "2  https://tiki.vn/product-p193209826.html?spid=1...    Bìa mềm   95100   \n",
       "3  https://tiki.vn/product-p205288789.html?spid=2...    Bìa mềm  292500   \n",
       "4  https://tiki.vn/product-p204649516.html?spid=2...        NaN  292500   \n",
       "\n",
       "   original_price  discount_rate  rating_average  ...  kich_thuoc tai_trong  \\\n",
       "0          325000             19             5.0  ...         NaN       NaN   \n",
       "1          325000             21             0.0  ...         NaN       NaN   \n",
       "2          129000             26             4.8  ...         NaN       NaN   \n",
       "3          325000             10             0.0  ...         NaN       NaN   \n",
       "4          325000             10             0.0  ...         NaN       NaN   \n",
       "\n",
       "  device_brand  do_nhay tan_so  huong_dan_bao_quan dac_diem_noi_bat  \\\n",
       "0          NaN      NaN    NaN                 NaN              NaN   \n",
       "1          NaN      NaN    NaN                 NaN              NaN   \n",
       "2          NaN      NaN    NaN                 NaN              NaN   \n",
       "3          NaN      NaN    NaN                 NaN              NaN   \n",
       "4          NaN      NaN    NaN                 NaN              NaN   \n",
       "\n",
       "  dieu_kien_su_dung dia_chi_su_dung bluetooth  \n",
       "0               NaN             NaN       NaN  \n",
       "1               NaN             NaN       NaN  \n",
       "2               NaN             NaN       NaN  \n",
       "3               NaN             NaN       NaN  \n",
       "4               NaN             NaN       NaN  \n",
       "\n",
       "[5 rows x 83 columns]"
      ]
     },
     "execution_count": 5,
     "metadata": {},
     "output_type": "execute_result"
    }
   ],
   "source": [
    "df = df.drop(columns='Unnamed: 0')\n",
    "df.head()"
   ]
  },
  {
   "cell_type": "markdown",
   "metadata": {},
   "source": [
    "Xem thử dữ liệu có bị trùng hay không?"
   ]
  },
  {
   "cell_type": "code",
   "execution_count": 6,
   "metadata": {},
   "outputs": [
    {
     "data": {
      "text/plain": [
       "8294"
      ]
     },
     "execution_count": 6,
     "metadata": {},
     "output_type": "execute_result"
    }
   ],
   "source": [
    "df.duplicated().sum()"
   ]
  },
  {
   "cell_type": "markdown",
   "metadata": {},
   "source": [
    "Vậy là dữ liệu có 8294 dòng trùng nhau, ta sẽ tiến hành xoá những dòng này"
   ]
  },
  {
   "cell_type": "code",
   "execution_count": 7,
   "metadata": {},
   "outputs": [
    {
     "data": {
      "text/plain": [
       "(88353, 83)"
      ]
     },
     "execution_count": 7,
     "metadata": {},
     "output_type": "execute_result"
    }
   ],
   "source": [
    "df = df.drop_duplicates(ignore_index=True)\n",
    "df.shape"
   ]
  },
  {
   "attachments": {},
   "cell_type": "markdown",
   "metadata": {},
   "source": [
    "#### **Mỗi dòng có ý nghĩa gì? Có các dòng có ý nghĩa khác nhau hay không?**"
   ]
  },
  {
   "attachments": {},
   "cell_type": "markdown",
   "metadata": {},
   "source": [
    "Mỗi dòng cho biết thông tin về một sản phẩm sách.\n",
    "\n",
    "Vì khi thu thập dữ liệu, có những sản phẩm khác loại bị tiki xếp vào chung danh mục nên ta thấy những columns lạ bị thêm vào, ta phải tiến hành xoá những columns này và những sản phẩm (dòng) <font color =red>lạc loài </font>"
   ]
  },
  {
   "cell_type": "code",
   "execution_count": 8,
   "metadata": {},
   "outputs": [
    {
     "data": {
      "text/plain": [
       "Index(['id', 'master_id', 'sku', 'name', 'short_url', 'book_cover', 'price',\n",
       "       'original_price', 'discount_rate', 'rating_average', 'review_count',\n",
       "       'inventory_type', 'productset_group_name', 'day_ago_created',\n",
       "       'categories', 'all_time_quantity_sold', 'authors', 'publisher_vn',\n",
       "       'publication_date', 'dimensions', 'manufacturer', 'number_of_page',\n",
       "       'dich_gia', 'edition', 'brand', 'brand_country', 'item_model_number',\n",
       "       'origin', 'product_weight', 'battery_capacity', 'camera', 'chong_nuoc',\n",
       "       'loai_day', 'san_pham', 'storage', 'battery_life', 'charge_time',\n",
       "       'do_chiu_nuoc', 'included_accessories', 'material', 'luu_y',\n",
       "       'minimum_inbound_policy_days', 'expiry_time', 'shelf_life_days',\n",
       "       'chat_lieu', 'audio_power_output', 'audio_technology',\n",
       "       'dieu_khien_bang_giong_noi', 'dieu_khien_tivi', 'digital_tivi_dvb_t2',\n",
       "       'display_type', 'frequency', 'hdh_giao_dien',\n",
       "       'image_processing_technology', 'network_hdmi', 'network_internet',\n",
       "       'network_wifi', 'remote_thong_minh', 'resolution', 'screen_mirroring',\n",
       "       'screen_size', 'size_without_stand_table_top',\n",
       "       'size_with_stand_table_top', 'tivi_type', 'ung_dung', 'usb',\n",
       "       'weight_without_stand', 'weight_with_stand', 'size', 'loai_pin',\n",
       "       'thoi_gian_su_dung', 'capacity', 'huong_dan_su_dung', 'kich_thuoc',\n",
       "       'tai_trong', 'device_brand', 'do_nhay', 'tan_so', 'huong_dan_bao_quan',\n",
       "       'dac_diem_noi_bat', 'dieu_kien_su_dung', 'dia_chi_su_dung',\n",
       "       'bluetooth'],\n",
       "      dtype='object')"
      ]
     },
     "execution_count": 8,
     "metadata": {},
     "output_type": "execute_result"
    }
   ],
   "source": [
    "df.columns"
   ]
  },
  {
   "cell_type": "code",
   "execution_count": 9,
   "metadata": {},
   "outputs": [
    {
     "data": {
      "text/html": [
       "<div>\n",
       "<style scoped>\n",
       "    .dataframe tbody tr th:only-of-type {\n",
       "        vertical-align: middle;\n",
       "    }\n",
       "\n",
       "    .dataframe tbody tr th {\n",
       "        vertical-align: top;\n",
       "    }\n",
       "\n",
       "    .dataframe thead th {\n",
       "        text-align: right;\n",
       "    }\n",
       "</style>\n",
       "<table border=\"1\" class=\"dataframe\">\n",
       "  <thead>\n",
       "    <tr style=\"text-align: right;\">\n",
       "      <th></th>\n",
       "      <th>id</th>\n",
       "      <th>master_id</th>\n",
       "      <th>sku</th>\n",
       "      <th>name</th>\n",
       "      <th>short_url</th>\n",
       "      <th>book_cover</th>\n",
       "      <th>price</th>\n",
       "      <th>original_price</th>\n",
       "      <th>discount_rate</th>\n",
       "      <th>rating_average</th>\n",
       "      <th>...</th>\n",
       "      <th>kich_thuoc</th>\n",
       "      <th>tai_trong</th>\n",
       "      <th>device_brand</th>\n",
       "      <th>do_nhay</th>\n",
       "      <th>tan_so</th>\n",
       "      <th>huong_dan_bao_quan</th>\n",
       "      <th>dac_diem_noi_bat</th>\n",
       "      <th>dieu_kien_su_dung</th>\n",
       "      <th>dia_chi_su_dung</th>\n",
       "      <th>bluetooth</th>\n",
       "    </tr>\n",
       "  </thead>\n",
       "  <tbody>\n",
       "    <tr>\n",
       "      <th>13233</th>\n",
       "      <td>144356210</td>\n",
       "      <td>144356210</td>\n",
       "      <td>5525114755464</td>\n",
       "      <td>Túi đeo chạy bộ, túi đeo hông, đeo bụng dành c...</td>\n",
       "      <td>https://tiki.vn/product-p144356210.html?spid=1...</td>\n",
       "      <td>NaN</td>\n",
       "      <td>112000</td>\n",
       "      <td>139000</td>\n",
       "      <td>19</td>\n",
       "      <td>4.8</td>\n",
       "      <td>...</td>\n",
       "      <td>NaN</td>\n",
       "      <td>NaN</td>\n",
       "      <td>NaN</td>\n",
       "      <td>NaN</td>\n",
       "      <td>NaN</td>\n",
       "      <td>NaN</td>\n",
       "      <td>NaN</td>\n",
       "      <td>NaN</td>\n",
       "      <td>NaN</td>\n",
       "      <td>NaN</td>\n",
       "    </tr>\n",
       "    <tr>\n",
       "      <th>14886</th>\n",
       "      <td>207035527</td>\n",
       "      <td>207035527</td>\n",
       "      <td>6816910771280</td>\n",
       "      <td>Áo Hoodie Nỉ Ngoại Nữ Thêu Chữ Loang Màu Hồng ...</td>\n",
       "      <td>https://tiki.vn/product-p207035527.html?spid=2...</td>\n",
       "      <td>NaN</td>\n",
       "      <td>109000</td>\n",
       "      <td>109000</td>\n",
       "      <td>0</td>\n",
       "      <td>0.0</td>\n",
       "      <td>...</td>\n",
       "      <td>NaN</td>\n",
       "      <td>NaN</td>\n",
       "      <td>NaN</td>\n",
       "      <td>NaN</td>\n",
       "      <td>NaN</td>\n",
       "      <td>NaN</td>\n",
       "      <td>NaN</td>\n",
       "      <td>NaN</td>\n",
       "      <td>NaN</td>\n",
       "      <td>NaN</td>\n",
       "    </tr>\n",
       "    <tr>\n",
       "      <th>15160</th>\n",
       "      <td>176689612</td>\n",
       "      <td>176689612</td>\n",
       "      <td>9588934896842</td>\n",
       "      <td>Vỏ gối trắng trơn-vỏ gối cao cấp 100% Cotton-t...</td>\n",
       "      <td>https://tiki.vn/product-p176689612.html?spid=1...</td>\n",
       "      <td>NaN</td>\n",
       "      <td>63750</td>\n",
       "      <td>63750</td>\n",
       "      <td>0</td>\n",
       "      <td>0.0</td>\n",
       "      <td>...</td>\n",
       "      <td>NaN</td>\n",
       "      <td>NaN</td>\n",
       "      <td>NaN</td>\n",
       "      <td>NaN</td>\n",
       "      <td>NaN</td>\n",
       "      <td>NaN</td>\n",
       "      <td>NaN</td>\n",
       "      <td>NaN</td>\n",
       "      <td>NaN</td>\n",
       "      <td>NaN</td>\n",
       "    </tr>\n",
       "    <tr>\n",
       "      <th>25077</th>\n",
       "      <td>207631100</td>\n",
       "      <td>207631100</td>\n",
       "      <td>6801021851103</td>\n",
       "      <td>Áo Khoác Nam Nữ Xanh Rêu Áo Khoác Dù Dáng Rộng</td>\n",
       "      <td>https://tiki.vn/product-p207631100.html?spid=2...</td>\n",
       "      <td>NaN</td>\n",
       "      <td>130000</td>\n",
       "      <td>130000</td>\n",
       "      <td>0</td>\n",
       "      <td>0.0</td>\n",
       "      <td>...</td>\n",
       "      <td>NaN</td>\n",
       "      <td>NaN</td>\n",
       "      <td>NaN</td>\n",
       "      <td>NaN</td>\n",
       "      <td>NaN</td>\n",
       "      <td>NaN</td>\n",
       "      <td>NaN</td>\n",
       "      <td>NaN</td>\n",
       "      <td>NaN</td>\n",
       "      <td>NaN</td>\n",
       "    </tr>\n",
       "    <tr>\n",
       "      <th>49830</th>\n",
       "      <td>196565537</td>\n",
       "      <td>196565537</td>\n",
       "      <td>5928507424911</td>\n",
       "      <td>Rèm Tự Dính-Không Cần Khoan Vô Cùng Tiện Lợi, ...</td>\n",
       "      <td>https://tiki.vn/product-p196565537.html?spid=1...</td>\n",
       "      <td>NaN</td>\n",
       "      <td>52500</td>\n",
       "      <td>105000</td>\n",
       "      <td>50</td>\n",
       "      <td>0.0</td>\n",
       "      <td>...</td>\n",
       "      <td>30 x 20 x 5</td>\n",
       "      <td>5kg</td>\n",
       "      <td>NaN</td>\n",
       "      <td>NaN</td>\n",
       "      <td>NaN</td>\n",
       "      <td>NaN</td>\n",
       "      <td>NaN</td>\n",
       "      <td>NaN</td>\n",
       "      <td>NaN</td>\n",
       "      <td>NaN</td>\n",
       "    </tr>\n",
       "    <tr>\n",
       "      <th>63694</th>\n",
       "      <td>202432845</td>\n",
       "      <td>202432845</td>\n",
       "      <td>8183965466103</td>\n",
       "      <td>BBSTORE'S Đầm Xòe Dự Tiệc Tay Phồng Thời Trang...</td>\n",
       "      <td>https://tiki.vn/product-p202432845.html?spid=2...</td>\n",
       "      <td>NaN</td>\n",
       "      <td>219000</td>\n",
       "      <td>219000</td>\n",
       "      <td>0</td>\n",
       "      <td>0.0</td>\n",
       "      <td>...</td>\n",
       "      <td>NaN</td>\n",
       "      <td>NaN</td>\n",
       "      <td>NaN</td>\n",
       "      <td>NaN</td>\n",
       "      <td>NaN</td>\n",
       "      <td>NaN</td>\n",
       "      <td>NaN</td>\n",
       "      <td>NaN</td>\n",
       "      <td>NaN</td>\n",
       "      <td>NaN</td>\n",
       "    </tr>\n",
       "    <tr>\n",
       "      <th>76899</th>\n",
       "      <td>175150080</td>\n",
       "      <td>175150080</td>\n",
       "      <td>9992881446659</td>\n",
       "      <td>Bộ Bàn Ghế Gỗ Me Tây Nguyên Khối, Bàn Ghế Ăn G...</td>\n",
       "      <td>https://tiki.vn/product-p175150080.html?spid=1...</td>\n",
       "      <td>NaN</td>\n",
       "      <td>20400000</td>\n",
       "      <td>20400000</td>\n",
       "      <td>0</td>\n",
       "      <td>0.0</td>\n",
       "      <td>...</td>\n",
       "      <td>3,39 x (70 - 75) x 5</td>\n",
       "      <td>NaN</td>\n",
       "      <td>NaN</td>\n",
       "      <td>NaN</td>\n",
       "      <td>NaN</td>\n",
       "      <td>NaN</td>\n",
       "      <td>NaN</td>\n",
       "      <td>NaN</td>\n",
       "      <td>NaN</td>\n",
       "      <td>NaN</td>\n",
       "    </tr>\n",
       "  </tbody>\n",
       "</table>\n",
       "<p>7 rows × 83 columns</p>\n",
       "</div>"
      ],
      "text/plain": [
       "              id  master_id            sku  \\\n",
       "13233  144356210  144356210  5525114755464   \n",
       "14886  207035527  207035527  6816910771280   \n",
       "15160  176689612  176689612  9588934896842   \n",
       "25077  207631100  207631100  6801021851103   \n",
       "49830  196565537  196565537  5928507424911   \n",
       "63694  202432845  202432845  8183965466103   \n",
       "76899  175150080  175150080  9992881446659   \n",
       "\n",
       "                                                    name  \\\n",
       "13233  Túi đeo chạy bộ, túi đeo hông, đeo bụng dành c...   \n",
       "14886  Áo Hoodie Nỉ Ngoại Nữ Thêu Chữ Loang Màu Hồng ...   \n",
       "15160  Vỏ gối trắng trơn-vỏ gối cao cấp 100% Cotton-t...   \n",
       "25077     Áo Khoác Nam Nữ Xanh Rêu Áo Khoác Dù Dáng Rộng   \n",
       "49830  Rèm Tự Dính-Không Cần Khoan Vô Cùng Tiện Lợi, ...   \n",
       "63694  BBSTORE'S Đầm Xòe Dự Tiệc Tay Phồng Thời Trang...   \n",
       "76899  Bộ Bàn Ghế Gỗ Me Tây Nguyên Khối, Bàn Ghế Ăn G...   \n",
       "\n",
       "                                               short_url book_cover     price  \\\n",
       "13233  https://tiki.vn/product-p144356210.html?spid=1...        NaN    112000   \n",
       "14886  https://tiki.vn/product-p207035527.html?spid=2...        NaN    109000   \n",
       "15160  https://tiki.vn/product-p176689612.html?spid=1...        NaN     63750   \n",
       "25077  https://tiki.vn/product-p207631100.html?spid=2...        NaN    130000   \n",
       "49830  https://tiki.vn/product-p196565537.html?spid=1...        NaN     52500   \n",
       "63694  https://tiki.vn/product-p202432845.html?spid=2...        NaN    219000   \n",
       "76899  https://tiki.vn/product-p175150080.html?spid=1...        NaN  20400000   \n",
       "\n",
       "       original_price  discount_rate  rating_average  ...  \\\n",
       "13233          139000             19             4.8  ...   \n",
       "14886          109000              0             0.0  ...   \n",
       "15160           63750              0             0.0  ...   \n",
       "25077          130000              0             0.0  ...   \n",
       "49830          105000             50             0.0  ...   \n",
       "63694          219000              0             0.0  ...   \n",
       "76899        20400000              0             0.0  ...   \n",
       "\n",
       "                 kich_thuoc tai_trong device_brand  do_nhay tan_so  \\\n",
       "13233                   NaN       NaN          NaN      NaN    NaN   \n",
       "14886                   NaN       NaN          NaN      NaN    NaN   \n",
       "15160                   NaN       NaN          NaN      NaN    NaN   \n",
       "25077                   NaN       NaN          NaN      NaN    NaN   \n",
       "49830           30 x 20 x 5       5kg          NaN      NaN    NaN   \n",
       "63694                   NaN       NaN          NaN      NaN    NaN   \n",
       "76899  3,39 x (70 - 75) x 5       NaN          NaN      NaN    NaN   \n",
       "\n",
       "       huong_dan_bao_quan dac_diem_noi_bat dieu_kien_su_dung dia_chi_su_dung  \\\n",
       "13233                 NaN              NaN               NaN             NaN   \n",
       "14886                 NaN              NaN               NaN             NaN   \n",
       "15160                 NaN              NaN               NaN             NaN   \n",
       "25077                 NaN              NaN               NaN             NaN   \n",
       "49830                 NaN              NaN               NaN             NaN   \n",
       "63694                 NaN              NaN               NaN             NaN   \n",
       "76899                 NaN              NaN               NaN             NaN   \n",
       "\n",
       "      bluetooth  \n",
       "13233       NaN  \n",
       "14886       NaN  \n",
       "15160       NaN  \n",
       "25077       NaN  \n",
       "49830       NaN  \n",
       "63694       NaN  \n",
       "76899       NaN  \n",
       "\n",
       "[7 rows x 83 columns]"
      ]
     },
     "execution_count": 9,
     "metadata": {},
     "output_type": "execute_result"
    }
   ],
   "source": [
    "df[~df['material'].isna()]"
   ]
  },
  {
   "cell_type": "markdown",
   "metadata": {},
   "source": [
    "Các `features` được sử dụng"
   ]
  },
  {
   "cell_type": "code",
   "execution_count": 10,
   "metadata": {},
   "outputs": [],
   "source": [
    "features = ['id', 'master_id', 'sku', 'name', 'short_url', 'book_cover', 'price',\n",
    "       'original_price', 'discount_rate', 'rating_average', 'review_count',\n",
    "       'inventory_type', 'productset_group_name', 'day_ago_created',\n",
    "       'categories', 'all_time_quantity_sold', 'authors', 'publisher_vn',\n",
    "       'publication_date', 'dimensions', 'manufacturer', 'number_of_page',\n",
    "       'dich_gia', 'edition', 'luu_y']"
   ]
  },
  {
   "cell_type": "markdown",
   "metadata": {},
   "source": [
    "Một số `features` không hợp lệ với yêu cầu bài toán"
   ]
  },
  {
   "cell_type": "code",
   "execution_count": 11,
   "metadata": {},
   "outputs": [
    {
     "name": "stdout",
     "output_type": "stream",
     "text": [
      "['brand', 'weight_without_stand', 'capacity', 'display_type', 'camera', 'digital_tivi_dvb_t2', 'size_without_stand_table_top', 'material', 'storage', 'network_wifi', 'remote_thong_minh', 'network_internet', 'dia_chi_su_dung', 'do_chiu_nuoc', 'size_with_stand_table_top', 'item_model_number', 'do_nhay', 'huong_dan_bao_quan', 'included_accessories', 'loai_pin', 'huong_dan_su_dung', 'bluetooth', 'usb', 'audio_power_output', 'dieu_khien_bang_giong_noi', 'hdh_giao_dien', 'thoi_gian_su_dung', 'resolution', 'chat_lieu', 'image_processing_technology', 'battery_capacity', 'charge_time', 'frequency', 'audio_technology', 'device_brand', 'tai_trong', 'dac_diem_noi_bat', 'chong_nuoc', 'network_hdmi', 'screen_size', 'battery_life', 'minimum_inbound_policy_days', 'shelf_life_days', 'size', 'kich_thuoc', 'screen_mirroring', 'expiry_time', 'san_pham', 'ung_dung', 'tivi_type', 'weight_with_stand', 'product_weight', 'loai_day', 'dieu_khien_tivi', 'brand_country', 'origin', 'dieu_kien_su_dung', 'tan_so']\n"
     ]
    }
   ],
   "source": [
    "unvalid_cols = list(set(df.columns) - set(features))\n",
    "print(unvalid_cols)"
   ]
  },
  {
   "cell_type": "markdown",
   "metadata": {},
   "source": [
    "Thử lấy các sản phẩm thuộc ngoài những `categories` của danh mục sách (mà ta đã thu thập)"
   ]
  },
  {
   "cell_type": "code",
   "execution_count": 12,
   "metadata": {},
   "outputs": [
    {
     "data": {
      "text/plain": [
       "Root                                   20440\n",
       "Sách tiếng Việt                        19201\n",
       "Nhà Sách Tiki                             23\n",
       "Máy Ảnh - Máy Quay Phim                    4\n",
       "Túi và Hộp Đựng Máy Ảnh                    3\n",
       "Thiết Bị Số - Phụ Kiện Số                  3\n",
       "Tai Nghe True Wireless                     2\n",
       "Đầu Ghi Hình Camera                        1\n",
       "Nước Ngọt                                  1\n",
       "Móng giả                                   1\n",
       "Bộ sản phẩm vệ sinh nhà cửa                1\n",
       "Làm Đẹp - Sức Khỏe                         1\n",
       "Thực phẩm khô khác                         1\n",
       "Loa Vi Tính                                1\n",
       "Dây Đeo Máy Ảnh, Máy Quay, Ống Nhòm        1\n",
       "Bình, ly uống trà và phụ kiện              1\n",
       "Voucher - Dịch vụ                          1\n",
       "Bàn ghế làm việc                           1\n",
       "Nón bơi                                    1\n",
       "Phụ Kiện Máy Quay Khác                     1\n",
       "Bao Da - Ốp Lưng iPad                      1\n",
       "Bình đun siêu tốc                          1\n",
       "Các loại gia vị dạng nước khác             1\n",
       "Thực phẩm bổ dưỡng                         1\n",
       "Thiết Bị Phòng Tối                         1\n",
       "Phụ kiện ô tô                              1\n",
       "Bánh kẹo                                   1\n",
       "Thời Trang                                 1\n",
       "Đai chạy bộ                                1\n",
       "Mystery, Thriller & Suspense               1\n",
       "Điện thoại Smartphone                      1\n",
       "USB                                        1\n",
       "Son thỏi                                   1\n",
       "Trang điểm, chống nắng                     1\n",
       "Điện Gia Dụng                              1\n",
       "Tivi 4K                                    1\n",
       "Hạt giống                                  1\n",
       "Children's Books                           1\n",
       "Router Wifi                                1\n",
       "Dao - Máy cạo râu & Hớt tóc                1\n",
       "Ống Nhòm                                   1\n",
       "Thực phẩm cao cấp                          1\n",
       "Kem đánh răng, bàn chải                    1\n",
       "Rèm, màn cửa                               1\n",
       "Pin - Sạc Máy Ảnh, Máy Quay                1\n",
       "Tủ                                         1\n",
       "Hộp Đựng - Tủ Chống Ẩm                     1\n",
       "Áo thun nam ngắn tay không cổ              1\n",
       "Name: categories, dtype: int64"
      ]
     },
     "execution_count": 12,
     "metadata": {},
     "output_type": "execute_result"
    }
   ],
   "source": [
    "valid_categories = pd.read_csv('id_data/categories_id.csv')['categories'] \n",
    "valid_categories = '|'.join(list(valid_categories)) #+ ['Root', 'Sách tiếng Việt', 'Nhà Sách Tiki'])\n",
    "# df[df[unvalid_cols].notna().any(axis=1)].to_csv('not_books.csv', encoding='utf-8-sig')\n",
    "# df[df['publisher_vn'].isna()].to_csv('not_publiser.csv', encoding='utf-8-sig')\n",
    "# df[df['categories'].str.contains(valid_categories, na=False)]\n",
    "\n",
    "#Chọn những categories không phải sách\n",
    "df[~df['categories'].str.contains(valid_categories, na=False)]['categories'].value_counts()"
   ]
  },
  {
   "cell_type": "markdown",
   "metadata": {},
   "source": [
    "Và ta chỉ lấy những giá trị hợp lệ "
   ]
  },
  {
   "cell_type": "code",
   "execution_count": 13,
   "metadata": {},
   "outputs": [
    {
     "data": {
      "text/plain": [
       "(48291, 83)"
      ]
     },
     "execution_count": 13,
     "metadata": {},
     "output_type": "execute_result"
    }
   ],
   "source": [
    "df = df[df['categories'].str.contains(valid_categories, na=False)]\n",
    "# df.shape\n",
    "df.shape"
   ]
  },
  {
   "cell_type": "markdown",
   "metadata": {},
   "source": [
    "Có thể vẫn còn, ta sẽ xem những features bị <font color=red>lạc loài</font> (khác giá trị nan):"
   ]
  },
  {
   "cell_type": "code",
   "execution_count": 14,
   "metadata": {},
   "outputs": [],
   "source": [
    "unvalid_products = df[df[unvalid_cols].notna().any(axis=1)]\n",
    "# display(unvalid_products)"
   ]
  },
  {
   "cell_type": "markdown",
   "metadata": {},
   "source": [
    "Tiếp tục bỏ đi những sản phẩm này."
   ]
  },
  {
   "cell_type": "code",
   "execution_count": 15,
   "metadata": {},
   "outputs": [
    {
     "data": {
      "text/html": [
       "<div>\n",
       "<style scoped>\n",
       "    .dataframe tbody tr th:only-of-type {\n",
       "        vertical-align: middle;\n",
       "    }\n",
       "\n",
       "    .dataframe tbody tr th {\n",
       "        vertical-align: top;\n",
       "    }\n",
       "\n",
       "    .dataframe thead th {\n",
       "        text-align: right;\n",
       "    }\n",
       "</style>\n",
       "<table border=\"1\" class=\"dataframe\">\n",
       "  <thead>\n",
       "    <tr style=\"text-align: right;\">\n",
       "      <th></th>\n",
       "      <th>id</th>\n",
       "      <th>master_id</th>\n",
       "      <th>sku</th>\n",
       "      <th>name</th>\n",
       "      <th>short_url</th>\n",
       "      <th>book_cover</th>\n",
       "      <th>price</th>\n",
       "      <th>original_price</th>\n",
       "      <th>discount_rate</th>\n",
       "      <th>rating_average</th>\n",
       "      <th>...</th>\n",
       "      <th>kich_thuoc</th>\n",
       "      <th>tai_trong</th>\n",
       "      <th>device_brand</th>\n",
       "      <th>do_nhay</th>\n",
       "      <th>tan_so</th>\n",
       "      <th>huong_dan_bao_quan</th>\n",
       "      <th>dac_diem_noi_bat</th>\n",
       "      <th>dieu_kien_su_dung</th>\n",
       "      <th>dia_chi_su_dung</th>\n",
       "      <th>bluetooth</th>\n",
       "    </tr>\n",
       "  </thead>\n",
       "  <tbody>\n",
       "  </tbody>\n",
       "</table>\n",
       "<p>0 rows × 83 columns</p>\n",
       "</div>"
      ],
      "text/plain": [
       "Empty DataFrame\n",
       "Columns: [id, master_id, sku, name, short_url, book_cover, price, original_price, discount_rate, rating_average, review_count, inventory_type, productset_group_name, day_ago_created, categories, all_time_quantity_sold, authors, publisher_vn, publication_date, dimensions, manufacturer, number_of_page, dich_gia, edition, brand, brand_country, item_model_number, origin, product_weight, battery_capacity, camera, chong_nuoc, loai_day, san_pham, storage, battery_life, charge_time, do_chiu_nuoc, included_accessories, material, luu_y, minimum_inbound_policy_days, expiry_time, shelf_life_days, chat_lieu, audio_power_output, audio_technology, dieu_khien_bang_giong_noi, dieu_khien_tivi, digital_tivi_dvb_t2, display_type, frequency, hdh_giao_dien, image_processing_technology, network_hdmi, network_internet, network_wifi, remote_thong_minh, resolution, screen_mirroring, screen_size, size_without_stand_table_top, size_with_stand_table_top, tivi_type, ung_dung, usb, weight_without_stand, weight_with_stand, size, loai_pin, thoi_gian_su_dung, capacity, huong_dan_su_dung, kich_thuoc, tai_trong, device_brand, do_nhay, tan_so, huong_dan_bao_quan, dac_diem_noi_bat, dieu_kien_su_dung, dia_chi_su_dung, bluetooth]\n",
       "Index: []\n",
       "\n",
       "[0 rows x 83 columns]"
      ]
     },
     "execution_count": 15,
     "metadata": {},
     "output_type": "execute_result"
    }
   ],
   "source": [
    "df = df.drop(unvalid_products.index).reset_index(drop=True)\n",
    "df[df[unvalid_cols].notna().any(axis=1)] # test lại"
   ]
  },
  {
   "cell_type": "code",
   "execution_count": 16,
   "metadata": {},
   "outputs": [
    {
     "data": {
      "text/plain": [
       "48290"
      ]
     },
     "execution_count": 16,
     "metadata": {},
     "output_type": "execute_result"
    }
   ],
   "source": [
    "df.index.max()"
   ]
  },
  {
   "cell_type": "markdown",
   "metadata": {},
   "source": [
    "Có thể vẫn còn những sản phẩm <font color=red>lạc loài</font> khác, tuy nhiên khó có thể nhận biết và loại bỏ được."
   ]
  },
  {
   "cell_type": "markdown",
   "metadata": {},
   "source": [
    "Xóa đi các cột <font color =red> lạc loài </font> đi thôi!"
   ]
  },
  {
   "cell_type": "code",
   "execution_count": 17,
   "metadata": {},
   "outputs": [
    {
     "data": {
      "text/plain": [
       "(48291, 25)"
      ]
     },
     "execution_count": 17,
     "metadata": {},
     "output_type": "execute_result"
    }
   ],
   "source": [
    "df = df.drop(unvalid_cols, axis = 1)\n",
    "df.shape"
   ]
  },
  {
   "cell_type": "markdown",
   "metadata": {},
   "source": [
    "##### Kiểm tra lại thông tin của các cột trước khi bước qua **KHÁM PHÁ DỮ LIỆU**"
   ]
  },
  {
   "cell_type": "markdown",
   "metadata": {},
   "source": [
    "> Mô tả thông tin của các cột\n"
   ]
  },
  {
   "cell_type": "code",
   "execution_count": 18,
   "metadata": {},
   "outputs": [
    {
     "data": {
      "text/html": [
       "<div>\n",
       "<style scoped>\n",
       "    .dataframe tbody tr th:only-of-type {\n",
       "        vertical-align: middle;\n",
       "    }\n",
       "\n",
       "    .dataframe tbody tr th {\n",
       "        vertical-align: top;\n",
       "    }\n",
       "\n",
       "    .dataframe thead th {\n",
       "        text-align: right;\n",
       "    }\n",
       "</style>\n",
       "<table border=\"1\" class=\"dataframe\">\n",
       "  <thead>\n",
       "    <tr style=\"text-align: right;\">\n",
       "      <th></th>\n",
       "      <th>Name</th>\n",
       "      <th>Type</th>\n",
       "      <th>Describe</th>\n",
       "    </tr>\n",
       "  </thead>\n",
       "  <tbody>\n",
       "    <tr>\n",
       "      <th>0</th>\n",
       "      <td>id</td>\n",
       "      <td>string</td>\n",
       "      <td>ID của quyền sách</td>\n",
       "    </tr>\n",
       "    <tr>\n",
       "      <th>1</th>\n",
       "      <td>sku</td>\n",
       "      <td>string</td>\n",
       "      <td>Mã hàng hóa</td>\n",
       "    </tr>\n",
       "    <tr>\n",
       "      <th>2</th>\n",
       "      <td>name</td>\n",
       "      <td>string</td>\n",
       "      <td>Tên quyển sách</td>\n",
       "    </tr>\n",
       "    <tr>\n",
       "      <th>3</th>\n",
       "      <td>short_url</td>\n",
       "      <td>string</td>\n",
       "      <td>Đường link đến trang bán sách</td>\n",
       "    </tr>\n",
       "    <tr>\n",
       "      <th>4</th>\n",
       "      <td>book_cover</td>\n",
       "      <td>string</td>\n",
       "      <td>Loại bìa sách</td>\n",
       "    </tr>\n",
       "    <tr>\n",
       "      <th>5</th>\n",
       "      <td>price</td>\n",
       "      <td>int</td>\n",
       "      <td>Giá quyển sách đang được bán trên tiki</td>\n",
       "    </tr>\n",
       "    <tr>\n",
       "      <th>6</th>\n",
       "      <td>original_price</td>\n",
       "      <td>int</td>\n",
       "      <td>Giá gốc của quyển sách</td>\n",
       "    </tr>\n",
       "    <tr>\n",
       "      <th>7</th>\n",
       "      <td>discount_rate</td>\n",
       "      <td>int</td>\n",
       "      <td>% Giảm giá</td>\n",
       "    </tr>\n",
       "    <tr>\n",
       "      <th>8</th>\n",
       "      <td>rating_average</td>\n",
       "      <td>float</td>\n",
       "      <td>Mức đánh giát trung bình ( 0 &lt;= x &lt;= 5)</td>\n",
       "    </tr>\n",
       "    <tr>\n",
       "      <th>9</th>\n",
       "      <td>review_count</td>\n",
       "      <td>int</td>\n",
       "      <td>Số lượt đánh giá, bình luận của khách hàng</td>\n",
       "    </tr>\n",
       "    <tr>\n",
       "      <th>10</th>\n",
       "      <td>inventory_type</td>\n",
       "      <td>string</td>\n",
       "      <td>Tình trạng trong kho của quyển sách. (\"instock...</td>\n",
       "    </tr>\n",
       "    <tr>\n",
       "      <th>11</th>\n",
       "      <td>productset_group_name</td>\n",
       "      <td>string</td>\n",
       "      <td>Tên nhóm sản phẩm</td>\n",
       "    </tr>\n",
       "    <tr>\n",
       "      <th>12</th>\n",
       "      <td>day_ago_created</td>\n",
       "      <td>int</td>\n",
       "      <td>Số ngày kể từ khi đăng bán trên tiki</td>\n",
       "    </tr>\n",
       "    <tr>\n",
       "      <th>13</th>\n",
       "      <td>categories</td>\n",
       "      <td>string</td>\n",
       "      <td>Phân loại sách</td>\n",
       "    </tr>\n",
       "    <tr>\n",
       "      <th>14</th>\n",
       "      <td>all_time_quantity_sold</td>\n",
       "      <td>int</td>\n",
       "      <td>Số lượng sách đã bán từ tiki</td>\n",
       "    </tr>\n",
       "    <tr>\n",
       "      <th>15</th>\n",
       "      <td>authors</td>\n",
       "      <td>string</td>\n",
       "      <td>Tác giả quyển sách</td>\n",
       "    </tr>\n",
       "    <tr>\n",
       "      <th>16</th>\n",
       "      <td>publisher_vn</td>\n",
       "      <td>string</td>\n",
       "      <td>Công ty phát hành</td>\n",
       "    </tr>\n",
       "    <tr>\n",
       "      <th>17</th>\n",
       "      <td>publication_date</td>\n",
       "      <td>Date</td>\n",
       "      <td>Ngày xuất bản</td>\n",
       "    </tr>\n",
       "    <tr>\n",
       "      <th>18</th>\n",
       "      <td>dimensions</td>\n",
       "      <td>string</td>\n",
       "      <td>Kích thước chiều dài và rộng của quyển sách</td>\n",
       "    </tr>\n",
       "    <tr>\n",
       "      <th>19</th>\n",
       "      <td>manufacturer</td>\n",
       "      <td>string</td>\n",
       "      <td>Nhà xuất bản</td>\n",
       "    </tr>\n",
       "    <tr>\n",
       "      <th>20</th>\n",
       "      <td>number_of_page</td>\n",
       "      <td>int</td>\n",
       "      <td>Số trang</td>\n",
       "    </tr>\n",
       "    <tr>\n",
       "      <th>21</th>\n",
       "      <td>dich_gia</td>\n",
       "      <td>string</td>\n",
       "      <td>Tên dịch giả</td>\n",
       "    </tr>\n",
       "    <tr>\n",
       "      <th>22</th>\n",
       "      <td>edition</td>\n",
       "      <td>string</td>\n",
       "      <td>Phiên bản của quyển sách</td>\n",
       "    </tr>\n",
       "    <tr>\n",
       "      <th>23</th>\n",
       "      <td>luu_y</td>\n",
       "      <td>string</td>\n",
       "      <td>Những lưu ý thay đổi trên sách</td>\n",
       "    </tr>\n",
       "  </tbody>\n",
       "</table>\n",
       "</div>"
      ],
      "text/plain": [
       "                      Name    Type  \\\n",
       "0                       id  string   \n",
       "1                      sku  string   \n",
       "2                     name  string   \n",
       "3                short_url  string   \n",
       "4               book_cover  string   \n",
       "5                    price    int    \n",
       "6           original_price     int   \n",
       "7            discount_rate    int    \n",
       "8           rating_average   float   \n",
       "9             review_count     int   \n",
       "10          inventory_type  string   \n",
       "11   productset_group_name  string   \n",
       "12         day_ago_created     int   \n",
       "13              categories  string   \n",
       "14  all_time_quantity_sold     int   \n",
       "15                 authors  string   \n",
       "16            publisher_vn  string   \n",
       "17        publication_date    Date   \n",
       "18              dimensions  string   \n",
       "19            manufacturer  string   \n",
       "20          number_of_page     int   \n",
       "21                dich_gia  string   \n",
       "22                 edition  string   \n",
       "23                  luu_y   string   \n",
       "\n",
       "                                             Describe  \n",
       "0                                   ID của quyền sách  \n",
       "1                                         Mã hàng hóa  \n",
       "2                                      Tên quyển sách  \n",
       "3                       Đường link đến trang bán sách  \n",
       "4                                       Loại bìa sách  \n",
       "5              Giá quyển sách đang được bán trên tiki  \n",
       "6                              Giá gốc của quyển sách  \n",
       "7                                         % Giảm giá   \n",
       "8             Mức đánh giát trung bình ( 0 <= x <= 5)  \n",
       "9          Số lượt đánh giá, bình luận của khách hàng  \n",
       "10  Tình trạng trong kho của quyển sách. (\"instock...  \n",
       "11                                  Tên nhóm sản phẩm  \n",
       "12               Số ngày kể từ khi đăng bán trên tiki  \n",
       "13                                     Phân loại sách  \n",
       "14                      Số lượng sách đã bán từ tiki   \n",
       "15                                 Tác giả quyển sách  \n",
       "16                                  Công ty phát hành  \n",
       "17                                     Ngày xuất bản   \n",
       "18        Kích thước chiều dài và rộng của quyển sách  \n",
       "19                                       Nhà xuất bản  \n",
       "20                                           Số trang  \n",
       "21                                       Tên dịch giả  \n",
       "22                           Phiên bản của quyển sách  \n",
       "23                     Những lưu ý thay đổi trên sách  "
      ]
     },
     "execution_count": 18,
     "metadata": {},
     "output_type": "execute_result"
    }
   ],
   "source": [
    "pd.read_csv(\"column/Columns.csv\")"
   ]
  },
  {
   "cell_type": "markdown",
   "metadata": {},
   "source": [
    "Cột `id` và `master_id` hoàn toàn giống nhau ở từng dòng. Vì thế ta sẽ xóa đi cột `master_id` <br>\n",
    "Cột `publication_date` cần thay đổi `dtype` thành `datetime`"
   ]
  },
  {
   "cell_type": "markdown",
   "metadata": {},
   "source": [
    "- Loại bỏ cột `master_id`"
   ]
  },
  {
   "cell_type": "code",
   "execution_count": 19,
   "metadata": {},
   "outputs": [],
   "source": [
    "df = df.drop(\"master_id\", axis = 1)"
   ]
  },
  {
   "attachments": {},
   "cell_type": "markdown",
   "metadata": {},
   "source": [
    "- Xem thông tin kiểu dữ liệu của mỗi cột"
   ]
  },
  {
   "cell_type": "code",
   "execution_count": 20,
   "metadata": {},
   "outputs": [
    {
     "data": {
      "text/plain": [
       "id                          int64\n",
       "sku                         int64\n",
       "name                       object\n",
       "short_url                  object\n",
       "book_cover                 object\n",
       "price                       int64\n",
       "original_price              int64\n",
       "discount_rate               int64\n",
       "rating_average            float64\n",
       "review_count                int64\n",
       "inventory_type             object\n",
       "productset_group_name      object\n",
       "day_ago_created             int64\n",
       "categories                 object\n",
       "all_time_quantity_sold      int64\n",
       "authors                    object\n",
       "publisher_vn               object\n",
       "publication_date           object\n",
       "dimensions                 object\n",
       "manufacturer               object\n",
       "number_of_page             object\n",
       "dich_gia                   object\n",
       "edition                    object\n",
       "luu_y                      object\n",
       "dtype: object"
      ]
     },
     "execution_count": 20,
     "metadata": {},
     "output_type": "execute_result"
    }
   ],
   "source": [
    "df.dtypes"
   ]
  },
  {
   "attachments": {},
   "cell_type": "markdown",
   "metadata": {},
   "source": [
    "Ta thấy cột `number_of_page` có kiểu dữ liệu là object chưa phù hợp (lẽ ra phải là interger), ta sẽ chuyển về đúng kiểu dữ liệu"
   ]
  },
  {
   "cell_type": "code",
   "execution_count": 21,
   "metadata": {},
   "outputs": [
    {
     "data": {
      "text/plain": [
       "{float, str}"
      ]
     },
     "execution_count": 21,
     "metadata": {},
     "output_type": "execute_result"
    }
   ],
   "source": [
    "# df['number_of_page'].fillna(0).astype(np.int64)\n",
    "# df['number_of_page'].unique()\n",
    "set(df['number_of_page'].apply(lambda x: type(x)))"
   ]
  },
  {
   "attachments": {},
   "cell_type": "markdown",
   "metadata": {},
   "source": [
    "Cột này chứa 2 kiểu dữ liệu là `str` (?) và `float`:\n",
    "- Tại sao lại chứa kiểu dữ liệu string?"
   ]
  },
  {
   "cell_type": "code",
   "execution_count": 22,
   "metadata": {},
   "outputs": [
    {
     "data": {
      "text/plain": [
       "array(['336', '178', '216', ..., '10512', '1058', '879'], dtype=object)"
      ]
     },
     "execution_count": 22,
     "metadata": {},
     "output_type": "execute_result"
    }
   ],
   "source": [
    "df[df['number_of_page'].apply(lambda x: isinstance(x, str))]['number_of_page'].unique()"
   ]
  },
  {
   "cell_type": "code",
   "execution_count": 23,
   "metadata": {},
   "outputs": [
    {
     "data": {
      "text/plain": [
       "array(['Cuốn', '80x2', 'mềm'], dtype=object)"
      ]
     },
     "execution_count": 23,
     "metadata": {},
     "output_type": "execute_result"
    }
   ],
   "source": [
    "df[df['number_of_page'].str.contains(r'[a-zA-Z]', na=False)]['number_of_page'].unique()"
   ]
  },
  {
   "attachments": {},
   "cell_type": "markdown",
   "metadata": {},
   "source": [
    "- Thì ra các giá trị `integer` đã bị chuyển thành string.\n",
    "- Một vài giá trị string <font color=red>lạc loài</font> (\"Cuốn\", \"80x2\", \"mềm\") đã làm kiểu dữ liệu bị thay đổi. Ta sẽ chuyển các giá trị này về nan."
   ]
  },
  {
   "cell_type": "code",
   "execution_count": 24,
   "metadata": {},
   "outputs": [],
   "source": [
    "df.loc[df['number_of_page'].str.contains(r'[a-zA-Z]', na=False), 'number_of_page'] = np.nan"
   ]
  },
  {
   "cell_type": "code",
   "execution_count": 25,
   "metadata": {},
   "outputs": [
    {
     "data": {
      "text/plain": [
       "dtype('int64')"
      ]
     },
     "execution_count": 25,
     "metadata": {},
     "output_type": "execute_result"
    }
   ],
   "source": [
    "df['number_of_page'] = df['number_of_page'].fillna(0).astype(np.int64)\n",
    "df['number_of_page'].dtype"
   ]
  },
  {
   "attachments": {},
   "cell_type": "markdown",
   "metadata": {},
   "source": [
    "Đổi dtype của cột `publication_date` thành datetime"
   ]
  },
  {
   "cell_type": "code",
   "execution_count": 26,
   "metadata": {},
   "outputs": [],
   "source": [
    "df.publication_date = pd.to_datetime(df.publication_date, format = \"%Y-%m-%d %H:%M:%S\", errors = \"coerce\")"
   ]
  },
  {
   "cell_type": "markdown",
   "metadata": {},
   "source": [
    "Gần hơn 1 nửa dữ liệu bị lỗi hoặc thiếu datetime."
   ]
  },
  {
   "cell_type": "markdown",
   "metadata": {},
   "source": [
    "---"
   ]
  },
  {
   "cell_type": "markdown",
   "metadata": {},
   "source": [
    "#### **Exploratory Data Analysis**"
   ]
  },
  {
   "cell_type": "markdown",
   "metadata": {},
   "source": [
    "##### **Đặt câu hỏi** <br>\n",
    "Một câu hỏi gồm có 3 ý:\n",
    "- Câu hỏi là gì ?\n",
    "- Trả lời câu hỏi sẽ có lợi ích gì ?\n",
    "- Nguồn cảm hứng của câu hỏi ? (tự nghĩ hoặc tham khảo)"
   ]
  },
  {
   "cell_type": "code",
   "execution_count": 27,
   "metadata": {},
   "outputs": [
    {
     "data": {
      "text/plain": [
       "Index(['id', 'sku', 'name', 'short_url', 'book_cover', 'price',\n",
       "       'original_price', 'discount_rate', 'rating_average', 'review_count',\n",
       "       'inventory_type', 'productset_group_name', 'day_ago_created',\n",
       "       'categories', 'all_time_quantity_sold', 'authors', 'publisher_vn',\n",
       "       'publication_date', 'dimensions', 'manufacturer', 'number_of_page',\n",
       "       'dich_gia', 'edition', 'luu_y'],\n",
       "      dtype='object')"
      ]
     },
     "execution_count": 27,
     "metadata": {},
     "output_type": "execute_result"
    }
   ],
   "source": [
    "df.columns"
   ]
  },
  {
   "cell_type": "markdown",
   "metadata": {},
   "source": [
    "---"
   ]
  },
  {
   "cell_type": "markdown",
   "metadata": {},
   "source": [
    "##### **Câu 1** <br> \n",
    "- Ở mỗi thể loại sách có rất nhiều sách khác nhau. Có nhiều sách cùng tên với nhau hay không? Tại sao lại như vậy?\n"
   ]
  },
  {
   "cell_type": "markdown",
   "metadata": {},
   "source": [
    "**Trả lời câu hỏi thành công** <br>\n",
    "Nếu trả lời được câu hỏi bạn sẽ hiểu tại sao trong bộ dữ liệu lại có nhiều sách có cùng tên (Nếu có)<br>\n"
   ]
  },
  {
   "cell_type": "markdown",
   "metadata": {},
   "source": [
    "<font color = red>Khó khăn </font>: \n",
    "+ Tên của những quyển sách lại được đặt khác nhau. Ảnh hưởng đến quá trình gom nhóm. Cần xử lí vấn đề khó này cho một bộ dữ liệu gần 40 ngàn dữ liệu.<br>\n",
    "+ Không có các yếu tố để phân biệt tên của sách."
   ]
  },
  {
   "cell_type": "markdown",
   "metadata": {},
   "source": [
    "<font color = red>Hướng giải quyết </font>: \n",
    "+ Thay vì xử lí một lúc 40 ngàn dữ liệu, ta sẽ sử dụng cột `categories` để phân loại thành từng loại sách, rồi tiếp tục phân loại theo tên.\n",
    "+ Ta sử dụng `Ratio Matching` - Độ tương thích của 2 string, để phán đoán series của cuốn truyện."
   ]
  },
  {
   "cell_type": "markdown",
   "metadata": {},
   "source": [
    "Dùng thử viện `fuzzywuzzy` để tìm mức độ tương thích, lọc ra các nhóm có mức độ tương thích cao."
   ]
  },
  {
   "cell_type": "code",
   "execution_count": 28,
   "metadata": {},
   "outputs": [],
   "source": [
    "from fuzzywuzzy import fuzz, process"
   ]
  },
  {
   "cell_type": "markdown",
   "metadata": {},
   "source": [
    "##### Viết các hàm xử lí "
   ]
  },
  {
   "cell_type": "markdown",
   "metadata": {},
   "source": [
    " - Hàm lấy các dòng thuộc `categories` mà ta yêu cầu."
   ]
  },
  {
   "cell_type": "code",
   "execution_count": 29,
   "metadata": {},
   "outputs": [],
   "source": [
    "def get_df_by_categories(categories):\n",
    "    categories_book_df = df[df.categories == categories]\n",
    "    return categories_book_df"
   ]
  },
  {
   "cell_type": "markdown",
   "metadata": {},
   "source": [
    "- Sử dụng Data Frame mà ta vừa lấy được từ `categories` mà ta chọn, tiến hành phân theo mức độ tương thích của các tên với nhau.\n"
   ]
  },
  {
   "cell_type": "markdown",
   "metadata": {},
   "source": [
    "Ví dụ sử dụng fuzzywuzzy để đánh giá mức tương thích:"
   ]
  },
  {
   "cell_type": "code",
   "execution_count": 30,
   "metadata": {},
   "outputs": [
    {
     "data": {
      "text/plain": [
       "56"
      ]
     },
     "execution_count": 30,
     "metadata": {},
     "output_type": "execute_result"
    }
   ],
   "source": [
    "# Ta có 2 string:\n",
    "a = \"Xin Cảm ơn\"\n",
    "b = \"Xin Chào\"\n",
    "\n",
    "fuzz.ratio(a,b) # Độ giống nhau là 48%\n",
    "# Độ tương thích này được xét theo các yếu tố như:\n",
    "# Số lượng từ ở trong hai câu\n",
    "# Vị trí từ\n",
    "# Kiểu viết của chữ (hoa hoặc thường)\n",
    "# ....."
   ]
  },
  {
   "cell_type": "code",
   "execution_count": 31,
   "metadata": {},
   "outputs": [
    {
     "data": {
      "text/plain": [
       "62"
      ]
     },
     "execution_count": 31,
     "metadata": {},
     "output_type": "execute_result"
    }
   ],
   "source": [
    "a = \"Xin Cảm ơn\"\n",
    "b = \"Xin Chào\"\n",
    "\n",
    "fuzz.partial_ratio(a ,b) # có bao nhiêu % của a trong b hoặc b trong a, dù đổi vị trí các parameter cũng không làm thay đổi giá trị %.\n",
    "# Ở câu này do vị trí của từ Xin C"
   ]
  },
  {
   "cell_type": "markdown",
   "metadata": {},
   "source": [
    "- Viết hàm phân nhóm theo series của các sách trong 1 categories.<br>\n",
    "<br>\n",
    "<font color = red>Cách làm </font>:<br>\n",
    "- Ta sẽ kiểm tra có 1 `list` để chứa các series và sẽ dùng `list` này để đi so sánh với tên của các cuốn sách khác.\n",
    "- So sánh cuốn sách với từng series bên trong list. Nếu độ tương thích dưới 80% sẽ add tên đó vào series. Ngược lại ta sẽ thêm vào thì ta không thêm vào.\n",
    "- Với mỗi series trong list sẽ được đánh dấu 1 index, ta gọi hàm index của list để lấy index đó và gán cho dòng của cuốn sách đó.<br>\n",
    "<font color = red>Hàm trả về</font>:<br> Hàm trả về list là index của series mà cuốn sách thuộc về"
   ]
  },
  {
   "cell_type": "code",
   "execution_count": 32,
   "metadata": {},
   "outputs": [],
   "source": [
    "# ulen_names = lightnovel_df.name.nunique() # number of unique names\n",
    "# u_names = list(map(lambda x: x.upper(), lightnovel_df.name.unique())) #array unique names\n",
    "\n",
    "\n",
    "# ln_series = []\n",
    "# series_Series = []\n",
    "# ln_series.append(u_names[0])\n",
    "# for name in u_names:\n",
    "#     ratio_series = []\n",
    "#     for series in ln_series:\n",
    "#         ratio_series.append(SequenceMatcher(None, series, name).ratio())\n",
    "#     max_ratio = max(ratio_series)\n",
    "#     if max_ratio < 0.6:\n",
    "#         ln_series.append(name)\n",
    "#         series_Series.append(ln_series.index(name))\n",
    "#     else:\n",
    "#         series_Series.append(ratio_series.index(max_ratio))\n",
    "def categoricate_book_name(book_df):\n",
    "    u_names = list(map(lambda x: x.upper(), list(book_df.name)))\n",
    "    book_series = []\n",
    "    series = []\n",
    "    book_series.append(u_names[0])\n",
    "    for name in u_names:\n",
    "        ratio_series = process.extract(name, book_series, scorer = fuzz.token_sort_ratio)\n",
    "        best_ratio_series = ratio_series[0]\n",
    "        if best_ratio_series[-1] < 65: # Xét tỉ lệ hợp lệ cao hơn 80%\n",
    "            book_series.append(name)\n",
    "            series.append(book_series.index(name))\n",
    "        else:\n",
    "            series.append(book_series.index(best_ratio_series[0]))\n",
    "    return series"
   ]
  },
  {
   "cell_type": "markdown",
   "metadata": {},
   "source": [
    "Tên các loại sách"
   ]
  },
  {
   "cell_type": "code",
   "execution_count": 33,
   "metadata": {},
   "outputs": [
    {
     "data": {
      "text/plain": [
       "['Du ký',\n",
       " 'Light novel',\n",
       " 'Phê Bình - Lý Luận Văn Học',\n",
       " 'Phóng sự - Ký sự - Bút ký',\n",
       " 'Tác phẩm kinh điển',\n",
       " 'Thơ',\n",
       " 'Tiểu sử - Hồi ký',\n",
       " 'Tiểu Thuyết',\n",
       " 'Truyện Giả tưởng - Huyền Bí - Phiêu Lưu',\n",
       " 'Tranh Truyện',\n",
       " 'Truyện cổ tích - Ngụ ngôn',\n",
       " 'Truyện cười',\n",
       " 'Truyện dài',\n",
       " 'Bài học kinh doanh',\n",
       " 'Truyện đam mỹ',\n",
       " 'Truyện kiếm hiệp',\n",
       " 'Truyện kinh dị',\n",
       " 'Truyện ngắn - Tản văn - Tạp Văn',\n",
       " 'Truyện ngôn tình',\n",
       " 'Truyện trinh thám',\n",
       " 'Ca dao - Tục ngữ',\n",
       " 'Sách ảnh',\n",
       " 'Sách doanh nhân',\n",
       " 'Sách khởi nghiệp',\n",
       " 'Sách kinh tế học',\n",
       " 'Sách kỹ năng làm việc',\n",
       " 'Sách Marketing - Bán hàng ',\n",
       " 'Sách quản trị, lãnh đạo',\n",
       " 'Sách quản trị nhân lực',\n",
       " 'Sách tài chính, kế toán',\n",
       " 'Sách tài chính, tiền tệ',\n",
       " 'Đạo đức - Kỹ năng sống',\n",
       " 'Kiến thức - Bách khoa',\n",
       " 'Tô màu - Luyện chữ  ',\n",
       " 'Truyện cổ tích',\n",
       " 'Truyện kể cho bé',\n",
       " 'Truyện tranh Ehon',\n",
       " 'Truyện tranh thiếu nhi',\n",
       " 'Văn học thiếu nhi',\n",
       " 'Sách tư duy - Kỹ năng sống',\n",
       " 'Sách nghệ thuật sống đẹp',\n",
       " 'Sách hướng nghiệp - Kỹ năng mềm',\n",
       " 'Sách Thai Giáo',\n",
       " 'Sách Kiến Thức - Kỹ Năng Cho Trẻ',\n",
       " 'Sách Làm Cha Mẹ',\n",
       " 'Sách Dinh Dưỡng - Sức Khỏe Cho Bé',\n",
       " 'Sách Giáo Khoa Cấp 1',\n",
       " 'Sách Giáo Khoa Cấp 2',\n",
       " 'Sách Giáo Khoa Cấp 3',\n",
       " 'Giáo Trình Đại Học - Cao Đẳng',\n",
       " 'Sách Học Tiếng Anh',\n",
       " 'Sách Học Tiếng Nhật',\n",
       " 'Sách Học Tiếng Hàn',\n",
       " 'Sách tham khảo cấp I',\n",
       " 'Sách Học Tiếng Hoa',\n",
       " 'Ngoại Ngữ Khác',\n",
       " 'Sách tham khảo cấp II',\n",
       " 'Sách tham khảo cấp III',\n",
       " 'Sách Luyện Thi Đại Học - Cao Đẳng',\n",
       " 'Thẻ luyện thi',\n",
       " 'Sách chuyên đề',\n",
       " 'Từ Điển Tiếng Anh',\n",
       " 'Từ Điển Tiếng Trung',\n",
       " 'Từ Điển Tiếng Hàn',\n",
       " 'Từ Điển Tiếng Nhật',\n",
       " 'Từ Điển Tiếng Pháp',\n",
       " 'Từ Điển Tiếng Việt',\n",
       " 'Từ Điển Ngôn Ngữ Khác',\n",
       " 'Kiến Thức Bách Khoa',\n",
       " 'Lĩnh vực khác',\n",
       " 'Sách Chiêm Tinh - Horoscope',\n",
       " 'Sách giáo dục',\n",
       " 'Truyện Tranh, Manga, Comic',\n",
       " 'Sách Phong Thủy - Kinh Dịch',\n",
       " 'Triết Học',\n",
       " 'Sách Khoa Học - Kỹ Thuật',\n",
       " 'Lịch Sử Việt Nam',\n",
       " 'Lịch Sử Thế Giới',\n",
       " 'Âm Nhạc - Điện Ảnh',\n",
       " 'Mỹ Thuật - Kiến Trúc',\n",
       " 'Sách Tô Màu Dành Cho Người Lớn',\n",
       " 'Sách Tôn Giáo - Tâm Linh',\n",
       " 'Sách Danh Nhân',\n",
       " 'Sách Địa Danh - Du Lịch',\n",
       " 'Sách Phong Tục - Tập Quán',\n",
       " 'Luật - Văn Bản Luật',\n",
       " 'Lý Luận Chính Trị',\n",
       " 'Sách Nông - Lâm - Ngư Nghiệp',\n",
       " 'Tin Học Văn Phòng',\n",
       " 'Lập Trình',\n",
       " 'Thiết Kế - Đồ Họa',\n",
       " 'Sách Y Học',\n",
       " 'Tạp Chí - Catalogue',\n",
       " 'Sách Tâm Lý Tuổi Teen',\n",
       " 'Sách Hôn Nhân - Giới Tính',\n",
       " 'Chăm sóc sức khỏe',\n",
       " 'May - Thêu - Thời Trang',\n",
       " 'Sách Làm Đẹp',\n",
       " 'Sách Nấu ăn',\n",
       " 'Thể Dục - Thể Thao']"
      ]
     },
     "execution_count": 33,
     "metadata": {},
     "output_type": "execute_result"
    }
   ],
   "source": [
    "list(df.categories.unique())"
   ]
  },
  {
   "cell_type": "markdown",
   "metadata": {},
   "source": [
    "Thử với loại sách là `Light Novel`"
   ]
  },
  {
   "cell_type": "code",
   "execution_count": 34,
   "metadata": {},
   "outputs": [],
   "source": [
    "lightnovel_df = get_df_by_categories(\"Light novel\")\n",
    "# list(lightnovel_df.name)"
   ]
  },
  {
   "cell_type": "code",
   "execution_count": 35,
   "metadata": {},
   "outputs": [],
   "source": [
    "series = categoricate_book_name(lightnovel_df)"
   ]
  },
  {
   "cell_type": "code",
   "execution_count": 36,
   "metadata": {},
   "outputs": [],
   "source": [
    "# series = pd.DataFrame({\"Series\": list(categoricate_book_name(lightnovel_df))})"
   ]
  },
  {
   "cell_type": "code",
   "execution_count": 37,
   "metadata": {},
   "outputs": [],
   "source": [
    "lightnovel_df.insert(len(lightnovel_df.columns), \"Series\", series)\n",
    "# lightnovel_df = pd.concat([lightnovel_df, series], axis = 1 ,ignore_index=True)"
   ]
  },
  {
   "cell_type": "code",
   "execution_count": 38,
   "metadata": {},
   "outputs": [
    {
     "data": {
      "text/html": [
       "<div>\n",
       "<style scoped>\n",
       "    .dataframe tbody tr th:only-of-type {\n",
       "        vertical-align: middle;\n",
       "    }\n",
       "\n",
       "    .dataframe tbody tr th {\n",
       "        vertical-align: top;\n",
       "    }\n",
       "\n",
       "    .dataframe thead th {\n",
       "        text-align: right;\n",
       "    }\n",
       "</style>\n",
       "<table border=\"1\" class=\"dataframe\">\n",
       "  <thead>\n",
       "    <tr style=\"text-align: right;\">\n",
       "      <th></th>\n",
       "      <th>id</th>\n",
       "      <th>sku</th>\n",
       "      <th>name</th>\n",
       "      <th>short_url</th>\n",
       "      <th>book_cover</th>\n",
       "      <th>price</th>\n",
       "      <th>original_price</th>\n",
       "      <th>discount_rate</th>\n",
       "      <th>rating_average</th>\n",
       "      <th>review_count</th>\n",
       "      <th>...</th>\n",
       "      <th>authors</th>\n",
       "      <th>publisher_vn</th>\n",
       "      <th>publication_date</th>\n",
       "      <th>dimensions</th>\n",
       "      <th>manufacturer</th>\n",
       "      <th>number_of_page</th>\n",
       "      <th>dich_gia</th>\n",
       "      <th>edition</th>\n",
       "      <th>luu_y</th>\n",
       "      <th>Series</th>\n",
       "    </tr>\n",
       "  </thead>\n",
       "  <tbody>\n",
       "    <tr>\n",
       "      <th>102</th>\n",
       "      <td>203957932</td>\n",
       "      <td>4966276852148</td>\n",
       "      <td>Chào Mừng Đến Lớp Học Đề Cao Thực Lực - 4</td>\n",
       "      <td>https://tiki.vn/product-p203957932.html?spid=2...</td>\n",
       "      <td>Bìa mềm</td>\n",
       "      <td>95900</td>\n",
       "      <td>120000</td>\n",
       "      <td>20</td>\n",
       "      <td>5.0</td>\n",
       "      <td>25</td>\n",
       "      <td>...</td>\n",
       "      <td>Kinugasa Syougo</td>\n",
       "      <td>IPM</td>\n",
       "      <td>2022-11-11</td>\n",
       "      <td>13x18 cm</td>\n",
       "      <td>Nhà Xuất Bản Hà Nội</td>\n",
       "      <td>356</td>\n",
       "      <td>Thu Hằng</td>\n",
       "      <td>NaN</td>\n",
       "      <td>NaN</td>\n",
       "      <td>0</td>\n",
       "    </tr>\n",
       "    <tr>\n",
       "      <th>121</th>\n",
       "      <td>195969669</td>\n",
       "      <td>9063209978122</td>\n",
       "      <td>Chào Mừng Đến Lớp Học Đề Cao Thực Lực - 3</td>\n",
       "      <td>https://tiki.vn/product-p195969669.html?spid=1...</td>\n",
       "      <td>Bìa mềm</td>\n",
       "      <td>95900</td>\n",
       "      <td>120000</td>\n",
       "      <td>20</td>\n",
       "      <td>4.8</td>\n",
       "      <td>142</td>\n",
       "      <td>...</td>\n",
       "      <td>Kinugasa Syougo</td>\n",
       "      <td>IPM</td>\n",
       "      <td>2022-08-08</td>\n",
       "      <td>18x23 cm</td>\n",
       "      <td>Nhà Xuất Bản Hà Nội</td>\n",
       "      <td>380</td>\n",
       "      <td>Hoàng Ngọc</td>\n",
       "      <td>NaN</td>\n",
       "      <td>NaN</td>\n",
       "      <td>0</td>\n",
       "    </tr>\n",
       "  </tbody>\n",
       "</table>\n",
       "<p>2 rows × 25 columns</p>\n",
       "</div>"
      ],
      "text/plain": [
       "            id            sku                                       name  \\\n",
       "102  203957932  4966276852148  Chào Mừng Đến Lớp Học Đề Cao Thực Lực - 4   \n",
       "121  195969669  9063209978122  Chào Mừng Đến Lớp Học Đề Cao Thực Lực - 3   \n",
       "\n",
       "                                             short_url book_cover  price  \\\n",
       "102  https://tiki.vn/product-p203957932.html?spid=2...    Bìa mềm  95900   \n",
       "121  https://tiki.vn/product-p195969669.html?spid=1...    Bìa mềm  95900   \n",
       "\n",
       "     original_price  discount_rate  rating_average  review_count  ...  \\\n",
       "102          120000             20             5.0            25  ...   \n",
       "121          120000             20             4.8           142  ...   \n",
       "\n",
       "             authors publisher_vn  publication_date dimensions  \\\n",
       "102  Kinugasa Syougo          IPM        2022-11-11   13x18 cm   \n",
       "121  Kinugasa Syougo          IPM        2022-08-08   18x23 cm   \n",
       "\n",
       "            manufacturer number_of_page    dich_gia edition luu_y Series  \n",
       "102  Nhà Xuất Bản Hà Nội            356    Thu Hằng     NaN   NaN      0  \n",
       "121  Nhà Xuất Bản Hà Nội            380  Hoàng Ngọc     NaN   NaN      0  \n",
       "\n",
       "[2 rows x 25 columns]"
      ]
     },
     "execution_count": 38,
     "metadata": {},
     "output_type": "execute_result"
    }
   ],
   "source": [
    "lightnovel_df[lightnovel_df.Series == 0]"
   ]
  },
  {
   "cell_type": "markdown",
   "metadata": {},
   "source": [
    "Thử loại sách `Du ký`"
   ]
  },
  {
   "cell_type": "code",
   "execution_count": 39,
   "metadata": {},
   "outputs": [],
   "source": [
    "duky_df = get_df_by_categories(\"Du ký\")"
   ]
  },
  {
   "cell_type": "code",
   "execution_count": 40,
   "metadata": {},
   "outputs": [],
   "source": [
    "series = categoricate_book_name(duky_df)"
   ]
  },
  {
   "cell_type": "code",
   "execution_count": 41,
   "metadata": {},
   "outputs": [],
   "source": [
    "duky_df.insert(len(duky_df.columns), \"Series\", series)"
   ]
  },
  {
   "cell_type": "code",
   "execution_count": 42,
   "metadata": {},
   "outputs": [
    {
     "data": {
      "text/html": [
       "<div>\n",
       "<style scoped>\n",
       "    .dataframe tbody tr th:only-of-type {\n",
       "        vertical-align: middle;\n",
       "    }\n",
       "\n",
       "    .dataframe tbody tr th {\n",
       "        vertical-align: top;\n",
       "    }\n",
       "\n",
       "    .dataframe thead th {\n",
       "        text-align: right;\n",
       "    }\n",
       "</style>\n",
       "<table border=\"1\" class=\"dataframe\">\n",
       "  <thead>\n",
       "    <tr style=\"text-align: right;\">\n",
       "      <th></th>\n",
       "      <th>id</th>\n",
       "      <th>sku</th>\n",
       "      <th>name</th>\n",
       "      <th>short_url</th>\n",
       "      <th>book_cover</th>\n",
       "      <th>price</th>\n",
       "      <th>original_price</th>\n",
       "      <th>discount_rate</th>\n",
       "      <th>rating_average</th>\n",
       "      <th>review_count</th>\n",
       "      <th>...</th>\n",
       "      <th>authors</th>\n",
       "      <th>publisher_vn</th>\n",
       "      <th>publication_date</th>\n",
       "      <th>dimensions</th>\n",
       "      <th>manufacturer</th>\n",
       "      <th>number_of_page</th>\n",
       "      <th>dich_gia</th>\n",
       "      <th>edition</th>\n",
       "      <th>luu_y</th>\n",
       "      <th>Series</th>\n",
       "    </tr>\n",
       "  </thead>\n",
       "  <tbody>\n",
       "    <tr>\n",
       "      <th>0</th>\n",
       "      <td>204317934</td>\n",
       "      <td>9972713357587</td>\n",
       "      <td>1111 - Nhật Ký Sáu Vạn Dặm Trên Yên Xe Cà Tàng</td>\n",
       "      <td>https://tiki.vn/product-p204317934.html?spid=2...</td>\n",
       "      <td>NaN</td>\n",
       "      <td>262000</td>\n",
       "      <td>325000</td>\n",
       "      <td>19</td>\n",
       "      <td>5.0</td>\n",
       "      <td>55</td>\n",
       "      <td>...</td>\n",
       "      <td>Trần Đặng Đăng Khoa</td>\n",
       "      <td>NXB Trẻ</td>\n",
       "      <td>2022-11-10 00:00:00</td>\n",
       "      <td>13 x 20</td>\n",
       "      <td>NXB Trẻ</td>\n",
       "      <td>0</td>\n",
       "      <td>NaN</td>\n",
       "      <td>NaN</td>\n",
       "      <td>NaN</td>\n",
       "      <td>0</td>\n",
       "    </tr>\n",
       "    <tr>\n",
       "      <th>1</th>\n",
       "      <td>205279963</td>\n",
       "      <td>7618382614299</td>\n",
       "      <td>1111 - Nhật Ký Sáu Vạn Dặm Trên Yên Xe Cà Tàng</td>\n",
       "      <td>https://tiki.vn/product-p205279963.html?spid=2...</td>\n",
       "      <td>Bìa mềm</td>\n",
       "      <td>256750</td>\n",
       "      <td>325000</td>\n",
       "      <td>21</td>\n",
       "      <td>0.0</td>\n",
       "      <td>0</td>\n",
       "      <td>...</td>\n",
       "      <td>Trần Đặng Đăng Khoa</td>\n",
       "      <td>NXB Trẻ</td>\n",
       "      <td>2022-11-11 17:44:46</td>\n",
       "      <td>NaN</td>\n",
       "      <td>NXB Trẻ</td>\n",
       "      <td>778</td>\n",
       "      <td>NaN</td>\n",
       "      <td>NaN</td>\n",
       "      <td>NaN</td>\n",
       "      <td>0</td>\n",
       "    </tr>\n",
       "    <tr>\n",
       "      <th>3</th>\n",
       "      <td>205288789</td>\n",
       "      <td>9035774965791</td>\n",
       "      <td>1111 - Nhật Ký Sáu Vạn Dặm Trên Yên Xe Cà Tàng</td>\n",
       "      <td>https://tiki.vn/product-p205288789.html?spid=2...</td>\n",
       "      <td>Bìa mềm</td>\n",
       "      <td>292500</td>\n",
       "      <td>325000</td>\n",
       "      <td>10</td>\n",
       "      <td>0.0</td>\n",
       "      <td>0</td>\n",
       "      <td>...</td>\n",
       "      <td>Trần Đặng Đăng Khoa</td>\n",
       "      <td>Văn Lang</td>\n",
       "      <td>2022-11-10 20:17:06</td>\n",
       "      <td>NaN</td>\n",
       "      <td>Nhà Xuất Bản Hồng Đức</td>\n",
       "      <td>776</td>\n",
       "      <td>NaN</td>\n",
       "      <td>NaN</td>\n",
       "      <td>NaN</td>\n",
       "      <td>0</td>\n",
       "    </tr>\n",
       "    <tr>\n",
       "      <th>4</th>\n",
       "      <td>204649516</td>\n",
       "      <td>8708257676679</td>\n",
       "      <td>Sách - 1111 - NHẬT KÝ SÁU VẠN DẶM TRÊN YÊN XE ...</td>\n",
       "      <td>https://tiki.vn/product-p204649516.html?spid=2...</td>\n",
       "      <td>NaN</td>\n",
       "      <td>292500</td>\n",
       "      <td>325000</td>\n",
       "      <td>10</td>\n",
       "      <td>0.0</td>\n",
       "      <td>0</td>\n",
       "      <td>...</td>\n",
       "      <td>NaN</td>\n",
       "      <td>NXB Trẻ</td>\n",
       "      <td>NaT</td>\n",
       "      <td>NaN</td>\n",
       "      <td>NXB Trẻ</td>\n",
       "      <td>0</td>\n",
       "      <td>NaN</td>\n",
       "      <td>NaN</td>\n",
       "      <td>NaN</td>\n",
       "      <td>0</td>\n",
       "    </tr>\n",
       "    <tr>\n",
       "      <th>10</th>\n",
       "      <td>205293454</td>\n",
       "      <td>4751431039506</td>\n",
       "      <td>1111 - Nhật Ký Sáu Vạn Dặm Trên Yên Xe Cà Tàng</td>\n",
       "      <td>https://tiki.vn/product-p205293454.html?spid=2...</td>\n",
       "      <td>Bìa mềm</td>\n",
       "      <td>256750</td>\n",
       "      <td>325000</td>\n",
       "      <td>21</td>\n",
       "      <td>0.0</td>\n",
       "      <td>0</td>\n",
       "      <td>...</td>\n",
       "      <td>Trần Đặng Đăng Khoa</td>\n",
       "      <td>NXB Trẻ</td>\n",
       "      <td>2022-11-11 00:34:17</td>\n",
       "      <td>NaN</td>\n",
       "      <td>NXB Trẻ</td>\n",
       "      <td>778</td>\n",
       "      <td>NaN</td>\n",
       "      <td>NaN</td>\n",
       "      <td>NaN</td>\n",
       "      <td>0</td>\n",
       "    </tr>\n",
       "  </tbody>\n",
       "</table>\n",
       "<p>5 rows × 25 columns</p>\n",
       "</div>"
      ],
      "text/plain": [
       "           id            sku  \\\n",
       "0   204317934  9972713357587   \n",
       "1   205279963  7618382614299   \n",
       "3   205288789  9035774965791   \n",
       "4   204649516  8708257676679   \n",
       "10  205293454  4751431039506   \n",
       "\n",
       "                                                 name  \\\n",
       "0      1111 - Nhật Ký Sáu Vạn Dặm Trên Yên Xe Cà Tàng   \n",
       "1      1111 - Nhật Ký Sáu Vạn Dặm Trên Yên Xe Cà Tàng   \n",
       "3      1111 - Nhật Ký Sáu Vạn Dặm Trên Yên Xe Cà Tàng   \n",
       "4   Sách - 1111 - NHẬT KÝ SÁU VẠN DẶM TRÊN YÊN XE ...   \n",
       "10     1111 - Nhật Ký Sáu Vạn Dặm Trên Yên Xe Cà Tàng   \n",
       "\n",
       "                                            short_url book_cover   price  \\\n",
       "0   https://tiki.vn/product-p204317934.html?spid=2...        NaN  262000   \n",
       "1   https://tiki.vn/product-p205279963.html?spid=2...    Bìa mềm  256750   \n",
       "3   https://tiki.vn/product-p205288789.html?spid=2...    Bìa mềm  292500   \n",
       "4   https://tiki.vn/product-p204649516.html?spid=2...        NaN  292500   \n",
       "10  https://tiki.vn/product-p205293454.html?spid=2...    Bìa mềm  256750   \n",
       "\n",
       "    original_price  discount_rate  rating_average  review_count  ...  \\\n",
       "0           325000             19             5.0            55  ...   \n",
       "1           325000             21             0.0             0  ...   \n",
       "3           325000             10             0.0             0  ...   \n",
       "4           325000             10             0.0             0  ...   \n",
       "10          325000             21             0.0             0  ...   \n",
       "\n",
       "                authors publisher_vn    publication_date dimensions  \\\n",
       "0   Trần Đặng Đăng Khoa      NXB Trẻ 2022-11-10 00:00:00    13 x 20   \n",
       "1   Trần Đặng Đăng Khoa      NXB Trẻ 2022-11-11 17:44:46        NaN   \n",
       "3   Trần Đặng Đăng Khoa     Văn Lang 2022-11-10 20:17:06        NaN   \n",
       "4                   NaN      NXB Trẻ                 NaT        NaN   \n",
       "10  Trần Đặng Đăng Khoa      NXB Trẻ 2022-11-11 00:34:17        NaN   \n",
       "\n",
       "             manufacturer number_of_page dich_gia edition luu_y Series  \n",
       "0                 NXB Trẻ              0      NaN     NaN   NaN      0  \n",
       "1                 NXB Trẻ            778      NaN     NaN   NaN      0  \n",
       "3   Nhà Xuất Bản Hồng Đức            776      NaN     NaN   NaN      0  \n",
       "4                 NXB Trẻ              0      NaN     NaN   NaN      0  \n",
       "10                NXB Trẻ            778      NaN     NaN   NaN      0  \n",
       "\n",
       "[5 rows x 25 columns]"
      ]
     },
     "execution_count": 42,
     "metadata": {},
     "output_type": "execute_result"
    }
   ],
   "source": [
    "duky_df[duky_df.Series == 0]"
   ]
  },
  {
   "cell_type": "markdown",
   "metadata": {},
   "source": [
    "Tuy cùng là một cuốn sách, nhưng có nhiều shop khác nhau bán, có mức độ đánh giá trung bình, review của khách hàng, mức khuyến mãi, giá cả khác nhau... dẫn đến việc lựa chọn nên mua ở shop nào."
   ]
  },
  {
   "cell_type": "markdown",
   "metadata": {},
   "source": [
    "---"
   ]
  },
  {
   "cell_type": "markdown",
   "metadata": {},
   "source": [
    "##### **Câu 2**"
   ]
  },
  {
   "cell_type": "markdown",
   "metadata": {},
   "source": [
    "- `rating-average` (Mức độ đánh giá trung bình), `original_price` (Giá gốc sản phẩm), `all_time_quanity_sold` (số lượng sản phẩm bán ra) có liên quan gì đến nhau ?\n",
    "- Ở câu 1 đã cho biết, có các sản phẩm cùng tên nhưng shop khác nhau, dự đoán lí do tại sao có shop bán được nhiều hàng, có shop bán không được nhiều mấy?"
   ]
  },
  {
   "cell_type": "markdown",
   "metadata": {},
   "source": [
    "**Trả lời câu hỏi thành công:** <br>\n",
    "Sẽ hiểu được việc đánh giá của khách hàng sẽ có ảnh hưởng như thế nào đến việc bán sản phẩm của shop.<br>"
   ]
  },
  {
   "cell_type": "code",
   "execution_count": 43,
   "metadata": {},
   "outputs": [],
   "source": [
    "cols_work = [\"rating_average\", \"categories\", \"price\", \"original_price\" ,\"all_time_quantity_sold\"]\n",
    "rcp_df = df[cols_work]"
   ]
  },
  {
   "cell_type": "markdown",
   "metadata": {},
   "source": [
    "`rating_average` được phân bố cho như thế nào? "
   ]
  },
  {
   "cell_type": "code",
   "execution_count": 44,
   "metadata": {},
   "outputs": [
    {
     "data": {
      "text/plain": [
       "14930"
      ]
     },
     "execution_count": 44,
     "metadata": {},
     "output_type": "execute_result"
    }
   ],
   "source": [
    "len(df[df.rating_average > 0])"
   ]
  },
  {
   "cell_type": "code",
   "execution_count": 45,
   "metadata": {},
   "outputs": [],
   "source": [
    "from matplotlib import pyplot as plt\n",
    "import seaborn as sns\n",
    "import math\n",
    "%matplotlib inline"
   ]
  },
  {
   "cell_type": "markdown",
   "metadata": {},
   "source": [
    "Tạo ra một khoảng dữ liệu mức rating: <br>\n",
    "**(0,0)** ứng với 0 sao <br>\n",
    "**(0,1)** ứng với (0,1) <br>\n",
    "**(1,2)** ứng với [1,2) <br>\n",
    "**(2,3)** ứng với [2,3) <br>\n",
    "**(3,4)** ứng với [3,4) <br>\n",
    "**(4,5)** ứng với [4,5) <br>\n",
    "**(5,5)** ứng với 5 sao <br>"
   ]
  },
  {
   "cell_type": "code",
   "execution_count": 46,
   "metadata": {},
   "outputs": [],
   "source": [
    "def rating_range(x):\n",
    "    if (x == 0.0):\n",
    "        return (0,0)\n",
    "    elif (x == 5.0):\n",
    "        return (5,5)\n",
    "    else:\n",
    "        return (math.floor(x), math.floor(x+1))"
   ]
  },
  {
   "cell_type": "code",
   "execution_count": 47,
   "metadata": {},
   "outputs": [],
   "source": [
    "rating_range_series = pd.DataFrame({\"rating_range\": rcp_df.rating_average.apply(rating_range)})\n",
    "rcp_df = pd.concat([rcp_df, rating_range_series], axis = 1)\n",
    "# rcp.set_axis([*df.columns[:-1], 'Test'], axis=1, inplace=False)"
   ]
  },
  {
   "cell_type": "markdown",
   "metadata": {},
   "source": [
    "Trực quan hóa dữ thông tin lên đồ thị để quan sát dễ dàng."
   ]
  },
  {
   "cell_type": "code",
   "execution_count": 48,
   "metadata": {},
   "outputs": [],
   "source": [
    "def pie_chart(x,y, title):\n",
    "    c = ['lightcoral', 'rosybrown', 'sandybrown', 'navajowhite', 'gold',\n",
    "            'khaki', 'lightskyblue', 'turquoise', 'lightslategrey', 'thistle', 'pink']\n",
    "    plt.figure(figsize=(7,5))\n",
    "    plt.title(title, size=10)\n",
    "#     plt.pie(rcp_df.rating_range.value_counts().sort_index().values, colors=c,shadow=True)\n",
    "    plt.pie(y, colors=c,shadow=True)\n",
    "#     plt.legend(rcp_df.rating_range.value_counts().sort_index().index, loc='best', fontsize=12)\n",
    "    plt.legend(x, loc='best', fontsize=12)"
   ]
  },
  {
   "cell_type": "code",
   "execution_count": 49,
   "metadata": {},
   "outputs": [
    {
     "data": {
      "image/png": "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",
      "text/plain": [
       "<Figure size 700x500 with 1 Axes>"
      ]
     },
     "metadata": {},
     "output_type": "display_data"
    }
   ],
   "source": [
    "x = rcp_df.rating_range.value_counts().sort_index().index\n",
    "y = rcp_df.rating_range.value_counts().sort_index().values\n",
    "pie_chart(x, y, \"Pie chart show percentage of rating range\")"
   ]
  },
  {
   "cell_type": "markdown",
   "metadata": {},
   "source": [
    "Qua biểu đồ trên, nhận thấy các đánh giá của khách hàng về sản phẩm không nhiều. Vẫn có nhiều mặt hàng được đánh giá là 0 sao.<br>\n",
    "##### Xem thử mối quan hệ giữa `rating_range`, `original_price`, `all_time_quantity_sold`"
   ]
  },
  {
   "cell_type": "code",
   "execution_count": 50,
   "metadata": {},
   "outputs": [],
   "source": [
    "def build_scatterplot(data, x, y, hue: None, ax, title):\n",
    "    sns.scatterplot(data = data, x = x, y = y, ax = ax)\n",
    "    plt.title(title, size = 10)"
   ]
  },
  {
   "cell_type": "code",
   "execution_count": 51,
   "metadata": {},
   "outputs": [
    {
     "data": {
      "image/png": "iVBORw0KGgoAAAANSUhEUgAAA90AAAPdCAYAAACXzguGAAAAOXRFWHRTb2Z0d2FyZQBNYXRwbG90bGliIHZlcnNpb24zLjYuMiwgaHR0cHM6Ly9tYXRwbG90bGliLm9yZy8o6BhiAAAACXBIWXMAAA9hAAAPYQGoP6dpAAEAAElEQVR4nOzde3yT9fn/8XeSNj2lB2g4SoFqiyIHxcOmFlDc1OERZeqYB0B3cBOd+vU3PIuCgm6enU6ngn6nc24IQ5znEwe/TlQYBxEpMkFBsJU2bdMmbXL//ijtCElzB9L0TprX8/Hg8aC5c7iS3klzfT7X5/rYDMMwBAAAAAAAOp3d6gAAAAAAAOiuSLoBAAAAAEgQkm4AAAAAABKEpBsAAAAAgAQh6QYAAAAAIEFIugEAAAAASBCSbgAAAAAAEoSkGwAAAACABCHpBgAAAAAgQUi6AQAAAABIEJLuBFiyZInOOOMM9e/fXzabTQsXLtzn+zAMQ7///e81ZMgQZWVlqaSkRHfeeWfnBwsAAAAASJgMqwPojhoaGnTYYYdp6tSpmjhx4n7dx29+8xu9/vrr+v3vf68RI0aotrZWVVVVnRwpAAAAACCRbIZhGFYH0Z3ZbDYtWLBAEyZMaL/M7/frpptu0rPPPquamhoNHz5cd911l0444QRJ0vr16zVy5EitXbtWBx98sDWBAwAAAADiRnm5BaZOnarly5fr+eef1+rVq3XuuefqRz/6kTZu3ChJeumll3TggQdq8eLFKi0t1eDBg/Wzn/1M3333ncWRAwAAAAD2BUl3F9u0aZP+8pe/6G9/+5vGjBmjgw46SNdee61Gjx6tuXPnSpK++OILffnll/rb3/6mZ555RvPmzdPHH3+sH//4xxZHDwAAAADYF6zp7mKffPKJDMPQkCFDQi73+XwqLi6WJAWDQfl8Pj3zzDPt13vyySd15JFHasOGDZScAwAAAECKIOnuYsFgUA6HQx9//LEcDkfIMZfLJUnq16+fMjIyQhLzoUOHSpK2bNlC0g0AAAAAKYKku4uNGjVKgUBAO3fu1JgxYyJep6KiQi0tLdq0aZMOOuggSdLnn38uSRo0aFCXxQoAAAAAiA/dyxOgvr5elZWVklqT7HvvvVfjxo1Tz549NXDgQF144YVavny57rnnHo0aNUpVVVV6++23NWLECJ166qkKBoM6+uij5XK5dP/99ysYDOryyy9XQUGBXn/9dYufHQAAAAAgViTdCfDuu+9q3LhxYZdPnjxZ8+bNU3Nzs2bNmqVnnnlGX3/9tYqLi3Xsscfqtttu04gRIyRJ27Zt0xVXXKHXX39deXl5Gj9+vO655x717Nmzq58OAAAAAGA/kXQDAAAAAJAgbBkGAAAAAECC0EitEwWDQW3btk35+fmy2WxWhwMAAAAASBDDMFRXV6f+/fvLbu94PpukuxNt27ZNJSUlVocBAAAAAOgiW7du1YABAzo8TtLdifLz8yW1vugFBQUWRwMAAAAASBSPx6OSkpL2PLAjJN2dqK2kvKCggKQbAAAAANKA2dJiGqkBAAAAAJAgJN0AAAAAACQISTcAAAAAAAlC0g0AAAAAQIKQdAMAAAAAkCAk3QAAAAAAJAhJNwAAAAAACULSDQAAAABAgpB0AwAAAACQICTdAAAAAAAkCEn3boMHD5bNZgv7d/nll1sdGgAAAAAgRWVYHUCyWLFihQKBQPvPa9eu1UknnaRzzz3XwqgAAAAAAKmMpHu3Xr16hfw8Z84cHXTQQTr++OM7vI3P55PP52v/2ePxJCy+zlDr9auq3i9PU7MKcjLlznOqMNdpdVgAAAAA0K675S0k3RH4/X79+c9/1jXXXCObzdbh9WbPnq3bbrutCyPbf9tqGjV9/mot3VjVftnYcrfmTByp/kU5FkYGAAAAAK26Y95iMwzDsDqIZPPCCy/opz/9qbZs2aL+/ft3eL1IM90lJSWqra1VQUFBV4Qak1qvX9P+sjLkxG0zttythyaNSumRIwAAAACpL9XyFo/Ho8LCQtP8j5nuCJ588kmNHz8+asItSVlZWcrKyuqiqPZfVb0/4okrSUs2Vqmq3p9UJy8AAACA9NNd8xaS7r18+eWXevPNN/Xiiy9aHUqn8TQ1Rz1eZ3IcAAAAABKtu+YtbBm2l7lz56p379467bTTrA6l0xRkZ0Y9nm9yHAAAAAASrbvmLSTdewgGg5o7d64mT56sjIzuUwTgdjk1ttwd8djYcrfcrtQr0QAAAADQvXTXvIWkew9vvvmmtmzZoksuucTqUDpVYa5TcyaODDuBx5a7ddfEkSm5LgIAAABA99Jd8xa6l3eiWLvXWaVtv7u6pmblZ2fK7Urt/e4AAAAAdD+pkrfQvRxhCnOT82QFAAAAgDbdLW+hvBwAAAAAgAQh6QYAAAAAIEFIugEAAAAASBCSbgAAAAAAEoSkGwAAAACABCHpBgAAAAAgQUi6AQAAAABIEJJuAAAAAAAShKQbAAAAAIAEIekGAAAAACBBSLoBAAAAAEgQkm4AAAAAABKEpBsAAAAAgAQh6QYAAAAAIEFIugEAAAAASBCSbgAAAAAAEoSkGwAAAACABCHpBgAAAAAgQUi6AQAAAABIEJJuAAAAAAAShKQbAAAAAIAEIekGAAAAACBBSLoBAAAAAEgQkm4AAAAAABKEpBsAAAAAgAQh6QYAAAAAIEFIugEAAAAASBCSbgAAAAAAEoSkGwAAAACABCHpBgAAAAAgQUi6AQAAAABIEJJuAAAAAAAShKQbAAAAAIAEIekGAAAAACBBSLoBAAAAAEgQkm4AAAAAABKEpBsAAAAAgAQh6QYAAAAAIEFIugEAAAAASBCSbgAAAAAAEoSkGwAAAACABCHpBgAAAAAgQUi69/D111/rwgsvVHFxsXJzc3X44Yfr448/tjqsTlPr9WvTznqt3LJLm76tV63Xb3VIAAAAADpRd/jOv8PTpM+2e/Th5u/02Tce7fA0WR1SXDKsDiBZ7Nq1SxUVFRo3bpxeeeUV9e7dW5s2bVJRUZHVoXWKbTWNmj5/tZZurGq/bGy5W3MmjlT/ohwLIwMAAADQGbrDd/4t1Q26fsEaLa+sbr9sdFmx7jx7hAYW51kY2f6zGYZhWB1EMrjuuuu0fPlyLV26dL/vw+PxqLCwULW1tSooKOjE6OJT6/Vr2l9Whrz52owtd+uhSaNUmOu0IDIAAAAAnaE7fOff4WnSNS+sCkm424wuK9Y95x2uPgXZFkQWWaz5H+Xluy1atEhHHXWUzj33XPXu3VujRo3Sn/70p6i38fl88ng8If+SUVW9P+KbT5KWbKxSVX3qlZwAAAAA+K/u8J1/V4M/YsItScsqq7WrIfmfQyQk3bt98cUXevTRR1VeXq7XXntNl112ma688ko988wzHd5m9uzZKiwsbP9XUlLShRHHztPUHPV4nclxAAAAAMmtO3zn9zS1xHU8WZF07xYMBnXEEUfozjvv1KhRo/TLX/5SP//5z/Xoo492eJvrr79etbW17f+2bt3ahRHHriA7M+rxfJPjAAAAAJJbd/jOX5AdveWY2fFkRdK9W79+/XTooYeGXDZ06FBt2bKlw9tkZWWpoKAg5F8ycrucGlvujnhsbLlbbldyr+0AAAAAEF13+M7fI8+p0WXFEY+NLitWj7zkfw6RkHTvVlFRoQ0bNoRc9vnnn2vQoEEWRdR5CnOdmjNxZNibcGy5W3dNHJn0DRUAAAAARNcdvvP3KcjWnWePCEu827qXJ1MTtX1B9/LdVqxYoeOOO0633XabzjvvPH344Yf6+c9/rscff1wXXHBBTPeRrN3L29R6/aqq96uuqVn52Zlyu5wp8eYDAAAAEJvu8J1/h6dJuxr88jS1qCA7Qz3ynEmZcMea/5F072Hx4sW6/vrrtXHjRpWWluqaa67Rz3/+85hvn+xJNwAAAACgc5B0W4CkGwAAAADSA/t0AwAAAABgMZJuAAAAAAAShKQbAAAAAIAEIekGAAAAACBBSLoBAAAAAEgQkm4AAAAAABIkw+oA0HVqvX5V1fvlaWpWQU6m3HlOFeY6rQ4LAAAAALotku40sa2mUdPnr9bSjVXtl40td2vOxJHqX5RjYWQAAAAA0H1RXp4Gar3+sIRbkpZsrNJ181er1uu3KDIAAAAA6N5IutNAVb0/LOFus2RjlarqSboBAAAAIBFIutOAp6k56vE6k+MAAAAAgP1D0p0GCrIzox7PNzkOAAAAANg/JN1pwO1yamy5O+KxseVuuV10MAcAAACARCDpTgOFuU7NmjBco8uKQy4fXVasWROGs20YAAAAACQIW4algVqvX7cv/lSHD+yhqRWl8rUElZVh18qtNZq5+FP9/tzDSLwBAAAAIAFIutNAVb1fb67fqTfX7+zwOEk3AAAAAHQ+ysvTAN3LAQAAAMAaJN1pgO7lAAAAAGANku40QPdyAAAAALAGSXcaKMx1as7EkWGJ99hyt+6aOJL13AAAAACQIDRSSxP9i3L00KRRqqr3q66pWfnZmXK7nCTcAAAAAJBAJN1ppDCXJBsAAAAAuhLl5QAAAAAAJAhJNwAAAAAACULSDQAAAABAgpB0AwAAAACQICTdAAAAAAAkCEk3AAAAAAAJQtINAAAAAECCkHQDAAAAAJAgJN0AAAAAACQISTcAAAAAAAlC0g0AAAAAQIKQdAMAAAAAkCAk3QAAAAAAJAhJNwAAAAAACULSDQAAAABAgpB0AwAAAACQICTdAAAAAAAkCEk3AAAAAAAJQtINAAAAAECCkHQDAAAAAJAgJN0AAAAAACQISTcAAAAAAAlC0r3bjBkzZLPZQv717dvX6rAAAAAAACksw+oAksmwYcP05ptvtv/scDgsjAYAAAAAkOpIuveQkZGxT7PbPp9PPp+v/WePx5OIsAAAAAAAKYry8j1s3LhR/fv3V2lpqX7yk5/oiy++iHr92bNnq7CwsP1fSUlJF0UKAAAAAEgFNsMwDKuDSAavvPKKvF6vhgwZoh07dmjWrFn67LPPtG7dOhUXF0e8TaSZ7pKSEtXW1qqgoKCrQgcAAAAAdDGPx6PCwkLT/I+kuwMNDQ066KCD9Nvf/lbXXHNNTLeJ9UUHAAAAAKS2WPM/1nR3IC8vTyNGjNDGjRutDqXT1Hr9qqr3y9PUrIKcTLnznCrMdVodFgAAAAC06255C0l3B3w+n9avX68xY8ZYHUqn2FbTqOnzV2vpxqr2y8aWuzVn4kj1L8qxMDIAAAAAaNUd8xbKy3e79tprdcYZZ2jgwIHauXOnZs2apffee09r1qzRoEGDYrqPZC0vr/X6Ne0vK0NO3DZjy916aNKolB45AgAAAJD6ar1+/c/f/q1D+hVoVEmRfC1BZWc69MmWXdqw3aPfn3tYUuUtlJfvo6+++kqTJk1SVVWVevXqpWOOOUYffPBBzAl3Mquq90dMuCVpycYqVdX7k+rkBQAAAJB+qhv8+sn3Bmru8s16+O3K9ssryoo1taJU1Q2pmbeQdO/2/PPPWx1CwtQ2+k2ON3dRJAAAAAAQWUvQ0Nzlm7W8sjrk8rafZ5wxzIqw4sY+3Wkg1xl9bCXX6eiiSAAAAAAgsmDQCEu42yyvrFYgmJoro0m604DdblNFWeS9xivKiuWw27o4IgAAAAAI5fW3mBwPdFEknYukOw1k2G2aWlEalni3rY0g6QYAAABgtcKc6Ou1C3MyuyiSzsWa7jRQnOfU7H+u16iBPXRJRal8LUFlZdi1cmuN/vrhFv3+3MOsDhEAAABAmnO7nBpb7taSDnZdcrtSr4maxJZhnSpZtwyTWve7u27+6pATeGy5W3dNHKl+KbrfHQAAAIDuJZXylljzP5LuTpTMSbfUuu9dVb1fdU3Nys/OlNvlTMmW+wAAAAC6r1TJW9inG2EKc5PzZAUAAACANt0tb6GRGgAAAAAACULSDQAAAABAgpB0AwAAAACQICTdAAAAAAAkCEk3AAAAAAAJQtINAAAAAECCkHQDAAAAAJAgJN0AAAAAACQISTcAAAAAAAmSYXUA6Dpf7fKqrqlFnsZmFeZkypWdoQE9cq0OCwAAAADa1Xr9qqr3y9PUrIKcTLnznCrMdVod1n4j6U4TX1Y36IYFa7S8srr9stFlxbrj7BEaVJxnYWQAAAAA0GpbTaOmz1+tpRur2i8bW+7WnIkj1b8ox8LI9h/l5Wngq13esIRbkpZVVuvGBWv01S6vRZEBAAAAQKtarz8s4ZakJRurdN381ar1+i2KLD4k3WmgrqklLOFus6yyWnVNLV0cEQAAAACEqqr3hyXcbZZsrFJVPUk3kpSnsTnq8bqm6McBAAAAINE8JnlJquYtJN1poCAnM+rx/OzoxwEAAAAg0QpM8pJUzVtIutNAfnaGRpcVRzw2uqxY+dn00wMAAABgLbfLqbHl7ojHxpa75XalZgdzku40MKBHru44e0RY4t3WvZxtwwAAAABYrTDXqTkTR4Yl3mPL3bpr4siU3TbMZhiGYXUQ3YXH41FhYaFqa2tVUFBgdThh9tynuyAnU/ns0w0AAAAgybTt013X1Kz87Ey5Xcm5T3es+R91xWliW02jrp+/Rksru89+dwAAAAC6n8Lc5Eyy9xfl5Wmg1uvX9L+vDkm4pda2+9NTeL87AAAAAEh2JN1pYGedLyzhbrN0Y5V21vm6OCIAAAAASA8k3WmgxmSf7lqT4wAAAACA/cOa7jSQ53REPZ5rchwAAAAAukpbIzVPU2sDaHdeaq/xJulOA3nODFWUFWt5ZXXYsYqyYuU5OQ0AAAAAWG9bTaOmz1+tpRu7TwPoblVe3tTUZHUISakoN1NXnFiuir326a4oK9YVJ5arKDfTosgAAAAAoFWt1x+WcEutDaCvS+EG0Ck/xRkMBnXHHXfoj3/8o3bs2KHPP/9cBx54oG6++WYNHjxYl156qdUhWq4w16lBPXN1+sj+uqSiVL6WoLIy7NpZ59PgnrkpXaoBAAAAoHuoqveHJdxtlmysUlW9PyVzl5Sf6Z41a5bmzZunu+++W07nf38BI0aM0BNPPGFhZMmlX1GOTh3eV4OL89S/MFuDi/N06vC+6puiJRoAAAAAuhdPU/QGz3Umx5NVys90P/PMM3r88cf1gx/8QJdddln75SNHjtRnn31mYWTJp7ttMg8AAACg+yjIjr7sNd/keLJK+Znur7/+WmVlZWGXB4NBNTen5kgIAAAAAKQbt8upseXuiMfGlrvldqXmBGLKJ93Dhg3T0qVLwy7/29/+plGjRlkQEQAAAABgXxXmOjVn4siwxHtsuVt3TRyZslW7KV9efuutt+qiiy7S119/rWAwqBdffFEbNmzQM888o8WLF1sdHgAAAAAgRv2LcvTQpFGqqverrqlZ+dmZcrtSe5mszTAMw+og4vXaa6/pzjvv1Mcff6xgMKgjjjhCt9xyi04++eQujcPj8aiwsFC1tbUqKCjo0scGAAAAAHSdWPO/bpF0JwuSbgAAAABID7Hmfym/pnvFihX617/+FXb5v/71L3300UcWRAQAAAAAQKuUT7ovv/xybd26Nezyr7/+WpdffrkFEQEAAAAA0Crlk+5PP/1URxxxRNjlo0aN0qeffmpBRAAAAAAAtEr5pDsrK0s7duwIu3z79u3KyNj/5uyzZ8+WzWbTVVddFUd0AAAAAIB0lvJJ90knnaTrr79etbW17ZfV1NTohhtu0EknnbRf97lixQo9/vjjGjlyZGeFCQAAAABIQymfdN9zzz3aunWrBg0apHHjxmncuHEqLS3VN998o3vuuWef76++vl4XXHCB/vSnP6lHjx4JiBgAAAAAkC5SPuk+4IADtHr1at1999069NBDdeSRR+qBBx7QmjVrVFJSss/3d/nll+u0007TD3/4Q9Pr+nw+eTyekH8AAAAAALTZ/0XPSSQvL0+/+MUv4r6f559/Xp988olWrFgR0/Vnz56t2267Le7HBQAAAAB0TymZdC9atEjjx49XZmamFi1aFPW6Z555Zkz3uXXrVv3mN7/R66+/ruzs7Jhuc/311+uaa65p/9nj8ezX7HpXqfX6VVXvl6epWQU5mXLnOVWY67Q6LAAAAADotmyGYRhWB7Gv7Ha7vvnmG/Xu3Vt2e8cV8jabTYFAIKb7XLhwoc4++2w5HI72ywKBgGw2m+x2u3w+X8ixSDwejwoLC1VbW6uCgoLYnkwX2VbTqOnzV2vpxqr2y8aWuzVn4kj1L8qxMDIAAAAASD2x5n8pOdMdDAYj/j8eP/jBD7RmzZqQy6ZOnapDDjlE06dPN024k1mt1x+WcEvSko1Vum7+aj00aRQz3gAAAACQACmZdLdpbm7WySefrMcee0xDhgyJ677y8/M1fPjwkMvy8vJUXFwcdnmqqar3hyXcbZZsrFJVvZ+kGwAAAAASIKW7l2dmZmrt2rWy2WxWh5LUPE3NUY/XmRwHAAAAAOyflE66Jeniiy/Wk08+mZD7fvfdd3X//fcn5L67UkF2ZtTj+SbHAQAAAAD7J6XLyyXJ7/friSee0BtvvKGjjjpKeXl5IcfvvfdeiyJLHm6XUycN7a2D+xVoVEmRfC1BZWc69MmWXdqw3SO3i9JyAAAAAEiElE+6165dqyOOOEKS9Pnnn4cco+y8VWGuUzeffqiuX7BGD79d2X756LJi3Xn2CNZzAwAAAECCpOSWYckqWbcMq/X6Ne0vKyM2Uxtb7qZ7OQAAAADso1jzv5Rf072nrVu36quvvrI6jKQTS/dyAAAAAEDnS/mku6WlRTfffLMKCws1ePBgDRo0SIWFhbrpppvU3ExXbonu5QAAAABSR63Xr00767Vyyy5t+rZetd7UniRM+TXd06ZN04IFC3T33Xfr2GOPlST93//9n2bMmKGqqir98Y9/tDhC69G9HAAAAGZqvX5V1fvlaWpWQU6m3HlOliCiy22radT0+atDKnXHlrs1Z+JI9S/KsTCy/Zfya7oLCwv1/PPPa/z48SGXv/LKK/rJT36i2traLoslmdd0X/GXlVrCmm4AAABE0B0THaSeVOtFlTZrurOzszV48OCwywcPHiynM3l+IVYqzHVqzsSRGlvuDrl8bLlbd00cmVQnLgAAALpWrdcflnBLrb1/rpu/OuVLe5E6umsvqpQvL7/88ss1c+ZMzZ07V1lZWZIkn8+nO+64Q9OmTbM4uuTRvyhHD00apap6v+qampWfnSm3i5IhAACAdBdLosN3RnSF7tqLKuWT7pUrV+qtt97SgAEDdNhhh0mS/v3vf8vv9+sHP/iBzjnnnPbrvvjii1aFmRQKc0myAQAAEKq7JjpIPd21F1XKJ91FRUWaOHFiyGUlJSUWRQMAAACklu6a6CD1uF1OjS13d9iLyu1KzQnElE+6586dG9P1li9fLp/P116CDgAAAKD7JjpIPW29qK6bvzrkfEz1XlQp3708VgUFBVq1apUOPPDAhD1GsnYvBwAAAKLZVtPYYaLTj+7l6GJt29cley+qWPO/lJ/pjlWajC0AAAAA+4ymu0gm3a0XVdok3QAAAAA61t0SHSBZpPw+3QAAAAAAJCtmugEAAAAASaNtTbenqVkFOZly56V2FUbaJN02m83qEAAAAAAAUWyradT0+au1dK+mfnMmjlT/FG3qlzbl5TRSAwAAAIDkVev1hyXckrRkY5Wum79atV6/RZHFJ21muuvq6qwOAQAAAADQgap6f1jC3WbJxipV1ftTssw8JZPuUaNGxVwu/sknnyQ4GgAAAABAvDxNzVGP15kcT1YpmXRPmDDB6hAAAAAAAJ2oIDsz6vF8k+PJKiWT7ltvvdXqEAAAAAAAncjtcmpsuVtLIpSYjy13y+1KvdJyKY0aqQEAAAAAkldhrlNzJo7U2HJ3yOVjy926a+LIlFzPLaXoTPeeAoGA7rvvPr3wwgvasmWL/P7QjnbfffedRZEBAAAAAPZF/6IcPTRplKrq/apralZ+dqbcrtTepzvlZ7pvu+023XvvvTrvvPNUW1ura665Ruecc47sdrtmzJhhdXgAAAAAgH1QmOvUQb1dOnxgDx3U25XSCbck2YwU38D6oIMO0oMPPqjTTjtN+fn5WrVqVftlH3zwgZ577rkui8Xj8aiwsFC1tbUqKCjosseNVa3Xr6p6vzxNzSrIyZQ7L7VHjAAAAADAKrHmfylfXv7NN99oxIgRkiSXy6Xa2lpJ0umnn66bb77ZytCSyraaxrCN5seWuzVn4kj1L8qxMDIAAAAA6L5Svrx8wIAB2r59uySprKxMr7/+uiRpxYoVysrKsjK0pFHr9Ycl3FLrBvPXzV+tWq+/g1sCAAAAAOKR8kn32WefrbfeekuS9Jvf/EY333yzysvLdfHFF+uSSy6xOLrkUFXvD0u42yzZWKWqepJuAAAAAEiElC8vnzNnTvv/f/zjH2vAgAF6//33VVZWpjPPPNPCyJKHp6k56vE6k+MAAAAA0FW6Wy+qlE+693bMMcfomGOOsTqMpFKQnRn1eL7JcQAAAADoCt2xF1W3SLo///xzvfvuu9q5c6eCwWDIsVtuucWiqJKH2+XU2HK3lkQoMR9b7pbblbqjRgAAAAC6B7NeVA9NGpWSM94pn3T/6U9/0q9+9Su53W717dtXNput/ZjNZiPpVus+d3MmjtR181eHJN5jy926a+LIlDxxAQAAAHQvsfSiSsXcJeWT7lmzZumOO+7Q9OnTrQ4lqfUvytFDk0apqt6vuqZm5Wdnyu1K7bURAAAAALqP7tqLKuWT7l27duncc8+1OoyUUJhLkg0AAAAgOXXXXlQpv2XYueee2743NwAAAAAgNbX1oooklXtRpfxMd1lZmW6++WZ98MEHGjFihDIzQ0c/rrzySosiAwAAAADEqrv2orIZhmFYHUQ8SktLOzxms9n0xRdfdFksHo9HhYWFqq2tVUFBQZc9LgAAAAB0F237dCd7L6pY87+Un+nevHmz1SEAAAAAADpJd+tFlfJrugEAAAAASFYpOdN9zTXXaObMmcrLy9M111wT9br33ntvF0UFAAAAAEColEy6V65cqebm5vb/d8Rms3VVSAAAAAAAhEn5RmrJhEZqAAAAABCftkZqnqZmFeRkyp2XnGu8Y83/WNO926OPPqqRI0eqoKBABQUFOvbYY/XKK69YHRYAAAAApI1tNY2a9peV+sG97+nsR97XD+55T1f8ZaW21TRaHdp+S8ny8j2dffbZEcvIbTabsrOzVVZWpp/+9Kc6+OCDo97PgAEDNGfOHJWVlUmSnn76aZ111llauXKlhg0blpDYAQAAAACtar1+TZ+/Wkv32KNbkpZsrNJ181froUmjknLG20zKz3QXFhbq7bff1ieffNKefK9cuVJvv/22Wlpa9Ne//lWHHXaYli9fHvV+zjjjDJ166qkaMmSIhgwZojvuuEMul0sffPBBh7fx+XzyeDwh/wAAAAAA+66q3h+WcLdZsrFKVfX+Lo6oc6R80t23b1/99Kc/1RdffKH58+frxRdf1KZNm3ThhRfqoIMO0vr16zV58mRNnz495vsMBAJ6/vnn1dDQoGOPPbbD682ePVuFhYXt/0pKSjrjKQEAAABA2vE0NUc9XmdyPFmlfCO1Xr16afny5RoyZEjI5Z9//rmOO+44VVVVac2aNRozZoxqamqi3teaNWt07LHHqqmpSS6XS88995xOPfXUDq/v8/nk8/naf/Z4PCopKaGRGgAAAADso0076/WDe9/r8Phb1xyvg3q7ujCi6GJtpJbya7pbWlr02WefhSXdn332mQKBgCQpOzs7pu3DDj74YK1atUo1NTWaP3++Jk+erPfee0+HHnpoxOtnZWUpKysr/icBAAAAAGnO7XLqpKG9dXC/Ao0qKZKvJajsTIc+2bJLG7Z75Hal3npuqRsk3RdddJEuvfRS3XDDDTr66KNls9n04Ycf6s4779TFF18sSXrvvfdiaobmdDrbG6kdddRRWrFihR544AE99thjCX0OAAAAAJDuCnOduvn0Q3X9gjV6+O3K9stHlxXrzrNHpGQTNakbJN333Xef+vTpo7vvvls7duyQJPXp00dXX311+zruk08+WT/60Y/2+b4NwwgpHwcAAAAAJEat168bF67V8srqkMuXVVbrpoVrU7Z7econ3Q6HQzfeeKNuvPHG9u7he9fTDxw40PR+brjhBo0fP14lJSWqq6vT888/r3fffVevvvpqQuIGAAAAAPxXLN3LSbotFk/zsh07duiiiy7S9u3bVVhYqJEjR+rVV1/VSSed1IkRWqvW61dVvV+epmYV5GTKnedMyZMWAAAAQPfTXbuXp2TSfcQRR+itt95Sjx49NGrUqKhN0j755JOY7vPJJ5/srPCS0vaaRr37+bfqnZ8lX0tQu7zN+nDzdzphSC/1K8qxOjwAAAAAaa4gOzPq8XyT48kqJZPus846q71r+IQJE6wNJgXUev368juvFq/eFrI+oqKsWKXuPOU6Hcx4AwAAALCU2+XU2HK3lkQoMR9b7k7Z7uUpvU93IBDQsmXLNHLkSPXo0cPqcGLep62rfVnVoBsWrglrSCC1Jt53ThihQe48CyIDAAAAgP/aVtOo6+avDkm8x5a7ddfEkUlXoZsW+3Q7HA6dcsopWr9+fVIk3cmqwd8SMeGWpOWV1Wrwt3RxRAAAAAAQrn9Rjn537mHa1eCXp6lFBTkZ6pHrVJ+CbKtD228pnXRL0ogRI/TFF1+otLTU6lCSVoM/EPW41+Q4AAAAAHSFbTWNmj5/dUgX87Hlbs2ZOFL9k2ymO1Z2qwOI1x133KFrr71Wixcv1vbt2+XxeEL+QSrKid5woNDkOAAAAAAkWq3XH5ZwS63bhV03f7VqvX6LIotPys90/+hHP5IknXnmmSFdzA3DkM1mUyDALG7v/CyNKXdH3PNuTLlbvfOzLIgKAAAAAP6LfbqT1DvvvGN1CClh2rgyyTC0dI+13WPKilsvBwAAAACLsU93kjr++ONVU1OjJ598UuvXr5fNZtPQoUN16aWXqrCw0OrwkkJVvV9T563QJaNLNaWiVL6WoLIy7Fq5tUZT563QS9NGp+SIEQAAAIDug326k9RHH32kH/3oR8rOztb3vvc9GYah++67T3feeadef/11HXHEEVaHaDlPU7O8/oAefrsy4vFUHTECAAAA0H101326U76R2tVXX60zzjhD//nPf/Tiiy9qwYIF2rx5s04//XRdddVVVoeXFLrriBEAAACA7qMw16k5E0dqbLk75PK2fbpTtTq3W8x0/+lPf1JGxn+fSkZGhn7729/qqKOOsjCy5NFdR4wAAAAAdC/9i3I0+5wR8jS1qK6xWfk5mSrIzlC/FN0uTOoGSXdBQYG2bNmiQw45JOTyrVu3Kj8/36KokkvbiNF181eHJN6pPmIEAAAAoHv5srpBNyxYo+V7NIAeXVasO84eoUHFeRZGtv9SPuk+//zzdemll+r3v/+9jjvuONlsNi1btkz/7//9P02aNMnq8JJG/6IcPTRplKrq/apralZ+dqbcLicJNwAAAICksK2mMSzhlqRlldW6ccEa3f3jw9Q/BWe8Uz7p/v3vfy+bzaaLL75YLS0tkqTMzEz96le/0pw5cyyOLrkU5pJkAwAAAEhOtY3NYQl3m2WV1aptbCbptoLT6dQDDzyg2bNna9OmTTIMQ2VlZcrNzbU6NAAAAABAjDyNzcp1OnTJ6FKNKimSryWo7EyHPtmyS08t25yyuy7ZDMMwrA6iu/B4PCosLFRtba0KCgqsDgcAAAAAUsZn33j01a5GzV2+OWTGu6KsWFMrSjWgR44O6Zs8eVas+V/Kz3Qjdl/v8srT1CJPY7MKczKVn52hA3pQEQAAAIDuodbrV1W9X56mZhXkZMqdx/LKVJKflaGX//21pv/oEGU47KprbP09NgeCmrvsC117yiHmd5KESLrTRHfsAggAAAC02VbTqOnzV2vpXrv1zJk4MiXXAaej5pagrvzhEN20cG1Y3jJzwnA1twQtjG7/2a0OAIn39S5v1C6AX+/yWhQZAAAAEL9arz8s4ZakJRurdN381ar1+i2KDPvCbreFJdxSa95y88K1stttFkUWH5LuNOBpaonaBdDT1NLFEQEAAACdp6reH5Zwt1mysUpV9STdqaDBH4iatzT4A10cUecg6U4DnsboXf5StQsgAAAAIEkek++zfN9NDd01byHpTgMFOZlRj+dnRz8OAAAAJLMCk++zfN9NDd01byHpTgMup0Ojy4ojHhtdViyX09HFEQEAAACdx+1yamy5O+KxseVuuV10ME8F3TVvIelOA03BgGZNGBF2Ao8uK9ass0eoKZiaayMAAAAASSrMdWrOxJFhiffYcrfumjiSbcNSRdDoMG+54+wRUtCwKLD42AzDSM3Ik1Csm6N3ta92efXQW5/rZ2MPUkvAUF1js/JzMpXhsOmJJZt0xQ+GaAD7dQMAACDFte3TXdfUrPzsTLld7NOdSnZ6mvT1rnoV5mbL1xJsz1uyMuyq9fp0QI889S7ItjrMdrHmf+zTnQYG9MjVr8eV68YFa7Qswj7dJNwAAADoDgpzSbJTWe+CbPmaA1pWWdX6/5ag6nwt2ulp0ugyd1Il3PuCpDsN7PA06enlm3Xn2SPU4A+0jxjlOR16evlm/eKEMvVJ0RMYAAAAQPdRUpynEzMd2tXgl6epRQXZGRp+QGFK5ysk3WlgV4Nfz3/0lXKzMzWqpEi+lqDq/QF9smWX/vLRVzr36IEpfRIDAAAAyaKtxN3T1KyCnEy58/Zt9j3e23cH2Rl2ZTrsynTYlJlhV3ZGarciI+lOA/W+Fj04aZTmLt+sh9+ubL+8oqxYD04apXpfi4XRAQAAAN3DtppGTZ+/Wks3VrVfNrbcrTkTR6p/UU7Cb98ddMfXILWHDBCTnnlOzV2+Wcv3WM8tScsrqzV3+Wb1zEuvkTMAAACgs9V6/WHJoiQt2Vil6+avVq3Xn9Dbdwfd9TUg6U4DzYFgWMLdZnlltZoDwS6OCAAAAOhequr9YclimyUbq1RVHz1hjPf23UF3fQ0oL08Dnsbo5eOeJsrLAQAAgHh4mpqjHq8zOR7v7bsDT1Ozcp0OXTK6tL0XVXamQ59s2aWnlm1O2deApDsNuLKj/5pdWZwGAAAAQDwKsjOjHs83OR7v7buD/OyMqL2ozPKaZEV5eRqwqfVEjaSirFg2W9fGAwAAAHQ3bpdTY8vdEY+NLXfL7YreRyne23cHWQ57h72o5i3frCxHaqavqRk19okhQ1MrSsMS74qyYk2tKJVhGBZFBgAAAHQPhblOzZk4MixxHlvu1l0TR5pu+xXv7buDOl9Lh72ollVWqy5Fd11Kzfl57JPczAw9968vNWpgD11SUSpfS1BZGXat3Fqj5/71pW49fZjVIQIAAAApr39Rjh6aNEpV9X7VNTUrPztTblfs+2zHe/tU1+APRD3uNTmerEi600Cu06EbTh2qGYvWhayNGF1WrBlnDlOu02FhdAAAAED3UZgbX5Ic7+1TWVFO9HXrhSbHkxVJdxrwNgd03+sbNLWiVNPHH6L6poBc2Rna6WnSfa9/rt+OP8TqEAEAAACkud75WRpT7o64bdiYcrd652dZEFX8SLrTgNffoolHleipZZu1bI81EmPKijV1dKm8/tRcGwEAAACg+yjMdeqOCcN1w4I1IXnL6LJi3TFheMpWAJB0pwG7zaa5eyXckrS0slqSTTefPtSawAAAAABgt1qvX7cv/lSHD+yhqXv1opq5+FP9/tzDUjLxpnt5GjDUlmCHW1pZpWDXhgMAAAAAYarq/Xp/U2jeYtu9v/HyTdWqqvdbEVbcmOlOA3VN0cvHzY4DAAAAQKLV+5r14KRRmrt8c0gD6IqyYj04aZQafM0WRrf/mOlOA3km3cnNjgMAAABAohXlODV3+eawvbqXV1Zr7vLNKsxJvdJyiaQ7LeQ5M1RRVhzxWEVZsfKcFDwAAAAg9dV6/dq0s14rt+zSpm/rVetNzXLkdOUPBMMS7jbLK6vlD6Tmwliyrd1mz56tF198UZ999plycnJ03HHH6a677tLBBx9sdWhxK8rN1G9+UK7TRvRTn4Js+VqCys506JvaRpX1dqkoNzX3uwMAAADabKtp1PT5q0O2mxpb7taciSPVvyjHwsgQq3pf9GWvDSbHkxVJ927vvfeeLr/8ch199NFqaWnRjTfeqJNPPlmffvqp8vLyrA4vLoW5TvUpyNZDb20Maag2pqxYs84ekZIdAAEAAIA2tV5/WMItSUs2Vum6+av10KRRfOdNAXnODOU6HbpkdKlGlRS1TxZ+smWXnlq2WbkpWqFrMwzDsDqIZPTtt9+qd+/eeu+99zR27NiI1/H5fPL5fO0/ezwelZSUqLa2VgUFBV0Vqqkdnib9zwurwrYMk1r3vLvnvMPVpyDbgsgAAACA+G3aWa8f3Pteh8ffuuZ4HdTb1YURYX98Vd2grTWNevidypAy84qyYk0bV6aSohwNKE6eCVGPx6PCwkLT/I813R2ora2VJPXs2bPD68yePVuFhYXt/0pKSroqvH2yy+uPmHBL0rLKau1irQsAAABSmKcpelfrOpPjSA7NhqFH9kq4pdb13I+8u0nNKTpfTNIdgWEYuuaaazR69GgNHz68w+tdf/31qq2tbf+3devWLowydvUmW4KZHQcAAACSWUF29B5F+SbHkRx8LcGQ5bB7WrqxSr4WGql1G9OmTdPq1au1bNmyqNfLyspSVlZWF0W1//Kyov+azY4DAAAAycztcmpsuVtL9lrTLbU2U3O7WM+dCuq66WQhM917ueKKK7Ro0SK98847GjBggNXhdAqbFHXLMFvXhgMAAAB0qsJcp+ZMHKmx5e6Qy8eWu3XXxJE0UUsRrm46WZiaUSeAYRi64oortGDBAr377rsqLS21OqTOY5MuHV0quxTWvXzq6FKRdQMAACDV9S/K0UOTRqmq3q+6pmblZ2fK7XKScKeQtsnCSHt1p/JkIUn3bpdffrmee+45/eMf/1B+fr6++eYbSVJhYaFyclJ7X7/cTIfynA6NH9FPUypK5WsJKivDrh2eJuU5HcrNdFgdIgAAABC3wlyS7FRmt0tTK1onP/fuXj61olT2FK3TZsuw3Wy2yOMmc+fO1ZQpU2K6j1hbxne1r6obdP2CNRGbEowpd2v2hOFJ1XofAAAAQPrZXFWvO15er0P6FbTv052VYdfKrTX6bLtHN542VKXu5Nn6Ldb8j5nu3brz2EO9P6CPt9Ro2ollETeZr/cHrA4RAAAAQCeo9fpVVe+Xp6lZBTmZcuelzuy/vyWoS0eX6uF3KvXw25Xtl7fu010uP93Lkazqfc16cNIozV2+OezkfXDSKNX72LcQAAAASHXbaho1ff5qLd2ji/vYcrfmTByp/kXJv2Q2aEiXPv2RLhldqkv2WBa7cmuNLn16heb/6jirQ9wvJN1poDgvS/e9uTHiJvOSNOusjvciBwAAAJD8ar3+sIRbkpZsrNJ181froUmjkn7Gu8HXIq8/EDJRuPfxVETSnQZ8gWDEDoBSa+LtC6RmmQYAAACAVlX1/rCEu82SjVWqqvfHnHRbVaJutiUYW4YhaXkao5ePmx0HAAAAkNw8TdG/09eZHG9jZYm6TdKJh/TSof0Lw3pRfbqtli3DkLwKcjLjOg4AAAAguRVkR/9On29yXLK+RN1ml6b/aKhuX7wupMR8dFmxbj59mGRLzebXKbrTGfZFlsOuirLiiMcqyoqV5eA0AAAAAFKZ2+XU2HJ3xGNjy91yu8yT5VhK1BPJ5czQzMXrwpbGLqus1szF6+RypuacMdlWGtjl9WtqRWlY4t22yfwub2LfPAAAAAASqzDXqVkThmv0Xt/5R5cVa9aE4THNUHdWifr+8voDWtZBL6plldXypuhWx6k5VIB9kuPM0JVPfhix9f6Vf1mZsq33AQAAALSq9fp1++JPdfjAHpq613f+mYs/1e/PPcw08XZZ3MisxqTXVG2K9qIi6U4DNkmjBhZFbL1fUVacsg0JAAAAALSqqvfrzfU79eb6nR0eN0u6nbuXpUba+aiirFjOBC9LzTdJ6s0GBZIV5eXpwKao5eVk3QAAAEBq64zS8JrG6MtSaxsTuyw1K8OkF1VGaqavqTlUgH2S5bBrwcdf6ZKKUl03/hDVNwWUn52hHZ4mvfjxV7r2lIOtDhEAAABAHDqje7krK1OT/vSvDpelvjRtdGeFG9F3u3tRSQqZbW9L+r/z+lWa0AgSg6Q7DTjtNl198sG6ddHakJN3dFmxZpw5XE47U90AAABAKmvrXr4kQvfxWLuXu11OHTWoR8RlqbHeRzxyMh266C8d96L6+2XHJvTxE4WkOw0EZei2vRJuqbUD4G0vrdOdE4ZZFBkAAACAzlCY69SciSN13fzVIYn32HK37po4Mqbu5Z1xH/HIy3LoyA6S/jHlbuVlORL6+IlC0p0GvM1BfbylRtNOLNOokiL5WoLKznToky279NSyzfI2B60OEQAAAECc+hfl6KFJo1RV71ddU7PyszPldjn3KVnujPvYXw7ZNG3cQRo/vK/6FGS35y3f1DbqoF4uOVK0GRVJdxqob2rRg5NGae7yzSGjRhVlxXpw0ijVN7VYGB0AAACAzlKYG3+C3Bn3sT/qmwNq8Af0zzXbQ/brHlNWrKmjS1XfzD7dSFJFuU7d++bnYeXlbT/ffuZwK8ICAAAAup1tNY2qbWyWp7FZhTmZKsjJVP+iHKvD2idf7/LK09TS/hzyszN0QI/cxD+wIf35gy9D9hpvq9D98wdf6renHJL4GBKApDsNtASDEffak1oT75Yg5eUAAABAvL6sbtANC9aENS++4+wRGlScZ2FksdtS3aBllVXt5d0N/oB2bGlURZlbAxP9HGzST78/KGKFbipvdUzSnQY8JuXjZscBAAAARLetpjEs4ZZamxffuGCN7v7xYUk/471tl1df1zTq5TXbw7bsGuzOU4bdpv4JnPG2SZq7fHOHFbq3nH5owh47kVJzd3Hsk1xn9C5/ZscBAAAARFfb2NxhdemyymrVNjZ3cUT7rqklqIffqYyY9D78TqWaWhJbIRs0FLVCN2gk9OEThqQ7DWRnOFRRVhzxWEVZsbIzSLoBAACAeHhMkuq6puRPuhv9gahJb2OCG5mZNXhO1QbQJN1pwG6Tpo0rC0u8K8qKNW1cuewpujYCAAAASBYFOZlRj+dnRz+eDLz+6Em115fYpNuVHX31s9nxZJWaUWOfZNptyrBLV5xYpuvGH6L6poBc2Rlq8DXLYWs9DgAAAMSr1utXVb1fnqZmFeRkyp1nzdZTVijMydTosuKQra7ajC4rVqFJUt7GytewICd6emh2PF4upyPqa+hK0WWxJN1poKEloMLcLM18aZ2W7rXf3c1nDFNDS2rudwcAAIDksa2mUdPnr9bSjVXtl40td2vOxJFJ30CsM/QvytEdZ4/QjQvWhCSNbd3LY3kNrH4N+xZka0y5O+Tx24wpd6tvQXZCH98uadaE4bp54TotrfxvDGPK3Jo5YXjKlmnbDMNI0eXoycfj8aiwsFC1tbUqKCiwOpx2n233aObLn0Zcn1FRVqybTztUh/RLnngBAABSTTrP8Eqtz3/aX1ZGTNbGlrv10KRRafN6tO3TXdfUrPzsTBXGuE93sryGkRL/MeVu3T1xpPolOPHfVt2ggCHVN7fIkE11jc27y/YNuTIz5LBJ/ZNo67VY8z9mutOAoehdABl1AQAA2H9Wz04mg6p6f8RkUZKWbKxSVb0/bZLu/kU5+/V7T5bXsH9Rjh6eNEpV9f72gQO3q2sGkYKSfMGgZr28Pmyv8xlnDlO2IzXnulMzauyTBl/0Ln9mxwEAABBZrdcflnBLrUnSdfNXq9brtyiyruUx6cydCp27rZaMr6EhtW6e3UUCkm5dtC7iXuczFq1Tqi6KZaY7DeRlRf81mx0HAACJk+5lyakuWWYnrVZg0pk7FTp3Wy1ZXsPtNY169/Nv1Ts/S76WoHZ5m/Xh5u90wpBeCS8v90bZsmxZZbVpd/VkRbaVBmxqXbvd0ZpuepcDAGANypJTXzLOTlrB7XJqbLlbSzpYj+x2df+Bh3glw2tY6/Xry++8Wrx6W0juUFFWrFJ3nnKdjoQOIpm9X1L1/UR5eRqw26WpFaUR9+meWlEqO2cBAABdjrLk7iFZZietVpjr1JyJIzW23B1y+dhyt+6aODItZvvjlQyvYY23WQ+9vTFssm55ZbUeenujaryJTXrN9jo3O56smOlOA84Mu57/cItGDeyhSypK5WsJKivDrpVba/T8h1t00+lDrQ4RAIC0Q1ly95AMs5PJon9Rjh6yqAFXd2H1a9jgb4nagLnBn9heUFkOe9QK3awUbaRG0p0GjKD06xMO0oYd9e2X2Ww2HVCUoxMP7iUjaGFwAACkKcqSu4e22cnr5q8OSbzTdYa3MJckO15WvoYNJmumE72murrep6kVpZIUVt4+taJU1Q0+lfZyJTSGRCDpTgPNwaAafAFp7y3ZDanBF5Arm6wbAICuRlly92H17CT+i8aE8SkyKd8uTHB5d152pm5YsFZ/uPAItQQMeXbv053hsOnyP3+iByaNSujjJwpJdxqwScp02LR4zfawEaMrTiynkRoAABagLLl7YYa3c8STNCdLY8J4E38rBw7ysjI0psytpZXhn0tjytwJ3/Wo0OnQ4xcfqZsXrtXSPfKWMWXFevziI+W0pWbmQtKdBjLsdj30TmXEhgiSNOus4VaEBQBAWqMsGQgVT9Js1pjwoUmjuuQ9FW/ib/XAQV1Ts6aOHizJCEt6p44evHvZS+LiCEphCbckLa2s1s0L12n22amZt5B0pwFvc8f73S2vrJa3OTX3uwMAINVRlgy0ijdpTobGhPE+h2QYOKhtbNG051bqktGlmrJXA+Zpz63UvKnfS+jj1zcHwhLuNksrq1SfonkLSXcaaPCZNEQwOQ4AABKHsmQg/qQ5GRoTxvsckmHgoCA7Q15/QA+/Xdnh8UTyNEbvjl5ncjxZpWbPdewTszdHfoLfPAAAAEA08SbNydCYMN7nkAwDBz3ynBpdVhzx2OiyYvXIS2zSn5fliHo81+R4siLbSgO5Tod+eEhvHdK/QKNKiuRrCSo706FPtuzSZ9s8ynWm5skLAACA7iHepDkZGhMWZGcq1+nQJaNLw75zP7Vss+lz6KyBg3gasfUpyNadZ4/QDQvWaNkeZd6jy4p159kj1KcgO6b72V+5mY6o+3TnZqZm3kLSnQZ8gYBuOn2obly4NqRUZHRZsWZNGCFfkPJyAAAAWCfepDkZGhO6XU49NeVoPfT2xpDv3BVlxXpqytGmz6EzBg46oxFblsOuG087VIakut1bdrVdnmhOu01XjCuXFL5P9xXjyuW0p2b3cpth7L15M/aXx+NRYWGhamtrVVBQYHU47b7YWa9bF4V3AZRaW//fdtYwHZiCm8wDAACg+9hW09hh0twvxoSxbZbXisaEtV6/pj23MvJ2W+VuPRxDI7R4XoNar1/T/rIy4rrwseXumBqx1Xr9Wv9NnR56e2PErYaH9s1P6Ov5xbceZdgcWr6pSr0Lstsbue30NKmizK2WYEAH9kqePCvW/I+Z7jTgDwajdgH0B4JdHBEAAAAQqjO6+VvZmLCq3q+Pt+zStBPLIpaXx9IILZ7XoKrer4+/jO/xa7zNenzJJo0a2EOX7O5e3nYfjy/ZpFtPH5bQ19dpd+ieNzZo6ugDleGwt8+098rP0n1vbND/nHRwwh47kUi600B9U4vcLqfumjhSvQuyVN8UUH52hnZ4mjR9/mrVN6VmF0AAAAB0L6nczb/e16wHJ43S3OWbw8rLH5w0Sg2+2Bqh7e9r0BmP721u0U+/PyjifUytKJW3ObF5g7cloNMOO0B3vfpZ2Ez71IpSeVtSc1ksSXcaKMjN0LM/O0a3L14XcvKOLivWsz87RjY7KwwAAACAeBTlOHX3axvCmoC1/XznhBFJ//g2m01zl2/u8D5uOf3QToo2smBQUR//5gQ/fqKQdO9hyZIl+t3vfqePP/5Y27dv14IFCzRhwgSrw4pbjsOh6xatCTt5l1VWa+bidZp9dmI/AAAAAGAunq7T3eHxU52vJRix67bUmjT6WhK7pNMfCGpLtVeLplWElGY3B4K6/NlPYltSakgrt9R0WKKe6G5ghhT1NUzVbmQk3XtoaGjQYYcdpqlTp2rixIlWh9Np6v2BDk/eZZXVqvenZpkGAABAd9EZXafjfvy/rw5pAtaVj98dmO2zbXY8Xv6WFj1z6fd008K1YdWtz1z6PTXGUF7e1NwStUS9qTmxeUODL3r5utnxZJX4vu8pZPz48Zo1a5bOOeccq0PpVHUmb3Cz4wAAAEicWq8/LOGWpCUbq3Td/NWq9foT//h7Jdxtjz+9Cx6/u8jPjj6faXY8XgXZzrCEW2qdZLt54VrlZ5tXLfTIzeqwvHvu8s3qkeDKB5fJa2R2PFmlZtRJwufzyefztf/s8XgsjKZj+dmZcR0HAABA4lTV+yNu8yS1Jr6xdJ2Ox846X9Su2zvrfJSZxyDTYVdFWXHECtOKsmJlJnif686obvUHopfIJ3rXI6fJa+jsgr3CE4GkOw6zZ8/WbbfdZnUYprIz7BpdVqxlEU7e0WXFys5IzZMXAACgOzArO050VaKnKXrXa6oiY/NdvU9TK0olKWLn7e8afDqwlythj1/XGP95ZF4hm9jy7l0Nfv1y7EGy22whA1Fjyt36+ZgDtavBL/VKaAgJQdIdh+uvv17XXHNN+88ej0clJSUWRhRZQEHNmjBCNy1cE5J4jy4r1h1nj1BzkDXd6Do0aQEAIFSBxVWJPXKcuveNzzvsGD3zzOEJffzOZOX3jLzsTF08d4UuGV3avsd1VoZdK7fW6Mq/rNT8Xx2X0MfPz4n/PMp1ZijX6dAlo0sjVj3kOh2dFW5ErhyHil1OnTq8r6YcN7j9NdzpadLAnjnyBVIzbyHpjkNWVpaysrKsDsNUtt2h2a+s19SKUk0ff4jqmwJyZTu00+PT3a9+put/dIjVISJNWN0kBgCAZOR2OTW23K0lEUrMx5a75XYlNmn0B01KioOJLSnuLFZ/z8hzOnTEwKKQaoE2o8uKlZfghLUzqlsdDpuenHyUHn6nMqzq4cnJRynDYevUmPeWl5Gh6xes0dIIz2FMmVuzz06dAaA9UVecBuqbA3p57Q5d+vRHOuOh5Zr0pw90xkPLdenTH+nlNd+oPsFdCAHJ+iYxwN5qvX5t2lmvlVt2adO39ZyDACxTmOvUnIkjNbbcHXL52HK37po4MuEztV6TjtBeX/J/V0yG7xmFOZmaceZwjS4rDrl8dFmxZpw5XIUmM9HxCiiomRMiP/7MCSMUkPngSabdpkfeqYxY9fDIO5uUYU9s0l3fHIiYcEvS0sqqlM1bmOneQ319vSor/zuis3nzZq1atUo9e/bUwIEDLYwsPvVNLSrpkaM/XHBExD376hO8NgOQrG8SA+zJ6tkQANhb/6IcPTRplKrq/apralZ+dqbcrq4pjTZvupv8KUMyfM8ozHWq0R/QtBPLQ6pLG3wB5TsdCX/8nIwMzXr504jVrb97db1uPO1Q0/toaglGTXqbErzXuKexJWp5e11jauYtyf8O6kIfffSRxo0b1/5z23rtyZMna968eRZFFb+C3Iyoe/Y1p0jJEFKb1U1igDZmsyEPTRrFABAASxTmWtPnJJma7u7vmuxk+Z7RtyhHOU6Hqur9CgQM5WZmaGCP3C75vdb5WvTK2h16Ze2OiMev/OEQ0/vwmCS1iU5687MdUZv6ubITW6KfKCTdezjhhBNkGIbVYXS6HIdDd76yXpdUlOq63aNe+dkZ2uFp0u9e/UzXjx9qdYhIA1Y3iQHaJMNsCAAkk3p/i6ZUlMpQeNftKRWlqvd3zexiPFVIyfg9w5CkxFZjhzBLmM2OS1JBjsle4ybH45XnzOhwn3CbpDvPHpHQx08Uku404G0J6KofHqzbF68Lm+m++fRh8rak5toIpBa3y6kx5e6Iyc6YLmgSA7RJltkQAJ2L3TH2X4MvoOvmr9ZdE0e2T9C4sjO009Ok6fNX648XHpnwGOKtQrK6GV2bbTWNmv731Vpa2fXLlwqyo3ceL4hhmUB2hl0/PKS3DulfEHYfn23zJLzqwdscfa9xL2u6kaycdrtmvvypRg3s0b59Qdub5+5X1+umGNZ3AJ3h8nFlChpG2Cj65ePKLIwK6SYZZ0MAxIc+DfHJz87QnIkj9dReM4wVZcWaM3Fkl6zpjrcKqTDXqbsmjtS7n3+r3vlZ7d93d3iaNG5Iry4ZgKn1+nXLwrU6bGCRplQMDvnOfcs/1uqecw9LaBwupyNq53FXDN3T/cGgrjv1EN26aF3IfbQ1g0v0slSz8vVE7xOeKCTdacAXCOqn3x8UcW3E1IpS+QKs6UbiVdX7dcm8yHtXXjJvhV6aNpoZCXSJZJkNAdA56NMQP2eGPWpJ76wJid+mqTOqkAxJ/1y9PWyW+fghveINLybf1vt0wTGDtL22MeTy/oXZOnJgD31b70voudgUCHbYedxus2nGGeYTbRk2u27+x9qw+1hWWa1bF63VzLMSey64TAZ4XFmpmb6mZtTYN4Y6/CCVpJuZ6UYX8DQ1y+sPRNy7UqKkF12nbWue6+avDkm8u2prHgCdiz4N8fO1dLxP97LK6oR3rJbir0JqH3yptG7wJWAYys606+U128MqBqbtrvZLpJaA0XHn8Y1Vag6YP35jlPLu5ZXVakxwebfN1vp6RYqhoqxYCd6xLGFIutPA3k0x9rS8slrdr3UcklFBdmbUdUaU9KIrWbk1D4DORZ+G+CXDPt2u7IyoHdTNZkCr6v36+MtdmnZiWcTvGV0x+JJpt+vhDmaaJSV8ltjrj77dltdv/ntsMPldJ/pcMAxDUytKJYU39ZtaUZrwgYtEIelOAw2+FrldretcehdkhXQvnz5/tRpMPmiBzuB2OfXUlKP10Nsbw5Y5PDXlaEp6YZmu7i4L7I0GYPGhT0P88k0HxhOfMjT4WnTJ6FLZpJDZ2jFlxZo6utT0+2q9rznqVlMNvsQPvnTWLPH+fiYU5TqjvgZFuebvBbNma4k+F7IzHHruX1+G9KJqW4743L++TNkKXZLuNFCQk6Fnf3ZMxO7lz/7sGNlsqTlihNTzh7c7Xmf08KRRFkWFdETTJSQLzsX4ubIzNKbMHVZWLEljytymM6TJxKoBmKwMu56afLQeeifCwPjko5XVBft01zU1yyabxo/opyl7JFs7PE2yyaZ6k4qFohyn7n5tQ4ezzHdOSPxWU2YzybHMNMfzmZCXFX27rXvOO9z08fOcjqi7zeTF0IwtHjZJlx1/kB56K7QZ3Jgyt674QVnKjpGnzqcQ9ltuhkPTF6yJ2BBh5uJ1mpOi+90htVTV+yN+IZJa1xmx5g5dpdbr1y3/WKvDSoo05bjQ7rK3/mOtfp/g7rJAGxqAdQ6fP6BfjztIQYXvjvHrcWXyxZDoJAMrB2CChqE/vLMx8sC4bJo5YVhCH1/qOGmWWn+XZklztHXpyyur5euCdelFOdFnks2Ox/uZUOP1R12bX+P1q09BdtQYbJJ+fcJBEXeb+fUJiU96mxVU7/wsjR/Rt70DfFaGXTs9Teqdn6VmIzUbQJN0p4E6f/T97upS5I8RUhtr7pAsqhv8+sn3Bna4o0N1AwNA6Bo0AOsc9f4WXfr0RxF3x7j06RX6+2XHWh2iKasHYBqbgx034KqsUmNz4hMdfyColVtqOlyT7TfZbafW5HuE2feQztA7PyvqLHHv/Kyot4/3M8HTGH1Nt8dkOy6pNW+I9n6a/6vjTO8jHhmy665XP9OPjywJWRYrSXe/+pn+3ymHJPTxE4WkOw3UNZLswHqsuUOyaAkaUXd0mHFG4md0AInByM7S4A9E3R0jlpLezhBPabjVAzD1puulE9//x+tv0R9+ekTE7bb+8NMj1OiPHoNZ2XNugsuipdbdMe6YMFw3LFgT0hBudFmx7pgw3PR36GlqjtqHyewzwZXliLqm25Vt/hrUNVq724w/GNTVJx2smS+tC1vbf/MZw+RP8D7hiULSnQbyc+gaDeuxNzKSRTBoRC1BDATpc4GuwWBk5zAr2S00Od4Z4i0Nt3oAJj87w/JGaj1ynPL6Ax1ut1WUE/17Ql5W9LX9eV2wv3Ot16/bF3+qwwf20NS9ZolnLv7UdPlSUU6mnvv5MfroP99Jai2Zb2wOaKenSc/9/BhlmuyXlZuVoXlR1nTfEcOS0oLc6HlDQYLfT067Xbf8Y21Y5cXSymrNfOlT3X5Wag6Mk3SnAZfToScnH6WH36kMG/V6cvJRcnXByB/A3shIFl6T2ZKumhUDGIzsHPGW9MarM0rDrR6AyXKYNFJzJL6RWlBG1O227pgQfbut3EyHbj3zUM1YtC5slvnWMw9Vbmbiv+9W1fv15vqdenP9zg6PRzsXsjMd+qa6IeLAw2B3ngYX50V9/KbmQMQt16Td+63H0D0926SpXnaCm+r5AtGXOvhMlhkkK5LuNGCT9EgHH2J2m02zTT7EgM7C3shIBoUmsyVdMSsGSAxGdpbC3NZyXKtex84oDU+GAZgnlm4K2aapbXbziaVf6MbThib88b1RehAtr6yOqTP4nf9cH3GW+c5/rtetpyd+hnSX1x/1eE1j9ONNzYGoAw+zTPb5rmuKPqhsdlxq3UYzWlO92xPcVM9s3XldDOvSkxFJdxqo8wc6HjHaWEUjNXSpwlySbFgrGb7cAm0YjOwcVr6OnVEabvUAjC8Q1E++P6jDBpNdMbvYEOd2Ww3+Fr392bd6+7NvIx6/9uTEJ2t5WRlR12TnOqOnXl6Tfb69JjPVZiX0sZTYN5k01WtKcFO9vCyTtfkmx5MVSXcaMPuwp1ELgHRi9Zfb7saqfYW7EwYjO4dVr2NnlYZbOgBjKGqDyZtPOzThIcS7Nj/epL0zOOzS8784RrcuWhfyWo4uK9bzvzhGQSN6zxCvz+Q5mBy3qXWgpKNt12LZ7qveZDbc7Hi8cjMdUZ9DVywTSASS7jRg1vAg0Q0RgD3xBR3JgNnFzmHlvsJAsujM6hmrBg4MKeoMa1e0l4x3bX6hyeCG2eBIZ8jOcOiGBWvCXstlldWasWid7jRpZOYyaVhndlw26WejD9RpI/qpT0F2+zKBb2ob1a8wR7Fk3XHHEKcMu01X/aBcp4/op957PIcdtY0q6+1ShkkzuWRF0p0Gshx2nXhILx3avzCsC+Gn22q7pDkGIO3+gv731SGdRfmCDqswuxgfq/cVBvZm1aBud6ieaTDZEszseGeId21+VoZdEw7vp0tGH6gMh111ja3nQXMgqKeWfaGsBDcAk1pn26M1MjObjc/OsEftwG7WxCw30yFXdoZeWbY9dLutcreu/EF5TLPEeU6HRpcVR3weo8uKTbdmi5e3pUXu/Cw9+NbGvbYMc+v2CcPkbWFNN5JUbaNPN59+qG5auDZknc7osmLNnDBctV6fJJd1ASIt1Hr9umXhWh02sEhTKgaHDP7c8o+1usdkGw0AycXqfYWBPVldddFZ1TNWDRxYPbvZJp7X0ev366ofHqwbF64JK+2eNWGEvH6/pOjdv+MV737nTrtN004sk2SE7VE97cQyOU1meVsCAT345ufh223tfl/cdoZ5Q7zGloBuPn2YZi4O7wJ/yxnD1NiS2DJ9p8OhWxZG2jKsSrcsXJfwRm6JQtKdBnrmZXdY6nLzwrWmpS5AZ/i23qeffH9gh01avq338QUdSCFW7yvcnezwNGlXg1+ephYV5GSoR65TfQqyrQ4rZSRL1UW81TNWDhzkZjr0g0N6aWiEqsj122q7dB3t/r6Oriynruvg++5NC9dodhd83zXbzzy2/c4NjR/RT1P26MC+w9MU0+M3BxW1eXIsPdCMoPTAWxs0taJU08cfovqmgFzZGdrpadJ9b2zQb344JKZY9pevxWTLsBa2DEOSirfUBegMLUEjapOWW05PfJMWAJ3H6n2Fu4st1Q26fkH4zNydZ4/QQJM9edGqO1RdWD1w0NQS0G9/NFS3L14XVhV58+nD1JTg2c3OUO8PaOWWGk07sSxs4OCpZZtV3wXfdzPt9qhNwDLt0cvDPf6Aps77SJeMLg0ZeNtW26RZL6/X/F8dpwOi3b6xJWr3dE8sTdBs0oXHDNKWaq+k1iS4sTmgnXU+XXjMIPPbx4ktw5Cy6F6OZGAY0Zu0BLuiSwuATsPWa/Hb4WkKS7il1gHxGxas0T3nHc6Mdwy6Q9WF1QMHhiHdvnhdxHPx9sXrUmJgvKGpWQ9OGhWxou7BSaPU4Ev8eVDj9evS0aWyS2Hl4VNHl6rGZB/vusZmef2BkPhDjpucywW5GXru58foo/98J2mPhNnTpOd+foyMGFriZdqlTLst7JqGYSjTYVdmgpfGs2UYUpbZbAOzEegKydCkBUDn6Q7No6y2q8EfdWZuV4OfpDsGBdmZynU6dMno0oivYyp8z7F64CDYDQbGi11Zuu+tjR1W1M06a3jCY3DlZMjT1BKxPNwmm1w50VOvgtz4dhzKy3Boa02jXl6zPeR1qCgr1mB3nkpiWKbgsNllyKZ/rtkeUinbuq68XA5bYrPuHJMtw3LYMgzJKjvDHrULoVknRKAzdM46JwDJhK3X4lPva9bDPx2lp5aFzsyNKSvWwz8dpfoumJlLJvvbRMztcuqpKUfrobc3hs1wPjXl6JSourB6uUYyDYzv73ngCwSjDhz4AolfC5yT4dATy76IGEfbspFoshzRy9PNdhzyBw09/E5lhwMPM2MYeAhK+tOSTTp8YA9N3T1w0DaI9aclX+iG08ybscXDLunqHw7R6SPq1bsga48tw5pU3selVM1a+JabBuySZpw5XDMWrQ3rQnjbmcNT9uRFanGabIPhZPAHXYzmVZ2Drdf2X3Felh54c2PYoHhrWapNt5+Vml1690e8TcT+8HbkRMNus+nhSaM6Pd7OZvVyjbys6CmB2fHOEs/Wop7G6INUZsc7Q72vpcPEf1lltWn38tpGv249Y5g+/s93YXtUH1XaU7WN0cvTG5sDUQceGpvN17X7A0H95PuDOmx860/w4EWW3aZeriw9sFcX9jFlxZp10Ag5U3ObbpLudOBXUFl2u248bagM2VTX2Kz8nEzZZCjTLvmM1OwCiNTibwlq2okHafyIvuqzxx+Sb2obdVAvV8I/xJF8rNoaR2ptXnXjgjVhe4DecfZwmlehy/gD0bv0psvnYrxNxKrq/REHdKXWjs2p0EjN6uUadpuizrCa7FTVKWq9/rCEW2o9D6bPX62HTc4Ds2oBs+OdocEXiNrIrMEXPektzHFqZ51PL0co7T6wl0u987Oi3t5rcv9mxyVJhqI2vr35tMSu72+RdMPC8F4XSyurdWMXdaFPBJLuNJBtd+gbT5Mqd9a3j5o1+APaUduost4u9WVmB13AkNTUHNTef7dtkpqaAzKM5F9zh85j5dY4OzxNYQm31Jrk3LhwrX5/7mHMeKNL1Jl0EjY73l3E20TMbPavtgtmOKX4BxKtXK5hSJpaUSpJYWuBp1aUxtB+67/293XYWeeLOniysy761qJZGSal2V1QUdfWyOy2l9aF7UgQayOzB98OX5e+tLJaQZmvS883WTNudlxqPReizZYnenl/vb/j2fplldVd0oU+EUi600DApPuF2XGgM9htrSXmiyM095g2rqxLRtGRHKzeGqfG64+6j2mNl+ZV6Bp5WRlRG4B1VUmv1eJtIpbrjP465ToT33gpnrLoPVm1XCPLYdeLH2/VJRWlum733sxtM7TzP96q/3fKITHdz/aaRr37+bfqnd+6FneXt1kfbv5OJwzppX4mr0ONyeCI2eDJLq8/6sDBLq9fpTE9i/2Xm+HocK/w219aZzpL642zPDwrw64x5e6Ig1hjyt0xDTxYvb7fbBlAKuxGEEl6fJpDQUMRS1WmnVhuYVRIJxl2e9zNPdA9WL01jtkeoGbHgc5it0lPTj5KD79TGbZ28snJR6XNYKQrzvXEdrst6gynI8EvZK3Xr1sWrtVhA4s0pWJwyODJLf9Yq3vOPSzmzzSrek34g0FdddLBEWdobzljmPxB86UOtV6/vvzOq8Wrt4UlvaXuPOU6HVFfhzyTwRGzwZNcZ4YufPJDXTK6VJfs0Tl85dYaXfmXlXrxV8eZPod41fsD2vBNnZ6cfFTE8nKzWdpGk+Nek+M2SVecWC4ZChkAGlPm1hUnlodVG0Zi9WCgWYf2VNiNIBKS7jRgSHrm/c2aWlGq6XuNXj7z/n907SkHWx0i0kBnNPdA92D11jhme3ym6h6gVrFybX6qczrseqSDwUh7GjVSc5p0bHaadGzOtNt06xnDdPtL68Iaxt5yxjBlJDjp/rbepwuOGaTttY0hl/cvzNaRA3vo2/roZdFttlQ3hO3b3tbxOtG9JmyGNLODfbpnvvSpbj7dvGN1jbdZD0UojW77+c4JI6In3VkZURuumg6+2KQjB/aIuMf1mDJ3lwxiNfqbo+6TXd8UfSmE2QCU2fHqer8a/S06dUTf9gGgrAy7dnqa1OhvUXWDNNgd/Tk47NJTk4/WQ+9E2A1g8tEyeTvGzeV0RN11ydUFlSuJQNKdBvzBoK784cG6fXH46OXNp8c2egnEq1Oae6BbsHprnFyTPUBzU3QPUCtYuTa/O/CZNFLrii2OOks8gy81jdHLglvXbHecdOZmZejGF1eHbHHUNsN59yuf6Y5zEtt4KWAYys60R9wbedq4MgUN82V8OzxNmvHSOo0a2KN9lrZtdvG2l9bpznNGJnTGOyhFPRdjORMb/B137l5eWa0Gf/QqopxMhy4fd5CCMsJex8tPLDPdn9npsGvaiWWSjLCu19NOLDMdvOkMvVzZ2lbbFHGP6wN7udS/MPrvMMtkm1+z8vDcrAxd/+Ia/eHCI9QSMORpbH0/DizO1eV//kQPxNDJPzvDoT+882mHg4F3nJ3YysSmQEA3nz5MMxdHHkRrCqTm90WS7jTgtNt10z/WRh69XLyOsl50iQKT5h1mx9F9WL01TnamQ9PGlUkK/4I/bVy5skm6Y2L12vzuoN6kUZrZ8WQR7+CLKytTk/70rw7Lgl+aNjrq7T2NzXr/i+90SP/C9ststtZpzfe/qJansTmhCWtmJyyfqvH69dMo2zQlutdEZ5yLDXGWRu/y+nXJ0x9FPA8umbdCC359nHpHeQ18gaB8zUFdfmKZfru7stOVnaEGX7N8zcEuGcRqCRp6+O393wbQFwjqktGlsklhAwdTR5eaPoe8DLueuPgobfM0Ki8rQ0GjtXdTbaNfT1x8lBTDAFCDPxB1AMbs9xyvYFC669X1EQfR5ryyXtN/FFt/gWTDt9w00NQSjNoFsKkldUbSkbpyMh1Ry8bMRrDRfVi9NU5Tc0Du/CydPqJfyBe7nZ4mufOdamKpQ0ysXpvfHbiyTUpJTY4ng1qvX7f8Y60OKynSlONC1zPf+o/W3QDMzgO3y6mjBkUuC45lIM7T1KwHJ42KmLA+OGlUwpesNDZHX8cby/Ipw+Jtmjpjn+4ik7W4hSbHPY0t8voDEc+DtuNmsjJt2vRtQ/vWpI3Ngd1bk3bNVpC+FpPqFZPv3F5fi7Icdt2wxza/rWucDX1X75fXpImZw25TU8DQH96uDEvaZ5w5XNkO8xp7s/dLot9PQUN6+7Nv9fZn30Y8HmtTv2ST/J/miJvVbx5Aai07mzp6sCKVfU0dPdi07Azdi5Vb49Q0+lXfFFBprzzlZWXsng1xKC/LoW9qmuTKZgAoFlavze9MVq1Lz8mIvnYxJyP5z8XqBr9+8r2BHc7QVjeYD77EOxDXI8epe9/4vOOZ5jMTW9Hnbw5E3SaqIYb3Qmdt07S/57JN0ffpjmU5dO/8rKids832mI6334ZZ+XhXlJfXmyTFZseLc51qyTX04RffhW3z+70Di00Tt4CkGYvWRtgSs1ozFq2LqTTcbIlXopeAWd09PVFIutOA1W8eQJLqmgKa9txKXTK6VFP2Khea9txKPT31e1aHiC5m1dY4RTlO3ft6+JcSqbXqIl2aV8XL6rX5ncXKdene5hZN2b0H8t5LHaZUlMrbnPxfLluChp7715cR1yI/968vdf148wZcUnwDcf5gxxV9yyurE967ptiVFdYATfrvNlF3mmwTJUlek4Fns+NSnOeyLfo+3bFk3YW5Tt0Vx+CJKysjegOtGGbb23bribS2vivEWzFgt9tUVeuLuONQLGvCvc3RS8O9MVRd5GZGHwxMdN8T02ZyKVABFElqRo19kmfSBdBsiwagMxTkZEQtG8tnTfc+oWP0/utOzausZPXa/M5g9br0Bl9Aty1apz9ccIQyHPb2UtLmQFCXP/uJ7jv/8IQ9dmcxDCPqWuRYmoi12d+BuPqmlqhbHCV6bXyDv+PdOZZVVse0BrYoJ/rzNjse77mclWHXgo+/Ctmn25WdoZ2eJr348Ve69kex7XTTvyhHvzv3sP3a9szXEog6COVrif46Bg1FXVt/e4IrHqTWsYnxw/vox0eWhC01+PvHW03HLuJdE17XGP29UBdDif4ur2/3bgCfhm07dusZh2qX16dBURobxivTZDeDTHviKxYSgW+5aaA5GNCMM4fptkXrwsp6bz1zuJqDrF9E4uVmOvTDQ3rrkP4FYX8IPtvmoWP0PqBjdHzqTL6Amx1PJlbt6StZvza/M1i9Lj0/J0NPTD464u4iT0w+unUfpyRnU/S1yLeenvjKkfzsjKhruvMTPDNW1xj/Ugu3yxm1NNtsECvec9lmSNecfLBuWbQ27Fy87czhMZ+K8fx9qm1s0ZV/WdlhQ72nL4leEdfUEn1r0iaTpL0zODKk3/7oEN20MPx1nDlhuFqM6IO6TS1BfbylRtNOLIuYNJv1YcrPMXkvxDDBkZeTIafNHnHbsUyHXXkJniSp8fp16ehS2RW5mVxNY/Rt15IVSXcaaAlK39Q06tQR/ULKend6mvT1Lq/6FnXNFzSkt+8amnTj6UN108K1IX8I2v4QfdfQlPB9SLsDq2fmuoN490FNFlurG7S0sqq9YVC9r0Urv9yl0WVulXTRe8nKtfmdwep16TkZDt3QQVnyzMWxlSVbLWhEX4u8LzPd+ys7w6F5HST+Nkl3TEjs65hv0iAslqUWXn9Avz7hIAWN8O2yfn1Cmbz+gApzO769p6k5+gynybncHAzq9pfCt4laVlmtGS+t0y0x7NMd79+nPKcjakWcWWVmo0lFgdnxzpBtd+i6Dt7TNy9cq9km72mvryVq0my2zCA309HhIJhNiukzJcfu0IyX1umQ/oXt3eJtNpu+rm3SzMWfasYZiW3q58rOkKepReP3ylt2eJpkky1l/kbvLTWjxj4xgtLT//cfHRrhzfPG+h36bYp2AURqKcjJChv5lVr/EN20cC1b18XI6pm57iArI3rpmtk+qHuyqsx/p6dJX9U0Rly7ONidp6xMR9StdRLBkGJa99nZ4vkdWL0uvcEf0CdRZrUSvTVPZzBfi5z459Dgb4m4hE5qK+9ObPVKZ6yBrWls1qUdbJd16dMrNP9Xx6lflJniwpxM/eGnR2h7bWPI5f0Ls/WHnx6xuwN2x4JGlH26N1YpGMPYSbx/n/KzMnT24f00dfSBYcst5i77QvlxrpeOpQN7vOpNlhrUm7wfinKduvfNjpsCmpXI1/k63it9WWW16mJoQtbQEtBPoiwZaUhwxUBepkNPLPsi4vMYXVasOSkwGBkJSXc6sCnqeisrviQh/TQHoje6aWYdbUysnpnrDnZ5/frlmIN0xYll7d3L87MzVO9rlr/ZUI03ttI1K8v8G3wtUdcuzuqiQSyrlzrE+/hWr0v3+lr0+IVHqjjfGbI90Gkj+uqYwT1jap5ltUKTtcZm20TtaX8HUMwS+1gT//19fMMwoi7jM2KY7Y9Uot6217hk/tnuyspQdqa9wyZiZrODZttxeWJYdhPv3yd/MKCrf3iwlm36bwVPW+fuq394sPwmyyHtNkXdmtTeBd93411q0GzSFLDZpClgg8/kvWByXGqdrLNy+7qGZpMeCSm6rSdJdxqwSVE7i6bqJvNILd1pHa2VrJ6Z6w7yshwqyMnUis3fhezluqO2UUeV9lQghk7HVpf5e6N8KVleWR1Th9p4Wf0adMbjt3Vbfvfzb9U7P6v97+MOT5PGDemV8KoFd55TcknLN1WHJRnHHVSsmPeJslC8a5HbbKtp1PS/rw5JmGIdQOmMGc54BnCcdpuCQenyE8v02z2akDX4mmW3tR43U5CbGbWs2Gym2uuPPhB3x4ToA3Gm23XF0HS3IDszaom72d+nbLtDW6JU8Aw0+T1kOey69cxDNWPRupCqg9Flxbr1zGHK6IKkO96lBmZN/8yOF5ist45lTXdnbV+3vzpjACgZkXSnAUPRZ7pT4G86ugGzRjaJbnTTXVg9M9cduDIztDXKF7uSGGZIrS7zN5utiGU2I15Wvwad9fiGpH+u3h6W7B0/pFdnhdohh711qdc/O9ge6ACT7YGSxbRxZZJhhM3yxrpNU63XH5ZwS62/x+nzV+thkwGU7Ax71PLubJMlI/EO4AQlVdU16YtvG0IG8r6pbZTdZlP/GJZ65JmsxTVbCxytg/ryGDqoZ2c4oi67yY5hz3i3y6mnphyth97eGPZ986kpR5v+ffIFjagDB2bL0AxJd/5zvQ4f2ENT9yrRv/OfnyZ8hlaSXCY7BrlMBi/iHUDKy3REne3Pi2Gpg9X7ZJttCZaqa7pTs+c69llHH+Rzl2+muhxdom0LiEgqyoqV6eDjKBZtHaPHlrtDLk+ljtFW80f5YvfwO5Xyx7B40eoyf7OS3X0p6d1fVr8GnfH47clWhGTvuvmrVRvjUoP91Rxle6CH365UcywLaS1W3eCX1x/Q+BH99OTko/TIBUfoyclHafyIfvL6A6puMH8Nd9b5IiYJUut64p11vqi39wWCmlJRGvY3pn2rKZPlS7EM4ETTEjQU2L0/9KVPf6RfP/uJLpm3Qi+v2a5A0FBLDL/HaNUry2KoXol3IM5hk247c5hG7/UatnYvHyZHjF8W//D2xoifrX94J3JztD01mlTwNJq9Bs0Brf6qVqNKitS7IKt9N4dRJUVa/VVtl1QANQUCuuWMyK/jLWcMU1PAvEQ+2ncls6IJe9DQrAnDNWav+xhTVqxZZw+XPYZz0epJkra+K5Hsa9+VZJKaQwXYJ4ZpZ9EuDghpqbre19pDQOH7b06tKNV3DT4d2MtlVXgpJdU7Rlst3i92kvVl/n0KsqKW9PYpyEro40vWvwZmsx2xlBRbPVvf1BJ9z3iz7YGSQUvQ6LDpUUVZsWacYb5lWK3JOliz4/VN0beaesZkq6l4B3ACnbA/tFnJrNlx09lBk+MOu02zXvo04izxnH9+pltj6FjdOnjScTO2nXW+qO+neAcO/M0BPfuzYyJuwffsz46R15f4nid1jS2qbwpo2ollmt6+1MChBl+Lvqlpkis7+kyzIUX9rmT2ld2w23T3K+s1paJ0j6UODu30+HT3q5/p+hiWlGZl2KP+fUl00rurwR/1NdiV4MHQRCHpTgNWl4kAkuTKztTkuSs6/FI0/1fHWR1iSinMJcneX51Rmm11mX/bWuS9S2LHlLt1dxdVPLiyM6KXUSZ4NsTpiN6F3hlD9YzVs/Xxrt9MBsGgEXUQKxDDyH68JbWu7IyoW02ZnYvxDiB1xv7Q8c4u5mTao5YV52RGfz/U+Vr05mff6s3Pvo14/JqTh0S9vdTagT0as8ETs/XGZseLXVm63uIt+IpynbrnjfCdWqTWzyWzEvksh11/2asPU9t3pb/860vdZFIiX98c0Mtrd+jltTsiHr/iB+XmT8KQrjixTDIUcj6NKXPrihPLE95rIjcrQxc99WG3+75I0r2XRx55RL/73e+0fft2DRs2TPfff7/GjBljdVhxsbpMBJBa99c8YmBRxC9Fo8uKTfffBDpLvDNC0n/L/K+bvzok8e7KMv/+RTl62MKKhwZfi6bsnnnZezZiSkVpwgd0axqjz4bUNvolRd+v3OrZetPmVSbHk0FnbBlm211S21GiYlZSa1P0rtVmldHxDqKZDuTF8BrEO4jUI9epaSeWSYqwtv7EMvUw+VyoN3kOZl2xJfN9tM2asdll0n3c5PGjrWtfFsO69s7ga4nefdxnUr3iCwQ1KUofJrOlEnUmTcjMjrfFMGX3JMmUisEhSe+UuR9qwa8Tm/RmZ9ijfl8069GQrMi29vDXv/5VV111lR555BFVVFToscce0/jx4/Xpp59q4MCBVoe333IzHVHLRGLZPxKIV4akGWcO14xFa8O6is44czgfRugy2RnRZ4Ri/YOeDGX+VlY81DY2Ry3pfe5n30/o47uyMjXpT//q8PFfmjba9D6srljIzYzevCoV/j53xpZhGXZb1AEUh0nWbbNJU0cPVqSEc+rowbKZZN3xDqJ1RuOn7xriW4JVmOvUwJ65OnVk/9Z17LvfDzvrfBrUM9f0OXRG1+s8Z0bU8znPGf0+DJPfo2Hye4x3u67OUG8y2Gh2vC7OpRJmAxuxDOTVNbVErRxJ9G4z/mBQN58+TDMXh3ehv+WMYfLHsMNIMuJ77h7uvfdeXXrppfrZz34mSbr//vv12muv6dFHH9Xs2bPDru/z+eTz/be5h8fj6bJY90VjS0AzzhimGYvWhZWJzDhjmBpNmjoAncVpt2naieV7rXMKKKsrNs8Edsu026LOCGXuw/mYzmX+BdmZUb+YJXqW2O1y6qhBPSI+fqwJs9UVCzZJV4xrLffcO9G6Ylx5SjQ67YyBi16uLM155bOIJbXPf7hF95x7WNTb98nP1t2vbtBhA3uEJJwrt9bouX+Z316KbxAty2QgL5Y1sHlZmbr4qfiWYPUrytGpw/uGPIejBvWI6TnkmnS9jmUAqCg3s7X8WBHO5xPLVZQb/TMhJ8OhZz/4MuLv8dkPvtStJv0B4t2uqzPEW13qyoq+VMJsqUWOM/pAXk4Mv8fOqAaLR26GQ7NfWa+pFaUh3xd3eny6/40Nun780IQ+fqKQdO/m9/v18ccf67rrrgu5/OSTT9b7778f8TazZ8/Wbbfd1hXhxcUwpK9rGnX5iQfpt+MPDmnq8PWuRvUpTHzDHaA+0KIce4YKczJkyCa7LSCH3a7CHJtkaz0OdIUMu019C7J06oh+oTNCnib1LchWBoNAMbF6lrizEmarKxYcdun0Ef1CEq2dnialyoYOnfF7KMx16vazhuu6+atDko1Y76Pt9tP3uv2+9jjY30E0mxR1IC+WTxSXyRIss62m2uzvc/AFA7p9wjDdsnBt2HOYOWG4fEHzCZrCXKcG9czV6SP7h57PdT4NjmG2PSfToetPPVQzFq0NeR3aKuLMEsZ4t+vqDNkmTcjMKqnircTKstvat+rbe+Bj2rjymCY58k0qZPMTXIGTIem3PzpENy0Mr4ycNWFEyiavNsMw6F0tadu2bTrggAO0fPlyHXfcf0cT77zzTj399NPasGFD2G0izXSXlJSotrZWBQUFXRJ3LL6ubtAtL63T0P6FGlVSFDJyuH5brW4/Y5gOKI6+7g2I15dVDfrDuxv187EHqSVgqK6xWfk5mcpw2PSnJZt0+QnlGuTmPETX+Kq6QXX+FhmytZ+LNhnKd2ZoAJ+HMdtW09hhstUvhv3OO0Ot15+ynfy/3uXVtppGVe6sV+/d+zu3Jd1lvV3qX5SjA3rkWh1mTDrj9xDvfVh1Lny9y6uvdnm1aY99urMy7NrhadJBvVwa0MP891jr9evben+HS7B6Jfi5fFXdoHvf/FxTKkqV4bC3fy62BIKat3yzrvnhkJg/G+P5PXxV3aCvahuVl5URMkk0oDDH9PF37PKqMWDopoVrIiZrOQ6b+iT4/bS9ukFbPT499NbG8CZkPyhXSUGW+kV5Hv+pqtcOj08Pv70xwgBOufoUZGmwu+NlBt9WN6jRkJZvqgr7TKkocytHUi+T1/Hb6gZ5DemmhWvCYph19gjlxnAf8fi2ukE+Q6prjvw3OivBj7+vPB6PCgsLTfO/VB0sSBjbXgt/DMMIu6xNVlaWsrKSf5bYabfpltOH6caFa8JGDu84e4SczOqgCxTlZuqcI0o0Y9G6/So7AzrTgOI8fb3LK09Ti2ytxRYqyM5MmQQnWVg9Syyldon/AT1yFQgaqtxZH3asT0F2Sp2PnfF7iPc+rDoX2n6PX3zbEHK5TVK/wth+j4W5TjX6AxGXYOU7HQl/XlmZDv3mB0M6TLSy9mF2M57fw4DiPGVmOrSrwS+HPahMu12lbpf6FGSb3rZPj1x9Vd2gG087VIa0R7ImZdiU8IRbknJzMtXXkE4d2S+kCdnOOp/6FWQp16QEPjvDIbtNESux7LbW49E4czLV7G3WcWVuef2B9tegrLdLmbuPm3HmZEreZt159gjV73EfLqdD2THeRzxa7DbZAkHlOltL7W1qfS/lOjNkMwy1pEoZ0F5Iundzu91yOBz65ptvQi7fuXOn+vTpY1FUnaNXj1x9W92g2R28eXql0B91pK54y86AznZAj1wdYHUQ3UAqJ73JYGBxnux2m+qaWtoHLg7um68B/G1OKZ3xe+xblKMcp0NV9X4FAoZyMzM0sEfX/H3sVZCtb6sbOky0esWQ9HaWPgXZMSXZkUQeUM3osgGswlyn/P6ARh9UHPI6DuntUrbDbvq77FuUo+ZAUJV7DeDIZlPfgmz1Nakganv8wF5dzu2SMmJ4/Lb7+NYfkCJ1So/xPuLRr0eutlY3aHttk/KyHAoYUkswqO21zTogxkGsZETSvZvT6dSRRx6pN954Q2effXb75W+88YbOOussCyPrHL2K8/TVLm/rD7sntm12Gwk3ulQ8TV4AoLsiwe4eOuP3aOUgVq/iPO3wNMnmD0g2m2ySnJmOLk24O4PVA6q9inJU6/XLHzDkzLDL6bCrICcz5t9rSXGejnfYVdvY3P5daWi/AvWPcclOvI/fWfcRj5LiPNl2D2I57AFl2O0a0MOZ0p+VrOnew1//+ldddNFF+uMf/6hjjz1Wjz/+uP70pz9p3bp1GjRokOntY63pBwAAAACkNtZ074fzzz9f1dXVuv3227V9+3YNHz5c//znP2NKuAEAAAAA2Bsz3Z2ImW4AAAAASA+x5n+p2f4NAAAAAIAUQNINAAAAAECCkHQDAAAAAJAgJN0AAAAAACQISTcAAAAAAAlC0g0AAAAAQIKQdAMAAAAAkCAk3QAAAAAAJAhJNwAAAAAACULSDQAAAABAgmRYHUB3YhiGJMnj8VgcCQAAAAAgkdryvrY8sCMk3Z2orq5OklRSUmJxJAAAAACArlBXV6fCwsIOj9sMs7QcMQsGg9q2bZvy8/Nls9msDicij8ejkpISbd26VQUFBVaHgzTFeYhkwbmIZMG5iGTBuYhkkQrnomEYqqurU//+/WW3d7xym5nuTmS32zVgwACrw4hJQUFB0p68SB+ch0gWnItIFpyLSBaci0gWyX4uRpvhbkMjNQAAAAAAEoSkGwAAAACABCHpTjNZWVm69dZblZWVZXUoSGOch0gWnItIFpyLSBaci0gW3elcpJEaAAAAAAAJwkw3AAAAAAAJQtINAAAAAECCkHQDAAAAAJAgJN0AAAAAACQISTcAAAAAAAlC0p1GHnnkEZWWlio7O1tHHnmkli5danVISENLlizRGWecof79+8tms2nhwoVWh4Q0NHv2bB199NHKz89X7969NWHCBG3YsMHqsJCGHn30UY0cOVIFBQUqKCjQscceq1deecXqsADNnj1bNptNV111ldWhIM3MmDFDNpst5F/fvn2tDisuJN1p4q9//auuuuoq3XjjjVq5cqXGjBmj8ePHa8uWLVaHhjTT0NCgww47TA8//LDVoSCNvffee7r88sv1wQcf6I033lBLS4tOPvlkNTQ0WB0a0syAAQM0Z84cffTRR/roo4904okn6qyzztK6deusDg1pbMWKFXr88cc1cuRIq0NBmho2bJi2b9/e/m/NmjVWhxQX9ulOE9///vd1xBFH6NFHH22/bOjQoZowYYJmz55tYWRIZzabTQsWLNCECROsDgVp7ttvv1Xv3r313nvvaezYsVaHgzTXs2dP/e53v9Oll15qdShIQ/X19TriiCP0yCOPaNasWTr88MN1//33Wx0W0siMGTO0cOFCrVq1yupQOg0z3WnA7/fr448/1sknnxxy+cknn6z333/foqgAIHnU1tZKak12AKsEAgE9//zzamho0LHHHmt1OEhTl19+uU477TT98Ic/tDoUpLGNGzeqf//+Ki0t1U9+8hN98cUXVocUlwyrA0DiVVVVKRAIqE+fPiGX9+nTR998841FUQFAcjAMQ9dcc41Gjx6t4cOHWx0O0tCaNWt07LHHqqmpSS6XSwsWLNChhx5qdVhIQ88//7w++eQTrVixwupQkMa+//3v65lnntGQIUO0Y8cOzZo1S8cdd5zWrVun4uJiq8PbLyTdacRms4X8bBhG2GUAkG6mTZum1atXa9myZVaHgjR18MEHa9WqVaqpqdH8+fM1efJkvffeeyTe6FJbt27Vb37zG73++uvKzs62OhyksfHjx7f/f8SIETr22GN10EEH6emnn9Y111xjYWT7j6Q7DbjdbjkcjrBZ7Z07d4bNfgNAOrniiiu0aNEiLVmyRAMGDLA6HKQpp9OpsrIySdJRRx2lFStW6IEHHtBjjz1mcWRIJx9//LF27typI488sv2yQCCgJUuW6OGHH5bP55PD4bAwQqSrvLw8jRgxQhs3brQ6lP3Gmu404HQ6deSRR+qNN94IufyNN97QcccdZ1FUAGAdwzA0bdo0vfjii3r77bdVWlpqdUhAO8Mw5PP5rA4DaeYHP/iB1qxZo1WrVrX/O+qoo3TBBRdo1apVJNywjM/n0/r169WvXz+rQ9lvzHSniWuuuUYXXXSRjjrqKB177LF6/PHHtWXLFl122WVWh4Y0U19fr8rKyvafN2/erFWrVqlnz54aOHCghZEhnVx++eV67rnn9I9//EP5+fntlUCFhYXKycmxODqkkxtuuEHjx49XSUmJ6urq9Pzzz+vdd9/Vq6++anVoSDP5+flhfS3y8vJUXFxMvwt0qWuvvVZnnHGGBg4cqJ07d2rWrFnyeDyaPHmy1aHtN5LuNHH++eerurpat99+u7Zv367hw4frn//8pwYNGmR1aEgzH330kcaNG9f+c9vanMmTJ2vevHkWRYV007Z94gknnBBy+dy5czVlypSuDwhpa8eOHbrooou0fft2FRYWauTIkXr11Vd10kknWR0aAFjiq6++0qRJk1RVVaVevXrpmGOO0QcffJDSeQv7dAMAAAAAkCCs6QYAAAAAIEFIugEAAAAASBCSbgAAAAAAEoSkGwAAAACABCHpBgAAAAAgQUi6AQAAAABIEJJuAAAAAAAShKQbAIAUN3jwYN1///1WhwEAACIg6QYAIEXMmzdPRUVFYZevWLFCv/jFL7o+IAAAYIqkGwCAJOD3+/f7tr169VJubm4nRpOcmpubrQ4BAIB9RtINAIAFTjjhBE2bNk3XXHON3G63TjrpJN17770aMWKE8vLyVFJSol//+teqr6+XJL377ruaOnWqamtrZbPZZLPZNGPGDEnh5eU2m01PPPGEzj77bOXm5qq8vFyLFi0KefxFixapvLxcOTk5GjdunJ5++mnZbDbV1NSYxl5dXa1JkyZpwIABys3N1YgRI/SXv/yl/fhjjz2mAw44QMFgMOR2Z555piZPntz+80svvaQjjzxS2dnZOvDAA3XbbbeppaUl5Hn88Y9/1FlnnaW8vDzNmjVLgUBAl156qUpLS5WTk6ODDz5YDzzwQMjjtLS06Morr1RRUZGKi4s1ffp0TZ48WRMmTGi/jmEYuvvuu3XggQcqJydHhx12mP7+97+bPncAAPYVSTcAABZ5+umnlZGRoeXLl+uxxx6T3W7Xgw8+qLVr1+rpp5/W22+/rd/+9reSpOOOO07333+/CgoKtH37dm3fvl3XXntth/d922236bzzztPq1at16qmn6oILLtB3330nSfrPf/6jH//4x5owYYJWrVqlX/7yl7rxxhtjjrupqUlHHnmkFi9erLVr1+oXv/iFLrroIv3rX/+SJJ177rmqqqrSO++8036bXbt26bXXXtMFF1wgSXrttdd04YUX6sorr9Snn36qxx57TPPmzdMdd9wR8li33nqrzjrrLK1Zs0aXXHKJgsGgBgwYoBdeeEGffvqpbrnlFt1www164YUX2m9z11136dlnn9XcuXO1fPlyeTweLVy4MOR+b7rpJs2dO1ePPvqo1q1bp6uvvloXXnih3nvvvZhfBwAAYmIAAIAud/zxxxuHH3541Ou88MILRnFxcfvPc+fONQoLC8OuN2jQIOO+++5r/1mScdNNN7X/XF9fb9hsNuOVV14xDMMwpk+fbgwfPjzkPm688UZDkrFr1659fzKGYZx66qnG//zP/7T/fOaZZxqXXHJJ+8+PPfaY0bdvX6OlpcUwDMMYM2aMceedd4bcx//+7/8a/fr1C3keV111lelj//rXvzYmTpzY/nOfPn2M3/3ud+0/t7S0GAMHDjTOOusswzBaX4/s7Gzj/fffD7mfSy+91Jg0aVIMzxYAgNhlWJzzAwCQto466qiQn9955x3deeed+vTTT+XxeNTS0qKmpiY1NDQoLy9vn+575MiR7f/Py8tTfn6+du7cKUnasGGDjj766JDrf+9734v5vgOBgObMmaO//vWv+vrrr+Xz+eTz+UJivOCCC/SLX/xCjzzyiLKysvTss8/qJz/5iRwOhyTp448/1ooVK0JmtgOBgJqamuT1etvXqO/9GknSH//4Rz3xxBP68ssv1djYKL/fr8MPP1ySVFtbqx07doQ8H4fDoSOPPLK93P3TTz9VU1OTTjrppJD79fv9GjVqVMyvAwAAsSDpBgDAInsmqV9++aVOPfVUXXbZZZo5c6Z69uypZcuW6dJLL92vBmKZmZkhP9tstvak0zAM2Wy2kOOGYcR83/fcc4/uu+8+3X///e1r0K+66qqQZnBnnHGGgsGgXn75ZR199NFaunSp7r333vbjwWBQt912m84555yw+8/Ozm7//96DDS+88IKuvvpq3XPPPTr22GOVn5+v3/3ud+2l7Xs+346eX9vr8PLLL+uAAw4IuV5WVlasLwMAADEh6QYAIAl89NFHamlp0T333CO7vbXlyp7rlCXJ6XQqEAjE/ViHHHKI/vnPf4Y9fqyWLl2qs846SxdeeKGk1iR248aNGjp0aPt1cnJydM455+jZZ59VZWWlhgwZoiOPPLL9+BFHHKENGzaorKxsn2JfunSpjjvuOP36179uv2zTpk3t/y8sLFSfPn304YcfasyYMZJaZ9BXrlzZPht+6KGHKisrS1u2bNHxxx+/T48PAMC+IukGACAJHHTQQWppadFDDz2kM844Q8uXL9cf//jHkOsMHjxY9fX1euutt3TYYYcpNzd3v7YK++Uvf6l7771X06dP16WXXqpVq1Zp3rx5ksJniCMpKyvT/Pnz9f7776tHjx6699579c0334Qk3VJrifkZZ5yhdevWtSfobW655RadfvrpKikp0bnnniu73a7Vq1drzZo1mjVrVtTHfuaZZ/Taa6+ptLRU//u//6sVK1aotLS0/TpXXHGFZs+erbKyMh1yyCF66KGHtGvXrvbnlp+fr2uvvVZXX321gsGgRo8eLY/Ho/fff18ulyukwzoAAPGiezkAAEng8MMP17333qu77rpLw4cP17PPPqvZs2eHXOe4447TZZddpvPPP1+9evXS3XffvV+PVVpaqr///e968cUXNXLkSD366KPt3ctjKa+++eabdcQRR+iUU07RCSecoL59+4Zsx9XmxBNPVM+ePbVhwwb99Kc/DTl2yimnaPHixXrjjTd09NFH65hjjtG9996rQYMGRX3syy67TOecc47OP/98ff/731d1dXXIrLckTZ8+XZMmTdLFF1+sY489Vi6XS6ecckpI2frMmTN1yy23aPbs2Ro6dKhOOeUUvfTSSyHJOwAAncFm7MsiLgAA0C3dcccd+uMf/6itW7daHUqnCwaDGjp0qM477zzNnDnT6nAAAGmG8nIAANLQI488oqOPPlrFxcVavny5fve732natGlWh9UpvvzyS73++us6/vjj5fP59PDDD2vz5s1hs+0AAHQFyssBAEhDGzdu1FlnnaVDDz1UM2fO1P/8z/9oxowZkqTx48fL5XJF/HfnnXdaG3gM7Ha75s2bp6OPPloVFRVas2aN3nzzzbA15wAAdAXKywEAQIivv/5ajY2NEY/17NlTPXv27OKIAABIXSTdAAAAAAAkCOXlAAAAAAAkCEk3AAAAAAAJQtINAAAAAECCkHQDAAAAAJAgJN0AAAAAACQISTcAAAAAAAlC0g0AAAAAQIKQdAMAAAAAkCAk3QAAAAAAJAhJNwAAAAAACULSDQAAAABAgpB0AwAAAACQICTdAAAAAAAkCEk3AAAAAAAJQtINABay2WxauHCh1WFEdcIJJ+iqq66yOgwZhqFf/OIX6tmzp2w2m1atWpXwx5wxY4YOP/zwhD9OurPqdZ43b56Kioo6LY7//Oc/XXZuprJk+UzpSCznwZQpUzRhwoQuiQdA6iPpBoBONmXKFNlsNtlsNmVmZqpPnz466aST9NRTTykYDIZcd/v27Ro/frxFkcbmxRdf1MyZM60OQ6+++qrmzZunxYsXa/v27Ro+fHin3n+kAZBrr71Wb731Vqc+DrqHSElXSUlJQs7NVPXuu+/KZrOppqYm5PK9P1MGDx6s+++/v2uDA4AuRNINAAnwox/9SNu3b9d//vMfvfLKKxo3bpx+85vf6PTTT1dLS0v79fr27ausrCzL4vT7/abX6dmzp/Lz87sgmug2bdqkfv366bjjjlPfvn2VkZFheptAIBA20LEvXC6XiouL9/v2qSKW8wDmHA5HzOdmOkuWzxQA6Cok3QCQAFlZWerbt68OOOAAHXHEEbrhhhv0j3/8Q6+88ormzZvXfr09Z1f9fr+mTZumfv36KTs7W4MHD9bs2bNDrvvoo49q/PjxysnJUWlpqf72t7+FPO7XX3+t888/Xz169FBxcbHOOuss/ec//2k/3jY7N3v2bPXv319DhgyRJD3yyCMqLy9Xdna2+vTpox//+Mftt9m7FHTXrl26+OKL1aNHD+Xm5mr8+PHauHFj+/G2kt3XXntNQ4cOlcvlah+EiOa9997T9773PWVlZalfv3667rrr2gcopkyZoiuuuEJbtmyRzWbT4MGDI95H22MvXrxYhx56qLKysvTll19qxYoVOumkk+R2u1VYWKjjjz9en3zySfvt2u7v7LPPDrn/vctM216/3//+9+rXr5+Ki4t1+eWXq7m5uf0627dv12mnndb+O3ruuef2aSbv3nvv1YgRI5SXl6eSkhL9+te/Vn19vSSptrZWOTk5evXVV0Nu8+KLLyovL6/9evt7Hvz5z3/WUUcdpfz8fPXt21c//elPtXPnzpDHWrRokcrLy5WTk6Nx48bp6aefDpvNfP/99zV27Fjl5OSopKREV155pRoaGkyf+2OPPaaSkhLl5ubq3HPPbb/PJUuWKDMzU998803I9f/nf/5HY8eO3a/XMh4zZszQ008/rX/84x/tVS3vvvtuWHl520zva6+9plGjRiknJ0cnnniidu7cqVdeeUVDhw5VQUGBJk2aJK/X237/hmHo7rvv1oEHHqicnBwddthh+vvf/x5zfP/85z81ZMiQ9t/RvHnzQn5Hkcqn77///pD3ldl7Rmr9THriiSd09tlnKzc3V+Xl5Vq0aJGk1lL7cePGSZJ69Oghm82mKVOmSAr9TDnhhBP05Zdf6uqrr25/LRsaGlRQUBD2nF966SXl5eWprq4u6vM3+yzdsmWLzjrrLLlcLhUUFOi8887Tjh07Ory/QCCga665RkVFRSouLtZvf/tbGYYRNQYA2BNJNwB0kRNPPFGHHXaYXnzxxYjHH3zwQS1atEgvvPCCNmzYoD//+c9hyeXNN9+siRMn6t///rcuvPBCTZo0SevXr5ckeb1ejRs3Ti6XS0uWLNGyZcvaE949ZzLfeustrV+/Xm+88YYWL16sjz76SFdeeaVuv/12bdiwQa+++mrURGbKlCn66KOPtGjRIv3f//2fDMPQqaeeGpJ4er1e/f73v9f//u//asmSJdqyZYuuvfbaDu/z66+/1qmnnqqjjz5a//73v/Xoo4/qySef1KxZsyRJDzzwgG6//XYNGDBA27dv14oVKzq8L6/Xq9mzZ+uJJ57QunXr1Lt3b9XV1Wny5MlaunSpPvjgA5WXl+vUU09t//Ledn9z5841vf933nlHmzZt0jvvvKOnn35a8+bNCxlIufjii7Vt2za9++67mj9/vh5//PGwxDUau92uBx98UGvXrtXTTz+tt99+W7/97W8lSYWFhTrttNP07LPPhtzmueeea08i9vc8kFqTlZkzZ+rf//63Fi5cqM2bN7cnSlJrIvXjH/9YEyZM0KpVq/TLX/5SN954Y0gsa9as0SmnnKJzzjlHq1ev1l//+lctW7ZM06ZNi/q8Kysr9cILL+ill17Sq6++qlWrVunyyy+XJI0dO1YHHnig/vd//7f9+i0tLfrzn/+sqVOn7tdrGY9rr71W5513Xvtg0vbt23Xcccd1eP0ZM2bo4Ycf1vvvv6+tW7fqvPPO0/3336/nnntOL7/8st544w099NBD7de/6aabNHfuXD366KNat26drr76al144YV67733TGPbunWrzjnnHJ166qlatWqVfvazn+m6667b5+do9p5pc9ttt+m8887T6tWrdeqpp+qCCy7Qd999p5KSEs2fP1+StGHDBm3fvl0PPPBA2OO8+OKLGjBggG6//fb21zIvL08/+clPNHfu3JDrzp07Vz/+8Y9NZ8mjfZYahqEJEybou+++03vvvac33nhDmzZt0vnnn9/h/d1zzz166qmn9OSTT2rZsmX67rvvtGDBglheRgBoZQAAOtXkyZONs846K+Kx888/3xg6dGj7z5KMBQsWGIZhGFdccYVx4oknGsFgMOJtJRmXXXZZyGXf//73jV/96leGYRjGk08+aRx88MEht/f5fEZOTo7x2muvtcfWp08fw+fztV9n/vz5RkFBgeHxeCI+7vHHH2/85je/MQzDMD7//HNDkrF8+fL241VVVUZOTo7xwgsvGIZhGHPnzjUkGZWVle3X+cMf/mD06dMn4v0bhmHccMMNYbH/4Q9/MFwulxEIBAzDMIz77rvPGDRoUIf3sedjr1q1Kur1WlpajPz8fOOll15qv2zP30WbW2+91TjssMPaf548ebIxaNAgo6Wlpf2yc8891zj//PMNwzCM9evXG5KMFStWtB/fuHGjIcm47777osbUkRdeeMEoLi5u//nFF180XC6X0dDQYBiGYdTW1hrZ2dnGyy+/bBjG/p8HkXz44YeGJKOurs4wDMOYPn26MXz48JDr3HjjjYYkY9euXYZhGMZFF11k/OIXvwi5ztKlSw273W40NjZGfJxbb73VcDgcxtatW9sve+WVVwy73W5s377dMAzDuOuuu0LeOwsXLjRcLpdRX18f9Tnsae/Xcu7cuUZhYWFIHHv+vqOJ9D7fvHmzIclYuXKlYRiG8c477xiSjDfffLP9OrNnzzYkGZs2bWq/7Je//KVxyimnGIZhGPX19UZ2drbx/vvvh9z3pZdeakyaNMk0ruuvv94YOnRoyO9/+vTpIb+jSM/T7P3V0Xvmpptuav+5vr7esNlsxiuvvBLy/Nset82enymGYRiDBg0Ke3/861//MhwOh/H1118bhmEY3377rZGZmWm8++67Jq9A9M/S119/3XA4HMaWLVvaL1u3bp0hyfjwww8Nwwh/ffr162fMmTOn/efm5mZjwIABHX7OA8DemOkGgC5kGIZsNlvEY1OmTNGqVat08MEH68orr9Trr78edp1jjz027Oe2me6PP/5YlZWVys/Pl8vlksvlUs+ePdXU1KRNmza132bEiBFyOp3tP5900kkaNGiQDjzwQF100UV69tlnQ0pd97R+/XplZGTo+9//fvtlxcXFOvjgg9vjkKTc3FwddNBB7T/369cv6mzv+vXrdeyxx4a8NhUVFaqvr9dXX33V4e0icTqdGjlyZMhlO3fu1GWXXaYhQ4aosLBQhYWFqq+v15YtW/bpviVp2LBhcjgc7T/v+dw2bNigjIwMHXHEEe3Hy8rK1KNHj5jv/5133tFJJ52kAw44QPn5+br44otVXV3dXp592mmnKSMjo72Md/78+crPz9fJJ58saf/PA0lauXKlzjrrLA0aNEj5+fk64YQTJKn9ddqwYYOOPvrokNt873vfC/n5448/1rx589of2+Vy6ZRTTlEwGNTmzZs7fN4DBw7UgP/f3p3HN1Ul/B//pku6Ny0NLVQLFFsRLFUEBsrqCi5sygwOMB1QBvVBQBRG1JlRFIZNRUcY1HlmBPWHojOIKyIoyiqKCLIIWBQFpCyFNt2bLvn9wTSPoW0S0oR0+bxfr74095ybe+5tEvrNOfeciy+2P87IyFBVVZUOHDgg6ez74+DBg9q6dask6aWXXtKIESMUERHh8bW8UH75ekxISFB4eLjat2/vsK36NfTtt9+qtLRUN9xwg8M1fOWVVxx+f3XZt2+fevbs6fBeOvdzwx3uvmd+eW4RERGKioo6r5EddfnVr36lyy+/XK+88ook6dVXX1WbNm2cjsKp5uyzdN++fUpKSlJSUpJ9W6dOnRQTE+PwGVbNYrEoOzvb4RoGBQWpW7du9Tk9AM0MM30AwAW0b98+JScn11p21VVX6dChQ/rwww/18ccfa8SIEbr++utd3stZ/cd1VVWVunbtWmPosSS1bNnS/v/nhpSoqCh9/fXX+uyzz7RmzRo9+uijmjFjhrZt2+awnJKkOu9jPPfLhODg4BptrGvf2vb/5bHq+pKiLmFhYTX2GTt2rE6dOqVnn31Wbdu2VUhIiDIyMjyaQKy2c6uerM3Z9XHHTz/9pJtvvln33HOPZs6cqRYtWmjTpk0aN26cffi+0WjUr3/9a7322mv67W9/q9dee0233367ffIuT18HRUVFGjBggAYMGKD/9//+n1q2bKnDhw9r4MCB9uvk7PdUraqqSnfffbcmT55c4/ht2rRx6zpI//d7r/5vfHy8Bg8erCVLlqh9+/ZatWqVPvvsszr3d+daXii/fM1Ur2rwS798DVX/94MPPtBFF13kUM+dSRfdea0FBATUqHfuNXH3PePsXOrrD3/4gxYtWqSHHnpIS5Ys0R133OHW54Gzz9K6vvh09oUoANQXoRsALpB169Zp9+7duv/+++usEx0drdtvv1233367fv3rX+vGG2/UmTNn1KJFC0nS1q1b9fvf/95ef+vWrerSpYuks39ovvHGG4qPj1d0dPR5tS0oKEjXX3+9rr/+ej322GOKiYnRunXrdNtttznU69SpkyoqKvTFF1/Y72E9ffq0vvvuO3Xs2PG8jnnu865YscLhD98tW7YoKiqqRvDwxMaNG7V48WLdfPPNks7e95qTk+NQJzg4WJWVlfU6zmWXXaaKigrt2LFDXbt2lXT2XuVzl0yqy1dffaWKigo9/fTTCgg4OxjtzTffrFFv9OjRGjBggPbu3atPP/3UYfklT18H+/fvV05OjubOnWvvBfzqq69qnN+qVatqtPmXrrrqKu3du1cpKSluH1s625t+7NgxJSYmSpI+//xzBQQE2Cd5k86GsN/+9re6+OKLdckll6h37951Pp+719JTRqOx3q+X2lRPAHj48GH179/fo/3PXfquenRAtZYtW+r48eMO77dz1xZ35z3jSvVIClfXqa5r+bvf/U4PPvignnvuOe3du1djxoxx+9h1fZZ26tRJhw8f1pEjR+yv82+//VYWi6XWzzCTyaTWrVtr69at9l72iooKbd++3WFECwA4w/ByAPCBsrIyHT9+XD///LO+/vprzZ49W0OHDtWgQYMcQvMvPfPMM1q+fLn279+v7777Tv/+97/VqlUrh97mf//733rppZf03Xff6bHHHtOXX35pn6Bq9OjRMpvNGjp0qDZu3KhDhw5p/fr1uu+++5wO0X7//ff13HPPaefOnfrpp5/0yiuvqKqqSh06dKhRNzU1VUOHDtX48eO1adMm+4RuF110kYYOHerx9ZowYYKOHDmiSZMmaf/+/XrnnXf02GOP6YEHHrAHpvpISUnRq6++qn379umLL77Q6NGjFRYW5lCnXbt2+uSTT3T8+HHl5uZ6dJzLLrtM119/ve666y59+eWX2rFjh+66665ae99rc8kll6iiokILFy7UDz/8oFdffVUvvPBCjXr9+/dXQkKCRo8erXbt2qlnz572Mk9fB23atJHRaLQf+913362xPvvdd9+t/fv3a/r06fruu+/05ptv2ieRqz6/6dOn6/PPP9e9996rnTt3KisrS++++64mTZrk9NxDQ0M1ZswYffPNN9q4caMmT56sESNGqFWrVvY6AwcOlMlk0qxZs5xOoHY+19JT7dq1065du3TgwAHl5OR4rfc8KipK06ZN0/3336+XX35Z33//vXbs2KG///3vevnll13uf8899+j777/XAw88oAMHDui1115zmOhPOjtj+KlTpzR//nx9//33+vvf/64PP/zQoY477xlX2rZtK4PBoPfff1+nTp2qc+b4du3aacOGDfr5558dgn1sbKxuu+02/fGPf9SAAQMcbj9wxtln6fXXX6/09HSNHj1aX3/9tb788kv9/ve/V//+/escMn7fffdp7ty5Wrlypfbv368JEya4/UUaAEiEbgDwidWrV6t169Zq166dbrzxRn366ad67rnn9M477zjcD/xLkZGRmjdvnrp166bu3bvrxx9/1KpVqxxC5+OPP67ly5crPT1dL7/8spYtW6ZOnTpJOnsf9YYNG9SmTRvddttt6tixo+68806VlJQ47fGMiYnRW2+9pWuvvVYdO3bUCy+8oNdff12XX355rfWXLFmirl27atCgQcrIyJDNZtOqVatqDDM9HxdddJFWrVqlL7/8UldccYXuuecejRs3Tn/+8589fs5feumll5Sbm6suXbooMzNTkydPVnx8vEOdp59+WmvXrlVSUpJ99IAnXnnlFSUkJKhfv3669dZbNX78eEVFRSk0NNTlvldeeaUWLFigefPmKS0tTcuWLXNY6qiawWDQyJEj9c0332j06NEOZZ6+Dlq2bKmlS5fq3//+tzp16qS5c+fqqaeecqiTnJys//znP3rrrbeUnp6u559/3j57efXQ5/T0dK1fv15ZWVnq27evunTpor/85S9q3bq103NPSUmxz7o9YMAApaWlafHixQ51AgICNHbsWFVWVtb55VU1d6+lp8aPH68OHTqoW7duatmypTZv3uy15545c6YeffRRzZkzRx07dtTAgQP13nvv1Xlryi+1adNGK1as0HvvvacrrrhCL7zwgmbPnu1Qp2PHjlq8eLH+/ve/64orrtCXX35ZY3UBd94zrlx00UV6/PHH9dBDDykhIaHOGeyfeOIJ/fjjj7rkkkscboGQpHHjxslqterOO+90+7jOPkurl2mMjY1Vv379dP3116t9+/Z644036ny+qVOn6ve//73Gjh2rjIwMRUVF6dZbb3W7PQBgsLl7oxkAwK8MBoNWrlypYcOG+bspOA9Hjx5VUlKSPv74Y1133XX+bo7X/fWvf9ULL7ygI0eOXJDjjR8/XidOnLBPJAfXPvvsM11zzTXKzc2tMU9DQ7ds2TLdd999OnbsWI2J/wCgseCebgAAvGjdunUqLCxU586dlZ2drQcffFDt2rVza9blxmDx4sXq3r274uLitHnzZj355JMu1+D2BovFom3btmnZsmV65513fH48+FdxcbEOHTqkOXPm6O677yZwA2jUGF4OAIAXlZeX65FHHtHll1+uW2+9VS1bttRnn32m4OBgLVu2zGEZqF/+1DWcv6HJysrS0KFD1alTJ82cOVNTp07VjBkzfH7coUOHasiQIbr77rt1ww03+Px4df2eIiMjtXHjRp8fvy733HNPne265557/NYub5s/f76uvPJKJSQk6OGHH3Yomz17dp3X4KabbvJTiwGgbgwvBwDgAikoKNCJEydqLQsODlbbtm0vcItQl4MHD9ZZdtFFF533pGLecvLkSeXn59daFh0dfd73XTdGZ86c0ZkzZ2otCwsL88qKBwDgTYRuAAAAAAB8hOHlAAAAAAD4CBOpeVFVVZWOHTumqKgot9ZjBQAAAAA0TjabTQUFBUpMTHRY4vVchG4vOnbsmJKSkvzdDAAAAADABXLkyBFdfPHFdZYTur0oKipK0tmLHh0d7efWAAAAAAB8JT8/X0lJSfYcWBdCtxdVDymPjo4mdAMAAABAM+Dq1mImUgMAAAAAwEcI3QAAAAAA+AihGwAAAAAAHyF0AwAAAADgI4RuAAAAAAB8hNANAAAAAICPELoBAAAAAPARQjcAAAAAAD5C6AYAAAAAwEcI3QAAAAAA+AihGwAAAAAAHyF0AwAAAADgI0H+bgAAAAAAwDssxVblFFqVX1qu6LBgmSOMMoUb/d2sZo3QDQAAAABNwLG8Ek1fsUsbs3Ls2/qlmjV3eLoSY8L82LLmjeHlAAAAANDIWYqtNQK3JG3IytFDK3bJUmz1U8tA6AYAAACARi6n0FojcFfbkJWjnEJCt78QugEAAACgkcsvLXdaXuCiHL5D6AYAAACARi46NNhpeZSLcvgOoRsAAAAAGjlzpFH9Us21lvVLNcscyQzm/kLoBgAAAIBGzhRu1Nzh6TWCd79Us+YNT2fZMD9iyTAAAAAAaAISY8K0cGQX5RRaVVBarqjQYJkjWafb3wjdAAAAANBEmMIJ2Q0Nw8sBAAAAAPARQjcAAAAAAD5C6AYAAAAAwEe4pxsAAAAAYGcptiqn0Kr80nJFhwXLHMF94vVB6AYAAAAASJKO5ZVo+opd2piVY9/WL9WsucPTlRgT5seWNV4MLwcAAAAAyFJsrRG4JWlDVo4eWrFLlmKrn1rWuBG6AQAAAADKKbTWCNzVNmTlKKeQ0O0JQjcAAAAAQPml5U7LC1yUo3aEbgAAAACAokODnZZHuShH7QjdAAAAAACZI43ql2qutaxfqlnmSGYw9wShGwAAAAAgU7hRc4en1wje/VLNmjc8nWXDPMSSYQAAAAAASVJiTJgWjuyinEKrCkrLFRUaLHMk63TXB6EbAAAAAJoIS7FVOYVW5ZeWKzosWOaI8w/MpnBCtjcRugEAAACgCTiWV1Jjne1+qWbNHZ6uxJgwP7aseeOebgAAAABo5CzF1hqBWzq7vvZDK3bJUswa2/5C6AYAAACARi6n0FojcFfbkJWjnEJCt78QugEAAACgkcsvLXdaXuCiHL7j19D9/PPPKz09XdHR0YqOjlZGRoY+/PBDe7nNZtOMGTOUmJiosLAwXX311dq7d6/Dc5SVlWnSpEkym82KiIjQkCFDdPToUYc6ubm5yszMlMlkkslkUmZmpvLy8hzqHD58WIMHD1ZERITMZrMmT54sq5VvgwAAAAA0fNGhwU7Lo1yUw3f8GrovvvhizZ07V1999ZW++uorXXvttRo6dKg9WM+fP18LFizQokWLtG3bNrVq1Uo33HCDCgoK7M8xZcoUrVy5UsuXL9emTZtUWFioQYMGqbKy0l5n1KhR2rlzp1avXq3Vq1dr586dyszMtJdXVlbqlltuUVFRkTZt2qTly5drxYoVmjp16oW7GAAAAADgIXOkscb62tX6pZpljmQ2cn8x2Gw2m78b8UstWrTQk08+qTvvvFOJiYmaMmWKpk+fLulsr3ZCQoLmzZunu+++WxaLRS1bttSrr76q22+/XZJ07NgxJSUladWqVRo4cKD27dunTp06aevWrerRo4ckaevWrcrIyND+/fvVoUMHffjhhxo0aJCOHDmixMRESdLy5cs1duxYnTx5UtHR0W61PT8/XyaTSRaLxe19AAAAAMAbjuWV6KEVu7ThnNnL5w1PV2tmL/c6d/Nfg1kyrLKyUv/+979VVFSkjIwMHTp0SMePH9eAAQPsdUJCQtS/f39t2bJFd999t7Zv367y8nKHOomJiUpLS9OWLVs0cOBAff755zKZTPbALUk9e/aUyWTSli1b1KFDB33++edKS0uzB25JGjhwoMrKyrR9+3Zdc801tba5rKxMZWVl9sf5+fnevCQAAAAA4LbEmDAtHNlFOYVWFZSWKyo0WOZI1tz2N7+H7t27dysjI0OlpaWKjIzUypUr1alTJ23ZskWSlJCQ4FA/ISFBP/30kyTp+PHjMhqNio2NrVHn+PHj9jrx8fE1jhsfH+9Q59zjxMbGymg02uvUZs6cOXr88cfP84wBAAAAwDdM4YTshsbvs5d36NBBO3fu1NatW/U///M/GjNmjL799lt7ucFgcKhvs9lqbDvXuXVqq+9JnXM9/PDDslgs9p8jR444bRcAAAAAoHnxe+g2Go1KSUlRt27dNGfOHF1xxRX629/+platWklSjZ7mkydP2nulW7VqJavVqtzcXKd1Tpw4UeO4p06dcqhz7nFyc3NVXl5eowf8l0JCQuwzr1f/AAAAAABQze+h+1w2m01lZWVKTk5Wq1attHbtWnuZ1WrV+vXr1atXL0lS165dFRwc7FAnOztbe/bssdfJyMiQxWLRl19+aa/zxRdfyGKxONTZs2ePsrOz7XXWrFmjkJAQde3a1afnCwAAAABouvx6T/cjjzyim266SUlJSSooKNDy5cv12WefafXq1TIYDJoyZYpmz56t1NRUpaamavbs2QoPD9eoUaMkSSaTSePGjdPUqVMVFxenFi1aaNq0aercubOuv/56SVLHjh114403avz48XrxxRclSXfddZcGDRqkDh06SJIGDBigTp06KTMzU08++aTOnDmjadOmafz48fReAwAAAAA85tfQfeLECWVmZio7O1smk0np6elavXq1brjhBknSgw8+qJKSEk2YMEG5ubnq0aOH1qxZo6ioKPtzPPPMMwoKCtKIESNUUlKi6667TkuXLlVgYKC9zrJlyzR58mT7LOdDhgzRokWL7OWBgYH64IMPNGHCBPXu3VthYWEaNWqUnnrqqQt0JQAAAAAATVGDW6e7MWOdbgAAAABoHtzNfw3unm4AAAAAAJoKQjcAAAAAAD5C6AYAAAAAwEcI3QAAAAAA+AihGwAAAAAAHyF0AwAAAADgI4RuAAAAAAB8hNANAAAAAICPELoBAAAAAPARQjcAAAAAAD5C6AYAAAAAwEcI3QAAAAAA+AihGwAAAAAAHyF0AwAAAADgI0H+bgAAAAAAoOGwFFuVU2hVfmm5osOCZY4wyhRu9HezGi1CNwAAAABAknQsr0TTV+zSxqwc+7Z+qWbNHZ6uxJgwP7as8WJ4OQAAAABAlmJrjcAtSRuycvTQil2yFFv91LLGjdANAAAAAFBOobVG4K62IStHOYWEbk8wvBwAAAAAmoj63I+dX1rutLzARTlqR+gGAAAAgCagvvdjR4cGOy2PclGO2jG8HAAAAAAaOW/cj22ONKpfqrnWsn6pZpkjmcHcE4RuAAAAAGjkvHE/tincqLnD02sE736pZs0bns6yYR5ieDkAAAAANHLeuh87MSZMC0d2UU6hVQWl5YoKDZY5knW664PQDQAAAACNnDfvxzaFE7K9ieHlAAAAANDIcT92w0XoBgAAAIBGjvuxGy6GlwMAAABAE8D92A0ToRsAAAAAmgjux254GF4OAAAAAICPELoBAAAAAPARQjcAAAAAAD5C6AYAAAAAwEcI3QAAAAAA+AihGwAAAAAAHyF0AwAAAADgI4RuAAAAAAB8hNANAAAAAICPELoBAAAAAPARQjcAAAAAAD5C6AYAAAAAwEcI3QAAAAAA+AihGwAAAAAAHyF0AwAAAADgI4RuAAAAAAB8hNANAAAAAICPELoBAAAAAPARQjcAAAAAAD5C6AYAAAAAwEf8GrrnzJmj7t27KyoqSvHx8Ro2bJgOHDjgUGfs2LEyGAwOPz179nSoU1ZWpkmTJslsNisiIkJDhgzR0aNHHerk5uYqMzNTJpNJJpNJmZmZysvLc6hz+PBhDR48WBERETKbzZo8ebKsVqtPzh0AAAAA0PT5NXSvX79e9957r7Zu3aq1a9eqoqJCAwYMUFFRkUO9G2+8UdnZ2fafVatWOZRPmTJFK1eu1PLly7Vp0yYVFhZq0KBBqqystNcZNWqUdu7cqdWrV2v16tXauXOnMjMz7eWVlZW65ZZbVFRUpE2bNmn58uVasWKFpk6d6tuLAAAAAABeYim26vuThdpxOFffnyqUpZhORH8z2Gw2m78bUe3UqVOKj4/X+vXr1a9fP0lne7rz8vL09ttv17qPxWJRy5Yt9eqrr+r222+XJB07dkxJSUlatWqVBg4cqH379qlTp07aunWrevToIUnaunWrMjIytH//fnXo0EEffvihBg0apCNHjigxMVGStHz5co0dO1YnT55UdHS0y/bn5+fLZDLJYrG4VR8AAAAAvOVYXommr9iljVk59m39Us2aOzxdiTFhfmxZ0+Ru/mtQ93RbLBZJUosWLRy2f/bZZ4qPj9ell16q8ePH6+TJk/ay7du3q7y8XAMGDLBvS0xMVFpamrZs2SJJ+vzzz2UymeyBW5J69uwpk8nkUCctLc0euCVp4MCBKisr0/bt22ttb1lZmfLz8x1+AAAAAOBCsxRbawRuSdqQlaOHVuyix9uPGkzottlseuCBB9SnTx+lpaXZt990001atmyZ1q1bp6efflrbtm3Ttddeq7KyMknS8ePHZTQaFRsb6/B8CQkJOn78uL1OfHx8jWPGx8c71ElISHAoj42NldFotNc515w5c+z3iJtMJiUlJXl+AQAAAADAQzmF1hqBu9qGrBzlFBK6/SXI3w2oNnHiRO3atUubNm1y2F49ZFyS0tLS1K1bN7Vt21YffPCBbrvttjqfz2azyWAw2B//8v/rU+eXHn74YT3wwAP2x/n5+QRvAAAAABdcfmm50/ICF+XwnQbR0z1p0iS9++67+vTTT3XxxRc7rdu6dWu1bdtWWVlZkqRWrVrJarUqNzfXod7JkyftPdetWrXSiRMnajzXqVOnHOqc26Odm5ur8vLyGj3g1UJCQhQdHe3wAwAAAAAXWnRosNPyKBfl8B2/hm6bzaaJEyfqrbfe0rp165ScnOxyn9OnT+vIkSNq3bq1JKlr164KDg7W2rVr7XWys7O1Z88e9erVS5KUkZEhi8WiL7/80l7niy++kMVicaizZ88eZWdn2+usWbNGISEh6tq1q1fOFwAAAAB8wRxpVL9Uc61l/VLNMkcaL3CLUM2vs5dPmDBBr732mt555x116NDBvt1kMiksLEyFhYWaMWOGhg8frtatW+vHH3/UI488osOHD2vfvn2KioqSJP3P//yP3n//fS1dulQtWrTQtGnTdPr0aW3fvl2BgYGSzt4bfuzYMb344ouSpLvuuktt27bVe++9J+nskmFXXnmlEhIS9OSTT+rMmTMaO3ashg0bpoULF7p1PsxeDgAAAMBfjuWV6KEVu7ThnNnL5w1PV2tmL/c6d/OfX0N3XfdKL1myRGPHjlVJSYmGDRumHTt2KC8vT61bt9Y111yjmTNnOtw7XVpaqj/+8Y967bXXVFJSouuuu06LFy92qHPmzBlNnjxZ7777riRpyJAhWrRokWJiYux1Dh8+rAkTJmjdunUKCwvTqFGj9NRTTykkJMSt8yF0AwAAAPAnS7FVOYVWFZSWKyo0WOZIo0zh9HL7QqMI3U0NoRsAAAAAmodGuU43AAAAAABNCaEbAAAAAAAfIXQDAAAAAOAjhG4AAAAAAHyE0A0AAAAAgI8QugEAAAAA8BFCNwAAAAAAPkLoBgAAAADARwjdAAAAAAD4CKEbAAAAAAAfIXQDAAAAAOAjhG4AAAAAAHyE0A0AAAAAgI8QugEAAAAA8JEgfzcAAAAAAOAdlmKrcgqtyi8tV3RYsMwRRpnCjf5uVrNG6AYAAACAJuBYXommr9iljVk59m39Us2aOzxdiTFhfmxZ88bwcgAAAABo5CzF1hqBW5I2ZOXooRW7ZCm2+qllIHQDAAAAQCOXU2itEbirbcjKUU4hodtfCN0AAAAA0Mjll5Y7LS9wUQ7fIXQDAAAAQCMXHRrstDzKRTl8h9ANAAAAAI2cOdKofqnmWsv6pZpljmQGc38hdAMAAABAI2cKN2ru8PQawbtfqlnzhqezbJgfsWQYAAAAADQBiTFhWjiyi3IKrSooLVdUaLDMkazT7W9uh+7Y2FgZDAa36p45c8bjBgEAAAAAPGMKJ2Q3NG6H7meffdb+/6dPn9asWbM0cOBAZWRkSJI+//xzffTRR/rLX/7i9UYCAAAAANAYGWw2m+18dxo+fLiuueYaTZw40WH7okWL9PHHH+vtt9/2Vvsalfz8fJlMJlksFkVHR/u7OQAAAAAAH3E3/3k0kdpHH32kG2+8scb2gQMH6uOPP/bkKQEAAAAAaHI8Ct1xcXFauXJlje1vv/224uLi6t0oAAAAAACaAo9mL3/88cc1btw4ffbZZ/Z7urdu3arVq1frn//8p1cbCAAAAABAY+VR6B47dqw6duyo5557Tm+99ZZsNps6deqkzZs3q0ePHt5uIwAAAAAAjZJHE6mhdkykBgAAAADNg7v5z+2e7vz8fLcPTuAEAAAAAOA8QndMTIwMBoPTOjabTQaDQZWVlfVuGAAAAAAAjZ3bofvTTz/1ZTsAAAAAAGhy3A7d/fv392U7AAAAAABocjyavVyS8vLy9K9//Uv79u2TwWBQp06ddOedd8pkMnmzfQAAAAAANFoBnuz01Vdf6ZJLLtEzzzyjM2fOKCcnRwsWLNAll1yir7/+2tttBAAAAACgUfJoybC+ffsqJSVF//u//6ugoLOd5RUVFfrDH/6gH374QRs2bPB6QxsDlgwDAAAAgObB3fznUegOCwvTjh07dNlllzls//bbb9WtWzcVFxeff4ubAEI3AAAAADQP7uY/j4aXR0dH6/DhwzW2HzlyRFFRUZ48JQAAAAAATY5Hofv222/XuHHj9MYbb+jIkSM6evSoli9frj/84Q8aOXKkt9sIAAAAAECj5NHs5U899ZQMBoN+//vfq6KiQpIUHBys//mf/9HcuXO92kAAAAAAABorj+7prlZcXKzvv/9eNptNKSkpCg8P92bbGh3u6QYAAACA5sGn93RXCw8PV+fOndWuXTutWbNG+/btq8/TAQAAAADQpHgUukeMGKFFixZJkkpKStStWzeNGDFC6enpWrFihVcbCAAAAABAY+VR6N6wYYP69u0rSVq5cqVsNpvy8vL03HPPadasWV5tIAAAAAAAjZVHodtisahFixaSpNWrV2v48OEKDw/XLbfcoqysLK82EAAAAACAxsqj0J2UlKTPP/9cRUVFWr16tQYMGCBJys3NVWhoqFcbCAAAAABAY+VR6J4yZYpGjx6tiy++WImJibr66qslnR123rlzZ7efZ86cOerevbuioqIUHx+vYcOG6cCBAw51bDabZsyYocTERIWFhenqq6/W3r17HeqUlZVp0qRJMpvNioiI0JAhQ3T06FGHOrm5ucrMzJTJZJLJZFJmZqby8vIc6hw+fFiDBw9WRESEzGazJk+eLKvV6v6FAQAAAADgFzwK3RMmTNDWrVv10ksvadOmTQoIOPs07du3P697utevX697771XW7du1dq1a1VRUaEBAwaoqKjIXmf+/PlasGCBFi1apG3btqlVq1a64YYbVFBQYK8zZcoUrVy5UsuXL9emTZtUWFioQYMGqbKy0l5n1KhR2rlzp1avXq3Vq1dr586dyszMtJdXVlbqlltuUVFRkTZt2qTly5drxYoVmjp1qieXCAAAAACA+q3T7Up0dLR27typ9u3bu1X/1KlTio+P1/r169WvXz/ZbDYlJiZqypQpmj59uqSzvdoJCQmaN2+e7r77blksFrVs2VKvvvqqbr/9dknSsWPHlJSUpFWrVmngwIHat2+fOnXqpK1bt6pHjx6SpK1btyojI0P79+9Xhw4d9OGHH2rQoEE6cuSIEhMTJUnLly/X2LFjdfLkyVrXXSsrK1NZWZn9cX5+vpKSklinGwAAAACauAuyTrcr55vnLRaLJNknaTt06JCOHz9uv2dckkJCQtS/f39t2bJFkrR9+3aVl5c71ElMTFRaWpq9zueffy6TyWQP3JLUs2dPmUwmhzppaWn2wC1JAwcOVFlZmbZv315re+fMmWMfrm4ymZSUlHRe5wsAAAAAaNp8GrrPh81m0wMPPKA+ffooLS1NknT8+HFJUkJCgkPdhIQEe9nx48dlNBoVGxvrtE58fHyNY8bHxzvUOfc4sbGxMhqN9jrnevjhh2WxWOw/R44cOd/TBgAAAAA0YUH+bkC1iRMnateuXdq0aVONMoPB4PDYZrPV2Hauc+vUVt+TOr8UEhKikJAQp+0AAAAAADRfDaKne9KkSXr33Xf16aef6uKLL7Zvb9WqlSTV6Gk+efKkvVe6VatWslqtys3NdVrnxIkTNY576tQphzrnHic3N1fl5eU1esABAAAAAHCHT0O3O73REydO1FtvvaV169YpOTnZoTw5OVmtWrXS2rVr7dusVqvWr1+vXr16SZK6du2q4OBghzrZ2dnas2ePvU5GRoYsFou+/PJLe50vvvhCFovFoc6ePXuUnZ1tr7NmzRqFhISoa9euHl4BAAAAAEBz5tPh5a4mUrv33nv12muv6Z133lFUVJS9p9lkMiksLEwGg0FTpkzR7NmzlZqaqtTUVM2ePVvh4eEaNWqUve64ceM0depUxcXFqUWLFpo2bZo6d+6s66+/XpLUsWNH3XjjjRo/frxefPFFSdJdd92lQYMGqUOHDpKkAQMGqFOnTsrMzNSTTz6pM2fOaNq0aRo/fjwzkQMAAAAAPOJR6P7ss8909dVXu6z34Ycf6qKLLqqz/Pnnn5ekGs+1ZMkSjR07VpL04IMPqqSkRBMmTFBubq569OihNWvWKCoqyl7/mWeeUVBQkEaMGKGSkhJdd911Wrp0qQIDA+11li1bpsmTJ9tnOR8yZIgWLVpkLw8MDNQHH3ygCRMmqHfv3goLC9OoUaP01FNPuTxPAAAAAABq49E63aGhobrooot0xx13aMyYMSyV9V/urtMGAAAAAGjcfLpO97Fjx3TffffprbfeUnJysgYOHKg333xTVqvV4wYDAAAAANDUeBS6W7RoocmTJ+vrr7/WV199pQ4dOujee+9V69atNXnyZH3zzTfebicAAAAAAI1OvWcvv/LKK/XQQw/p3nvvVVFRkV566SV17dpVffv21d69e73RRgAAAAAAGiWPQ3d5ebn+85//6Oabb1bbtm310UcfadGiRTpx4oQOHTqkpKQk/eY3v/FmWwEAAAAAaFQ8mr180qRJev311yVJv/vd7zR//nylpaXZyyMiIjR37ly1a9fOK40EAAAAAKAx8ih0f/vtt1q4cKGGDx8uo9FYa53ExER9+umn9WocAAAAAACNmUfDyx977DH95je/qRG4KyoqtGHDBklSUFCQ+vfvX/8WAgAAAADQSHkUuq+55hqdOXOmxnaLxaJrrrmm3o0CAAAAAKAp8Ch022w2GQyGGttPnz6tiIiIejcKAAAAAICm4Lzu6b7tttskSQaDQWPHjlVISIi9rLKyUrt27VKvXr2820IAAAAAABqp8wrdJpNJ0tme7qioKIWFhdnLjEajevbsqfHjx3u3hQAAAAAANFLnFbqXLFkiSWrXrp2mTZvGUHIAAAAAAJww2Gw2m78b0VTk5+fLZDLJYrEoOjra380BAAAAAPiIu/nP7Z7uq666Sp988oliY2PVpUuXWidSq/b111+fX2sBAAAAAGiC3A7dQ4cOtU+cNnToUKehGwAAAAAAMLzcqxheDgAAAADNg7v5z6N1utu3b6/Tp0/X2J6Xl6f27dt78pQAAAAAADQ5HoXuH3/8UZWVlTW2l5WV6ejRo/VuFAAAAAAATcF5LRn27rvv2v//o48+sq/bLUmVlZX65JNPlJyc7L3WAQAAAADQiJ1X6B42bJgkyWAwaMyYMQ5lwcHBateunZ5++mmvNQ4AAAAAgMbsvEJ3VVWVJCk5OVnbtm2T2Wz2SaMAAAAAAGgKzit0Vzt06JC32wEAAAAAQJPjUeiWpE8++USffPKJTp48ae8Br/bSSy/Vu2EAAAAAADR2HoXuxx9/XE888YS6deum1q1by2AweLtdAAAAAAA0eh6F7hdeeEFLly5VZmamt9sDAAAAAECT4dE63VarVb169fJ2WwAAAAAAaFI8Ct1/+MMf9Nprr3m7LQAAAAAANCkeDS8vLS3VP/7xD3388cdKT09XcHCwQ/mCBQu80jgAAAAAABozj0L3rl27dOWVV0qS9uzZ41DGpGoAAAAAAJzlUej+9NNPvd0OAAAAAACaHI/u6QYAAAAAAK551NMtSdu2bdO///1vHT58WFar1aHsrbfeqnfDAAAAAABo7Dzq6V6+fLl69+6tb7/9VitXrlR5ebm+/fZbrVu3TiaTydttBAAAAACgUfIodM+ePVvPPPOM3n//fRmNRv3tb3/Tvn37NGLECLVp08bbbQQAAAAAoFHyKHR///33uuWWWyRJISEhKioqksFg0P33369//OMfXm0gAAAAAACNlUehu0WLFiooKJAkXXTRRfZlw/Ly8lRcXOy91gEAAAAA0Ih5NJFa3759tXbtWnXu3FkjRozQfffdp3Xr1mnt2rW67rrrvN1GAAAAAAAaJY9C96JFi1RaWipJevjhhxUcHKxNmzbptttu01/+8hevNhAAAAAAgMbKYLPZbP5uRFORn58vk8kki8Wi6OhofzcHAAAAAOAj7uY/j3q6Dx8+7LScGcwBAAAA4PxZiq3KKbQqv7Rc0WHBMkcYZQo3+rtZqAePQne7du1kMBjqLK+srPS4QQAAAADQHB3LK9H0Fbu0MSvHvq1fqllzh6crMSbMjy27sJraFw8ehe4dO3Y4PC4vL9eOHTu0YMEC/fWvf/VKwwAAAACgubAUW2sEbknakJWjh1bs0sKRXdwKno09sDbFLx48Ct1XXHFFjW3dunVTYmKinnzySd122231bhgAAAAANBc5hdYagbvahqwc5RRaXYbnxh5YvfXFQ0Pj0Trddbn00ku1bds2bz4lAAAAADR5+aXlTssLXJS7CqyWYmu92+hr7nzx0Bh51NOdn5/v8Nhmsyk7O1szZsxQamqqVxoGAAAAAM1FdGiw0/IoF+Xe6Cn3t/p+8dBQeRS6Y2JiakykZrPZlJSUpOXLl3ulYQAAAADQXJgjjeqXataGWoJzv1SzzJHOA3NTCKz1/eKhofIodH/66acOjwMCAtSyZUulpKQoKMijpwQAAACAZssUbtTc4el6aMUuh+DdL9WsecPTXfZSN4XAWt8vHhoqj+7p7t+/v8NP3759ddlll5134N6wYYMGDx6sxMREGQwGvf322w7lY8eOlcFgcPjp2bOnQ52ysjJNmjRJZrNZERERGjJkiI4ePepQJzc3V5mZmTKZTDKZTMrMzFReXp5DncOHD2vw4MGKiIiQ2WzW5MmTZbU2znsGAAAAADQ+iTFhWjiyiz55oL/entBLnzzQXwtHdlFrNyZBqw6stWksgbX6i4dzz8PdLx4aKo+6pd9991236w4ZMqTOsqKiIl1xxRW64447NHz48Frr3HjjjVqyZIn9sdHoeKGnTJmi9957T8uXL1dcXJymTp2qQYMGafv27QoMDJQkjRo1SkePHtXq1aslSXfddZcyMzP13nvvSTq7rvgtt9yili1batOmTTp9+rTGjBkjm82mhQsXun2uAAAAAFAfpnDPlviqb095Q1H9xUNOoVUFpeWKCg2WObJxLXt2LoPNZrOd704BAQEyGAw6d9dztxkMBlVWVrrXEINBK1eu1LBhw+zbxo4dq7y8vBo94NUsFotatmypV199Vbfffrsk6dixY0pKStKqVas0cOBA7du3T506ddLWrVvVo0cPSdLWrVuVkZGh/fv3q0OHDvrwww81aNAgHTlyRImJiZKk5cuXa+zYsTp58qSio6PdOof8/HyZTCZZLBa39wEAAAAAbzmRX6rcIqvySysUHRak2HCjEqJD/d2sJsnd/OfR8PI1a9boyiuv1Icffqi8vDxZLBZ9+OGHuuqqq/TRRx+pqqpKVVVVbgduZz777DPFx8fr0ksv1fjx43Xy5El72fbt21VeXq4BAwbYtyUmJiotLU1btmyRJH3++ecymUz2wC1JPXv2lMlkcqiTlpZmD9ySNHDgQJWVlWn79u11tq2srEz5+fkOPwAAAADgD8fySjTt39/oxr9t1IgXP9eNz27UH//9jY7llfi7ac2aR6F7ypQp+tvf/qaBAwcqOjpaUVFRGjhwoBYsWKDJkyd7rXE33XSTli1bpnXr1unpp5/Wtm3bdO2116qsrEySdPz4cRmNRsXGxjrsl5CQoOPHj9vrxMfH13ju+Ph4hzoJCQkO5bGxsTIajfY6tZkzZ479PnGTyaSkpKR6nS8AAAAAeKIprNPdVHl0T/f3338vk8lUY7vJZNKPP/5Y3zbZVQ8Zl6S0tDR169ZNbdu21QcffKDbbrutzv1sNpvDkmbnLm/maZ1zPfzww3rggQfsj/Pz8wneAAAAAC64prBOd1PlUU939+7dNWXKFGVnZ9u3HT9+XFOnTtWvfvUrrzXuXK1bt1bbtm2VlZUlSWrVqpWsVqtyc3Md6p08edLec92qVSudOHGixnOdOnXKoc65Pdq5ubkqLy+v0QP+SyEhIYqOjnb4AQAAAIALrSms091UeRS6X3rpJZ08eVJt27ZVSkqKUlJS1KZNG2VnZ+tf//qXt9tod/r0aR05ckStW7eWJHXt2lXBwcFau3atvU52drb27NmjXr16SZIyMjJksVj05Zdf2ut88cUXslgsDnX27Nnj8CXCmjVrFBISoq5du/rsfAAAAADAG5rCOt1NlUfDy1NSUrRr1y6tXbtW+/fvl81mU6dOnXT99dc7HY59rsLCQh08eND++NChQ9q5c6datGihFi1aaMaMGRo+fLhat26tH3/8UY888ojMZrNuvfVWSWeHs48bN05Tp05VXFycWrRooWnTpqlz5866/vrrJUkdO3bUjTfeqPHjx+vFF1+UdHbJsEGDBqlDhw6SpAEDBqhTp07KzMzUk08+qTNnzmjatGkaP348vdcAAAAAGrzqdbo31DLEvLGs091UebRkmLs6d+6sVatW1Xmf82effaZrrrmmxvYxY8bo+eef17Bhw7Rjxw7l5eWpdevWuuaaazRz5kyH5ystLdUf//hHvfbaayopKdF1112nxYsXO9Q5c+aMJk+ebF9ffMiQIVq0aJFiYmLsdQ4fPqwJEyZo3bp1CgsL06hRo/TUU08pJCTE7fNlyTAAAAAA/nIsr6TOdbpbx4T5sWVNk7v5z6ehOyoqSt98843at2/vq0M0KIRuAAAAAP5kKbYqp9CqgtJyRYUGyxxpZAI1H3E3/3k0vBwAAAAA0PCYwgnZDY1HE6kBAAAAAADXCN0AAAAAAPgIoRsAAAAAAB8hdAMAAAAA4CP1Dt2lpaV1lr344otKSEio7yEAAAAAAGiUPArdVVVVmjlzpi666CJFRkbqhx9+kCT95S9/0b/+9S97vVGjRikiIsI7LQUAAAAAoJHxKHTPmjVLS5cu1fz582U0/t909J07d9Y///lPrzUOAAAAAIDGzKPQ/corr+gf//iHRo8ercDAQPv29PR07d+/32uNAwAAAAC4z1Js1fcnC7XjcK6+P1UoS7HV301q9oI82ennn39WSkpKje1VVVUqLy+vd6MAAAAAAOfnWF6Jpq/YpY1ZOfZt/VLNmjs8XYkxYX5sWfPmUU/35Zdfro0bN9bY/u9//1tdunSpd6MAAAAAAO6zFFtrBG5J2pCVo4dW7KLH24886ul+7LHHlJmZqZ9//llVVVV66623dODAAb3yyit6//33vd1GAAAAAIATOYXWGoG72oasHOUUWmUKN9ZaDt/yqKd78ODBeuONN7Rq1SoZDAY9+uij2rdvn9577z3dcMMN3m4jAAAAAMCJ/FLnt/kWuCiH73jU0y1JAwcO1MCBA73ZFgAAAACAB6JDg52WR7koh+94HLqrFRYWqqqqymFbdHR0fZ8WAAAAAOAmc6RR/VLN2lDLEPN+qWaZIxla7i8eDS8/dOiQbrnlFkVERMhkMik2NlaxsbGKiYlRbGyst9sIAAAAAHDCFG7U3OHp6pdqdtjeL9WsecPTz+t+bpYd8y6PerpHjx4tSXrppZeUkJAgg8Hg1UYBAAAAAM5PYkyYFo7sopxCqwpKyxUVGixzpPG8AjfLjnmfwWaz2c53p8jISG3fvl0dOnTwRZsarfz8fJlMJlksFobYAwAAAGhULMVWTXx9R62zoPdLNWvhyC7MgP4L7uY/j4aXd+/eXUeOHPG4cQAAAACAhsWdZcdw/jwaXv7Pf/5T99xzj37++WelpaUpONhxJrz09HSvNA4AAAAAcGGw7JhveBS6T506pe+//1533HGHfZvBYJDNZpPBYFBlZaXXGggAAAAA8D2WHfMNj0L3nXfeqS5duuj1119nIjUAAAAAaAJYdsw3PJpILSIiQt98841SUlJ80aZGi4nUAAAAADRmx/NK9OOZYkWEBKqwtFJRoUEqLKtQcotwJTB7uQN3859HPd3XXnstoRsAAAAAmhhrZZUWrsvS5oOn7dv6pMRp9q2d/diqxs2j0D148GDdf//92r17tzp37lxjIrUhQ4Z4pXEAAAAAgAvjRH6pHl652yFwS9Kmg6f1yMrdenrElUqIDvVT6xovj4aXBwTUvdJYc55IjeHlAAAAABqr/dn5uvFvG+ssX31fX13WmpxTzafDy6uqqjxuGAAAAACg4ckvrahXOWpXd5c1AAAAAKDZiA513ifrqhy1c/uqPffcc7rrrrsUGhqq5557zmndyZMn17thAAAAAIALJzbCqD4pcdp0zj3d0tnJ1GIjWDLME27f052cnKyvvvpKcXFxSk5OrvsJDQb98MMPXmtgY8I93QAAAAAas8Oni/TIyt0Owbt69vI2cRF+bFnD427+82giNdSO0A0AAACgsTuRX6rcIqvySysUHRqk2Agjs5bXwt3859E93U888YSKi4trbC8pKdETTzzhyVMCAAAAABqAhOhQXdY6Wr9KbqHLWkcTuOvJo57uwMBAZWdnKz4+3mH76dOnFR8fz5Jh9HQDAAAAQJPm055um80mg8FQY/s333yjFi1aePKUAAAAAAA0Oec153tsbKwMBoMMBoMuvfRSh+BdWVmpwsJC3XPPPV5vJAAAAAAAjdF5he5nn31WNptNd955px5//HGZTCZ7mdFoVLt27ZSRkeH1RgIAAAAA0BidV+geM2aMpLPLh/Xu3VtBQc53nzt3ru655x7FxMR43EAAAAAAABorj+7p7t+/v8vALUmzZ8/WmTNnPDkEAAAAAACNnkeh210sAQ4AAAAAaM58GroBAAAAAGjOzuuebgAAAABA02Yptiqn0Kr80nJFhwXLHGGUKdzo72Y1WoRuAAAAAGgi6huYj+WVaPqKXdqYlWPf1i/VrLnD05UYE+aLJjd5hG4AAAAAaALqG5gtxdYa+0vShqwcPbRilxaO7EKPtwd8ek933759FRbGtyEAAAAA4EuuArOl2OryOXIKrTX2/+Xz5BS6fg7U5HZPd35+vttPGh0dLUlatWrV+bcIAAAAAHBe3AnMrnqp80vLnZYXuChH7dwO3TExMTIYDE7r2Gw2GQwGVVZW1rthAAAAAAD3eCMwR4cGOy2PclGO2rkduj/99FNftgMAAAAA4CFvBGZzpFH9Us3aUEuPeb9Us8yR3M/tCbdDd//+/X3ZDgAAAACAh7wRmE3hRs0dnq6HVuxyeJ5+qWbNG57OJGoecnsitV27drn9464NGzZo8ODBSkxMlMFg0Ntvv+1QbrPZNGPGDCUmJiosLExXX3219u7d61CnrKxMkyZNktlsVkREhIYMGaKjR4861MnNzVVmZqZMJpNMJpMyMzOVl5fnUOfw4cMaPHiwIiIiZDabNXnyZFmtTBQAAAAAoOGrDsz9Us0O2883MCfGhGnhyC765IH+entCL33yQH8tHNlFrVkuzGNu93RfeeWVMhgMstlsTuudzz3dRUVFuuKKK3THHXdo+PDhNcrnz5+vBQsWaOnSpbr00ks1a9Ys3XDDDTpw4ICioqIkSVOmTNF7772n5cuXKy4uTlOnTtWgQYO0fft2BQYGSpJGjRqlo0ePavXq1ZKku+66S5mZmXrvvfckSZWVlbrlllvUsmVLbdq0SadPn9aYMWNks9m0cOFCdy8RAAAAAPhNdWDOKbSqoLRcUaHBMkee3zrd0tkAT6+29xhsrlL0f/30009uP2nbtm3PvyEGg1auXKlhw4ZJOtvLnZiYqClTpmj69OmSzvZqJyQkaN68ebr77rtlsVjUsmVLvfrqq7r99tslSceOHVNSUpJWrVqlgQMHat++ferUqZO2bt2qHj16SJK2bt2qjIwM7d+/Xx06dNCHH36oQYMG6ciRI0pMTJQkLV++XGPHjtXJkyfts7Gfq6ysTGVlZfbH+fn5SkpKksViqXMfAAAAAEDjl5+fL5PJ5DL/uT28vG3btjV+ioqKtG/fPn3zzTf2n/MZXu7MoUOHdPz4cQ0YMMC+LSQkRP3799eWLVskSdu3b1d5eblDncTERKWlpdnrfP755zKZTPbALUk9e/aUyWRyqJOWlmYP3JI0cOBAlZWVafv27XW2cc6cOfYh6yaTSUlJSV45dwAAAABA0+D28PJf+uGHH3Trrbdq9+7dDkPOq5cU88aSYcePH5ckJSQkOGxPSEiw97ofP35cRqNRsbGxNepU73/8+HHFx8fXeP74+HiHOuceJzY2Vkaj0V6nNg8//LAeeOAB++Pqnm4AAAAAAKTz6On+pfvuu0/Jyck6ceKEwsPDtWfPHm3YsEHdunXTZ5995tUGnrs2ePVa4M6cW6e2+p7UOVdISIiio6MdfgAAAAAAqOZR6P7888/1xBNPqGXLlgoICFBgYKD69OmjOXPmaPLkyV5pWKtWrSSpRk/zyZMn7b3SrVq1ktVqVW5urtM6J06cqPH8p06dcqhz7nFyc3NVXl5eowccAAAAAAB3eRS6KysrFRkZKUkym806duyYpLP3fR84cMArDUtOTlarVq20du1a+zar1ar169erV69ekqSuXbsqODjYoU52drb27Nljr5ORkSGLxaIvv/zSXueLL76QxWJxqLNnzx5lZ2fb66xZs0YhISHq2rWrV84HAAAAAND8eHRPd1pamnbt2qX27durR48emj9/voxGo/7xj3+offv2bj9PYWGhDh48aH986NAh7dy5Uy1atFCbNm00ZcoUzZ49W6mpqUpNTdXs2bMVHh6uUaNGSZJMJpPGjRunqVOnKi4uTi1atNC0adPUuXNnXX/99ZKkjh076sYbb9T48eP14osvSjq7ZNigQYPUoUMHSdKAAQPUqVMnZWZm6sknn9SZM2c0bdo0jR8/niHjAAAAAACPeRS6//znP6uoqEiSNGvWLA0aNEh9+/ZVXFyc3njjDbef56uvvtI111xjf1w9KdmYMWO0dOlSPfjggyopKdGECROUm5urHj16aM2aNfY1uiXpmWeeUVBQkEaMGKGSkhJdd911Wrp0qX2NbklatmyZJk+ebJ/lfMiQIVq0aJG9PDAwUB988IEmTJig3r17KywsTKNGjdJTTz3lyeUBAAAAAEDSeazT7cqZM2cUGxvrcpKzpszdddoAAAAAAI2bu/nPo57u2rRo0cJbTwUAAAAAQJPg0URqAAAAAADANUI3AAAAAAA+QugGAAAAAMBHCN0AAAAAAPgIoRsAAAAAAB8hdAMAAAAA4COEbgAAAAAAfMRr63QDAAAAABo/S7FVOYVW5ZeWKzosWOYIo0zhRn83q9EidAMAAAAAJEnH8ko0fcUubczKsW/rl2rW3OHpSowJ82PLGi+GlwMAAAAAZCm21gjckrQhK0cPrdglS7H1grXj+5OF2nE4V9+fKrxgx/UVeroBAAAAAMoptNYI3NU2ZOUop9Dq82HmTbGnnZ5uAAAAAIDyS8udlhe4KK+vhtLT7m2EbgAAAACAIkOcD4SOcFFeX+70tDdGhG4AAAAAgIxBAeqbYq61rG+KWcYg38ZHf/e0+wqhGwAAAAAga2WVJlxziXqnxDls750SpwnXpKi8ssqnx48ODXZaHuWivKFiIjUAAAAAgCorbZr0+g7NG56uh266TIWllYoKDdKJ/FJNev1r/b9xPXx6fHOkUf1SzdpQyxDzfqlmmSMb51rhhG4AAAAAgErLKzR3eLpe2nxImw+etm/vnRKnucPTVVpe6dPjm8KNmjs8XQ+t2OUQvPulmjVveLrPZ073FUI3AAAAAECx4SF6cs13DoFbkv3x7GGdfd6GxJgwLRzZRTmFVhWUlisqNFjmSGOjDdwSoRsAAAAAIKmsoqpG4K62+eBplVX49p7uaqbwxh2yz8VEagAAAAAAWVzMDu5qdnHUjtANAAAAAFCEMdBpebiLctSO4eUAAAAAAIUFB+r6y+J1WWK0uiTFqKyiSqHBgfr6cK72H8tXWDCh2xOEbgAAAACAAgzSQzdfpsfe3atF6w7at/dJidOMIWkKNPixcY0Yw8sBAAAAoImwFFv1/clC7Ticq+9PFcpSbHV73yqb9Ni7e2tMprbp4Gk99u4eVdq83drmgZ5uAAAAAGgCjuWVaPqKXdp4zhrXc4enKzEmzOX+JeWVTmcvL/HxOt1NFT3dAAAAANDIWYqtNQK3JG3IytFDK3a51eNdZHUeqotdlKN29HQDAAAAQCOXU2itEbirbcjKUU6h1eXa1zFhwQo3BurOPsk1JlJ7adMhmcKCfdH0Jo/QDQAAAACNnKs1tAvcWGM7PipEL43troXrshwmUuudEqeXxnZXfFRIvdvZHDG8HAAAAAAauehQ573QUS7KJam0okp/X5dV477uzQdP6+/rDqq0oqpebWyuCN0AAAAA0MiZI43ql2qutaxfqlnmSOdDyyUpt8iqjXVMpLbxYI5yi9yfCR3/h9ANAAAAAI2cKdyoucPTawTvfqlmzRue7vJ+bsn1EHVX5agd93QDAAAAQBNgkHRT59Ya06udyiqqFBIUoJMFZW7v72oIujtD1FEToRsAAAAAGjlLsVUP1rJkmHS2t3vhyC4ue7sjjYHqkxKnTbUMMe+TEqdIY6DX2tucMLwcAAAAABo5d5YMcyU6LFgzhqSpT0qcw/Y+KXGaMSRN0SwZ5hF6ugEAAACgkfPGkmGmcKNKrJWaeG2qpt90mQpLKxUZGqiiskpFGQPdui8cNRG6AQAAAKCR88aSYZLUKiZMhgCDcousCgyoUnBggJLNoUqIDvVGM5slQjcAAAAANHLVS4ZtqOOebneWDJOkY3klmn7OveH9Us2aOzxdiTFhXmtvc8I93QAAAADQyHljyTBLsbVG4JbO3hP+0IpdshSzTrcn6OkGAAAAgCYgMSZMC0d2UU6hVQWl5YoKDZY50uj2vdg5hVZt/ylXE69NUZekGJVVVCk0OFBfH87VS5sOKafQyn3dHiB0AwAAAEATYQp3P2Sfq7CsXM+N7KIlmw9p0bqD9u29U+L03MguKipzPRkbaiJ0AwAAAAAUE2bU/I8OaPM563RXP549rPMFacexvBJZSsqVX1IuU1iwosOCG/X95IRuAAAAAGgiLMVW5RRalV9aruiwYJkj3O/5tlZW1Qjc1TYfPC1rZZU3m1qrn04X6ZGVux3a0SclTn+9tbPaxkX4/Pi+QOgGAAAAgCagvjOPF5ZVOC0vclFeX8fySmoEbknadPC0/rRyt+b/+opG2ePN7OUAAAAA0Mh5Y+Zxb6317SlLSXmdPe2bDp6WpaRx3lNO6AYAAACARi6n0FojcFfbkJWjnELXoTsyNEh9UuJqLeuTEqfIUN8OlM53EaoLSgndAAAAAAA/yHcRSN0JrEVlFRrbO1m9zwnevVPiNLZ3ss+Hl0eH+ben3Ve4pxsAAAAAGjlvDA23lJRr8us7dGefZN3ZO1llFVUKCQrQjiN5mvz6Dr32hx7eam6tTGHB6pMSp021DDHvkxInk4tQ3lA1+J7uGTNmyGAwOPy0atXKXm6z2TRjxgwlJiYqLCxMV199tfbu3evwHGVlZZo0aZLMZrMiIiI0ZMgQHT161KFObm6uMjMzZTKZZDKZlJmZqby8vAtxigAAAABQL+ZIo27oGK+J16boX2O6afHoq/TS2O6aeG2KbugYL3Ok6xnMI0OCVGyt1KJ1BzXu5a80YdnXGvfyV1q07qCKrZWKCPFtn21iTJj+emvnGkPcq2cvb4yTqEmNpKf78ssv18cff2x/HBgYaP//+fPna8GCBVq6dKkuvfRSzZo1SzfccIMOHDigqKgoSdKUKVP03nvvafny5YqLi9PUqVM1aNAgbd++3f5co0aN0tGjR7V69WpJ0l133aXMzEy99957F/BMAQAAAOD8mcKN+sugTnp45W4tWnfQvr1PSpxm39rZrWXDjIEB6p0SV+tkZr1T4mQM9G2fraXYqr99/J0evPEyPRIYoIKSckWFBauiskp/+/g7PTb4creXP2tIGkXoDgoKcujdrmaz2fTss8/qT3/6k2677TZJ0ssvv6yEhAS99tpruvvuu2WxWPSvf/1Lr776qq6//npJ0v/7f/9PSUlJ+vjjjzVw4EDt27dPq1ev1tatW9Wjx9khE//7v/+rjIwMHThwQB06dKi1XWVlZSorK7M/zs/P9/apAwAAAIBLlmKr/vT2nlqX2/rz23u0cGQXl4E1t7hM4/okK0DSxl88T9+UON3RJ1m5xVa1le/Wys4ptOqtHcf01o5jtZbfe01qowzdDX54uSRlZWUpMTFRycnJ+u1vf6sffvhBknTo0CEdP35cAwYMsNcNCQlR//79tWXLFknS9u3bVV5e7lAnMTFRaWlp9jqff/65TCaTPXBLUs+ePWUymex1ajNnzhz7cHSTyaSkpCSvnjcAAAAAuMMbs5eHGYNkkEE3dW5tH6L+rzHddFPn1jLIoDBjoMvnqA9vTAbXEDX4nu4ePXrolVde0aWXXqoTJ05o1qxZ6tWrl/bu3avjx49LkhISEhz2SUhI0E8//SRJOn78uIxGo2JjY2vUqd7/+PHjio+Pr3Hs+Ph4e53aPPzww3rggQfsj/Pz8wneAAAAAC44bwRWY1CA/rnph1qHl/dJidOsYWket88d/l4n3FcafOi+6aab7P/fuXNnZWRk6JJLLtHLL7+snj17SpIMBoPDPjabrca2c51bp7b6rp4nJCREISEhbp0HAAAAAPiKNwJrWXmVdhzO08RrU9QlKUZlFVUKDQ7U14dz9dKmQyotr/JWc2tljjSqX6pZG2rpse+XanZrMriGqMGH7nNFRESoc+fOysrK0rBhwySd7alu3bq1vc7Jkyftvd+tWrWS1WpVbm6uQ2/3yZMn1atXL3udEydO1DjWqVOnavSiAwAAAICvWIqtyim0Kr+0XNFhwTJHGN26j9kbgbXYWqFFo7ropU2HHCZj65sSp0WjuqjY6tt1uk3hRs0fnq4fzxQrIiRQhaWVigoNUmFZhZJbhDfK+7mlRhi6y8rKtG/fPvXt21fJyclq1aqV1q5dqy5dukiSrFar1q9fr3nz5kmSunbtquDgYK1du1YjRoyQJGVnZ2vPnj2aP3++JCkjI0MWi0VffvmlfvWrX0mSvvjiC1ksFnswBwAAAABfOpZXoukrdjncm90v1ay5w9NdLpdlCjfqr8PStOngacVHh9h7qU9YSs+uce1GYI0JN+qZtd/VWCf77KRqBj0+9HKPzut8WCurtHBdlsMQ9+oZ2BurBj+R2rRp07R+/XodOnRIX3zxhX79618rPz9fY8aMkcFg0JQpUzR79mytXLlSe/bs0dixYxUeHq5Ro0ZJkkwmk8aNG6epU6fqk08+0Y4dO/S73/1OnTt3ts9m3rFjR914440aP368tm7dqq1bt2r8+PEaNGhQnTOXAwAAAIC3WIqtNQK3dHYStIdW7JKl2PlEaJZiq6pskmQ7p8SmKptc7i9J5ZVVDrOW/9LGgzkqr/Tt8PIT+aV6eOXuWmdgf2Tlbp3IL/Xp8X2lwfd0Hz16VCNHjlROTo5atmypnj17auvWrWrbtq0k6cEHH1RJSYkmTJig3Nxc9ejRQ2vWrLGv0S1JzzzzjIKCgjRixAiVlJTouuuu09KlSx3W+162bJkmT55sn+V8yJAhWrRo0YU9WQAAAADNkjuzjzvrrS4oKdcxS4ne353tEFp7p8SpnTlCgQa57O3OL3U+fNxVeX3lFlmd3lOeW2RVQnSoT9vgCwabzXbuVyHwUH5+vkwmkywWi6Kjo/3dHAAAAACNxI7Dubp1cd3LFb89oZeubBNbZ/kPpwr1l3dqrtMtnQ3eM4emqX3LSKdt+PaYRTc/t6nO8lWT+6hTosnpc9THVz+eVl5JhZZsPlTji4M7eicrJixI3drF+ez458vd/Nfgh5cDAAAAQFNX39nHS6yVtQZuSdp88LRKyitdtiHCGKTeKbWH2t4pcYow+nagdIuIkBqBWzrb/iWbD6lFRONcOarBDy8HAAAAgKauvrOPF1udh+riMtehOyY8WPddd6kClKWNB/+vHX1TzJp8Xapiwn27TnZ5pfMly3x9T7mvELoBAAAAwM9M4UbNHZ6uh1bscgje/VLNmjc83eX92NFhzqOdq/LqNrSODtG9116iB2/q4LBkV6voEJ8v2VVirdBzI7toyWbHJct6p8TpuZFdVOLii4WGitANAAAAAA1AYkyYFo7sopxCqwpKyxUVGixzpHvrdMeEG9U31VzrZGx9U82KceM5jueV6Oe8Ei389GCNe6onXZuq4MAAtXKxdFl9xIaH6Mk139U6vFySZg9rnMuGEboBAAAAoIEwhbsXss+VEB2q2cPStOn704qP+sU63fml6nNJnFuzfpeUV9YI3NL/hd5ZQ9POu13nw1pZ5fS+dCvDywEAAAAA9WEptiqn0Kr80nJFhwXLHOFeCLcUW1VWadOqXccc1trumxKn7u1ayFLsfMkxSSoudz4ZW7Ebk7HVR0FpuYty3y5Z5iuEbgAAAABoAI7llWj6il0OQ8T7pZo1d3i6El0M684vKddj79ZcMmzjwdOa8e4ezbm1s8vQXeRisjV3JmOrj3AXs6OHGwN9enxfIXQDAAAAgJ9Ziq01ArckbcjK0UMrdmnhyC5OQ3OhkyXDNh08rUI3JiGLDnUeD6NclNdXgEG69rKW6pRoqjF7+bfHLAowGHx6fF8hdAMAAACAn+UUWmudBE06G7xzCp0PDy8oLVe4MVB39kmudbktV0O3pbM9yX1TzA7LhVXrm2L2fU9zgDT9xo564v29DrOX90mJ018GXS4F2Hx7fB8J8HcDAAAAAKC5y3d5P7PzclNYsJ4b2UU7Dudq3MtfacKyr3Xn0m3acThXz43sIlOY6zW2bVU2PTbkcvVNiXPY3jclTo8NuVy2Kt+G3rDAQM18f2+NHvtNB09r5vt7FRbI8HIAAAAAgAeiQ52H4igX5ZEhQVqy+VCtM48bJM0bnu6yDWeKrYoOD9Yjt3SUTQYVlJydzE2yyWCw6UxJudq6fBbPFVortameQ+QbIkI3AAAAAPiZOdKofqlmbahliHm/VLPMkc4nQSsoq3B6T3dBmeuZv2PCjTpZUKaF67Icwm/flDhNvDZV8VEhLp+jPvJL6tfb31AxvBwAAAAA/MwUbtTc4enql2p22N4v1ax5w9NdzjyeX+I8VLsqr/bcOYFbOjsD+nPrstzavz6iXQyBd9Xb31DR0w0AAAAADUBiTJgWjuyinEKrCkrLFRUaLHOke+t0u5p53FW55P91uqNDg9Q31VzrhHJ9U81unUNDRE83AAAAADQQpnCjLomP1JVtYnVJfKRbgVuSYiOM6nPOBGjV+qTEKTbC9fOUuLhn2lV5fdmqbJo59PIa59EnJU4zh6b5fCI3X2mcXxUAAAAAAOwSokM1+9bOemTlbofh4X1S4jT71s5KiA51+RyRLnqSXZXXV6Wk+av3647eyZp+02UqLK1UVGiQTuSXav7qfZp+U0efHt9XCN0AAAAA0AS0iYvQ/F9fIUtJuX14uiksWIkxYW7tHxwQoN4pcbUOMe+dEqfgAN8OlC4pr9RtXZP00jmzsPdOidMdvZNV4uPh7b7C8HIAAAAAaAKy80q0/rtTOpZXopxCq7ItpVr/3Sll55W4tX9usVV39E5W73OGd1eH3rxiqy+a/X9sqnPZsyWbD0mNc3Q5Pd0AAAAA0NhZiq06mlss2c5JpjabjuYWK9wY6PL+8MjQIP3+pS91Z59k3dk7WWUVVQoJCtCOI3ma/PoOvTWhlw/P4Gym3nE4TxOvTVGXpBiVVVQpNDhQXx/O1UubDjXWzE3oBgAAAIDGzlJSrsoqm97fnV1jaPaka1JlKSl3GbojggN1VZsYLVp3sEZZn5Q4RQQHer3dv1RirdBzI7toyeZDDm3onRKn50Z2UYnVvWXPGhpCNwAAAAA0EJZiq3IKrcovLVd0WLDMEe4tGVZZZdPCTw/WOjRbkmYNTXP5HMUVlXp08OXa/uMZxUeH2nuaT1hK1C25hYorfHtPdUy4UU+v/a7Oc5jpxjk0RIRuAAAAAGgAjuWVaPqKXQ7rVPdLNWvu8HSXk6F5ZY1t29n7uj/Yne0wA3rflDi1bxmpmPBg907EQ2UVVU7PoayiyqfH9xUmUgMAAAAAP7MUW2sEbknakJWjh1bsksXFJGbFXlhjOzgwQM+ty3II3JK08eBpPbcuS8GBvo2PhaXOh4+7Km+o6OkGAAAAAD/LKbRq+0+5dU4illNodTrMPDLEebSLcFEuSaUuestLfbxkV1SY8za6Km+o6OkGAAAAAD8rLCvX30ddpURTqMP2RFOo/j7qKhWVlTvdP8CgGkt9VeudEqcAg+s2uOotd1VeX5HBgeqbYq61rG+KWZE+nsjNVxrnVwUAAAAA0ITEhhlVWl6lVbXcTz3x2lTFhDmfTM0m6Q992uuWzq2V8ItJ0I5bStTaFObWclsRIUEKNwbqzj7Jtfa2u9NbXh+F5ZW6q1973XvtJYoICVJhaaWiQoNUWFau8gqbCn3c0+4rhG4AAAAA8LMq2bSojvupJYNmDrvc6f4GSeHGwDpDuxsd3QoMkJaO7a6DpwodtieaQrV0bHf5+JZuFZeVK8EUqsff2+swzL1PSpweHXy5Ckud39feUBG6AQAAAMDPSsur/huwa9p4MEel5c5n7jYGBjgN7U8MdR7aJSk0KFA2ldcZ3EODfDu82xwZqodX7q5xX/mmg6f1xHt7NfvWzj49vq8QugEAAADAzwpczMxdUOa8vKzSeWgvq3S93FZllfPedneCe30UWSu143BenZPJFfn4nnJfIXQDAAAAgJ9FhbqYudvF/dQuQ7sby22VVrjobffxOtlFZeV6bmQXLdl8SIvWHbRv750Sp+dGdnE5mVxDxezlAAAAAOBnIUEBTmcfDwlyHt1chnYX5ZJU6KI3vchFeX3FRYRoyeZDNYaXbz54Wks2H1JcRIhPj+8rhG4AAAAA8DNLiVV39E6uEbx7p8Tpjt7JspQ47+UNDnAe2o0BrqOfN9b6ro+yyiqn64S7M0S+IWJ4OQAAAAD4WVSoUaP++aXu7JOsO3snq6yiSiFBAdpxJE+TX9+h9yb2cbp/XonV6ZJhuSWuZ/4ODQpQn5S4Gvd0S2dnEA910dteX/kuvlhwVd5QEboBAAAAwM/MkUZ1axvrcC9ztX6pZpkjna/THRUaJEtJ7TOP39En2a3h5WWVVRrbO1k2yaHHuXdKnMb2TvZ5T3NUaHC9yhsqhpcDAAAAgJ+Zwo2aNSxNfc4ZIt4nJU6zhqXJFO48dIcFBeqlTYdqnXn8pU2HFObGcl+FpRV6aMUu3dk7We9N6q3Xx/fU+5P66M7eyXpoxS4VujEZW31EGANrnH+1PilxijD6dskyX6GnGwAAAAD8zFJs1RPvf6sr28TqjnOGl898/1s99ZsrnAbvQmtlrcPCpbPrXBe6sdxWZGiQ5g5P10vnTGbWOyVOc4enK9KN3vL6sFXZNGtYZ/357d0O53L2i4fOslXZfHp8XyF0AwAAAICf5RRa9fG+k/p438k6y52Gbhczi7sql6SQwAAtrWP2cIOkmUPTXD5HfZRVVmn+6v21fvEw64Nv9eCNHXx6fF8hdAMAAACAl1iKrcoptCq/tFzRYcEyRxhdDg2XpPzScpkjjZo3PF3x0SEqLK1UVGiQTuSXavqKXSoodT6JmDeWDCutqNLXh/M08doUdUmKsU/G9vXhXL206ZDP1+mukvTx/lP6eP+pWsunDSR0AwAAAECzlZ1Xos++O6X4qBCVVVQpt7hcXx46o6svbanWMWFO940JC9Zr43tq5nt7tfGcidBeG99TwQEGp/uHBQU6nXncnXu6S6wV+vuoq5RtKXHYnmgK1d9HXaVSq2/v6XZ1z7iv7yn3FUI3AAAAANSTpdiqn84U6/1dx2rcD51sjlC4MdBpj7cxKECPrtjlELilsxOhzXzvW80d3tnp8YvLKzSuT3vdXMeSYcXlrgNri3Cjyiqq9MHu7BrnMPGaFMW60WNfH67WAff1OuG+0jhbDQAAAAANSF5xuRauy6r1fmhJmj2ss9PQXVBWUSNwV9t4MEcFLu7JLi6rlMEgfbg7+5yecrPG9U1WcZnridRskhZ9erDOc5jl43u6DTob8M89vv673eC8s7/BInQDAAAAQD0VWSu0w8n90EUuhmYXuBg67aq8RaRRz378XS095TmSpCeGXe7yHIrLK52eQ3G56+BeH4YA6dFBl2vm+3trzF7+6ODLZROzlwMAAABAs1RaXqnnRnbRks2HtGjdQfv23ilxem5kF5W6CKzRoUEKNwbqzj7JtQbeaBcToVkrqpz2lFvdmASt1FqpxaOv0r82/uBwDn1TzFo8+iqVurHsWH0YAwI0/6P9uqN3sqbfdJnDZHLPrj2gP954mU+P7yuEbgAAAAANgqczf3tr//qIDTdq0acH1aVNrO7873JX1aH5tS9+0l9u6eR0/4jgQP1rTDct+vRgjdD+rzHdFBHsfCK0/BLnPeH5bkxC5rS33CA9MdR1b3l9lFdVaWT3tjIGO44jjwgJ1G+7t1V5pW9nT/cVQjcAAADQBPgzcHrDsbwSTV+xSxuzcuzb+qWaNXd4uhJdzPwt1W/mcG8oq6zSqB5ta+3pvqN3sspcBMbyKpv+tfGHWkP7vzYe0p9u6eh0//CQQKc95eFG17OXO+0tz3Kvt7y+Lm4RqpMFZedsNejiFiGqsDG8HA3cifxS5RZZlV9aoeiwIMWGG5UQHervZgEA4FeNPag0Ffwe6ncNjuWVaPp/dtnv35XOL7BK0s+5xcovrVB+SblMYcGKCg3SRbHhHp3L+bIUW/XoO3t0RVKMxvZq5xAYH3tnj576zRVOr4Wl2KqTBSVKNocrIiTIPiw53BiokwUlLmcO9wqb9P43P2v6jZcpKDBABSVnf4/llVV6adMPuufqFKe7l1ZU6g99ktU6NlzF1krl/3f/33S9WNnti1Va4Xxod3hwoJaO7a6DpwodtieaQrV0bHeFu+gpl872hjsL7q7uK6+v8KBAlVVV6dCpIsX/dwb2kvJKnbCUqGVUnMIDA3x6fF8x2GyN9OuCBig/P18mk0kWi0XR0dH+bo6DU6eLVCqp8Bdv4EhjoEIltYyL8Hfz0IwczS1WwS/+QY8MDdLFF+gfdDQs/v4D2xuvRX+fw7G8EllKyu3nEB0W7PYf197i72tQ3y+UvRFU6qspfC7W97VY2++hb6pZ887j91Df61jf13J9j38qr0SllVU1/1YLDFBLF9fAUmzVxNd2OFy/an1TzVo0sovLc/HW34qeXocfThUqUiUqCwiv0YaQqmIVKkztW0bWuf/Pp4tktNlUajDUPAebTVaDQRf5+G/erJP5iggIVKnNprKKKnsbQoICFGowqKiqUqnxdWeEH07lK9AQqD+/vbvGOt2zhnVWpa1S7VvWvf+x00U6nFeihefMPt47JU6Trk1VG1OoEl1cg/3H83Uyv0z/u+F7xzakmjW+b3vFR4fosla+yzlHThcpt6hEpogwhy8ewo2BshSVKjYiVEkNKLu4m//o6T7H4sWL9eSTTyo7O1uXX365nn32WfXt29ffzaqXU/mlZ+f/r22KfdvZ8pb0eOMCOHW6yGHOSZskW5VNp04X8eXPefJ30Kmv+g4hrK8jp4u06WCO/Vv0ImulThwpVZ9L4tz+x9zf5/DT6SI9snK3wx9WfVLi9NdbO6vtBXo/eSMo1cfh00V6uJZrMPvWzmrjxjWwFFtrtF+SNmTlaPqKXW4FlfpqCL/H+jp8ukibz3k/7Ticq94p5vP4PXxT8x7S8/g91Pc61vf9fPi/nykJv/xMOVxyXtegqKJKf3q75jnMGtZZxmKr02twsqCs1sAtnb2OJwvKnO5/KrdYxTbVDHupZs0amqZTucVq6UZwrs/vIUo2FRnC9ada9p81rLOibM6HNRslFclQ5/4X4t0UExioEpv0xQ+nHf99sZSo9yVmxQQ672kOCQjUQyt317pO95/f3qO5tzpfrqusylYjcEvnt9xXaHBAjcAtyf7emOnGDOj1YaiyKSE8TNZztgdISggPVXlV4+wvJnT/whtvvKEpU6Zo8eLF6t27t1588UXddNNN+vbbb9WmTRt/N89z5ZUqkur+EPLx1P+AdPYf9CKb6vyDQm7+gw7/h736shRba7RfOht0HlqxSwt9HHSO5xbr57wSvb87u0ZPQLI5QsEBBrVy8Vr09zkcyyup8YetJG06eFp/Wrlb8399hc9fC94ISvVxIr+0RuCWzl6DR1bu1tMjrnTZ413foFJfR3OLnf4e5w5Pb/A93tl5JTpW5/spUsGBAS7vpT2eX+r0HtLj+aVOfw8/u7iO84anOx0iXd/388///Uz5oJZr0M4cocAAg8sh2vkl5TX+faw+hz+/vVtzbnW+vrOlpNzp87sqL6+y1Qjc0tnr/+d39mjeMNdhrb6v59KAgBp/q1bvX30NnClTzb8xfrn/XBf7e4NV0jFL3e+HpBjnn0kF5ZXO1+l28Td7cXllretbS2eDtzvLfZWVO7+nu6zct/d0hwQYzv69WFduCWicC3U3zkHxPrJgwQKNGzdOf/jDH9SxY0c9++yzSkpK0vPPP+/vptVLqZx/CJX6p1loZkqrbM5fh430m8sLzdUfh5bic78bbnhyCq012l9tQ1aOcgp9ew4lFVV19gQsXJelEjcmifH3OVhKyuv8w2rTwdMu/8D2BneCki/lFlmdXoPcIte/g7x6BpX6KiitcHoOvr530htKyyvrfj99muVyiSTJjRmX3ZiR2dl1dDVjc33fz2UVVVpUxzVY9OlBlbnxmVJorTssbTp4WoUulmmKCHHej+aq3GnYy3Id9qT6v57rew0KXOxf4OOlriTJ6qSneeGnWbK6+FvH1Wu9wEV5cZmLUO6i3J02uCqvr6aaWwjd/2W1WrV9+3YNGDDAYfuAAQO0ZcuWWvcpKytTfn6+w09DVN8PMcAbeB16h7/DnjfklzoPMgUuyuvLGz0B/j6HfBdh0NfHP9sG//5h5ipIubM0ToSLmXzdmem3PhrC77G+vPF+cnWdw0OclxfU8zrW9/1c4uTft80HT6vErS8e6tcGg872ptamd0pcrXcYOh6//u/n+p6Dv/f3hvq+HyJcvNZdvRciXazj7apcqv/7sb6a6t+LhO7/ysnJUWVlpRISEhy2JyQk6Pjx47XuM2fOHJlMJvtPUlLShWjqeWsIH0IAr0Pv8HfY84bo0GCn5VEuyuuryAs9Af4+h+gw/x5f8v8fZtEu/nh0VS5JEcYgp0Elwujbu/Aawu+xvrzxfgozBjr9PYS5mHE5qp7Xsb7v52IXIcCtz5T6vhYM0h29k2tcx+qlqlylbm+8n+t7Dv7e3xvq+34ID3b+XnA1+3hoUID6pphrLeubYlZokOvoV9/3Y3011b8XCd3nMBgcP5VsNluNbdUefvhhWSwW+8+RI0cuRBPPW0P4EAJ4HXqHv8OeN5gjjeqXWvsfBf1SzTJH+nbiqugw50EqykW55P9zMIUFq08dfxT1SYmTycX7zRv8/YdZbITR6TWIjXD9O4gJD9aka1NrDSqTrk1VTLhvr2OkMdDpOUT6uKfdG7zxfgoNCtDEa1Jq/T1MvCbVZVAId3EdXQXK+r6fXV0DV+VS/V8L0aHBev2Ln9SlTaz+NaabFo++Sv8a001d2sTq9S9+cvlvhzfez1GhQU7PIcrFF2H13b8hvJ/q+34ICTA4/UwKcXE/c1CAQROvTVHfc/bvmxKnidemKMiN+6FDAgxO34+u2lBfTfXvRSZS+y+z2azAwMAavdonT56s0ftdLSQkRCEhIReiefVS/SG2qZahGu58iAHewOvQO6r/ONxQyxDzCxH2vMEUbtTc4el6aMUuh/Po999Zr309W3RkSJD6pphrX1onxaxIF/c+Sv4/h8SYMP311s7608rdDu+p6lmCL8SEemHBgZp4zdk1Z8+dMGjiNak+D90J0aGafWtnPVLLNZh9a2e3lg0zhRvVtkW4BqUn6s7eySqrqFJIUIBOFpSpXYtwn/8eQwMMmjWss/78du2/x9BGMGFQbLjR6fsp1o1rmBgbrooqmwZ1bu34e8gv1UUxoUp0MQlZcIBBM4Zcrhnv7q1xHWcMSVOwi+tY3/dzZEiQ+qaaa731p2+qe58poYEBzl8LLtYmTowJ06ODL9efVu7WonUHa+zv6jMh5L9ffEi1v59D3OghvTg23OnnkqtJAeu7f0N4P0W5+PclysVrITjAoMToUA3qfM5nUn6ZEk2hLl/LQQEGmaNCdHPn1hp7znupZVSIW6HbGGDQRaawOt+PRh9fx6b69yLrdP9Cjx491LVrVy1evNi+rVOnTho6dKjmzJnjcv+GvE73T6eL6vwQayxLkqDx43XoHcfySur849DVLMENSfWyZwWl5YoKDZY58sIte/bT6SL9eWUt66Ce52vRn+cg/d/ayNXHN13gdbrPXSqq+g8zd5dJ8gaHdbpDgxQbcX7rdEv+/T0eP12kcp29j7GgpFxR/11XOFhSq0byuXj4v5/t576f/urm0m3Vfs4tVn5phf33EB0a5HLW72pHThfpZ0uJIkKCVFhaqcjQQBWVVegiU5jbywDW53Vw9jNlj+PyeSlmzbo1ze3PlGOni1RadXZ95+rXQkhQgMICDGp9HksZevqZ4K33c/U63dVtiDrP9crrs/8v1xr/5fvpfNcar4/6/vtS33PwxnvB39exMf296G7+I3T/whtvvKHMzEy98MILysjI0D/+8Q/97//+r/bu3au2bdu63L8hh26p/h+CgDfwOvQOf4e9poDXonf4O/g3BU3hteiNLz/qy9/X0RvH9/f7yd/X0Bsawjn484sHb+zvreeoD38f312Ebg8tXrxY8+fPV3Z2ttLS0vTMM8+oX79+bu3b0EM3AAAAAMA7CN1+QOgGAAAAgObB3fzH7OUAAAAAAPgIoRsAAAAAAB8hdAMAAAAA4COEbgAAAAAAfITQDQAAAACAjxC6AQAAAADwEUI3AAAAAAA+QugGAAAAAMBHCN0AAAAAAPgIoRsAAAAAAB8hdAMAAAAA4CNB/m5AU2Kz2SRJ+fn5fm4JAAAAAMCXqnNfdQ6sC6HbiwoKCiRJSUlJfm4JAAAAAOBCKCgokMlkqrPcYHMVy+G2qqoqHTt2TFFRUTIYDP5uTq3y8/OVlJSkI0eOKDo62t/NQTPF6xANBa9FNBS8FtFQ8FpEQ9EYXos2m00FBQVKTExUQEDdd27T0+1FAQEBuvjii/3dDLdER0c32Bcvmg9eh2goeC2ioeC1iIaC1yIaiob+WnTWw12NidQAAAAAAPARQjcAAAAAAD5C6G5mQkJC9NhjjykkJMTfTUEzxusQDQWvRTQUvBbRUPBaREPRlF6LTKQGAAAAAICP0NMNAAAAAICPELoBAAAAAPARQjcAAAAAAD5C6AYAAAAAwEcI3c3I4sWLlZycrNDQUHXt2lUbN270d5PQDG3YsEGDBw9WYmKiDAaD3n77bX83Cc3QnDlz1L17d0VFRSk+Pl7Dhg3TgQMH/N0sNEPPP/+80tPTFR0drejoaGVkZOjDDz/0d7MAzZkzRwaDQVOmTPF3U9DMzJgxQwaDweGnVatW/m5WvRC6m4k33nhDU6ZM0Z/+9Cft2LFDffv21U033aTDhw/7u2loZoqKinTFFVdo0aJF/m4KmrH169fr3nvv1datW7V27VpVVFRowIABKioq8nfT0MxcfPHFmjt3rr766it99dVXuvbaazV06FDt3bvX301DM7Zt2zb94x//UHp6ur+bgmbq8ssvV3Z2tv1n9+7d/m5SvbBkWDPRo0cPXXXVVXr++eft2zp27Khhw4Zpzpw5fmwZmjODwaCVK1dq2LBh/m4KmrlTp04pPj5e69evV79+/fzdHDRzLVq00JNPPqlx48b5uylohgoLC3XVVVdp8eLFmjVrlq688ko9++yz/m4WmpEZM2bo7bff1s6dO/3dFK+hp7sZsFqt2r59uwYMGOCwfcCAAdqyZYufWgUADYfFYpF0NuwA/lJZWanly5erqKhIGRkZ/m4Omql7771Xt9xyi66//np/NwXNWFZWlhITE5WcnKzf/va3+uGHH/zdpHoJ8ncD4Hs5OTmqrKxUQkKCw/aEhAQdP37cT60CgIbBZrPpgQceUJ8+fZSWlubv5qAZ2r17tzIyMlRaWqrIyEitXLlSnTp18nez0AwtX75cX3/9tbZt2+bvpqAZ69Gjh1555RVdeumlOnHihGbNmqVevXpp7969iouL83fzPELobkYMBoPDY5vNVmMbADQ3EydO1K5du7Rp0yZ/NwXNVIcOHbRz507l5eVpxYoVGjNmjNavX0/wxgV15MgR3XfffVqzZo1CQ0P93Rw0YzfddJP9/zt37qyMjAxdcsklevnll/XAAw/4sWWeI3Q3A2azWYGBgTV6tU+ePFmj9xsAmpNJkybp3Xff1YYNG3TxxRf7uzlopoxGo1JSUiRJ3bp107Zt2/S3v/1NL774op9bhuZk+/btOnnypLp27WrfVllZqQ0bNmjRokUqKytTYGCgH1uI5ioiIkKdO3dWVlaWv5viMe7pbgaMRqO6du2qtWvXOmxfu3atevXq5adWAYD/2Gw2TZw4UW+99ZbWrVun5ORkfzcJsLPZbCorK/N3M9DMXHfdddq9e7d27txp/+nWrZtGjx6tnTt3ErjhN2VlZdq3b59at27t76Z4jJ7uZuKBBx5QZmamunXrpoyMDP3jH//Q4cOHdc899/i7aWhmCgsLdfDgQfvjQ4cOaefOnWrRooXatGnjx5ahObn33nv12muv6Z133lFUVJR9JJDJZFJYWJifW4fm5JFHHtFNN92kpKQkFRQUaPny5frss8+0evVqfzcNzUxUVFSNeS0iIiIUFxfHfBe4oKZNm6bBgwerTZs2OnnypGbNmqX8/HyNGTPG303zGKG7mbj99tt1+vRpPfHEE8rOzlZaWppWrVqltm3b+rtpaGa++uorXXPNNfbH1ffmjBkzRkuXLvVTq9DcVC+fePXVVztsX7JkicaOHXvhG4Rm68SJE8rMzFR2drZMJpPS09O1evVq3XDDDf5uGgD4xdGjRzVy5Ejl5OSoZcuW6tmzp7Zu3dqocwvrdAMAAAAA4CPc0w0AAAAAgI8QugEAAAAA8BFCNwAAAAAAPkLoBgAAAADARwjdAAAAAAD4CKEbAAAAAAAfIXQDAAAAAOAjhG4AAAAAAHyE0A0AQCPXrl07Pfvss/5uBgAAqAWhGwCARmLp0qWKiYmpsX3btm266667LnyDAACAS4RuAAAaAKvV6vG+LVu2VHh4uBdb0zCVl5f7uwkAAJw3QjcAAH5w9dVXa+LEiXrggQdkNpt1ww03aMGCBercubMiIiKUlJSkCRMmqLCwUJL02Wef6Y477pDFYpHBYJDBYNCMGTMk1RxebjAY9M9//lO33nqrwsPDlZqaqnfffdfh+O+++65SU1MVFhama665Ri+//LIMBoPy8vJctv306dMaOXKkLr74YoWHh6tz5856/fXX7eUvvviiLrroIlVVVTnsN2TIEI0ZM8b++L333lPXrl0VGhqq9u3b6/HHH1dFRYXDebzwwgsaOnSoIiIiNGvWLFVWVmrcuHFKTk5WWFiYOnTooL/97W8Ox6moqNDkyZMVExOjuLg4TZ8+XWPGjNGwYcPsdWw2m+bPn6/27dsrLCxMV1xxhf7zn/+4PHcAAM4XoRsAAD95+eWXFRQUpM2bN+vFF19UQECAnnvuOe3Zs0cvv/yy1q1bpwcffFCS1KtXLz377LOKjo5Wdna2srOzNW3atDqf+/HHH9eIESO0a9cu3XzzzRo9erTOnDkjSfrxxx/161//WsOGDdPOnTt19913609/+pPb7S4tLVXXrl31/vvva8+ePbrrrruUmZmpL774QpL0m9/8Rjk5Ofr000/t++Tm5uqjjz7S6NGjJUkfffSRfve732ny5Mn69ttv9eKLL2rp0qX661//6nCsxx57TEOHDtXu3bt15513qqqqShdffLHefPNNffvtt3r00Uf1yCOP6M0337TvM2/ePC1btkxLlizR5s2blZ+fr7ffftvhef/85z9ryZIlev7557V3717df//9+t3vfqf169e7fR0AAHCLDQAAXHD9+/e3XXnllU7rvPnmm7a4uDj74yVLlthMJlONem3btrU988wz9seSbH/+85/tjwsLC20Gg8H24Ycf2mw2m2369Om2tLQ0h+f405/+ZJNky83NPf+TsdlsN998s23q1Kn2x0OGDLHdeeed9scvvviirVWrVraKigqbzWaz9e3b1zZ79myH53j11VdtrVu3djiPKVOmuDz2hAkTbMOHD7c/TkhIsD355JP2xxUVFbY2bdrYhg4darPZzl6P0NBQ25YtWxyeZ9y4cbaRI0e6cbYAALgvyM+ZHwCAZqtbt24Ojz/99FPNnj1b3377rfLz81VRUaHS0lIVFRUpIiLivJ47PT3d/v8RERGKiorSyZMnJUkHDhxQ9+7dHer/6le/cvu5KysrNXfuXL3xxhv6+eefVVZWprKyMoc2jh49WnfddZcWQ6Q18gAABM1JREFUL16skJAQLVu2TL/97W8VGBgoSdq+fbu2bdvm0LNdWVmp0tJSFRcX2+9RP/caSdILL7ygf/7zn/rpp59UUlIiq9WqK6+8UpJksVh04sQJh/MJDAxU165d7cPdv/32W5WWluqGG25weF6r1aouXbq4fR0AAHAHoRsAAD/5ZUj96aefdPPNN+uee+7RzJkz1aJFC23atEnjxo3zaAKx4OBgh8cGg8EeOm02mwwGg0O5zWZz+7mffvppPfPMM3r22Wft96BPmTLFYTK4wYMHq6qqSh988IG6d++ujRs3asGCBfbyqqoqPf7447rttttqPH9oaKj9/8/9suHNN9/U/fffr6effloZGRmKiorSk08+aR/a/svzrev8qq/DBx98oIsuusihXkhIiLuXAQAAtxC6AQBoAL766itVVFTo6aefVkDA2SlXfnmfsiQZjUZVVlbW+1iXXXaZVq1aVeP47tq4caOGDh2q3/3ud5LOhtisrCx17NjRXicsLEy33Xabli1bpoMHD+rSSy9V165d7eVXXXWVDhw4oJSUlPNq+8aNG9WrVy9NmDDBvu3777+3/7/JZFJCQoK+/PJL9e3bV9LZHvQdO3bYe8M7deqkkJAQHT58WP379z+v4wMAcL4I3QAANACXXHKJKioqtHDhQg0ePFibN2/WCy+84FCnXbt2Kiws1CeffKIrrrhC4eHhHi0Vdvfdd2vBggWaPn26xo0bp507d2rp0qWSavYQ1yYlJUUrVqzQli1bFBsbqwULFuj48eMOoVs6O8R88ODB2rt3rz2gV3v00Uc1aNAgJSUl6Te/+Y0CAgK0a9cu7d69W7NmzXJ67FdeeUUfffSRkpOT9eqrr2rbtm1KTk6215k0aZLmzJmjlJQUXXbZZVq4cKFyc3Pt5xYVFaVp06bp/vvvV1VVlfr06aP8/Hxt2bJFkZGRDjOsAwBQX8xeDgBAA3DllVdqwYIFmjdvntLS0rRs2TLNmTPHoU6vXr10zz336Pbbb1fLli01f/58j46VnJys//znP3rrrbeUnp6u559/3j57uTvDq//yl7/oqquu0sCBA3X11VerVatWDstxVbv22mvVokULHThwQKNGjXIoGzhwoN5//32tXbtW3bt3V8+ePbVgwQK1bdvW6bHvuece3Xbbbbr99tvVo0cPnT592qHXW5KmT5+ukSNH6ve//70yMjIUGRmpgQMHOgxbnzlzph599FHNmTNHHTt21MCBA/Xee+85hHcAALzBYDufm7gAAECT9Ne//lUvvPCCjhw54u+meF1VVZU6duyoESNGaObMmf5uDgCgmWF4OQAAzdDixYvVvXt3xcXFafPmzXryySc1ceJEfzfLK3766SetWbNG/fv3V1lZmRYtWqRDhw7V6G0HAOBCYHg5AADNUFZWloYOHapOnTpp5syZmjp1qmbMmCFJuummmxQZGVnrz+zZs/3bcDcEBARo6dKl6t69u3r37q3du3fr448/rnHPOQAAFwLDywEAgIOff/5ZJSUltZa1aNFCLVq0uMAtAgCg8SJ0AwAAAADgIwwvBwAAAADARwjdAAAAAAD4CKEbAAAAAAAfIXQDAAAAAOAjhG4AAAAAAHyE0A0AAAAAgI8QugEAAAAA8JH/D/3gvy/lkoenAAAAAElFTkSuQmCC",
      "text/plain": [
       "<Figure size 1000x1000 with 2 Axes>"
      ]
     },
     "metadata": {},
     "output_type": "display_data"
    }
   ],
   "source": [
    "fig, axs = plt.subplots(2,1, figsize = (10,10))\n",
    "build_scatterplot(rcp_df, x = \"rating_average\", y = \"original_price\", ax=axs[0], title = \"Dispersion of rating_average by original_price\", hue = None)\n",
    "build_scatterplot(rcp_df, x = \"rating_average\", y = \"all_time_quantity_sold\", ax=axs[1], title = \"Dispersion of rating_average by all_time_quantity_sold\", hue = None)\n",
    "plt.tight_layout()"
   ]
  },
  {
   "cell_type": "markdown",
   "metadata": {},
   "source": [
    "###### Đánh giá câu hỏi\n",
    "Với đồ thị theo giá gốc của các quyển sách, hầu như tất cả giá trị đều trong vùng từ 0 đến 300 ngàn đồng là chủ yếu. Tuy nhiên với độ đánh giá là `0 sao`, hầu như số lượt mua hàng xấp xỉ hoặc hoàn toàn là 0 mặc dù sách ở mức đánh giá `0 sao` có tương đối nhiều sách được bán <br>\n",
    "<br>\n",
    "Việc có thể có được mức đánh giá trung bình cao nhưng lại khá ít đơn đặt hàng, theo em dự đoán rằng:<br>\n",
    "Việc mua hàng đối với các khách hàng đầu tiên đã xảy ra 1 vài trục trặc (như hư hỏng, không đúng như trong mô tả sản phẩm,...), dẫn tới sự kém tin tưởng của shop, nên dẫn đến mức đánh giá trung bình ngày một thấp đi. Số khách hàng đến sau dựa vào 1 số bình luận, số lượt đánh giá có trên tiki đưa ra quyết định mua hàng của mình.<br>\n",
    "Ngoài ra, thông tin được tìm kiếm ở câu 1, có một số cuốn sách bị trùng tên nhưng có nhiều shop bán. Việc một shop đầy sự tin tưởng trong suốt quá trình bán online trên tiki, dẫn đến việc khách hàng cũ sẽ ưu tiên mua sách ở shop quen thuộc hơn là mua ở một shop có lượt rating thấp."
   ]
  },
  {
   "cell_type": "markdown",
   "metadata": {},
   "source": [
    "---"
   ]
  },
  {
   "cell_type": "markdown",
   "metadata": {},
   "source": [
    "##### **Câu 3**"
   ]
  },
  {
   "cell_type": "markdown",
   "metadata": {},
   "source": [
    "- Khách hàng có thật sự quan trọng để ý đến loại phiên bản và bìa sách?"
   ]
  },
  {
   "cell_type": "markdown",
   "metadata": {},
   "source": [
    "**Trả lời câu hỏi thành công** <br>\n",
    "Nếu chúng ta biết được nhu cầu của khách hàng, việc sản xuất cho nhà nhà sản xuất sẽ thuận tiện hơn, đáp ứng dược cung cầu của thị trường. Từ đó sẽ phát triển hơn trong việc phát hành sách"
   ]
  },
  {
   "cell_type": "markdown",
   "metadata": {},
   "source": [
    "Nhiều thể loại sách khác nhau sẽ có những loại `book_cover` và `edition` khác nhau.\n",
    "Ta vẫn tiếp tục thử với thể loại `Light novel` "
   ]
  },
  {
   "cell_type": "code",
   "execution_count": 79,
   "metadata": {},
   "outputs": [],
   "source": [
    "new_df = get_df_by_categories('Light novel')"
   ]
  },
  {
   "cell_type": "markdown",
   "metadata": {},
   "source": [
    "Ta sẽ quan sát `all_time_quantity_sold` để biết được nhu cầu khách hành."
   ]
  },
  {
   "cell_type": "markdown",
   "metadata": {},
   "source": [
    "<font color = red>Khó khăn </font>:<br> Quan sát toàn bộ số lượng sẽ dẫn đến khó đoán được nhu cầu khách hàng. Vì thế ta sẽ chia thành tồng số lượng sách mở bán từ năm 2021 và từ năm 2022"
   ]
  },
  {
   "cell_type": "code",
   "execution_count": 81,
   "metadata": {},
   "outputs": [],
   "source": [
    "new_df_2021 = new_df.loc[(new_df['day_ago_created'] > 365) & (new_df['day_ago_created'] <= 730)]\n",
    "new_df_2022 = new_df.loc[new_df['day_ago_created'] <= 365]"
   ]
  },
  {
   "cell_type": "code",
   "execution_count": 82,
   "metadata": {},
   "outputs": [
    {
     "name": "stdout",
     "output_type": "stream",
     "text": [
      "[nan, 'Tặng kèm bookmark & thiệp', 'Bản Giới Hạn', 'Đầu tiên', 'Bản Đặc Biệt']\n",
      "[nan]\n",
      "['Bìa mềm', 'Bìa rời', nan]\n",
      "['Bìa mềm', nan, 'Bìa cứng', 'Bìa rời']\n"
     ]
    }
   ],
   "source": [
    "print(list(new_df_2021['edition'].unique()))\n",
    "print(list(new_df_2022['edition'].unique()))\n",
    "print(list(new_df_2021['book_cover'].unique()))\n",
    "print(list(new_df_2022['book_cover'].unique()))"
   ]
  },
  {
   "cell_type": "markdown",
   "metadata": {},
   "source": [
    "Hmm ta vẫn còn thấy dữ liệu chưa được xử lý để phục vụ cho câu hỏi này. Ta sẽ thay đổi các `nan` thành `None`"
   ]
  },
  {
   "cell_type": "code",
   "execution_count": 83,
   "metadata": {},
   "outputs": [],
   "source": [
    "new_df_2021.loc[new_df_2021.edition.isnull(), 'edition'] = 'None'\n",
    "new_df_2021.loc[new_df_2021.book_cover.isnull(), 'book_cover'] = 'None'\n",
    "\n",
    "new_df_2022.loc[new_df_2022.edition.isnull(), 'edition'] = 'None'\n",
    "new_df_2022.loc[new_df_2022.book_cover.isnull(), 'book_cover'] = 'None'"
   ]
  },
  {
   "cell_type": "markdown",
   "metadata": {},
   "source": [
    "Ta sẽ trực quan hoá bằng biểu đồ để tiện quan sát hơn"
   ]
  },
  {
   "cell_type": "code",
   "execution_count": 84,
   "metadata": {},
   "outputs": [
    {
     "data": {
      "text/plain": [
       "[Text(0.5, 0, 'Edition & Book Cover'), Text(0, 0.5, 'Quantity Sold')]"
      ]
     },
     "execution_count": 84,
     "metadata": {},
     "output_type": "execute_result"
    },
    {
     "data": {
      "image/png": "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",
      "text/plain": [
       "<Figure size 1500x800 with 2 Axes>"
      ]
     },
     "metadata": {},
     "output_type": "display_data"
    }
   ],
   "source": [
    "plot_df_2022 = new_df_2022.groupby(['edition', 'book_cover'])['all_time_quantity_sold'].sum()\n",
    "plot_df_2021 = new_df_2021.groupby(['edition', 'book_cover'])['all_time_quantity_sold'].sum()\n",
    "\n",
    "plt.style.use('ggplot')\n",
    "fig, axes = plt.subplots(nrows = 2, ncols = 1, figsize=(15, 8))\n",
    "\n",
    "plt.subplots_adjust(hspace = 1.5)\n",
    "plot_df_2021.plot.bar(ax = axes[0], rot = 45)\n",
    "axes[0].set_title('The quantity sold categorized by Edition and Book cover form 2021')\n",
    "axes[0].set(xlabel = 'Edition & Book Cover', ylabel = 'Quantity Sold')\n",
    "\n",
    "plt.subplots_adjust(hspace = 1.5)\n",
    "plot_df_2022.plot.bar(ax = axes[1], rot = 45)\n",
    "axes[1].set_title('The quantity sold categorized by Edition and Book cover from 2022')\n",
    "axes[1].set(xlabel = 'Edition & Book Cover', ylabel = 'Quantity Sold')"
   ]
  },
  {
   "cell_type": "markdown",
   "metadata": {},
   "source": [
    "Hmm ta có thể thấy rõ rằng là mọi người mua thể loại `Light novel` được đăng bán từ năm 2021 cho dến được đăng bán năm 2022 thì ta thấy năm 2022 đã không còn loại `edition` nào nữa. Ta vẫn thấy xu hướng là khách hàng vẫn thích loại bìa mềm với không bìa cùng thể loại edition bình thường. Qua đây ta cũng cảm thấy được xu hướng 2023 vẫn là phiên bản thường loại bìa mềm tiếp tục chăng? "
   ]
  },
  {
   "cell_type": "markdown",
   "metadata": {},
   "source": [
    "---"
   ]
  },
  {
   "cell_type": "markdown",
   "metadata": {},
   "source": [
    "##### **Câu 4**"
   ]
  },
  {
   "cell_type": "markdown",
   "metadata": {},
   "source": [
    "- Có phải khi sự đánh giá (`rating_average`) của 1 cuốn sách nào đó cao thì shop sẽ khuyến mãi ưu đãi nhiều (`discount_rate`) cho khách hàng?"
   ]
  },
  {
   "cell_type": "markdown",
   "metadata": {},
   "source": [
    "**Trả lời câu hỏi thành công** <br>\n",
    "Tìm hiểu được về việc đánh giá của khách hàng có ảnh hưởng đến giảm giá của shop không? từ đó shop có thể có ra thêm các loại event sale hợp lý để tăng sự tin tưởng của khách hàng và lấy được thêm các rating cao"
   ]
  },
  {
   "cell_type": "markdown",
   "metadata": {},
   "source": [
    "Vẫn tiếp tục với 1 thể loại sách để xem rõ ràng hơn về `discount_rate`, ta sẽ chọn thể loại `Light novel`"
   ]
  },
  {
   "cell_type": "code",
   "execution_count": 62,
   "metadata": {},
   "outputs": [],
   "source": [
    "new_df = get_df_by_categories('Light novel')"
   ]
  },
  {
   "cell_type": "markdown",
   "metadata": {},
   "source": [
    "<font color = red>Khó khăn </font>:<br>"
   ]
  },
  {
   "cell_type": "markdown",
   "metadata": {},
   "source": [
    "- Quan sát toàn bộ số lượng sẽ dẫn đến chúng ta khó thấy sự khác biệt trong thay đổi tỉ lệ `discount_rate`. Ta sẽ số liệu thành thành sách dược bán vào năm 2021 và năm 2022. \n",
    "- Ngoài ra, ta cũng sẽ tạo 1 khoảng mức ratings: <br>\n",
    "**(0,0)** ứng với 0 sao <br>\n",
    "**(0,1)** ứng với (0,1) <br>\n",
    "**(1,2)** ứng với [1,2) <br>\n",
    "**(2,3)** ứng với [2,3) <br>\n",
    "**(3,4)** ứng với [3,4) <br>\n",
    "**(4,5)** ứng với [4,5) <br>\n",
    "**(5,5)** ứng với 5 sao <br>"
   ]
  },
  {
   "cell_type": "code",
   "execution_count": 85,
   "metadata": {},
   "outputs": [],
   "source": [
    "df_2021 = new_df.loc[(new_df['day_ago_created'] > 365) & (new_df['day_ago_created'] <= 730)]\n",
    "df_2022 = new_df.loc[new_df['day_ago_created'] <= 365]\n",
    "\n",
    "new_df_2021 = df_2021[['discount_rate', 'rating_average']]\n",
    "new_df_2022 = df_2022[['discount_rate', 'rating_average']]\n",
    "\n",
    "temp_df_2021 = pd.DataFrame({\"rating_range\": new_df_2021.rating_average.apply(rating_range)})\n",
    "temp_df_2022 = pd.DataFrame({\"rating_range\": new_df_2022.rating_average.apply(rating_range)})\n",
    "\n",
    "new_df_2021 = pd.concat([new_df_2021, temp_df_2021], axis= 1)\n",
    "new_df_2022 = pd.concat([new_df_2022, temp_df_2022], axis= 1)"
   ]
  },
  {
   "cell_type": "markdown",
   "metadata": {},
   "source": [
    "Ta sẽ trực quan hoá dữ liệu để tiện quan sát hơn"
   ]
  },
  {
   "cell_type": "code",
   "execution_count": 54,
   "metadata": {},
   "outputs": [
    {
     "data": {
      "text/plain": [
       "[Text(0.5, 0, 'Rating Range'), Text(0, 0.5, 'Discount Rate')]"
      ]
     },
     "execution_count": 54,
     "metadata": {},
     "output_type": "execute_result"
    },
    {
     "data": {
      "image/png": "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",
      "text/plain": [
       "<Figure size 1500x800 with 2 Axes>"
      ]
     },
     "metadata": {},
     "output_type": "display_data"
    }
   ],
   "source": [
    "new_df_2021 = new_df_2021.sort_values('rating_range')\n",
    "new_df_2022 = new_df_2022.sort_values('rating_range')\n",
    "\n",
    "fig, axes = plt.subplots(nrows = 2, ncols = 1, figsize=(15, 8))\n",
    "plt.subplots_adjust(hspace = 1)\n",
    "\n",
    "sns.boxenplot(data = new_df_2021, x = 'rating_range', y = 'discount_rate', ax = axes[0])\n",
    "axes[0].set_title('The discount rate of the rating range from 2021')\n",
    "axes[0].set(xlabel = 'Rating Range', ylabel = 'Discount Rate')\n",
    "\n",
    "sns.boxenplot(data = new_df_2022, x = 'rating_range', y = 'discount_rate', ax = axes[1])\n",
    "axes[1].set_title('The discount rate of the rating range from 2022')\n",
    "axes[1].set(xlabel = 'Rating Range', ylabel = 'Discount Rate')"
   ]
  },
  {
   "cell_type": "markdown",
   "metadata": {},
   "source": [
    "Hmmm ta cảm thấy xu hướng năm 2022 càng ngày càng rõ rệt hơn về mức giảm giá. Năm 2021 thì `discount_rate` còn trải dài đều từ 10% đến 30% vào những sản phẩm từ 4 sao đến 5 sao và những mặt hàng 0 sao thì chưa đa dạng về `discount_rate`. Vào năm 2022 thì các shop đã cho ra những mức `discount_rate` ở những sản phẩm 4 sao đến 5 sao  càng rơi vào mức 15% đến 25% và những mặt hàng 0 sao thì đa dạng hơn về `discount_rate`. Qua đây thì ta dự đoán thêm về xu hướng năm 2023 chăng?"
   ]
  },
  {
   "cell_type": "markdown",
   "metadata": {},
   "source": [
    "---"
   ]
  },
  {
   "cell_type": "markdown",
   "metadata": {},
   "source": [
    "##### **Câu 5**"
   ]
  },
  {
   "attachments": {},
   "cell_type": "markdown",
   "metadata": {},
   "source": [
    "- Dự đoán giá của một sản phẩm sách dựa vào các đặc trưng: rating_average, review_count, inventory_type,.."
   ]
  },
  {
   "cell_type": "markdown",
   "metadata": {},
   "source": [
    "**Trả lời câu hỏi thành công** <br>\n"
   ]
  },
  {
   "cell_type": "code",
   "execution_count": 55,
   "metadata": {},
   "outputs": [],
   "source": [
    "pd.set_option('display.max_columns', None)\n",
    "import warnings\n",
    "warnings.filterwarnings(\"ignore\")"
   ]
  },
  {
   "cell_type": "code",
   "execution_count": 56,
   "metadata": {},
   "outputs": [
    {
     "data": {
      "text/plain": [
       "id                            0\n",
       "sku                           0\n",
       "name                          0\n",
       "short_url                     0\n",
       "book_cover                17075\n",
       "price                         0\n",
       "original_price                0\n",
       "discount_rate                 0\n",
       "rating_average                0\n",
       "review_count                  0\n",
       "inventory_type                0\n",
       "productset_group_name         0\n",
       "day_ago_created               0\n",
       "categories                    0\n",
       "all_time_quantity_sold        0\n",
       "authors                   23568\n",
       "publisher_vn                 17\n",
       "publication_date          29534\n",
       "dimensions                39958\n",
       "manufacturer                266\n",
       "number_of_page                0\n",
       "dich_gia                  41379\n",
       "edition                   46809\n",
       "luu_y                     48289\n",
       "dtype: int64"
      ]
     },
     "execution_count": 56,
     "metadata": {},
     "output_type": "execute_result"
    }
   ],
   "source": [
    "df.isna().sum()"
   ]
  },
  {
   "cell_type": "code",
   "execution_count": 57,
   "metadata": {},
   "outputs": [
    {
     "data": {
      "text/plain": [
       "Index(['id', 'sku', 'price', 'original_price', 'discount_rate',\n",
       "       'rating_average', 'review_count', 'day_ago_created',\n",
       "       'all_time_quantity_sold', 'number_of_page'],\n",
       "      dtype='object')"
      ]
     },
     "execution_count": 57,
     "metadata": {},
     "output_type": "execute_result"
    }
   ],
   "source": [
    "numeric_cols = df.select_dtypes(include=np.number).columns\n",
    "numeric_cols"
   ]
  },
  {
   "cell_type": "code",
   "execution_count": 58,
   "metadata": {},
   "outputs": [
    {
     "data": {
      "text/html": [
       "<div>\n",
       "<style scoped>\n",
       "    .dataframe tbody tr th:only-of-type {\n",
       "        vertical-align: middle;\n",
       "    }\n",
       "\n",
       "    .dataframe tbody tr th {\n",
       "        vertical-align: top;\n",
       "    }\n",
       "\n",
       "    .dataframe thead th {\n",
       "        text-align: right;\n",
       "    }\n",
       "</style>\n",
       "<table border=\"1\" class=\"dataframe\">\n",
       "  <thead>\n",
       "    <tr style=\"text-align: right;\">\n",
       "      <th></th>\n",
       "      <th>id</th>\n",
       "      <th>sku</th>\n",
       "      <th>price</th>\n",
       "      <th>original_price</th>\n",
       "      <th>discount_rate</th>\n",
       "      <th>rating_average</th>\n",
       "      <th>review_count</th>\n",
       "      <th>day_ago_created</th>\n",
       "      <th>all_time_quantity_sold</th>\n",
       "      <th>number_of_page</th>\n",
       "    </tr>\n",
       "  </thead>\n",
       "  <tbody>\n",
       "    <tr>\n",
       "      <th>missing_ratio</th>\n",
       "      <td>0.0</td>\n",
       "      <td>0.000000e+00</td>\n",
       "      <td>0.0</td>\n",
       "      <td>0.0</td>\n",
       "      <td>0.0</td>\n",
       "      <td>0.0</td>\n",
       "      <td>0.0</td>\n",
       "      <td>0.0</td>\n",
       "      <td>0.0</td>\n",
       "      <td>0.000000e+00</td>\n",
       "    </tr>\n",
       "    <tr>\n",
       "      <th>min</th>\n",
       "      <td>148562.0</td>\n",
       "      <td>1.000110e+12</td>\n",
       "      <td>0.0</td>\n",
       "      <td>0.0</td>\n",
       "      <td>0.0</td>\n",
       "      <td>0.0</td>\n",
       "      <td>0.0</td>\n",
       "      <td>0.0</td>\n",
       "      <td>0.0</td>\n",
       "      <td>0.000000e+00</td>\n",
       "    </tr>\n",
       "    <tr>\n",
       "      <th>max</th>\n",
       "      <td>207990688.0</td>\n",
       "      <td>9.999995e+12</td>\n",
       "      <td>6000000.0</td>\n",
       "      <td>6950000.0</td>\n",
       "      <td>91.0</td>\n",
       "      <td>5.0</td>\n",
       "      <td>6306.0</td>\n",
       "      <td>2689.0</td>\n",
       "      <td>32323.0</td>\n",
       "      <td>9.786049e+12</td>\n",
       "    </tr>\n",
       "  </tbody>\n",
       "</table>\n",
       "</div>"
      ],
      "text/plain": [
       "                        id           sku      price  original_price  \\\n",
       "missing_ratio          0.0  0.000000e+00        0.0             0.0   \n",
       "min               148562.0  1.000110e+12        0.0             0.0   \n",
       "max            207990688.0  9.999995e+12  6000000.0       6950000.0   \n",
       "\n",
       "               discount_rate  rating_average  review_count  day_ago_created  \\\n",
       "missing_ratio            0.0             0.0           0.0              0.0   \n",
       "min                      0.0             0.0           0.0              0.0   \n",
       "max                     91.0             5.0        6306.0           2689.0   \n",
       "\n",
       "               all_time_quantity_sold  number_of_page  \n",
       "missing_ratio                     0.0    0.000000e+00  \n",
       "min                               0.0    0.000000e+00  \n",
       "max                           32323.0    9.786049e+12  "
      ]
     },
     "execution_count": 58,
     "metadata": {},
     "output_type": "execute_result"
    }
   ],
   "source": [
    "numeric_profiles = {'missing_ratio': df[numeric_cols].isna().sum() * 100.0/len(df[numeric_cols]),\n",
    "                        'min': df[numeric_cols].min(),\n",
    "                        'max': df[numeric_cols].max()}\n",
    "nume_col_profiles_df = pd.DataFrame(numeric_profiles).transpose()\n",
    "nume_col_profiles_df"
   ]
  },
  {
   "cell_type": "code",
   "execution_count": 63,
   "metadata": {},
   "outputs": [
    {
     "data": {
      "text/html": [
       "<div>\n",
       "<style scoped>\n",
       "    .dataframe tbody tr th:only-of-type {\n",
       "        vertical-align: middle;\n",
       "    }\n",
       "\n",
       "    .dataframe tbody tr th {\n",
       "        vertical-align: top;\n",
       "    }\n",
       "\n",
       "    .dataframe thead th {\n",
       "        text-align: right;\n",
       "    }\n",
       "</style>\n",
       "<table border=\"1\" class=\"dataframe\">\n",
       "  <thead>\n",
       "    <tr style=\"text-align: right;\">\n",
       "      <th></th>\n",
       "      <th>authors</th>\n",
       "      <th>book_cover</th>\n",
       "      <th>categories</th>\n",
       "      <th>dich_gia</th>\n",
       "      <th>dimensions</th>\n",
       "      <th>edition</th>\n",
       "      <th>inventory_type</th>\n",
       "      <th>luu_y</th>\n",
       "      <th>manufacturer</th>\n",
       "      <th>name</th>\n",
       "      <th>productset_group_name</th>\n",
       "      <th>publication_date</th>\n",
       "      <th>publisher_vn</th>\n",
       "      <th>short_url</th>\n",
       "    </tr>\n",
       "  </thead>\n",
       "  <tbody>\n",
       "    <tr>\n",
       "      <th>missing_ratio</th>\n",
       "      <td>48.804125</td>\n",
       "      <td>35.358555</td>\n",
       "      <td>0.0</td>\n",
       "      <td>85.686774</td>\n",
       "      <td>82.744197</td>\n",
       "      <td>96.931105</td>\n",
       "      <td>0.0</td>\n",
       "      <td>99.995858</td>\n",
       "      <td>0.550827</td>\n",
       "      <td>0.0</td>\n",
       "      <td>0.0</td>\n",
       "      <td>61.158394</td>\n",
       "      <td>0.035203</td>\n",
       "      <td>0.0</td>\n",
       "    </tr>\n",
       "    <tr>\n",
       "      <th>num_diff_vals</th>\n",
       "      <td>9094</td>\n",
       "      <td>17</td>\n",
       "      <td>100</td>\n",
       "      <td>3110</td>\n",
       "      <td>1051</td>\n",
       "      <td>364</td>\n",
       "      <td>3</td>\n",
       "      <td>1</td>\n",
       "      <td>168</td>\n",
       "      <td>44424</td>\n",
       "      <td>101</td>\n",
       "      <td>10896</td>\n",
       "      <td>852</td>\n",
       "      <td>48288</td>\n",
       "    </tr>\n",
       "    <tr>\n",
       "      <th>diff_vals</th>\n",
       "      <td>[Trần Đặng Đăng Khoa, Trần Hồng Ngọc, Lê Quang...</td>\n",
       "      <td>[Bìa mềm, Bìa Da, Bìa cứng, Bìa gập, Bìa rời, ...</td>\n",
       "      <td>[Du ký, Light novel, Phê Bình - Lý Luận Văn Họ...</td>\n",
       "      <td>[Khánh Vân, Phan Quang, Nguyễn Thị Bạch Tuyết,...</td>\n",
       "      <td>[13 x 20, 14,5 x 20,5 cm, 13.5 x 20.5 cm, 15 x...</td>\n",
       "      <td>[bìa mềm, BÌA MỀM, Tiếng Việt, Tặng kèm bookma...</td>\n",
       "      <td>[instock, backorder, preorder]</td>\n",
       "      <td>[Sách không còn kèm CD mà thay bằng ứng dụng t...</td>\n",
       "      <td>[NXB Trẻ, Nhà Xuất Bản Lao Động, Nhà Xuất Bản ...</td>\n",
       "      <td>[1111 - Nhật Ký Sáu Vạn Dặm Trên Yên Xe Cà Tàn...</td>\n",
       "      <td>[Nhà Sách Tiki/Sách tiếng Việt/Sách văn học/Du...</td>\n",
       "      <td>[2022-11-10 00:00:00, 2022-11-11 17:44:46, 202...</td>\n",
       "      <td>[NXB Trẻ, Chibooks, Văn Lang, Edibooks, NXB Ph...</td>\n",
       "      <td>[https://tiki.vn/product-p204317934.html?spid=...</td>\n",
       "    </tr>\n",
       "  </tbody>\n",
       "</table>\n",
       "</div>"
      ],
      "text/plain": [
       "                                                         authors  \\\n",
       "missing_ratio                                          48.804125   \n",
       "num_diff_vals                                               9094   \n",
       "diff_vals      [Trần Đặng Đăng Khoa, Trần Hồng Ngọc, Lê Quang...   \n",
       "\n",
       "                                                      book_cover  \\\n",
       "missing_ratio                                          35.358555   \n",
       "num_diff_vals                                                 17   \n",
       "diff_vals      [Bìa mềm, Bìa Da, Bìa cứng, Bìa gập, Bìa rời, ...   \n",
       "\n",
       "                                                      categories  \\\n",
       "missing_ratio                                                0.0   \n",
       "num_diff_vals                                                100   \n",
       "diff_vals      [Du ký, Light novel, Phê Bình - Lý Luận Văn Họ...   \n",
       "\n",
       "                                                        dich_gia  \\\n",
       "missing_ratio                                          85.686774   \n",
       "num_diff_vals                                               3110   \n",
       "diff_vals      [Khánh Vân, Phan Quang, Nguyễn Thị Bạch Tuyết,...   \n",
       "\n",
       "                                                      dimensions  \\\n",
       "missing_ratio                                          82.744197   \n",
       "num_diff_vals                                               1051   \n",
       "diff_vals      [13 x 20, 14,5 x 20,5 cm, 13.5 x 20.5 cm, 15 x...   \n",
       "\n",
       "                                                         edition  \\\n",
       "missing_ratio                                          96.931105   \n",
       "num_diff_vals                                                364   \n",
       "diff_vals      [bìa mềm, BÌA MỀM, Tiếng Việt, Tặng kèm bookma...   \n",
       "\n",
       "                               inventory_type  \\\n",
       "missing_ratio                             0.0   \n",
       "num_diff_vals                               3   \n",
       "diff_vals      [instock, backorder, preorder]   \n",
       "\n",
       "                                                           luu_y  \\\n",
       "missing_ratio                                          99.995858   \n",
       "num_diff_vals                                                  1   \n",
       "diff_vals      [Sách không còn kèm CD mà thay bằng ứng dụng t...   \n",
       "\n",
       "                                                    manufacturer  \\\n",
       "missing_ratio                                           0.550827   \n",
       "num_diff_vals                                                168   \n",
       "diff_vals      [NXB Trẻ, Nhà Xuất Bản Lao Động, Nhà Xuất Bản ...   \n",
       "\n",
       "                                                            name  \\\n",
       "missing_ratio                                                0.0   \n",
       "num_diff_vals                                              44424   \n",
       "diff_vals      [1111 - Nhật Ký Sáu Vạn Dặm Trên Yên Xe Cà Tàn...   \n",
       "\n",
       "                                           productset_group_name  \\\n",
       "missing_ratio                                                0.0   \n",
       "num_diff_vals                                                101   \n",
       "diff_vals      [Nhà Sách Tiki/Sách tiếng Việt/Sách văn học/Du...   \n",
       "\n",
       "                                                publication_date  \\\n",
       "missing_ratio                                          61.158394   \n",
       "num_diff_vals                                              10896   \n",
       "diff_vals      [2022-11-10 00:00:00, 2022-11-11 17:44:46, 202...   \n",
       "\n",
       "                                                    publisher_vn  \\\n",
       "missing_ratio                                           0.035203   \n",
       "num_diff_vals                                                852   \n",
       "diff_vals      [NXB Trẻ, Chibooks, Văn Lang, Edibooks, NXB Ph...   \n",
       "\n",
       "                                                       short_url  \n",
       "missing_ratio                                                0.0  \n",
       "num_diff_vals                                              48288  \n",
       "diff_vals      [https://tiki.vn/product-p204317934.html?spid=...  "
      ]
     },
     "execution_count": 63,
     "metadata": {},
     "output_type": "execute_result"
    }
   ],
   "source": [
    "cate_cols = set(df.columns) - set(numeric_cols)\n",
    "cate_profiles = {'missing_ratio': df[cate_cols].isna().sum() * 100.0/len(df[cate_cols]),\n",
    "               #   'zero_values_ratio':  df[cate_cols].eq(0).sum(axis=1) * 100.0/len(df[cate_cols]),\n",
    "                      'num_diff_vals': df[cate_cols].nunique(dropna=True),\n",
    "                      'diff_vals': df[cate_cols].stack(dropna=True).groupby(level=[1]).unique()}\n",
    "cate_col_profiles_df = pd.DataFrame(cate_profiles).transpose()\n",
    "cate_col_profiles_df"
   ]
  },
  {
   "cell_type": "code",
   "execution_count": 60,
   "metadata": {},
   "outputs": [
    {
     "data": {
      "text/plain": [
       "array(['Bìa mềm', 'Bìa Da', 'Bìa cứng', 'Bìa gập', 'Bìa rời',\n",
       "       'Bìa Da Công Nghiệp Microfiber', 'B Format Paperback', 'Box',\n",
       "       'Boxset', 'Tùy chọn phiên bản bìa cứng hoặc bìa mềm', 'Jigsaw box',\n",
       "       'Counterpack holds 48 Mini Activity Books', 'B-format Paperback',\n",
       "       'Board book', 'Mix Media Pack', 'Paperback', 'Hardcover'],\n",
       "      dtype=object)"
      ]
     },
     "execution_count": 60,
     "metadata": {},
     "output_type": "execute_result"
    }
   ],
   "source": [
    "cate_col_profiles_df.loc['diff_vals','book_cover']"
   ]
  },
  {
   "cell_type": "code",
   "execution_count": 61,
   "metadata": {},
   "outputs": [
    {
     "data": {
      "text/html": [
       "<div>\n",
       "<style scoped>\n",
       "    .dataframe tbody tr th:only-of-type {\n",
       "        vertical-align: middle;\n",
       "    }\n",
       "\n",
       "    .dataframe tbody tr th {\n",
       "        vertical-align: top;\n",
       "    }\n",
       "\n",
       "    .dataframe thead th {\n",
       "        text-align: right;\n",
       "    }\n",
       "</style>\n",
       "<table border=\"1\" class=\"dataframe\">\n",
       "  <thead>\n",
       "    <tr style=\"text-align: right;\">\n",
       "      <th></th>\n",
       "      <th>id</th>\n",
       "      <th>sku</th>\n",
       "      <th>name</th>\n",
       "      <th>short_url</th>\n",
       "      <th>book_cover</th>\n",
       "      <th>price</th>\n",
       "      <th>original_price</th>\n",
       "      <th>discount_rate</th>\n",
       "      <th>rating_average</th>\n",
       "      <th>review_count</th>\n",
       "      <th>inventory_type</th>\n",
       "      <th>productset_group_name</th>\n",
       "      <th>day_ago_created</th>\n",
       "      <th>categories</th>\n",
       "      <th>all_time_quantity_sold</th>\n",
       "      <th>authors</th>\n",
       "      <th>publisher_vn</th>\n",
       "      <th>publication_date</th>\n",
       "      <th>dimensions</th>\n",
       "      <th>manufacturer</th>\n",
       "      <th>number_of_page</th>\n",
       "      <th>dich_gia</th>\n",
       "      <th>edition</th>\n",
       "      <th>luu_y</th>\n",
       "    </tr>\n",
       "  </thead>\n",
       "  <tbody>\n",
       "    <tr>\n",
       "      <th>14707</th>\n",
       "      <td>198087840</td>\n",
       "      <td>9079961711988</td>\n",
       "      <td>QUẢN TRỊ NGÂN HÀNG (Quản Trị Kinh Doanh Ngân H...</td>\n",
       "      <td>https://tiki.vn/product-p198087840.html?spid=1...</td>\n",
       "      <td>Bìa mềm</td>\n",
       "      <td>130000</td>\n",
       "      <td>130000</td>\n",
       "      <td>0</td>\n",
       "      <td>0.0</td>\n",
       "      <td>0</td>\n",
       "      <td>backorder</td>\n",
       "      <td>Nhà Sách Tiki/Sách tiếng Việt/Sách kinh tế/Sác...</td>\n",
       "      <td>74</td>\n",
       "      <td>Sách tài chính, kế toán</td>\n",
       "      <td>0</td>\n",
       "      <td>NaN</td>\n",
       "      <td>Công Ty TNHH BK Education</td>\n",
       "      <td>NaT</td>\n",
       "      <td>NaN</td>\n",
       "      <td>Nhà Xuất Bản Kinh Tế TPHCM</td>\n",
       "      <td>9786049223471</td>\n",
       "      <td>NaN</td>\n",
       "      <td>NaN</td>\n",
       "      <td>NaN</td>\n",
       "    </tr>\n",
       "  </tbody>\n",
       "</table>\n",
       "</div>"
      ],
      "text/plain": [
       "              id            sku  \\\n",
       "14707  198087840  9079961711988   \n",
       "\n",
       "                                                    name  \\\n",
       "14707  QUẢN TRỊ NGÂN HÀNG (Quản Trị Kinh Doanh Ngân H...   \n",
       "\n",
       "                                               short_url book_cover   price  \\\n",
       "14707  https://tiki.vn/product-p198087840.html?spid=1...    Bìa mềm  130000   \n",
       "\n",
       "       original_price  discount_rate  rating_average  review_count  \\\n",
       "14707          130000              0             0.0             0   \n",
       "\n",
       "      inventory_type                              productset_group_name  \\\n",
       "14707      backorder  Nhà Sách Tiki/Sách tiếng Việt/Sách kinh tế/Sác...   \n",
       "\n",
       "       day_ago_created               categories  all_time_quantity_sold  \\\n",
       "14707               74  Sách tài chính, kế toán                       0   \n",
       "\n",
       "      authors               publisher_vn publication_date dimensions  \\\n",
       "14707     NaN  Công Ty TNHH BK Education              NaT        NaN   \n",
       "\n",
       "                     manufacturer  number_of_page dich_gia edition luu_y  \n",
       "14707  Nhà Xuất Bản Kinh Tế TPHCM   9786049223471      NaN     NaN   NaN  "
      ]
     },
     "execution_count": 61,
     "metadata": {},
     "output_type": "execute_result"
    }
   ],
   "source": [
    "df.loc[df['number_of_page'].max() == df['number_of_page']]"
   ]
  },
  {
   "cell_type": "code",
   "execution_count": 62,
   "metadata": {},
   "outputs": [
    {
     "data": {
      "text/html": [
       "<div>\n",
       "<style scoped>\n",
       "    .dataframe tbody tr th:only-of-type {\n",
       "        vertical-align: middle;\n",
       "    }\n",
       "\n",
       "    .dataframe tbody tr th {\n",
       "        vertical-align: top;\n",
       "    }\n",
       "\n",
       "    .dataframe thead th {\n",
       "        text-align: right;\n",
       "    }\n",
       "</style>\n",
       "<table border=\"1\" class=\"dataframe\">\n",
       "  <thead>\n",
       "    <tr style=\"text-align: right;\">\n",
       "      <th></th>\n",
       "      <th>id</th>\n",
       "      <th>sku</th>\n",
       "      <th>name</th>\n",
       "      <th>short_url</th>\n",
       "      <th>book_cover</th>\n",
       "      <th>price</th>\n",
       "      <th>original_price</th>\n",
       "      <th>discount_rate</th>\n",
       "      <th>rating_average</th>\n",
       "      <th>review_count</th>\n",
       "      <th>inventory_type</th>\n",
       "      <th>productset_group_name</th>\n",
       "      <th>day_ago_created</th>\n",
       "      <th>categories</th>\n",
       "      <th>all_time_quantity_sold</th>\n",
       "      <th>authors</th>\n",
       "      <th>publisher_vn</th>\n",
       "      <th>publication_date</th>\n",
       "      <th>dimensions</th>\n",
       "      <th>manufacturer</th>\n",
       "      <th>number_of_page</th>\n",
       "      <th>dich_gia</th>\n",
       "      <th>edition</th>\n",
       "      <th>luu_y</th>\n",
       "    </tr>\n",
       "  </thead>\n",
       "  <tbody>\n",
       "    <tr>\n",
       "      <th>1</th>\n",
       "      <td>205279963</td>\n",
       "      <td>7618382614299</td>\n",
       "      <td>1111 - Nhật Ký Sáu Vạn Dặm Trên Yên Xe Cà Tàng</td>\n",
       "      <td>https://tiki.vn/product-p205279963.html?spid=2...</td>\n",
       "      <td>Bìa mềm</td>\n",
       "      <td>256750</td>\n",
       "      <td>325000</td>\n",
       "      <td>21</td>\n",
       "      <td>0.0</td>\n",
       "      <td>0</td>\n",
       "      <td>backorder</td>\n",
       "      <td>Nhà Sách Tiki/Sách tiếng Việt/Sách văn học/Du ký</td>\n",
       "      <td>22</td>\n",
       "      <td>Du ký</td>\n",
       "      <td>3</td>\n",
       "      <td>Trần Đặng Đăng Khoa</td>\n",
       "      <td>NXB Trẻ</td>\n",
       "      <td>2022-11-11 17:44:46</td>\n",
       "      <td>NaN</td>\n",
       "      <td>NXB Trẻ</td>\n",
       "      <td>778</td>\n",
       "      <td>NaN</td>\n",
       "      <td>NaN</td>\n",
       "      <td>NaN</td>\n",
       "    </tr>\n",
       "    <tr>\n",
       "      <th>3</th>\n",
       "      <td>205288789</td>\n",
       "      <td>9035774965791</td>\n",
       "      <td>1111 - Nhật Ký Sáu Vạn Dặm Trên Yên Xe Cà Tàng</td>\n",
       "      <td>https://tiki.vn/product-p205288789.html?spid=2...</td>\n",
       "      <td>Bìa mềm</td>\n",
       "      <td>292500</td>\n",
       "      <td>325000</td>\n",
       "      <td>10</td>\n",
       "      <td>0.0</td>\n",
       "      <td>0</td>\n",
       "      <td>backorder</td>\n",
       "      <td>Nhà Sách Tiki/Sách tiếng Việt/Sách văn học/Du ký</td>\n",
       "      <td>22</td>\n",
       "      <td>Du ký</td>\n",
       "      <td>2</td>\n",
       "      <td>Trần Đặng Đăng Khoa</td>\n",
       "      <td>Văn Lang</td>\n",
       "      <td>2022-11-10 20:17:06</td>\n",
       "      <td>NaN</td>\n",
       "      <td>Nhà Xuất Bản Hồng Đức</td>\n",
       "      <td>776</td>\n",
       "      <td>NaN</td>\n",
       "      <td>NaN</td>\n",
       "      <td>NaN</td>\n",
       "    </tr>\n",
       "    <tr>\n",
       "      <th>4</th>\n",
       "      <td>204649516</td>\n",
       "      <td>8708257676679</td>\n",
       "      <td>Sách - 1111 - NHẬT KÝ SÁU VẠN DẶM TRÊN YÊN XE ...</td>\n",
       "      <td>https://tiki.vn/product-p204649516.html?spid=2...</td>\n",
       "      <td>NaN</td>\n",
       "      <td>292500</td>\n",
       "      <td>325000</td>\n",
       "      <td>10</td>\n",
       "      <td>0.0</td>\n",
       "      <td>0</td>\n",
       "      <td>backorder</td>\n",
       "      <td>Nhà Sách Tiki/Sách tiếng Việt/Sách văn học/Du ký</td>\n",
       "      <td>25</td>\n",
       "      <td>Du ký</td>\n",
       "      <td>1</td>\n",
       "      <td>NaN</td>\n",
       "      <td>NXB Trẻ</td>\n",
       "      <td>NaT</td>\n",
       "      <td>NaN</td>\n",
       "      <td>NXB Trẻ</td>\n",
       "      <td>0</td>\n",
       "      <td>NaN</td>\n",
       "      <td>NaN</td>\n",
       "      <td>NaN</td>\n",
       "    </tr>\n",
       "    <tr>\n",
       "      <th>10</th>\n",
       "      <td>205293454</td>\n",
       "      <td>4751431039506</td>\n",
       "      <td>1111 - Nhật Ký Sáu Vạn Dặm Trên Yên Xe Cà Tàng</td>\n",
       "      <td>https://tiki.vn/product-p205293454.html?spid=2...</td>\n",
       "      <td>Bìa mềm</td>\n",
       "      <td>256750</td>\n",
       "      <td>325000</td>\n",
       "      <td>21</td>\n",
       "      <td>0.0</td>\n",
       "      <td>0</td>\n",
       "      <td>backorder</td>\n",
       "      <td>Nhà Sách Tiki/Sách tiếng Việt/Sách văn học/Du ký</td>\n",
       "      <td>22</td>\n",
       "      <td>Du ký</td>\n",
       "      <td>1</td>\n",
       "      <td>Trần Đặng Đăng Khoa</td>\n",
       "      <td>NXB Trẻ</td>\n",
       "      <td>2022-11-11 00:34:17</td>\n",
       "      <td>NaN</td>\n",
       "      <td>NXB Trẻ</td>\n",
       "      <td>778</td>\n",
       "      <td>NaN</td>\n",
       "      <td>NaN</td>\n",
       "      <td>NaN</td>\n",
       "    </tr>\n",
       "    <tr>\n",
       "      <th>11</th>\n",
       "      <td>196902142</td>\n",
       "      <td>7578668835779</td>\n",
       "      <td>Cơm nhà xứ Quảng (Tặng kèm 1 bộ postcard 6 tấm...</td>\n",
       "      <td>https://tiki.vn/product-p196902142.html?spid=1...</td>\n",
       "      <td>Bìa mềm</td>\n",
       "      <td>90900</td>\n",
       "      <td>130000</td>\n",
       "      <td>30</td>\n",
       "      <td>0.0</td>\n",
       "      <td>0</td>\n",
       "      <td>instock</td>\n",
       "      <td>Nhà Sách Tiki/Sách tiếng Việt/Sách văn học/Du ký</td>\n",
       "      <td>88</td>\n",
       "      <td>Du ký</td>\n",
       "      <td>12</td>\n",
       "      <td>Lưu Bình</td>\n",
       "      <td>Chibooks</td>\n",
       "      <td>2022-01-01 00:00:00</td>\n",
       "      <td>14,5 x 20,5 cm</td>\n",
       "      <td>Nhà Xuất Bản Lao Động</td>\n",
       "      <td>264</td>\n",
       "      <td>NaN</td>\n",
       "      <td>NaN</td>\n",
       "      <td>NaN</td>\n",
       "    </tr>\n",
       "    <tr>\n",
       "      <th>...</th>\n",
       "      <td>...</td>\n",
       "      <td>...</td>\n",
       "      <td>...</td>\n",
       "      <td>...</td>\n",
       "      <td>...</td>\n",
       "      <td>...</td>\n",
       "      <td>...</td>\n",
       "      <td>...</td>\n",
       "      <td>...</td>\n",
       "      <td>...</td>\n",
       "      <td>...</td>\n",
       "      <td>...</td>\n",
       "      <td>...</td>\n",
       "      <td>...</td>\n",
       "      <td>...</td>\n",
       "      <td>...</td>\n",
       "      <td>...</td>\n",
       "      <td>...</td>\n",
       "      <td>...</td>\n",
       "      <td>...</td>\n",
       "      <td>...</td>\n",
       "      <td>...</td>\n",
       "      <td>...</td>\n",
       "      <td>...</td>\n",
       "    </tr>\n",
       "    <tr>\n",
       "      <th>48286</th>\n",
       "      <td>196188369</td>\n",
       "      <td>5713282049823</td>\n",
       "      <td>Sách: Thỏa Giấc Mơ Vàng</td>\n",
       "      <td>https://tiki.vn/product-p196188369.html?spid=1...</td>\n",
       "      <td>NaN</td>\n",
       "      <td>99000</td>\n",
       "      <td>99000</td>\n",
       "      <td>0</td>\n",
       "      <td>0.0</td>\n",
       "      <td>0</td>\n",
       "      <td>backorder</td>\n",
       "      <td>Nhà Sách Tiki/Sách tiếng Việt/Thể Dục - Thể Thao</td>\n",
       "      <td>95</td>\n",
       "      <td>Thể Dục - Thể Thao</td>\n",
       "      <td>0</td>\n",
       "      <td>NaN</td>\n",
       "      <td>THBooks</td>\n",
       "      <td>NaT</td>\n",
       "      <td>NaN</td>\n",
       "      <td>Nhà Xuất Bản Hà Nội</td>\n",
       "      <td>0</td>\n",
       "      <td>NaN</td>\n",
       "      <td>NaN</td>\n",
       "      <td>NaN</td>\n",
       "    </tr>\n",
       "    <tr>\n",
       "      <th>48287</th>\n",
       "      <td>193012816</td>\n",
       "      <td>3059358886376</td>\n",
       "      <td>KIMI RAIKKONE - TAY ĐUA VÔ ĐỊCH F1 - Võ Xuân Q...</td>\n",
       "      <td>https://tiki.vn/product-p193012816.html?spid=1...</td>\n",
       "      <td>Bìa mềm</td>\n",
       "      <td>145000</td>\n",
       "      <td>145000</td>\n",
       "      <td>0</td>\n",
       "      <td>0.0</td>\n",
       "      <td>0</td>\n",
       "      <td>backorder</td>\n",
       "      <td>Nhà Sách Tiki/Sách tiếng Việt/Thể Dục - Thể Thao</td>\n",
       "      <td>124</td>\n",
       "      <td>Thể Dục - Thể Thao</td>\n",
       "      <td>0</td>\n",
       "      <td>NaN</td>\n",
       "      <td>NXB Trẻ</td>\n",
       "      <td>NaT</td>\n",
       "      <td>NaN</td>\n",
       "      <td>NXB Trẻ</td>\n",
       "      <td>255</td>\n",
       "      <td>NaN</td>\n",
       "      <td>NaN</td>\n",
       "      <td>NaN</td>\n",
       "    </tr>\n",
       "    <tr>\n",
       "      <th>48288</th>\n",
       "      <td>178329990</td>\n",
       "      <td>6962259898378</td>\n",
       "      <td>Combo Sách Dinh Dưỡng Xanh + Thần Dược Xanh (B...</td>\n",
       "      <td>https://tiki.vn/product-p178329990.html?spid=1...</td>\n",
       "      <td>NaN</td>\n",
       "      <td>278000</td>\n",
       "      <td>278000</td>\n",
       "      <td>0</td>\n",
       "      <td>0.0</td>\n",
       "      <td>0</td>\n",
       "      <td>backorder</td>\n",
       "      <td>Nhà Sách Tiki/Sách tiếng Việt/Thể Dục - Thể Thao</td>\n",
       "      <td>209</td>\n",
       "      <td>Thể Dục - Thể Thao</td>\n",
       "      <td>0</td>\n",
       "      <td>NaN</td>\n",
       "      <td>Nhà Xuất Bản Đại Học Quốc Gia Hà Nội</td>\n",
       "      <td>NaT</td>\n",
       "      <td>NaN</td>\n",
       "      <td>Nhà Xuất Bản Đại Học Quốc Gia Hà Nội</td>\n",
       "      <td>0</td>\n",
       "      <td>NaN</td>\n",
       "      <td>NaN</td>\n",
       "      <td>NaN</td>\n",
       "    </tr>\n",
       "    <tr>\n",
       "      <th>48289</th>\n",
       "      <td>178533825</td>\n",
       "      <td>8616063180569</td>\n",
       "      <td>U23 - Những Chuyện Chưa Kể (Tái Bản )</td>\n",
       "      <td>https://tiki.vn/product-p178533825.html?spid=1...</td>\n",
       "      <td>Bìa mềm</td>\n",
       "      <td>93000</td>\n",
       "      <td>109000</td>\n",
       "      <td>15</td>\n",
       "      <td>0.0</td>\n",
       "      <td>0</td>\n",
       "      <td>backorder</td>\n",
       "      <td>Nhà Sách Tiki/Sách tiếng Việt/Thể Dục - Thể Thao</td>\n",
       "      <td>211</td>\n",
       "      <td>Thể Dục - Thể Thao</td>\n",
       "      <td>0</td>\n",
       "      <td>NaN</td>\n",
       "      <td>Alphabooks</td>\n",
       "      <td>NaT</td>\n",
       "      <td>NaN</td>\n",
       "      <td>Nhà Xuất Bản Thể Thao Và Du Lịch</td>\n",
       "      <td>0</td>\n",
       "      <td>NaN</td>\n",
       "      <td>NaN</td>\n",
       "      <td>NaN</td>\n",
       "    </tr>\n",
       "    <tr>\n",
       "      <th>48290</th>\n",
       "      <td>120183189</td>\n",
       "      <td>8553231712882</td>\n",
       "      <td>Sách - Bản Quyền - Hàng Phòng Thủ Để Canon Cất...</td>\n",
       "      <td>https://tiki.vn/product-p120183189.html?spid=1...</td>\n",
       "      <td>NaN</td>\n",
       "      <td>67000</td>\n",
       "      <td>79000</td>\n",
       "      <td>15</td>\n",
       "      <td>0.0</td>\n",
       "      <td>0</td>\n",
       "      <td>backorder</td>\n",
       "      <td>Nhà Sách Tiki/Sách tiếng Việt/Thể Dục - Thể Thao</td>\n",
       "      <td>463</td>\n",
       "      <td>Thể Dục - Thể Thao</td>\n",
       "      <td>0</td>\n",
       "      <td>NaN</td>\n",
       "      <td>Thái Hà</td>\n",
       "      <td>NaT</td>\n",
       "      <td>NaN</td>\n",
       "      <td>nxb thanh nien</td>\n",
       "      <td>0</td>\n",
       "      <td>NaN</td>\n",
       "      <td>NaN</td>\n",
       "      <td>NaN</td>\n",
       "    </tr>\n",
       "  </tbody>\n",
       "</table>\n",
       "<p>33361 rows × 24 columns</p>\n",
       "</div>"
      ],
      "text/plain": [
       "              id            sku  \\\n",
       "1      205279963  7618382614299   \n",
       "3      205288789  9035774965791   \n",
       "4      204649516  8708257676679   \n",
       "10     205293454  4751431039506   \n",
       "11     196902142  7578668835779   \n",
       "...          ...            ...   \n",
       "48286  196188369  5713282049823   \n",
       "48287  193012816  3059358886376   \n",
       "48288  178329990  6962259898378   \n",
       "48289  178533825  8616063180569   \n",
       "48290  120183189  8553231712882   \n",
       "\n",
       "                                                    name  \\\n",
       "1         1111 - Nhật Ký Sáu Vạn Dặm Trên Yên Xe Cà Tàng   \n",
       "3         1111 - Nhật Ký Sáu Vạn Dặm Trên Yên Xe Cà Tàng   \n",
       "4      Sách - 1111 - NHẬT KÝ SÁU VẠN DẶM TRÊN YÊN XE ...   \n",
       "10        1111 - Nhật Ký Sáu Vạn Dặm Trên Yên Xe Cà Tàng   \n",
       "11     Cơm nhà xứ Quảng (Tặng kèm 1 bộ postcard 6 tấm...   \n",
       "...                                                  ...   \n",
       "48286                            Sách: Thỏa Giấc Mơ Vàng   \n",
       "48287  KIMI RAIKKONE - TAY ĐUA VÔ ĐỊCH F1 - Võ Xuân Q...   \n",
       "48288  Combo Sách Dinh Dưỡng Xanh + Thần Dược Xanh (B...   \n",
       "48289              U23 - Những Chuyện Chưa Kể (Tái Bản )   \n",
       "48290  Sách - Bản Quyền - Hàng Phòng Thủ Để Canon Cất...   \n",
       "\n",
       "                                               short_url book_cover   price  \\\n",
       "1      https://tiki.vn/product-p205279963.html?spid=2...    Bìa mềm  256750   \n",
       "3      https://tiki.vn/product-p205288789.html?spid=2...    Bìa mềm  292500   \n",
       "4      https://tiki.vn/product-p204649516.html?spid=2...        NaN  292500   \n",
       "10     https://tiki.vn/product-p205293454.html?spid=2...    Bìa mềm  256750   \n",
       "11     https://tiki.vn/product-p196902142.html?spid=1...    Bìa mềm   90900   \n",
       "...                                                  ...        ...     ...   \n",
       "48286  https://tiki.vn/product-p196188369.html?spid=1...        NaN   99000   \n",
       "48287  https://tiki.vn/product-p193012816.html?spid=1...    Bìa mềm  145000   \n",
       "48288  https://tiki.vn/product-p178329990.html?spid=1...        NaN  278000   \n",
       "48289  https://tiki.vn/product-p178533825.html?spid=1...    Bìa mềm   93000   \n",
       "48290  https://tiki.vn/product-p120183189.html?spid=1...        NaN   67000   \n",
       "\n",
       "       original_price  discount_rate  rating_average  review_count  \\\n",
       "1              325000             21             0.0             0   \n",
       "3              325000             10             0.0             0   \n",
       "4              325000             10             0.0             0   \n",
       "10             325000             21             0.0             0   \n",
       "11             130000             30             0.0             0   \n",
       "...               ...            ...             ...           ...   \n",
       "48286           99000              0             0.0             0   \n",
       "48287          145000              0             0.0             0   \n",
       "48288          278000              0             0.0             0   \n",
       "48289          109000             15             0.0             0   \n",
       "48290           79000             15             0.0             0   \n",
       "\n",
       "      inventory_type                             productset_group_name  \\\n",
       "1          backorder  Nhà Sách Tiki/Sách tiếng Việt/Sách văn học/Du ký   \n",
       "3          backorder  Nhà Sách Tiki/Sách tiếng Việt/Sách văn học/Du ký   \n",
       "4          backorder  Nhà Sách Tiki/Sách tiếng Việt/Sách văn học/Du ký   \n",
       "10         backorder  Nhà Sách Tiki/Sách tiếng Việt/Sách văn học/Du ký   \n",
       "11           instock  Nhà Sách Tiki/Sách tiếng Việt/Sách văn học/Du ký   \n",
       "...              ...                                               ...   \n",
       "48286      backorder  Nhà Sách Tiki/Sách tiếng Việt/Thể Dục - Thể Thao   \n",
       "48287      backorder  Nhà Sách Tiki/Sách tiếng Việt/Thể Dục - Thể Thao   \n",
       "48288      backorder  Nhà Sách Tiki/Sách tiếng Việt/Thể Dục - Thể Thao   \n",
       "48289      backorder  Nhà Sách Tiki/Sách tiếng Việt/Thể Dục - Thể Thao   \n",
       "48290      backorder  Nhà Sách Tiki/Sách tiếng Việt/Thể Dục - Thể Thao   \n",
       "\n",
       "       day_ago_created          categories  all_time_quantity_sold  \\\n",
       "1                   22               Du ký                       3   \n",
       "3                   22               Du ký                       2   \n",
       "4                   25               Du ký                       1   \n",
       "10                  22               Du ký                       1   \n",
       "11                  88               Du ký                      12   \n",
       "...                ...                 ...                     ...   \n",
       "48286               95  Thể Dục - Thể Thao                       0   \n",
       "48287              124  Thể Dục - Thể Thao                       0   \n",
       "48288              209  Thể Dục - Thể Thao                       0   \n",
       "48289              211  Thể Dục - Thể Thao                       0   \n",
       "48290              463  Thể Dục - Thể Thao                       0   \n",
       "\n",
       "                   authors                          publisher_vn  \\\n",
       "1      Trần Đặng Đăng Khoa                               NXB Trẻ   \n",
       "3      Trần Đặng Đăng Khoa                              Văn Lang   \n",
       "4                      NaN                               NXB Trẻ   \n",
       "10     Trần Đặng Đăng Khoa                               NXB Trẻ   \n",
       "11                Lưu Bình                              Chibooks   \n",
       "...                    ...                                   ...   \n",
       "48286                  NaN                               THBooks   \n",
       "48287                  NaN                               NXB Trẻ   \n",
       "48288                  NaN  Nhà Xuất Bản Đại Học Quốc Gia Hà Nội   \n",
       "48289                  NaN                            Alphabooks   \n",
       "48290                  NaN                               Thái Hà   \n",
       "\n",
       "         publication_date      dimensions  \\\n",
       "1     2022-11-11 17:44:46             NaN   \n",
       "3     2022-11-10 20:17:06             NaN   \n",
       "4                     NaT             NaN   \n",
       "10    2022-11-11 00:34:17             NaN   \n",
       "11    2022-01-01 00:00:00  14,5 x 20,5 cm   \n",
       "...                   ...             ...   \n",
       "48286                 NaT             NaN   \n",
       "48287                 NaT             NaN   \n",
       "48288                 NaT             NaN   \n",
       "48289                 NaT             NaN   \n",
       "48290                 NaT             NaN   \n",
       "\n",
       "                               manufacturer  number_of_page dich_gia edition  \\\n",
       "1                                   NXB Trẻ             778      NaN     NaN   \n",
       "3                     Nhà Xuất Bản Hồng Đức             776      NaN     NaN   \n",
       "4                                   NXB Trẻ               0      NaN     NaN   \n",
       "10                                  NXB Trẻ             778      NaN     NaN   \n",
       "11                    Nhà Xuất Bản Lao Động             264      NaN     NaN   \n",
       "...                                     ...             ...      ...     ...   \n",
       "48286                   Nhà Xuất Bản Hà Nội               0      NaN     NaN   \n",
       "48287                               NXB Trẻ             255      NaN     NaN   \n",
       "48288  Nhà Xuất Bản Đại Học Quốc Gia Hà Nội               0      NaN     NaN   \n",
       "48289      Nhà Xuất Bản Thể Thao Và Du Lịch               0      NaN     NaN   \n",
       "48290                        nxb thanh nien               0      NaN     NaN   \n",
       "\n",
       "      luu_y  \n",
       "1       NaN  \n",
       "3       NaN  \n",
       "4       NaN  \n",
       "10      NaN  \n",
       "11      NaN  \n",
       "...     ...  \n",
       "48286   NaN  \n",
       "48287   NaN  \n",
       "48288   NaN  \n",
       "48289   NaN  \n",
       "48290   NaN  \n",
       "\n",
       "[33361 rows x 24 columns]"
      ]
     },
     "execution_count": 62,
     "metadata": {},
     "output_type": "execute_result"
    }
   ],
   "source": [
    "df.loc[df['rating_average'] == 0.0]"
   ]
  },
  {
   "cell_type": "markdown",
   "metadata": {},
   "source": [
    "---"
   ]
  }
 ],
 "metadata": {
  "kernelspec": {
   "display_name": "myenv",
   "language": "python",
   "name": "python3"
  },
  "language_info": {
   "codemirror_mode": {
    "name": "ipython",
    "version": 3
   },
   "file_extension": ".py",
   "mimetype": "text/x-python",
   "name": "python",
   "nbconvert_exporter": "python",
   "pygments_lexer": "ipython3",
   "version": "3.9.13"
  },
  "vscode": {
   "interpreter": {
    "hash": "17b49a1913d9be682908a9e6ac75a9b3bca45cee2e4d43cdb55ba78702e35dcb"
   }
  }
 },
 "nbformat": 4,
 "nbformat_minor": 2
}
