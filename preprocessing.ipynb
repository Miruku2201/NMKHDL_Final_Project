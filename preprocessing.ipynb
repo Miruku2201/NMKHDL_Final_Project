{
 "cells": [
  {
   "cell_type": "markdown",
   "metadata": {},
   "source": [
    "**<p style = \"text-align: center\">TRƯỜNG ĐẠI HỌC KHOA HỌC TỰ NHIÊN - ĐẠI HỌC QUỐC GIA TPHCM</p>**"
   ]
  },
  {
   "cell_type": "markdown",
   "metadata": {},
   "source": [
    "# **<p style = \"text-align: center\">NHẬP MÔN KHOA HỌC DỮ LIỆU</p>**\n",
    "## **<p style = \"text-align: center\">Đồ án Cuối kì</p>**\n",
    "### <p style = \"text-align: center\"> <b>Đề tài:</b> Phân tích, khám phá dữ liệu về sách trên web thương mại điện tử (tiki)</p>\n",
    "**Sinh viên thực hiện**\n",
    "\n",
    "| Mã số sinh viên | Họ và tên |\n",
    "| --- | --- |\n",
    "| 20120040 | Nguyễn Quang Gia Bảo |\n",
    "| 20120136 | Huỳnh Tuấn Nam |\n",
    "| 20120158 | Trần Hoàng Anh Phi |"
   ]
  },
  {
   "cell_type": "markdown",
   "metadata": {},
   "source": [
    "---"
   ]
  },
  {
   "cell_type": "markdown",
   "metadata": {},
   "source": [
    "# **1. Thông tin về dữ liệu**<br>\n",
    "Dữ liệu được sử dụng trong bài được lấy từ trang: <a href = \"https://tiki.vn/sach-truyen-tieng-viet/c316\"> https://tiki.vn/sach-truyen-tieng-viet/c316</a><br>\n",
    "\n",
    "Vì website <a href = 'https://tiki.vn/'> https://tiki.vn/ </a> có khá là nhiều mặt hàng nên nhóm chỉ chọn ra danh mục <font color=red>sách tiếng Việt</font> để crawl và thực hiện đồ án này.\n"
   ]
  },
  {
   "cell_type": "markdown",
   "metadata": {},
   "source": [
    "# **2. Khám phá dữ liệu**<br>"
   ]
  },
  {
   "cell_type": "markdown",
   "metadata": {},
   "source": [
    "#### Cài đặt các thư viện cần thiết"
   ]
  },
  {
   "cell_type": "code",
   "execution_count": 36,
   "metadata": {},
   "outputs": [],
   "source": [
    "# !pip install fuzzywuzzy\n",
    "# !pip install python-Levenshtein"
   ]
  },
  {
   "cell_type": "markdown",
   "metadata": {},
   "source": [
    "#### Import các package cần thiết"
   ]
  },
  {
   "cell_type": "code",
   "execution_count": 37,
   "metadata": {},
   "outputs": [],
   "source": [
    "import pandas as pd\n",
    "import numpy as np"
   ]
  },
  {
   "cell_type": "markdown",
   "metadata": {},
   "source": [
    "#### Đọc dữ liệu đã thu thập từ file csv "
   ]
  },
  {
   "cell_type": "code",
   "execution_count": 38,
   "metadata": {},
   "outputs": [
    {
     "name": "stdout",
     "output_type": "stream",
     "text": [
      "(96647, 84)\n"
     ]
    },
    {
     "name": "stderr",
     "output_type": "stream",
     "text": [
      "/var/folders/gg/4_1r0r1n6nn2sslng47v_j180000gn/T/ipykernel_67858/906639567.py:1: DtypeWarning: Columns (22,27,29,30,31,32,33,34,35,36,37,38,39,40,41,43,45,46,47,48,49,50,51,52,53,54,56,57,58,59,60,61,62,63,64,65,67,68,69,70,71,72,73,74,75,76,77,78,79,80,81,82,83) have mixed types. Specify dtype option on import or set low_memory=False.\n",
      "  df = pd.read_csv('full_data/data.csv')\n"
     ]
    },
    {
     "data": {
      "text/html": [
       "<div>\n",
       "<style scoped>\n",
       "    .dataframe tbody tr th:only-of-type {\n",
       "        vertical-align: middle;\n",
       "    }\n",
       "\n",
       "    .dataframe tbody tr th {\n",
       "        vertical-align: top;\n",
       "    }\n",
       "\n",
       "    .dataframe thead th {\n",
       "        text-align: right;\n",
       "    }\n",
       "</style>\n",
       "<table border=\"1\" class=\"dataframe\">\n",
       "  <thead>\n",
       "    <tr style=\"text-align: right;\">\n",
       "      <th></th>\n",
       "      <th>Unnamed: 0</th>\n",
       "      <th>id</th>\n",
       "      <th>master_id</th>\n",
       "      <th>sku</th>\n",
       "      <th>name</th>\n",
       "      <th>short_url</th>\n",
       "      <th>book_cover</th>\n",
       "      <th>price</th>\n",
       "      <th>original_price</th>\n",
       "      <th>discount_rate</th>\n",
       "      <th>...</th>\n",
       "      <th>kich_thuoc</th>\n",
       "      <th>tai_trong</th>\n",
       "      <th>device_brand</th>\n",
       "      <th>do_nhay</th>\n",
       "      <th>tan_so</th>\n",
       "      <th>huong_dan_bao_quan</th>\n",
       "      <th>dac_diem_noi_bat</th>\n",
       "      <th>dieu_kien_su_dung</th>\n",
       "      <th>dia_chi_su_dung</th>\n",
       "      <th>bluetooth</th>\n",
       "    </tr>\n",
       "  </thead>\n",
       "  <tbody>\n",
       "    <tr>\n",
       "      <th>0</th>\n",
       "      <td>0</td>\n",
       "      <td>204317934</td>\n",
       "      <td>204317934</td>\n",
       "      <td>9972713357587</td>\n",
       "      <td>1111 - Nhật Ký Sáu Vạn Dặm Trên Yên Xe Cà Tàng</td>\n",
       "      <td>https://tiki.vn/product-p204317934.html?spid=2...</td>\n",
       "      <td>NaN</td>\n",
       "      <td>262000</td>\n",
       "      <td>325000</td>\n",
       "      <td>19</td>\n",
       "      <td>...</td>\n",
       "      <td>NaN</td>\n",
       "      <td>NaN</td>\n",
       "      <td>NaN</td>\n",
       "      <td>NaN</td>\n",
       "      <td>NaN</td>\n",
       "      <td>NaN</td>\n",
       "      <td>NaN</td>\n",
       "      <td>NaN</td>\n",
       "      <td>NaN</td>\n",
       "      <td>NaN</td>\n",
       "    </tr>\n",
       "    <tr>\n",
       "      <th>1</th>\n",
       "      <td>1</td>\n",
       "      <td>205279963</td>\n",
       "      <td>205279963</td>\n",
       "      <td>7618382614299</td>\n",
       "      <td>1111 - Nhật Ký Sáu Vạn Dặm Trên Yên Xe Cà Tàng</td>\n",
       "      <td>https://tiki.vn/product-p205279963.html?spid=2...</td>\n",
       "      <td>Bìa mềm</td>\n",
       "      <td>256750</td>\n",
       "      <td>325000</td>\n",
       "      <td>21</td>\n",
       "      <td>...</td>\n",
       "      <td>NaN</td>\n",
       "      <td>NaN</td>\n",
       "      <td>NaN</td>\n",
       "      <td>NaN</td>\n",
       "      <td>NaN</td>\n",
       "      <td>NaN</td>\n",
       "      <td>NaN</td>\n",
       "      <td>NaN</td>\n",
       "      <td>NaN</td>\n",
       "      <td>NaN</td>\n",
       "    </tr>\n",
       "    <tr>\n",
       "      <th>2</th>\n",
       "      <td>2</td>\n",
       "      <td>193209826</td>\n",
       "      <td>193209826</td>\n",
       "      <td>5001141446127</td>\n",
       "      <td>Con Đường Tơ Lụa - Vạn Dặm Xa Từ Pakistan Tới ...</td>\n",
       "      <td>https://tiki.vn/product-p193209826.html?spid=1...</td>\n",
       "      <td>Bìa mềm</td>\n",
       "      <td>95100</td>\n",
       "      <td>129000</td>\n",
       "      <td>26</td>\n",
       "      <td>...</td>\n",
       "      <td>NaN</td>\n",
       "      <td>NaN</td>\n",
       "      <td>NaN</td>\n",
       "      <td>NaN</td>\n",
       "      <td>NaN</td>\n",
       "      <td>NaN</td>\n",
       "      <td>NaN</td>\n",
       "      <td>NaN</td>\n",
       "      <td>NaN</td>\n",
       "      <td>NaN</td>\n",
       "    </tr>\n",
       "    <tr>\n",
       "      <th>3</th>\n",
       "      <td>3</td>\n",
       "      <td>205288789</td>\n",
       "      <td>205288789</td>\n",
       "      <td>9035774965791</td>\n",
       "      <td>1111 - Nhật Ký Sáu Vạn Dặm Trên Yên Xe Cà Tàng</td>\n",
       "      <td>https://tiki.vn/product-p205288789.html?spid=2...</td>\n",
       "      <td>Bìa mềm</td>\n",
       "      <td>292500</td>\n",
       "      <td>325000</td>\n",
       "      <td>10</td>\n",
       "      <td>...</td>\n",
       "      <td>NaN</td>\n",
       "      <td>NaN</td>\n",
       "      <td>NaN</td>\n",
       "      <td>NaN</td>\n",
       "      <td>NaN</td>\n",
       "      <td>NaN</td>\n",
       "      <td>NaN</td>\n",
       "      <td>NaN</td>\n",
       "      <td>NaN</td>\n",
       "      <td>NaN</td>\n",
       "    </tr>\n",
       "    <tr>\n",
       "      <th>4</th>\n",
       "      <td>4</td>\n",
       "      <td>204649516</td>\n",
       "      <td>204649516</td>\n",
       "      <td>8708257676679</td>\n",
       "      <td>Sách - 1111 - NHẬT KÝ SÁU VẠN DẶM TRÊN YÊN XE ...</td>\n",
       "      <td>https://tiki.vn/product-p204649516.html?spid=2...</td>\n",
       "      <td>NaN</td>\n",
       "      <td>292500</td>\n",
       "      <td>325000</td>\n",
       "      <td>10</td>\n",
       "      <td>...</td>\n",
       "      <td>NaN</td>\n",
       "      <td>NaN</td>\n",
       "      <td>NaN</td>\n",
       "      <td>NaN</td>\n",
       "      <td>NaN</td>\n",
       "      <td>NaN</td>\n",
       "      <td>NaN</td>\n",
       "      <td>NaN</td>\n",
       "      <td>NaN</td>\n",
       "      <td>NaN</td>\n",
       "    </tr>\n",
       "  </tbody>\n",
       "</table>\n",
       "<p>5 rows × 84 columns</p>\n",
       "</div>"
      ],
      "text/plain": [
       "   Unnamed: 0         id  master_id            sku  \\\n",
       "0           0  204317934  204317934  9972713357587   \n",
       "1           1  205279963  205279963  7618382614299   \n",
       "2           2  193209826  193209826  5001141446127   \n",
       "3           3  205288789  205288789  9035774965791   \n",
       "4           4  204649516  204649516  8708257676679   \n",
       "\n",
       "                                                name  \\\n",
       "0     1111 - Nhật Ký Sáu Vạn Dặm Trên Yên Xe Cà Tàng   \n",
       "1     1111 - Nhật Ký Sáu Vạn Dặm Trên Yên Xe Cà Tàng   \n",
       "2  Con Đường Tơ Lụa - Vạn Dặm Xa Từ Pakistan Tới ...   \n",
       "3     1111 - Nhật Ký Sáu Vạn Dặm Trên Yên Xe Cà Tàng   \n",
       "4  Sách - 1111 - NHẬT KÝ SÁU VẠN DẶM TRÊN YÊN XE ...   \n",
       "\n",
       "                                           short_url book_cover   price  \\\n",
       "0  https://tiki.vn/product-p204317934.html?spid=2...        NaN  262000   \n",
       "1  https://tiki.vn/product-p205279963.html?spid=2...    Bìa mềm  256750   \n",
       "2  https://tiki.vn/product-p193209826.html?spid=1...    Bìa mềm   95100   \n",
       "3  https://tiki.vn/product-p205288789.html?spid=2...    Bìa mềm  292500   \n",
       "4  https://tiki.vn/product-p204649516.html?spid=2...        NaN  292500   \n",
       "\n",
       "   original_price  discount_rate  ...  kich_thuoc  tai_trong device_brand  \\\n",
       "0          325000             19  ...         NaN        NaN          NaN   \n",
       "1          325000             21  ...         NaN        NaN          NaN   \n",
       "2          129000             26  ...         NaN        NaN          NaN   \n",
       "3          325000             10  ...         NaN        NaN          NaN   \n",
       "4          325000             10  ...         NaN        NaN          NaN   \n",
       "\n",
       "  do_nhay  tan_so huong_dan_bao_quan  dac_diem_noi_bat dieu_kien_su_dung  \\\n",
       "0     NaN     NaN                NaN               NaN               NaN   \n",
       "1     NaN     NaN                NaN               NaN               NaN   \n",
       "2     NaN     NaN                NaN               NaN               NaN   \n",
       "3     NaN     NaN                NaN               NaN               NaN   \n",
       "4     NaN     NaN                NaN               NaN               NaN   \n",
       "\n",
       "  dia_chi_su_dung bluetooth  \n",
       "0             NaN       NaN  \n",
       "1             NaN       NaN  \n",
       "2             NaN       NaN  \n",
       "3             NaN       NaN  \n",
       "4             NaN       NaN  \n",
       "\n",
       "[5 rows x 84 columns]"
      ]
     },
     "metadata": {},
     "output_type": "display_data"
    }
   ],
   "source": [
    "df = pd.read_csv('full_data/data.csv')\n",
    "print(df.shape)\n",
    "display(df.head())"
   ]
  },
  {
   "cell_type": "code",
   "execution_count": 39,
   "metadata": {},
   "outputs": [
    {
     "name": "stdout",
     "output_type": "stream",
     "text": [
      "<class 'pandas.core.frame.DataFrame'>\n",
      "RangeIndex: 96647 entries, 0 to 96646\n",
      "Data columns (total 84 columns):\n",
      " #   Column                        Non-Null Count  Dtype  \n",
      "---  ------                        --------------  -----  \n",
      " 0   Unnamed: 0                    96647 non-null  int64  \n",
      " 1   id                            96647 non-null  int64  \n",
      " 2   master_id                     96647 non-null  int64  \n",
      " 3   sku                           96647 non-null  int64  \n",
      " 4   name                          96647 non-null  object \n",
      " 5   short_url                     96647 non-null  object \n",
      " 6   book_cover                    66029 non-null  object \n",
      " 7   price                         96647 non-null  int64  \n",
      " 8   original_price                96647 non-null  int64  \n",
      " 9   discount_rate                 96647 non-null  int64  \n",
      " 10  rating_average                96647 non-null  float64\n",
      " 11  review_count                  96647 non-null  int64  \n",
      " 12  inventory_type                96647 non-null  object \n",
      " 13  productset_group_name         96647 non-null  object \n",
      " 14  day_ago_created               96647 non-null  int64  \n",
      " 15  categories                    96284 non-null  object \n",
      " 16  all_time_quantity_sold        96647 non-null  int64  \n",
      " 17  authors                       62554 non-null  object \n",
      " 18  publisher_vn                  96159 non-null  object \n",
      " 19  publication_date              44148 non-null  object \n",
      " 20  dimensions                    32987 non-null  object \n",
      " 21  manufacturer                  80200 non-null  object \n",
      " 22  number_of_page                54673 non-null  object \n",
      " 23  dich_gia                      13726 non-null  object \n",
      " 24  edition                       2161 non-null   object \n",
      " 25  brand                         69 non-null     object \n",
      " 26  brand_country                 49 non-null     object \n",
      " 27  item_model_number             13 non-null     object \n",
      " 28  origin                        58 non-null     object \n",
      " 29  product_weight                10 non-null     object \n",
      " 30  battery_capacity              2 non-null      object \n",
      " 31  camera                        1 non-null      object \n",
      " 32  chong_nuoc                    1 non-null      object \n",
      " 33  loai_day                      2 non-null      object \n",
      " 34  san_pham                      2 non-null      object \n",
      " 35  storage                       1 non-null      object \n",
      " 36  battery_life                  1 non-null      object \n",
      " 37  charge_time                   1 non-null      object \n",
      " 38  do_chiu_nuoc                  1 non-null      object \n",
      " 39  included_accessories          2 non-null      object \n",
      " 40  material                      7 non-null      object \n",
      " 41  luu_y                         20 non-null     object \n",
      " 42  minimum_inbound_policy_days   1 non-null      float64\n",
      " 43  expiry_time                   10 non-null     object \n",
      " 44  shelf_life_days               2 non-null      float64\n",
      " 45  chat_lieu                     2 non-null      object \n",
      " 46  audio_power_output            1 non-null      object \n",
      " 47  audio_technology              1 non-null      object \n",
      " 48  dieu_khien_bang_giong_noi     1 non-null      object \n",
      " 49  dieu_khien_tivi               1 non-null      object \n",
      " 50  digital_tivi_dvb_t2           1 non-null      object \n",
      " 51  display_type                  1 non-null      object \n",
      " 52  frequency                     1 non-null      object \n",
      " 53  hdh_giao_dien                 1 non-null      object \n",
      " 54  image_processing_technology   1 non-null      object \n",
      " 55  network_hdmi                  1 non-null      float64\n",
      " 56  network_internet              1 non-null      object \n",
      " 57  network_wifi                  1 non-null      object \n",
      " 58  remote_thong_minh             1 non-null      object \n",
      " 59  resolution                    1 non-null      object \n",
      " 60  screen_mirroring              1 non-null      object \n",
      " 61  screen_size                   1 non-null      object \n",
      " 62  size_without_stand_table_top  1 non-null      object \n",
      " 63  size_with_stand_table_top     1 non-null      object \n",
      " 64  tivi_type                     1 non-null      object \n",
      " 65  ung_dung                      1 non-null      object \n",
      " 66  usb                           1 non-null      float64\n",
      " 67  weight_without_stand          1 non-null      object \n",
      " 68  weight_with_stand             1 non-null      object \n",
      " 69  size                          2 non-null      object \n",
      " 70  loai_pin                      1 non-null      object \n",
      " 71  thoi_gian_su_dung             1 non-null      object \n",
      " 72  capacity                      3 non-null      object \n",
      " 73  huong_dan_su_dung             5 non-null      object \n",
      " 74  kich_thuoc                    4 non-null      object \n",
      " 75  tai_trong                     1 non-null      object \n",
      " 76  device_brand                  1 non-null      object \n",
      " 77  do_nhay                       1 non-null      object \n",
      " 78  tan_so                        2 non-null      object \n",
      " 79  huong_dan_bao_quan            3 non-null      object \n",
      " 80  dac_diem_noi_bat              1 non-null      object \n",
      " 81  dieu_kien_su_dung             1 non-null      object \n",
      " 82  dia_chi_su_dung               1 non-null      object \n",
      " 83  bluetooth                     1 non-null      object \n",
      "dtypes: float64(5), int64(10), object(69)\n",
      "memory usage: 61.9+ MB\n"
     ]
    }
   ],
   "source": [
    "df.info()"
   ]
  },
  {
   "cell_type": "markdown",
   "metadata": {},
   "source": [
    "***"
   ]
  },
  {
   "cell_type": "markdown",
   "metadata": {},
   "source": [
    "#### **Cleaning data**"
   ]
  },
  {
   "cell_type": "markdown",
   "metadata": {},
   "source": [
    "Drop cột 'Unnamed: 0'"
   ]
  },
  {
   "cell_type": "code",
   "execution_count": 40,
   "metadata": {},
   "outputs": [
    {
     "data": {
      "text/html": [
       "<div>\n",
       "<style scoped>\n",
       "    .dataframe tbody tr th:only-of-type {\n",
       "        vertical-align: middle;\n",
       "    }\n",
       "\n",
       "    .dataframe tbody tr th {\n",
       "        vertical-align: top;\n",
       "    }\n",
       "\n",
       "    .dataframe thead th {\n",
       "        text-align: right;\n",
       "    }\n",
       "</style>\n",
       "<table border=\"1\" class=\"dataframe\">\n",
       "  <thead>\n",
       "    <tr style=\"text-align: right;\">\n",
       "      <th></th>\n",
       "      <th>id</th>\n",
       "      <th>master_id</th>\n",
       "      <th>sku</th>\n",
       "      <th>name</th>\n",
       "      <th>short_url</th>\n",
       "      <th>book_cover</th>\n",
       "      <th>price</th>\n",
       "      <th>original_price</th>\n",
       "      <th>discount_rate</th>\n",
       "      <th>rating_average</th>\n",
       "      <th>...</th>\n",
       "      <th>kich_thuoc</th>\n",
       "      <th>tai_trong</th>\n",
       "      <th>device_brand</th>\n",
       "      <th>do_nhay</th>\n",
       "      <th>tan_so</th>\n",
       "      <th>huong_dan_bao_quan</th>\n",
       "      <th>dac_diem_noi_bat</th>\n",
       "      <th>dieu_kien_su_dung</th>\n",
       "      <th>dia_chi_su_dung</th>\n",
       "      <th>bluetooth</th>\n",
       "    </tr>\n",
       "  </thead>\n",
       "  <tbody>\n",
       "    <tr>\n",
       "      <th>0</th>\n",
       "      <td>204317934</td>\n",
       "      <td>204317934</td>\n",
       "      <td>9972713357587</td>\n",
       "      <td>1111 - Nhật Ký Sáu Vạn Dặm Trên Yên Xe Cà Tàng</td>\n",
       "      <td>https://tiki.vn/product-p204317934.html?spid=2...</td>\n",
       "      <td>NaN</td>\n",
       "      <td>262000</td>\n",
       "      <td>325000</td>\n",
       "      <td>19</td>\n",
       "      <td>5.0</td>\n",
       "      <td>...</td>\n",
       "      <td>NaN</td>\n",
       "      <td>NaN</td>\n",
       "      <td>NaN</td>\n",
       "      <td>NaN</td>\n",
       "      <td>NaN</td>\n",
       "      <td>NaN</td>\n",
       "      <td>NaN</td>\n",
       "      <td>NaN</td>\n",
       "      <td>NaN</td>\n",
       "      <td>NaN</td>\n",
       "    </tr>\n",
       "    <tr>\n",
       "      <th>1</th>\n",
       "      <td>205279963</td>\n",
       "      <td>205279963</td>\n",
       "      <td>7618382614299</td>\n",
       "      <td>1111 - Nhật Ký Sáu Vạn Dặm Trên Yên Xe Cà Tàng</td>\n",
       "      <td>https://tiki.vn/product-p205279963.html?spid=2...</td>\n",
       "      <td>Bìa mềm</td>\n",
       "      <td>256750</td>\n",
       "      <td>325000</td>\n",
       "      <td>21</td>\n",
       "      <td>0.0</td>\n",
       "      <td>...</td>\n",
       "      <td>NaN</td>\n",
       "      <td>NaN</td>\n",
       "      <td>NaN</td>\n",
       "      <td>NaN</td>\n",
       "      <td>NaN</td>\n",
       "      <td>NaN</td>\n",
       "      <td>NaN</td>\n",
       "      <td>NaN</td>\n",
       "      <td>NaN</td>\n",
       "      <td>NaN</td>\n",
       "    </tr>\n",
       "    <tr>\n",
       "      <th>2</th>\n",
       "      <td>193209826</td>\n",
       "      <td>193209826</td>\n",
       "      <td>5001141446127</td>\n",
       "      <td>Con Đường Tơ Lụa - Vạn Dặm Xa Từ Pakistan Tới ...</td>\n",
       "      <td>https://tiki.vn/product-p193209826.html?spid=1...</td>\n",
       "      <td>Bìa mềm</td>\n",
       "      <td>95100</td>\n",
       "      <td>129000</td>\n",
       "      <td>26</td>\n",
       "      <td>4.8</td>\n",
       "      <td>...</td>\n",
       "      <td>NaN</td>\n",
       "      <td>NaN</td>\n",
       "      <td>NaN</td>\n",
       "      <td>NaN</td>\n",
       "      <td>NaN</td>\n",
       "      <td>NaN</td>\n",
       "      <td>NaN</td>\n",
       "      <td>NaN</td>\n",
       "      <td>NaN</td>\n",
       "      <td>NaN</td>\n",
       "    </tr>\n",
       "    <tr>\n",
       "      <th>3</th>\n",
       "      <td>205288789</td>\n",
       "      <td>205288789</td>\n",
       "      <td>9035774965791</td>\n",
       "      <td>1111 - Nhật Ký Sáu Vạn Dặm Trên Yên Xe Cà Tàng</td>\n",
       "      <td>https://tiki.vn/product-p205288789.html?spid=2...</td>\n",
       "      <td>Bìa mềm</td>\n",
       "      <td>292500</td>\n",
       "      <td>325000</td>\n",
       "      <td>10</td>\n",
       "      <td>0.0</td>\n",
       "      <td>...</td>\n",
       "      <td>NaN</td>\n",
       "      <td>NaN</td>\n",
       "      <td>NaN</td>\n",
       "      <td>NaN</td>\n",
       "      <td>NaN</td>\n",
       "      <td>NaN</td>\n",
       "      <td>NaN</td>\n",
       "      <td>NaN</td>\n",
       "      <td>NaN</td>\n",
       "      <td>NaN</td>\n",
       "    </tr>\n",
       "    <tr>\n",
       "      <th>4</th>\n",
       "      <td>204649516</td>\n",
       "      <td>204649516</td>\n",
       "      <td>8708257676679</td>\n",
       "      <td>Sách - 1111 - NHẬT KÝ SÁU VẠN DẶM TRÊN YÊN XE ...</td>\n",
       "      <td>https://tiki.vn/product-p204649516.html?spid=2...</td>\n",
       "      <td>NaN</td>\n",
       "      <td>292500</td>\n",
       "      <td>325000</td>\n",
       "      <td>10</td>\n",
       "      <td>0.0</td>\n",
       "      <td>...</td>\n",
       "      <td>NaN</td>\n",
       "      <td>NaN</td>\n",
       "      <td>NaN</td>\n",
       "      <td>NaN</td>\n",
       "      <td>NaN</td>\n",
       "      <td>NaN</td>\n",
       "      <td>NaN</td>\n",
       "      <td>NaN</td>\n",
       "      <td>NaN</td>\n",
       "      <td>NaN</td>\n",
       "    </tr>\n",
       "  </tbody>\n",
       "</table>\n",
       "<p>5 rows × 83 columns</p>\n",
       "</div>"
      ],
      "text/plain": [
       "          id  master_id            sku  \\\n",
       "0  204317934  204317934  9972713357587   \n",
       "1  205279963  205279963  7618382614299   \n",
       "2  193209826  193209826  5001141446127   \n",
       "3  205288789  205288789  9035774965791   \n",
       "4  204649516  204649516  8708257676679   \n",
       "\n",
       "                                                name  \\\n",
       "0     1111 - Nhật Ký Sáu Vạn Dặm Trên Yên Xe Cà Tàng   \n",
       "1     1111 - Nhật Ký Sáu Vạn Dặm Trên Yên Xe Cà Tàng   \n",
       "2  Con Đường Tơ Lụa - Vạn Dặm Xa Từ Pakistan Tới ...   \n",
       "3     1111 - Nhật Ký Sáu Vạn Dặm Trên Yên Xe Cà Tàng   \n",
       "4  Sách - 1111 - NHẬT KÝ SÁU VẠN DẶM TRÊN YÊN XE ...   \n",
       "\n",
       "                                           short_url book_cover   price  \\\n",
       "0  https://tiki.vn/product-p204317934.html?spid=2...        NaN  262000   \n",
       "1  https://tiki.vn/product-p205279963.html?spid=2...    Bìa mềm  256750   \n",
       "2  https://tiki.vn/product-p193209826.html?spid=1...    Bìa mềm   95100   \n",
       "3  https://tiki.vn/product-p205288789.html?spid=2...    Bìa mềm  292500   \n",
       "4  https://tiki.vn/product-p204649516.html?spid=2...        NaN  292500   \n",
       "\n",
       "   original_price  discount_rate  rating_average  ...  kich_thuoc tai_trong  \\\n",
       "0          325000             19             5.0  ...         NaN       NaN   \n",
       "1          325000             21             0.0  ...         NaN       NaN   \n",
       "2          129000             26             4.8  ...         NaN       NaN   \n",
       "3          325000             10             0.0  ...         NaN       NaN   \n",
       "4          325000             10             0.0  ...         NaN       NaN   \n",
       "\n",
       "  device_brand  do_nhay tan_so  huong_dan_bao_quan dac_diem_noi_bat  \\\n",
       "0          NaN      NaN    NaN                 NaN              NaN   \n",
       "1          NaN      NaN    NaN                 NaN              NaN   \n",
       "2          NaN      NaN    NaN                 NaN              NaN   \n",
       "3          NaN      NaN    NaN                 NaN              NaN   \n",
       "4          NaN      NaN    NaN                 NaN              NaN   \n",
       "\n",
       "  dieu_kien_su_dung dia_chi_su_dung bluetooth  \n",
       "0               NaN             NaN       NaN  \n",
       "1               NaN             NaN       NaN  \n",
       "2               NaN             NaN       NaN  \n",
       "3               NaN             NaN       NaN  \n",
       "4               NaN             NaN       NaN  \n",
       "\n",
       "[5 rows x 83 columns]"
      ]
     },
     "execution_count": 40,
     "metadata": {},
     "output_type": "execute_result"
    }
   ],
   "source": [
    "df = df.drop(columns='Unnamed: 0')\n",
    "df.head()"
   ]
  },
  {
   "cell_type": "markdown",
   "metadata": {},
   "source": [
    "Xem thử dữ liệu có bị trùng hay không?"
   ]
  },
  {
   "cell_type": "code",
   "execution_count": 41,
   "metadata": {},
   "outputs": [
    {
     "data": {
      "text/plain": [
       "8294"
      ]
     },
     "execution_count": 41,
     "metadata": {},
     "output_type": "execute_result"
    }
   ],
   "source": [
    "df.duplicated().sum()"
   ]
  },
  {
   "cell_type": "markdown",
   "metadata": {},
   "source": [
    "Vậy là dữ liệu có 8294 dòng trùng nhau, ta sẽ tiến hành xoá những dòng này"
   ]
  },
  {
   "cell_type": "code",
   "execution_count": 42,
   "metadata": {},
   "outputs": [
    {
     "data": {
      "text/plain": [
       "(88353, 83)"
      ]
     },
     "execution_count": 42,
     "metadata": {},
     "output_type": "execute_result"
    }
   ],
   "source": [
    "df = df.drop_duplicates(ignore_index=True)\n",
    "df.shape"
   ]
  },
  {
   "cell_type": "markdown",
   "metadata": {},
   "source": [
    "Vì khi thu thập dữ liệu, có những sản phẩm khác loại bị tiki xếp vào chung danh mục nên ta thấy những columns lạ bị thêm vào, ta phải tiến hành xoá những columns này và những sản phẩm <font color =red>lạc loài </font>"
   ]
  },
  {
   "cell_type": "code",
   "execution_count": 43,
   "metadata": {},
   "outputs": [
    {
     "data": {
      "text/plain": [
       "Index(['id', 'master_id', 'sku', 'name', 'short_url', 'book_cover', 'price',\n",
       "       'original_price', 'discount_rate', 'rating_average', 'review_count',\n",
       "       'inventory_type', 'productset_group_name', 'day_ago_created',\n",
       "       'categories', 'all_time_quantity_sold', 'authors', 'publisher_vn',\n",
       "       'publication_date', 'dimensions', 'manufacturer', 'number_of_page',\n",
       "       'dich_gia', 'edition', 'brand', 'brand_country', 'item_model_number',\n",
       "       'origin', 'product_weight', 'battery_capacity', 'camera', 'chong_nuoc',\n",
       "       'loai_day', 'san_pham', 'storage', 'battery_life', 'charge_time',\n",
       "       'do_chiu_nuoc', 'included_accessories', 'material', 'luu_y',\n",
       "       'minimum_inbound_policy_days', 'expiry_time', 'shelf_life_days',\n",
       "       'chat_lieu', 'audio_power_output', 'audio_technology',\n",
       "       'dieu_khien_bang_giong_noi', 'dieu_khien_tivi', 'digital_tivi_dvb_t2',\n",
       "       'display_type', 'frequency', 'hdh_giao_dien',\n",
       "       'image_processing_technology', 'network_hdmi', 'network_internet',\n",
       "       'network_wifi', 'remote_thong_minh', 'resolution', 'screen_mirroring',\n",
       "       'screen_size', 'size_without_stand_table_top',\n",
       "       'size_with_stand_table_top', 'tivi_type', 'ung_dung', 'usb',\n",
       "       'weight_without_stand', 'weight_with_stand', 'size', 'loai_pin',\n",
       "       'thoi_gian_su_dung', 'capacity', 'huong_dan_su_dung', 'kich_thuoc',\n",
       "       'tai_trong', 'device_brand', 'do_nhay', 'tan_so', 'huong_dan_bao_quan',\n",
       "       'dac_diem_noi_bat', 'dieu_kien_su_dung', 'dia_chi_su_dung',\n",
       "       'bluetooth'],\n",
       "      dtype='object')"
      ]
     },
     "execution_count": 43,
     "metadata": {},
     "output_type": "execute_result"
    }
   ],
   "source": [
    "df.columns"
   ]
  },
  {
   "cell_type": "code",
   "execution_count": 44,
   "metadata": {},
   "outputs": [
    {
     "data": {
      "text/html": [
       "<div>\n",
       "<style scoped>\n",
       "    .dataframe tbody tr th:only-of-type {\n",
       "        vertical-align: middle;\n",
       "    }\n",
       "\n",
       "    .dataframe tbody tr th {\n",
       "        vertical-align: top;\n",
       "    }\n",
       "\n",
       "    .dataframe thead th {\n",
       "        text-align: right;\n",
       "    }\n",
       "</style>\n",
       "<table border=\"1\" class=\"dataframe\">\n",
       "  <thead>\n",
       "    <tr style=\"text-align: right;\">\n",
       "      <th></th>\n",
       "      <th>id</th>\n",
       "      <th>master_id</th>\n",
       "      <th>sku</th>\n",
       "      <th>name</th>\n",
       "      <th>short_url</th>\n",
       "      <th>book_cover</th>\n",
       "      <th>price</th>\n",
       "      <th>original_price</th>\n",
       "      <th>discount_rate</th>\n",
       "      <th>rating_average</th>\n",
       "      <th>...</th>\n",
       "      <th>kich_thuoc</th>\n",
       "      <th>tai_trong</th>\n",
       "      <th>device_brand</th>\n",
       "      <th>do_nhay</th>\n",
       "      <th>tan_so</th>\n",
       "      <th>huong_dan_bao_quan</th>\n",
       "      <th>dac_diem_noi_bat</th>\n",
       "      <th>dieu_kien_su_dung</th>\n",
       "      <th>dia_chi_su_dung</th>\n",
       "      <th>bluetooth</th>\n",
       "    </tr>\n",
       "  </thead>\n",
       "  <tbody>\n",
       "    <tr>\n",
       "      <th>13233</th>\n",
       "      <td>144356210</td>\n",
       "      <td>144356210</td>\n",
       "      <td>5525114755464</td>\n",
       "      <td>Túi đeo chạy bộ, túi đeo hông, đeo bụng dành c...</td>\n",
       "      <td>https://tiki.vn/product-p144356210.html?spid=1...</td>\n",
       "      <td>NaN</td>\n",
       "      <td>112000</td>\n",
       "      <td>139000</td>\n",
       "      <td>19</td>\n",
       "      <td>4.8</td>\n",
       "      <td>...</td>\n",
       "      <td>NaN</td>\n",
       "      <td>NaN</td>\n",
       "      <td>NaN</td>\n",
       "      <td>NaN</td>\n",
       "      <td>NaN</td>\n",
       "      <td>NaN</td>\n",
       "      <td>NaN</td>\n",
       "      <td>NaN</td>\n",
       "      <td>NaN</td>\n",
       "      <td>NaN</td>\n",
       "    </tr>\n",
       "    <tr>\n",
       "      <th>14886</th>\n",
       "      <td>207035527</td>\n",
       "      <td>207035527</td>\n",
       "      <td>6816910771280</td>\n",
       "      <td>Áo Hoodie Nỉ Ngoại Nữ Thêu Chữ Loang Màu Hồng ...</td>\n",
       "      <td>https://tiki.vn/product-p207035527.html?spid=2...</td>\n",
       "      <td>NaN</td>\n",
       "      <td>109000</td>\n",
       "      <td>109000</td>\n",
       "      <td>0</td>\n",
       "      <td>0.0</td>\n",
       "      <td>...</td>\n",
       "      <td>NaN</td>\n",
       "      <td>NaN</td>\n",
       "      <td>NaN</td>\n",
       "      <td>NaN</td>\n",
       "      <td>NaN</td>\n",
       "      <td>NaN</td>\n",
       "      <td>NaN</td>\n",
       "      <td>NaN</td>\n",
       "      <td>NaN</td>\n",
       "      <td>NaN</td>\n",
       "    </tr>\n",
       "    <tr>\n",
       "      <th>15160</th>\n",
       "      <td>176689612</td>\n",
       "      <td>176689612</td>\n",
       "      <td>9588934896842</td>\n",
       "      <td>Vỏ gối trắng trơn-vỏ gối cao cấp 100% Cotton-t...</td>\n",
       "      <td>https://tiki.vn/product-p176689612.html?spid=1...</td>\n",
       "      <td>NaN</td>\n",
       "      <td>63750</td>\n",
       "      <td>63750</td>\n",
       "      <td>0</td>\n",
       "      <td>0.0</td>\n",
       "      <td>...</td>\n",
       "      <td>NaN</td>\n",
       "      <td>NaN</td>\n",
       "      <td>NaN</td>\n",
       "      <td>NaN</td>\n",
       "      <td>NaN</td>\n",
       "      <td>NaN</td>\n",
       "      <td>NaN</td>\n",
       "      <td>NaN</td>\n",
       "      <td>NaN</td>\n",
       "      <td>NaN</td>\n",
       "    </tr>\n",
       "    <tr>\n",
       "      <th>25077</th>\n",
       "      <td>207631100</td>\n",
       "      <td>207631100</td>\n",
       "      <td>6801021851103</td>\n",
       "      <td>Áo Khoác Nam Nữ Xanh Rêu Áo Khoác Dù Dáng Rộng</td>\n",
       "      <td>https://tiki.vn/product-p207631100.html?spid=2...</td>\n",
       "      <td>NaN</td>\n",
       "      <td>130000</td>\n",
       "      <td>130000</td>\n",
       "      <td>0</td>\n",
       "      <td>0.0</td>\n",
       "      <td>...</td>\n",
       "      <td>NaN</td>\n",
       "      <td>NaN</td>\n",
       "      <td>NaN</td>\n",
       "      <td>NaN</td>\n",
       "      <td>NaN</td>\n",
       "      <td>NaN</td>\n",
       "      <td>NaN</td>\n",
       "      <td>NaN</td>\n",
       "      <td>NaN</td>\n",
       "      <td>NaN</td>\n",
       "    </tr>\n",
       "    <tr>\n",
       "      <th>49830</th>\n",
       "      <td>196565537</td>\n",
       "      <td>196565537</td>\n",
       "      <td>5928507424911</td>\n",
       "      <td>Rèm Tự Dính-Không Cần Khoan Vô Cùng Tiện Lợi, ...</td>\n",
       "      <td>https://tiki.vn/product-p196565537.html?spid=1...</td>\n",
       "      <td>NaN</td>\n",
       "      <td>52500</td>\n",
       "      <td>105000</td>\n",
       "      <td>50</td>\n",
       "      <td>0.0</td>\n",
       "      <td>...</td>\n",
       "      <td>30 x 20 x 5</td>\n",
       "      <td>5kg</td>\n",
       "      <td>NaN</td>\n",
       "      <td>NaN</td>\n",
       "      <td>NaN</td>\n",
       "      <td>NaN</td>\n",
       "      <td>NaN</td>\n",
       "      <td>NaN</td>\n",
       "      <td>NaN</td>\n",
       "      <td>NaN</td>\n",
       "    </tr>\n",
       "    <tr>\n",
       "      <th>63694</th>\n",
       "      <td>202432845</td>\n",
       "      <td>202432845</td>\n",
       "      <td>8183965466103</td>\n",
       "      <td>BBSTORE'S Đầm Xòe Dự Tiệc Tay Phồng Thời Trang...</td>\n",
       "      <td>https://tiki.vn/product-p202432845.html?spid=2...</td>\n",
       "      <td>NaN</td>\n",
       "      <td>219000</td>\n",
       "      <td>219000</td>\n",
       "      <td>0</td>\n",
       "      <td>0.0</td>\n",
       "      <td>...</td>\n",
       "      <td>NaN</td>\n",
       "      <td>NaN</td>\n",
       "      <td>NaN</td>\n",
       "      <td>NaN</td>\n",
       "      <td>NaN</td>\n",
       "      <td>NaN</td>\n",
       "      <td>NaN</td>\n",
       "      <td>NaN</td>\n",
       "      <td>NaN</td>\n",
       "      <td>NaN</td>\n",
       "    </tr>\n",
       "    <tr>\n",
       "      <th>76899</th>\n",
       "      <td>175150080</td>\n",
       "      <td>175150080</td>\n",
       "      <td>9992881446659</td>\n",
       "      <td>Bộ Bàn Ghế Gỗ Me Tây Nguyên Khối, Bàn Ghế Ăn G...</td>\n",
       "      <td>https://tiki.vn/product-p175150080.html?spid=1...</td>\n",
       "      <td>NaN</td>\n",
       "      <td>20400000</td>\n",
       "      <td>20400000</td>\n",
       "      <td>0</td>\n",
       "      <td>0.0</td>\n",
       "      <td>...</td>\n",
       "      <td>3,39 x (70 - 75) x 5</td>\n",
       "      <td>NaN</td>\n",
       "      <td>NaN</td>\n",
       "      <td>NaN</td>\n",
       "      <td>NaN</td>\n",
       "      <td>NaN</td>\n",
       "      <td>NaN</td>\n",
       "      <td>NaN</td>\n",
       "      <td>NaN</td>\n",
       "      <td>NaN</td>\n",
       "    </tr>\n",
       "  </tbody>\n",
       "</table>\n",
       "<p>7 rows × 83 columns</p>\n",
       "</div>"
      ],
      "text/plain": [
       "              id  master_id            sku  \\\n",
       "13233  144356210  144356210  5525114755464   \n",
       "14886  207035527  207035527  6816910771280   \n",
       "15160  176689612  176689612  9588934896842   \n",
       "25077  207631100  207631100  6801021851103   \n",
       "49830  196565537  196565537  5928507424911   \n",
       "63694  202432845  202432845  8183965466103   \n",
       "76899  175150080  175150080  9992881446659   \n",
       "\n",
       "                                                    name  \\\n",
       "13233  Túi đeo chạy bộ, túi đeo hông, đeo bụng dành c...   \n",
       "14886  Áo Hoodie Nỉ Ngoại Nữ Thêu Chữ Loang Màu Hồng ...   \n",
       "15160  Vỏ gối trắng trơn-vỏ gối cao cấp 100% Cotton-t...   \n",
       "25077     Áo Khoác Nam Nữ Xanh Rêu Áo Khoác Dù Dáng Rộng   \n",
       "49830  Rèm Tự Dính-Không Cần Khoan Vô Cùng Tiện Lợi, ...   \n",
       "63694  BBSTORE'S Đầm Xòe Dự Tiệc Tay Phồng Thời Trang...   \n",
       "76899  Bộ Bàn Ghế Gỗ Me Tây Nguyên Khối, Bàn Ghế Ăn G...   \n",
       "\n",
       "                                               short_url book_cover     price  \\\n",
       "13233  https://tiki.vn/product-p144356210.html?spid=1...        NaN    112000   \n",
       "14886  https://tiki.vn/product-p207035527.html?spid=2...        NaN    109000   \n",
       "15160  https://tiki.vn/product-p176689612.html?spid=1...        NaN     63750   \n",
       "25077  https://tiki.vn/product-p207631100.html?spid=2...        NaN    130000   \n",
       "49830  https://tiki.vn/product-p196565537.html?spid=1...        NaN     52500   \n",
       "63694  https://tiki.vn/product-p202432845.html?spid=2...        NaN    219000   \n",
       "76899  https://tiki.vn/product-p175150080.html?spid=1...        NaN  20400000   \n",
       "\n",
       "       original_price  discount_rate  rating_average  ...  \\\n",
       "13233          139000             19             4.8  ...   \n",
       "14886          109000              0             0.0  ...   \n",
       "15160           63750              0             0.0  ...   \n",
       "25077          130000              0             0.0  ...   \n",
       "49830          105000             50             0.0  ...   \n",
       "63694          219000              0             0.0  ...   \n",
       "76899        20400000              0             0.0  ...   \n",
       "\n",
       "                 kich_thuoc tai_trong device_brand  do_nhay tan_so  \\\n",
       "13233                   NaN       NaN          NaN      NaN    NaN   \n",
       "14886                   NaN       NaN          NaN      NaN    NaN   \n",
       "15160                   NaN       NaN          NaN      NaN    NaN   \n",
       "25077                   NaN       NaN          NaN      NaN    NaN   \n",
       "49830           30 x 20 x 5       5kg          NaN      NaN    NaN   \n",
       "63694                   NaN       NaN          NaN      NaN    NaN   \n",
       "76899  3,39 x (70 - 75) x 5       NaN          NaN      NaN    NaN   \n",
       "\n",
       "       huong_dan_bao_quan dac_diem_noi_bat dieu_kien_su_dung dia_chi_su_dung  \\\n",
       "13233                 NaN              NaN               NaN             NaN   \n",
       "14886                 NaN              NaN               NaN             NaN   \n",
       "15160                 NaN              NaN               NaN             NaN   \n",
       "25077                 NaN              NaN               NaN             NaN   \n",
       "49830                 NaN              NaN               NaN             NaN   \n",
       "63694                 NaN              NaN               NaN             NaN   \n",
       "76899                 NaN              NaN               NaN             NaN   \n",
       "\n",
       "      bluetooth  \n",
       "13233       NaN  \n",
       "14886       NaN  \n",
       "15160       NaN  \n",
       "25077       NaN  \n",
       "49830       NaN  \n",
       "63694       NaN  \n",
       "76899       NaN  \n",
       "\n",
       "[7 rows x 83 columns]"
      ]
     },
     "execution_count": 44,
     "metadata": {},
     "output_type": "execute_result"
    }
   ],
   "source": [
    "df[~df['material'].isna()]"
   ]
  },
  {
   "cell_type": "markdown",
   "metadata": {},
   "source": [
    "Các `features` được sử dụng"
   ]
  },
  {
   "cell_type": "code",
   "execution_count": 45,
   "metadata": {},
   "outputs": [],
   "source": [
    "features = ['id', 'master_id', 'sku', 'name', 'short_url', 'book_cover', 'price',\n",
    "       'original_price', 'discount_rate', 'rating_average', 'review_count',\n",
    "       'inventory_type', 'productset_group_name', 'day_ago_created',\n",
    "       'categories', 'all_time_quantity_sold', 'authors', 'publisher_vn',\n",
    "       'publication_date', 'dimensions', 'manufacturer', 'number_of_page',\n",
    "       'dich_gia', 'edition', 'luu_y']"
   ]
  },
  {
   "cell_type": "markdown",
   "metadata": {},
   "source": [
    "Một số `features` không hợp lệ với yêu cầu bài toán"
   ]
  },
  {
   "cell_type": "code",
   "execution_count": 46,
   "metadata": {},
   "outputs": [
    {
     "name": "stdout",
     "output_type": "stream",
     "text": [
      "['camera', 'battery_life', 'network_internet', 'included_accessories', 'dieu_khien_bang_giong_noi', 'shelf_life_days', 'network_wifi', 'huong_dan_su_dung', 'san_pham', 'resolution', 'display_type', 'tivi_type', 'dieu_khien_tivi', 'device_brand', 'huong_dan_bao_quan', 'bluetooth', 'chat_lieu', 'tai_trong', 'frequency', 'ung_dung', 'network_hdmi', 'material', 'charge_time', 'tan_so', 'size', 'hdh_giao_dien', 'item_model_number', 'origin', 'capacity', 'minimum_inbound_policy_days', 'chong_nuoc', 'image_processing_technology', 'audio_technology', 'brand_country', 'dieu_kien_su_dung', 'kich_thuoc', 'screen_size', 'size_with_stand_table_top', 'do_nhay', 'size_without_stand_table_top', 'do_chiu_nuoc', 'weight_without_stand', 'battery_capacity', 'expiry_time', 'brand', 'usb', 'thoi_gian_su_dung', 'loai_day', 'remote_thong_minh', 'audio_power_output', 'storage', 'digital_tivi_dvb_t2', 'screen_mirroring', 'dia_chi_su_dung', 'product_weight', 'dac_diem_noi_bat', 'weight_with_stand', 'loai_pin']\n"
     ]
    }
   ],
   "source": [
    "unvalid_cols = list(set(df.columns) - set(features))\n",
    "print(unvalid_cols)"
   ]
  },
  {
   "cell_type": "markdown",
   "metadata": {},
   "source": [
    "Thử lấy các sản phẩm thuộc ngoài những `categories` của danh mục sách (mà ta đã thu thập)"
   ]
  },
  {
   "cell_type": "code",
   "execution_count": 47,
   "metadata": {},
   "outputs": [
    {
     "data": {
      "text/plain": [
       "Root                                   20440\n",
       "Sách tiếng Việt                        19201\n",
       "Nhà Sách Tiki                             23\n",
       "Máy Ảnh - Máy Quay Phim                    4\n",
       "Túi và Hộp Đựng Máy Ảnh                    3\n",
       "Thiết Bị Số - Phụ Kiện Số                  3\n",
       "Tai Nghe True Wireless                     2\n",
       "Đầu Ghi Hình Camera                        1\n",
       "Nước Ngọt                                  1\n",
       "Móng giả                                   1\n",
       "Bộ sản phẩm vệ sinh nhà cửa                1\n",
       "Làm Đẹp - Sức Khỏe                         1\n",
       "Thực phẩm khô khác                         1\n",
       "Loa Vi Tính                                1\n",
       "Dây Đeo Máy Ảnh, Máy Quay, Ống Nhòm        1\n",
       "Bình, ly uống trà và phụ kiện              1\n",
       "Voucher - Dịch vụ                          1\n",
       "Bàn ghế làm việc                           1\n",
       "Nón bơi                                    1\n",
       "Phụ Kiện Máy Quay Khác                     1\n",
       "Bao Da - Ốp Lưng iPad                      1\n",
       "Bình đun siêu tốc                          1\n",
       "Các loại gia vị dạng nước khác             1\n",
       "Thực phẩm bổ dưỡng                         1\n",
       "Thiết Bị Phòng Tối                         1\n",
       "Phụ kiện ô tô                              1\n",
       "Bánh kẹo                                   1\n",
       "Thời Trang                                 1\n",
       "Đai chạy bộ                                1\n",
       "Mystery, Thriller & Suspense               1\n",
       "Điện thoại Smartphone                      1\n",
       "USB                                        1\n",
       "Son thỏi                                   1\n",
       "Trang điểm, chống nắng                     1\n",
       "Điện Gia Dụng                              1\n",
       "Tivi 4K                                    1\n",
       "Hạt giống                                  1\n",
       "Children's Books                           1\n",
       "Router Wifi                                1\n",
       "Dao - Máy cạo râu & Hớt tóc                1\n",
       "Ống Nhòm                                   1\n",
       "Thực phẩm cao cấp                          1\n",
       "Kem đánh răng, bàn chải                    1\n",
       "Rèm, màn cửa                               1\n",
       "Pin - Sạc Máy Ảnh, Máy Quay                1\n",
       "Tủ                                         1\n",
       "Hộp Đựng - Tủ Chống Ẩm                     1\n",
       "Áo thun nam ngắn tay không cổ              1\n",
       "Name: categories, dtype: int64"
      ]
     },
     "execution_count": 47,
     "metadata": {},
     "output_type": "execute_result"
    }
   ],
   "source": [
    "valid_categories = pd.read_csv('id_data/categories_id.csv')['categories'] \n",
    "valid_categories = '|'.join(list(valid_categories)) #+ ['Root', 'Sách tiếng Việt', 'Nhà Sách Tiki'])\n",
    "# df[df[unvalid_cols].notna().any(axis=1)].to_csv('not_books.csv', encoding='utf-8-sig')\n",
    "# df[df['publisher_vn'].isna()].to_csv('not_publiser.csv', encoding='utf-8-sig')\n",
    "# df[df['categories'].str.contains(valid_categories, na=False)]\n",
    "\n",
    "#Chọn những categories không phải sách\n",
    "df[~df['categories'].str.contains(valid_categories, na=False)]['categories'].value_counts()"
   ]
  },
  {
   "cell_type": "markdown",
   "metadata": {},
   "source": [
    "Và ta chỉ lấy những giá trị hợp lệ "
   ]
  },
  {
   "cell_type": "code",
   "execution_count": 48,
   "metadata": {},
   "outputs": [
    {
     "data": {
      "text/plain": [
       "(48291, 83)"
      ]
     },
     "execution_count": 48,
     "metadata": {},
     "output_type": "execute_result"
    }
   ],
   "source": [
    "df = df[df['categories'].str.contains(valid_categories, na=False)]\n",
    "# df.shape\n",
    "df.shape"
   ]
  },
  {
   "cell_type": "markdown",
   "metadata": {},
   "source": [
    "Có thể vẫn còn, ta sẽ xem những features bị <font color=red>lạc loài</font> (khác giá trị nan):"
   ]
  },
  {
   "cell_type": "code",
   "execution_count": 49,
   "metadata": {},
   "outputs": [],
   "source": [
    "unvalid_products = df[df[unvalid_cols].notna().any(axis=1)]\n",
    "# display(unvalid_products)"
   ]
  },
  {
   "cell_type": "markdown",
   "metadata": {},
   "source": [
    "Tiếp tục bỏ đi những sản phẩm này."
   ]
  },
  {
   "cell_type": "code",
   "execution_count": 50,
   "metadata": {},
   "outputs": [
    {
     "data": {
      "text/html": [
       "<div>\n",
       "<style scoped>\n",
       "    .dataframe tbody tr th:only-of-type {\n",
       "        vertical-align: middle;\n",
       "    }\n",
       "\n",
       "    .dataframe tbody tr th {\n",
       "        vertical-align: top;\n",
       "    }\n",
       "\n",
       "    .dataframe thead th {\n",
       "        text-align: right;\n",
       "    }\n",
       "</style>\n",
       "<table border=\"1\" class=\"dataframe\">\n",
       "  <thead>\n",
       "    <tr style=\"text-align: right;\">\n",
       "      <th></th>\n",
       "      <th>id</th>\n",
       "      <th>master_id</th>\n",
       "      <th>sku</th>\n",
       "      <th>name</th>\n",
       "      <th>short_url</th>\n",
       "      <th>book_cover</th>\n",
       "      <th>price</th>\n",
       "      <th>original_price</th>\n",
       "      <th>discount_rate</th>\n",
       "      <th>rating_average</th>\n",
       "      <th>...</th>\n",
       "      <th>kich_thuoc</th>\n",
       "      <th>tai_trong</th>\n",
       "      <th>device_brand</th>\n",
       "      <th>do_nhay</th>\n",
       "      <th>tan_so</th>\n",
       "      <th>huong_dan_bao_quan</th>\n",
       "      <th>dac_diem_noi_bat</th>\n",
       "      <th>dieu_kien_su_dung</th>\n",
       "      <th>dia_chi_su_dung</th>\n",
       "      <th>bluetooth</th>\n",
       "    </tr>\n",
       "  </thead>\n",
       "  <tbody>\n",
       "  </tbody>\n",
       "</table>\n",
       "<p>0 rows × 83 columns</p>\n",
       "</div>"
      ],
      "text/plain": [
       "Empty DataFrame\n",
       "Columns: [id, master_id, sku, name, short_url, book_cover, price, original_price, discount_rate, rating_average, review_count, inventory_type, productset_group_name, day_ago_created, categories, all_time_quantity_sold, authors, publisher_vn, publication_date, dimensions, manufacturer, number_of_page, dich_gia, edition, brand, brand_country, item_model_number, origin, product_weight, battery_capacity, camera, chong_nuoc, loai_day, san_pham, storage, battery_life, charge_time, do_chiu_nuoc, included_accessories, material, luu_y, minimum_inbound_policy_days, expiry_time, shelf_life_days, chat_lieu, audio_power_output, audio_technology, dieu_khien_bang_giong_noi, dieu_khien_tivi, digital_tivi_dvb_t2, display_type, frequency, hdh_giao_dien, image_processing_technology, network_hdmi, network_internet, network_wifi, remote_thong_minh, resolution, screen_mirroring, screen_size, size_without_stand_table_top, size_with_stand_table_top, tivi_type, ung_dung, usb, weight_without_stand, weight_with_stand, size, loai_pin, thoi_gian_su_dung, capacity, huong_dan_su_dung, kich_thuoc, tai_trong, device_brand, do_nhay, tan_so, huong_dan_bao_quan, dac_diem_noi_bat, dieu_kien_su_dung, dia_chi_su_dung, bluetooth]\n",
       "Index: []\n",
       "\n",
       "[0 rows x 83 columns]"
      ]
     },
     "execution_count": 50,
     "metadata": {},
     "output_type": "execute_result"
    }
   ],
   "source": [
    "df = df.drop(unvalid_products.index)\n",
    "df[df[unvalid_cols].notna().any(axis=1)] # test lại"
   ]
  },
  {
   "cell_type": "markdown",
   "metadata": {},
   "source": [
    "Có thể vẫn còn những sản phẩm <font color=red>lạc loài</font> khác, tuy nhiên khó có thể nhận biết và loại bỏ được."
   ]
  },
  {
   "cell_type": "markdown",
   "metadata": {},
   "source": [
    "Xóa đi các cột <font color =red> lạc loài </font> đi thôi!"
   ]
  },
  {
   "cell_type": "code",
   "execution_count": 51,
   "metadata": {},
   "outputs": [
    {
     "data": {
      "text/plain": [
       "(48291, 25)"
      ]
     },
     "execution_count": 51,
     "metadata": {},
     "output_type": "execute_result"
    }
   ],
   "source": [
    "df = df.drop(unvalid_cols, axis = 1)\n",
    "df.shape"
   ]
  },
  {
   "cell_type": "markdown",
   "metadata": {},
   "source": [
    "##### Kiểm tra lại thông tin của các cột trước khi bước qua **KHÁM PHÁ DỮ LIỆU**"
   ]
  },
  {
   "cell_type": "markdown",
   "metadata": {},
   "source": [
    "> Mô tả thông tin của các cột\n"
   ]
  },
  {
   "cell_type": "code",
   "execution_count": 52,
   "metadata": {},
   "outputs": [
    {
     "data": {
      "text/html": [
       "<div>\n",
       "<style scoped>\n",
       "    .dataframe tbody tr th:only-of-type {\n",
       "        vertical-align: middle;\n",
       "    }\n",
       "\n",
       "    .dataframe tbody tr th {\n",
       "        vertical-align: top;\n",
       "    }\n",
       "\n",
       "    .dataframe thead th {\n",
       "        text-align: right;\n",
       "    }\n",
       "</style>\n",
       "<table border=\"1\" class=\"dataframe\">\n",
       "  <thead>\n",
       "    <tr style=\"text-align: right;\">\n",
       "      <th></th>\n",
       "      <th>Name</th>\n",
       "      <th>Type</th>\n",
       "      <th>Describe</th>\n",
       "    </tr>\n",
       "  </thead>\n",
       "  <tbody>\n",
       "    <tr>\n",
       "      <th>0</th>\n",
       "      <td>id</td>\n",
       "      <td>string</td>\n",
       "      <td>ID của quyền sách</td>\n",
       "    </tr>\n",
       "    <tr>\n",
       "      <th>1</th>\n",
       "      <td>sku</td>\n",
       "      <td>string</td>\n",
       "      <td>Mã hàng hóa</td>\n",
       "    </tr>\n",
       "    <tr>\n",
       "      <th>2</th>\n",
       "      <td>name</td>\n",
       "      <td>string</td>\n",
       "      <td>Tên quyển sách</td>\n",
       "    </tr>\n",
       "    <tr>\n",
       "      <th>3</th>\n",
       "      <td>short_url</td>\n",
       "      <td>string</td>\n",
       "      <td>Đường link đến trang bán sách</td>\n",
       "    </tr>\n",
       "    <tr>\n",
       "      <th>4</th>\n",
       "      <td>book_cover</td>\n",
       "      <td>string</td>\n",
       "      <td>Loại bìa sách</td>\n",
       "    </tr>\n",
       "    <tr>\n",
       "      <th>5</th>\n",
       "      <td>price</td>\n",
       "      <td>int</td>\n",
       "      <td>Giá quyển sách đang được bán trên tiki</td>\n",
       "    </tr>\n",
       "    <tr>\n",
       "      <th>6</th>\n",
       "      <td>original_price</td>\n",
       "      <td>int</td>\n",
       "      <td>Giá gốc của quyển sách</td>\n",
       "    </tr>\n",
       "    <tr>\n",
       "      <th>7</th>\n",
       "      <td>discount_rate</td>\n",
       "      <td>int</td>\n",
       "      <td>% Giảm giá</td>\n",
       "    </tr>\n",
       "    <tr>\n",
       "      <th>8</th>\n",
       "      <td>rating_average</td>\n",
       "      <td>float</td>\n",
       "      <td>Mức đánh giát trung bình ( 0 &lt;= x &lt;= 5)</td>\n",
       "    </tr>\n",
       "    <tr>\n",
       "      <th>9</th>\n",
       "      <td>review_count</td>\n",
       "      <td>int</td>\n",
       "      <td>Số lượt đánh giá, bình luận của khách hàng</td>\n",
       "    </tr>\n",
       "    <tr>\n",
       "      <th>10</th>\n",
       "      <td>inventory_type</td>\n",
       "      <td>string</td>\n",
       "      <td>Tình trạng trong kho của quyển sách. (\"instock...</td>\n",
       "    </tr>\n",
       "    <tr>\n",
       "      <th>11</th>\n",
       "      <td>productset_group_name</td>\n",
       "      <td>string</td>\n",
       "      <td>Tên nhóm sản phẩm</td>\n",
       "    </tr>\n",
       "    <tr>\n",
       "      <th>12</th>\n",
       "      <td>day_ago_created</td>\n",
       "      <td>int</td>\n",
       "      <td>Số ngày kể từ khi đăng bán trên tiki</td>\n",
       "    </tr>\n",
       "    <tr>\n",
       "      <th>13</th>\n",
       "      <td>categories</td>\n",
       "      <td>string</td>\n",
       "      <td>Phân loại sách</td>\n",
       "    </tr>\n",
       "    <tr>\n",
       "      <th>14</th>\n",
       "      <td>all_time_quantity_sold</td>\n",
       "      <td>int</td>\n",
       "      <td>Số lượng sách đã bán từ tiki</td>\n",
       "    </tr>\n",
       "    <tr>\n",
       "      <th>15</th>\n",
       "      <td>authors</td>\n",
       "      <td>string</td>\n",
       "      <td>Tác giả quyển sách</td>\n",
       "    </tr>\n",
       "    <tr>\n",
       "      <th>16</th>\n",
       "      <td>publisher_vn</td>\n",
       "      <td>string</td>\n",
       "      <td>Công ty phát hành</td>\n",
       "    </tr>\n",
       "    <tr>\n",
       "      <th>17</th>\n",
       "      <td>publication_date</td>\n",
       "      <td>Date</td>\n",
       "      <td>Ngày xuất bản</td>\n",
       "    </tr>\n",
       "    <tr>\n",
       "      <th>18</th>\n",
       "      <td>dimensions</td>\n",
       "      <td>string</td>\n",
       "      <td>Kích thước chiều dài và rộng của quyển sách</td>\n",
       "    </tr>\n",
       "    <tr>\n",
       "      <th>19</th>\n",
       "      <td>manufacturer</td>\n",
       "      <td>string</td>\n",
       "      <td>Nhà xuất bản</td>\n",
       "    </tr>\n",
       "    <tr>\n",
       "      <th>20</th>\n",
       "      <td>number_of_page</td>\n",
       "      <td>int</td>\n",
       "      <td>Số trang</td>\n",
       "    </tr>\n",
       "    <tr>\n",
       "      <th>21</th>\n",
       "      <td>dich_gia</td>\n",
       "      <td>string</td>\n",
       "      <td>Tên dịch giả</td>\n",
       "    </tr>\n",
       "    <tr>\n",
       "      <th>22</th>\n",
       "      <td>edition</td>\n",
       "      <td>string</td>\n",
       "      <td>Phiên bản của quyển sách</td>\n",
       "    </tr>\n",
       "    <tr>\n",
       "      <th>23</th>\n",
       "      <td>luu_y</td>\n",
       "      <td>string</td>\n",
       "      <td>Những lưu ý thay đổi trên sách</td>\n",
       "    </tr>\n",
       "  </tbody>\n",
       "</table>\n",
       "</div>"
      ],
      "text/plain": [
       "                      Name    Type  \\\n",
       "0                       id  string   \n",
       "1                      sku  string   \n",
       "2                     name  string   \n",
       "3                short_url  string   \n",
       "4               book_cover  string   \n",
       "5                    price    int    \n",
       "6           original_price     int   \n",
       "7            discount_rate    int    \n",
       "8           rating_average   float   \n",
       "9             review_count     int   \n",
       "10          inventory_type  string   \n",
       "11   productset_group_name  string   \n",
       "12         day_ago_created     int   \n",
       "13              categories  string   \n",
       "14  all_time_quantity_sold     int   \n",
       "15                 authors  string   \n",
       "16            publisher_vn  string   \n",
       "17        publication_date    Date   \n",
       "18              dimensions  string   \n",
       "19            manufacturer  string   \n",
       "20          number_of_page     int   \n",
       "21                dich_gia  string   \n",
       "22                 edition  string   \n",
       "23                  luu_y   string   \n",
       "\n",
       "                                             Describe  \n",
       "0                                   ID của quyền sách  \n",
       "1                                         Mã hàng hóa  \n",
       "2                                      Tên quyển sách  \n",
       "3                       Đường link đến trang bán sách  \n",
       "4                                       Loại bìa sách  \n",
       "5              Giá quyển sách đang được bán trên tiki  \n",
       "6                              Giá gốc của quyển sách  \n",
       "7                                         % Giảm giá   \n",
       "8             Mức đánh giát trung bình ( 0 <= x <= 5)  \n",
       "9          Số lượt đánh giá, bình luận của khách hàng  \n",
       "10  Tình trạng trong kho của quyển sách. (\"instock...  \n",
       "11                                  Tên nhóm sản phẩm  \n",
       "12               Số ngày kể từ khi đăng bán trên tiki  \n",
       "13                                     Phân loại sách  \n",
       "14                      Số lượng sách đã bán từ tiki   \n",
       "15                                 Tác giả quyển sách  \n",
       "16                                  Công ty phát hành  \n",
       "17                                     Ngày xuất bản   \n",
       "18        Kích thước chiều dài và rộng của quyển sách  \n",
       "19                                       Nhà xuất bản  \n",
       "20                                           Số trang  \n",
       "21                                       Tên dịch giả  \n",
       "22                           Phiên bản của quyển sách  \n",
       "23                     Những lưu ý thay đổi trên sách  "
      ]
     },
     "execution_count": 52,
     "metadata": {},
     "output_type": "execute_result"
    }
   ],
   "source": [
    "pd.read_csv(\"column/Columns.csv\")"
   ]
  },
  {
   "cell_type": "markdown",
   "metadata": {},
   "source": [
    "Cột `id` và `master_id` hoàn toàn giống nhau ở từng dòng. Vì thế ta sẽ xóa đi cột `master_id` <br>\n",
    "Cột `publication_date` cần thay đổi `dtype` thành `datetime`"
   ]
  },
  {
   "cell_type": "markdown",
   "metadata": {},
   "source": [
    "- Loại bỏ cột `master_id`"
   ]
  },
  {
   "cell_type": "code",
   "execution_count": 53,
   "metadata": {},
   "outputs": [],
   "source": [
    "df = df.drop(\"master_id\", axis = 1)"
   ]
  },
  {
   "cell_type": "markdown",
   "metadata": {},
   "source": [
    "+ Đổi dtype của cột `publication_date` thành datetime"
   ]
  },
  {
   "cell_type": "code",
   "execution_count": 54,
   "metadata": {},
   "outputs": [],
   "source": [
    "df.publication_date = pd.to_datetime(df.publication_date, format = \"%Y-%m-%d %H:%M:%S\", errors = \"coerce\")"
   ]
  },
  {
   "cell_type": "markdown",
   "metadata": {},
   "source": [
    "Gần hơn 1 nửa dữ liệu bị lỗi hoặc thiếu datetime."
   ]
  },
  {
   "cell_type": "markdown",
   "metadata": {},
   "source": [
    "---"
   ]
  },
  {
   "cell_type": "markdown",
   "metadata": {},
   "source": [
    "#### **Exploratory Data Analysis**"
   ]
  },
  {
   "cell_type": "markdown",
   "metadata": {},
   "source": [
    "##### **Đặt câu hỏi** <br>\n",
    "Một câu hỏi gồm có 3 ý:\n",
    "- Câu hỏi là gì ?\n",
    "- Trả lời câu hỏi sẽ có lợi ích gì ?\n",
    "- Nguồn cảm hứng của câu hỏi ? (tự nghĩ hoặc tham khảo)"
   ]
  },
  {
   "cell_type": "code",
   "execution_count": 55,
   "metadata": {},
   "outputs": [
    {
     "data": {
      "text/plain": [
       "Index(['id', 'sku', 'name', 'short_url', 'book_cover', 'price',\n",
       "       'original_price', 'discount_rate', 'rating_average', 'review_count',\n",
       "       'inventory_type', 'productset_group_name', 'day_ago_created',\n",
       "       'categories', 'all_time_quantity_sold', 'authors', 'publisher_vn',\n",
       "       'publication_date', 'dimensions', 'manufacturer', 'number_of_page',\n",
       "       'dich_gia', 'edition', 'luu_y'],\n",
       "      dtype='object')"
      ]
     },
     "execution_count": 55,
     "metadata": {},
     "output_type": "execute_result"
    }
   ],
   "source": [
    "df.columns"
   ]
  },
  {
   "cell_type": "markdown",
   "metadata": {},
   "source": [
    "---"
   ]
  },
  {
   "cell_type": "markdown",
   "metadata": {},
   "source": [
    "##### **Câu 1** <br> \n",
    "- Ở mỗi thể loại sách có rất nhiều sách khác nhau. Có nhiều sách cùng tên với nhau hay không? Tại sao lại như vậy?\n"
   ]
  },
  {
   "cell_type": "markdown",
   "metadata": {},
   "source": [
    "**Trả lời câu hỏi thành công** <br>\n",
    "Nếu trả lời được câu hỏi bạn sẽ hiểu tại sao trong bộ dữ liệu lại có nhiều sách có cùng tên (Nếu có)<br>\n"
   ]
  },
  {
   "cell_type": "markdown",
   "metadata": {},
   "source": [
    "<font color = red>Khó khăn </font>: \n",
    "+ Tên của những quyển sách lại được đặt khác nhau. Ảnh hưởng đến quá trình gom nhóm. Cần xử lí vấn đề khó này cho một bộ dữ liệu gần 40 ngàn dữ liệu.<br>\n",
    "+ Không có các yếu tố để phân biệt tên của sách."
   ]
  },
  {
   "cell_type": "markdown",
   "metadata": {},
   "source": [
    "<font color = red>Hướng giải quyết </font>: \n",
    "+ Thay vì xử lí một lúc 40 ngàn dữ liệu, ta sẽ sử dụng cột `categories` để phân loại thành từng loại sách, rồi tiếp tục phân loại theo tên.\n",
    "+ Ta sử dụng `Ratio Matching` - Độ tương thích của 2 string, để phán đoán series của cuốn truyện."
   ]
  },
  {
   "cell_type": "markdown",
   "metadata": {},
   "source": [
    "Dùng thử viện `fuzzywuzzy` để tìm mức độ tương thích, lọc ra các nhóm có mức độ tương thích cao."
   ]
  },
  {
   "cell_type": "code",
   "execution_count": 56,
   "metadata": {},
   "outputs": [],
   "source": [
    "from fuzzywuzzy import fuzz, process"
   ]
  },
  {
   "cell_type": "markdown",
   "metadata": {},
   "source": [
    "##### Viết các hàm xử lí "
   ]
  },
  {
   "cell_type": "markdown",
   "metadata": {},
   "source": [
    " - Hàm lấy các dòng thuộc `categories` mà ta yêu cầu."
   ]
  },
  {
   "cell_type": "code",
   "execution_count": 57,
   "metadata": {},
   "outputs": [],
   "source": [
    "def get_df_by_categories(categories):\n",
    "    categories_book_df = df[df.categories == categories]\n",
    "    return categories_book_df"
   ]
  },
  {
   "cell_type": "markdown",
   "metadata": {},
   "source": [
    "- Sử dụng Data Frame mà ta vừa lấy được từ `categories` mà ta chọn, tiến hành phân theo mức độ tương thích của các tên với nhau.\n"
   ]
  },
  {
   "cell_type": "markdown",
   "metadata": {},
   "source": [
    "Ví dụ sử dụng fuzzywuzzy để đánh giá mức tương thích:"
   ]
  },
  {
   "cell_type": "code",
   "execution_count": 58,
   "metadata": {},
   "outputs": [
    {
     "data": {
      "text/plain": [
       "56"
      ]
     },
     "execution_count": 58,
     "metadata": {},
     "output_type": "execute_result"
    }
   ],
   "source": [
    "# Ta có 2 string:\n",
    "a = \"Xin Cảm ơn\"\n",
    "b = \"Xin Chào\"\n",
    "\n",
    "fuzz.ratio(a,b) # Độ giống nhau là 48%\n",
    "# Độ tương thích này được xét theo các yếu tố như:\n",
    "# Số lượng từ ở trong hai câu\n",
    "# Vị trí từ\n",
    "# Kiểu viết của chữ (hoa hoặc thường)\n",
    "# ....."
   ]
  },
  {
   "cell_type": "code",
   "execution_count": 59,
   "metadata": {},
   "outputs": [
    {
     "data": {
      "text/plain": [
       "62"
      ]
     },
     "execution_count": 59,
     "metadata": {},
     "output_type": "execute_result"
    }
   ],
   "source": [
    "a = \"Xin Cảm ơn\"\n",
    "b = \"Xin Chào\"\n",
    "\n",
    "fuzz.partial_ratio(a ,b) # có bao nhiêu % của a trong b hoặc b trong a, dù đổi vị trí các parameter cũng không làm thay đổi giá trị %.\n",
    "# Ở câu này do vị trí của từ Xin C"
   ]
  },
  {
   "cell_type": "markdown",
   "metadata": {},
   "source": [
    "- Viết hàm phân nhóm theo series của các sách trong 1 categories.<br>\n",
    "<br>\n",
    "<font color = red>Cách làm </font>:<br>\n",
    "- Ta sẽ kiểm tra có 1 `list` để chứa các series và sẽ dùng `list` này để đi so sánh với tên của các cuốn sách khác.\n",
    "- So sánh cuốn sách với từng series bên trong list. Nếu độ tương thích dưới 80% sẽ add tên đó vào series. Ngược lại ta sẽ thêm vào thì ta không thêm vào.\n",
    "- Với mỗi series trong list sẽ được đánh dấu 1 index, ta gọi hàm index của list để lấy index đó và gán cho dòng của cuốn sách đó.<br>\n",
    "<font color = red>Hàm trả về</font>:<br> Hàm trả về list là index của series mà cuốn sách thuộc về"
   ]
  },
  {
   "cell_type": "code",
   "execution_count": 60,
   "metadata": {},
   "outputs": [],
   "source": [
    "# ulen_names = lightnovel_df.name.nunique() # number of unique names\n",
    "# u_names = list(map(lambda x: x.upper(), lightnovel_df.name.unique())) #array unique names\n",
    "\n",
    "\n",
    "# ln_series = []\n",
    "# series_Series = []\n",
    "# ln_series.append(u_names[0])\n",
    "# for name in u_names:\n",
    "#     ratio_series = []\n",
    "#     for series in ln_series:\n",
    "#         ratio_series.append(SequenceMatcher(None, series, name).ratio())\n",
    "#     max_ratio = max(ratio_series)\n",
    "#     if max_ratio < 0.6:\n",
    "#         ln_series.append(name)\n",
    "#         series_Series.append(ln_series.index(name))\n",
    "#     else:\n",
    "#         series_Series.append(ratio_series.index(max_ratio))\n",
    "def categoricate_book_name(book_df):\n",
    "    u_names = list(map(lambda x: x.upper(), list(book_df.name)))\n",
    "    book_series = []\n",
    "    series = []\n",
    "    book_series.append(u_names[0])\n",
    "    for name in u_names:\n",
    "        ratio_series = process.extract(name, book_series, scorer = fuzz.token_sort_ratio)\n",
    "        best_ratio_series = ratio_series[0]\n",
    "        if best_ratio_series[-1] < 65: # Xét tỉ lệ hợp lệ cao hơn 80%\n",
    "            book_series.append(name)\n",
    "            series.append(book_series.index(name))\n",
    "        else:\n",
    "            series.append(book_series.index(best_ratio_series[0]))\n",
    "    return series"
   ]
  },
  {
   "cell_type": "markdown",
   "metadata": {},
   "source": [
    "Tên các loại sách"
   ]
  },
  {
   "cell_type": "code",
   "execution_count": 61,
   "metadata": {},
   "outputs": [
    {
     "data": {
      "text/plain": [
       "['Du ký',\n",
       " 'Light novel',\n",
       " 'Phê Bình - Lý Luận Văn Học',\n",
       " 'Phóng sự - Ký sự - Bút ký',\n",
       " 'Tác phẩm kinh điển',\n",
       " 'Thơ',\n",
       " 'Tiểu sử - Hồi ký',\n",
       " 'Tiểu Thuyết',\n",
       " 'Truyện Giả tưởng - Huyền Bí - Phiêu Lưu',\n",
       " 'Tranh Truyện',\n",
       " 'Truyện cổ tích - Ngụ ngôn',\n",
       " 'Truyện cười',\n",
       " 'Truyện dài',\n",
       " 'Bài học kinh doanh',\n",
       " 'Truyện đam mỹ',\n",
       " 'Truyện kiếm hiệp',\n",
       " 'Truyện kinh dị',\n",
       " 'Truyện ngắn - Tản văn - Tạp Văn',\n",
       " 'Truyện ngôn tình',\n",
       " 'Truyện trinh thám',\n",
       " 'Ca dao - Tục ngữ',\n",
       " 'Sách ảnh',\n",
       " 'Sách doanh nhân',\n",
       " 'Sách khởi nghiệp',\n",
       " 'Sách kinh tế học',\n",
       " 'Sách kỹ năng làm việc',\n",
       " 'Sách Marketing - Bán hàng ',\n",
       " 'Sách quản trị, lãnh đạo',\n",
       " 'Sách quản trị nhân lực',\n",
       " 'Sách tài chính, kế toán',\n",
       " 'Sách tài chính, tiền tệ',\n",
       " 'Đạo đức - Kỹ năng sống',\n",
       " 'Kiến thức - Bách khoa',\n",
       " 'Tô màu - Luyện chữ  ',\n",
       " 'Truyện cổ tích',\n",
       " 'Truyện kể cho bé',\n",
       " 'Truyện tranh Ehon',\n",
       " 'Truyện tranh thiếu nhi',\n",
       " 'Văn học thiếu nhi',\n",
       " 'Sách tư duy - Kỹ năng sống',\n",
       " 'Sách nghệ thuật sống đẹp',\n",
       " 'Sách hướng nghiệp - Kỹ năng mềm',\n",
       " 'Sách Thai Giáo',\n",
       " 'Sách Kiến Thức - Kỹ Năng Cho Trẻ',\n",
       " 'Sách Làm Cha Mẹ',\n",
       " 'Sách Dinh Dưỡng - Sức Khỏe Cho Bé',\n",
       " 'Sách Giáo Khoa Cấp 1',\n",
       " 'Sách Giáo Khoa Cấp 2',\n",
       " 'Sách Giáo Khoa Cấp 3',\n",
       " 'Giáo Trình Đại Học - Cao Đẳng',\n",
       " 'Sách Học Tiếng Anh',\n",
       " 'Sách Học Tiếng Nhật',\n",
       " 'Sách Học Tiếng Hàn',\n",
       " 'Sách tham khảo cấp I',\n",
       " 'Sách Học Tiếng Hoa',\n",
       " 'Ngoại Ngữ Khác',\n",
       " 'Sách tham khảo cấp II',\n",
       " 'Sách tham khảo cấp III',\n",
       " 'Sách Luyện Thi Đại Học - Cao Đẳng',\n",
       " 'Thẻ luyện thi',\n",
       " 'Sách chuyên đề',\n",
       " 'Từ Điển Tiếng Anh',\n",
       " 'Từ Điển Tiếng Trung',\n",
       " 'Từ Điển Tiếng Hàn',\n",
       " 'Từ Điển Tiếng Nhật',\n",
       " 'Từ Điển Tiếng Pháp',\n",
       " 'Từ Điển Tiếng Việt',\n",
       " 'Từ Điển Ngôn Ngữ Khác',\n",
       " 'Kiến Thức Bách Khoa',\n",
       " 'Lĩnh vực khác',\n",
       " 'Sách Chiêm Tinh - Horoscope',\n",
       " 'Sách giáo dục',\n",
       " 'Truyện Tranh, Manga, Comic',\n",
       " 'Sách Phong Thủy - Kinh Dịch',\n",
       " 'Triết Học',\n",
       " 'Sách Khoa Học - Kỹ Thuật',\n",
       " 'Lịch Sử Việt Nam',\n",
       " 'Lịch Sử Thế Giới',\n",
       " 'Âm Nhạc - Điện Ảnh',\n",
       " 'Mỹ Thuật - Kiến Trúc',\n",
       " 'Sách Tô Màu Dành Cho Người Lớn',\n",
       " 'Sách Tôn Giáo - Tâm Linh',\n",
       " 'Sách Danh Nhân',\n",
       " 'Sách Địa Danh - Du Lịch',\n",
       " 'Sách Phong Tục - Tập Quán',\n",
       " 'Luật - Văn Bản Luật',\n",
       " 'Lý Luận Chính Trị',\n",
       " 'Sách Nông - Lâm - Ngư Nghiệp',\n",
       " 'Tin Học Văn Phòng',\n",
       " 'Lập Trình',\n",
       " 'Thiết Kế - Đồ Họa',\n",
       " 'Sách Y Học',\n",
       " 'Tạp Chí - Catalogue',\n",
       " 'Sách Tâm Lý Tuổi Teen',\n",
       " 'Sách Hôn Nhân - Giới Tính',\n",
       " 'Chăm sóc sức khỏe',\n",
       " 'May - Thêu - Thời Trang',\n",
       " 'Sách Làm Đẹp',\n",
       " 'Sách Nấu ăn',\n",
       " 'Thể Dục - Thể Thao']"
      ]
     },
     "execution_count": 61,
     "metadata": {},
     "output_type": "execute_result"
    }
   ],
   "source": [
    "list(df.categories.unique())"
   ]
  },
  {
   "cell_type": "markdown",
   "metadata": {},
   "source": [
    "Thử với loại sách là `Light Novel`"
   ]
  },
  {
   "cell_type": "code",
   "execution_count": 62,
   "metadata": {},
   "outputs": [],
   "source": [
    "lightnovel_df = get_df_by_categories(\"Light novel\")\n",
    "# list(lightnovel_df.name)"
   ]
  },
  {
   "cell_type": "code",
   "execution_count": 63,
   "metadata": {},
   "outputs": [],
   "source": [
    "series = categoricate_book_name(lightnovel_df)"
   ]
  },
  {
   "cell_type": "code",
   "execution_count": 64,
   "metadata": {},
   "outputs": [],
   "source": [
    "# series = pd.DataFrame({\"Series\": list(categoricate_book_name(lightnovel_df))})"
   ]
  },
  {
   "cell_type": "code",
   "execution_count": 65,
   "metadata": {},
   "outputs": [],
   "source": [
    "lightnovel_df.insert(len(lightnovel_df.columns), \"Series\", series)\n",
    "# lightnovel_df = pd.concat([lightnovel_df, series], axis = 1 ,ignore_index=True)"
   ]
  },
  {
   "cell_type": "code",
   "execution_count": 66,
   "metadata": {},
   "outputs": [
    {
     "data": {
      "text/html": [
       "<div>\n",
       "<style scoped>\n",
       "    .dataframe tbody tr th:only-of-type {\n",
       "        vertical-align: middle;\n",
       "    }\n",
       "\n",
       "    .dataframe tbody tr th {\n",
       "        vertical-align: top;\n",
       "    }\n",
       "\n",
       "    .dataframe thead th {\n",
       "        text-align: right;\n",
       "    }\n",
       "</style>\n",
       "<table border=\"1\" class=\"dataframe\">\n",
       "  <thead>\n",
       "    <tr style=\"text-align: right;\">\n",
       "      <th></th>\n",
       "      <th>id</th>\n",
       "      <th>sku</th>\n",
       "      <th>name</th>\n",
       "      <th>short_url</th>\n",
       "      <th>book_cover</th>\n",
       "      <th>price</th>\n",
       "      <th>original_price</th>\n",
       "      <th>discount_rate</th>\n",
       "      <th>rating_average</th>\n",
       "      <th>review_count</th>\n",
       "      <th>...</th>\n",
       "      <th>authors</th>\n",
       "      <th>publisher_vn</th>\n",
       "      <th>publication_date</th>\n",
       "      <th>dimensions</th>\n",
       "      <th>manufacturer</th>\n",
       "      <th>number_of_page</th>\n",
       "      <th>dich_gia</th>\n",
       "      <th>edition</th>\n",
       "      <th>luu_y</th>\n",
       "      <th>Series</th>\n",
       "    </tr>\n",
       "  </thead>\n",
       "  <tbody>\n",
       "    <tr>\n",
       "      <th>189</th>\n",
       "      <td>203957932</td>\n",
       "      <td>4966276852148</td>\n",
       "      <td>Chào Mừng Đến Lớp Học Đề Cao Thực Lực - 4</td>\n",
       "      <td>https://tiki.vn/product-p203957932.html?spid=2...</td>\n",
       "      <td>Bìa mềm</td>\n",
       "      <td>95900</td>\n",
       "      <td>120000</td>\n",
       "      <td>20</td>\n",
       "      <td>5.0</td>\n",
       "      <td>25</td>\n",
       "      <td>...</td>\n",
       "      <td>Kinugasa Syougo</td>\n",
       "      <td>IPM</td>\n",
       "      <td>2022-11-11</td>\n",
       "      <td>13x18 cm</td>\n",
       "      <td>Nhà Xuất Bản Hà Nội</td>\n",
       "      <td>356.0</td>\n",
       "      <td>Thu Hằng</td>\n",
       "      <td>NaN</td>\n",
       "      <td>NaN</td>\n",
       "      <td>0</td>\n",
       "    </tr>\n",
       "    <tr>\n",
       "      <th>208</th>\n",
       "      <td>195969669</td>\n",
       "      <td>9063209978122</td>\n",
       "      <td>Chào Mừng Đến Lớp Học Đề Cao Thực Lực - 3</td>\n",
       "      <td>https://tiki.vn/product-p195969669.html?spid=1...</td>\n",
       "      <td>Bìa mềm</td>\n",
       "      <td>95900</td>\n",
       "      <td>120000</td>\n",
       "      <td>20</td>\n",
       "      <td>4.8</td>\n",
       "      <td>142</td>\n",
       "      <td>...</td>\n",
       "      <td>Kinugasa Syougo</td>\n",
       "      <td>IPM</td>\n",
       "      <td>2022-08-08</td>\n",
       "      <td>18x23 cm</td>\n",
       "      <td>Nhà Xuất Bản Hà Nội</td>\n",
       "      <td>380.0</td>\n",
       "      <td>Hoàng Ngọc</td>\n",
       "      <td>NaN</td>\n",
       "      <td>NaN</td>\n",
       "      <td>0</td>\n",
       "    </tr>\n",
       "  </tbody>\n",
       "</table>\n",
       "<p>2 rows × 25 columns</p>\n",
       "</div>"
      ],
      "text/plain": [
       "            id            sku                                       name  \\\n",
       "189  203957932  4966276852148  Chào Mừng Đến Lớp Học Đề Cao Thực Lực - 4   \n",
       "208  195969669  9063209978122  Chào Mừng Đến Lớp Học Đề Cao Thực Lực - 3   \n",
       "\n",
       "                                             short_url book_cover  price  \\\n",
       "189  https://tiki.vn/product-p203957932.html?spid=2...    Bìa mềm  95900   \n",
       "208  https://tiki.vn/product-p195969669.html?spid=1...    Bìa mềm  95900   \n",
       "\n",
       "     original_price  discount_rate  rating_average  review_count  ...  \\\n",
       "189          120000             20             5.0            25  ...   \n",
       "208          120000             20             4.8           142  ...   \n",
       "\n",
       "             authors publisher_vn  publication_date dimensions  \\\n",
       "189  Kinugasa Syougo          IPM        2022-11-11   13x18 cm   \n",
       "208  Kinugasa Syougo          IPM        2022-08-08   18x23 cm   \n",
       "\n",
       "            manufacturer number_of_page    dich_gia edition luu_y Series  \n",
       "189  Nhà Xuất Bản Hà Nội          356.0    Thu Hằng     NaN   NaN      0  \n",
       "208  Nhà Xuất Bản Hà Nội          380.0  Hoàng Ngọc     NaN   NaN      0  \n",
       "\n",
       "[2 rows x 25 columns]"
      ]
     },
     "execution_count": 66,
     "metadata": {},
     "output_type": "execute_result"
    }
   ],
   "source": [
    "lightnovel_df[lightnovel_df.Series == 0]"
   ]
  },
  {
   "cell_type": "markdown",
   "metadata": {},
   "source": [
    "Thử loại sách `Du ký`"
   ]
  },
  {
   "cell_type": "code",
   "execution_count": 67,
   "metadata": {},
   "outputs": [],
   "source": [
    "duky_df = get_df_by_categories(\"Du ký\")"
   ]
  },
  {
   "cell_type": "code",
   "execution_count": 68,
   "metadata": {},
   "outputs": [],
   "source": [
    "series = categoricate_book_name(lightnovel_df)"
   ]
  },
  {
   "cell_type": "code",
   "execution_count": 69,
   "metadata": {},
   "outputs": [
    {
     "ename": "ValueError",
     "evalue": "Length of values (692) does not match length of index (102)",
     "output_type": "error",
     "traceback": [
      "\u001b[0;31m---------------------------------------------------------------------------\u001b[0m",
      "\u001b[0;31mValueError\u001b[0m                                Traceback (most recent call last)",
      "\u001b[1;32m/Users/marconguyen0802/HCMUS/DataScienceIntroductory/Final/Project/NMKHDL_Final_Project/preprocessing.ipynb Cell 79\u001b[0m in \u001b[0;36m<cell line: 1>\u001b[0;34m()\u001b[0m\n\u001b[0;32m----> <a href='vscode-notebook-cell:/Users/marconguyen0802/HCMUS/DataScienceIntroductory/Final/Project/NMKHDL_Final_Project/preprocessing.ipynb#ch0000078?line=0'>1</a>\u001b[0m duky_df\u001b[39m.\u001b[39;49minsert(\u001b[39mlen\u001b[39;49m(duky_df\u001b[39m.\u001b[39;49mcolumns), \u001b[39m\"\u001b[39;49m\u001b[39mSeries\u001b[39;49m\u001b[39m\"\u001b[39;49m, series)\n",
      "File \u001b[0;32m~/opt/miniconda3/envs/snowpark/lib/python3.8/site-packages/pandas/core/frame.py:4444\u001b[0m, in \u001b[0;36mDataFrame.insert\u001b[0;34m(self, loc, column, value, allow_duplicates)\u001b[0m\n\u001b[1;32m   4441\u001b[0m \u001b[39mif\u001b[39;00m \u001b[39mnot\u001b[39;00m \u001b[39misinstance\u001b[39m(loc, \u001b[39mint\u001b[39m):\n\u001b[1;32m   4442\u001b[0m     \u001b[39mraise\u001b[39;00m \u001b[39mTypeError\u001b[39;00m(\u001b[39m\"\u001b[39m\u001b[39mloc must be int\u001b[39m\u001b[39m\"\u001b[39m)\n\u001b[0;32m-> 4444\u001b[0m value \u001b[39m=\u001b[39m \u001b[39mself\u001b[39;49m\u001b[39m.\u001b[39;49m_sanitize_column(value)\n\u001b[1;32m   4445\u001b[0m \u001b[39mself\u001b[39m\u001b[39m.\u001b[39m_mgr\u001b[39m.\u001b[39minsert(loc, column, value)\n",
      "File \u001b[0;32m~/opt/miniconda3/envs/snowpark/lib/python3.8/site-packages/pandas/core/frame.py:4535\u001b[0m, in \u001b[0;36mDataFrame._sanitize_column\u001b[0;34m(self, value)\u001b[0m\n\u001b[1;32m   4532\u001b[0m     \u001b[39mreturn\u001b[39;00m _reindex_for_setitem(value, \u001b[39mself\u001b[39m\u001b[39m.\u001b[39mindex)\n\u001b[1;32m   4534\u001b[0m \u001b[39mif\u001b[39;00m is_list_like(value):\n\u001b[0;32m-> 4535\u001b[0m     com\u001b[39m.\u001b[39;49mrequire_length_match(value, \u001b[39mself\u001b[39;49m\u001b[39m.\u001b[39;49mindex)\n\u001b[1;32m   4536\u001b[0m \u001b[39mreturn\u001b[39;00m sanitize_array(value, \u001b[39mself\u001b[39m\u001b[39m.\u001b[39mindex, copy\u001b[39m=\u001b[39m\u001b[39mTrue\u001b[39;00m, allow_2d\u001b[39m=\u001b[39m\u001b[39mTrue\u001b[39;00m)\n",
      "File \u001b[0;32m~/opt/miniconda3/envs/snowpark/lib/python3.8/site-packages/pandas/core/common.py:557\u001b[0m, in \u001b[0;36mrequire_length_match\u001b[0;34m(data, index)\u001b[0m\n\u001b[1;32m    553\u001b[0m \u001b[39m\"\"\"\u001b[39;00m\n\u001b[1;32m    554\u001b[0m \u001b[39mCheck the length of data matches the length of the index.\u001b[39;00m\n\u001b[1;32m    555\u001b[0m \u001b[39m\"\"\"\u001b[39;00m\n\u001b[1;32m    556\u001b[0m \u001b[39mif\u001b[39;00m \u001b[39mlen\u001b[39m(data) \u001b[39m!=\u001b[39m \u001b[39mlen\u001b[39m(index):\n\u001b[0;32m--> 557\u001b[0m     \u001b[39mraise\u001b[39;00m \u001b[39mValueError\u001b[39;00m(\n\u001b[1;32m    558\u001b[0m         \u001b[39m\"\u001b[39m\u001b[39mLength of values \u001b[39m\u001b[39m\"\u001b[39m\n\u001b[1;32m    559\u001b[0m         \u001b[39mf\u001b[39m\u001b[39m\"\u001b[39m\u001b[39m(\u001b[39m\u001b[39m{\u001b[39;00m\u001b[39mlen\u001b[39m(data)\u001b[39m}\u001b[39;00m\u001b[39m) \u001b[39m\u001b[39m\"\u001b[39m\n\u001b[1;32m    560\u001b[0m         \u001b[39m\"\u001b[39m\u001b[39mdoes not match length of index \u001b[39m\u001b[39m\"\u001b[39m\n\u001b[1;32m    561\u001b[0m         \u001b[39mf\u001b[39m\u001b[39m\"\u001b[39m\u001b[39m(\u001b[39m\u001b[39m{\u001b[39;00m\u001b[39mlen\u001b[39m(index)\u001b[39m}\u001b[39;00m\u001b[39m)\u001b[39m\u001b[39m\"\u001b[39m\n\u001b[1;32m    562\u001b[0m     )\n",
      "\u001b[0;31mValueError\u001b[0m: Length of values (692) does not match length of index (102)"
     ]
    }
   ],
   "source": [
    "duky_df.insert(len(duky_df.columns), \"Series\", series)"
   ]
  },
  {
   "cell_type": "code",
   "execution_count": 70,
   "metadata": {},
   "outputs": [
    {
     "ename": "AttributeError",
     "evalue": "'DataFrame' object has no attribute 'Series'",
     "output_type": "error",
     "traceback": [
      "\u001b[0;31m---------------------------------------------------------------------------\u001b[0m",
      "\u001b[0;31mAttributeError\u001b[0m                            Traceback (most recent call last)",
      "\u001b[1;32m/Users/marconguyen0802/HCMUS/DataScienceIntroductory/Final/Project/NMKHDL_Final_Project/preprocessing.ipynb Cell 80\u001b[0m in \u001b[0;36m<cell line: 1>\u001b[0;34m()\u001b[0m\n\u001b[0;32m----> <a href='vscode-notebook-cell:/Users/marconguyen0802/HCMUS/DataScienceIntroductory/Final/Project/NMKHDL_Final_Project/preprocessing.ipynb#ch0000079?line=0'>1</a>\u001b[0m duky_df[duky_df\u001b[39m.\u001b[39;49mSeries \u001b[39m==\u001b[39m \u001b[39m0\u001b[39m]\n",
      "File \u001b[0;32m~/opt/miniconda3/envs/snowpark/lib/python3.8/site-packages/pandas/core/generic.py:5575\u001b[0m, in \u001b[0;36mNDFrame.__getattr__\u001b[0;34m(self, name)\u001b[0m\n\u001b[1;32m   5568\u001b[0m \u001b[39mif\u001b[39;00m (\n\u001b[1;32m   5569\u001b[0m     name \u001b[39mnot\u001b[39;00m \u001b[39min\u001b[39;00m \u001b[39mself\u001b[39m\u001b[39m.\u001b[39m_internal_names_set\n\u001b[1;32m   5570\u001b[0m     \u001b[39mand\u001b[39;00m name \u001b[39mnot\u001b[39;00m \u001b[39min\u001b[39;00m \u001b[39mself\u001b[39m\u001b[39m.\u001b[39m_metadata\n\u001b[1;32m   5571\u001b[0m     \u001b[39mand\u001b[39;00m name \u001b[39mnot\u001b[39;00m \u001b[39min\u001b[39;00m \u001b[39mself\u001b[39m\u001b[39m.\u001b[39m_accessors\n\u001b[1;32m   5572\u001b[0m     \u001b[39mand\u001b[39;00m \u001b[39mself\u001b[39m\u001b[39m.\u001b[39m_info_axis\u001b[39m.\u001b[39m_can_hold_identifiers_and_holds_name(name)\n\u001b[1;32m   5573\u001b[0m ):\n\u001b[1;32m   5574\u001b[0m     \u001b[39mreturn\u001b[39;00m \u001b[39mself\u001b[39m[name]\n\u001b[0;32m-> 5575\u001b[0m \u001b[39mreturn\u001b[39;00m \u001b[39mobject\u001b[39;49m\u001b[39m.\u001b[39;49m\u001b[39m__getattribute__\u001b[39;49m(\u001b[39mself\u001b[39;49m, name)\n",
      "\u001b[0;31mAttributeError\u001b[0m: 'DataFrame' object has no attribute 'Series'"
     ]
    }
   ],
   "source": [
    "duky_df[duky_df.Series == 0]"
   ]
  },
  {
   "cell_type": "markdown",
   "metadata": {},
   "source": [
    "Tuy cùng là một cuốn sách, nhưng có nhiều shop khác nhau bán, có mức độ đánh giá trung bình, review của khách hàng, mức khuyến mãi, giá cả khác nhau... dẫn đến việc lựa chọn nên mua ở shop nào."
   ]
  },
  {
   "cell_type": "markdown",
   "metadata": {},
   "source": [
    "---"
   ]
  },
  {
   "cell_type": "markdown",
   "metadata": {},
   "source": [
    "##### **Câu 2**"
   ]
  },
  {
   "cell_type": "markdown",
   "metadata": {},
   "source": [
    "- `rating-average` (Mức độ đánh giá trung bình), `original_price` (Giá gốc sản phẩm), `all_time_quanity_sold` (số lượng sản phẩm bán ra) có liên quan gì đến nhau ?\n",
    "- Ở câu 1 đã cho biết, có các sản phẩm cùng tên nhưng shop khác nhau, dự đoán lí do tại sao có shop bán được nhiều hàng, có shop bán không được nhiều mấy?"
   ]
  },
  {
   "cell_type": "markdown",
   "metadata": {},
   "source": [
    "**Trả lời câu hỏi thành công:** <br>\n",
    "Sẽ hiểu được việc đánh giá của khách hàng sẽ có ảnh hưởng như thế nào đến việc bán sản phẩm của shop.<br>"
   ]
  },
  {
   "cell_type": "code",
   "execution_count": 71,
   "metadata": {},
   "outputs": [],
   "source": [
    "cols_work = [\"rating_average\", \"categories\", \"price\", \"original_price\" ,\"all_time_quantity_sold\"]\n",
    "rcp_df = df[cols_work]"
   ]
  },
  {
   "cell_type": "markdown",
   "metadata": {},
   "source": [
    "`rating_average` được phân bố cho như thế nào? "
   ]
  },
  {
   "cell_type": "code",
   "execution_count": 72,
   "metadata": {},
   "outputs": [
    {
     "data": {
      "text/plain": [
       "14930"
      ]
     },
     "execution_count": 72,
     "metadata": {},
     "output_type": "execute_result"
    }
   ],
   "source": [
    "len(df[df.rating_average > 0])"
   ]
  },
  {
   "cell_type": "code",
   "execution_count": 73,
   "metadata": {},
   "outputs": [
    {
     "name": "stderr",
     "output_type": "stream",
     "text": [
      "/Users/marconguyen0802/opt/miniconda3/envs/snowpark/lib/python3.8/site-packages/scipy/__init__.py:146: UserWarning: A NumPy version >=1.16.5 and <1.23.0 is required for this version of SciPy (detected version 1.23.1\n",
      "  warnings.warn(f\"A NumPy version >={np_minversion} and <{np_maxversion}\"\n"
     ]
    }
   ],
   "source": [
    "from matplotlib import pyplot as plt\n",
    "import seaborn as sns\n",
    "import math"
   ]
  },
  {
   "cell_type": "markdown",
   "metadata": {},
   "source": [
    "Tạo ra một khoảng dữ liệu mức rating: <br>\n",
    "**(0,0)** ứng với 0 sao <br>\n",
    "**(0,1)** ứng với (0,1) <br>\n",
    "**(1,2)** ứng với [1,2) <br>\n",
    "**(2,3)** ứng với [2,3) <br>\n",
    "**(3,4)** ứng với [3,4) <br>\n",
    "**(4,5)** ứng với [4,5) <br>\n",
    "**(5,5)** ứng với 5 sao <br>\n",
    "\n"
   ]
  },
  {
   "cell_type": "code",
   "execution_count": 74,
   "metadata": {},
   "outputs": [],
   "source": [
    "def rating_range(x):\n",
    "    if (x == 0.0):\n",
    "        return (0,0)\n",
    "    elif (x == 5.0):\n",
    "        return (5,5)\n",
    "    else:\n",
    "        return (math.floor(x), math.floor(x+1))"
   ]
  },
  {
   "cell_type": "code",
   "execution_count": 76,
   "metadata": {},
   "outputs": [],
   "source": [
    "rating_range_series = pd.DataFrame({\"rating_range\": rcp_df.rating_average.apply(rating_range)})\n",
    "rcp_df = pd.concat([rcp_df, rating_range_series], axis = 1)\n",
    "# rcp.set_axis([*df.columns[:-1], 'Test'], axis=1, inplace=False)\n"
   ]
  },
  {
   "cell_type": "markdown",
   "metadata": {},
   "source": [
    "Trực quan hóa dữ thông tin lên đồ thị để quan sát dễ dàng."
   ]
  },
  {
   "cell_type": "code",
   "execution_count": 75,
   "metadata": {},
   "outputs": [],
   "source": [
    "def pie_chart(x,y, title):\n",
    "    c = ['lightcoral', 'rosybrown', 'sandybrown', 'navajowhite', 'gold',\n",
    "            'khaki', 'lightskyblue', 'turquoise', 'lightslategrey', 'thistle', 'pink']\n",
    "    plt.figure(figsize=(7,5))\n",
    "    plt.title(title, size=10)\n",
    "#     plt.pie(rcp_df.rating_range.value_counts().sort_index().values, colors=c,shadow=True)\n",
    "    plt.pie(y, colors=c,shadow=True)\n",
    "#     plt.legend(rcp_df.rating_range.value_counts().sort_index().index, loc='best', fontsize=12)\n",
    "    plt.legend(x, loc='best', fontsize=12)"
   ]
  },
  {
   "cell_type": "code",
   "execution_count": 77,
   "metadata": {},
   "outputs": [
    {
     "data": {
      "image/png": "[encoded data removed]",
      "text/plain": [
       "<Figure size 700x500 with 1 Axes>"
      ]
     },
     "metadata": {},
     "output_type": "display_data"
    }
   ],
   "source": [
    "x = rcp_df.rating_range.value_counts().sort_index().index\n",
    "y = rcp_df.rating_range.value_counts().sort_index().values\n",
    "pie_chart(x, y, \"Pie chart show percentage of rating range\")"
   ]
  },
  {
   "cell_type": "markdown",
   "metadata": {},
   "source": [
    "Qua biểu đồ trên, nhận thấy các đánh giá của khách hàng về sản phẩm không nhiều. Vẫn có nhiều mặt hàng được đánh giá là 0 sao.<br>\n",
    "##### Xem thử mối quan hệ giữa `rating_range`, `original_price`, `all_time_quantity_sold`"
   ]
  },
  {
   "cell_type": "code",
   "execution_count": 78,
   "metadata": {},
   "outputs": [],
   "source": [
    "def build_scatterplot(data, x, y, hue: None, ax, title):\n",
    "    sns.scatterplot(data = data, x = x, y = y, ax = ax)\n",
    "    plt.title(title, size = 10)"
   ]
  },
  {
   "cell_type": "code",
   "execution_count": 79,
   "metadata": {},
   "outputs": [
    {
     "data": {
      "image/png": "[encoded data removed]",
      "text/plain": [
       "<Figure size 1000x1000 with 2 Axes>"
      ]
     },
     "metadata": {},
     "output_type": "display_data"
    }
   ],
   "source": [
    "fig, axs = plt.subplots(2,1, figsize = (10,10))\n",
    "build_scatterplot(rcp_df, x = \"rating_average\", y = \"original_price\", ax=axs[0], title = \"Dispersion of rating_average by original_price\", hue = None)\n",
    "build_scatterplot(rcp_df, x = \"rating_average\", y = \"all_time_quantity_sold\", ax=axs[1], title = \"Dispersion of rating_average by all_time_quantity_sold\", hue = None)\n",
    "plt.tight_layout()"
   ]
  },
  {
   "cell_type": "markdown",
   "metadata": {},
   "source": [
    "###### Đánh giá câu hỏi\n",
    "Với đồ thị theo giá gốc của các quyển sách, hầu như tất cả giá trị đều trong vùng từ 0 đến 300 ngàn đồng là chủ yếu. Tuy nhiên với độ đánh giá là `0 sao`, hầu như số lượt mua hàng xấp xỉ hoặc hoàn toàn là 0 mặc dù sách ở mức đánh giá `0 sao` có tương đối nhiều sách được bán <br>\n",
    "<br>\n",
    "Việc có thể có được mức đánh giá trung bình cao nhưng lại khá ít đơn đặt hàng, theo em dự đoán rằng:<br>\n",
    "Việc mua hàng đối với các khách hàng đầu tiên đã xảy ra 1 vài trục trặc (như hư hỏng, không đúng như trong mô tả sản phẩm,...), dẫn tới sự kém tin tưởng của shop, nên dẫn đến mức đánh giá trung bình ngày một thấp đi. Số khách hàng đến sau dựa vào 1 số bình luận, số lượt đánh giá có trên tiki đưa ra quyết định mua hàng của mình.<br>\n",
    "Ngoài ra, thông tin được tìm kiếm ở câu 1, có một số cuốn sách bị trùng tên nhưng có nhiều shop bán. Việc một shop đầy sự tin tưởng trong suốt quá trình bán online trên tiki, dẫn đến việc khách hàng cũ sẽ ưu tiên mua sách ở shop quen thuộc hơn là mua ở một shop có lượt rating thấp."
   ]
  },
  {
   "cell_type": "markdown",
   "metadata": {},
   "source": [
    "---"
   ]
  },
  {
   "cell_type": "markdown",
   "metadata": {},
   "source": [
    "##### **Câu 3**"
   ]
  },
  {
   "cell_type": "markdown",
   "metadata": {},
   "source": [
    "- Khách hàng có thật sự quan trọng để ý đến loại phiên bản và bìa sách?"
   ]
  },
  {
   "cell_type": "markdown",
   "metadata": {},
   "source": [
    "**Trả lời câu hỏi thành công** <br>\n",
    "Nếu chúng ta biết được nhu cầu của khách hàng, việc sản xuất cho nhà nhà sản xuất sẽ thuận tiện hơn, đáp ứng dược cung cầu của thị trường. Từ đó sẽ phát triển hơn trong việc phát hành sách"
   ]
  },
  {
   "cell_type": "markdown",
   "metadata": {},
   "source": [
    "Nhiều thể loại sách khác nhau sẽ có những loại `book_cover` và `edition` khác nhau.\n",
    "Ta vẫn tiếp tục thử với thể loại `Light novel` "
   ]
  },
  {
   "cell_type": "code",
   "execution_count": 119,
   "metadata": {},
   "outputs": [
    {
     "name": "stdout",
     "output_type": "stream",
     "text": [
      "[nan, 'Tặng kèm bookmark & thiệp', 'Bản Giới Hạn', 'Đầu tiên', 'Bản Đặc Biệt']\n",
      "['Bìa mềm', nan, 'Bìa rời', 'Bìa cứng']\n"
     ]
    }
   ],
   "source": [
    "new_df = get_df_by_categories('Light novel')\n",
    "print(list(new_df.edition.unique()))\n",
    "print(list(new_df.book_cover.unique()))"
   ]
  },
  {
   "cell_type": "markdown",
   "metadata": {},
   "source": [
    "Hmm ta vẫn còn thấy dữ liệu chưa được xử lý để phục vụ cho câu hỏi này. Ta sẽ thay đổi các `nan` thành `None`"
   ]
  },
  {
   "cell_type": "code",
   "execution_count": 160,
   "metadata": {},
   "outputs": [
    {
     "data": {
      "text/plain": [
       "array(['Bìa mềm', 'None', 'Bìa rời', 'Bìa cứng'], dtype=object)"
      ]
     },
     "execution_count": 160,
     "metadata": {},
     "output_type": "execute_result"
    }
   ],
   "source": [
    "new_df.loc[new_df.edition.isnull(), 'edition'] = 'None'\n",
    "new_df.loc[new_df.book_cover.isnull(), 'book_cover'] = 'None'"
   ]
  },
  {
   "cell_type": "markdown",
   "metadata": {},
   "source": [
    "Ta sẽ trực quan hoá bằng biểu đồ đễ tiện quan sát hơn"
   ]
  },
  {
   "cell_type": "code",
   "execution_count": 162,
   "metadata": {},
   "outputs": [
    {
     "data": {
      "text/plain": [
       "[Text(0.5, 0, 'Edition & Book Cover'), Text(0, 0.5, 'Quantity Sold')]"
      ]
     },
     "execution_count": 162,
     "metadata": {},
     "output_type": "execute_result"
    },
    {
     "data": {
      "image/png": "[encoded data removed]",
      "text/plain": [
       "<Figure size 1500x800 with 1 Axes>"
      ]
     },
     "metadata": {},
     "output_type": "display_data"
    }
   ],
   "source": [
    "plot_df = new_df.groupby(['edition', 'book_cover'])['all_time_quantity_sold'].sum()\n",
    "plot_df\n",
    "plt.style.use('ggplot')\n",
    "fig, ax = plt.subplots(figsize=(15, 8))\n",
    "ax = plot_df.plot(kind = 'bar', rot = 45)\n",
    "ax.set_title('The quantity sold categorized by Edition and Book cover')\n",
    "ax.set(xlabel = 'Edition & Book Cover', ylabel = 'Quantity Sold')\n"
   ]
  },
  {
   "cell_type": "markdown",
   "metadata": {},
   "source": [
    "Hmm ta có thể thấy rõ rằng là mọi người mua thể loại `Light novel` này đa số là quan tâm bản thường và có loại bìa mềm, chiếm hơn thể loại bản thường và không có bìa"
   ]
  },
  {
   "cell_type": "markdown",
   "metadata": {},
   "source": [
    "---"
   ]
  },
  {
   "cell_type": "markdown",
   "metadata": {},
   "source": [
    "##### **Câu 4**"
   ]
  },
  {
   "cell_type": "markdown",
   "metadata": {},
   "source": [
    "- "
   ]
  },
  {
   "cell_type": "markdown",
   "metadata": {},
   "source": [
    "**Trả lời câu hỏi thành công** <br>\n"
   ]
  },
  {
   "cell_type": "markdown",
   "metadata": {},
   "source": [
    "---"
   ]
  }
 ],
 "metadata": {
  "kernelspec": {
   "display_name": "Python 3.8.13 ('snowpark')",
   "language": "python",
   "name": "python3"
  },
  "language_info": {
   "codemirror_mode": {
    "name": "ipython",
    "version": 3
   },
   "file_extension": ".py",
   "mimetype": "text/x-python",
   "name": "python",
   "nbconvert_exporter": "python",
   "pygments_lexer": "ipython3",
   "version": "3.8.13"
  },
  "vscode": {
   "interpreter": {
    "hash": "f0e576497e7f0cd170033b22c9228365e4554dde65087776f85da92d482e89fe"
   }
  }
 },
 "nbformat": 4,
 "nbformat_minor": 2
}
